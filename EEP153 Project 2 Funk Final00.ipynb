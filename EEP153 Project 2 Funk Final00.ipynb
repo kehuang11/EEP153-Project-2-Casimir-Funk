{
 "cells": [
  {
   "cell_type": "markdown",
   "id": "0631b6fd",
   "metadata": {},
   "source": [
    "# Minimum Cost Diet Problem: Group Casimir Funk"
   ]
  },
  {
   "cell_type": "markdown",
   "id": "0e1f14e4",
   "metadata": {},
   "source": [
    "## Topic: Vegan Teacher vs Liver King: Comparing Food Populations In Berkeley"
   ]
  },
  {
   "cell_type": "markdown",
   "id": "95b22fcb",
   "metadata": {},
   "source": [
    "## Objectives:"
   ]
  },
  {
   "cell_type": "markdown",
   "id": "e7222c08",
   "metadata": {},
   "source": [
    "* Develop code to find the minimum pricing for maximum nutrition content for all three diets\n",
    "\n",
    "* Compare feasibility, health and pricing of all three diets in Berkeley, California\n",
    "\n",
    "* Create recipes that fulfill the minimum nutrient requirements for each diet and compare their pricing"
   ]
  },
  {
   "cell_type": "markdown",
   "id": "4f797e7d",
   "metadata": {},
   "source": [
    "## Table of Contents:\n",
    "* [[A] Description of population of interest](#description)\n",
    "* [[A] Dietary Reference Intakes ](#dri)\n",
    "* [[A] Data on prices for different foods](#prices)\n",
    "* [[A] Nutritional content of different foods](#nutrition)\n",
    "* [[A] Solution](#solution)\n",
    "* [[C] Sensitivity of Solution](#sensitivity)"
   ]
  },
  {
   "cell_type": "markdown",
   "id": "617313d0",
   "metadata": {},
   "source": [
    "#### Setup"
   ]
  },
  {
   "cell_type": "code",
   "execution_count": 93,
   "id": "d30da2fe",
   "metadata": {},
   "outputs": [
    {
     "name": "stdout",
     "output_type": "stream",
     "text": [
      "Requirement already satisfied: pint>=0.18 in /opt/conda/lib/python3.9/site-packages (from -r requirements.txt (line 3)) (0.20.1)\n",
      "Requirement already satisfied: requests>=2.26.0 in /opt/conda/lib/python3.9/site-packages (from -r requirements.txt (line 6)) (2.28.2)\n",
      "Requirement already satisfied: python-gnupg in /opt/conda/lib/python3.9/site-packages (from -r requirements.txt (line 8)) (0.5.0)\n",
      "Requirement already satisfied: eep153_tools in /opt/conda/lib/python3.9/site-packages (from -r requirements.txt (line 10)) (0.11)\n",
      "Requirement already satisfied: fooddatacentral in /opt/conda/lib/python3.9/site-packages (from -r requirements.txt (line 12)) (1.0.9)\n",
      "Requirement already satisfied: certifi>=2017.4.17 in /opt/conda/lib/python3.9/site-packages (from requests>=2.26.0->-r requirements.txt (line 6)) (2021.10.8)\n",
      "Requirement already satisfied: charset-normalizer<4,>=2 in /opt/conda/lib/python3.9/site-packages (from requests>=2.26.0->-r requirements.txt (line 6)) (2.0.0)\n",
      "Requirement already satisfied: idna<4,>=2.5 in /opt/conda/lib/python3.9/site-packages (from requests>=2.26.0->-r requirements.txt (line 6)) (3.1)\n",
      "Requirement already satisfied: urllib3<1.27,>=1.21.1 in /opt/conda/lib/python3.9/site-packages (from requests>=2.26.0->-r requirements.txt (line 6)) (1.26.7)\n"
     ]
    }
   ],
   "source": [
    "!pip install -r requirements.txt --upgrade\n",
    "\n",
    "import pandas as pd\n",
    "from eep153_tools.sheets import read_sheets\n",
    "import fooddatacentral as fdc\n",
    "import warnings\n",
    "from  scipy.optimize import linprog as lp\n",
    "import numpy as np\n",
    "import warnings\n",
    "import cufflinks as cf"
   ]
  },
  {
   "cell_type": "code",
   "execution_count": 94,
   "id": "6dc362bc",
   "metadata": {},
   "outputs": [],
   "source": [
    "# API key; substitute your own!\n",
    "apikey = \"Hfo8BxP2zgYjatcMv4zuDmmCkzhiwzWWNJYE3iOQ\""
   ]
  },
  {
   "cell_type": "markdown",
   "id": "748986c5",
   "metadata": {},
   "source": [
    "## [A] Description of population of interest <a class=\"anchor\" id=\"description\"></a>"
   ]
  },
  {
   "cell_type": "markdown",
   "id": "e190e372",
   "metadata": {},
   "source": [
    "We’ve decided to study the minimum viable diet of raw vegans in comparison to raw meat diets and how both compare in price to the minimum for the USDA recommended diet. Our population of interests are students at UC Berkeley, which we haved generalized in our project to being ages 19-30. "
   ]
  },
  {
   "cell_type": "markdown",
   "id": "eeff8d4e",
   "metadata": {},
   "source": [
    "## [A] Dietary Reference Intakes  <a class=\"anchor\" id=\"dri\"></a>"
   ]
  },
  {
   "cell_type": "markdown",
   "id": "cf50664f",
   "metadata": {},
   "source": [
    "minimum_nutrients() and  maximum_nutrients() takes as arguments the characteristics of a\n",
    "person (e.g., age, sex) and returns a pandas.Series of Dietary Reference Intakes (DRI's) of a variety of nutrients appropriate for your population of interest."
   ]
  },
  {
   "cell_type": "code",
   "execution_count": 95,
   "id": "c53480fb",
   "metadata": {},
   "outputs": [],
   "source": [
    "def minimum_nutrients(age, sex):\n",
    "    ntmin = pd.read_csv('./diet_minimums.csv').set_index('Nutrition').iloc[:,2:]\n",
    "    headers = ntmin.columns.values\n",
    "    sex = sex.lower()\n",
    "    male = lambda x:x if 'M' in x or 'C' in x else None\n",
    "    female = lambda x:x if 'F' in x or 'C' in x else None\n",
    "    if sex == 'male' or sex == 'm':\n",
    "        filtered = [male(x) for x in headers]\n",
    "        temp = [x for x in filtered if x is not None]\n",
    "    elif sex == 'female' or sex == 'f':\n",
    "        filtered = [female(x) for x in headers]\n",
    "        temp = [x for x in filtered if x is not None]\n",
    "    if age < 4:\n",
    "        return ntmin[temp[0]]\n",
    "    elif age < 9:\n",
    "        return ntmin[temp[1]]\n",
    "    elif age < 14:\n",
    "        return ntmin[temp[2]]\n",
    "    elif age < 19:\n",
    "        return ntmin[temp[3]]\n",
    "    elif age < 31:\n",
    "        return ntmin[temp[4]]\n",
    "    elif age < 51: \n",
    "        return ntmin[temp[5]]\n",
    "    else:\n",
    "        return ntmin[temp[6]]"
   ]
  },
  {
   "cell_type": "code",
   "execution_count": 96,
   "id": "1152350d",
   "metadata": {},
   "outputs": [],
   "source": [
    "def maximum_nutrients(age, sex):\n",
    "    ntmax = pd.read_csv('./diet_maximums.csv').set_index('Nutrition').iloc[:,2:]\n",
    "    headers = ntmax.columns.values\n",
    "    sex = sex.lower()\n",
    "    male = lambda x:x if 'M' in x or 'C' in x else None\n",
    "    female = lambda x:x if 'F' in x or 'C' in x else None\n",
    "    if sex == 'male' or sex == 'm':\n",
    "        filtered = [male(x) for x in headers]\n",
    "        temp = [x for x in filtered if x is not None]\n",
    "    elif sex == 'female' or sex == 'f':\n",
    "        filtered = [female(x) for x in headers]\n",
    "        temp = [x for x in filtered if x is not None]\n",
    "    if age < 4:\n",
    "        return ntmax[temp[0]]\n",
    "    elif age < 9:\n",
    "        return ntmax[temp[1]]\n",
    "    elif age < 14:\n",
    "        return ntmax[temp[2]]\n",
    "    elif age < 19:\n",
    "        return ntmax[temp[3]]\n",
    "    elif age < 31:\n",
    "        return ntmax[temp[4]]\n",
    "    elif age < 51: \n",
    "        return ntmin[temp[5]]\n",
    "    else:\n",
    "        return ntmin[temp[6]]"
   ]
  },
  {
   "cell_type": "code",
   "execution_count": 97,
   "id": "a39a59b0",
   "metadata": {},
   "outputs": [
    {
     "data": {
      "text/plain": [
       "Nutrition\n",
       "Energy                            2400.0\n",
       "Protein                             56.0\n",
       "Fiber, total dietary                33.6\n",
       "Folate, DFE                        400.0\n",
       "Calcium, Ca                       1000.0\n",
       "Carbohydrate, by difference        130.0\n",
       "Iron, Fe                             8.0\n",
       "Magnesium, Mg                      400.0\n",
       "Niacin                              16.0\n",
       "Phosphorus, P                      700.0\n",
       "Potassium, K                      4700.0\n",
       "Riboflavin                           1.3\n",
       "Thiamin                              1.2\n",
       "Vitamin A, RAE                     900.0\n",
       "Vitamin B-12                         2.4\n",
       "Vitamin B-6                          1.3\n",
       "Vitamin C, total ascorbic acid      90.0\n",
       "Vitamin E (alpha-tocopherol)        15.0\n",
       "Vitamin K (phylloquinone)          120.0\n",
       "Zinc, Zn                            11.0\n",
       "Name: M 19-30, dtype: float64"
      ]
     },
     "execution_count": 97,
     "metadata": {},
     "output_type": "execute_result"
    }
   ],
   "source": [
    "minimum_nutrients(21,'m')"
   ]
  },
  {
   "cell_type": "code",
   "execution_count": 98,
   "id": "4588f779",
   "metadata": {},
   "outputs": [
    {
     "data": {
      "text/plain": [
       "Nutrition\n",
       "Sodium, Na    2300\n",
       "Name: M 19-30, dtype: int64"
      ]
     },
     "execution_count": 98,
     "metadata": {},
     "output_type": "execute_result"
    }
   ],
   "source": [
    "maximum_nutrients(21,'m')"
   ]
  },
  {
   "cell_type": "markdown",
   "id": "c82f9e9e",
   "metadata": {},
   "source": [
    "## [A] Data on prices for different foods <a class=\"anchor\" id=\"prices\"></a>"
   ]
  },
  {
   "cell_type": "markdown",
   "id": "52e7e4a4",
   "metadata": {},
   "source": [
    "Retrieves our google spreadsheet of different prices for both raw meat and raw vegan diets, and concatenates them into a Dataframe."
   ]
  },
  {
   "cell_type": "code",
   "execution_count": 99,
   "id": "83d577e0",
   "metadata": {},
   "outputs": [
    {
     "name": "stdout",
     "output_type": "stream",
     "text": [
      "Key available for students@eep153.iam.gserviceaccount.com.\n"
     ]
    }
   ],
   "source": [
    "sheets = [(\"https://docs.google.com/spreadsheets/d/1GuSUsrGc5GX6hPerOCEJTDN22wVadD62NtyRLToH-Ho/edit#gid=0\",\n",
    "           \"Ingredients\")]\n",
    "\n",
    "df = read_sheets(sheets[0][0])[sheets[0][1]]"
   ]
  },
  {
   "cell_type": "markdown",
   "id": "dd96ed44",
   "metadata": {},
   "source": [
    "### Raw Meat Diet prices"
   ]
  },
  {
   "cell_type": "code",
   "execution_count": 100,
   "id": "ee647dc2",
   "metadata": {},
   "outputs": [
    {
     "data": {
      "text/html": [
       "<div>\n",
       "<style scoped>\n",
       "    .dataframe tbody tr th:only-of-type {\n",
       "        vertical-align: middle;\n",
       "    }\n",
       "\n",
       "    .dataframe tbody tr th {\n",
       "        vertical-align: top;\n",
       "    }\n",
       "\n",
       "    .dataframe thead th {\n",
       "        text-align: right;\n",
       "    }\n",
       "</style>\n",
       "<table border=\"1\" class=\"dataframe\">\n",
       "  <thead>\n",
       "    <tr style=\"text-align: right;\">\n",
       "      <th></th>\n",
       "      <th>Food</th>\n",
       "      <th>Quantity</th>\n",
       "      <th>Units</th>\n",
       "      <th>Price</th>\n",
       "      <th>Date</th>\n",
       "      <th>Location</th>\n",
       "      <th>FDC</th>\n",
       "      <th>RAW VEGAN</th>\n",
       "      <th>RAW MEAT</th>\n",
       "    </tr>\n",
       "  </thead>\n",
       "  <tbody>\n",
       "    <tr>\n",
       "      <th>0</th>\n",
       "      <td>Beef</td>\n",
       "      <td>1.00</td>\n",
       "      <td>lb</td>\n",
       "      <td>12.99</td>\n",
       "      <td>2-22-2023</td>\n",
       "      <td>Wholefood</td>\n",
       "      <td>746760</td>\n",
       "      <td></td>\n",
       "      <td>v</td>\n",
       "    </tr>\n",
       "    <tr>\n",
       "      <th>1</th>\n",
       "      <td>Pork</td>\n",
       "      <td>1.00</td>\n",
       "      <td>lb</td>\n",
       "      <td>9.99</td>\n",
       "      <td>2-26-2023</td>\n",
       "      <td>Wholefood</td>\n",
       "      <td>749420</td>\n",
       "      <td></td>\n",
       "      <td>v</td>\n",
       "    </tr>\n",
       "    <tr>\n",
       "      <th>2</th>\n",
       "      <td>Chicken, drumstick</td>\n",
       "      <td>1.00</td>\n",
       "      <td>lb</td>\n",
       "      <td>3.99</td>\n",
       "      <td>2-26-2023</td>\n",
       "      <td>Wholefood</td>\n",
       "      <td>331897</td>\n",
       "      <td></td>\n",
       "      <td>v</td>\n",
       "    </tr>\n",
       "    <tr>\n",
       "      <th>3</th>\n",
       "      <td>Canned Tuna</td>\n",
       "      <td>5.00</td>\n",
       "      <td>oz</td>\n",
       "      <td>0.99</td>\n",
       "      <td>2-27-2023</td>\n",
       "      <td>Wholefood</td>\n",
       "      <td>334194</td>\n",
       "      <td></td>\n",
       "      <td>v</td>\n",
       "    </tr>\n",
       "    <tr>\n",
       "      <th>4</th>\n",
       "      <td>Atlantic Salmon</td>\n",
       "      <td>1.00</td>\n",
       "      <td>lb</td>\n",
       "      <td>15.99</td>\n",
       "      <td>2-27-2023</td>\n",
       "      <td>Wholefood</td>\n",
       "      <td>175167</td>\n",
       "      <td></td>\n",
       "      <td>v</td>\n",
       "    </tr>\n",
       "    <tr>\n",
       "      <th>5</th>\n",
       "      <td>Bison</td>\n",
       "      <td>16.00</td>\n",
       "      <td>oz</td>\n",
       "      <td>10.99</td>\n",
       "      <td>2-27-2023</td>\n",
       "      <td>Wholefood</td>\n",
       "      <td>175293</td>\n",
       "      <td></td>\n",
       "      <td>v</td>\n",
       "    </tr>\n",
       "    <tr>\n",
       "      <th>6</th>\n",
       "      <td>Bacon</td>\n",
       "      <td>1.00</td>\n",
       "      <td>lb</td>\n",
       "      <td>7.99</td>\n",
       "      <td>2-26-2023</td>\n",
       "      <td>Wholefood</td>\n",
       "      <td>749420</td>\n",
       "      <td></td>\n",
       "      <td>v</td>\n",
       "    </tr>\n",
       "    <tr>\n",
       "      <th>7</th>\n",
       "      <td>Eggs</td>\n",
       "      <td>270.00</td>\n",
       "      <td>oz</td>\n",
       "      <td>5.99</td>\n",
       "      <td>2-26-2023</td>\n",
       "      <td>Wholefood</td>\n",
       "      <td>748967</td>\n",
       "      <td></td>\n",
       "      <td>v</td>\n",
       "    </tr>\n",
       "    <tr>\n",
       "      <th>8</th>\n",
       "      <td>Turkey</td>\n",
       "      <td>1.00</td>\n",
       "      <td>lb</td>\n",
       "      <td>12.99</td>\n",
       "      <td>2-26-2023</td>\n",
       "      <td>Wholefood</td>\n",
       "      <td>746785</td>\n",
       "      <td></td>\n",
       "      <td>v</td>\n",
       "    </tr>\n",
       "    <tr>\n",
       "      <th>9</th>\n",
       "      <td>Sausage</td>\n",
       "      <td>1.00</td>\n",
       "      <td>lb</td>\n",
       "      <td>6.99</td>\n",
       "      <td>2-26-2023</td>\n",
       "      <td>Wholefood</td>\n",
       "      <td>746783</td>\n",
       "      <td></td>\n",
       "      <td>v</td>\n",
       "    </tr>\n",
       "    <tr>\n",
       "      <th>10</th>\n",
       "      <td>Butter</td>\n",
       "      <td>8.00</td>\n",
       "      <td>oz</td>\n",
       "      <td>5.99</td>\n",
       "      <td>2-26-2023</td>\n",
       "      <td>Wholefood</td>\n",
       "      <td>790508</td>\n",
       "      <td></td>\n",
       "      <td>v</td>\n",
       "    </tr>\n",
       "    <tr>\n",
       "      <th>11</th>\n",
       "      <td>Raw Liver</td>\n",
       "      <td>1.00</td>\n",
       "      <td>lb</td>\n",
       "      <td>2.99</td>\n",
       "      <td>2-26-2023</td>\n",
       "      <td>Wholefood</td>\n",
       "      <td>2341562</td>\n",
       "      <td></td>\n",
       "      <td>v</td>\n",
       "    </tr>\n",
       "    <tr>\n",
       "      <th>12</th>\n",
       "      <td>Whole milk</td>\n",
       "      <td>8.34</td>\n",
       "      <td>lb</td>\n",
       "      <td>6.29</td>\n",
       "      <td>2-27-2023</td>\n",
       "      <td>Wholefood</td>\n",
       "      <td>746766</td>\n",
       "      <td></td>\n",
       "      <td>v</td>\n",
       "    </tr>\n",
       "    <tr>\n",
       "      <th>13</th>\n",
       "      <td>Yogurt</td>\n",
       "      <td>32.00</td>\n",
       "      <td>oz</td>\n",
       "      <td>4.99</td>\n",
       "      <td>2-27-2023</td>\n",
       "      <td>Wholefood</td>\n",
       "      <td>330137</td>\n",
       "      <td></td>\n",
       "      <td>v</td>\n",
       "    </tr>\n",
       "    <tr>\n",
       "      <th>14</th>\n",
       "      <td>2% milk</td>\n",
       "      <td>8.34</td>\n",
       "      <td>lb</td>\n",
       "      <td>4.49</td>\n",
       "      <td>2-27-2023</td>\n",
       "      <td>Wholefood</td>\n",
       "      <td>746778</td>\n",
       "      <td></td>\n",
       "      <td>v</td>\n",
       "    </tr>\n",
       "    <tr>\n",
       "      <th>15</th>\n",
       "      <td>Cheddar Cheese</td>\n",
       "      <td>1.00</td>\n",
       "      <td>lb</td>\n",
       "      <td>8.49</td>\n",
       "      <td>2-27-2023</td>\n",
       "      <td>Wholefood</td>\n",
       "      <td>328637</td>\n",
       "      <td></td>\n",
       "      <td>v</td>\n",
       "    </tr>\n",
       "    <tr>\n",
       "      <th>16</th>\n",
       "      <td>Swiss Cheese</td>\n",
       "      <td>1.00</td>\n",
       "      <td>lb</td>\n",
       "      <td>9.99</td>\n",
       "      <td>2-27-2023</td>\n",
       "      <td>Wholefood</td>\n",
       "      <td>746767</td>\n",
       "      <td></td>\n",
       "      <td>v</td>\n",
       "    </tr>\n",
       "    <tr>\n",
       "      <th>17</th>\n",
       "      <td>Ghee</td>\n",
       "      <td>7.50</td>\n",
       "      <td>oz</td>\n",
       "      <td>9.79</td>\n",
       "      <td>2-27-2023</td>\n",
       "      <td>Wholefood</td>\n",
       "      <td>171314</td>\n",
       "      <td></td>\n",
       "      <td>v</td>\n",
       "    </tr>\n",
       "    <tr>\n",
       "      <th>18</th>\n",
       "      <td>Russet Potato</td>\n",
       "      <td>1.00</td>\n",
       "      <td>lb</td>\n",
       "      <td>1.69</td>\n",
       "      <td>2-22-2023</td>\n",
       "      <td>https://www.wholefoodsmarket.com/product/produ...</td>\n",
       "      <td>170027</td>\n",
       "      <td>v</td>\n",
       "      <td>v</td>\n",
       "    </tr>\n",
       "    <tr>\n",
       "      <th>19</th>\n",
       "      <td>Pasta</td>\n",
       "      <td>16.00</td>\n",
       "      <td>oz</td>\n",
       "      <td>1.59</td>\n",
       "      <td>2-22-2023</td>\n",
       "      <td>https://www.wholefoodsmarket.com/product/365-b...</td>\n",
       "      <td>172014</td>\n",
       "      <td>v</td>\n",
       "      <td>v</td>\n",
       "    </tr>\n",
       "    <tr>\n",
       "      <th>20</th>\n",
       "      <td>Lemon, raw</td>\n",
       "      <td>58.00</td>\n",
       "      <td>grams</td>\n",
       "      <td>0.99</td>\n",
       "      <td>2023-2-27</td>\n",
       "      <td>https://www.wholefoodsmarket.com/product/produ...</td>\n",
       "      <td>2344662</td>\n",
       "      <td>v</td>\n",
       "      <td>v</td>\n",
       "    </tr>\n",
       "    <tr>\n",
       "      <th>21</th>\n",
       "      <td>Lime, raw</td>\n",
       "      <td>67.00</td>\n",
       "      <td>grams</td>\n",
       "      <td>0.69</td>\n",
       "      <td>2023-2-27</td>\n",
       "      <td>https://www.wholefoodsmarket.com/product/produ...</td>\n",
       "      <td>2344664</td>\n",
       "      <td>v</td>\n",
       "      <td>v</td>\n",
       "    </tr>\n",
       "    <tr>\n",
       "      <th>22</th>\n",
       "      <td>Nuts, pecans, halves, raw</td>\n",
       "      <td>7.00</td>\n",
       "      <td>oz</td>\n",
       "      <td>11.79</td>\n",
       "      <td>2023-2-27</td>\n",
       "      <td>https://www.wholefoodsmarket.com/product/auror...</td>\n",
       "      <td>2346395</td>\n",
       "      <td>v</td>\n",
       "      <td>v</td>\n",
       "    </tr>\n",
       "    <tr>\n",
       "      <th>23</th>\n",
       "      <td>Nuts, walnuts, English, halves, raw</td>\n",
       "      <td>8.00</td>\n",
       "      <td>oz</td>\n",
       "      <td>5.99</td>\n",
       "      <td>2023-2-27</td>\n",
       "      <td>https://www.wholefoodsmarket.com/product/365-b...</td>\n",
       "      <td>2346394</td>\n",
       "      <td>v</td>\n",
       "      <td>v</td>\n",
       "    </tr>\n",
       "    <tr>\n",
       "      <th>24</th>\n",
       "      <td>Cashews, NFS</td>\n",
       "      <td>10.00</td>\n",
       "      <td>oz</td>\n",
       "      <td>8.79</td>\n",
       "      <td>2023-2-27</td>\n",
       "      <td>https://www.wholefoodsmarket.com/product/365-b...</td>\n",
       "      <td>2342970</td>\n",
       "      <td>v</td>\n",
       "      <td>v</td>\n",
       "    </tr>\n",
       "    <tr>\n",
       "      <th>25</th>\n",
       "      <td>Pistachio nuts, NFS</td>\n",
       "      <td>16.00</td>\n",
       "      <td>oz</td>\n",
       "      <td>7.39</td>\n",
       "      <td>2023-2-27</td>\n",
       "      <td>https://www.wholefoodsmarket.com/product/365-b...</td>\n",
       "      <td>2343004</td>\n",
       "      <td>v</td>\n",
       "      <td>v</td>\n",
       "    </tr>\n",
       "    <tr>\n",
       "      <th>26</th>\n",
       "      <td>Almond butter, creamy</td>\n",
       "      <td>16.00</td>\n",
       "      <td>oz</td>\n",
       "      <td>8.49</td>\n",
       "      <td>2023-2-27</td>\n",
       "      <td>https://www.safeway.com/shop/product-details.9...</td>\n",
       "      <td>2262074</td>\n",
       "      <td>v</td>\n",
       "      <td>v</td>\n",
       "    </tr>\n",
       "    <tr>\n",
       "      <th>27</th>\n",
       "      <td>Peanut butter, creamy</td>\n",
       "      <td>16.00</td>\n",
       "      <td>oz</td>\n",
       "      <td>4.49</td>\n",
       "      <td>2023-2-27</td>\n",
       "      <td>https://www.safeway.com/shop/product-details.1...</td>\n",
       "      <td>2262072</td>\n",
       "      <td>v</td>\n",
       "      <td>v</td>\n",
       "    </tr>\n",
       "  </tbody>\n",
       "</table>\n",
       "</div>"
      ],
      "text/plain": [
       "                                   Food  Quantity  Units  Price       Date  \\\n",
       "0                                  Beef      1.00     lb  12.99  2-22-2023   \n",
       "1                                  Pork      1.00     lb   9.99  2-26-2023   \n",
       "2                    Chicken, drumstick      1.00     lb   3.99  2-26-2023   \n",
       "3                           Canned Tuna      5.00     oz   0.99  2-27-2023   \n",
       "4                       Atlantic Salmon      1.00     lb  15.99  2-27-2023   \n",
       "5                                 Bison     16.00     oz  10.99  2-27-2023   \n",
       "6                                 Bacon      1.00     lb   7.99  2-26-2023   \n",
       "7                                  Eggs    270.00     oz   5.99  2-26-2023   \n",
       "8                                Turkey      1.00     lb  12.99  2-26-2023   \n",
       "9                               Sausage      1.00     lb   6.99  2-26-2023   \n",
       "10                               Butter      8.00     oz   5.99  2-26-2023   \n",
       "11                            Raw Liver      1.00     lb   2.99  2-26-2023   \n",
       "12                           Whole milk      8.34     lb   6.29  2-27-2023   \n",
       "13                               Yogurt     32.00     oz   4.99  2-27-2023   \n",
       "14                              2% milk      8.34     lb   4.49  2-27-2023   \n",
       "15                       Cheddar Cheese      1.00     lb   8.49  2-27-2023   \n",
       "16                         Swiss Cheese      1.00     lb   9.99  2-27-2023   \n",
       "17                                 Ghee      7.50     oz   9.79  2-27-2023   \n",
       "18                        Russet Potato      1.00     lb   1.69  2-22-2023   \n",
       "19                                Pasta     16.00     oz   1.59  2-22-2023   \n",
       "20                           Lemon, raw     58.00  grams   0.99  2023-2-27   \n",
       "21                            Lime, raw     67.00  grams   0.69  2023-2-27   \n",
       "22            Nuts, pecans, halves, raw      7.00     oz  11.79  2023-2-27   \n",
       "23  Nuts, walnuts, English, halves, raw      8.00     oz   5.99  2023-2-27   \n",
       "24                         Cashews, NFS     10.00     oz   8.79  2023-2-27   \n",
       "25                  Pistachio nuts, NFS     16.00     oz   7.39  2023-2-27   \n",
       "26                Almond butter, creamy     16.00     oz   8.49  2023-2-27   \n",
       "27                Peanut butter, creamy     16.00     oz   4.49  2023-2-27   \n",
       "\n",
       "                                             Location      FDC RAW VEGAN  \\\n",
       "0                                           Wholefood   746760             \n",
       "1                                          Wholefood    749420             \n",
       "2                                           Wholefood   331897             \n",
       "3                                           Wholefood   334194             \n",
       "4                                          Wholefood    175167             \n",
       "5                                          Wholefood    175293             \n",
       "6                                          Wholefood    749420             \n",
       "7                                           Wholefood   748967             \n",
       "8                                          Wholefood    746785             \n",
       "9                                          Wholefood    746783             \n",
       "10                                          Wholefood   790508             \n",
       "11                                         Wholefood   2341562             \n",
       "12                                         Wholefood    746766             \n",
       "13                                         Wholefood    330137             \n",
       "14                                         Wholefood    746778             \n",
       "15                                         Wholefood    328637             \n",
       "16                                         Wholefood    746767             \n",
       "17                                         Wholefood    171314             \n",
       "18  https://www.wholefoodsmarket.com/product/produ...   170027         v   \n",
       "19  https://www.wholefoodsmarket.com/product/365-b...   172014         v   \n",
       "20  https://www.wholefoodsmarket.com/product/produ...  2344662         v   \n",
       "21  https://www.wholefoodsmarket.com/product/produ...  2344664         v   \n",
       "22  https://www.wholefoodsmarket.com/product/auror...  2346395         v   \n",
       "23  https://www.wholefoodsmarket.com/product/365-b...  2346394         v   \n",
       "24  https://www.wholefoodsmarket.com/product/365-b...  2342970         v   \n",
       "25  https://www.wholefoodsmarket.com/product/365-b...  2343004         v   \n",
       "26  https://www.safeway.com/shop/product-details.9...  2262074         v   \n",
       "27  https://www.safeway.com/shop/product-details.1...  2262072         v   \n",
       "\n",
       "   RAW MEAT  \n",
       "0         v  \n",
       "1         v  \n",
       "2         v  \n",
       "3         v  \n",
       "4         v  \n",
       "5         v  \n",
       "6         v  \n",
       "7         v  \n",
       "8         v  \n",
       "9         v  \n",
       "10        v  \n",
       "11        v  \n",
       "12        v  \n",
       "13        v  \n",
       "14        v  \n",
       "15        v  \n",
       "16        v  \n",
       "17        v  \n",
       "18        v  \n",
       "19        v  \n",
       "20        v  \n",
       "21        v  \n",
       "22        v  \n",
       "23        v  \n",
       "24        v  \n",
       "25        v  \n",
       "26        v  \n",
       "27        v  "
      ]
     },
     "execution_count": 100,
     "metadata": {},
     "output_type": "execute_result"
    }
   ],
   "source": [
    "raw_meat_df = df.loc[df[\"RAW MEAT\"] == \"v\"]\n",
    "raw_meat_df"
   ]
  },
  {
   "cell_type": "markdown",
   "id": "3d27bae9",
   "metadata": {},
   "source": [
    "### Raw Vegan Diet prices"
   ]
  },
  {
   "cell_type": "code",
   "execution_count": 101,
   "id": "c0833fc8",
   "metadata": {},
   "outputs": [
    {
     "data": {
      "text/html": [
       "<div>\n",
       "<style scoped>\n",
       "    .dataframe tbody tr th:only-of-type {\n",
       "        vertical-align: middle;\n",
       "    }\n",
       "\n",
       "    .dataframe tbody tr th {\n",
       "        vertical-align: top;\n",
       "    }\n",
       "\n",
       "    .dataframe thead th {\n",
       "        text-align: right;\n",
       "    }\n",
       "</style>\n",
       "<table border=\"1\" class=\"dataframe\">\n",
       "  <thead>\n",
       "    <tr style=\"text-align: right;\">\n",
       "      <th></th>\n",
       "      <th>Food</th>\n",
       "      <th>Quantity</th>\n",
       "      <th>Units</th>\n",
       "      <th>Price</th>\n",
       "      <th>Date</th>\n",
       "      <th>Location</th>\n",
       "      <th>FDC</th>\n",
       "      <th>RAW VEGAN</th>\n",
       "      <th>RAW MEAT</th>\n",
       "    </tr>\n",
       "  </thead>\n",
       "  <tbody>\n",
       "    <tr>\n",
       "      <th>18</th>\n",
       "      <td>Russet Potato</td>\n",
       "      <td>1.0</td>\n",
       "      <td>lb</td>\n",
       "      <td>1.69</td>\n",
       "      <td>2-22-2023</td>\n",
       "      <td>https://www.wholefoodsmarket.com/product/produ...</td>\n",
       "      <td>170027</td>\n",
       "      <td>v</td>\n",
       "      <td>v</td>\n",
       "    </tr>\n",
       "    <tr>\n",
       "      <th>19</th>\n",
       "      <td>Pasta</td>\n",
       "      <td>16.0</td>\n",
       "      <td>oz</td>\n",
       "      <td>1.59</td>\n",
       "      <td>2-22-2023</td>\n",
       "      <td>https://www.wholefoodsmarket.com/product/365-b...</td>\n",
       "      <td>172014</td>\n",
       "      <td>v</td>\n",
       "      <td>v</td>\n",
       "    </tr>\n",
       "    <tr>\n",
       "      <th>20</th>\n",
       "      <td>Lemon, raw</td>\n",
       "      <td>58.0</td>\n",
       "      <td>grams</td>\n",
       "      <td>0.99</td>\n",
       "      <td>2023-2-27</td>\n",
       "      <td>https://www.wholefoodsmarket.com/product/produ...</td>\n",
       "      <td>2344662</td>\n",
       "      <td>v</td>\n",
       "      <td>v</td>\n",
       "    </tr>\n",
       "    <tr>\n",
       "      <th>21</th>\n",
       "      <td>Lime, raw</td>\n",
       "      <td>67.0</td>\n",
       "      <td>grams</td>\n",
       "      <td>0.69</td>\n",
       "      <td>2023-2-27</td>\n",
       "      <td>https://www.wholefoodsmarket.com/product/produ...</td>\n",
       "      <td>2344664</td>\n",
       "      <td>v</td>\n",
       "      <td>v</td>\n",
       "    </tr>\n",
       "    <tr>\n",
       "      <th>22</th>\n",
       "      <td>Nuts, pecans, halves, raw</td>\n",
       "      <td>7.0</td>\n",
       "      <td>oz</td>\n",
       "      <td>11.79</td>\n",
       "      <td>2023-2-27</td>\n",
       "      <td>https://www.wholefoodsmarket.com/product/auror...</td>\n",
       "      <td>2346395</td>\n",
       "      <td>v</td>\n",
       "      <td>v</td>\n",
       "    </tr>\n",
       "    <tr>\n",
       "      <th>...</th>\n",
       "      <td>...</td>\n",
       "      <td>...</td>\n",
       "      <td>...</td>\n",
       "      <td>...</td>\n",
       "      <td>...</td>\n",
       "      <td>...</td>\n",
       "      <td>...</td>\n",
       "      <td>...</td>\n",
       "      <td>...</td>\n",
       "    </tr>\n",
       "    <tr>\n",
       "      <th>81</th>\n",
       "      <td>Quinoa, fat added</td>\n",
       "      <td>16.0</td>\n",
       "      <td>oz</td>\n",
       "      <td>3.79</td>\n",
       "      <td>2023-2-27</td>\n",
       "      <td>https://www.safeway.com/shop/product-details.9...</td>\n",
       "      <td>2343885</td>\n",
       "      <td>v</td>\n",
       "      <td></td>\n",
       "    </tr>\n",
       "    <tr>\n",
       "      <th>82</th>\n",
       "      <td>Almond milk, unsweetened, plain, refrigerated</td>\n",
       "      <td>64.0</td>\n",
       "      <td>oz</td>\n",
       "      <td>3.49</td>\n",
       "      <td>2023-2-27</td>\n",
       "      <td>https://www.safeway.com/shop/product-details.9...</td>\n",
       "      <td>2340791</td>\n",
       "      <td>v</td>\n",
       "      <td></td>\n",
       "    </tr>\n",
       "    <tr>\n",
       "      <th>83</th>\n",
       "      <td>Oat milk, unsweetened, plain, refrigerated</td>\n",
       "      <td>86.0</td>\n",
       "      <td>oz</td>\n",
       "      <td>4.99</td>\n",
       "      <td>2023-2-27</td>\n",
       "      <td>https://www.safeway.com/shop/product-details.9...</td>\n",
       "      <td>602962</td>\n",
       "      <td>v</td>\n",
       "      <td></td>\n",
       "    </tr>\n",
       "    <tr>\n",
       "      <th>84</th>\n",
       "      <td>WHITE SLICED MUSHROOMS, WHITE</td>\n",
       "      <td>8.0</td>\n",
       "      <td>oz</td>\n",
       "      <td>2.99</td>\n",
       "      <td>2023-2-27</td>\n",
       "      <td>https://www.wholefoodsmarket.com/product/produ...</td>\n",
       "      <td>2378248</td>\n",
       "      <td>v</td>\n",
       "      <td></td>\n",
       "    </tr>\n",
       "    <tr>\n",
       "      <th>85</th>\n",
       "      <td>Nutritional Yeast</td>\n",
       "      <td>4.5</td>\n",
       "      <td>oz</td>\n",
       "      <td>8.99</td>\n",
       "      <td>2023-3-2</td>\n",
       "      <td>safeway</td>\n",
       "      <td>2486564</td>\n",
       "      <td>v</td>\n",
       "      <td></td>\n",
       "    </tr>\n",
       "  </tbody>\n",
       "</table>\n",
       "<p>67 rows × 9 columns</p>\n",
       "</div>"
      ],
      "text/plain": [
       "                                             Food  Quantity  Units  Price  \\\n",
       "18                                  Russet Potato       1.0     lb   1.69   \n",
       "19                                          Pasta      16.0     oz   1.59   \n",
       "20                                     Lemon, raw      58.0  grams   0.99   \n",
       "21                                      Lime, raw      67.0  grams   0.69   \n",
       "22                      Nuts, pecans, halves, raw       7.0     oz  11.79   \n",
       "..                                            ...       ...    ...    ...   \n",
       "81                              Quinoa, fat added      16.0     oz   3.79   \n",
       "82  Almond milk, unsweetened, plain, refrigerated      64.0     oz   3.49   \n",
       "83     Oat milk, unsweetened, plain, refrigerated      86.0     oz   4.99   \n",
       "84                  WHITE SLICED MUSHROOMS, WHITE       8.0     oz   2.99   \n",
       "85                              Nutritional Yeast       4.5     oz   8.99   \n",
       "\n",
       "         Date                                           Location      FDC  \\\n",
       "18  2-22-2023  https://www.wholefoodsmarket.com/product/produ...   170027   \n",
       "19  2-22-2023  https://www.wholefoodsmarket.com/product/365-b...   172014   \n",
       "20  2023-2-27  https://www.wholefoodsmarket.com/product/produ...  2344662   \n",
       "21  2023-2-27  https://www.wholefoodsmarket.com/product/produ...  2344664   \n",
       "22  2023-2-27  https://www.wholefoodsmarket.com/product/auror...  2346395   \n",
       "..        ...                                                ...      ...   \n",
       "81  2023-2-27  https://www.safeway.com/shop/product-details.9...  2343885   \n",
       "82  2023-2-27  https://www.safeway.com/shop/product-details.9...  2340791   \n",
       "83  2023-2-27  https://www.safeway.com/shop/product-details.9...   602962   \n",
       "84  2023-2-27  https://www.wholefoodsmarket.com/product/produ...  2378248   \n",
       "85   2023-3-2                                            safeway  2486564   \n",
       "\n",
       "   RAW VEGAN RAW MEAT  \n",
       "18         v        v  \n",
       "19         v        v  \n",
       "20         v        v  \n",
       "21         v        v  \n",
       "22         v        v  \n",
       "..       ...      ...  \n",
       "81         v           \n",
       "82         v           \n",
       "83         v           \n",
       "84         v           \n",
       "85         v           \n",
       "\n",
       "[67 rows x 9 columns]"
      ]
     },
     "execution_count": 101,
     "metadata": {},
     "output_type": "execute_result"
    }
   ],
   "source": [
    "raw_vegan_df = df.loc[df[\"RAW VEGAN\"] == \"v\"]\n",
    "raw_vegan_df"
   ]
  },
  {
   "cell_type": "markdown",
   "id": "96c3392f",
   "metadata": {},
   "source": [
    "### USDA Diet prices"
   ]
  },
  {
   "cell_type": "code",
   "execution_count": 102,
   "id": "e988cc4b",
   "metadata": {},
   "outputs": [
    {
     "data": {
      "text/html": [
       "<div>\n",
       "<style scoped>\n",
       "    .dataframe tbody tr th:only-of-type {\n",
       "        vertical-align: middle;\n",
       "    }\n",
       "\n",
       "    .dataframe tbody tr th {\n",
       "        vertical-align: top;\n",
       "    }\n",
       "\n",
       "    .dataframe thead th {\n",
       "        text-align: right;\n",
       "    }\n",
       "</style>\n",
       "<table border=\"1\" class=\"dataframe\">\n",
       "  <thead>\n",
       "    <tr style=\"text-align: right;\">\n",
       "      <th></th>\n",
       "      <th>Food</th>\n",
       "      <th>Quantity</th>\n",
       "      <th>Units</th>\n",
       "      <th>Price</th>\n",
       "      <th>Date</th>\n",
       "      <th>Location</th>\n",
       "      <th>FDC</th>\n",
       "      <th>RAW VEGAN</th>\n",
       "      <th>RAW MEAT</th>\n",
       "    </tr>\n",
       "  </thead>\n",
       "  <tbody>\n",
       "    <tr>\n",
       "      <th>0</th>\n",
       "      <td>Beef</td>\n",
       "      <td>1.0</td>\n",
       "      <td>lb</td>\n",
       "      <td>12.99</td>\n",
       "      <td>2-22-2023</td>\n",
       "      <td>Wholefood</td>\n",
       "      <td>746760</td>\n",
       "      <td></td>\n",
       "      <td>v</td>\n",
       "    </tr>\n",
       "    <tr>\n",
       "      <th>1</th>\n",
       "      <td>Pork</td>\n",
       "      <td>1.0</td>\n",
       "      <td>lb</td>\n",
       "      <td>9.99</td>\n",
       "      <td>2-26-2023</td>\n",
       "      <td>Wholefood</td>\n",
       "      <td>749420</td>\n",
       "      <td></td>\n",
       "      <td>v</td>\n",
       "    </tr>\n",
       "    <tr>\n",
       "      <th>2</th>\n",
       "      <td>Chicken, drumstick</td>\n",
       "      <td>1.0</td>\n",
       "      <td>lb</td>\n",
       "      <td>3.99</td>\n",
       "      <td>2-26-2023</td>\n",
       "      <td>Wholefood</td>\n",
       "      <td>331897</td>\n",
       "      <td></td>\n",
       "      <td>v</td>\n",
       "    </tr>\n",
       "    <tr>\n",
       "      <th>3</th>\n",
       "      <td>Canned Tuna</td>\n",
       "      <td>5.0</td>\n",
       "      <td>oz</td>\n",
       "      <td>0.99</td>\n",
       "      <td>2-27-2023</td>\n",
       "      <td>Wholefood</td>\n",
       "      <td>334194</td>\n",
       "      <td></td>\n",
       "      <td>v</td>\n",
       "    </tr>\n",
       "    <tr>\n",
       "      <th>4</th>\n",
       "      <td>Atlantic Salmon</td>\n",
       "      <td>1.0</td>\n",
       "      <td>lb</td>\n",
       "      <td>15.99</td>\n",
       "      <td>2-27-2023</td>\n",
       "      <td>Wholefood</td>\n",
       "      <td>175167</td>\n",
       "      <td></td>\n",
       "      <td>v</td>\n",
       "    </tr>\n",
       "    <tr>\n",
       "      <th>...</th>\n",
       "      <td>...</td>\n",
       "      <td>...</td>\n",
       "      <td>...</td>\n",
       "      <td>...</td>\n",
       "      <td>...</td>\n",
       "      <td>...</td>\n",
       "      <td>...</td>\n",
       "      <td>...</td>\n",
       "      <td>...</td>\n",
       "    </tr>\n",
       "    <tr>\n",
       "      <th>81</th>\n",
       "      <td>Quinoa, fat added</td>\n",
       "      <td>16.0</td>\n",
       "      <td>oz</td>\n",
       "      <td>3.79</td>\n",
       "      <td>2023-2-27</td>\n",
       "      <td>https://www.safeway.com/shop/product-details.9...</td>\n",
       "      <td>2343885</td>\n",
       "      <td>v</td>\n",
       "      <td></td>\n",
       "    </tr>\n",
       "    <tr>\n",
       "      <th>82</th>\n",
       "      <td>Almond milk, unsweetened, plain, refrigerated</td>\n",
       "      <td>64.0</td>\n",
       "      <td>oz</td>\n",
       "      <td>3.49</td>\n",
       "      <td>2023-2-27</td>\n",
       "      <td>https://www.safeway.com/shop/product-details.9...</td>\n",
       "      <td>2340791</td>\n",
       "      <td>v</td>\n",
       "      <td></td>\n",
       "    </tr>\n",
       "    <tr>\n",
       "      <th>83</th>\n",
       "      <td>Oat milk, unsweetened, plain, refrigerated</td>\n",
       "      <td>86.0</td>\n",
       "      <td>oz</td>\n",
       "      <td>4.99</td>\n",
       "      <td>2023-2-27</td>\n",
       "      <td>https://www.safeway.com/shop/product-details.9...</td>\n",
       "      <td>602962</td>\n",
       "      <td>v</td>\n",
       "      <td></td>\n",
       "    </tr>\n",
       "    <tr>\n",
       "      <th>84</th>\n",
       "      <td>WHITE SLICED MUSHROOMS, WHITE</td>\n",
       "      <td>8.0</td>\n",
       "      <td>oz</td>\n",
       "      <td>2.99</td>\n",
       "      <td>2023-2-27</td>\n",
       "      <td>https://www.wholefoodsmarket.com/product/produ...</td>\n",
       "      <td>2378248</td>\n",
       "      <td>v</td>\n",
       "      <td></td>\n",
       "    </tr>\n",
       "    <tr>\n",
       "      <th>85</th>\n",
       "      <td>Nutritional Yeast</td>\n",
       "      <td>4.5</td>\n",
       "      <td>oz</td>\n",
       "      <td>8.99</td>\n",
       "      <td>2023-3-2</td>\n",
       "      <td>safeway</td>\n",
       "      <td>2486564</td>\n",
       "      <td>v</td>\n",
       "      <td></td>\n",
       "    </tr>\n",
       "  </tbody>\n",
       "</table>\n",
       "<p>85 rows × 9 columns</p>\n",
       "</div>"
      ],
      "text/plain": [
       "                                             Food  Quantity Units  Price  \\\n",
       "0                                            Beef       1.0    lb  12.99   \n",
       "1                                            Pork       1.0    lb   9.99   \n",
       "2                              Chicken, drumstick       1.0    lb   3.99   \n",
       "3                                     Canned Tuna       5.0    oz   0.99   \n",
       "4                                 Atlantic Salmon       1.0    lb  15.99   \n",
       "..                                            ...       ...   ...    ...   \n",
       "81                              Quinoa, fat added      16.0    oz   3.79   \n",
       "82  Almond milk, unsweetened, plain, refrigerated      64.0    oz   3.49   \n",
       "83     Oat milk, unsweetened, plain, refrigerated      86.0    oz   4.99   \n",
       "84                  WHITE SLICED MUSHROOMS, WHITE       8.0    oz   2.99   \n",
       "85                              Nutritional Yeast       4.5    oz   8.99   \n",
       "\n",
       "         Date                                           Location      FDC  \\\n",
       "0   2-22-2023                                          Wholefood   746760   \n",
       "1   2-26-2023                                         Wholefood    749420   \n",
       "2   2-26-2023                                          Wholefood   331897   \n",
       "3   2-27-2023                                          Wholefood   334194   \n",
       "4   2-27-2023                                         Wholefood    175167   \n",
       "..        ...                                                ...      ...   \n",
       "81  2023-2-27  https://www.safeway.com/shop/product-details.9...  2343885   \n",
       "82  2023-2-27  https://www.safeway.com/shop/product-details.9...  2340791   \n",
       "83  2023-2-27  https://www.safeway.com/shop/product-details.9...   602962   \n",
       "84  2023-2-27  https://www.wholefoodsmarket.com/product/produ...  2378248   \n",
       "85   2023-3-2                                            safeway  2486564   \n",
       "\n",
       "   RAW VEGAN RAW MEAT  \n",
       "0                   v  \n",
       "1                   v  \n",
       "2                   v  \n",
       "3                   v  \n",
       "4                   v  \n",
       "..       ...      ...  \n",
       "81         v           \n",
       "82         v           \n",
       "83         v           \n",
       "84         v           \n",
       "85         v           \n",
       "\n",
       "[85 rows x 9 columns]"
      ]
     },
     "execution_count": 102,
     "metadata": {},
     "output_type": "execute_result"
    }
   ],
   "source": [
    "usda_df = df[(df[\"RAW MEAT\"] == \"v\") | (df[\"RAW VEGAN\"] == \"v\")]\n",
    "usda_df"
   ]
  },
  {
   "cell_type": "markdown",
   "id": "4fd27f12",
   "metadata": {},
   "source": [
    "## [A] Nutritional content of different foods <a class=\"anchor\" id=\"nutrition\"></a>"
   ]
  },
  {
   "cell_type": "markdown",
   "id": "28b8aaf5",
   "metadata": {},
   "source": [
    "Now we have a list of foods with prices.  Do lookups on USDA database\n",
    "to get nutritional information."
   ]
  },
  {
   "cell_type": "code",
   "execution_count": 103,
   "id": "944e89c2",
   "metadata": {},
   "outputs": [],
   "source": [
    "## This function utilizes the FDC API to do nutritional content lookups for every food in our Data Frame.\n",
    "def getNutritionalContent(diet):\n",
    "    \n",
    "    diet = diet.lower()\n",
    "    \n",
    "    if diet == \"meat\":\n",
    "        diet_df = raw_meat_df\n",
    "    elif diet == \"vegan\":\n",
    "        diet_df = raw_vegan_df\n",
    "    elif diet == \"usda\":\n",
    "        diet_df = usda_df\n",
    "    else:\n",
    "        print(\"Diet not found, please choose from meat, vegan, or usda.\")\n",
    "        return\n",
    "    \n",
    "    D = {}\n",
    "    for food in  diet_df.Food.tolist():\n",
    "        try:\n",
    "            FDC = diet_df.loc[diet_df.Food==food,:].FDC.iloc[0]\n",
    "            D[food] = fdc.nutrients(apikey,FDC).Quantity\n",
    "        except AttributeError: \n",
    "            warnings.warn(\"Couldn't find FDC Code %s for food %s or server is overwhelmed. Try again later!\" % (food,FDC))        \n",
    "\n",
    "    return pd.DataFrame(D,dtype=float)"
   ]
  },
  {
   "cell_type": "markdown",
   "id": "541e3d96",
   "metadata": {},
   "source": [
    "### Raw Meat Diet Nutritional content"
   ]
  },
  {
   "cell_type": "code",
   "execution_count": 104,
   "id": "1cbb8d33",
   "metadata": {},
   "outputs": [
    {
     "data": {
      "text/html": [
       "<div>\n",
       "<style scoped>\n",
       "    .dataframe tbody tr th:only-of-type {\n",
       "        vertical-align: middle;\n",
       "    }\n",
       "\n",
       "    .dataframe tbody tr th {\n",
       "        vertical-align: top;\n",
       "    }\n",
       "\n",
       "    .dataframe thead th {\n",
       "        text-align: right;\n",
       "    }\n",
       "</style>\n",
       "<table border=\"1\" class=\"dataframe\">\n",
       "  <thead>\n",
       "    <tr style=\"text-align: right;\">\n",
       "      <th></th>\n",
       "      <th>Beef</th>\n",
       "      <th>Pork</th>\n",
       "      <th>Chicken, drumstick</th>\n",
       "      <th>Canned Tuna</th>\n",
       "      <th>Atlantic Salmon</th>\n",
       "      <th>Bison</th>\n",
       "      <th>Bacon</th>\n",
       "      <th>Eggs</th>\n",
       "      <th>Turkey</th>\n",
       "      <th>Sausage</th>\n",
       "      <th>...</th>\n",
       "      <th>Russet Potato</th>\n",
       "      <th>Pasta</th>\n",
       "      <th>Lemon, raw</th>\n",
       "      <th>Lime, raw</th>\n",
       "      <th>Nuts, pecans, halves, raw</th>\n",
       "      <th>Nuts, walnuts, English, halves, raw</th>\n",
       "      <th>Cashews, NFS</th>\n",
       "      <th>Pistachio nuts, NFS</th>\n",
       "      <th>Almond butter, creamy</th>\n",
       "      <th>Peanut butter, creamy</th>\n",
       "    </tr>\n",
       "  </thead>\n",
       "  <tbody>\n",
       "    <tr>\n",
       "      <th>25-hydroxycholecalciferol</th>\n",
       "      <td>NaN</td>\n",
       "      <td>NaN</td>\n",
       "      <td>NaN</td>\n",
       "      <td>0.0</td>\n",
       "      <td>NaN</td>\n",
       "      <td>NaN</td>\n",
       "      <td>NaN</td>\n",
       "      <td>0.560</td>\n",
       "      <td>NaN</td>\n",
       "      <td>NaN</td>\n",
       "      <td>...</td>\n",
       "      <td>NaN</td>\n",
       "      <td>NaN</td>\n",
       "      <td>NaN</td>\n",
       "      <td>NaN</td>\n",
       "      <td>NaN</td>\n",
       "      <td>NaN</td>\n",
       "      <td>NaN</td>\n",
       "      <td>NaN</td>\n",
       "      <td>NaN</td>\n",
       "      <td>NaN</td>\n",
       "    </tr>\n",
       "    <tr>\n",
       "      <th>Alanine</th>\n",
       "      <td>NaN</td>\n",
       "      <td>NaN</td>\n",
       "      <td>NaN</td>\n",
       "      <td>NaN</td>\n",
       "      <td>1.271</td>\n",
       "      <td>1.348</td>\n",
       "      <td>NaN</td>\n",
       "      <td>0.667</td>\n",
       "      <td>NaN</td>\n",
       "      <td>0.94</td>\n",
       "      <td>...</td>\n",
       "      <td>NaN</td>\n",
       "      <td>0.195</td>\n",
       "      <td>NaN</td>\n",
       "      <td>NaN</td>\n",
       "      <td>0.4375</td>\n",
       "      <td>0.59</td>\n",
       "      <td>NaN</td>\n",
       "      <td>NaN</td>\n",
       "      <td>1.181</td>\n",
       "      <td>1.160</td>\n",
       "    </tr>\n",
       "    <tr>\n",
       "      <th>Alcohol, ethyl</th>\n",
       "      <td>NaN</td>\n",
       "      <td>NaN</td>\n",
       "      <td>NaN</td>\n",
       "      <td>NaN</td>\n",
       "      <td>0.000</td>\n",
       "      <td>0.000</td>\n",
       "      <td>NaN</td>\n",
       "      <td>NaN</td>\n",
       "      <td>NaN</td>\n",
       "      <td>NaN</td>\n",
       "      <td>...</td>\n",
       "      <td>NaN</td>\n",
       "      <td>NaN</td>\n",
       "      <td>0.0</td>\n",
       "      <td>0.0</td>\n",
       "      <td>NaN</td>\n",
       "      <td>NaN</td>\n",
       "      <td>0.0</td>\n",
       "      <td>0.0</td>\n",
       "      <td>NaN</td>\n",
       "      <td>NaN</td>\n",
       "    </tr>\n",
       "    <tr>\n",
       "      <th>Amino acids</th>\n",
       "      <td>NaN</td>\n",
       "      <td>NaN</td>\n",
       "      <td>NaN</td>\n",
       "      <td>NaN</td>\n",
       "      <td>0.000</td>\n",
       "      <td>0.000</td>\n",
       "      <td>NaN</td>\n",
       "      <td>0.000</td>\n",
       "      <td>NaN</td>\n",
       "      <td>0.00</td>\n",
       "      <td>...</td>\n",
       "      <td>0.0</td>\n",
       "      <td>0.000</td>\n",
       "      <td>NaN</td>\n",
       "      <td>NaN</td>\n",
       "      <td>0.0000</td>\n",
       "      <td>0.00</td>\n",
       "      <td>NaN</td>\n",
       "      <td>NaN</td>\n",
       "      <td>0.000</td>\n",
       "      <td>0.000</td>\n",
       "    </tr>\n",
       "    <tr>\n",
       "      <th>Arginine</th>\n",
       "      <td>NaN</td>\n",
       "      <td>NaN</td>\n",
       "      <td>NaN</td>\n",
       "      <td>NaN</td>\n",
       "      <td>1.221</td>\n",
       "      <td>1.377</td>\n",
       "      <td>NaN</td>\n",
       "      <td>0.787</td>\n",
       "      <td>NaN</td>\n",
       "      <td>1.03</td>\n",
       "      <td>...</td>\n",
       "      <td>NaN</td>\n",
       "      <td>0.211</td>\n",
       "      <td>NaN</td>\n",
       "      <td>NaN</td>\n",
       "      <td>1.3630</td>\n",
       "      <td>2.02</td>\n",
       "      <td>NaN</td>\n",
       "      <td>NaN</td>\n",
       "      <td>2.771</td>\n",
       "      <td>3.323</td>\n",
       "    </tr>\n",
       "    <tr>\n",
       "      <th>...</th>\n",
       "      <td>...</td>\n",
       "      <td>...</td>\n",
       "      <td>...</td>\n",
       "      <td>...</td>\n",
       "      <td>...</td>\n",
       "      <td>...</td>\n",
       "      <td>...</td>\n",
       "      <td>...</td>\n",
       "      <td>...</td>\n",
       "      <td>...</td>\n",
       "      <td>...</td>\n",
       "      <td>...</td>\n",
       "      <td>...</td>\n",
       "      <td>...</td>\n",
       "      <td>...</td>\n",
       "      <td>...</td>\n",
       "      <td>...</td>\n",
       "      <td>...</td>\n",
       "      <td>...</td>\n",
       "      <td>...</td>\n",
       "      <td>...</td>\n",
       "    </tr>\n",
       "    <tr>\n",
       "      <th>cis-Lutein/Zeaxanthin</th>\n",
       "      <td>NaN</td>\n",
       "      <td>NaN</td>\n",
       "      <td>NaN</td>\n",
       "      <td>NaN</td>\n",
       "      <td>NaN</td>\n",
       "      <td>NaN</td>\n",
       "      <td>NaN</td>\n",
       "      <td>57.000</td>\n",
       "      <td>NaN</td>\n",
       "      <td>NaN</td>\n",
       "      <td>...</td>\n",
       "      <td>NaN</td>\n",
       "      <td>NaN</td>\n",
       "      <td>NaN</td>\n",
       "      <td>NaN</td>\n",
       "      <td>NaN</td>\n",
       "      <td>NaN</td>\n",
       "      <td>NaN</td>\n",
       "      <td>NaN</td>\n",
       "      <td>NaN</td>\n",
       "      <td>NaN</td>\n",
       "    </tr>\n",
       "    <tr>\n",
       "      <th>cis-Lycopene</th>\n",
       "      <td>NaN</td>\n",
       "      <td>NaN</td>\n",
       "      <td>NaN</td>\n",
       "      <td>NaN</td>\n",
       "      <td>NaN</td>\n",
       "      <td>NaN</td>\n",
       "      <td>NaN</td>\n",
       "      <td>0.000</td>\n",
       "      <td>NaN</td>\n",
       "      <td>NaN</td>\n",
       "      <td>...</td>\n",
       "      <td>NaN</td>\n",
       "      <td>NaN</td>\n",
       "      <td>NaN</td>\n",
       "      <td>NaN</td>\n",
       "      <td>NaN</td>\n",
       "      <td>NaN</td>\n",
       "      <td>NaN</td>\n",
       "      <td>NaN</td>\n",
       "      <td>NaN</td>\n",
       "      <td>NaN</td>\n",
       "    </tr>\n",
       "    <tr>\n",
       "      <th>cis-beta-Carotene</th>\n",
       "      <td>NaN</td>\n",
       "      <td>NaN</td>\n",
       "      <td>NaN</td>\n",
       "      <td>NaN</td>\n",
       "      <td>NaN</td>\n",
       "      <td>NaN</td>\n",
       "      <td>NaN</td>\n",
       "      <td>0.000</td>\n",
       "      <td>NaN</td>\n",
       "      <td>NaN</td>\n",
       "      <td>...</td>\n",
       "      <td>NaN</td>\n",
       "      <td>NaN</td>\n",
       "      <td>NaN</td>\n",
       "      <td>NaN</td>\n",
       "      <td>NaN</td>\n",
       "      <td>NaN</td>\n",
       "      <td>NaN</td>\n",
       "      <td>NaN</td>\n",
       "      <td>NaN</td>\n",
       "      <td>NaN</td>\n",
       "    </tr>\n",
       "    <tr>\n",
       "      <th>trans-Lycopene</th>\n",
       "      <td>NaN</td>\n",
       "      <td>NaN</td>\n",
       "      <td>NaN</td>\n",
       "      <td>NaN</td>\n",
       "      <td>NaN</td>\n",
       "      <td>NaN</td>\n",
       "      <td>NaN</td>\n",
       "      <td>0.000</td>\n",
       "      <td>NaN</td>\n",
       "      <td>NaN</td>\n",
       "      <td>...</td>\n",
       "      <td>NaN</td>\n",
       "      <td>NaN</td>\n",
       "      <td>NaN</td>\n",
       "      <td>NaN</td>\n",
       "      <td>NaN</td>\n",
       "      <td>NaN</td>\n",
       "      <td>NaN</td>\n",
       "      <td>NaN</td>\n",
       "      <td>NaN</td>\n",
       "      <td>NaN</td>\n",
       "    </tr>\n",
       "    <tr>\n",
       "      <th>trans-beta-Carotene</th>\n",
       "      <td>NaN</td>\n",
       "      <td>NaN</td>\n",
       "      <td>NaN</td>\n",
       "      <td>NaN</td>\n",
       "      <td>NaN</td>\n",
       "      <td>NaN</td>\n",
       "      <td>NaN</td>\n",
       "      <td>0.000</td>\n",
       "      <td>NaN</td>\n",
       "      <td>NaN</td>\n",
       "      <td>...</td>\n",
       "      <td>NaN</td>\n",
       "      <td>NaN</td>\n",
       "      <td>NaN</td>\n",
       "      <td>NaN</td>\n",
       "      <td>NaN</td>\n",
       "      <td>NaN</td>\n",
       "      <td>NaN</td>\n",
       "      <td>NaN</td>\n",
       "      <td>NaN</td>\n",
       "      <td>NaN</td>\n",
       "    </tr>\n",
       "  </tbody>\n",
       "</table>\n",
       "<p>202 rows × 28 columns</p>\n",
       "</div>"
      ],
      "text/plain": [
       "                           Beef  Pork  Chicken, drumstick  Canned Tuna  \\\n",
       "25-hydroxycholecalciferol   NaN   NaN                 NaN          0.0   \n",
       "Alanine                     NaN   NaN                 NaN          NaN   \n",
       "Alcohol, ethyl              NaN   NaN                 NaN          NaN   \n",
       "Amino acids                 NaN   NaN                 NaN          NaN   \n",
       "Arginine                    NaN   NaN                 NaN          NaN   \n",
       "...                         ...   ...                 ...          ...   \n",
       "cis-Lutein/Zeaxanthin       NaN   NaN                 NaN          NaN   \n",
       "cis-Lycopene                NaN   NaN                 NaN          NaN   \n",
       "cis-beta-Carotene           NaN   NaN                 NaN          NaN   \n",
       "trans-Lycopene              NaN   NaN                 NaN          NaN   \n",
       "trans-beta-Carotene         NaN   NaN                 NaN          NaN   \n",
       "\n",
       "                           Atlantic Salmon  Bison  Bacon    Eggs  Turkey  \\\n",
       "25-hydroxycholecalciferol              NaN    NaN    NaN   0.560     NaN   \n",
       "Alanine                              1.271  1.348    NaN   0.667     NaN   \n",
       "Alcohol, ethyl                       0.000  0.000    NaN     NaN     NaN   \n",
       "Amino acids                          0.000  0.000    NaN   0.000     NaN   \n",
       "Arginine                             1.221  1.377    NaN   0.787     NaN   \n",
       "...                                    ...    ...    ...     ...     ...   \n",
       "cis-Lutein/Zeaxanthin                  NaN    NaN    NaN  57.000     NaN   \n",
       "cis-Lycopene                           NaN    NaN    NaN   0.000     NaN   \n",
       "cis-beta-Carotene                      NaN    NaN    NaN   0.000     NaN   \n",
       "trans-Lycopene                         NaN    NaN    NaN   0.000     NaN   \n",
       "trans-beta-Carotene                    NaN    NaN    NaN   0.000     NaN   \n",
       "\n",
       "                           Sausage  ...  Russet Potato  Pasta  Lemon, raw  \\\n",
       "25-hydroxycholecalciferol      NaN  ...            NaN    NaN         NaN   \n",
       "Alanine                       0.94  ...            NaN  0.195         NaN   \n",
       "Alcohol, ethyl                 NaN  ...            NaN    NaN         0.0   \n",
       "Amino acids                   0.00  ...            0.0  0.000         NaN   \n",
       "Arginine                      1.03  ...            NaN  0.211         NaN   \n",
       "...                            ...  ...            ...    ...         ...   \n",
       "cis-Lutein/Zeaxanthin          NaN  ...            NaN    NaN         NaN   \n",
       "cis-Lycopene                   NaN  ...            NaN    NaN         NaN   \n",
       "cis-beta-Carotene              NaN  ...            NaN    NaN         NaN   \n",
       "trans-Lycopene                 NaN  ...            NaN    NaN         NaN   \n",
       "trans-beta-Carotene            NaN  ...            NaN    NaN         NaN   \n",
       "\n",
       "                           Lime, raw  Nuts, pecans, halves, raw  \\\n",
       "25-hydroxycholecalciferol        NaN                        NaN   \n",
       "Alanine                          NaN                     0.4375   \n",
       "Alcohol, ethyl                   0.0                        NaN   \n",
       "Amino acids                      NaN                     0.0000   \n",
       "Arginine                         NaN                     1.3630   \n",
       "...                              ...                        ...   \n",
       "cis-Lutein/Zeaxanthin            NaN                        NaN   \n",
       "cis-Lycopene                     NaN                        NaN   \n",
       "cis-beta-Carotene                NaN                        NaN   \n",
       "trans-Lycopene                   NaN                        NaN   \n",
       "trans-beta-Carotene              NaN                        NaN   \n",
       "\n",
       "                           Nuts, walnuts, English, halves, raw  Cashews, NFS  \\\n",
       "25-hydroxycholecalciferol                                  NaN           NaN   \n",
       "Alanine                                                   0.59           NaN   \n",
       "Alcohol, ethyl                                             NaN           0.0   \n",
       "Amino acids                                               0.00           NaN   \n",
       "Arginine                                                  2.02           NaN   \n",
       "...                                                        ...           ...   \n",
       "cis-Lutein/Zeaxanthin                                      NaN           NaN   \n",
       "cis-Lycopene                                               NaN           NaN   \n",
       "cis-beta-Carotene                                          NaN           NaN   \n",
       "trans-Lycopene                                             NaN           NaN   \n",
       "trans-beta-Carotene                                        NaN           NaN   \n",
       "\n",
       "                           Pistachio nuts, NFS  Almond butter, creamy  \\\n",
       "25-hydroxycholecalciferol                  NaN                    NaN   \n",
       "Alanine                                    NaN                  1.181   \n",
       "Alcohol, ethyl                             0.0                    NaN   \n",
       "Amino acids                                NaN                  0.000   \n",
       "Arginine                                   NaN                  2.771   \n",
       "...                                        ...                    ...   \n",
       "cis-Lutein/Zeaxanthin                      NaN                    NaN   \n",
       "cis-Lycopene                               NaN                    NaN   \n",
       "cis-beta-Carotene                          NaN                    NaN   \n",
       "trans-Lycopene                             NaN                    NaN   \n",
       "trans-beta-Carotene                        NaN                    NaN   \n",
       "\n",
       "                           Peanut butter, creamy  \n",
       "25-hydroxycholecalciferol                    NaN  \n",
       "Alanine                                    1.160  \n",
       "Alcohol, ethyl                               NaN  \n",
       "Amino acids                                0.000  \n",
       "Arginine                                   3.323  \n",
       "...                                          ...  \n",
       "cis-Lutein/Zeaxanthin                        NaN  \n",
       "cis-Lycopene                                 NaN  \n",
       "cis-beta-Carotene                            NaN  \n",
       "trans-Lycopene                               NaN  \n",
       "trans-beta-Carotene                          NaN  \n",
       "\n",
       "[202 rows x 28 columns]"
      ]
     },
     "execution_count": 104,
     "metadata": {},
     "output_type": "execute_result"
    }
   ],
   "source": [
    "Raw_Meat_FoodNutrients = getNutritionalContent(\"meat\")\n",
    "Raw_Meat_FoodNutrients"
   ]
  },
  {
   "cell_type": "markdown",
   "id": "570aecb6",
   "metadata": {},
   "source": [
    "### Raw Vegan Diet Nutritional content"
   ]
  },
  {
   "cell_type": "code",
   "execution_count": 105,
   "id": "8ff636ac",
   "metadata": {},
   "outputs": [
    {
     "data": {
      "text/html": [
       "<div>\n",
       "<style scoped>\n",
       "    .dataframe tbody tr th:only-of-type {\n",
       "        vertical-align: middle;\n",
       "    }\n",
       "\n",
       "    .dataframe tbody tr th {\n",
       "        vertical-align: top;\n",
       "    }\n",
       "\n",
       "    .dataframe thead th {\n",
       "        text-align: right;\n",
       "    }\n",
       "</style>\n",
       "<table border=\"1\" class=\"dataframe\">\n",
       "  <thead>\n",
       "    <tr style=\"text-align: right;\">\n",
       "      <th></th>\n",
       "      <th>Russet Potato</th>\n",
       "      <th>Pasta</th>\n",
       "      <th>Lemon, raw</th>\n",
       "      <th>Lime, raw</th>\n",
       "      <th>Nuts, pecans, halves, raw</th>\n",
       "      <th>Nuts, walnuts, English, halves, raw</th>\n",
       "      <th>Cashews, NFS</th>\n",
       "      <th>Pistachio nuts, NFS</th>\n",
       "      <th>Almond butter, creamy</th>\n",
       "      <th>Peanut butter, creamy</th>\n",
       "      <th>...</th>\n",
       "      <th>Blueberries, raw</th>\n",
       "      <th>Raspberries, raw</th>\n",
       "      <th>Mangos, raw</th>\n",
       "      <th>Chia seeds</th>\n",
       "      <th>Flax seeds</th>\n",
       "      <th>Quinoa, fat added</th>\n",
       "      <th>Almond milk, unsweetened, plain, refrigerated</th>\n",
       "      <th>Oat milk, unsweetened, plain, refrigerated</th>\n",
       "      <th>WHITE SLICED MUSHROOMS, WHITE</th>\n",
       "      <th>Nutritional Yeast</th>\n",
       "    </tr>\n",
       "  </thead>\n",
       "  <tbody>\n",
       "    <tr>\n",
       "      <th>Alanine</th>\n",
       "      <td>NaN</td>\n",
       "      <td>0.195</td>\n",
       "      <td>NaN</td>\n",
       "      <td>NaN</td>\n",
       "      <td>0.4375</td>\n",
       "      <td>0.590</td>\n",
       "      <td>NaN</td>\n",
       "      <td>NaN</td>\n",
       "      <td>1.181</td>\n",
       "      <td>1.160</td>\n",
       "      <td>...</td>\n",
       "      <td>NaN</td>\n",
       "      <td>NaN</td>\n",
       "      <td>0.082</td>\n",
       "      <td>NaN</td>\n",
       "      <td>NaN</td>\n",
       "      <td>NaN</td>\n",
       "      <td>NaN</td>\n",
       "      <td>NaN</td>\n",
       "      <td>NaN</td>\n",
       "      <td>NaN</td>\n",
       "    </tr>\n",
       "    <tr>\n",
       "      <th>Alcohol, ethyl</th>\n",
       "      <td>NaN</td>\n",
       "      <td>NaN</td>\n",
       "      <td>0.0</td>\n",
       "      <td>0.0</td>\n",
       "      <td>NaN</td>\n",
       "      <td>NaN</td>\n",
       "      <td>0.0</td>\n",
       "      <td>0.0</td>\n",
       "      <td>NaN</td>\n",
       "      <td>NaN</td>\n",
       "      <td>...</td>\n",
       "      <td>NaN</td>\n",
       "      <td>NaN</td>\n",
       "      <td>0.000</td>\n",
       "      <td>0.0</td>\n",
       "      <td>0.0</td>\n",
       "      <td>0.0</td>\n",
       "      <td>0.0</td>\n",
       "      <td>NaN</td>\n",
       "      <td>NaN</td>\n",
       "      <td>NaN</td>\n",
       "    </tr>\n",
       "    <tr>\n",
       "      <th>Amino acids</th>\n",
       "      <td>0.00</td>\n",
       "      <td>0.000</td>\n",
       "      <td>NaN</td>\n",
       "      <td>NaN</td>\n",
       "      <td>0.0000</td>\n",
       "      <td>0.000</td>\n",
       "      <td>NaN</td>\n",
       "      <td>NaN</td>\n",
       "      <td>0.000</td>\n",
       "      <td>0.000</td>\n",
       "      <td>...</td>\n",
       "      <td>NaN</td>\n",
       "      <td>NaN</td>\n",
       "      <td>0.000</td>\n",
       "      <td>NaN</td>\n",
       "      <td>NaN</td>\n",
       "      <td>NaN</td>\n",
       "      <td>NaN</td>\n",
       "      <td>NaN</td>\n",
       "      <td>NaN</td>\n",
       "      <td>NaN</td>\n",
       "    </tr>\n",
       "    <tr>\n",
       "      <th>Arginine</th>\n",
       "      <td>NaN</td>\n",
       "      <td>0.211</td>\n",
       "      <td>NaN</td>\n",
       "      <td>NaN</td>\n",
       "      <td>1.3630</td>\n",
       "      <td>2.020</td>\n",
       "      <td>NaN</td>\n",
       "      <td>NaN</td>\n",
       "      <td>2.771</td>\n",
       "      <td>3.323</td>\n",
       "      <td>...</td>\n",
       "      <td>NaN</td>\n",
       "      <td>NaN</td>\n",
       "      <td>0.031</td>\n",
       "      <td>NaN</td>\n",
       "      <td>NaN</td>\n",
       "      <td>NaN</td>\n",
       "      <td>NaN</td>\n",
       "      <td>NaN</td>\n",
       "      <td>NaN</td>\n",
       "      <td>NaN</td>\n",
       "    </tr>\n",
       "    <tr>\n",
       "      <th>Ash</th>\n",
       "      <td>1.13</td>\n",
       "      <td>0.550</td>\n",
       "      <td>NaN</td>\n",
       "      <td>NaN</td>\n",
       "      <td>1.4390</td>\n",
       "      <td>1.641</td>\n",
       "      <td>NaN</td>\n",
       "      <td>NaN</td>\n",
       "      <td>3.185</td>\n",
       "      <td>2.771</td>\n",
       "      <td>...</td>\n",
       "      <td>0.2288</td>\n",
       "      <td>0.35</td>\n",
       "      <td>0.360</td>\n",
       "      <td>NaN</td>\n",
       "      <td>NaN</td>\n",
       "      <td>NaN</td>\n",
       "      <td>NaN</td>\n",
       "      <td>NaN</td>\n",
       "      <td>NaN</td>\n",
       "      <td>NaN</td>\n",
       "    </tr>\n",
       "    <tr>\n",
       "      <th>...</th>\n",
       "      <td>...</td>\n",
       "      <td>...</td>\n",
       "      <td>...</td>\n",
       "      <td>...</td>\n",
       "      <td>...</td>\n",
       "      <td>...</td>\n",
       "      <td>...</td>\n",
       "      <td>...</td>\n",
       "      <td>...</td>\n",
       "      <td>...</td>\n",
       "      <td>...</td>\n",
       "      <td>...</td>\n",
       "      <td>...</td>\n",
       "      <td>...</td>\n",
       "      <td>...</td>\n",
       "      <td>...</td>\n",
       "      <td>...</td>\n",
       "      <td>...</td>\n",
       "      <td>...</td>\n",
       "      <td>...</td>\n",
       "      <td>...</td>\n",
       "    </tr>\n",
       "    <tr>\n",
       "      <th>cis-Lutein/Zeaxanthin</th>\n",
       "      <td>NaN</td>\n",
       "      <td>NaN</td>\n",
       "      <td>NaN</td>\n",
       "      <td>NaN</td>\n",
       "      <td>NaN</td>\n",
       "      <td>NaN</td>\n",
       "      <td>NaN</td>\n",
       "      <td>NaN</td>\n",
       "      <td>NaN</td>\n",
       "      <td>NaN</td>\n",
       "      <td>...</td>\n",
       "      <td>NaN</td>\n",
       "      <td>NaN</td>\n",
       "      <td>NaN</td>\n",
       "      <td>NaN</td>\n",
       "      <td>NaN</td>\n",
       "      <td>NaN</td>\n",
       "      <td>NaN</td>\n",
       "      <td>NaN</td>\n",
       "      <td>NaN</td>\n",
       "      <td>NaN</td>\n",
       "    </tr>\n",
       "    <tr>\n",
       "      <th>cis-Lycopene</th>\n",
       "      <td>NaN</td>\n",
       "      <td>NaN</td>\n",
       "      <td>NaN</td>\n",
       "      <td>NaN</td>\n",
       "      <td>NaN</td>\n",
       "      <td>NaN</td>\n",
       "      <td>NaN</td>\n",
       "      <td>NaN</td>\n",
       "      <td>NaN</td>\n",
       "      <td>NaN</td>\n",
       "      <td>...</td>\n",
       "      <td>NaN</td>\n",
       "      <td>NaN</td>\n",
       "      <td>NaN</td>\n",
       "      <td>NaN</td>\n",
       "      <td>NaN</td>\n",
       "      <td>NaN</td>\n",
       "      <td>NaN</td>\n",
       "      <td>NaN</td>\n",
       "      <td>NaN</td>\n",
       "      <td>NaN</td>\n",
       "    </tr>\n",
       "    <tr>\n",
       "      <th>cis-beta-Carotene</th>\n",
       "      <td>NaN</td>\n",
       "      <td>NaN</td>\n",
       "      <td>NaN</td>\n",
       "      <td>NaN</td>\n",
       "      <td>NaN</td>\n",
       "      <td>NaN</td>\n",
       "      <td>NaN</td>\n",
       "      <td>NaN</td>\n",
       "      <td>NaN</td>\n",
       "      <td>NaN</td>\n",
       "      <td>...</td>\n",
       "      <td>NaN</td>\n",
       "      <td>NaN</td>\n",
       "      <td>NaN</td>\n",
       "      <td>NaN</td>\n",
       "      <td>NaN</td>\n",
       "      <td>NaN</td>\n",
       "      <td>NaN</td>\n",
       "      <td>NaN</td>\n",
       "      <td>NaN</td>\n",
       "      <td>NaN</td>\n",
       "    </tr>\n",
       "    <tr>\n",
       "      <th>trans-Lycopene</th>\n",
       "      <td>NaN</td>\n",
       "      <td>NaN</td>\n",
       "      <td>NaN</td>\n",
       "      <td>NaN</td>\n",
       "      <td>NaN</td>\n",
       "      <td>NaN</td>\n",
       "      <td>NaN</td>\n",
       "      <td>NaN</td>\n",
       "      <td>NaN</td>\n",
       "      <td>NaN</td>\n",
       "      <td>...</td>\n",
       "      <td>NaN</td>\n",
       "      <td>NaN</td>\n",
       "      <td>NaN</td>\n",
       "      <td>NaN</td>\n",
       "      <td>NaN</td>\n",
       "      <td>NaN</td>\n",
       "      <td>NaN</td>\n",
       "      <td>NaN</td>\n",
       "      <td>NaN</td>\n",
       "      <td>NaN</td>\n",
       "    </tr>\n",
       "    <tr>\n",
       "      <th>trans-beta-Carotene</th>\n",
       "      <td>NaN</td>\n",
       "      <td>NaN</td>\n",
       "      <td>NaN</td>\n",
       "      <td>NaN</td>\n",
       "      <td>NaN</td>\n",
       "      <td>NaN</td>\n",
       "      <td>NaN</td>\n",
       "      <td>NaN</td>\n",
       "      <td>NaN</td>\n",
       "      <td>NaN</td>\n",
       "      <td>...</td>\n",
       "      <td>NaN</td>\n",
       "      <td>NaN</td>\n",
       "      <td>NaN</td>\n",
       "      <td>NaN</td>\n",
       "      <td>NaN</td>\n",
       "      <td>NaN</td>\n",
       "      <td>NaN</td>\n",
       "      <td>NaN</td>\n",
       "      <td>NaN</td>\n",
       "      <td>NaN</td>\n",
       "    </tr>\n",
       "  </tbody>\n",
       "</table>\n",
       "<p>194 rows × 66 columns</p>\n",
       "</div>"
      ],
      "text/plain": [
       "                       Russet Potato  Pasta  Lemon, raw  Lime, raw  \\\n",
       "Alanine                          NaN  0.195         NaN        NaN   \n",
       "Alcohol, ethyl                   NaN    NaN         0.0        0.0   \n",
       "Amino acids                     0.00  0.000         NaN        NaN   \n",
       "Arginine                         NaN  0.211         NaN        NaN   \n",
       "Ash                             1.13  0.550         NaN        NaN   \n",
       "...                              ...    ...         ...        ...   \n",
       "cis-Lutein/Zeaxanthin            NaN    NaN         NaN        NaN   \n",
       "cis-Lycopene                     NaN    NaN         NaN        NaN   \n",
       "cis-beta-Carotene                NaN    NaN         NaN        NaN   \n",
       "trans-Lycopene                   NaN    NaN         NaN        NaN   \n",
       "trans-beta-Carotene              NaN    NaN         NaN        NaN   \n",
       "\n",
       "                       Nuts, pecans, halves, raw  \\\n",
       "Alanine                                   0.4375   \n",
       "Alcohol, ethyl                               NaN   \n",
       "Amino acids                               0.0000   \n",
       "Arginine                                  1.3630   \n",
       "Ash                                       1.4390   \n",
       "...                                          ...   \n",
       "cis-Lutein/Zeaxanthin                        NaN   \n",
       "cis-Lycopene                                 NaN   \n",
       "cis-beta-Carotene                            NaN   \n",
       "trans-Lycopene                               NaN   \n",
       "trans-beta-Carotene                          NaN   \n",
       "\n",
       "                       Nuts, walnuts, English, halves, raw  Cashews, NFS  \\\n",
       "Alanine                                              0.590           NaN   \n",
       "Alcohol, ethyl                                         NaN           0.0   \n",
       "Amino acids                                          0.000           NaN   \n",
       "Arginine                                             2.020           NaN   \n",
       "Ash                                                  1.641           NaN   \n",
       "...                                                    ...           ...   \n",
       "cis-Lutein/Zeaxanthin                                  NaN           NaN   \n",
       "cis-Lycopene                                           NaN           NaN   \n",
       "cis-beta-Carotene                                      NaN           NaN   \n",
       "trans-Lycopene                                         NaN           NaN   \n",
       "trans-beta-Carotene                                    NaN           NaN   \n",
       "\n",
       "                       Pistachio nuts, NFS  Almond butter, creamy  \\\n",
       "Alanine                                NaN                  1.181   \n",
       "Alcohol, ethyl                         0.0                    NaN   \n",
       "Amino acids                            NaN                  0.000   \n",
       "Arginine                               NaN                  2.771   \n",
       "Ash                                    NaN                  3.185   \n",
       "...                                    ...                    ...   \n",
       "cis-Lutein/Zeaxanthin                  NaN                    NaN   \n",
       "cis-Lycopene                           NaN                    NaN   \n",
       "cis-beta-Carotene                      NaN                    NaN   \n",
       "trans-Lycopene                         NaN                    NaN   \n",
       "trans-beta-Carotene                    NaN                    NaN   \n",
       "\n",
       "                       Peanut butter, creamy  ...  Blueberries, raw  \\\n",
       "Alanine                                1.160  ...               NaN   \n",
       "Alcohol, ethyl                           NaN  ...               NaN   \n",
       "Amino acids                            0.000  ...               NaN   \n",
       "Arginine                               3.323  ...               NaN   \n",
       "Ash                                    2.771  ...            0.2288   \n",
       "...                                      ...  ...               ...   \n",
       "cis-Lutein/Zeaxanthin                    NaN  ...               NaN   \n",
       "cis-Lycopene                             NaN  ...               NaN   \n",
       "cis-beta-Carotene                        NaN  ...               NaN   \n",
       "trans-Lycopene                           NaN  ...               NaN   \n",
       "trans-beta-Carotene                      NaN  ...               NaN   \n",
       "\n",
       "                       Raspberries, raw  Mangos, raw  Chia seeds  Flax seeds  \\\n",
       "Alanine                             NaN        0.082         NaN         NaN   \n",
       "Alcohol, ethyl                      NaN        0.000         0.0         0.0   \n",
       "Amino acids                         NaN        0.000         NaN         NaN   \n",
       "Arginine                            NaN        0.031         NaN         NaN   \n",
       "Ash                                0.35        0.360         NaN         NaN   \n",
       "...                                 ...          ...         ...         ...   \n",
       "cis-Lutein/Zeaxanthin               NaN          NaN         NaN         NaN   \n",
       "cis-Lycopene                        NaN          NaN         NaN         NaN   \n",
       "cis-beta-Carotene                   NaN          NaN         NaN         NaN   \n",
       "trans-Lycopene                      NaN          NaN         NaN         NaN   \n",
       "trans-beta-Carotene                 NaN          NaN         NaN         NaN   \n",
       "\n",
       "                       Quinoa, fat added  \\\n",
       "Alanine                              NaN   \n",
       "Alcohol, ethyl                       0.0   \n",
       "Amino acids                          NaN   \n",
       "Arginine                             NaN   \n",
       "Ash                                  NaN   \n",
       "...                                  ...   \n",
       "cis-Lutein/Zeaxanthin                NaN   \n",
       "cis-Lycopene                         NaN   \n",
       "cis-beta-Carotene                    NaN   \n",
       "trans-Lycopene                       NaN   \n",
       "trans-beta-Carotene                  NaN   \n",
       "\n",
       "                       Almond milk, unsweetened, plain, refrigerated  \\\n",
       "Alanine                                                          NaN   \n",
       "Alcohol, ethyl                                                   0.0   \n",
       "Amino acids                                                      NaN   \n",
       "Arginine                                                         NaN   \n",
       "Ash                                                              NaN   \n",
       "...                                                              ...   \n",
       "cis-Lutein/Zeaxanthin                                            NaN   \n",
       "cis-Lycopene                                                     NaN   \n",
       "cis-beta-Carotene                                                NaN   \n",
       "trans-Lycopene                                                   NaN   \n",
       "trans-beta-Carotene                                              NaN   \n",
       "\n",
       "                       Oat milk, unsweetened, plain, refrigerated  \\\n",
       "Alanine                                                       NaN   \n",
       "Alcohol, ethyl                                                NaN   \n",
       "Amino acids                                                   NaN   \n",
       "Arginine                                                      NaN   \n",
       "Ash                                                           NaN   \n",
       "...                                                           ...   \n",
       "cis-Lutein/Zeaxanthin                                         NaN   \n",
       "cis-Lycopene                                                  NaN   \n",
       "cis-beta-Carotene                                             NaN   \n",
       "trans-Lycopene                                                NaN   \n",
       "trans-beta-Carotene                                           NaN   \n",
       "\n",
       "                       WHITE SLICED MUSHROOMS, WHITE  Nutritional Yeast  \n",
       "Alanine                                          NaN                NaN  \n",
       "Alcohol, ethyl                                   NaN                NaN  \n",
       "Amino acids                                      NaN                NaN  \n",
       "Arginine                                         NaN                NaN  \n",
       "Ash                                              NaN                NaN  \n",
       "...                                              ...                ...  \n",
       "cis-Lutein/Zeaxanthin                            NaN                NaN  \n",
       "cis-Lycopene                                     NaN                NaN  \n",
       "cis-beta-Carotene                                NaN                NaN  \n",
       "trans-Lycopene                                   NaN                NaN  \n",
       "trans-beta-Carotene                              NaN                NaN  \n",
       "\n",
       "[194 rows x 66 columns]"
      ]
     },
     "execution_count": 105,
     "metadata": {},
     "output_type": "execute_result"
    }
   ],
   "source": [
    "Raw_Vegan_FoodNutrients = getNutritionalContent(\"vegan\")\n",
    "Raw_Vegan_FoodNutrients"
   ]
  },
  {
   "cell_type": "markdown",
   "id": "4c10c2d0",
   "metadata": {},
   "source": [
    "### USDA Diet Nutritional content"
   ]
  },
  {
   "cell_type": "code",
   "execution_count": 106,
   "id": "ab9b2c6e",
   "metadata": {},
   "outputs": [
    {
     "data": {
      "text/html": [
       "<div>\n",
       "<style scoped>\n",
       "    .dataframe tbody tr th:only-of-type {\n",
       "        vertical-align: middle;\n",
       "    }\n",
       "\n",
       "    .dataframe tbody tr th {\n",
       "        vertical-align: top;\n",
       "    }\n",
       "\n",
       "    .dataframe thead th {\n",
       "        text-align: right;\n",
       "    }\n",
       "</style>\n",
       "<table border=\"1\" class=\"dataframe\">\n",
       "  <thead>\n",
       "    <tr style=\"text-align: right;\">\n",
       "      <th></th>\n",
       "      <th>Beef</th>\n",
       "      <th>Pork</th>\n",
       "      <th>Chicken, drumstick</th>\n",
       "      <th>Canned Tuna</th>\n",
       "      <th>Atlantic Salmon</th>\n",
       "      <th>Bison</th>\n",
       "      <th>Bacon</th>\n",
       "      <th>Eggs</th>\n",
       "      <th>Turkey</th>\n",
       "      <th>Sausage</th>\n",
       "      <th>...</th>\n",
       "      <th>Blueberries, raw</th>\n",
       "      <th>Raspberries, raw</th>\n",
       "      <th>Mangos, raw</th>\n",
       "      <th>Chia seeds</th>\n",
       "      <th>Flax seeds</th>\n",
       "      <th>Quinoa, fat added</th>\n",
       "      <th>Almond milk, unsweetened, plain, refrigerated</th>\n",
       "      <th>Oat milk, unsweetened, plain, refrigerated</th>\n",
       "      <th>WHITE SLICED MUSHROOMS, WHITE</th>\n",
       "      <th>Nutritional Yeast</th>\n",
       "    </tr>\n",
       "  </thead>\n",
       "  <tbody>\n",
       "    <tr>\n",
       "      <th>25-hydroxycholecalciferol</th>\n",
       "      <td>NaN</td>\n",
       "      <td>NaN</td>\n",
       "      <td>NaN</td>\n",
       "      <td>0.0</td>\n",
       "      <td>NaN</td>\n",
       "      <td>NaN</td>\n",
       "      <td>NaN</td>\n",
       "      <td>0.560</td>\n",
       "      <td>NaN</td>\n",
       "      <td>NaN</td>\n",
       "      <td>...</td>\n",
       "      <td>NaN</td>\n",
       "      <td>NaN</td>\n",
       "      <td>NaN</td>\n",
       "      <td>NaN</td>\n",
       "      <td>NaN</td>\n",
       "      <td>NaN</td>\n",
       "      <td>NaN</td>\n",
       "      <td>NaN</td>\n",
       "      <td>NaN</td>\n",
       "      <td>NaN</td>\n",
       "    </tr>\n",
       "    <tr>\n",
       "      <th>Alanine</th>\n",
       "      <td>NaN</td>\n",
       "      <td>NaN</td>\n",
       "      <td>NaN</td>\n",
       "      <td>NaN</td>\n",
       "      <td>1.271</td>\n",
       "      <td>1.348</td>\n",
       "      <td>NaN</td>\n",
       "      <td>0.667</td>\n",
       "      <td>NaN</td>\n",
       "      <td>0.94</td>\n",
       "      <td>...</td>\n",
       "      <td>NaN</td>\n",
       "      <td>NaN</td>\n",
       "      <td>0.082</td>\n",
       "      <td>NaN</td>\n",
       "      <td>NaN</td>\n",
       "      <td>NaN</td>\n",
       "      <td>NaN</td>\n",
       "      <td>NaN</td>\n",
       "      <td>NaN</td>\n",
       "      <td>NaN</td>\n",
       "    </tr>\n",
       "    <tr>\n",
       "      <th>Alcohol, ethyl</th>\n",
       "      <td>NaN</td>\n",
       "      <td>NaN</td>\n",
       "      <td>NaN</td>\n",
       "      <td>NaN</td>\n",
       "      <td>0.000</td>\n",
       "      <td>0.000</td>\n",
       "      <td>NaN</td>\n",
       "      <td>NaN</td>\n",
       "      <td>NaN</td>\n",
       "      <td>NaN</td>\n",
       "      <td>...</td>\n",
       "      <td>NaN</td>\n",
       "      <td>NaN</td>\n",
       "      <td>0.000</td>\n",
       "      <td>0.0</td>\n",
       "      <td>0.0</td>\n",
       "      <td>0.0</td>\n",
       "      <td>0.0</td>\n",
       "      <td>NaN</td>\n",
       "      <td>NaN</td>\n",
       "      <td>NaN</td>\n",
       "    </tr>\n",
       "    <tr>\n",
       "      <th>Amino acids</th>\n",
       "      <td>NaN</td>\n",
       "      <td>NaN</td>\n",
       "      <td>NaN</td>\n",
       "      <td>NaN</td>\n",
       "      <td>0.000</td>\n",
       "      <td>0.000</td>\n",
       "      <td>NaN</td>\n",
       "      <td>0.000</td>\n",
       "      <td>NaN</td>\n",
       "      <td>0.00</td>\n",
       "      <td>...</td>\n",
       "      <td>NaN</td>\n",
       "      <td>NaN</td>\n",
       "      <td>0.000</td>\n",
       "      <td>NaN</td>\n",
       "      <td>NaN</td>\n",
       "      <td>NaN</td>\n",
       "      <td>NaN</td>\n",
       "      <td>NaN</td>\n",
       "      <td>NaN</td>\n",
       "      <td>NaN</td>\n",
       "    </tr>\n",
       "    <tr>\n",
       "      <th>Arginine</th>\n",
       "      <td>NaN</td>\n",
       "      <td>NaN</td>\n",
       "      <td>NaN</td>\n",
       "      <td>NaN</td>\n",
       "      <td>1.221</td>\n",
       "      <td>1.377</td>\n",
       "      <td>NaN</td>\n",
       "      <td>0.787</td>\n",
       "      <td>NaN</td>\n",
       "      <td>1.03</td>\n",
       "      <td>...</td>\n",
       "      <td>NaN</td>\n",
       "      <td>NaN</td>\n",
       "      <td>0.031</td>\n",
       "      <td>NaN</td>\n",
       "      <td>NaN</td>\n",
       "      <td>NaN</td>\n",
       "      <td>NaN</td>\n",
       "      <td>NaN</td>\n",
       "      <td>NaN</td>\n",
       "      <td>NaN</td>\n",
       "    </tr>\n",
       "    <tr>\n",
       "      <th>...</th>\n",
       "      <td>...</td>\n",
       "      <td>...</td>\n",
       "      <td>...</td>\n",
       "      <td>...</td>\n",
       "      <td>...</td>\n",
       "      <td>...</td>\n",
       "      <td>...</td>\n",
       "      <td>...</td>\n",
       "      <td>...</td>\n",
       "      <td>...</td>\n",
       "      <td>...</td>\n",
       "      <td>...</td>\n",
       "      <td>...</td>\n",
       "      <td>...</td>\n",
       "      <td>...</td>\n",
       "      <td>...</td>\n",
       "      <td>...</td>\n",
       "      <td>...</td>\n",
       "      <td>...</td>\n",
       "      <td>...</td>\n",
       "      <td>...</td>\n",
       "    </tr>\n",
       "    <tr>\n",
       "      <th>cis-Lutein/Zeaxanthin</th>\n",
       "      <td>NaN</td>\n",
       "      <td>NaN</td>\n",
       "      <td>NaN</td>\n",
       "      <td>NaN</td>\n",
       "      <td>NaN</td>\n",
       "      <td>NaN</td>\n",
       "      <td>NaN</td>\n",
       "      <td>57.000</td>\n",
       "      <td>NaN</td>\n",
       "      <td>NaN</td>\n",
       "      <td>...</td>\n",
       "      <td>NaN</td>\n",
       "      <td>NaN</td>\n",
       "      <td>NaN</td>\n",
       "      <td>NaN</td>\n",
       "      <td>NaN</td>\n",
       "      <td>NaN</td>\n",
       "      <td>NaN</td>\n",
       "      <td>NaN</td>\n",
       "      <td>NaN</td>\n",
       "      <td>NaN</td>\n",
       "    </tr>\n",
       "    <tr>\n",
       "      <th>cis-Lycopene</th>\n",
       "      <td>NaN</td>\n",
       "      <td>NaN</td>\n",
       "      <td>NaN</td>\n",
       "      <td>NaN</td>\n",
       "      <td>NaN</td>\n",
       "      <td>NaN</td>\n",
       "      <td>NaN</td>\n",
       "      <td>0.000</td>\n",
       "      <td>NaN</td>\n",
       "      <td>NaN</td>\n",
       "      <td>...</td>\n",
       "      <td>NaN</td>\n",
       "      <td>NaN</td>\n",
       "      <td>NaN</td>\n",
       "      <td>NaN</td>\n",
       "      <td>NaN</td>\n",
       "      <td>NaN</td>\n",
       "      <td>NaN</td>\n",
       "      <td>NaN</td>\n",
       "      <td>NaN</td>\n",
       "      <td>NaN</td>\n",
       "    </tr>\n",
       "    <tr>\n",
       "      <th>cis-beta-Carotene</th>\n",
       "      <td>NaN</td>\n",
       "      <td>NaN</td>\n",
       "      <td>NaN</td>\n",
       "      <td>NaN</td>\n",
       "      <td>NaN</td>\n",
       "      <td>NaN</td>\n",
       "      <td>NaN</td>\n",
       "      <td>0.000</td>\n",
       "      <td>NaN</td>\n",
       "      <td>NaN</td>\n",
       "      <td>...</td>\n",
       "      <td>NaN</td>\n",
       "      <td>NaN</td>\n",
       "      <td>NaN</td>\n",
       "      <td>NaN</td>\n",
       "      <td>NaN</td>\n",
       "      <td>NaN</td>\n",
       "      <td>NaN</td>\n",
       "      <td>NaN</td>\n",
       "      <td>NaN</td>\n",
       "      <td>NaN</td>\n",
       "    </tr>\n",
       "    <tr>\n",
       "      <th>trans-Lycopene</th>\n",
       "      <td>NaN</td>\n",
       "      <td>NaN</td>\n",
       "      <td>NaN</td>\n",
       "      <td>NaN</td>\n",
       "      <td>NaN</td>\n",
       "      <td>NaN</td>\n",
       "      <td>NaN</td>\n",
       "      <td>0.000</td>\n",
       "      <td>NaN</td>\n",
       "      <td>NaN</td>\n",
       "      <td>...</td>\n",
       "      <td>NaN</td>\n",
       "      <td>NaN</td>\n",
       "      <td>NaN</td>\n",
       "      <td>NaN</td>\n",
       "      <td>NaN</td>\n",
       "      <td>NaN</td>\n",
       "      <td>NaN</td>\n",
       "      <td>NaN</td>\n",
       "      <td>NaN</td>\n",
       "      <td>NaN</td>\n",
       "    </tr>\n",
       "    <tr>\n",
       "      <th>trans-beta-Carotene</th>\n",
       "      <td>NaN</td>\n",
       "      <td>NaN</td>\n",
       "      <td>NaN</td>\n",
       "      <td>NaN</td>\n",
       "      <td>NaN</td>\n",
       "      <td>NaN</td>\n",
       "      <td>NaN</td>\n",
       "      <td>0.000</td>\n",
       "      <td>NaN</td>\n",
       "      <td>NaN</td>\n",
       "      <td>...</td>\n",
       "      <td>NaN</td>\n",
       "      <td>NaN</td>\n",
       "      <td>NaN</td>\n",
       "      <td>NaN</td>\n",
       "      <td>NaN</td>\n",
       "      <td>NaN</td>\n",
       "      <td>NaN</td>\n",
       "      <td>NaN</td>\n",
       "      <td>NaN</td>\n",
       "      <td>NaN</td>\n",
       "    </tr>\n",
       "  </tbody>\n",
       "</table>\n",
       "<p>215 rows × 84 columns</p>\n",
       "</div>"
      ],
      "text/plain": [
       "                           Beef  Pork  Chicken, drumstick  Canned Tuna  \\\n",
       "25-hydroxycholecalciferol   NaN   NaN                 NaN          0.0   \n",
       "Alanine                     NaN   NaN                 NaN          NaN   \n",
       "Alcohol, ethyl              NaN   NaN                 NaN          NaN   \n",
       "Amino acids                 NaN   NaN                 NaN          NaN   \n",
       "Arginine                    NaN   NaN                 NaN          NaN   \n",
       "...                         ...   ...                 ...          ...   \n",
       "cis-Lutein/Zeaxanthin       NaN   NaN                 NaN          NaN   \n",
       "cis-Lycopene                NaN   NaN                 NaN          NaN   \n",
       "cis-beta-Carotene           NaN   NaN                 NaN          NaN   \n",
       "trans-Lycopene              NaN   NaN                 NaN          NaN   \n",
       "trans-beta-Carotene         NaN   NaN                 NaN          NaN   \n",
       "\n",
       "                           Atlantic Salmon  Bison  Bacon    Eggs  Turkey  \\\n",
       "25-hydroxycholecalciferol              NaN    NaN    NaN   0.560     NaN   \n",
       "Alanine                              1.271  1.348    NaN   0.667     NaN   \n",
       "Alcohol, ethyl                       0.000  0.000    NaN     NaN     NaN   \n",
       "Amino acids                          0.000  0.000    NaN   0.000     NaN   \n",
       "Arginine                             1.221  1.377    NaN   0.787     NaN   \n",
       "...                                    ...    ...    ...     ...     ...   \n",
       "cis-Lutein/Zeaxanthin                  NaN    NaN    NaN  57.000     NaN   \n",
       "cis-Lycopene                           NaN    NaN    NaN   0.000     NaN   \n",
       "cis-beta-Carotene                      NaN    NaN    NaN   0.000     NaN   \n",
       "trans-Lycopene                         NaN    NaN    NaN   0.000     NaN   \n",
       "trans-beta-Carotene                    NaN    NaN    NaN   0.000     NaN   \n",
       "\n",
       "                           Sausage  ...  Blueberries, raw  Raspberries, raw  \\\n",
       "25-hydroxycholecalciferol      NaN  ...               NaN               NaN   \n",
       "Alanine                       0.94  ...               NaN               NaN   \n",
       "Alcohol, ethyl                 NaN  ...               NaN               NaN   \n",
       "Amino acids                   0.00  ...               NaN               NaN   \n",
       "Arginine                      1.03  ...               NaN               NaN   \n",
       "...                            ...  ...               ...               ...   \n",
       "cis-Lutein/Zeaxanthin          NaN  ...               NaN               NaN   \n",
       "cis-Lycopene                   NaN  ...               NaN               NaN   \n",
       "cis-beta-Carotene              NaN  ...               NaN               NaN   \n",
       "trans-Lycopene                 NaN  ...               NaN               NaN   \n",
       "trans-beta-Carotene            NaN  ...               NaN               NaN   \n",
       "\n",
       "                           Mangos, raw  Chia seeds  Flax seeds  \\\n",
       "25-hydroxycholecalciferol          NaN         NaN         NaN   \n",
       "Alanine                          0.082         NaN         NaN   \n",
       "Alcohol, ethyl                   0.000         0.0         0.0   \n",
       "Amino acids                      0.000         NaN         NaN   \n",
       "Arginine                         0.031         NaN         NaN   \n",
       "...                                ...         ...         ...   \n",
       "cis-Lutein/Zeaxanthin              NaN         NaN         NaN   \n",
       "cis-Lycopene                       NaN         NaN         NaN   \n",
       "cis-beta-Carotene                  NaN         NaN         NaN   \n",
       "trans-Lycopene                     NaN         NaN         NaN   \n",
       "trans-beta-Carotene                NaN         NaN         NaN   \n",
       "\n",
       "                           Quinoa, fat added  \\\n",
       "25-hydroxycholecalciferol                NaN   \n",
       "Alanine                                  NaN   \n",
       "Alcohol, ethyl                           0.0   \n",
       "Amino acids                              NaN   \n",
       "Arginine                                 NaN   \n",
       "...                                      ...   \n",
       "cis-Lutein/Zeaxanthin                    NaN   \n",
       "cis-Lycopene                             NaN   \n",
       "cis-beta-Carotene                        NaN   \n",
       "trans-Lycopene                           NaN   \n",
       "trans-beta-Carotene                      NaN   \n",
       "\n",
       "                           Almond milk, unsweetened, plain, refrigerated  \\\n",
       "25-hydroxycholecalciferol                                            NaN   \n",
       "Alanine                                                              NaN   \n",
       "Alcohol, ethyl                                                       0.0   \n",
       "Amino acids                                                          NaN   \n",
       "Arginine                                                             NaN   \n",
       "...                                                                  ...   \n",
       "cis-Lutein/Zeaxanthin                                                NaN   \n",
       "cis-Lycopene                                                         NaN   \n",
       "cis-beta-Carotene                                                    NaN   \n",
       "trans-Lycopene                                                       NaN   \n",
       "trans-beta-Carotene                                                  NaN   \n",
       "\n",
       "                           Oat milk, unsweetened, plain, refrigerated  \\\n",
       "25-hydroxycholecalciferol                                         NaN   \n",
       "Alanine                                                           NaN   \n",
       "Alcohol, ethyl                                                    NaN   \n",
       "Amino acids                                                       NaN   \n",
       "Arginine                                                          NaN   \n",
       "...                                                               ...   \n",
       "cis-Lutein/Zeaxanthin                                             NaN   \n",
       "cis-Lycopene                                                      NaN   \n",
       "cis-beta-Carotene                                                 NaN   \n",
       "trans-Lycopene                                                    NaN   \n",
       "trans-beta-Carotene                                               NaN   \n",
       "\n",
       "                           WHITE SLICED MUSHROOMS, WHITE  Nutritional Yeast  \n",
       "25-hydroxycholecalciferol                            NaN                NaN  \n",
       "Alanine                                              NaN                NaN  \n",
       "Alcohol, ethyl                                       NaN                NaN  \n",
       "Amino acids                                          NaN                NaN  \n",
       "Arginine                                             NaN                NaN  \n",
       "...                                                  ...                ...  \n",
       "cis-Lutein/Zeaxanthin                                NaN                NaN  \n",
       "cis-Lycopene                                         NaN                NaN  \n",
       "cis-beta-Carotene                                    NaN                NaN  \n",
       "trans-Lycopene                                       NaN                NaN  \n",
       "trans-beta-Carotene                                  NaN                NaN  \n",
       "\n",
       "[215 rows x 84 columns]"
      ]
     },
     "execution_count": 106,
     "metadata": {},
     "output_type": "execute_result"
    }
   ],
   "source": [
    "USDA_FoodNutrients = getNutritionalContent(\"usda\")\n",
    "USDA_FoodNutrients"
   ]
  },
  {
   "cell_type": "markdown",
   "id": "dcd1014c",
   "metadata": {},
   "source": [
    "## [A] Solution <a class=\"anchor\" id=\"solution\"></a>"
   ]
  },
  {
   "cell_type": "markdown",
   "id": "7692e783",
   "metadata": {},
   "source": [
    "What is the minimum cost diet for our population? How much does it cost, and of what does it consist? How\n",
    "does it vary with age, sex, and level of activity?"
   ]
  },
  {
   "cell_type": "markdown",
   "id": "85357907",
   "metadata": {},
   "source": [
    "### Units & Prices"
   ]
  },
  {
   "cell_type": "code",
   "execution_count": 107,
   "id": "08dc6a1d",
   "metadata": {},
   "outputs": [],
   "source": [
    "### We use the `units` function to convert all foods to either deciliters or hectograms, to match FDC database\n",
    "def getUnitsAndPrices(diet):\n",
    "    \n",
    "    diet = diet.lower()\n",
    "    \n",
    "    if diet == \"meat\":\n",
    "        diet_df = raw_meat_df\n",
    "    elif diet == \"vegan\":\n",
    "        diet_df = raw_vegan_df\n",
    "    elif diet == \"usda\":\n",
    "        diet_df = usda_df\n",
    "    else:\n",
    "        print(\"Diet not found, please choose from meat, vegan, or usda.\")\n",
    "        return\n",
    "    \n",
    "    # Convert food quantities to FDC units\n",
    "    diet_df['FDC Quantity'] = diet_df[['Quantity','Units']].T.apply(lambda x : fdc.units(x['Quantity'],x['Units']))\n",
    "\n",
    "    # Now may want to filter df by time or place--need to get a unique set of food names.\n",
    "    diet_df['FDC Price'] = diet_df['Price']/diet_df['FDC Quantity']\n",
    "\n",
    "    diet_df.dropna(how='any') # Drop food with any missing data\n",
    "\n",
    "    # To use minimum price observed\n",
    "    diet_prices = diet_df.groupby('Food',sort=False)['FDC Price'].min()\n",
    "\n",
    "    return diet_prices"
   ]
  },
  {
   "cell_type": "markdown",
   "id": "50dcc416",
   "metadata": {},
   "source": [
    "### Raw Meat Diet Units & Prices"
   ]
  },
  {
   "cell_type": "code",
   "execution_count": 108,
   "id": "799973d6",
   "metadata": {},
   "outputs": [
    {
     "name": "stderr",
     "output_type": "stream",
     "text": [
      "/opt/conda/lib/python3.9/site-packages/pandas/core/dtypes/cast.py:1990: UnitStrippedWarning:\n",
      "\n",
      "The unit of the quantity is stripped when downcasting to ndarray.\n",
      "\n"
     ]
    },
    {
     "data": {
      "text/plain": [
       "Food\n",
       "Beef                                    2.8638047857815594 / hectogram\n",
       "Pork                                    2.2024179992269266 / hectogram\n",
       "Chicken, drumstick                      0.8796444261176615 / hectogram\n",
       "Canned Tuna                              0.698424446601692 / hectogram\n",
       "Atlantic Salmon                          3.525191572336192 / hectogram\n",
       "Bison                                   2.4228802614118043 / hectogram\n",
       "Bacon                                   1.7614934748571718 / hectogram\n",
       "Eggs                                   0.07825593780666174 / hectogram\n",
       "Turkey                                  2.8638047857815594 / hectogram\n",
       "Sausage                                  1.541031212672294 / hectogram\n",
       "Butter                                   2.641137900974833 / hectogram\n",
       "Raw Liver                                0.659182163932784 / hectogram\n",
       "Whole milk                             0.16627189797876257 / hectogram\n",
       "Yogurt                                  0.5500533441512695 / hectogram\n",
       "2% milk                                0.11869011477339332 / hectogram\n",
       "Cheddar Cheese                          1.8717246059496104 / hectogram\n",
       "Swiss Cheese                            2.2024179992269266 / hectogram\n",
       "Ghee                                     4.604427833151895 / hectogram\n",
       "Russet Potato                          0.37258122309244307 / hectogram\n",
       "Pasta                                  0.35053499687395534 / hectogram\n",
       "Lemon, raw                              1.7068965517241381 / hectogram\n",
       "Lime, raw                               1.0298507462686566 / hectogram\n",
       "Nuts, pecans, halves, raw                5.941143019793614 / hectogram\n",
       "Nuts, walnuts, English, halves, raw      2.641137900974833 / hectogram\n",
       "Cashews, NFS                            3.1005812553681174 / hectogram\n",
       "Pistachio nuts, NFS                      1.629216117546245 / hectogram\n",
       "Almond butter, creamy                   1.8717246059496104 / hectogram\n",
       "Peanut butter, creamy                   0.9898755572101002 / hectogram\n",
       "Name: FDC Price, dtype: object"
      ]
     },
     "execution_count": 108,
     "metadata": {},
     "output_type": "execute_result"
    }
   ],
   "source": [
    "meat_prices = getUnitsAndPrices(\"meat\")\n",
    "meat_prices"
   ]
  },
  {
   "cell_type": "markdown",
   "id": "d9451369",
   "metadata": {},
   "source": [
    "### Raw Vegan Diet Units & Prices"
   ]
  },
  {
   "cell_type": "code",
   "execution_count": 109,
   "id": "42f49dd3",
   "metadata": {},
   "outputs": [
    {
     "data": {
      "text/plain": [
       "Food\n",
       "Russet Potato                                    0.37258122309244307 / hectogram\n",
       "Pasta                                            0.35053499687395534 / hectogram\n",
       "Lemon, raw                                        1.7068965517241381 / hectogram\n",
       "Lime, raw                                         1.0298507462686566 / hectogram\n",
       "Nuts, pecans, halves, raw                          5.941143019793614 / hectogram\n",
       "                                                              ...               \n",
       "Quinoa, fat added                                 0.8355519736806859 / hectogram\n",
       "Almond milk, unsweetened, plain, refrigerated    0.19235332375630568 / hectogram\n",
       "Oat milk, unsweetened, plain, refrigerated       0.20467101177721655 / hectogram\n",
       "WHITE SLICED MUSHROOMS, WHITE                      1.318364327865568 / hectogram\n",
       "Nutritional Yeast                                  7.046953731705065 / hectogram\n",
       "Name: FDC Price, Length: 66, dtype: object"
      ]
     },
     "execution_count": 109,
     "metadata": {},
     "output_type": "execute_result"
    }
   ],
   "source": [
    "vegan_prices = getUnitsAndPrices(\"vegan\")\n",
    "vegan_prices"
   ]
  },
  {
   "cell_type": "markdown",
   "id": "c8b396d8",
   "metadata": {},
   "source": [
    "### USDA Diet Units & Prices"
   ]
  },
  {
   "cell_type": "code",
   "execution_count": 110,
   "id": "e97f3539",
   "metadata": {},
   "outputs": [
    {
     "data": {
      "text/plain": [
       "Food\n",
       "Beef                                              2.8638047857815594 / hectogram\n",
       "Pork                                              2.2024179992269266 / hectogram\n",
       "Chicken, drumstick                                0.8796444261176615 / hectogram\n",
       "Canned Tuna                                        0.698424446601692 / hectogram\n",
       "Atlantic Salmon                                    3.525191572336192 / hectogram\n",
       "                                                              ...               \n",
       "Quinoa, fat added                                 0.8355519736806859 / hectogram\n",
       "Almond milk, unsweetened, plain, refrigerated    0.19235332375630568 / hectogram\n",
       "Oat milk, unsweetened, plain, refrigerated       0.20467101177721655 / hectogram\n",
       "WHITE SLICED MUSHROOMS, WHITE                      1.318364327865568 / hectogram\n",
       "Nutritional Yeast                                  7.046953731705065 / hectogram\n",
       "Name: FDC Price, Length: 84, dtype: object"
      ]
     },
     "execution_count": 110,
     "metadata": {},
     "output_type": "execute_result"
    }
   ],
   "source": [
    "usda_prices = getUnitsAndPrices(\"usda\")\n",
    "usda_prices"
   ]
  },
  {
   "cell_type": "markdown",
   "id": "84578b81",
   "metadata": {},
   "source": [
    "### Dietary Requirements"
   ]
  },
  {
   "cell_type": "markdown",
   "id": "a640bb38",
   "metadata": {},
   "source": [
    "Our constraints come from US government recommendations, which is available to view at https://www.dietaryguidelines.gov/sites/default/files/2021-03/Dietary_Guidelines_for_Americans-2020-2025.pdf"
   ]
  },
  {
   "cell_type": "code",
   "execution_count": 111,
   "id": "2c4251b0",
   "metadata": {},
   "outputs": [
    {
     "name": "stdout",
     "output_type": "stream",
     "text": [
      "Key available for students@eep153.iam.gserviceaccount.com.\n"
     ]
    }
   ],
   "source": [
    "DRI_url = \"https://docs.google.com/spreadsheets/d/1y95IsQ4HKspPW3HHDtH7QMtlDA66IUsCHJLutVL-MMc/\"\n",
    "\n",
    "DRIs = read_sheets(DRI_url)\n",
    "\n",
    "# Define *minimums*\n",
    "diet_min = DRIs['diet_minimums'].set_index('Nutrition')\n",
    "\n",
    "# Define *maximums*\n",
    "diet_max = DRIs['diet_maximums'].set_index('Nutrition')"
   ]
  },
  {
   "cell_type": "markdown",
   "id": "25263369",
   "metadata": {},
   "source": [
    "### Using `solve_subsistence_problem` to analyze diet"
   ]
  },
  {
   "cell_type": "code",
   "execution_count": 112,
   "id": "98507cee",
   "metadata": {},
   "outputs": [],
   "source": [
    "def solve_subsistence_problem(FoodNutrients,Prices,dietmin,dietmax,max_weight=None,tol=1e-6):\n",
    "    \"\"\"Solve Stigler's Subsistence Cost Problem.\n",
    "\n",
    "    Inputs:\n",
    "       - FoodNutrients : A pd.DataFrame with rows corresponding to foods, columns to nutrients.\n",
    "       - Prices : A pd.Series of prices for different foods\n",
    "       - diet_min : A pd.Series of DRIs, with index corresponding to columns of FoodNutrients,\n",
    "                    describing minimum intakes.\n",
    "       - diet_max : A pd.Series of DRIs, with index corresponding to columns of FoodNutrients,\n",
    "                    describing maximum intakes.\n",
    "       - max_weight : Maximum weight (in hectograms) allowed for diet.\n",
    "       - tol : Solution values smaller than this in absolute value treated as zeros.\n",
    "       \n",
    "    \"\"\"\n",
    "    try: \n",
    "        p = Prices.apply(lambda x:x.magnitude)\n",
    "    except AttributeError:  # Maybe not passing in prices with units?\n",
    "        warnings.warn(\"Prices have no units.  BE CAREFUL!  We're assuming prices are per hectogram or deciliter!\")\n",
    "        p = Prices\n",
    "\n",
    "    p = p.dropna()\n",
    "\n",
    "    # Compile list that we have both prices and nutritional info for; drop if either missing\n",
    "    use = p.index.intersection(FoodNutrients.columns)\n",
    "    p = p[use]\n",
    "\n",
    "    # Drop nutritional information for foods we don't know the price of,\n",
    "    # and replace missing nutrients with zeros.\n",
    "    Aall = FoodNutrients[p.index].fillna(0)\n",
    "\n",
    "    # Drop rows of A that we don't have constraints for.\n",
    "    Amin = Aall.loc[Aall.index.intersection(dietmin.index)]\n",
    "    Amin = Amin.reindex(dietmin.index,axis=0)\n",
    "    idx = Amin.index.to_frame()\n",
    "    idx['type'] = 'min'\n",
    "    #Amin.index = pd.MultiIndex.from_frame(idx)\n",
    "    #dietmin.index = Amin.index\n",
    "    \n",
    "    Amax = Aall.loc[Aall.index.intersection(dietmax.index)]\n",
    "    Amax = Amax.reindex(dietmax.index,axis=0)\n",
    "    idx = Amax.index.to_frame()\n",
    "    idx['type'] = 'max'\n",
    "    #Amax.index = pd.MultiIndex.from_frame(idx)\n",
    "    #dietmax.index = Amax.index\n",
    "\n",
    "    # Minimum requirements involve multiplying constraint by -1 to make <=.\n",
    "    A = pd.concat([Amin,\n",
    "                   -Amax])\n",
    "\n",
    "    b = pd.concat([dietmin,\n",
    "                   -dietmax]) # Note sign change for max constraints\n",
    "\n",
    "    # Make sure order of p, A, b are consistent\n",
    "    A = A.reindex(p.index,axis=1)\n",
    "    A = A.reindex(b.index,axis=0)\n",
    "\n",
    "    if max_weight is not None:\n",
    "        # Add up weights of foods consumed\n",
    "        A.loc['Hectograms'] = -1\n",
    "        b.loc['Hectograms'] = -max_weight\n",
    "        \n",
    "    # Now solve problem!  (Note that the linear program solver we'll use assumes\n",
    "    # \"less-than-or-equal\" constraints.  We can switch back and forth by\n",
    "    # multiplying $A$ and $b$ by $-1$.)\n",
    "\n",
    "    result = lp(p, -A, -b, method='interior-point')\n",
    "\n",
    "    result.A = A\n",
    "    result.b = b\n",
    "    \n",
    "    if result.success:\n",
    "        result.diet = pd.Series(result.x,index=p.index)\n",
    "    else: # No feasible solution?\n",
    "        warnings.warn(result.message)\n",
    "        result.diet = pd.Series(result.x,index=p.index)*np.nan  \n",
    "\n",
    "    return result"
   ]
  },
  {
   "cell_type": "code",
   "execution_count": 113,
   "id": "fda8e024",
   "metadata": {},
   "outputs": [],
   "source": [
    "## This prints out the solution to the minimum diet cost problem for a given population and diet.\n",
    "def getPopulationSolution(group, diet):\n",
    "    \n",
    "    diet = diet.lower()\n",
    "    \n",
    "    if diet == \"meat\":\n",
    "        nutrients_df = Raw_Meat_FoodNutrients\n",
    "        diet_prices = meat_prices\n",
    "    elif diet == \"vegan\":\n",
    "        nutrients_df = Raw_Vegan_FoodNutrients\n",
    "        diet_prices = vegan_prices\n",
    "    elif diet == \"usda\":\n",
    "        nutrients_df = USDA_FoodNutrients\n",
    "        diet_prices = usda_prices\n",
    "    else:\n",
    "        print(\"Diet not found, please choose from meat, vegan, or usda.\")\n",
    "        return\n",
    "    \n",
    "    tol = 1e-6\n",
    "\n",
    "    result = solve_subsistence_problem(nutrients_df,diet_prices,diet_min[group],diet_max[group],tol=tol)\n",
    "\n",
    "    print(\"Cost of diet for %s is $%4.2f per day.\\n\" % (group,result.fun))\n",
    "\n",
    "    # Put back into nice series\n",
    "    diet = result.diet\n",
    "\n",
    "    print(\"\\nDiet (in 100s of grams or milliliters):\")\n",
    "    print(diet[diet >= tol])  # Drop items with quantities less than precision of calculation.\n",
    "    print()\n",
    "\n",
    "    tab = pd.DataFrame({\"Outcome\":np.abs(result.A).dot(diet),\"Recommendation\":np.abs(result.b)})\n",
    "    print(\"\\nWith the following nutritional outcomes of interest:\")\n",
    "    print(tab)\n",
    "    print()\n",
    "\n",
    "    print(\"\\nConstraining nutrients are:\")\n",
    "    excess = tab.diff(axis=1).iloc[:,1]\n",
    "    print(excess.loc[np.abs(excess) < tol*100].index.tolist())"
   ]
  },
  {
   "cell_type": "markdown",
   "id": "72a57b65",
   "metadata": {},
   "source": [
    "### Results"
   ]
  },
  {
   "cell_type": "markdown",
   "id": "1d57a7c2",
   "metadata": {},
   "source": [
    "#### Raw Meat Diet Results"
   ]
  },
  {
   "cell_type": "code",
   "execution_count": 114,
   "id": "7c60bed8",
   "metadata": {},
   "outputs": [
    {
     "name": "stdout",
     "output_type": "stream",
     "text": [
      "Cost of diet for M 19-30 is $16.83 per day.\n",
      "\n",
      "\n",
      "Diet (in 100s of grams or milliliters):\n",
      "Raw Liver                0.430678\n",
      "2% milk                  2.531126\n",
      "Lime, raw                2.942569\n",
      "Cashews, NFS             2.842878\n",
      "Pistachio nuts, NFS      1.356587\n",
      "Almond butter, creamy    1.168707\n",
      "dtype: float64\n",
      "\n",
      "\n",
      "With the following nutritional outcomes of interest:\n",
      "                                    Outcome  Recommendation\n",
      "Nutrition                                                  \n",
      "Energy                          3100.000000          2400.0\n",
      "Protein                          118.169883            56.0\n",
      "Fiber, total dietary              42.098166            33.6\n",
      "Folate, DFE                      400.000000           400.0\n",
      "Calcium, Ca                     1000.000000          1000.0\n",
      "Carbohydrate, by difference      201.677519           130.0\n",
      "Iron, Fe                          31.726653             8.0\n",
      "Magnesium, Mg                   1257.499889           400.0\n",
      "Niacin                            18.729760            16.0\n",
      "Phosphorus, P                   3142.495458           700.0\n",
      "Potassium, K                    4700.000000          4700.0\n",
      "Riboflavin                         2.755938             1.3\n",
      "Thiamin                            1.935329             1.2\n",
      "Vitamin A, RAE                  3541.211787           900.0\n",
      "Vitamin B-12                      36.923060             2.4\n",
      "Vitamin B-6                        3.065254             1.3\n",
      "Vitamin C, total ascorbic acid    90.000000            90.0\n",
      "Vitamin E (alpha-tocopherol)      25.963001            15.0\n",
      "Vitamin K (phylloquinone)        120.000000           120.0\n",
      "Zinc, Zn                          26.455968            11.0\n",
      "Sodium, Na                       324.769393          2300.0\n",
      "Energy                          3100.000000          3100.0\n",
      "\n",
      "\n",
      "Constraining nutrients are:\n",
      "['Folate, DFE', 'Calcium, Ca', 'Potassium, K', 'Vitamin C, total ascorbic acid', 'Vitamin K (phylloquinone)', 'Energy']\n",
      "Cost of diet for F 19-30 is $13.22 per day.\n",
      "\n",
      "\n",
      "Diet (in 100s of grams or milliliters):\n",
      "Raw Liver                0.595806\n",
      "2% milk                  3.339424\n",
      "Lime, raw                2.329398\n",
      "Cashews, NFS             1.624492\n",
      "Pistachio nuts, NFS      2.265821\n",
      "Almond butter, creamy    0.694627\n",
      "dtype: float64\n",
      "\n",
      "\n",
      "With the following nutritional outcomes of interest:\n",
      "                                    Outcome  Recommendation\n",
      "Nutrition                                                  \n",
      "Energy                          3100.000000          2000.0\n",
      "Protein                          115.397168            46.0\n",
      "Fiber, total dietary              41.484134            28.0\n",
      "Folate, DFE                      400.000000           400.0\n",
      "Calcium, Ca                     1000.000000          1000.0\n",
      "Carbohydrate, by difference      175.867572           130.0\n",
      "Iron, Fe                          26.775712            18.0\n",
      "Magnesium, Mg                    922.520809           310.0\n",
      "Niacin                            19.241102            14.0\n",
      "Phosphorus, P                   2883.250324           700.0\n",
      "Potassium, K                    4700.000000          4700.0\n",
      "Riboflavin                         3.384930             1.1\n",
      "Thiamin                            2.337098             1.1\n",
      "Vitamin A, RAE                  4887.077629           700.0\n",
      "Vitamin B-12                      50.990688             2.4\n",
      "Vitamin B-6                        3.923356             1.3\n",
      "Vitamin C, total ascorbic acid    75.000000            75.0\n",
      "Vitamin E (alpha-tocopherol)      18.877519            15.0\n",
      "Vitamin K (phylloquinone)         90.000000            90.0\n",
      "Zinc, Zn                          21.391122             8.0\n",
      "Sodium, Na                       403.964731          2300.0\n",
      "Energy                          3100.000000          3100.0\n",
      "\n",
      "\n",
      "Constraining nutrients are:\n",
      "['Folate, DFE', 'Calcium, Ca', 'Potassium, K', 'Vitamin C, total ascorbic acid', 'Vitamin K (phylloquinone)', 'Energy']\n"
     ]
    }
   ],
   "source": [
    "getPopulationSolution(\"M 19-30\", \"meat\")\n",
    "getPopulationSolution(\"F 19-30\", \"meat\")"
   ]
  },
  {
   "cell_type": "markdown",
   "id": "c436abd1",
   "metadata": {},
   "source": [
    "#### Raw Vegan Diet Results"
   ]
  },
  {
   "cell_type": "code",
   "execution_count": 115,
   "id": "e9fc37e4",
   "metadata": {},
   "outputs": [
    {
     "name": "stdout",
     "output_type": "stream",
     "text": [
      "Cost of diet for M 19-30 is $6.06 per day.\n",
      "\n",
      "\n",
      "Diet (in 100s of grams or milliliters):\n",
      "Russet Potato            1.730485\n",
      "Peanut butter, creamy    2.541607\n",
      "White bread              1.038012\n",
      "Collards, raw            0.115433\n",
      "Carrots, raw             1.025215\n",
      "Avocado, raw             2.138831\n",
      "Lentils, NFS             0.832502\n",
      "Oranges, raw, navels     0.822748\n",
      "Nutritional Yeast        0.016000\n",
      "dtype: float64\n",
      "\n",
      "\n",
      "With the following nutritional outcomes of interest:\n",
      "                                    Outcome  Recommendation\n",
      "Nutrition                                                  \n",
      "Energy                          2400.000001          2400.0\n",
      "Protein                          101.904170            56.0\n",
      "Fiber, total dietary              64.147959            33.6\n",
      "Folate, DFE                      400.000002           400.0\n",
      "Calcium, Ca                     1000.000000          1000.0\n",
      "Carbohydrate, by difference      228.136583           130.0\n",
      "Iron, Fe                          13.243377             8.0\n",
      "Magnesium, Mg                    642.551780           400.0\n",
      "Niacin                            60.895711            16.0\n",
      "Phosphorus, P                   1370.362637           700.0\n",
      "Potassium, K                    4700.000000          4700.0\n",
      "Riboflavin                         1.724276             1.3\n",
      "Thiamin                            2.242950             1.2\n",
      "Vitamin A, RAE                   900.000006           900.0\n",
      "Vitamin B-12                       2.400000             2.4\n",
      "Vitamin B-6                        3.574343             1.3\n",
      "Vitamin C, total ascorbic acid    90.000000            90.0\n",
      "Vitamin E (alpha-tocopherol)      19.534369            15.0\n",
      "Vitamin K (phylloquinone)        120.000000           120.0\n",
      "Zinc, Zn                          11.000000            11.0\n",
      "Sodium, Na                      1188.176295          2300.0\n",
      "Energy                          2400.000001          3100.0\n",
      "\n",
      "\n",
      "Constraining nutrients are:\n",
      "['Energy', 'Folate, DFE', 'Calcium, Ca', 'Potassium, K', 'Vitamin A, RAE', 'Vitamin B-12', 'Vitamin C, total ascorbic acid', 'Vitamin K (phylloquinone)', 'Zinc, Zn']\n",
      "Cost of diet for F 19-30 is $5.54 per day.\n",
      "\n",
      "\n",
      "Diet (in 100s of grams or milliliters):\n",
      "Peanut butter, creamy    1.660096\n",
      "White bread              1.099846\n",
      "Collards, raw            0.043027\n",
      "Carrots, raw             0.804588\n",
      "Avocado, raw             2.481324\n",
      "Black beans, NFS         1.315941\n",
      "Lentils, NFS             1.411712\n",
      "Oranges, raw, navels     0.743161\n",
      "Nutritional Yeast        0.016000\n",
      "dtype: float64\n",
      "\n",
      "\n",
      "With the following nutritional outcomes of interest:\n",
      "                                    Outcome  Recommendation\n",
      "Nutrition                                                  \n",
      "Energy                          2381.783768          2000.0\n",
      "Protein                          121.223405            46.0\n",
      "Fiber, total dietary             114.842537            28.0\n",
      "Folate, DFE                      400.000000           400.0\n",
      "Calcium, Ca                     1000.000000          1000.0\n",
      "Carbohydrate, by difference      296.060885           130.0\n",
      "Iron, Fe                          18.000000            18.0\n",
      "Magnesium, Mg                    439.057513           310.0\n",
      "Niacin                            44.509651            14.0\n",
      "Phosphorus, P                    941.391753           700.0\n",
      "Potassium, K                    4700.000000          4700.0\n",
      "Riboflavin                         1.701194             1.1\n",
      "Thiamin                            2.025339             1.1\n",
      "Vitamin A, RAE                   700.000000           700.0\n",
      "Vitamin B-12                       2.400000             2.4\n",
      "Vitamin B-6                        2.686197             1.3\n",
      "Vitamin C, total ascorbic acid    75.000000            75.0\n",
      "Vitamin E (alpha-tocopherol)      15.168651            15.0\n",
      "Vitamin K (phylloquinone)         90.000000            90.0\n",
      "Zinc, Zn                           8.000000             8.0\n",
      "Sodium, Na                      1034.978301          2300.0\n",
      "Energy                          2381.783768          3100.0\n",
      "\n",
      "\n",
      "Constraining nutrients are:\n",
      "['Folate, DFE', 'Calcium, Ca', 'Iron, Fe', 'Potassium, K', 'Vitamin A, RAE', 'Vitamin B-12', 'Vitamin C, total ascorbic acid', 'Vitamin K (phylloquinone)', 'Zinc, Zn']\n"
     ]
    }
   ],
   "source": [
    "getPopulationSolution(\"M 19-30\", \"vegan\")\n",
    "getPopulationSolution(\"F 19-30\", \"vegan\")"
   ]
  },
  {
   "cell_type": "markdown",
   "id": "dfc6f73d",
   "metadata": {},
   "source": [
    "##### USDA Diet Results"
   ]
  },
  {
   "cell_type": "code",
   "execution_count": 116,
   "id": "7e9d4dd2",
   "metadata": {},
   "outputs": [
    {
     "name": "stdout",
     "output_type": "stream",
     "text": [
      "Cost of diet for M 19-30 is $4.80 per day.\n",
      "\n",
      "\n",
      "Diet (in 100s of grams or milliliters):\n",
      "Eggs                         1.222593\n",
      "Raw Liver                    0.191353\n",
      "2% milk                      6.472177\n",
      "Peanut butter, creamy        0.810334\n",
      "Collards, raw                0.034877\n",
      "Avocado, raw                 4.952972\n",
      "Black beans, NFS             0.075780\n",
      "Lentils, NFS                 0.514558\n",
      "Peppers, bell, green, raw    0.392977\n",
      "Nutritional Yeast            0.003928\n",
      "dtype: float64\n",
      "\n",
      "\n",
      "With the following nutritional outcomes of interest:\n",
      "                                    Outcome  Recommendation\n",
      "Nutrition                                                  \n",
      "Energy                          3100.000000          2400.0\n",
      "Protein                           85.363937            56.0\n",
      "Fiber, total dietary              51.787287            33.6\n",
      "Folate, DFE                      455.058988           400.0\n",
      "Calcium, Ca                     1000.000000          1000.0\n",
      "Carbohydrate, by difference      135.056549           130.0\n",
      "Iron, Fe                           8.000000             8.0\n",
      "Magnesium, Mg                    400.000000           400.0\n",
      "Niacin                            28.241821            16.0\n",
      "Phosphorus, P                   1567.264202           700.0\n",
      "Potassium, K                    4700.000000          4700.0\n",
      "Riboflavin                         2.980295             1.3\n",
      "Thiamin                            1.200000             1.2\n",
      "Vitamin A, RAE                  2270.273853           900.0\n",
      "Vitamin B-12                      21.182520             2.4\n",
      "Vitamin B-6                        2.633786             1.3\n",
      "Vitamin C, total ascorbic acid    90.000000            90.0\n",
      "Vitamin E (alpha-tocopherol)      15.000000            15.0\n",
      "Vitamin K (phylloquinone)        120.000000           120.0\n",
      "Zinc, Zn                          11.000000            11.0\n",
      "Sodium, Na                       714.481974          2300.0\n",
      "Energy                          3100.000000          3100.0\n",
      "\n",
      "\n",
      "Constraining nutrients are:\n",
      "['Calcium, Ca', 'Iron, Fe', 'Magnesium, Mg', 'Potassium, K', 'Thiamin', 'Vitamin C, total ascorbic acid', 'Vitamin E (alpha-tocopherol)', 'Vitamin K (phylloquinone)', 'Zinc, Zn', 'Energy']\n",
      "Cost of diet for F 19-30 is $4.79 per day.\n",
      "\n",
      "\n",
      "Diet (in 100s of grams or milliliters):\n",
      "Eggs                                             1.277310\n",
      "Raw Liver                                        0.200739\n",
      "2% milk                                          4.935881\n",
      "Peanut butter, creamy                            0.491187\n",
      "Avocado, raw                                     4.298882\n",
      "Black beans, NFS                                 1.901785\n",
      "Peppers, bell, green, raw                        0.000001\n",
      "Oranges, raw, navels                             0.539264\n",
      "Almond milk, unsweetened, plain, refrigerated    0.964488\n",
      "Nutritional Yeast                                0.004696\n",
      "dtype: float64\n",
      "\n",
      "\n",
      "With the following nutritional outcomes of interest:\n",
      "                                    Outcome  Recommendation\n",
      "Nutrition                                                  \n",
      "Energy                          3099.999956          2000.0\n",
      "Protein                          102.815418            46.0\n",
      "Fiber, total dietary              98.311985            28.0\n",
      "Folate, DFE                      400.000008           400.0\n",
      "Calcium, Ca                     1000.000038          1000.0\n",
      "Carbohydrate, by difference      195.200365           130.0\n",
      "Iron, Fe                          18.000000            18.0\n",
      "Magnesium, Mg                    310.000004           310.0\n",
      "Niacin                            21.898322            14.0\n",
      "Phosphorus, P                   1297.990575           700.0\n",
      "Potassium, K                    4700.000015          4700.0\n",
      "Riboflavin                         2.807969             1.1\n",
      "Thiamin                            1.100000             1.1\n",
      "Vitamin A, RAE                  2250.902077           700.0\n",
      "Vitamin B-12                      21.610884             2.4\n",
      "Vitamin B-6                        2.258755             1.3\n",
      "Vitamin C, total ascorbic acid    75.000003            75.0\n",
      "Vitamin E (alpha-tocopherol)      15.000000            15.0\n",
      "Vitamin K (phylloquinone)         91.059410            90.0\n",
      "Zinc, Zn                           9.226709             8.0\n",
      "Sodium, Na                       663.140230          2300.0\n",
      "Energy                          3099.999956          3100.0\n",
      "\n",
      "\n",
      "Constraining nutrients are:\n",
      "['Folate, DFE', 'Calcium, Ca', 'Iron, Fe', 'Magnesium, Mg', 'Potassium, K', 'Thiamin', 'Vitamin C, total ascorbic acid', 'Vitamin E (alpha-tocopherol)', 'Energy']\n"
     ]
    }
   ],
   "source": [
    "getPopulationSolution(\"M 19-30\", \"usda\")\n",
    "getPopulationSolution(\"F 19-30\", \"usda\")"
   ]
  },
  {
   "cell_type": "markdown",
   "id": "a56ae069",
   "metadata": {},
   "source": [
    "## [C] Sensitivity of Solution: Effects of Price Changes on Subsistence Diet Cost <a class=\"anchor\" id=\"sensitivity\"></a>"
   ]
  },
  {
   "cell_type": "markdown",
   "id": "5e4401e6",
   "metadata": {},
   "source": [
    "As prices change, we should expect the minimum cost diet to also change. The code below creates a graph which changes prices away from the `base’ case one food at a time, and plots changes in total diet cost."
   ]
  },
  {
   "cell_type": "code",
   "execution_count": 117,
   "id": "d02500f4",
   "metadata": {},
   "outputs": [],
   "source": [
    "def getPriceChangesGraph(diet):\n",
    "\n",
    "    diet = diet.lower()\n",
    "    if diet == \"meat\":\n",
    "        diet_FoodNutrients = Raw_Meat_FoodNutrients\n",
    "        diet_prices = meat_prices\n",
    "        graphType = \"Raw Meat\"\n",
    "    elif diet == \"vegan\":\n",
    "        diet_FoodNutrients = Raw_Vegan_FoodNutrients\n",
    "        diet_prices = vegan_prices\n",
    "        graphType = \"Raw Vegan\"\n",
    "    elif diet == \"usda\":\n",
    "        diet_FoodNutrients = USDA_FoodNutrients\n",
    "        diet_prices = usda_prices\n",
    "        graphType = \"USDA\"\n",
    "    else:\n",
    "        print(\"Please choose correct diet.\")\n",
    "        \n",
    "    cf.go_offline()\n",
    "    group = 'M 19-30'\n",
    "    tol = 1e-6\n",
    "    scale = [.5,.6,.7,.8,.9,1.,1.1,1.2,1.3,1.4,1.5]\n",
    "    \n",
    "    cost0 = solve_subsistence_problem(diet_FoodNutrients,diet_prices,diet_min[group],diet_max[group],tol=tol).fun\n",
    "    \n",
    "    Price_response={}\n",
    "    for s in scale:\n",
    "        cost = {}\n",
    "        for i,p in enumerate(diet_prices):\n",
    "            my_p = diet_prices.copy()\n",
    "            my_p[i] = p*s\n",
    "            result = solve_subsistence_problem(diet_FoodNutrients,my_p,diet_min[group],diet_max[group],tol=tol)\n",
    "            cost[diet_prices.index[i]] = np.log(result.fun/cost0)\n",
    "        Price_response[np.log(s)] = cost\n",
    "        \n",
    "    Price_response = pd.DataFrame(Price_response).T\n",
    "    Price_response.iplot(title= \"Effects of Price Changes on Subsistence Diet Composition for \" + graphType + \" Diet\",xTitle='change in log price',yTitle='change in log cost')"
   ]
  },
  {
   "cell_type": "code",
   "execution_count": 118,
   "id": "0bb857ee",
   "metadata": {},
   "outputs": [
    {
     "data": {
      "text/html": [
       "        <script type=\"text/javascript\">\n",
       "        window.PlotlyConfig = {MathJaxConfig: 'local'};\n",
       "        if (window.MathJax) {MathJax.Hub.Config({SVG: {font: \"STIX-Web\"}});}\n",
       "        if (typeof require !== 'undefined') {\n",
       "        require.undef(\"plotly\");\n",
       "        requirejs.config({\n",
       "            paths: {\n",
       "                'plotly': ['https://cdn.plot.ly/plotly-2.3.1.min']\n",
       "            }\n",
       "        });\n",
       "        require(['plotly'], function(Plotly) {\n",
       "            window._Plotly = Plotly;\n",
       "        });\n",
       "        }\n",
       "        </script>\n",
       "        "
      ]
     },
     "metadata": {},
     "output_type": "display_data"
    },
    {
     "data": {
      "application/vnd.plotly.v1+json": {
       "config": {
        "linkText": "Export to plot.ly",
        "plotlyServerURL": "https://plot.ly",
        "showLink": true
       },
       "data": [
        {
         "line": {
          "color": "rgba(255, 153, 51, 1.0)",
          "dash": "solid",
          "shape": "linear",
          "width": 1.3
         },
         "mode": "lines",
         "name": "Beef",
         "text": "",
         "type": "scatter",
         "x": [
          -0.6931471805599453,
          -0.5108256237659907,
          -0.35667494393873245,
          -0.22314355131420968,
          -0.10536051565782628,
          0,
          0.09531017980432495,
          0.1823215567939546,
          0.26236426446749106,
          0.33647223662121284,
          0.4054651081081644
         ],
         "y": [
          7.1691541591887875e-12,
          5.442979400512479e-12,
          3.895106459587313e-12,
          2.478017790960279e-12,
          1.2108092306554627e-12,
          0,
          -1.0824674490101135e-12,
          -2.098876628056061e-12,
          -3.0628832803405723e-12,
          -3.927080882711815e-12,
          -4.810596365712374e-12
         ]
        },
        {
         "line": {
          "color": "rgba(55, 128, 191, 1.0)",
          "dash": "solid",
          "shape": "linear",
          "width": 1.3
         },
         "mode": "lines",
         "name": "Pork",
         "text": "",
         "type": "scatter",
         "x": [
          -0.6931471805599453,
          -0.5108256237659907,
          -0.35667494393873245,
          -0.22314355131420968,
          -0.10536051565782628,
          0,
          0.09531017980432495,
          0.1823215567939546,
          0.26236426446749106,
          0.33647223662121284,
          0.4054651081081644
         ],
         "y": [
          2.4642510254549614e-12,
          1.9637624859550487e-12,
          1.4519496716037256e-12,
          9.72777414176089e-13,
          4.964917366122467e-13,
          0,
          -4.3287595730144224e-13,
          -9.030554082305101e-13,
          -1.3288259381747328e-12,
          -1.7624790515939892e-12,
          -2.179922908853871e-12
         ]
        },
        {
         "line": {
          "color": "rgba(50, 171, 96, 1.0)",
          "dash": "solid",
          "shape": "linear",
          "width": 1.3
         },
         "mode": "lines",
         "name": "Chicken, drumstick",
         "text": "",
         "type": "scatter",
         "x": [
          -0.6931471805599453,
          -0.5108256237659907,
          -0.35667494393873245,
          -0.22314355131420968,
          -0.10536051565782628,
          0,
          0.09531017980432495,
          0.1823215567939546,
          0.26236426446749106,
          0.33647223662121284,
          0.4054651081081644
         ],
         "y": [
          3.677946835971455e-12,
          2.91588975187126e-12,
          2.1560531138197296e-12,
          1.415312311791148e-12,
          7.067679774761248e-13,
          0,
          -6.640243910285266e-13,
          -1.3069545445895883e-12,
          -1.923794457072322e-12,
          -2.559730205579037e-12,
          -3.1133984279611732e-12
         ]
        },
        {
         "line": {
          "color": "rgba(128, 0, 128, 1.0)",
          "dash": "solid",
          "shape": "linear",
          "width": 1.3
         },
         "mode": "lines",
         "name": "Canned Tuna",
         "text": "",
         "type": "scatter",
         "x": [
          -0.6931471805599453,
          -0.5108256237659907,
          -0.35667494393873245,
          -0.22314355131420968,
          -0.10536051565782628,
          0,
          0.09531017980432495,
          0.1823215567939546,
          0.26236426446749106,
          0.33647223662121284,
          0.4054651081081644
         ],
         "y": [
          1.3955947508650683e-11,
          1.1020295786973505e-11,
          8.146816554666213e-12,
          5.358602450641424e-12,
          2.6494362259619637e-12,
          0,
          -2.581046487651895e-12,
          -5.11024556006019e-12,
          -7.622680264802915e-12,
          -1.006761340965406e-11,
          -1.2450485087433863e-11
         ]
        },
        {
         "line": {
          "color": "rgba(219, 64, 82, 1.0)",
          "dash": "solid",
          "shape": "linear",
          "width": 1.3
         },
         "mode": "lines",
         "name": "Atlantic Salmon",
         "text": "",
         "type": "scatter",
         "x": [
          -0.6931471805599453,
          -0.5108256237659907,
          -0.35667494393873245,
          -0.22314355131420968,
          -0.10536051565782628,
          0,
          0.09531017980432495,
          0.1823215567939546,
          0.26236426446749106,
          0.33647223662121284,
          0.4054651081081644
         ],
         "y": [
          7.80331355084993e-12,
          6.3742344735625586e-12,
          4.904521233572064e-12,
          3.3644198538184146e-12,
          1.7441603716845998e-12,
          0,
          -1.812994199214524e-12,
          -3.747224752721849e-12,
          -5.827449633971964e-12,
          -8.0745410358289e-12,
          -1.0484613177707555e-11
         ]
        },
        {
         "line": {
          "color": "rgba(0, 128, 128, 1.0)",
          "dash": "solid",
          "shape": "linear",
          "width": 1.3
         },
         "mode": "lines",
         "name": "Bison",
         "text": "",
         "type": "scatter",
         "x": [
          -0.6931471805599453,
          -0.5108256237659907,
          -0.35667494393873245,
          -0.22314355131420968,
          -0.10536051565782628,
          0,
          0.09531017980432495,
          0.1823215567939546,
          0.26236426446749106,
          0.33647223662121284,
          0.4054651081081644
         ],
         "y": [
          1.3629319894810468e-11,
          1.062194776574231e-11,
          7.73958674923694e-12,
          5.0488502267726165e-12,
          2.459588088751547e-12,
          0,
          -2.303823798402316e-12,
          -4.532818564949863e-12,
          -6.606271085751353e-12,
          -8.617551117177596e-12,
          -1.051525533318753e-11
         ]
        },
        {
         "line": {
          "color": "rgba(255, 255, 51, 1.0)",
          "dash": "solid",
          "shape": "linear",
          "width": 1.3
         },
         "mode": "lines",
         "name": "Bacon",
         "text": "",
         "type": "scatter",
         "x": [
          -0.6931471805599453,
          -0.5108256237659907,
          -0.35667494393873245,
          -0.22314355131420968,
          -0.10536051565782628,
          0,
          0.09531017980432495,
          0.1823215567939546,
          0.26236426446749106,
          0.33647223662121284,
          0.4054651081081644
         ],
         "y": [
          2.152944489350786e-12,
          1.7155166176493203e-12,
          1.2916334668480729e-12,
          8.493206138378841e-13,
          4.360956040726664e-13,
          0,
          -3.9712677590849736e-13,
          -7.855938122250693e-13,
          -1.1880496586520858e-12,
          -1.5545342790813524e-12,
          -1.9263479700289646e-12
         ]
        },
        {
         "line": {
          "color": "rgba(128, 128, 0, 1.0)",
          "dash": "solid",
          "shape": "linear",
          "width": 1.3
         },
         "mode": "lines",
         "name": "Eggs",
         "text": "",
         "type": "scatter",
         "x": [
          -0.6931471805599453,
          -0.5108256237659907,
          -0.35667494393873245,
          -0.22314355131420968,
          -0.10536051565782628,
          0,
          0.09531017980432495,
          0.1823215567939546,
          0.26236426446749106,
          0.33647223662121284,
          0.4054651081081644
         ],
         "y": [
          1.8984813721088374e-13,
          1.5187850976870988e-13,
          1.0946799022803444e-13,
          6.949996134153239e-14,
          4.7073456244105527e-14,
          0,
          -2.087219286295316e-14,
          -5.05151476204459e-14,
          -9.15933995315796e-14,
          -9.714451465470592e-14,
          -1.4865886299731952e-13
         ]
        },
        {
         "line": {
          "color": "rgba(251, 128, 114, 1.0)",
          "dash": "solid",
          "shape": "linear",
          "width": 1.3
         },
         "mode": "lines",
         "name": "Turkey",
         "text": "",
         "type": "scatter",
         "x": [
          -0.6931471805599453,
          -0.5108256237659907,
          -0.35667494393873245,
          -0.22314355131420968,
          -0.10536051565782628,
          0,
          0.09531017980432495,
          0.1823215567939546,
          0.26236426446749106,
          0.33647223662121284,
          0.4054651081081644
         ],
         "y": [
          6.914913086551417e-12,
          5.377698286664874e-12,
          3.94884125397896e-12,
          2.57394106028765e-12,
          1.259881088343834e-12,
          0,
          -1.1632916852029156e-12,
          -2.3201440768643437e-12,
          -3.3667513221814547e-12,
          -4.384825835766669e-12,
          -5.370148770126301e-12
         ]
        },
        {
         "line": {
          "color": "rgba(128, 177, 211, 1.0)",
          "dash": "solid",
          "shape": "linear",
          "width": 1.3
         },
         "mode": "lines",
         "name": "Sausage",
         "text": "",
         "type": "scatter",
         "x": [
          -0.6931471805599453,
          -0.5108256237659907,
          -0.35667494393873245,
          -0.22314355131420968,
          -0.10536051565782628,
          0,
          0.09531017980432495,
          0.1823215567939546,
          0.26236426446749106,
          0.33647223662121284,
          0.4054651081081644
         ],
         "y": [
          1.5673018438510515e-11,
          1.2590817277589711e-11,
          9.467093775538822e-12,
          6.336264846120619e-12,
          3.1892266605331392e-12,
          0,
          -3.1654678878162563e-12,
          -6.339484492932201e-12,
          -9.507727938330113e-12,
          -1.2660983372905436e-11,
          -1.5822454457873057e-11
         ]
        },
        {
         "line": {
          "color": "rgba(128, 177, 211, 0.8999999999999999)",
          "dash": "solid",
          "shape": "linear",
          "width": 1.3
         },
         "mode": "lines",
         "name": "Butter",
         "text": "",
         "type": "scatter",
         "x": [
          -0.6931471805599453,
          -0.5108256237659907,
          -0.35667494393873245,
          -0.22314355131420968,
          -0.10536051565782628,
          0,
          0.09531017980432495,
          0.1823215567939546,
          0.26236426446749106,
          0.33647223662121284,
          0.4054651081081644
         ],
         "y": [
          2.7483637584200476e-10,
          1.8961721080380239e-10,
          1.1972471895598842e-09,
          1.2488983173159522e-09,
          1.0208278666302344e-10,
          0,
          -3.0125901773249e-12,
          -1.8103962773516453e-11,
          3.2805051512323863e-07,
          2.871601195307751e-07,
          2.9600573718782994e-07
         ]
        },
        {
         "line": {
          "color": "rgba(255, 153, 51, 0.8999999999999999)",
          "dash": "solid",
          "shape": "linear",
          "width": 1.3
         },
         "mode": "lines",
         "name": "Raw Liver",
         "text": "",
         "type": "scatter",
         "x": [
          -0.6931471805599453,
          -0.5108256237659907,
          -0.35667494393873245,
          -0.22314355131420968,
          -0.10536051565782628,
          0,
          0.09531017980432495,
          0.1823215567939546,
          0.26236426446749106,
          0.33647223662121284,
          0.4054651081081644
         ],
         "y": [
          -0.021133695993620867,
          -0.01082780746590363,
          -0.0050742865565713505,
          -0.003379995236691793,
          -0.0016885695798423063,
          0,
          0.0016857231162658685,
          0.003368609350612558,
          0.005048668236006617,
          0.006725909257194257,
          0.00840034185118878
         ]
        },
        {
         "line": {
          "color": "rgba(55, 128, 191, 0.8999999999999999)",
          "dash": "solid",
          "shape": "linear",
          "width": 1.3
         },
         "mode": "lines",
         "name": "Whole milk",
         "text": "",
         "type": "scatter",
         "x": [
          -0.6931471805599453,
          -0.5108256237659907,
          -0.35667494393873245,
          -0.22314355131420968,
          -0.10536051565782628,
          0,
          0.09531017980432495,
          0.1823215567939546,
          0.26236426446749106,
          0.33647223662121284,
          0.4054651081081644
         ],
         "y": [
          -1.416311512515315e-12,
          -1.1073364447617442e-12,
          -8.040235144338616e-13,
          -4.938272013533916e-13,
          -2.3503421431317326e-13,
          0,
          2.546851618489785e-13,
          4.849454171561507e-13,
          6.852296507984119e-13,
          8.792966355027373e-13,
          1.0849099396631145e-12
         ]
        },
        {
         "line": {
          "color": "rgba(50, 171, 96, 0.8999999999999999)",
          "dash": "solid",
          "shape": "linear",
          "width": 1.3
         },
         "mode": "lines",
         "name": "Yogurt",
         "text": "",
         "type": "scatter",
         "x": [
          -0.6931471805599453,
          -0.5108256237659907,
          -0.35667494393873245,
          -0.22314355131420968,
          -0.10536051565782628,
          0,
          0.09531017980432495,
          0.1823215567939546,
          0.26236426446749106,
          0.33647223662121284,
          0.4054651081081644
         ],
         "y": [
          -8.996137168541689e-13,
          1.1706191571640798e-12,
          2.0368151609752378e-12,
          1.984856723422885e-12,
          1.2534417948010162e-12,
          0,
          -1.6479040354524776e-12,
          -3.6419756099869955e-12,
          -5.901945598924749e-12,
          -8.39017744173243e-12,
          -1.104660807277886e-11
         ]
        },
        {
         "line": {
          "color": "rgba(128, 0, 128, 0.8999999999999999)",
          "dash": "solid",
          "shape": "linear",
          "width": 1.3
         },
         "mode": "lines",
         "name": "2% milk",
         "text": "",
         "type": "scatter",
         "x": [
          -0.6931471805599453,
          -0.5108256237659907,
          -0.35667494393873245,
          -0.22314355131420968,
          -0.10536051565782628,
          0,
          0.09531017980432495,
          0.1823215567939546,
          0.26236426446749106,
          0.33647223662121284,
          0.4054651081081644
         ],
         "y": [
          -0.011726059974449811,
          -0.008344542205297168,
          -0.005370425204183555,
          -0.003577083045703312,
          -0.0017869420760509075,
          0,
          0.0017837546008451998,
          0.003564333089200808,
          0.005342028651655024,
          0.0071161364475336945,
          0.008887178847656423
         ]
        },
        {
         "line": {
          "color": "rgba(219, 64, 82, 0.8999999999999999)",
          "dash": "solid",
          "shape": "linear",
          "width": 1.3
         },
         "mode": "lines",
         "name": "Cheddar Cheese",
         "text": "",
         "type": "scatter",
         "x": [
          -0.6931471805599453,
          -0.5108256237659907,
          -0.35667494393873245,
          -0.22314355131420968,
          -0.10536051565782628,
          0,
          0.09531017980432495,
          0.1823215567939546,
          0.26236426446749106,
          0.33647223662121284,
          0.4054651081081644
         ],
         "y": [
          2.2732926652198864e-12,
          -1.4180212559822889e-11,
          -1.1252887510756512e-11,
          -6.408873431971715e-12,
          -2.6900703886703724e-12,
          0,
          1.7996715229157593e-12,
          2.7728930262999467e-12,
          3.035349749320571e-12,
          2.668532061985466e-12,
          1.7124079931803753e-12
         ]
        },
        {
         "line": {
          "color": "rgba(0, 128, 128, 0.8999999999999999)",
          "dash": "solid",
          "shape": "linear",
          "width": 1.3
         },
         "mode": "lines",
         "name": "Swiss Cheese",
         "text": "",
         "type": "scatter",
         "x": [
          -0.6931471805599453,
          -0.5108256237659907,
          -0.35667494393873245,
          -0.22314355131420968,
          -0.10536051565782628,
          0,
          0.09531017980432495,
          0.1823215567939546,
          0.26236426446749106,
          0.33647223662121284,
          0.4054651081081644
         ],
         "y": [
          1.6135648371692841e-10,
          1.3006262733399128e-11,
          7.287503933612974e-12,
          5.855316231871361e-13,
          7.926992395823303e-14,
          0,
          1.2589929099248483e-13,
          2.4003021792393e-13,
          2.3381296898603065e-13,
          1.738609256562844e-13,
          -4.3298697960382045e-14
         ]
        },
        {
         "line": {
          "color": "rgba(255, 255, 51, 0.8999999999999999)",
          "dash": "solid",
          "shape": "linear",
          "width": 1.3
         },
         "mode": "lines",
         "name": "Ghee",
         "text": "",
         "type": "scatter",
         "x": [
          -0.6931471805599453,
          -0.5108256237659907,
          -0.35667494393873245,
          -0.22314355131420968,
          -0.10536051565782628,
          0,
          0.09531017980432495,
          0.1823215567939546,
          0.26236426446749106,
          0.33647223662121284,
          0.4054651081081644
         ],
         "y": [
          -5.221489907128206e-12,
          -3.930855640995555e-12,
          -2.808642207700665e-12,
          -1.787237025043174e-12,
          -8.428813202957741e-13,
          0,
          8.060219158775388e-13,
          1.5751844273369315e-12,
          2.273070620614962e-12,
          2.9283242497470255e-12,
          3.5644820428551747e-12
         ]
        },
        {
         "line": {
          "color": "rgba(128, 128, 0, 0.8999999999999999)",
          "dash": "solid",
          "shape": "linear",
          "width": 1.3
         },
         "mode": "lines",
         "name": "Russet Potato",
         "text": "",
         "type": "scatter",
         "x": [
          -0.6931471805599453,
          -0.5108256237659907,
          -0.35667494393873245,
          -0.22314355131420968,
          -0.10536051565782628,
          0,
          0.09531017980432495,
          0.1823215567939546,
          0.26236426446749106,
          0.33647223662121284,
          0.4054651081081644
         ],
         "y": [
          3.8796077460958754e-11,
          3.137956561211801e-11,
          2.411182364851846e-11,
          1.6644019495831986e-11,
          8.669287510050419e-12,
          0,
          -9.297784764371524e-12,
          -1.906497182364985e-11,
          -2.879985139300605e-11,
          3.7785500028877136e-07,
          2.3704290274492162e-07
         ]
        },
        {
         "line": {
          "color": "rgba(251, 128, 114, 0.8999999999999999)",
          "dash": "solid",
          "shape": "linear",
          "width": 1.3
         },
         "mode": "lines",
         "name": "Pasta",
         "text": "",
         "type": "scatter",
         "x": [
          -0.6931471805599453,
          -0.5108256237659907,
          -0.35667494393873245,
          -0.22314355131420968,
          -0.10536051565782628,
          0,
          0.09531017980432495,
          0.1823215567939546,
          0.26236426446749106,
          0.33647223662121284,
          0.4054651081081644
         ],
         "y": [
          5.099476396695267e-12,
          4.138023257374322e-12,
          3.1508129438812304e-12,
          2.154498801585258e-12,
          1.1015632850324737e-12,
          0,
          -1.0946799022810035e-12,
          -2.2466473126339903e-12,
          -3.410827176259223e-12,
          -4.610867243581367e-12,
          -5.838884931125669e-12
         ]
        },
        {
         "line": {
          "color": "rgba(251, 128, 114, 0.7999999999999998)",
          "dash": "solid",
          "shape": "linear",
          "width": 1.3
         },
         "mode": "lines",
         "name": "Lemon, raw",
         "text": "",
         "type": "scatter",
         "x": [
          -0.6931471805599453,
          -0.5108256237659907,
          -0.35667494393873245,
          -0.22314355131420968,
          -0.10536051565782628,
          0,
          0.09531017980432495,
          0.1823215567939546,
          0.26236426446749106,
          0.33647223662121284,
          0.4054651081081644
         ],
         "y": [
          -0.0785323409261432,
          -0.06089481100440515,
          -0.04356297983937118,
          -0.026526430603859036,
          -0.0097752700943381,
          0,
          -1.0912160064495276e-11,
          -1.1181611192574778e-11,
          -1.0308309761395246e-11,
          -9.768186259909686e-12,
          -9.738876372059296e-12
         ]
        },
        {
         "line": {
          "color": "rgba(128, 177, 211, 0.7999999999999998)",
          "dash": "solid",
          "shape": "linear",
          "width": 1.3
         },
         "mode": "lines",
         "name": "Lime, raw",
         "text": "",
         "type": "scatter",
         "x": [
          -0.6931471805599453,
          -0.5108256237659907,
          -0.35667494393873245,
          -0.22314355131420968,
          -0.10536051565782628,
          0,
          0.09531017980432495,
          0.1823215567939546,
          0.26236426446749106,
          0.33647223662121284,
          0.4054651081081644
         ],
         "y": [
          -0.09436139118333366,
          -0.0747633283741519,
          -0.05554197862063997,
          -0.03668313248874172,
          -0.01817304818063931,
          0,
          0.006699905823517457,
          0.006699905851834737,
          0.00669990616297788,
          0.006699906157389944,
          0.0066999059975798355
         ]
        },
        {
         "line": {
          "color": "rgba(255, 153, 51, 0.7999999999999998)",
          "dash": "solid",
          "shape": "linear",
          "width": 1.3
         },
         "mode": "lines",
         "name": "Nuts, pecans, halves, raw",
         "text": "",
         "type": "scatter",
         "x": [
          -0.6931471805599453,
          -0.5108256237659907,
          -0.35667494393873245,
          -0.22314355131420968,
          -0.10536051565782628,
          0,
          0.09531017980432495,
          0.1823215567939546,
          0.26236426446749106,
          0.33647223662121284,
          0.4054651081081644
         ],
         "y": [
          -1.8265722268207282e-11,
          -3.449207586274183e-11,
          -2.495981199532934e-11,
          -2.3752111388858807e-12,
          2.927658115932252e-12,
          0,
          -1.013689132639137e-11,
          -1.943600835848672e-11,
          -1.579525399376931e-11,
          -1.3420597966363873e-11,
          -1.2098766433228295e-11
         ]
        },
        {
         "line": {
          "color": "rgba(55, 128, 191, 0.7999999999999998)",
          "dash": "solid",
          "shape": "linear",
          "width": 1.3
         },
         "mode": "lines",
         "name": "Nuts, walnuts, English, halves, raw",
         "text": "",
         "type": "scatter",
         "x": [
          -0.6931471805599453,
          -0.5108256237659907,
          -0.35667494393873245,
          -0.22314355131420968,
          -0.10536051565782628,
          0,
          0.09531017980432495,
          0.1823215567939546,
          0.26236426446749106,
          0.33647223662121284,
          0.4054651081081644
         ],
         "y": [
          -1.3578027591166586e-13,
          -6.2458926919557115e-12,
          -3.175704144148716e-11,
          1.510216200188999e-07,
          -3.445188578924901e-11,
          0,
          1.8822055025502993e-11,
          3.698863437693749e-11,
          5.105227351845511e-11,
          6.139044827857841e-11,
          6.93340940192522e-11
         ]
        },
        {
         "line": {
          "color": "rgba(50, 171, 96, 0.7999999999999998)",
          "dash": "solid",
          "shape": "linear",
          "width": 1.3
         },
         "mode": "lines",
         "name": "Cashews, NFS",
         "text": "",
         "type": "scatter",
         "x": [
          -0.6931471805599453,
          -0.5108256237659907,
          -0.35667494393873245,
          -0.22314355131420968,
          -0.10536051565782628,
          0,
          0.09531017980432495,
          0.1823215567939546,
          0.26236426446749106,
          0.33647223662121284,
          0.4054651081081644
         ],
         "y": [
          -0.360706359698109,
          -0.2760665383186797,
          -0.19803493345969117,
          -0.12565398951271883,
          -0.058159543872232065,
          0,
          0.05105770961413867,
          0.09963467121330413,
          0.14596082897516208,
          0.1902355584726939,
          0.23263331402561072
         ]
        },
        {
         "line": {
          "color": "rgba(128, 0, 128, 0.7999999999999998)",
          "dash": "solid",
          "shape": "linear",
          "width": 1.3
         },
         "mode": "lines",
         "name": "Pistachio nuts, NFS",
         "text": "",
         "type": "scatter",
         "x": [
          -0.6931471805599453,
          -0.5108256237659907,
          -0.35667494393873245,
          -0.22314355131420968,
          -0.10536051565782628,
          0,
          0.09531017980432495,
          0.1823215567939546,
          0.26236426446749106,
          0.33647223662121284,
          0.4054651081081644
         ],
         "y": [
          -0.06792742801627719,
          -0.05396922994402198,
          -0.04020147488003949,
          -0.026620615720057746,
          -0.013221726291721528,
          0,
          0.005064633386840742,
          0.005064606286624298,
          0.005064605997860642,
          0.005065931871501688,
          0.0050646404069396266
         ]
        },
        {
         "line": {
          "color": "rgba(219, 64, 82, 0.7999999999999998)",
          "dash": "solid",
          "shape": "linear",
          "width": 1.3
         },
         "mode": "lines",
         "name": "Almond butter, creamy",
         "text": "",
         "type": "scatter",
         "x": [
          -0.6931471805599453,
          -0.5108256237659907,
          -0.35667494393873245,
          -0.22314355131420968,
          -0.10536051565782628,
          0,
          0.09531017980432495,
          0.1823215567939546,
          0.26236426446749106,
          0.33647223662121284,
          0.4054651081081644
         ],
         "y": [
          -0.06744578392705929,
          -0.053400582697095016,
          -0.039780726413183275,
          -0.026343361428187596,
          -0.013084952990861777,
          0,
          0.006600839927887621,
          0.00813464108432166,
          0.009666131887992728,
          0.011195454132552338,
          0.012722120056309724
         ]
        },
        {
         "line": {
          "color": "rgba(0, 128, 128, 0.7999999999999998)",
          "dash": "solid",
          "shape": "linear",
          "width": 1.3
         },
         "mode": "lines",
         "name": "Peanut butter, creamy",
         "text": "",
         "type": "scatter",
         "x": [
          -0.6931471805599453,
          -0.5108256237659907,
          -0.35667494393873245,
          -0.22314355131420968,
          -0.10536051565782628,
          0,
          0.09531017980432495,
          0.1823215567939546,
          0.26236426446749106,
          0.33647223662121284,
          0.4054651081081644
         ],
         "y": [
          -0.061753736605872314,
          -0.04802810525799822,
          -0.03448831536929634,
          -0.021129323446518525,
          -0.00794665240386452,
          0,
          1.9722603530871572e-09,
          5.420601743773802e-10,
          3.289224447825263e-10,
          2.1089374688806308e-10,
          1.237070446004162e-10
         ]
        }
       ],
       "layout": {
        "legend": {
         "bgcolor": "#F5F6F9",
         "font": {
          "color": "#4D5663"
         }
        },
        "paper_bgcolor": "#F5F6F9",
        "plot_bgcolor": "#F5F6F9",
        "template": {
         "data": {
          "bar": [
           {
            "error_x": {
             "color": "#2a3f5f"
            },
            "error_y": {
             "color": "#2a3f5f"
            },
            "marker": {
             "line": {
              "color": "#E5ECF6",
              "width": 0.5
             },
             "pattern": {
              "fillmode": "overlay",
              "size": 10,
              "solidity": 0.2
             }
            },
            "type": "bar"
           }
          ],
          "barpolar": [
           {
            "marker": {
             "line": {
              "color": "#E5ECF6",
              "width": 0.5
             },
             "pattern": {
              "fillmode": "overlay",
              "size": 10,
              "solidity": 0.2
             }
            },
            "type": "barpolar"
           }
          ],
          "carpet": [
           {
            "aaxis": {
             "endlinecolor": "#2a3f5f",
             "gridcolor": "white",
             "linecolor": "white",
             "minorgridcolor": "white",
             "startlinecolor": "#2a3f5f"
            },
            "baxis": {
             "endlinecolor": "#2a3f5f",
             "gridcolor": "white",
             "linecolor": "white",
             "minorgridcolor": "white",
             "startlinecolor": "#2a3f5f"
            },
            "type": "carpet"
           }
          ],
          "choropleth": [
           {
            "colorbar": {
             "outlinewidth": 0,
             "ticks": ""
            },
            "type": "choropleth"
           }
          ],
          "contour": [
           {
            "colorbar": {
             "outlinewidth": 0,
             "ticks": ""
            },
            "colorscale": [
             [
              0,
              "#0d0887"
             ],
             [
              0.1111111111111111,
              "#46039f"
             ],
             [
              0.2222222222222222,
              "#7201a8"
             ],
             [
              0.3333333333333333,
              "#9c179e"
             ],
             [
              0.4444444444444444,
              "#bd3786"
             ],
             [
              0.5555555555555556,
              "#d8576b"
             ],
             [
              0.6666666666666666,
              "#ed7953"
             ],
             [
              0.7777777777777778,
              "#fb9f3a"
             ],
             [
              0.8888888888888888,
              "#fdca26"
             ],
             [
              1,
              "#f0f921"
             ]
            ],
            "type": "contour"
           }
          ],
          "contourcarpet": [
           {
            "colorbar": {
             "outlinewidth": 0,
             "ticks": ""
            },
            "type": "contourcarpet"
           }
          ],
          "heatmap": [
           {
            "colorbar": {
             "outlinewidth": 0,
             "ticks": ""
            },
            "colorscale": [
             [
              0,
              "#0d0887"
             ],
             [
              0.1111111111111111,
              "#46039f"
             ],
             [
              0.2222222222222222,
              "#7201a8"
             ],
             [
              0.3333333333333333,
              "#9c179e"
             ],
             [
              0.4444444444444444,
              "#bd3786"
             ],
             [
              0.5555555555555556,
              "#d8576b"
             ],
             [
              0.6666666666666666,
              "#ed7953"
             ],
             [
              0.7777777777777778,
              "#fb9f3a"
             ],
             [
              0.8888888888888888,
              "#fdca26"
             ],
             [
              1,
              "#f0f921"
             ]
            ],
            "type": "heatmap"
           }
          ],
          "heatmapgl": [
           {
            "colorbar": {
             "outlinewidth": 0,
             "ticks": ""
            },
            "colorscale": [
             [
              0,
              "#0d0887"
             ],
             [
              0.1111111111111111,
              "#46039f"
             ],
             [
              0.2222222222222222,
              "#7201a8"
             ],
             [
              0.3333333333333333,
              "#9c179e"
             ],
             [
              0.4444444444444444,
              "#bd3786"
             ],
             [
              0.5555555555555556,
              "#d8576b"
             ],
             [
              0.6666666666666666,
              "#ed7953"
             ],
             [
              0.7777777777777778,
              "#fb9f3a"
             ],
             [
              0.8888888888888888,
              "#fdca26"
             ],
             [
              1,
              "#f0f921"
             ]
            ],
            "type": "heatmapgl"
           }
          ],
          "histogram": [
           {
            "marker": {
             "pattern": {
              "fillmode": "overlay",
              "size": 10,
              "solidity": 0.2
             }
            },
            "type": "histogram"
           }
          ],
          "histogram2d": [
           {
            "colorbar": {
             "outlinewidth": 0,
             "ticks": ""
            },
            "colorscale": [
             [
              0,
              "#0d0887"
             ],
             [
              0.1111111111111111,
              "#46039f"
             ],
             [
              0.2222222222222222,
              "#7201a8"
             ],
             [
              0.3333333333333333,
              "#9c179e"
             ],
             [
              0.4444444444444444,
              "#bd3786"
             ],
             [
              0.5555555555555556,
              "#d8576b"
             ],
             [
              0.6666666666666666,
              "#ed7953"
             ],
             [
              0.7777777777777778,
              "#fb9f3a"
             ],
             [
              0.8888888888888888,
              "#fdca26"
             ],
             [
              1,
              "#f0f921"
             ]
            ],
            "type": "histogram2d"
           }
          ],
          "histogram2dcontour": [
           {
            "colorbar": {
             "outlinewidth": 0,
             "ticks": ""
            },
            "colorscale": [
             [
              0,
              "#0d0887"
             ],
             [
              0.1111111111111111,
              "#46039f"
             ],
             [
              0.2222222222222222,
              "#7201a8"
             ],
             [
              0.3333333333333333,
              "#9c179e"
             ],
             [
              0.4444444444444444,
              "#bd3786"
             ],
             [
              0.5555555555555556,
              "#d8576b"
             ],
             [
              0.6666666666666666,
              "#ed7953"
             ],
             [
              0.7777777777777778,
              "#fb9f3a"
             ],
             [
              0.8888888888888888,
              "#fdca26"
             ],
             [
              1,
              "#f0f921"
             ]
            ],
            "type": "histogram2dcontour"
           }
          ],
          "mesh3d": [
           {
            "colorbar": {
             "outlinewidth": 0,
             "ticks": ""
            },
            "type": "mesh3d"
           }
          ],
          "parcoords": [
           {
            "line": {
             "colorbar": {
              "outlinewidth": 0,
              "ticks": ""
             }
            },
            "type": "parcoords"
           }
          ],
          "pie": [
           {
            "automargin": true,
            "type": "pie"
           }
          ],
          "scatter": [
           {
            "marker": {
             "colorbar": {
              "outlinewidth": 0,
              "ticks": ""
             }
            },
            "type": "scatter"
           }
          ],
          "scatter3d": [
           {
            "line": {
             "colorbar": {
              "outlinewidth": 0,
              "ticks": ""
             }
            },
            "marker": {
             "colorbar": {
              "outlinewidth": 0,
              "ticks": ""
             }
            },
            "type": "scatter3d"
           }
          ],
          "scattercarpet": [
           {
            "marker": {
             "colorbar": {
              "outlinewidth": 0,
              "ticks": ""
             }
            },
            "type": "scattercarpet"
           }
          ],
          "scattergeo": [
           {
            "marker": {
             "colorbar": {
              "outlinewidth": 0,
              "ticks": ""
             }
            },
            "type": "scattergeo"
           }
          ],
          "scattergl": [
           {
            "marker": {
             "colorbar": {
              "outlinewidth": 0,
              "ticks": ""
             }
            },
            "type": "scattergl"
           }
          ],
          "scattermapbox": [
           {
            "marker": {
             "colorbar": {
              "outlinewidth": 0,
              "ticks": ""
             }
            },
            "type": "scattermapbox"
           }
          ],
          "scatterpolar": [
           {
            "marker": {
             "colorbar": {
              "outlinewidth": 0,
              "ticks": ""
             }
            },
            "type": "scatterpolar"
           }
          ],
          "scatterpolargl": [
           {
            "marker": {
             "colorbar": {
              "outlinewidth": 0,
              "ticks": ""
             }
            },
            "type": "scatterpolargl"
           }
          ],
          "scatterternary": [
           {
            "marker": {
             "colorbar": {
              "outlinewidth": 0,
              "ticks": ""
             }
            },
            "type": "scatterternary"
           }
          ],
          "surface": [
           {
            "colorbar": {
             "outlinewidth": 0,
             "ticks": ""
            },
            "colorscale": [
             [
              0,
              "#0d0887"
             ],
             [
              0.1111111111111111,
              "#46039f"
             ],
             [
              0.2222222222222222,
              "#7201a8"
             ],
             [
              0.3333333333333333,
              "#9c179e"
             ],
             [
              0.4444444444444444,
              "#bd3786"
             ],
             [
              0.5555555555555556,
              "#d8576b"
             ],
             [
              0.6666666666666666,
              "#ed7953"
             ],
             [
              0.7777777777777778,
              "#fb9f3a"
             ],
             [
              0.8888888888888888,
              "#fdca26"
             ],
             [
              1,
              "#f0f921"
             ]
            ],
            "type": "surface"
           }
          ],
          "table": [
           {
            "cells": {
             "fill": {
              "color": "#EBF0F8"
             },
             "line": {
              "color": "white"
             }
            },
            "header": {
             "fill": {
              "color": "#C8D4E3"
             },
             "line": {
              "color": "white"
             }
            },
            "type": "table"
           }
          ]
         },
         "layout": {
          "annotationdefaults": {
           "arrowcolor": "#2a3f5f",
           "arrowhead": 0,
           "arrowwidth": 1
          },
          "autotypenumbers": "strict",
          "coloraxis": {
           "colorbar": {
            "outlinewidth": 0,
            "ticks": ""
           }
          },
          "colorscale": {
           "diverging": [
            [
             0,
             "#8e0152"
            ],
            [
             0.1,
             "#c51b7d"
            ],
            [
             0.2,
             "#de77ae"
            ],
            [
             0.3,
             "#f1b6da"
            ],
            [
             0.4,
             "#fde0ef"
            ],
            [
             0.5,
             "#f7f7f7"
            ],
            [
             0.6,
             "#e6f5d0"
            ],
            [
             0.7,
             "#b8e186"
            ],
            [
             0.8,
             "#7fbc41"
            ],
            [
             0.9,
             "#4d9221"
            ],
            [
             1,
             "#276419"
            ]
           ],
           "sequential": [
            [
             0,
             "#0d0887"
            ],
            [
             0.1111111111111111,
             "#46039f"
            ],
            [
             0.2222222222222222,
             "#7201a8"
            ],
            [
             0.3333333333333333,
             "#9c179e"
            ],
            [
             0.4444444444444444,
             "#bd3786"
            ],
            [
             0.5555555555555556,
             "#d8576b"
            ],
            [
             0.6666666666666666,
             "#ed7953"
            ],
            [
             0.7777777777777778,
             "#fb9f3a"
            ],
            [
             0.8888888888888888,
             "#fdca26"
            ],
            [
             1,
             "#f0f921"
            ]
           ],
           "sequentialminus": [
            [
             0,
             "#0d0887"
            ],
            [
             0.1111111111111111,
             "#46039f"
            ],
            [
             0.2222222222222222,
             "#7201a8"
            ],
            [
             0.3333333333333333,
             "#9c179e"
            ],
            [
             0.4444444444444444,
             "#bd3786"
            ],
            [
             0.5555555555555556,
             "#d8576b"
            ],
            [
             0.6666666666666666,
             "#ed7953"
            ],
            [
             0.7777777777777778,
             "#fb9f3a"
            ],
            [
             0.8888888888888888,
             "#fdca26"
            ],
            [
             1,
             "#f0f921"
            ]
           ]
          },
          "colorway": [
           "#636efa",
           "#EF553B",
           "#00cc96",
           "#ab63fa",
           "#FFA15A",
           "#19d3f3",
           "#FF6692",
           "#B6E880",
           "#FF97FF",
           "#FECB52"
          ],
          "font": {
           "color": "#2a3f5f"
          },
          "geo": {
           "bgcolor": "white",
           "lakecolor": "white",
           "landcolor": "#E5ECF6",
           "showlakes": true,
           "showland": true,
           "subunitcolor": "white"
          },
          "hoverlabel": {
           "align": "left"
          },
          "hovermode": "closest",
          "mapbox": {
           "style": "light"
          },
          "paper_bgcolor": "white",
          "plot_bgcolor": "#E5ECF6",
          "polar": {
           "angularaxis": {
            "gridcolor": "white",
            "linecolor": "white",
            "ticks": ""
           },
           "bgcolor": "#E5ECF6",
           "radialaxis": {
            "gridcolor": "white",
            "linecolor": "white",
            "ticks": ""
           }
          },
          "scene": {
           "xaxis": {
            "backgroundcolor": "#E5ECF6",
            "gridcolor": "white",
            "gridwidth": 2,
            "linecolor": "white",
            "showbackground": true,
            "ticks": "",
            "zerolinecolor": "white"
           },
           "yaxis": {
            "backgroundcolor": "#E5ECF6",
            "gridcolor": "white",
            "gridwidth": 2,
            "linecolor": "white",
            "showbackground": true,
            "ticks": "",
            "zerolinecolor": "white"
           },
           "zaxis": {
            "backgroundcolor": "#E5ECF6",
            "gridcolor": "white",
            "gridwidth": 2,
            "linecolor": "white",
            "showbackground": true,
            "ticks": "",
            "zerolinecolor": "white"
           }
          },
          "shapedefaults": {
           "line": {
            "color": "#2a3f5f"
           }
          },
          "ternary": {
           "aaxis": {
            "gridcolor": "white",
            "linecolor": "white",
            "ticks": ""
           },
           "baxis": {
            "gridcolor": "white",
            "linecolor": "white",
            "ticks": ""
           },
           "bgcolor": "#E5ECF6",
           "caxis": {
            "gridcolor": "white",
            "linecolor": "white",
            "ticks": ""
           }
          },
          "title": {
           "x": 0.05
          },
          "xaxis": {
           "automargin": true,
           "gridcolor": "white",
           "linecolor": "white",
           "ticks": "",
           "title": {
            "standoff": 15
           },
           "zerolinecolor": "white",
           "zerolinewidth": 2
          },
          "yaxis": {
           "automargin": true,
           "gridcolor": "white",
           "linecolor": "white",
           "ticks": "",
           "title": {
            "standoff": 15
           },
           "zerolinecolor": "white",
           "zerolinewidth": 2
          }
         }
        },
        "title": {
         "font": {
          "color": "#4D5663"
         },
         "text": "Effects of Price Changes on Subsistence Diet Composition for Raw Meat Diet"
        },
        "xaxis": {
         "gridcolor": "#E1E5ED",
         "showgrid": true,
         "tickfont": {
          "color": "#4D5663"
         },
         "title": {
          "font": {
           "color": "#4D5663"
          },
          "text": "change in log price"
         },
         "zerolinecolor": "#E1E5ED"
        },
        "yaxis": {
         "gridcolor": "#E1E5ED",
         "showgrid": true,
         "tickfont": {
          "color": "#4D5663"
         },
         "title": {
          "font": {
           "color": "#4D5663"
          },
          "text": "change in log cost"
         },
         "zerolinecolor": "#E1E5ED"
        }
       }
      },
      "text/html": [
       "<div>                            <div id=\"ea7e7e3e-3fdd-45fe-889b-a09173f9ada4\" class=\"plotly-graph-div\" style=\"height:525px; width:100%;\"></div>            <script type=\"text/javascript\">                require([\"plotly\"], function(Plotly) {                    window.PLOTLYENV=window.PLOTLYENV || {};\n",
       "                    window.PLOTLYENV.BASE_URL='https://plot.ly';                                    if (document.getElementById(\"ea7e7e3e-3fdd-45fe-889b-a09173f9ada4\")) {                    Plotly.newPlot(                        \"ea7e7e3e-3fdd-45fe-889b-a09173f9ada4\",                        [{\"line\":{\"color\":\"rgba(255, 153, 51, 1.0)\",\"dash\":\"solid\",\"shape\":\"linear\",\"width\":1.3},\"mode\":\"lines\",\"name\":\"Beef\",\"text\":\"\",\"type\":\"scatter\",\"x\":[-0.6931471805599453,-0.5108256237659907,-0.35667494393873245,-0.22314355131420968,-0.10536051565782628,0.0,0.09531017980432495,0.1823215567939546,0.26236426446749106,0.33647223662121284,0.4054651081081644],\"y\":[7.1691541591887875e-12,5.442979400512479e-12,3.895106459587313e-12,2.478017790960279e-12,1.2108092306554627e-12,0.0,-1.0824674490101135e-12,-2.098876628056061e-12,-3.0628832803405723e-12,-3.927080882711815e-12,-4.810596365712374e-12]},{\"line\":{\"color\":\"rgba(55, 128, 191, 1.0)\",\"dash\":\"solid\",\"shape\":\"linear\",\"width\":1.3},\"mode\":\"lines\",\"name\":\"Pork\",\"text\":\"\",\"type\":\"scatter\",\"x\":[-0.6931471805599453,-0.5108256237659907,-0.35667494393873245,-0.22314355131420968,-0.10536051565782628,0.0,0.09531017980432495,0.1823215567939546,0.26236426446749106,0.33647223662121284,0.4054651081081644],\"y\":[2.4642510254549614e-12,1.9637624859550487e-12,1.4519496716037256e-12,9.72777414176089e-13,4.964917366122467e-13,0.0,-4.3287595730144224e-13,-9.030554082305101e-13,-1.3288259381747328e-12,-1.7624790515939892e-12,-2.179922908853871e-12]},{\"line\":{\"color\":\"rgba(50, 171, 96, 1.0)\",\"dash\":\"solid\",\"shape\":\"linear\",\"width\":1.3},\"mode\":\"lines\",\"name\":\"Chicken, drumstick\",\"text\":\"\",\"type\":\"scatter\",\"x\":[-0.6931471805599453,-0.5108256237659907,-0.35667494393873245,-0.22314355131420968,-0.10536051565782628,0.0,0.09531017980432495,0.1823215567939546,0.26236426446749106,0.33647223662121284,0.4054651081081644],\"y\":[3.677946835971455e-12,2.91588975187126e-12,2.1560531138197296e-12,1.415312311791148e-12,7.067679774761248e-13,0.0,-6.640243910285266e-13,-1.3069545445895883e-12,-1.923794457072322e-12,-2.559730205579037e-12,-3.1133984279611732e-12]},{\"line\":{\"color\":\"rgba(128, 0, 128, 1.0)\",\"dash\":\"solid\",\"shape\":\"linear\",\"width\":1.3},\"mode\":\"lines\",\"name\":\"Canned Tuna\",\"text\":\"\",\"type\":\"scatter\",\"x\":[-0.6931471805599453,-0.5108256237659907,-0.35667494393873245,-0.22314355131420968,-0.10536051565782628,0.0,0.09531017980432495,0.1823215567939546,0.26236426446749106,0.33647223662121284,0.4054651081081644],\"y\":[1.3955947508650683e-11,1.1020295786973505e-11,8.146816554666213e-12,5.358602450641424e-12,2.6494362259619637e-12,0.0,-2.581046487651895e-12,-5.11024556006019e-12,-7.622680264802915e-12,-1.006761340965406e-11,-1.2450485087433863e-11]},{\"line\":{\"color\":\"rgba(219, 64, 82, 1.0)\",\"dash\":\"solid\",\"shape\":\"linear\",\"width\":1.3},\"mode\":\"lines\",\"name\":\"Atlantic Salmon\",\"text\":\"\",\"type\":\"scatter\",\"x\":[-0.6931471805599453,-0.5108256237659907,-0.35667494393873245,-0.22314355131420968,-0.10536051565782628,0.0,0.09531017980432495,0.1823215567939546,0.26236426446749106,0.33647223662121284,0.4054651081081644],\"y\":[7.80331355084993e-12,6.3742344735625586e-12,4.904521233572064e-12,3.3644198538184146e-12,1.7441603716845998e-12,0.0,-1.812994199214524e-12,-3.747224752721849e-12,-5.827449633971964e-12,-8.0745410358289e-12,-1.0484613177707555e-11]},{\"line\":{\"color\":\"rgba(0, 128, 128, 1.0)\",\"dash\":\"solid\",\"shape\":\"linear\",\"width\":1.3},\"mode\":\"lines\",\"name\":\"Bison\",\"text\":\"\",\"type\":\"scatter\",\"x\":[-0.6931471805599453,-0.5108256237659907,-0.35667494393873245,-0.22314355131420968,-0.10536051565782628,0.0,0.09531017980432495,0.1823215567939546,0.26236426446749106,0.33647223662121284,0.4054651081081644],\"y\":[1.3629319894810468e-11,1.062194776574231e-11,7.73958674923694e-12,5.0488502267726165e-12,2.459588088751547e-12,0.0,-2.303823798402316e-12,-4.532818564949863e-12,-6.606271085751353e-12,-8.617551117177596e-12,-1.051525533318753e-11]},{\"line\":{\"color\":\"rgba(255, 255, 51, 1.0)\",\"dash\":\"solid\",\"shape\":\"linear\",\"width\":1.3},\"mode\":\"lines\",\"name\":\"Bacon\",\"text\":\"\",\"type\":\"scatter\",\"x\":[-0.6931471805599453,-0.5108256237659907,-0.35667494393873245,-0.22314355131420968,-0.10536051565782628,0.0,0.09531017980432495,0.1823215567939546,0.26236426446749106,0.33647223662121284,0.4054651081081644],\"y\":[2.152944489350786e-12,1.7155166176493203e-12,1.2916334668480729e-12,8.493206138378841e-13,4.360956040726664e-13,0.0,-3.9712677590849736e-13,-7.855938122250693e-13,-1.1880496586520858e-12,-1.5545342790813524e-12,-1.9263479700289646e-12]},{\"line\":{\"color\":\"rgba(128, 128, 0, 1.0)\",\"dash\":\"solid\",\"shape\":\"linear\",\"width\":1.3},\"mode\":\"lines\",\"name\":\"Eggs\",\"text\":\"\",\"type\":\"scatter\",\"x\":[-0.6931471805599453,-0.5108256237659907,-0.35667494393873245,-0.22314355131420968,-0.10536051565782628,0.0,0.09531017980432495,0.1823215567939546,0.26236426446749106,0.33647223662121284,0.4054651081081644],\"y\":[1.8984813721088374e-13,1.5187850976870988e-13,1.0946799022803444e-13,6.949996134153239e-14,4.7073456244105527e-14,0.0,-2.087219286295316e-14,-5.05151476204459e-14,-9.15933995315796e-14,-9.714451465470592e-14,-1.4865886299731952e-13]},{\"line\":{\"color\":\"rgba(251, 128, 114, 1.0)\",\"dash\":\"solid\",\"shape\":\"linear\",\"width\":1.3},\"mode\":\"lines\",\"name\":\"Turkey\",\"text\":\"\",\"type\":\"scatter\",\"x\":[-0.6931471805599453,-0.5108256237659907,-0.35667494393873245,-0.22314355131420968,-0.10536051565782628,0.0,0.09531017980432495,0.1823215567939546,0.26236426446749106,0.33647223662121284,0.4054651081081644],\"y\":[6.914913086551417e-12,5.377698286664874e-12,3.94884125397896e-12,2.57394106028765e-12,1.259881088343834e-12,0.0,-1.1632916852029156e-12,-2.3201440768643437e-12,-3.3667513221814547e-12,-4.384825835766669e-12,-5.370148770126301e-12]},{\"line\":{\"color\":\"rgba(128, 177, 211, 1.0)\",\"dash\":\"solid\",\"shape\":\"linear\",\"width\":1.3},\"mode\":\"lines\",\"name\":\"Sausage\",\"text\":\"\",\"type\":\"scatter\",\"x\":[-0.6931471805599453,-0.5108256237659907,-0.35667494393873245,-0.22314355131420968,-0.10536051565782628,0.0,0.09531017980432495,0.1823215567939546,0.26236426446749106,0.33647223662121284,0.4054651081081644],\"y\":[1.5673018438510515e-11,1.2590817277589711e-11,9.467093775538822e-12,6.336264846120619e-12,3.1892266605331392e-12,0.0,-3.1654678878162563e-12,-6.339484492932201e-12,-9.507727938330113e-12,-1.2660983372905436e-11,-1.5822454457873057e-11]},{\"line\":{\"color\":\"rgba(128, 177, 211, 0.8999999999999999)\",\"dash\":\"solid\",\"shape\":\"linear\",\"width\":1.3},\"mode\":\"lines\",\"name\":\"Butter\",\"text\":\"\",\"type\":\"scatter\",\"x\":[-0.6931471805599453,-0.5108256237659907,-0.35667494393873245,-0.22314355131420968,-0.10536051565782628,0.0,0.09531017980432495,0.1823215567939546,0.26236426446749106,0.33647223662121284,0.4054651081081644],\"y\":[2.7483637584200476e-10,1.8961721080380239e-10,1.1972471895598842e-09,1.2488983173159522e-09,1.0208278666302344e-10,0.0,-3.0125901773249e-12,-1.8103962773516453e-11,3.2805051512323863e-07,2.871601195307751e-07,2.9600573718782994e-07]},{\"line\":{\"color\":\"rgba(255, 153, 51, 0.8999999999999999)\",\"dash\":\"solid\",\"shape\":\"linear\",\"width\":1.3},\"mode\":\"lines\",\"name\":\"Raw Liver\",\"text\":\"\",\"type\":\"scatter\",\"x\":[-0.6931471805599453,-0.5108256237659907,-0.35667494393873245,-0.22314355131420968,-0.10536051565782628,0.0,0.09531017980432495,0.1823215567939546,0.26236426446749106,0.33647223662121284,0.4054651081081644],\"y\":[-0.021133695993620867,-0.01082780746590363,-0.0050742865565713505,-0.003379995236691793,-0.0016885695798423063,0.0,0.0016857231162658685,0.003368609350612558,0.005048668236006617,0.006725909257194257,0.00840034185118878]},{\"line\":{\"color\":\"rgba(55, 128, 191, 0.8999999999999999)\",\"dash\":\"solid\",\"shape\":\"linear\",\"width\":1.3},\"mode\":\"lines\",\"name\":\"Whole milk\",\"text\":\"\",\"type\":\"scatter\",\"x\":[-0.6931471805599453,-0.5108256237659907,-0.35667494393873245,-0.22314355131420968,-0.10536051565782628,0.0,0.09531017980432495,0.1823215567939546,0.26236426446749106,0.33647223662121284,0.4054651081081644],\"y\":[-1.416311512515315e-12,-1.1073364447617442e-12,-8.040235144338616e-13,-4.938272013533916e-13,-2.3503421431317326e-13,0.0,2.546851618489785e-13,4.849454171561507e-13,6.852296507984119e-13,8.792966355027373e-13,1.0849099396631145e-12]},{\"line\":{\"color\":\"rgba(50, 171, 96, 0.8999999999999999)\",\"dash\":\"solid\",\"shape\":\"linear\",\"width\":1.3},\"mode\":\"lines\",\"name\":\"Yogurt\",\"text\":\"\",\"type\":\"scatter\",\"x\":[-0.6931471805599453,-0.5108256237659907,-0.35667494393873245,-0.22314355131420968,-0.10536051565782628,0.0,0.09531017980432495,0.1823215567939546,0.26236426446749106,0.33647223662121284,0.4054651081081644],\"y\":[-8.996137168541689e-13,1.1706191571640798e-12,2.0368151609752378e-12,1.984856723422885e-12,1.2534417948010162e-12,0.0,-1.6479040354524776e-12,-3.6419756099869955e-12,-5.901945598924749e-12,-8.39017744173243e-12,-1.104660807277886e-11]},{\"line\":{\"color\":\"rgba(128, 0, 128, 0.8999999999999999)\",\"dash\":\"solid\",\"shape\":\"linear\",\"width\":1.3},\"mode\":\"lines\",\"name\":\"2% milk\",\"text\":\"\",\"type\":\"scatter\",\"x\":[-0.6931471805599453,-0.5108256237659907,-0.35667494393873245,-0.22314355131420968,-0.10536051565782628,0.0,0.09531017980432495,0.1823215567939546,0.26236426446749106,0.33647223662121284,0.4054651081081644],\"y\":[-0.011726059974449811,-0.008344542205297168,-0.005370425204183555,-0.003577083045703312,-0.0017869420760509075,0.0,0.0017837546008451998,0.003564333089200808,0.005342028651655024,0.0071161364475336945,0.008887178847656423]},{\"line\":{\"color\":\"rgba(219, 64, 82, 0.8999999999999999)\",\"dash\":\"solid\",\"shape\":\"linear\",\"width\":1.3},\"mode\":\"lines\",\"name\":\"Cheddar Cheese\",\"text\":\"\",\"type\":\"scatter\",\"x\":[-0.6931471805599453,-0.5108256237659907,-0.35667494393873245,-0.22314355131420968,-0.10536051565782628,0.0,0.09531017980432495,0.1823215567939546,0.26236426446749106,0.33647223662121284,0.4054651081081644],\"y\":[2.2732926652198864e-12,-1.4180212559822889e-11,-1.1252887510756512e-11,-6.408873431971715e-12,-2.6900703886703724e-12,0.0,1.7996715229157593e-12,2.7728930262999467e-12,3.035349749320571e-12,2.668532061985466e-12,1.7124079931803753e-12]},{\"line\":{\"color\":\"rgba(0, 128, 128, 0.8999999999999999)\",\"dash\":\"solid\",\"shape\":\"linear\",\"width\":1.3},\"mode\":\"lines\",\"name\":\"Swiss Cheese\",\"text\":\"\",\"type\":\"scatter\",\"x\":[-0.6931471805599453,-0.5108256237659907,-0.35667494393873245,-0.22314355131420968,-0.10536051565782628,0.0,0.09531017980432495,0.1823215567939546,0.26236426446749106,0.33647223662121284,0.4054651081081644],\"y\":[1.6135648371692841e-10,1.3006262733399128e-11,7.287503933612974e-12,5.855316231871361e-13,7.926992395823303e-14,0.0,1.2589929099248483e-13,2.4003021792393e-13,2.3381296898603065e-13,1.738609256562844e-13,-4.3298697960382045e-14]},{\"line\":{\"color\":\"rgba(255, 255, 51, 0.8999999999999999)\",\"dash\":\"solid\",\"shape\":\"linear\",\"width\":1.3},\"mode\":\"lines\",\"name\":\"Ghee\",\"text\":\"\",\"type\":\"scatter\",\"x\":[-0.6931471805599453,-0.5108256237659907,-0.35667494393873245,-0.22314355131420968,-0.10536051565782628,0.0,0.09531017980432495,0.1823215567939546,0.26236426446749106,0.33647223662121284,0.4054651081081644],\"y\":[-5.221489907128206e-12,-3.930855640995555e-12,-2.808642207700665e-12,-1.787237025043174e-12,-8.428813202957741e-13,0.0,8.060219158775388e-13,1.5751844273369315e-12,2.273070620614962e-12,2.9283242497470255e-12,3.5644820428551747e-12]},{\"line\":{\"color\":\"rgba(128, 128, 0, 0.8999999999999999)\",\"dash\":\"solid\",\"shape\":\"linear\",\"width\":1.3},\"mode\":\"lines\",\"name\":\"Russet Potato\",\"text\":\"\",\"type\":\"scatter\",\"x\":[-0.6931471805599453,-0.5108256237659907,-0.35667494393873245,-0.22314355131420968,-0.10536051565782628,0.0,0.09531017980432495,0.1823215567939546,0.26236426446749106,0.33647223662121284,0.4054651081081644],\"y\":[3.8796077460958754e-11,3.137956561211801e-11,2.411182364851846e-11,1.6644019495831986e-11,8.669287510050419e-12,0.0,-9.297784764371524e-12,-1.906497182364985e-11,-2.879985139300605e-11,3.7785500028877136e-07,2.3704290274492162e-07]},{\"line\":{\"color\":\"rgba(251, 128, 114, 0.8999999999999999)\",\"dash\":\"solid\",\"shape\":\"linear\",\"width\":1.3},\"mode\":\"lines\",\"name\":\"Pasta\",\"text\":\"\",\"type\":\"scatter\",\"x\":[-0.6931471805599453,-0.5108256237659907,-0.35667494393873245,-0.22314355131420968,-0.10536051565782628,0.0,0.09531017980432495,0.1823215567939546,0.26236426446749106,0.33647223662121284,0.4054651081081644],\"y\":[5.099476396695267e-12,4.138023257374322e-12,3.1508129438812304e-12,2.154498801585258e-12,1.1015632850324737e-12,0.0,-1.0946799022810035e-12,-2.2466473126339903e-12,-3.410827176259223e-12,-4.610867243581367e-12,-5.838884931125669e-12]},{\"line\":{\"color\":\"rgba(251, 128, 114, 0.7999999999999998)\",\"dash\":\"solid\",\"shape\":\"linear\",\"width\":1.3},\"mode\":\"lines\",\"name\":\"Lemon, raw\",\"text\":\"\",\"type\":\"scatter\",\"x\":[-0.6931471805599453,-0.5108256237659907,-0.35667494393873245,-0.22314355131420968,-0.10536051565782628,0.0,0.09531017980432495,0.1823215567939546,0.26236426446749106,0.33647223662121284,0.4054651081081644],\"y\":[-0.0785323409261432,-0.06089481100440515,-0.04356297983937118,-0.026526430603859036,-0.0097752700943381,0.0,-1.0912160064495276e-11,-1.1181611192574778e-11,-1.0308309761395246e-11,-9.768186259909686e-12,-9.738876372059296e-12]},{\"line\":{\"color\":\"rgba(128, 177, 211, 0.7999999999999998)\",\"dash\":\"solid\",\"shape\":\"linear\",\"width\":1.3},\"mode\":\"lines\",\"name\":\"Lime, raw\",\"text\":\"\",\"type\":\"scatter\",\"x\":[-0.6931471805599453,-0.5108256237659907,-0.35667494393873245,-0.22314355131420968,-0.10536051565782628,0.0,0.09531017980432495,0.1823215567939546,0.26236426446749106,0.33647223662121284,0.4054651081081644],\"y\":[-0.09436139118333366,-0.0747633283741519,-0.05554197862063997,-0.03668313248874172,-0.01817304818063931,0.0,0.006699905823517457,0.006699905851834737,0.00669990616297788,0.006699906157389944,0.0066999059975798355]},{\"line\":{\"color\":\"rgba(255, 153, 51, 0.7999999999999998)\",\"dash\":\"solid\",\"shape\":\"linear\",\"width\":1.3},\"mode\":\"lines\",\"name\":\"Nuts, pecans, halves, raw\",\"text\":\"\",\"type\":\"scatter\",\"x\":[-0.6931471805599453,-0.5108256237659907,-0.35667494393873245,-0.22314355131420968,-0.10536051565782628,0.0,0.09531017980432495,0.1823215567939546,0.26236426446749106,0.33647223662121284,0.4054651081081644],\"y\":[-1.8265722268207282e-11,-3.449207586274183e-11,-2.495981199532934e-11,-2.3752111388858807e-12,2.927658115932252e-12,0.0,-1.013689132639137e-11,-1.943600835848672e-11,-1.579525399376931e-11,-1.3420597966363873e-11,-1.2098766433228295e-11]},{\"line\":{\"color\":\"rgba(55, 128, 191, 0.7999999999999998)\",\"dash\":\"solid\",\"shape\":\"linear\",\"width\":1.3},\"mode\":\"lines\",\"name\":\"Nuts, walnuts, English, halves, raw\",\"text\":\"\",\"type\":\"scatter\",\"x\":[-0.6931471805599453,-0.5108256237659907,-0.35667494393873245,-0.22314355131420968,-0.10536051565782628,0.0,0.09531017980432495,0.1823215567939546,0.26236426446749106,0.33647223662121284,0.4054651081081644],\"y\":[-1.3578027591166586e-13,-6.2458926919557115e-12,-3.175704144148716e-11,1.510216200188999e-07,-3.445188578924901e-11,0.0,1.8822055025502993e-11,3.698863437693749e-11,5.105227351845511e-11,6.139044827857841e-11,6.93340940192522e-11]},{\"line\":{\"color\":\"rgba(50, 171, 96, 0.7999999999999998)\",\"dash\":\"solid\",\"shape\":\"linear\",\"width\":1.3},\"mode\":\"lines\",\"name\":\"Cashews, NFS\",\"text\":\"\",\"type\":\"scatter\",\"x\":[-0.6931471805599453,-0.5108256237659907,-0.35667494393873245,-0.22314355131420968,-0.10536051565782628,0.0,0.09531017980432495,0.1823215567939546,0.26236426446749106,0.33647223662121284,0.4054651081081644],\"y\":[-0.360706359698109,-0.2760665383186797,-0.19803493345969117,-0.12565398951271883,-0.058159543872232065,0.0,0.05105770961413867,0.09963467121330413,0.14596082897516208,0.1902355584726939,0.23263331402561072]},{\"line\":{\"color\":\"rgba(128, 0, 128, 0.7999999999999998)\",\"dash\":\"solid\",\"shape\":\"linear\",\"width\":1.3},\"mode\":\"lines\",\"name\":\"Pistachio nuts, NFS\",\"text\":\"\",\"type\":\"scatter\",\"x\":[-0.6931471805599453,-0.5108256237659907,-0.35667494393873245,-0.22314355131420968,-0.10536051565782628,0.0,0.09531017980432495,0.1823215567939546,0.26236426446749106,0.33647223662121284,0.4054651081081644],\"y\":[-0.06792742801627719,-0.05396922994402198,-0.04020147488003949,-0.026620615720057746,-0.013221726291721528,0.0,0.005064633386840742,0.005064606286624298,0.005064605997860642,0.005065931871501688,0.0050646404069396266]},{\"line\":{\"color\":\"rgba(219, 64, 82, 0.7999999999999998)\",\"dash\":\"solid\",\"shape\":\"linear\",\"width\":1.3},\"mode\":\"lines\",\"name\":\"Almond butter, creamy\",\"text\":\"\",\"type\":\"scatter\",\"x\":[-0.6931471805599453,-0.5108256237659907,-0.35667494393873245,-0.22314355131420968,-0.10536051565782628,0.0,0.09531017980432495,0.1823215567939546,0.26236426446749106,0.33647223662121284,0.4054651081081644],\"y\":[-0.06744578392705929,-0.053400582697095016,-0.039780726413183275,-0.026343361428187596,-0.013084952990861777,0.0,0.006600839927887621,0.00813464108432166,0.009666131887992728,0.011195454132552338,0.012722120056309724]},{\"line\":{\"color\":\"rgba(0, 128, 128, 0.7999999999999998)\",\"dash\":\"solid\",\"shape\":\"linear\",\"width\":1.3},\"mode\":\"lines\",\"name\":\"Peanut butter, creamy\",\"text\":\"\",\"type\":\"scatter\",\"x\":[-0.6931471805599453,-0.5108256237659907,-0.35667494393873245,-0.22314355131420968,-0.10536051565782628,0.0,0.09531017980432495,0.1823215567939546,0.26236426446749106,0.33647223662121284,0.4054651081081644],\"y\":[-0.061753736605872314,-0.04802810525799822,-0.03448831536929634,-0.021129323446518525,-0.00794665240386452,0.0,1.9722603530871572e-09,5.420601743773802e-10,3.289224447825263e-10,2.1089374688806308e-10,1.237070446004162e-10]}],                        {\"legend\":{\"bgcolor\":\"#F5F6F9\",\"font\":{\"color\":\"#4D5663\"}},\"paper_bgcolor\":\"#F5F6F9\",\"plot_bgcolor\":\"#F5F6F9\",\"template\":{\"data\":{\"bar\":[{\"error_x\":{\"color\":\"#2a3f5f\"},\"error_y\":{\"color\":\"#2a3f5f\"},\"marker\":{\"line\":{\"color\":\"#E5ECF6\",\"width\":0.5},\"pattern\":{\"fillmode\":\"overlay\",\"size\":10,\"solidity\":0.2}},\"type\":\"bar\"}],\"barpolar\":[{\"marker\":{\"line\":{\"color\":\"#E5ECF6\",\"width\":0.5},\"pattern\":{\"fillmode\":\"overlay\",\"size\":10,\"solidity\":0.2}},\"type\":\"barpolar\"}],\"carpet\":[{\"aaxis\":{\"endlinecolor\":\"#2a3f5f\",\"gridcolor\":\"white\",\"linecolor\":\"white\",\"minorgridcolor\":\"white\",\"startlinecolor\":\"#2a3f5f\"},\"baxis\":{\"endlinecolor\":\"#2a3f5f\",\"gridcolor\":\"white\",\"linecolor\":\"white\",\"minorgridcolor\":\"white\",\"startlinecolor\":\"#2a3f5f\"},\"type\":\"carpet\"}],\"choropleth\":[{\"colorbar\":{\"outlinewidth\":0,\"ticks\":\"\"},\"type\":\"choropleth\"}],\"contour\":[{\"colorbar\":{\"outlinewidth\":0,\"ticks\":\"\"},\"colorscale\":[[0.0,\"#0d0887\"],[0.1111111111111111,\"#46039f\"],[0.2222222222222222,\"#7201a8\"],[0.3333333333333333,\"#9c179e\"],[0.4444444444444444,\"#bd3786\"],[0.5555555555555556,\"#d8576b\"],[0.6666666666666666,\"#ed7953\"],[0.7777777777777778,\"#fb9f3a\"],[0.8888888888888888,\"#fdca26\"],[1.0,\"#f0f921\"]],\"type\":\"contour\"}],\"contourcarpet\":[{\"colorbar\":{\"outlinewidth\":0,\"ticks\":\"\"},\"type\":\"contourcarpet\"}],\"heatmap\":[{\"colorbar\":{\"outlinewidth\":0,\"ticks\":\"\"},\"colorscale\":[[0.0,\"#0d0887\"],[0.1111111111111111,\"#46039f\"],[0.2222222222222222,\"#7201a8\"],[0.3333333333333333,\"#9c179e\"],[0.4444444444444444,\"#bd3786\"],[0.5555555555555556,\"#d8576b\"],[0.6666666666666666,\"#ed7953\"],[0.7777777777777778,\"#fb9f3a\"],[0.8888888888888888,\"#fdca26\"],[1.0,\"#f0f921\"]],\"type\":\"heatmap\"}],\"heatmapgl\":[{\"colorbar\":{\"outlinewidth\":0,\"ticks\":\"\"},\"colorscale\":[[0.0,\"#0d0887\"],[0.1111111111111111,\"#46039f\"],[0.2222222222222222,\"#7201a8\"],[0.3333333333333333,\"#9c179e\"],[0.4444444444444444,\"#bd3786\"],[0.5555555555555556,\"#d8576b\"],[0.6666666666666666,\"#ed7953\"],[0.7777777777777778,\"#fb9f3a\"],[0.8888888888888888,\"#fdca26\"],[1.0,\"#f0f921\"]],\"type\":\"heatmapgl\"}],\"histogram\":[{\"marker\":{\"pattern\":{\"fillmode\":\"overlay\",\"size\":10,\"solidity\":0.2}},\"type\":\"histogram\"}],\"histogram2d\":[{\"colorbar\":{\"outlinewidth\":0,\"ticks\":\"\"},\"colorscale\":[[0.0,\"#0d0887\"],[0.1111111111111111,\"#46039f\"],[0.2222222222222222,\"#7201a8\"],[0.3333333333333333,\"#9c179e\"],[0.4444444444444444,\"#bd3786\"],[0.5555555555555556,\"#d8576b\"],[0.6666666666666666,\"#ed7953\"],[0.7777777777777778,\"#fb9f3a\"],[0.8888888888888888,\"#fdca26\"],[1.0,\"#f0f921\"]],\"type\":\"histogram2d\"}],\"histogram2dcontour\":[{\"colorbar\":{\"outlinewidth\":0,\"ticks\":\"\"},\"colorscale\":[[0.0,\"#0d0887\"],[0.1111111111111111,\"#46039f\"],[0.2222222222222222,\"#7201a8\"],[0.3333333333333333,\"#9c179e\"],[0.4444444444444444,\"#bd3786\"],[0.5555555555555556,\"#d8576b\"],[0.6666666666666666,\"#ed7953\"],[0.7777777777777778,\"#fb9f3a\"],[0.8888888888888888,\"#fdca26\"],[1.0,\"#f0f921\"]],\"type\":\"histogram2dcontour\"}],\"mesh3d\":[{\"colorbar\":{\"outlinewidth\":0,\"ticks\":\"\"},\"type\":\"mesh3d\"}],\"parcoords\":[{\"line\":{\"colorbar\":{\"outlinewidth\":0,\"ticks\":\"\"}},\"type\":\"parcoords\"}],\"pie\":[{\"automargin\":true,\"type\":\"pie\"}],\"scatter\":[{\"marker\":{\"colorbar\":{\"outlinewidth\":0,\"ticks\":\"\"}},\"type\":\"scatter\"}],\"scatter3d\":[{\"line\":{\"colorbar\":{\"outlinewidth\":0,\"ticks\":\"\"}},\"marker\":{\"colorbar\":{\"outlinewidth\":0,\"ticks\":\"\"}},\"type\":\"scatter3d\"}],\"scattercarpet\":[{\"marker\":{\"colorbar\":{\"outlinewidth\":0,\"ticks\":\"\"}},\"type\":\"scattercarpet\"}],\"scattergeo\":[{\"marker\":{\"colorbar\":{\"outlinewidth\":0,\"ticks\":\"\"}},\"type\":\"scattergeo\"}],\"scattergl\":[{\"marker\":{\"colorbar\":{\"outlinewidth\":0,\"ticks\":\"\"}},\"type\":\"scattergl\"}],\"scattermapbox\":[{\"marker\":{\"colorbar\":{\"outlinewidth\":0,\"ticks\":\"\"}},\"type\":\"scattermapbox\"}],\"scatterpolar\":[{\"marker\":{\"colorbar\":{\"outlinewidth\":0,\"ticks\":\"\"}},\"type\":\"scatterpolar\"}],\"scatterpolargl\":[{\"marker\":{\"colorbar\":{\"outlinewidth\":0,\"ticks\":\"\"}},\"type\":\"scatterpolargl\"}],\"scatterternary\":[{\"marker\":{\"colorbar\":{\"outlinewidth\":0,\"ticks\":\"\"}},\"type\":\"scatterternary\"}],\"surface\":[{\"colorbar\":{\"outlinewidth\":0,\"ticks\":\"\"},\"colorscale\":[[0.0,\"#0d0887\"],[0.1111111111111111,\"#46039f\"],[0.2222222222222222,\"#7201a8\"],[0.3333333333333333,\"#9c179e\"],[0.4444444444444444,\"#bd3786\"],[0.5555555555555556,\"#d8576b\"],[0.6666666666666666,\"#ed7953\"],[0.7777777777777778,\"#fb9f3a\"],[0.8888888888888888,\"#fdca26\"],[1.0,\"#f0f921\"]],\"type\":\"surface\"}],\"table\":[{\"cells\":{\"fill\":{\"color\":\"#EBF0F8\"},\"line\":{\"color\":\"white\"}},\"header\":{\"fill\":{\"color\":\"#C8D4E3\"},\"line\":{\"color\":\"white\"}},\"type\":\"table\"}]},\"layout\":{\"annotationdefaults\":{\"arrowcolor\":\"#2a3f5f\",\"arrowhead\":0,\"arrowwidth\":1},\"autotypenumbers\":\"strict\",\"coloraxis\":{\"colorbar\":{\"outlinewidth\":0,\"ticks\":\"\"}},\"colorscale\":{\"diverging\":[[0,\"#8e0152\"],[0.1,\"#c51b7d\"],[0.2,\"#de77ae\"],[0.3,\"#f1b6da\"],[0.4,\"#fde0ef\"],[0.5,\"#f7f7f7\"],[0.6,\"#e6f5d0\"],[0.7,\"#b8e186\"],[0.8,\"#7fbc41\"],[0.9,\"#4d9221\"],[1,\"#276419\"]],\"sequential\":[[0.0,\"#0d0887\"],[0.1111111111111111,\"#46039f\"],[0.2222222222222222,\"#7201a8\"],[0.3333333333333333,\"#9c179e\"],[0.4444444444444444,\"#bd3786\"],[0.5555555555555556,\"#d8576b\"],[0.6666666666666666,\"#ed7953\"],[0.7777777777777778,\"#fb9f3a\"],[0.8888888888888888,\"#fdca26\"],[1.0,\"#f0f921\"]],\"sequentialminus\":[[0.0,\"#0d0887\"],[0.1111111111111111,\"#46039f\"],[0.2222222222222222,\"#7201a8\"],[0.3333333333333333,\"#9c179e\"],[0.4444444444444444,\"#bd3786\"],[0.5555555555555556,\"#d8576b\"],[0.6666666666666666,\"#ed7953\"],[0.7777777777777778,\"#fb9f3a\"],[0.8888888888888888,\"#fdca26\"],[1.0,\"#f0f921\"]]},\"colorway\":[\"#636efa\",\"#EF553B\",\"#00cc96\",\"#ab63fa\",\"#FFA15A\",\"#19d3f3\",\"#FF6692\",\"#B6E880\",\"#FF97FF\",\"#FECB52\"],\"font\":{\"color\":\"#2a3f5f\"},\"geo\":{\"bgcolor\":\"white\",\"lakecolor\":\"white\",\"landcolor\":\"#E5ECF6\",\"showlakes\":true,\"showland\":true,\"subunitcolor\":\"white\"},\"hoverlabel\":{\"align\":\"left\"},\"hovermode\":\"closest\",\"mapbox\":{\"style\":\"light\"},\"paper_bgcolor\":\"white\",\"plot_bgcolor\":\"#E5ECF6\",\"polar\":{\"angularaxis\":{\"gridcolor\":\"white\",\"linecolor\":\"white\",\"ticks\":\"\"},\"bgcolor\":\"#E5ECF6\",\"radialaxis\":{\"gridcolor\":\"white\",\"linecolor\":\"white\",\"ticks\":\"\"}},\"scene\":{\"xaxis\":{\"backgroundcolor\":\"#E5ECF6\",\"gridcolor\":\"white\",\"gridwidth\":2,\"linecolor\":\"white\",\"showbackground\":true,\"ticks\":\"\",\"zerolinecolor\":\"white\"},\"yaxis\":{\"backgroundcolor\":\"#E5ECF6\",\"gridcolor\":\"white\",\"gridwidth\":2,\"linecolor\":\"white\",\"showbackground\":true,\"ticks\":\"\",\"zerolinecolor\":\"white\"},\"zaxis\":{\"backgroundcolor\":\"#E5ECF6\",\"gridcolor\":\"white\",\"gridwidth\":2,\"linecolor\":\"white\",\"showbackground\":true,\"ticks\":\"\",\"zerolinecolor\":\"white\"}},\"shapedefaults\":{\"line\":{\"color\":\"#2a3f5f\"}},\"ternary\":{\"aaxis\":{\"gridcolor\":\"white\",\"linecolor\":\"white\",\"ticks\":\"\"},\"baxis\":{\"gridcolor\":\"white\",\"linecolor\":\"white\",\"ticks\":\"\"},\"bgcolor\":\"#E5ECF6\",\"caxis\":{\"gridcolor\":\"white\",\"linecolor\":\"white\",\"ticks\":\"\"}},\"title\":{\"x\":0.05},\"xaxis\":{\"automargin\":true,\"gridcolor\":\"white\",\"linecolor\":\"white\",\"ticks\":\"\",\"title\":{\"standoff\":15},\"zerolinecolor\":\"white\",\"zerolinewidth\":2},\"yaxis\":{\"automargin\":true,\"gridcolor\":\"white\",\"linecolor\":\"white\",\"ticks\":\"\",\"title\":{\"standoff\":15},\"zerolinecolor\":\"white\",\"zerolinewidth\":2}}},\"title\":{\"font\":{\"color\":\"#4D5663\"},\"text\":\"Effects of Price Changes on Subsistence Diet Composition for Raw Meat Diet\"},\"xaxis\":{\"gridcolor\":\"#E1E5ED\",\"showgrid\":true,\"tickfont\":{\"color\":\"#4D5663\"},\"title\":{\"font\":{\"color\":\"#4D5663\"},\"text\":\"change in log price\"},\"zerolinecolor\":\"#E1E5ED\"},\"yaxis\":{\"gridcolor\":\"#E1E5ED\",\"showgrid\":true,\"tickfont\":{\"color\":\"#4D5663\"},\"title\":{\"font\":{\"color\":\"#4D5663\"},\"text\":\"change in log cost\"},\"zerolinecolor\":\"#E1E5ED\"}},                        {\"showLink\": true, \"linkText\": \"Export to plot.ly\", \"plotlyServerURL\": \"https://plot.ly\", \"responsive\": true}                    ).then(function(){\n",
       "                            \n",
       "var gd = document.getElementById('ea7e7e3e-3fdd-45fe-889b-a09173f9ada4');\n",
       "var x = new MutationObserver(function (mutations, observer) {{\n",
       "        var display = window.getComputedStyle(gd).display;\n",
       "        if (!display || display === 'none') {{\n",
       "            console.log([gd, 'removed!']);\n",
       "            Plotly.purge(gd);\n",
       "            observer.disconnect();\n",
       "        }}\n",
       "}});\n",
       "\n",
       "// Listen for the removal of the full notebook cells\n",
       "var notebookContainer = gd.closest('#notebook-container');\n",
       "if (notebookContainer) {{\n",
       "    x.observe(notebookContainer, {childList: true});\n",
       "}}\n",
       "\n",
       "// Listen for the clearing of the current output cell\n",
       "var outputEl = gd.closest('.output');\n",
       "if (outputEl) {{\n",
       "    x.observe(outputEl, {childList: true});\n",
       "}}\n",
       "\n",
       "                        })                };                });            </script>        </div>"
      ]
     },
     "metadata": {},
     "output_type": "display_data"
    }
   ],
   "source": [
    "getPriceChangesGraph(\"meat\")"
   ]
  },
  {
   "cell_type": "code",
   "execution_count": 119,
   "id": "509b5a31",
   "metadata": {},
   "outputs": [
    {
     "data": {
      "text/html": [
       "        <script type=\"text/javascript\">\n",
       "        window.PlotlyConfig = {MathJaxConfig: 'local'};\n",
       "        if (window.MathJax) {MathJax.Hub.Config({SVG: {font: \"STIX-Web\"}});}\n",
       "        if (typeof require !== 'undefined') {\n",
       "        require.undef(\"plotly\");\n",
       "        requirejs.config({\n",
       "            paths: {\n",
       "                'plotly': ['https://cdn.plot.ly/plotly-2.3.1.min']\n",
       "            }\n",
       "        });\n",
       "        require(['plotly'], function(Plotly) {\n",
       "            window._Plotly = Plotly;\n",
       "        });\n",
       "        }\n",
       "        </script>\n",
       "        "
      ]
     },
     "metadata": {},
     "output_type": "display_data"
    },
    {
     "data": {
      "application/vnd.plotly.v1+json": {
       "config": {
        "linkText": "Export to plot.ly",
        "plotlyServerURL": "https://plot.ly",
        "showLink": true
       },
       "data": [
        {
         "line": {
          "color": "rgba(255, 153, 51, 1.0)",
          "dash": "solid",
          "shape": "linear",
          "width": 1.3
         },
         "mode": "lines",
         "name": "Russet Potato",
         "text": "",
         "type": "scatter",
         "x": [
          -0.6931471805599453,
          -0.5108256237659907,
          -0.35667494393873245,
          -0.22314355131420968,
          -0.10536051565782628,
          0,
          0.09531017980432495,
          0.1823215567939546,
          0.26236426446749106,
          0.33647223662121284,
          0.4054651081081644
         ],
         "y": [
          -0.13223830172090417,
          -0.09920697488611419,
          -0.0676277722595018,
          -0.04115260527916072,
          -0.0161631061963016,
          0,
          0.0045442907681541985,
          0.00454388046349614,
          0.004543880458262845,
          0.004543880457247176,
          0.004543880461052123
         ]
        },
        {
         "line": {
          "color": "rgba(55, 128, 191, 1.0)",
          "dash": "solid",
          "shape": "linear",
          "width": 1.3
         },
         "mode": "lines",
         "name": "Pasta",
         "text": "",
         "type": "scatter",
         "x": [
          -0.6931471805599453,
          -0.5108256237659907,
          -0.35667494393873245,
          -0.22314355131420968,
          -0.10536051565782628,
          0,
          0.09531017980432495,
          0.1823215567939546,
          0.26236426446749106,
          0.33647223662121284,
          0.4054651081081644
         ],
         "y": [
          -0.0024057384285383187,
          -3.899178758409404e-10,
          3.131679111402589e-08,
          3.6385785429499885e-09,
          -4.980690305874913e-10,
          0,
          1.1339970009778262e-08,
          5.6943178549868934e-08,
          -2.5157875785775564e-10,
          -3.524243120178028e-10,
          -8.527423215637242e-10
         ]
        },
        {
         "line": {
          "color": "rgba(50, 171, 96, 1.0)",
          "dash": "solid",
          "shape": "linear",
          "width": 1.3
         },
         "mode": "lines",
         "name": "Lemon, raw",
         "text": "",
         "type": "scatter",
         "x": [
          -0.6931471805599453,
          -0.5108256237659907,
          -0.35667494393873245,
          -0.22314355131420968,
          -0.10536051565782628,
          0,
          0.09531017980432495,
          0.1823215567939546,
          0.26236426446749106,
          0.33647223662121284,
          0.4054651081081644
         ],
         "y": [
          4.91426677008675e-10,
          3.3859648412667125e-10,
          2.167555024122256e-10,
          1.2262102443786163e-10,
          5.2230664236731394e-11,
          0,
          -3.6841973916747245e-11,
          -6.080513870372906e-11,
          -7.412748193322236e-11,
          -7.868949936405817e-11,
          -7.60741469847463e-11
         ]
        },
        {
         "line": {
          "color": "rgba(128, 0, 128, 1.0)",
          "dash": "solid",
          "shape": "linear",
          "width": 1.3
         },
         "mode": "lines",
         "name": "Lime, raw",
         "text": "",
         "type": "scatter",
         "x": [
          -0.6931471805599453,
          -0.5108256237659907,
          -0.35667494393873245,
          -0.22314355131420968,
          -0.10536051565782628,
          0,
          0.09531017980432495,
          0.1823215567939546,
          0.26236426446749106,
          0.33647223662121284,
          0.4054651081081644
         ],
         "y": [
          5.851283900135761e-10,
          9.343705804707603e-10,
          8.13242584054739e-10,
          5.559956937748241e-10,
          2.636875162317209e-10,
          0,
          -2.2989532502548912e-10,
          -2.942204258438005e-10,
          -2.320688086412998e-10,
          -2.574696012279161e-10,
          -2.992402992511327e-10
         ]
        },
        {
         "line": {
          "color": "rgba(219, 64, 82, 1.0)",
          "dash": "solid",
          "shape": "linear",
          "width": 1.3
         },
         "mode": "lines",
         "name": "Nuts, pecans, halves, raw",
         "text": "",
         "type": "scatter",
         "x": [
          -0.6931471805599453,
          -0.5108256237659907,
          -0.35667494393873245,
          -0.22314355131420968,
          -0.10536051565782628,
          0,
          0.09531017980432495,
          0.1823215567939546,
          0.26236426446749106,
          0.33647223662121284,
          0.4054651081081644
         ],
         "y": [
          7.460905224180377e-10,
          2.0532331388546806e-10,
          3.412885720066773e-07,
          -8.144495081671547e-10,
          -9.264233828815428e-10,
          0,
          1.5030738762803782e-08,
          1.4872177600975958e-08,
          -8.364677842766034e-10,
          -3.9419434391117066e-10,
          -4.479372429537373e-10
         ]
        },
        {
         "line": {
          "color": "rgba(0, 128, 128, 1.0)",
          "dash": "solid",
          "shape": "linear",
          "width": 1.3
         },
         "mode": "lines",
         "name": "Nuts, walnuts, English, halves, raw",
         "text": "",
         "type": "scatter",
         "x": [
          -0.6931471805599453,
          -0.5108256237659907,
          -0.35667494393873245,
          -0.22314355131420968,
          -0.10536051565782628,
          0,
          0.09531017980432495,
          0.1823215567939546,
          0.26236426446749106,
          0.33647223662121284,
          0.4054651081081644
         ],
         "y": [
          -3.142465177457792e-10,
          -1.4732814969084554e-10,
          -2.562743351192976e-10,
          8.819870156067645e-08,
          1.7455104027317248e-10,
          0,
          -2.9992219823306173e-10,
          3.3687113042293526e-09,
          1.8227779269338277e-09,
          8.850544737617743e-10,
          4.729259205352421e-10
         ]
        },
        {
         "line": {
          "color": "rgba(255, 255, 51, 1.0)",
          "dash": "solid",
          "shape": "linear",
          "width": 1.3
         },
         "mode": "lines",
         "name": "Cashews, NFS",
         "text": "",
         "type": "scatter",
         "x": [
          -0.6931471805599453,
          -0.5108256237659907,
          -0.35667494393873245,
          -0.22314355131420968,
          -0.10536051565782628,
          0,
          0.09531017980432495,
          0.1823215567939546,
          0.26236426446749106,
          0.33647223662121284,
          0.4054651081081644
         ],
         "y": [
          -8.923928266997848e-10,
          -8.530997023556559e-10,
          1.3428962377524491e-09,
          1.8264520395842254e-08,
          1.4191105194329354e-07,
          0,
          6.068923141626797e-11,
          2.9019586691518324e-09,
          3.62379932823296e-08,
          5.596410652558348e-09,
          3.0953672652785165e-07
         ]
        },
        {
         "line": {
          "color": "rgba(128, 128, 0, 1.0)",
          "dash": "solid",
          "shape": "linear",
          "width": 1.3
         },
         "mode": "lines",
         "name": "Pistachio nuts, NFS",
         "text": "",
         "type": "scatter",
         "x": [
          -0.6931471805599453,
          -0.5108256237659907,
          -0.35667494393873245,
          -0.22314355131420968,
          -0.10536051565782628,
          0,
          0.09531017980432495,
          0.1823215567939546,
          0.26236426446749106,
          0.33647223662121284,
          0.4054651081081644
         ],
         "y": [
          -0.20064270536846288,
          -0.09491571489733552,
          -0.012850558670490926,
          -3.009205107771046e-10,
          -2.2271040569769897e-10,
          0,
          2.4180146770821186e-10,
          4.921183459526763e-10,
          7.219420614271413e-10,
          9.157758991377248e-10,
          1.057050002525082e-09
         ]
        },
        {
         "line": {
          "color": "rgba(251, 128, 114, 1.0)",
          "dash": "solid",
          "shape": "linear",
          "width": 1.3
         },
         "mode": "lines",
         "name": "Almond butter, creamy",
         "text": "",
         "type": "scatter",
         "x": [
          -0.6931471805599453,
          -0.5108256237659907,
          -0.35667494393873245,
          -0.22314355131420968,
          -0.10536051565782628,
          0,
          0.09531017980432495,
          0.1823215567939546,
          0.26236426446749106,
          0.33647223662121284,
          0.4054651081081644
         ],
         "y": [
          -0.057177874962456625,
          2.8858608863626152e-08,
          5.986062294585401e-09,
          2.7178974589516856e-09,
          2.8018135860954573e-07,
          0,
          7.670508669732879e-10,
          4.3918713101069e-10,
          3.286297899933313e-10,
          8.101350698113355e-10,
          3.822521181162097e-09
         ]
        },
        {
         "line": {
          "color": "rgba(128, 177, 211, 1.0)",
          "dash": "solid",
          "shape": "linear",
          "width": 1.3
         },
         "mode": "lines",
         "name": "Peanut butter, creamy",
         "text": "",
         "type": "scatter",
         "x": [
          -0.6931471805599453,
          -0.5108256237659907,
          -0.35667494393873245,
          -0.22314355131420968,
          -0.10536051565782628,
          0,
          0.09531017980432495,
          0.1823215567939546,
          0.26236426446749106,
          0.33647223662121284,
          0.4054651081081644
         ],
         "y": [
          -0.23747741964880661,
          -0.1835993375588762,
          -0.13294112831424432,
          -0.08663551253279,
          -0.04237993174873066,
          0,
          0.040656682592833594,
          0.07414759022522063,
          0.08979695864974423,
          0.09356779326997511,
          0.09356785905959976
         ]
        },
        {
         "line": {
          "color": "rgba(128, 177, 211, 0.8999999999999999)",
          "dash": "solid",
          "shape": "linear",
          "width": 1.3
         },
         "mode": "lines",
         "name": "Sweet Potato",
         "text": "",
         "type": "scatter",
         "x": [
          -0.6931471805599453,
          -0.5108256237659907,
          -0.35667494393873245,
          -0.22314355131420968,
          -0.10536051565782628,
          0,
          0.09531017980432495,
          0.1823215567939546,
          0.26236426446749106,
          0.33647223662121284,
          0.4054651081081644
         ],
         "y": [
          -0.039215870840017916,
          -0.016798247283133304,
          -0.005903903617831306,
          8.47773003757243e-09,
          -1.9086576765348807e-10,
          0,
          3.8765524116559806e-10,
          8.006435511368545e-10,
          1.1767071754502796e-09,
          1.4970209505257415e-09,
          1.721396801396813e-09
         ]
        },
        {
         "line": {
          "color": "rgba(255, 153, 51, 0.8999999999999999)",
          "dash": "solid",
          "shape": "linear",
          "width": 1.3
         },
         "mode": "lines",
         "name": "Carrots",
         "text": "",
         "type": "scatter",
         "x": [
          -0.6931471805599453,
          -0.5108256237659907,
          -0.35667494393873245,
          -0.22314355131420968,
          -0.10536051565782628,
          0,
          0.09531017980432495,
          0.1823215567939546,
          0.26236426446749106,
          0.33647223662121284,
          0.4054651081081644
         ],
         "y": [
          -0.04825325745607394,
          -0.00853569886774598,
          4.668945663624612e-09,
          9.344643903867467e-09,
          1.6801069410474126e-09,
          0,
          -3.0769387043010137e-10,
          -6.547984379080516e-10,
          2.3013611766015007e-07,
          -8.006080246410681e-10,
          -1.0175804643870838e-10
         ]
        },
        {
         "line": {
          "color": "rgba(55, 128, 191, 0.8999999999999999)",
          "dash": "solid",
          "shape": "linear",
          "width": 1.3
         },
         "mode": "lines",
         "name": "White rice (glutinous)",
         "text": "",
         "type": "scatter",
         "x": [
          -0.6931471805599453,
          -0.5108256237659907,
          -0.35667494393873245,
          -0.22314355131420968,
          -0.10536051565782628,
          0,
          0.09531017980432495,
          0.1823215567939546,
          0.26236426446749106,
          0.33647223662121284,
          0.4054651081081644
         ],
         "y": [
          -9.415128681125262e-10,
          4.43528879305945e-09,
          3.0471292109739526e-09,
          2.546072460730185e-09,
          3.206456827796097e-07,
          0,
          1.9994603730472484e-09,
          3.3876583703035987e-09,
          1.008572618964076e-07,
          -6.428600986942089e-10,
          1.6022353692529332e-07
         ]
        },
        {
         "line": {
          "color": "rgba(50, 171, 96, 0.8999999999999999)",
          "dash": "solid",
          "shape": "linear",
          "width": 1.3
         },
         "mode": "lines",
         "name": "Wild rice",
         "text": "",
         "type": "scatter",
         "x": [
          -0.6931471805599453,
          -0.5108256237659907,
          -0.35667494393873245,
          -0.22314355131420968,
          -0.10536051565782628,
          0,
          0.09531017980432495,
          0.1823215567939546,
          0.26236426446749106,
          0.33647223662121284,
          0.4054651081081644
         ],
         "y": [
          -7.574164631689166e-10,
          4.8937317888520444e-08,
          2.808913751003022e-08,
          5.743310817425379e-08,
          3.740868766950655e-08,
          0,
          2.5323788501582397e-07,
          -7.974547692040083e-10,
          4.269897134648458e-07,
          1.795522714377148e-08,
          1.2038442614694652e-08
         ]
        },
        {
         "line": {
          "color": "rgba(128, 0, 128, 0.8999999999999999)",
          "dash": "solid",
          "shape": "linear",
          "width": 1.3
         },
         "mode": "lines",
         "name": "Whole grain bread",
         "text": "",
         "type": "scatter",
         "x": [
          -0.6931471805599453,
          -0.5108256237659907,
          -0.35667494393873245,
          -0.22314355131420968,
          -0.10536051565782628,
          0,
          0.09531017980432495,
          0.1823215567939546,
          0.26236426446749106,
          0.33647223662121284,
          0.4054651081081644
         ],
         "y": [
          -0.004964703405025735,
          1.1718360435515976e-08,
          -4.5711479056865175e-10,
          1.2960401632383892e-09,
          4.361211879863727e-07,
          0,
          1.1401950044689266e-07,
          -5.350609956532956e-10,
          -1.1986622806156115e-10,
          -1.3817058608462916e-11,
          -4.057698621633578e-11
         ]
        },
        {
         "line": {
          "color": "rgba(219, 64, 82, 0.8999999999999999)",
          "dash": "solid",
          "shape": "linear",
          "width": 1.3
         },
         "mode": "lines",
         "name": "White bread",
         "text": "",
         "type": "scatter",
         "x": [
          -0.6931471805599453,
          -0.5108256237659907,
          -0.35667494393873245,
          -0.22314355131420968,
          -0.10536051565782628,
          0,
          0.09531017980432495,
          0.1823215567939546,
          0.26236426446749106,
          0.33647223662121284,
          0.4054651081081644
         ],
         "y": [
          -0.059727343150289415,
          -0.04367099015120275,
          -0.03079615703128991,
          -0.019257079027977367,
          -0.009582149772386738,
          0,
          0.009491242584061525,
          0.018893253457550854,
          0.028207685018602158,
          0.03743615446718999,
          0.046580238459599375
         ]
        },
        {
         "line": {
          "color": "rgba(0, 128, 128, 0.8999999999999999)",
          "dash": "solid",
          "shape": "linear",
          "width": 1.3
         },
         "mode": "lines",
         "name": "Whole wheat pasta",
         "text": "",
         "type": "scatter",
         "x": [
          -0.6931471805599453,
          -0.5108256237659907,
          -0.35667494393873245,
          -0.22314355131420968,
          -0.10536051565782628,
          0,
          0.09531017980432495,
          0.1823215567939546,
          0.26236426446749106,
          0.33647223662121284,
          0.4054651081081644
         ],
         "y": [
          -0.006156084760849902,
          -0.0022569554434262,
          8.864480257010494e-10,
          -9.245817449265901e-10,
          6.210392198572343e-10,
          0,
          -4.2630821104544285e-10,
          3.2528138710165747e-07,
          3.963856869834214e-07,
          4.169639012962008e-07,
          4.0147007430909917e-07
         ]
        },
        {
         "line": {
          "color": "rgba(255, 255, 51, 0.8999999999999999)",
          "dash": "solid",
          "shape": "linear",
          "width": 1.3
         },
         "mode": "lines",
         "name": "Lettuce, iceberg, raw",
         "text": "",
         "type": "scatter",
         "x": [
          -0.6931471805599453,
          -0.5108256237659907,
          -0.35667494393873245,
          -0.22314355131420968,
          -0.10536051565782628,
          0,
          0.09531017980432495,
          0.1823215567939546,
          0.26236426446749106,
          0.33647223662121284,
          0.4054651081081644
         ],
         "y": [
          1.0098580394931525e-07,
          8.718986827819582e-09,
          6.215941093245972e-10,
          6.698954722027489e-10,
          5.370868193189528e-10,
          0,
          -2.3344171043387085e-10,
          -4.720243086401769e-10,
          3.495485338657422e-07,
          4.7546189206861706e-11,
          5.334019891021942e-10
         ]
        },
        {
         "line": {
          "color": "rgba(128, 128, 0, 0.8999999999999999)",
          "dash": "solid",
          "shape": "linear",
          "width": 1.3
         },
         "mode": "lines",
         "name": "Lettuce, romaine, green, raw",
         "text": "",
         "type": "scatter",
         "x": [
          -0.6931471805599453,
          -0.5108256237659907,
          -0.35667494393873245,
          -0.22314355131420968,
          -0.10536051565782628,
          0,
          0.09531017980432495,
          0.1823215567939546,
          0.26236426446749106,
          0.33647223662121284,
          0.4054651081081644
         ],
         "y": [
          1.5832548592954293e-09,
          4.34479341299126e-10,
          7.222196171830971e-10,
          7.63402007983347e-10,
          4.5346948408230325e-10,
          0,
          -2.6166446790524866e-10,
          -3.430814521954257e-10,
          2.952445671749003e-07,
          -8.503064922456225e-10,
          3.2872349281657885e-10
         ]
        },
        {
         "line": {
          "color": "rgba(251, 128, 114, 0.8999999999999999)",
          "dash": "solid",
          "shape": "linear",
          "width": 1.3
         },
         "mode": "lines",
         "name": "Cucumber, with peel, raw",
         "text": "",
         "type": "scatter",
         "x": [
          -0.6931471805599453,
          -0.5108256237659907,
          -0.35667494393873245,
          -0.22314355131420968,
          -0.10536051565782628,
          0,
          0.09531017980432495,
          0.1823215567939546,
          0.26236426446749106,
          0.33647223662121284,
          0.4054651081081644
         ],
         "y": [
          3.163606926973165e-09,
          6.750462408997311e-10,
          5.219897845934895e-10,
          7.283627032184975e-10,
          4.572588973082283e-10,
          0,
          -2.528784959530122e-10,
          -3.6411618171662163e-10,
          3.0879051411132434e-07,
          -6.288309874792176e-10,
          5.043911953499776e-10
         ]
        },
        {
         "line": {
          "color": "rgba(251, 128, 114, 0.7999999999999998)",
          "dash": "solid",
          "shape": "linear",
          "width": 1.3
         },
         "mode": "lines",
         "name": "Broccoli, raw",
         "text": "",
         "type": "scatter",
         "x": [
          -0.6931471805599453,
          -0.5108256237659907,
          -0.35667494393873245,
          -0.22314355131420968,
          -0.10536051565782628,
          0,
          0.09531017980432495,
          0.1823215567939546,
          0.26236426446749106,
          0.33647223662121284,
          0.4054651081081644
         ],
         "y": [
          1.979445716488334e-09,
          1.2891525616471226e-09,
          9.139318186955095e-10,
          6.036608988634183e-10,
          2.967115441791527e-10,
          0,
          -2.8975466474824433e-10,
          -2.2556800874142216e-10,
          -2.9016233864300487e-10,
          -4.549104427522533e-10,
          2.695348141143904e-07
         ]
        },
        {
         "line": {
          "color": "rgba(128, 177, 211, 0.7999999999999998)",
          "dash": "solid",
          "shape": "linear",
          "width": 1.3
         },
         "mode": "lines",
         "name": "Kale, raw",
         "text": "",
         "type": "scatter",
         "x": [
          -0.6931471805599453,
          -0.5108256237659907,
          -0.35667494393873245,
          -0.22314355131420968,
          -0.10536051565782628,
          0,
          0.09531017980432495,
          0.1823215567939546,
          0.26236426446749106,
          0.33647223662121284,
          0.4054651081081644
         ],
         "y": [
          -0.0023191075990668035,
          2.3222894691379237e-09,
          8.943379366408254e-10,
          5.340050622488487e-10,
          2.3667534596013893e-10,
          0,
          -2.0978518924221786e-10,
          -3.053695075050337e-10,
          -2.3390622774748253e-10,
          -2.762359230627679e-10,
          -3.6104264029413493e-10
         ]
        },
        {
         "line": {
          "color": "rgba(255, 153, 51, 0.7999999999999998)",
          "dash": "solid",
          "shape": "linear",
          "width": 1.3
         },
         "mode": "lines",
         "name": "Spinach, mature",
         "text": "",
         "type": "scatter",
         "x": [
          -0.6931471805599453,
          -0.5108256237659907,
          -0.35667494393873245,
          -0.22314355131420968,
          -0.10536051565782628,
          0,
          0.09531017980432495,
          0.1823215567939546,
          0.26236426446749106,
          0.33647223662121284,
          0.4054651081081644
         ],
         "y": [
          1.5406655939143064e-09,
          1.0185405846882936e-09,
          6.981888398321524e-10,
          4.4660031218743387e-10,
          2.1609936060481412e-10,
          0,
          -2.1288837361900346e-10,
          -2.9149638262978246e-10,
          -2.3472335189379814e-10,
          -2.8165236813451753e-10,
          -4.1763259526045365e-10
         ]
        },
        {
         "line": {
          "color": "rgba(55, 128, 191, 0.7999999999999998)",
          "dash": "solid",
          "shape": "linear",
          "width": 1.3
         },
         "mode": "lines",
         "name": "Lettuce, arugula, raw",
         "text": "",
         "type": "scatter",
         "x": [
          -0.6931471805599453,
          -0.5108256237659907,
          -0.35667494393873245,
          -0.22314355131420968,
          -0.10536051565782628,
          0,
          0.09531017980432495,
          0.1823215567939546,
          0.26236426446749106,
          0.33647223662121284,
          0.4054651081081644
         ],
         "y": [
          1.1253859832496231e-07,
          1.8226795240198416e-08,
          6.831482044387337e-10,
          1.0556220336723174e-09,
          6.67726318458687e-10,
          0,
          -2.25039875648489e-10,
          -4.2899772632374744e-10,
          2.6249781789100205e-07,
          3.3825221587264367e-07,
          -7.610236888009649e-10
         ]
        },
        {
         "line": {
          "color": "rgba(50, 171, 96, 0.7999999999999998)",
          "dash": "solid",
          "shape": "linear",
          "width": 1.3
         },
         "mode": "lines",
         "name": "Collards, raw",
         "text": "",
         "type": "scatter",
         "x": [
          -0.6931471805599453,
          -0.5108256237659907,
          -0.35667494393873245,
          -0.22314355131420968,
          -0.10536051565782628,
          0,
          0.09531017980432495,
          0.1823215567939546,
          0.26236426446749106,
          0.33647223662121284,
          0.4054651081081644
         ],
         "y": [
          -0.007350644966369735,
          -0.005876588792943963,
          -0.004404200932088691,
          -0.002933977752153329,
          -0.0014659129242170351,
          0,
          0.0014637675207724273,
          0.0029253958876364465,
          0.004384891113414893,
          0.005842779283554734,
          0.007297507116675249
         ]
        },
        {
         "line": {
          "color": "rgba(128, 0, 128, 0.7999999999999998)",
          "dash": "solid",
          "shape": "linear",
          "width": 1.3
         },
         "mode": "lines",
         "name": "Cabbage, green, raw",
         "text": "",
         "type": "scatter",
         "x": [
          -0.6931471805599453,
          -0.5108256237659907,
          -0.35667494393873245,
          -0.22314355131420968,
          -0.10536051565782628,
          0,
          0.09531017980432495,
          0.1823215567939546,
          0.26236426446749106,
          0.33647223662121284,
          0.4054651081081644
         ],
         "y": [
          -0.003369666899898334,
          2.4350306186189912e-09,
          1.3296885805799478e-09,
          7.156415457669222e-10,
          3.056670471822918e-10,
          0,
          -2.54530618836376e-10,
          -2.505252672294244e-10,
          -2.4164759085542956e-10,
          -3.121924941272768e-10,
          -4.3075376608255195e-10
         ]
        },
        {
         "line": {
          "color": "rgba(219, 64, 82, 0.7999999999999998)",
          "dash": "solid",
          "shape": "linear",
          "width": 1.3
         },
         "mode": "lines",
         "name": "Carrots, raw",
         "text": "",
         "type": "scatter",
         "x": [
          -0.6931471805599453,
          -0.5108256237659907,
          -0.35667494393873245,
          -0.22314355131420968,
          -0.10536051565782628,
          0,
          0.09531017980432495,
          0.1823215567939546,
          0.26236426446749106,
          0.33647223662121284,
          0.4054651081081644
         ],
         "y": [
          -0.12518359865017717,
          -0.06319822866077782,
          -0.0227591305258067,
          -0.01343529983788226,
          -0.006695087198912358,
          0,
          0.006650561599766495,
          0.013257185421452449,
          0.019820447997866492,
          0.025594620193422776,
          0.02638760653048142
         ]
        },
        {
         "line": {
          "color": "rgba(0, 128, 128, 0.7999999999999998)",
          "dash": "solid",
          "shape": "linear",
          "width": 1.3
         },
         "mode": "lines",
         "name": "Asparagus, raw",
         "text": "",
         "type": "scatter",
         "x": [
          -0.6931471805599453,
          -0.5108256237659907,
          -0.35667494393873245,
          -0.22314355131420968,
          -0.10536051565782628,
          0,
          0.09531017980432495,
          0.1823215567939546,
          0.26236426446749106,
          0.33647223662121284,
          0.4054651081081644
         ],
         "y": [
          -8.216448635956366e-10,
          -4.657886299971433e-10,
          2.347230574211765e-07,
          -8.575806731782281e-11,
          -4.756116612790454e-10,
          0,
          5.664622976851852e-09,
          1.4174985529257307e-08,
          8.48022692913364e-09,
          8.519325208970328e-09,
          9.130713698961035e-09
         ]
        },
        {
         "line": {
          "color": "rgba(255, 255, 51, 0.7999999999999998)",
          "dash": "solid",
          "shape": "linear",
          "width": 1.3
         },
         "mode": "lines",
         "name": "Celery, raw",
         "text": "",
         "type": "scatter",
         "x": [
          -0.6931471805599453,
          -0.5108256237659907,
          -0.35667494393873245,
          -0.22314355131420968,
          -0.10536051565782628,
          0,
          0.09531017980432495,
          0.1823215567939546,
          0.26236426446749106,
          0.33647223662121284,
          0.4054651081081644
         ],
         "y": [
          4.0804225387611185e-08,
          3.6587679485791324e-09,
          2.004871600058437e-09,
          1.1179623887048986e-09,
          4.89782214665407e-10,
          0,
          -3.125132375591912e-10,
          -2.6256041788635597e-10,
          -4.336692117464777e-10,
          2.482170520818367e-07,
          3.141337360884315e-07
         ]
        },
        {
         "line": {
          "color": "rgba(128, 128, 0, 0.7999999999999998)",
          "dash": "solid",
          "shape": "linear",
          "width": 1.3
         },
         "mode": "lines",
         "name": "Avocado, raw",
         "text": "",
         "type": "scatter",
         "x": [
          -0.6931471805599453,
          -0.5108256237659907,
          -0.35667494393873245,
          -0.22314355131420968,
          -0.10536051565782628,
          0,
          0.09531017980432495,
          0.1823215567939546,
          0.26236426446749106,
          0.33647223662121284,
          0.4054651081081644
         ],
         "y": [
          -0.2638835217021981,
          -0.19365789094371344,
          -0.13487806988308487,
          -0.07936233734343434,
          -0.029673887545486825,
          0,
          0.017688779257382218,
          0.03507009824214267,
          0.0425685754642995,
          0.04256838089222159,
          0.042568449948253685
         ]
        },
        {
         "line": {
          "color": "rgba(128, 128, 0, 0.7)",
          "dash": "solid",
          "shape": "linear",
          "width": 1.3
         },
         "mode": "lines",
         "name": "Onions, red, raw",
         "text": "",
         "type": "scatter",
         "x": [
          -0.6931471805599453,
          -0.5108256237659907,
          -0.35667494393873245,
          -0.22314355131420968,
          -0.10536051565782628,
          0,
          0.09531017980432495,
          0.1823215567939546,
          0.26236426446749106,
          0.33647223662121284,
          0.4054651081081644
         ],
         "y": [
          -2.6240254417221287e-10,
          -3.204835286554978e-10,
          -2.840196966905953e-10,
          -1.9681545284360755e-10,
          -1.0074974188764173e-10,
          0,
          1.0276157702020974e-10,
          2.094826534240611e-10,
          3.175950613105424e-10,
          4.2439074467868963e-10,
          5.290954339919611e-10
         ]
        },
        {
         "line": {
          "color": "rgba(251, 128, 114, 0.7)",
          "dash": "solid",
          "shape": "linear",
          "width": 1.3
         },
         "mode": "lines",
         "name": "Onions, yellow, raw",
         "text": "",
         "type": "scatter",
         "x": [
          -0.6931471805599453,
          -0.5108256237659907,
          -0.35667494393873245,
          -0.22314355131420968,
          -0.10536051565782628,
          0,
          0.09531017980432495,
          0.1823215567939546,
          0.26236426446749106,
          0.33647223662121284,
          0.4054651081081644
         ],
         "y": [
          2.561062473172516e-11,
          -9.495293440859917e-11,
          -1.1170031566989272e-10,
          -9.090306285899518e-11,
          -5.0918824713494696e-11,
          0,
          5.758304943815539e-11,
          1.1939338406106193e-10,
          1.875140043063491e-10,
          2.5810020783945e-10,
          3.3044322828115644e-10
         ]
        },
        {
         "line": {
          "color": "rgba(128, 177, 211, 0.7)",
          "dash": "solid",
          "shape": "linear",
          "width": 1.3
         },
         "mode": "lines",
         "name": "Onions, white, raw",
         "text": "",
         "type": "scatter",
         "x": [
          -0.6931471805599453,
          -0.5108256237659907,
          -0.35667494393873245,
          -0.22314355131420968,
          -0.10536051565782628,
          0,
          0.09531017980432495,
          0.1823215567939546,
          0.26236426446749106,
          0.33647223662121284,
          0.4054651081081644
         ],
         "y": [
          -2.433000468056823e-10,
          -2.2016943826067672e-10,
          -2.625000217538005e-10,
          -3.126515713481028e-10,
          -1.5693191192222156e-10,
          0,
          1.5600187807001095e-10,
          3.1621705249281436e-10,
          4.724209911038812e-10,
          6.220564061917636e-10,
          7.563403234182823e-10
         ]
        },
        {
         "line": {
          "color": "rgba(255, 153, 51, 0.7)",
          "dash": "solid",
          "shape": "linear",
          "width": 1.3
         },
         "mode": "lines",
         "name": "SLICED MUSHROOMS, BABY BELLA",
         "text": "",
         "type": "scatter",
         "x": [
          -0.6931471805599453,
          -0.5108256237659907,
          -0.35667494393873245,
          -0.22314355131420968,
          -0.10536051565782628,
          0,
          0.09531017980432495,
          0.1823215567939546,
          0.26236426446749106,
          0.33647223662121284,
          0.4054651081081644
         ],
         "y": [
          3.389567189786465e-07,
          -8.822804712933159e-10,
          -3.946858396443661e-10,
          -2.3125412698564114e-10,
          -3.1833058416545706e-10,
          0,
          2.8812752179986605e-10,
          5.452414074304117e-10,
          7.562543921562412e-10,
          9.25183484950529e-10,
          1.0562937186015065e-09
         ]
        },
        {
         "line": {
          "color": "rgba(55, 128, 191, 0.7)",
          "dash": "solid",
          "shape": "linear",
          "width": 1.3
         },
         "mode": "lines",
         "name": "Garlic, raw",
         "text": "",
         "type": "scatter",
         "x": [
          -0.6931471805599453,
          -0.5108256237659907,
          -0.35667494393873245,
          -0.22314355131420968,
          -0.10536051565782628,
          0,
          0.09531017980432495,
          0.1823215567939546,
          0.26236426446749106,
          0.33647223662121284,
          0.4054651081081644
         ],
         "y": [
          3.123397441402739e-07,
          1.3644010356657236e-09,
          3.518282992082458e-09,
          5.988132210516097e-10,
          -6.490434858338528e-10,
          0,
          1.0613032669279159e-09,
          7.367444429590675e-10,
          2.184364908787295e-09,
          5.506240689464339e-08,
          1.0900216801286193e-07
         ]
        },
        {
         "line": {
          "color": "rgba(50, 171, 96, 0.7)",
          "dash": "solid",
          "shape": "linear",
          "width": 1.3
         },
         "mode": "lines",
         "name": "Eggplant, raw",
         "text": "",
         "type": "scatter",
         "x": [
          -0.6931471805599453,
          -0.5108256237659907,
          -0.35667494393873245,
          -0.22314355131420968,
          -0.10536051565782628,
          0,
          0.09531017980432495,
          0.1823215567939546,
          0.26236426446749106,
          0.33647223662121284,
          0.4054651081081644
         ],
         "y": [
          2.5007707013173245e-10,
          -1.0655532012861335e-10,
          -1.989757248053507e-10,
          -1.7843537760058213e-10,
          -1.0325307276382187e-10,
          0,
          1.1746603689054094e-10,
          2.4673463269462623e-10,
          3.8007263995492386e-10,
          5.132683166057585e-10,
          6.440581399460419e-10
         ]
        },
        {
         "line": {
          "color": "rgba(128, 0, 128, 0.7)",
          "dash": "solid",
          "shape": "linear",
          "width": 1.3
         },
         "mode": "lines",
         "name": "Green beans, raw",
         "text": "",
         "type": "scatter",
         "x": [
          -0.6931471805599453,
          -0.5108256237659907,
          -0.35667494393873245,
          -0.22314355131420968,
          -0.10536051565782628,
          0,
          0.09531017980432495,
          0.1823215567939546,
          0.26236426446749106,
          0.33647223662121284,
          0.4054651081081644
         ],
         "y": [
          1.1904601741738485e-09,
          1.5633361270971715e-10,
          9.37050436805093e-10,
          8.77814709424575e-10,
          4.993176981745918e-10,
          0,
          -2.407967159291516e-10,
          -3.701886575743409e-10,
          2.770512486444549e-07,
          -9.034113461398732e-10,
          4.0622127875443007e-10
         ]
        },
        {
         "line": {
          "color": "rgba(219, 64, 82, 0.7)",
          "dash": "solid",
          "shape": "linear",
          "width": 1.3
         },
         "mode": "lines",
         "name": "Black beans, NFS",
         "text": "",
         "type": "scatter",
         "x": [
          -0.6931471805599453,
          -0.5108256237659907,
          -0.35667494393873245,
          -0.22314355131420968,
          -0.10536051565782628,
          0,
          0.09531017980432495,
          0.1823215567939546,
          0.26236426446749106,
          0.33647223662121284,
          0.4054651081081644
         ],
         "y": [
          -0.05213483577137361,
          -0.03280796840405591,
          -0.01384756526563229,
          -0.0011676427374148629,
          4.283524696783313e-07,
          0,
          8.673630698798737e-10,
          3.827618221641452e-10,
          5.16778060314034e-08,
          1.6763080717390737e-07,
          -9.25562071858241e-10
         ]
        },
        {
         "line": {
          "color": "rgba(0, 128, 128, 0.7)",
          "dash": "solid",
          "shape": "linear",
          "width": 1.3
         },
         "mode": "lines",
         "name": "Pinto beans, NFS",
         "text": "",
         "type": "scatter",
         "x": [
          -0.6931471805599453,
          -0.5108256237659907,
          -0.35667494393873245,
          -0.22314355131420968,
          -0.10536051565782628,
          0,
          0.09531017980432495,
          0.1823215567939546,
          0.26236426446749106,
          0.33647223662121284,
          0.4054651081081644
         ],
         "y": [
          -0.0005952568321114401,
          7.559065567116129e-09,
          6.784115489296975e-10,
          2.9611769042479943e-08,
          5.301520726221118e-08,
          0,
          4.6849791170426406e-08,
          -9.404913519066074e-10,
          5.276461905346191e-07,
          3.2507454573604734e-07,
          2.2206896476214058e-07
         ]
        },
        {
         "line": {
          "color": "rgba(255, 255, 51, 0.7)",
          "dash": "solid",
          "shape": "linear",
          "width": 1.3
         },
         "mode": "lines",
         "name": "Green peas, raw",
         "text": "",
         "type": "scatter",
         "x": [
          -0.6931471805599453,
          -0.5108256237659907,
          -0.35667494393873245,
          -0.22314355131420968,
          -0.10536051565782628,
          0,
          0.09531017980432495,
          0.1823215567939546,
          0.26236426446749106,
          0.33647223662121284,
          0.4054651081081644
         ],
         "y": [
          2.152471754072651e-09,
          1.6494701146892802e-09,
          2.3588988512446457e-09,
          2.636165726677444e-09,
          2.8466107793885243e-07,
          0,
          1.0589247251224806e-09,
          5.899154496483423e-10,
          5.191589145094465e-09,
          8.425216769042648e-08,
          1.1176453493179451e-07
         ]
        },
        {
         "line": {
          "color": "rgba(255, 255, 51, 0.5999999999999999)",
          "dash": "solid",
          "shape": "linear",
          "width": 1.3
         },
         "mode": "lines",
         "name": "Corn, raw",
         "text": "",
         "type": "scatter",
         "x": [
          -0.6931471805599453,
          -0.5108256237659907,
          -0.35667494393873245,
          -0.22314355131420968,
          -0.10536051565782628,
          0,
          0.09531017980432495,
          0.1823215567939546,
          0.26236426446749106,
          0.33647223662121284,
          0.4054651081081644
         ],
         "y": [
          1.7041781304927885e-09,
          2.1267029910796698e-08,
          5.774219935353551e-08,
          1.98528849165674e-08,
          7.686624196468867e-09,
          0,
          3.7832693260342263e-07,
          -1.480682243493041e-11,
          3.9392804908205426e-08,
          1.5800484316100154e-07,
          1.326998524475152e-08
         ]
        },
        {
         "line": {
          "color": "rgba(128, 128, 0, 0.5999999999999999)",
          "dash": "solid",
          "shape": "linear",
          "width": 1.3
         },
         "mode": "lines",
         "name": "Brussels sprouts, raw",
         "text": "",
         "type": "scatter",
         "x": [
          -0.6931471805599453,
          -0.5108256237659907,
          -0.35667494393873245,
          -0.22314355131420968,
          -0.10536051565782628,
          0,
          0.09531017980432495,
          0.1823215567939546,
          0.26236426446749106,
          0.33647223662121284,
          0.4054651081081644
         ],
         "y": [
          -0.009840968300872872,
          -0.0035365433702143722,
          9.074142729345403e-09,
          2.711948884001894e-09,
          1.2831875553880885e-09,
          0,
          -3.221775069470152e-10,
          3.018182195000367e-07,
          1.986311115389842e-10,
          1.6163730341116197e-09,
          2.9699342940809842e-09
         ]
        },
        {
         "line": {
          "color": "rgba(251, 128, 114, 0.5999999999999999)",
          "dash": "solid",
          "shape": "linear",
          "width": 1.3
         },
         "mode": "lines",
         "name": "Lentils, NFS",
         "text": "",
         "type": "scatter",
         "x": [
          -0.6931471805599453,
          -0.5108256237659907,
          -0.35667494393873245,
          -0.22314355131420968,
          -0.10536051565782628,
          0,
          0.09531017980432495,
          0.1823215567939546,
          0.26236426446749106,
          0.33647223662121284,
          0.4054651081081644
         ],
         "y": [
          -0.07324218643828269,
          -0.05470016379305548,
          -0.03895015692159397,
          -0.023445103315590576,
          -0.008175873325940506,
          0,
          0.006908119195610422,
          0.008217079380424694,
          0.008217125477902489,
          0.008217190185190376,
          0.008217295972593727
         ]
        },
        {
         "line": {
          "color": "rgba(128, 177, 211, 0.5999999999999999)",
          "dash": "solid",
          "shape": "linear",
          "width": 1.3
         },
         "mode": "lines",
         "name": "Tomato, roma",
         "text": "",
         "type": "scatter",
         "x": [
          -0.6931471805599453,
          -0.5108256237659907,
          -0.35667494393873245,
          -0.22314355131420968,
          -0.10536051565782628,
          0,
          0.09531017980432495,
          0.1823215567939546,
          0.26236426446749106,
          0.33647223662121284,
          0.4054651081081644
         ],
         "y": [
          3.476330334645866e-11,
          7.852829497747824e-12,
          -1.1992629112008132e-12,
          -3.557487637812717e-12,
          -2.8423929876493656e-12,
          0,
          4.866107516920221e-12,
          1.1904699448379767e-11,
          2.1286084006306654e-11,
          3.3062219628185684e-11,
          4.727107594137264e-11
         ]
        },
        {
         "line": {
          "color": "rgba(255, 153, 51, 0.5999999999999999)",
          "dash": "solid",
          "shape": "linear",
          "width": 1.3
         },
         "mode": "lines",
         "name": "Tomato, grape,raw",
         "text": "",
         "type": "scatter",
         "x": [
          -0.6931471805599453,
          -0.5108256237659907,
          -0.35667494393873245,
          -0.22314355131420968,
          -0.10536051565782628,
          0,
          0.09531017980432495,
          0.1823215567939546,
          0.26236426446749106,
          0.33647223662121284,
          0.4054651081081644
         ],
         "y": [
          -2.8966939958216964e-11,
          2.905879641035129e-07,
          -4.4784242990739185e-10,
          -2.387684494849775e-10,
          -3.2410918398818473e-10,
          0,
          2.835076617511163e-10,
          5.274123358875185e-10,
          7.129368204362624e-10,
          8.492053723277138e-10,
          9.364553572644512e-10
         ]
        },
        {
         "line": {
          "color": "rgba(55, 128, 191, 0.5999999999999999)",
          "dash": "solid",
          "shape": "linear",
          "width": 1.3
         },
         "mode": "lines",
         "name": "Peppers, bell, green, raw",
         "text": "",
         "type": "scatter",
         "x": [
          -0.6931471805599453,
          -0.5108256237659907,
          -0.35667494393873245,
          -0.22314355131420968,
          -0.10536051565782628,
          0,
          0.09531017980432495,
          0.1823215567939546,
          0.26236426446749106,
          0.33647223662121284,
          0.4054651081081644
         ],
         "y": [
          -0.009438665282640956,
          -0.006497919191683416,
          -0.0035657948274176406,
          -0.0006422419159089825,
          1.4072012434287354e-09,
          0,
          -8.372247343354263e-10,
          -7.90435051058335e-10,
          -4.1050562957322385e-10,
          -4.834500578812628e-10,
          -2.858688841609379e-10
         ]
        },
        {
         "line": {
          "color": "rgba(50, 171, 96, 0.5999999999999999)",
          "dash": "solid",
          "shape": "linear",
          "width": 1.3
         },
         "mode": "lines",
         "name": "Peppers, bell, orange, raw",
         "text": "",
         "type": "scatter",
         "x": [
          -0.6931471805599453,
          -0.5108256237659907,
          -0.35667494393873245,
          -0.22314355131420968,
          -0.10536051565782628,
          0,
          0.09531017980432495,
          0.1823215567939546,
          0.26236426446749106,
          0.33647223662121284,
          0.4054651081081644
         ],
         "y": [
          -0.004764597384634649,
          -0.00117722247602618,
          4.415978906122208e-09,
          2.723942401259717e-09,
          1.2033909417261805e-09,
          0,
          -1.942144223410072e-10,
          -3.8581149393816663e-10,
          -6.613071203941996e-10,
          -8.956957402009976e-10,
          2.1992491540939997e-07
         ]
        },
        {
         "line": {
          "color": "rgba(128, 0, 128, 0.5999999999999999)",
          "dash": "solid",
          "shape": "linear",
          "width": 1.3
         },
         "mode": "lines",
         "name": "Peppers, bell, red, raw",
         "text": "",
         "type": "scatter",
         "x": [
          -0.6931471805599453,
          -0.5108256237659907,
          -0.35667494393873245,
          -0.22314355131420968,
          -0.10536051565782628,
          0,
          0.09531017980432495,
          0.1823215567939546,
          0.26236426446749106,
          0.33647223662121284,
          0.4054651081081644
         ],
         "y": [
          -0.007820109165973785,
          -0.00464245022563608,
          -0.0014744249665746784,
          4.668579290028196e-09,
          1.5065995106786124e-09,
          0,
          -3.549200933780428e-10,
          -8.465914639574697e-10,
          1.5343779224641868e-07,
          1.4931181220275336e-07,
          1.471394968640595e-07
         ]
        },
        {
         "line": {
          "color": "rgba(219, 64, 82, 0.5999999999999999)",
          "dash": "solid",
          "shape": "linear",
          "width": 1.3
         },
         "mode": "lines",
         "name": "Peppers, bell, yellow, raw",
         "text": "",
         "type": "scatter",
         "x": [
          -0.6931471805599453,
          -0.5108256237659907,
          -0.35667494393873245,
          -0.22314355131420968,
          -0.10536051565782628,
          0,
          0.09531017980432495,
          0.1823215567939546,
          0.26236426446749106,
          0.33647223662121284,
          0.4054651081081644
         ],
         "y": [
          -0.0028041347072373674,
          1.1838392418454147e-08,
          3.0548599159154363e-09,
          1.807651804384582e-09,
          6.674649719588647e-10,
          0,
          -2.803804966371495e-10,
          -2.084775685635409e-10,
          -2.9071212108495895e-10,
          -4.141684773775775e-10,
          -5.612359467631134e-10
         ]
        },
        {
         "line": {
          "color": "rgba(0, 128, 128, 0.5999999999999999)",
          "dash": "solid",
          "shape": "linear",
          "width": 1.3
         },
         "mode": "lines",
         "name": "ZUCCHINI",
         "text": "",
         "type": "scatter",
         "x": [
          -0.6931471805599453,
          -0.5108256237659907,
          -0.35667494393873245,
          -0.22314355131420968,
          -0.10536051565782628,
          0,
          0.09531017980432495,
          0.1823215567939546,
          0.26236426446749106,
          0.33647223662121284,
          0.4054651081081644
         ],
         "y": [
          -2.542552835261989e-10,
          -2.198914384152494e-10,
          -2.640563323901298e-10,
          -2.992772696778638e-10,
          -1.4436385421466404e-10,
          0,
          1.3320478053025946e-10,
          2.6191204757120696e-10,
          3.814484283265155e-10,
          4.921616446506154e-10,
          5.94736482107619e-10
         ]
        },
        {
         "line": {
          "color": "rgba(0, 128, 128, 0.49999999999999983)",
          "dash": "solid",
          "shape": "linear",
          "width": 1.3
         },
         "mode": "lines",
         "name": "Bananas, ripe and slightly ripe, raw",
         "text": "",
         "type": "scatter",
         "x": [
          -0.6931471805599453,
          -0.5108256237659907,
          -0.35667494393873245,
          -0.22314355131420968,
          -0.10536051565782628,
          0,
          0.09531017980432495,
          0.1823215567939546,
          0.26236426446749106,
          0.33647223662121284,
          0.4054651081081644
         ],
         "y": [
          -0.07287143587449535,
          -0.05038921273847756,
          -0.030003056624885387,
          -0.010242405863753822,
          -0.0015286159483892327,
          0,
          -9.186776898984946e-10,
          -9.138221294958476e-10,
          -6.461160497606254e-10,
          -1.48412393486943e-11,
          -8.42138914513451e-10
         ]
        },
        {
         "line": {
          "color": "rgba(255, 255, 51, 0.49999999999999983)",
          "dash": "solid",
          "shape": "linear",
          "width": 1.3
         },
         "mode": "lines",
         "name": "Apples, fuji, with skin, raw",
         "text": "",
         "type": "scatter",
         "x": [
          -0.6931471805599453,
          -0.5108256237659907,
          -0.35667494393873245,
          -0.22314355131420968,
          -0.10536051565782628,
          0,
          0.09531017980432495,
          0.1823215567939546,
          0.26236426446749106,
          0.33647223662121284,
          0.4054651081081644
         ],
         "y": [
          -1.1734446748312846e-10,
          -1.0431933095678253e-10,
          -8.468348245219655e-11,
          -6.025657750722856e-11,
          -3.187972108571214e-11,
          0,
          3.4903191447556556e-11,
          7.237077603599177e-11,
          1.1187917258666288e-10,
          1.5370149596334383e-10,
          1.9805623805694735e-10
         ]
        },
        {
         "line": {
          "color": "rgba(128, 128, 0, 0.49999999999999983)",
          "dash": "solid",
          "shape": "linear",
          "width": 1.3
         },
         "mode": "lines",
         "name": "Apples, gala, with skin, raw",
         "text": "",
         "type": "scatter",
         "x": [
          -0.6931471805599453,
          -0.5108256237659907,
          -0.35667494393873245,
          -0.22314355131420968,
          -0.10536051565782628,
          0,
          0.09531017980432495,
          0.1823215567939546,
          0.26236426446749106,
          0.33647223662121284,
          0.4054651081081644
         ],
         "y": [
          1.1057821325265948e-13,
          -1.4714784946187626e-11,
          -2.1385782034373217e-11,
          -2.0781376619754538e-11,
          -1.3427814416024034e-11,
          0,
          1.8693935288463654e-11,
          4.177880263879653e-11,
          6.842881816503519e-11,
          9.78293002115047e-11,
          1.2924084024365794e-10
         ]
        },
        {
         "line": {
          "color": "rgba(251, 128, 114, 0.49999999999999983)",
          "dash": "solid",
          "shape": "linear",
          "width": 1.3
         },
         "mode": "lines",
         "name": "Apples, honeycrisp, with skin, raw",
         "text": "",
         "type": "scatter",
         "x": [
          -0.6931471805599453,
          -0.5108256237659907,
          -0.35667494393873245,
          -0.22314355131420968,
          -0.10536051565782628,
          0,
          0.09531017980432495,
          0.1823215567939546,
          0.26236426446749106,
          0.33647223662121284,
          0.4054651081081644
         ],
         "y": [
          -2.833377977086771e-10,
          -2.380624586634501e-10,
          -1.85355064647422e-10,
          -1.269283567220732e-10,
          -6.457456791717269e-11,
          0,
          6.529243812067883e-11,
          1.301054819351239e-10,
          1.9599988297114177e-10,
          2.606603821335716e-10,
          3.2286284751609696e-10
         ]
        },
        {
         "line": {
          "color": "rgba(128, 177, 211, 0.49999999999999983)",
          "dash": "solid",
          "shape": "linear",
          "width": 1.3
         },
         "mode": "lines",
         "name": "Oranges, raw, navels",
         "text": "",
         "type": "scatter",
         "x": [
          -0.6931471805599453,
          -0.5108256237659907,
          -0.35667494393873245,
          -0.22314355131420968,
          -0.10536051565782628,
          0,
          0.09531017980432495,
          0.1823215567939546,
          0.26236426446749106,
          0.33647223662121284,
          0.4054651081081644
         ],
         "y": [
          -0.038922467638277995,
          -0.014342321483955802,
          -0.010737410347923682,
          -0.007145449375972607,
          -0.0035663419966740426,
          0,
          0.0035536726408551588,
          0.005179354710767044,
          0.005179355164446613,
          0.005179355296203816,
          0.005179355189148699
         ]
        },
        {
         "line": {
          "color": "rgba(255, 153, 51, 0.49999999999999983)",
          "dash": "solid",
          "shape": "linear",
          "width": 1.3
         },
         "mode": "lines",
         "name": "Strawberries, raw",
         "text": "",
         "type": "scatter",
         "x": [
          -0.6931471805599453,
          -0.5108256237659907,
          -0.35667494393873245,
          -0.22314355131420968,
          -0.10536051565782628,
          0,
          0.09531017980432495,
          0.1823215567939546,
          0.26236426446749106,
          0.33647223662121284,
          0.4054651081081644
         ],
         "y": [
          7.57010454035439e-10,
          5.861049421854645e-10,
          4.065221491939812e-10,
          2.448243829589257e-10,
          1.0904810387418145e-10,
          0,
          -8.745171254203517e-11,
          -1.5509105112480338e-10,
          -2.05151340381076e-10,
          -2.3993240730427313e-10,
          -2.615607730747215e-10
         ]
        },
        {
         "line": {
          "color": "rgba(55, 128, 191, 0.49999999999999983)",
          "dash": "solid",
          "shape": "linear",
          "width": 1.3
         },
         "mode": "lines",
         "name": "Blueberries, raw",
         "text": "",
         "type": "scatter",
         "x": [
          -0.6931471805599453,
          -0.5108256237659907,
          -0.35667494393873245,
          -0.22314355131420968,
          -0.10536051565782628,
          0,
          0.09531017980432495,
          0.1823215567939546,
          0.26236426446749106,
          0.33647223662121284,
          0.4054651081081644
         ],
         "y": [
          5.01082730738258e-10,
          3.595874708459313e-10,
          2.3224511200371342e-10,
          1.302771224147086e-10,
          5.479572351268809e-11,
          0,
          -3.696842831925672e-11,
          -5.89989168648582e-11,
          -6.866363033944202e-11,
          -6.816913700424014e-11,
          -5.933820102120372e-11
         ]
        },
        {
         "line": {
          "color": "rgba(50, 171, 96, 0.49999999999999983)",
          "dash": "solid",
          "shape": "linear",
          "width": 1.3
         },
         "mode": "lines",
         "name": "Raspberries, raw",
         "text": "",
         "type": "scatter",
         "x": [
          -0.6931471805599453,
          -0.5108256237659907,
          -0.35667494393873245,
          -0.22314355131420968,
          -0.10536051565782628,
          0,
          0.09531017980432495,
          0.1823215567939546,
          0.26236426446749106,
          0.33647223662121284,
          0.4054651081081644
         ],
         "y": [
          7.96458898515779e-10,
          6.089693192301425e-10,
          3.9632630502912647e-10,
          2.1828472360601163e-10,
          8.824696528685651e-11,
          0,
          -5.532685421070058e-11,
          -8.354594794106993e-11,
          -8.978273680474472e-11,
          -7.82244269390062e-11,
          -5.24291721162728e-11
         ]
        },
        {
         "line": {
          "color": "rgba(128, 0, 128, 0.49999999999999983)",
          "dash": "solid",
          "shape": "linear",
          "width": 1.3
         },
         "mode": "lines",
         "name": "Mangos, raw",
         "text": "",
         "type": "scatter",
         "x": [
          -0.6931471805599453,
          -0.5108256237659907,
          -0.35667494393873245,
          -0.22314355131420968,
          -0.10536051565782628,
          0,
          0.09531017980432495,
          0.1823215567939546,
          0.26236426446749106,
          0.33647223662121284,
          0.4054651081081644
         ],
         "y": [
          -0.028455071167694215,
          -0.013757578045927588,
          -0.004554905887743467,
          1.0126504074594295e-09,
          2.5714852466298654e-10,
          0,
          1.9308421526443843e-10,
          3.0721092331986243e-10,
          1.4029533089836085e-10,
          4.2473136110250003e-10,
          -7.405087654451755e-11
         ]
        },
        {
         "line": {
          "color": "rgba(219, 64, 82, 0.49999999999999983)",
          "dash": "solid",
          "shape": "linear",
          "width": 1.3
         },
         "mode": "lines",
         "name": "Chia seeds",
         "text": "",
         "type": "scatter",
         "x": [
          -0.6931471805599453,
          -0.5108256237659907,
          -0.35667494393873245,
          -0.22314355131420968,
          -0.10536051565782628,
          0,
          0.09531017980432495,
          0.1823215567939546,
          0.26236426446749106,
          0.33647223662121284,
          0.4054651081081644
         ],
         "y": [
          1.0871547093357498e-07,
          1.6815322326400525e-08,
          3.990543450441505e-10,
          6.939027128262678e-10,
          6.40453467832004e-10,
          0,
          -2.5896118586188514e-10,
          3.18780306189945e-07,
          3.512428125512095e-10,
          1.8184671529816614e-09,
          3.499591055260853e-09
         ]
        },
        {
         "line": {
          "color": "rgba(219, 64, 82, 0.39999999999999974)",
          "dash": "solid",
          "shape": "linear",
          "width": 1.3
         },
         "mode": "lines",
         "name": "Flax seeds",
         "text": "",
         "type": "scatter",
         "x": [
          -0.6931471805599453,
          -0.5108256237659907,
          -0.35667494393873245,
          -0.22314355131420968,
          -0.10536051565782628,
          0,
          0.09531017980432495,
          0.1823215567939546,
          0.26236426446749106,
          0.33647223662121284,
          0.4054651081081644
         ],
         "y": [
          -0.1607608139797766,
          -0.09671952991986069,
          -0.03917505074543157,
          -0.008073947162557982,
          8.996434704261451e-10,
          0,
          6.035236752976575e-10,
          4.418587486129344e-09,
          5.193105487693625e-09,
          6.5599270244962826e-09,
          6.940651806958096e-09
         ]
        },
        {
         "line": {
          "color": "rgba(0, 128, 128, 0.39999999999999974)",
          "dash": "solid",
          "shape": "linear",
          "width": 1.3
         },
         "mode": "lines",
         "name": "Quinoa, fat added",
         "text": "",
         "type": "scatter",
         "x": [
          -0.6931471805599453,
          -0.5108256237659907,
          -0.35667494393873245,
          -0.22314355131420968,
          -0.10536051565782628,
          0,
          0.09531017980432495,
          0.1823215567939546,
          0.26236426446749106,
          0.33647223662121284,
          0.4054651081081644
         ],
         "y": [
          1.4683501070911214e-09,
          -8.64610161617948e-10,
          8.600000674587185e-09,
          3.0901148259094827e-09,
          4.66464377146887e-09,
          0,
          1.4713468360386674e-07,
          -9.343492650617159e-10,
          -9.405797256594507e-10,
          2.3761028386335852e-07,
          1.0135132952211564e-07
         ]
        },
        {
         "line": {
          "color": "rgba(255, 255, 51, 0.39999999999999974)",
          "dash": "solid",
          "shape": "linear",
          "width": 1.3
         },
         "mode": "lines",
         "name": "Almond milk, unsweetened, plain, refrigerated",
         "text": "",
         "type": "scatter",
         "x": [
          -0.6931471805599453,
          -0.5108256237659907,
          -0.35667494393873245,
          -0.22314355131420968,
          -0.10536051565782628,
          0,
          0.09531017980432495,
          0.1823215567939546,
          0.26236426446749106,
          0.33647223662121284,
          0.4054651081081644
         ],
         "y": [
          -0.0013922583772708152,
          1.543049076598776e-08,
          1.5788699112265667e-08,
          5.405493084706635e-08,
          3.863004131331857e-09,
          0,
          -4.342215476166216e-11,
          4.730400504551685e-09,
          -8.85248763574577e-10,
          4.5405963330523955e-09,
          7.062062046009779e-11
         ]
        },
        {
         "line": {
          "color": "rgba(128, 128, 0, 0.39999999999999974)",
          "dash": "solid",
          "shape": "linear",
          "width": 1.3
         },
         "mode": "lines",
         "name": "Oat milk, unsweetened, plain, refrigerated",
         "text": "",
         "type": "scatter",
         "x": [
          -0.6931471805599453,
          -0.5108256237659907,
          -0.35667494393873245,
          -0.22314355131420968,
          -0.10536051565782628,
          0,
          0.09531017980432495,
          0.1823215567939546,
          0.26236426446749106,
          0.33647223662121284,
          0.4054651081081644
         ],
         "y": [
          -0.022069255698352913,
          -0.005026877357629684,
          2.8662878696073203e-09,
          1.0253522470266177e-09,
          5.112077426731097e-10,
          0,
          -2.591140635724156e-10,
          -4.3240888656837746e-10,
          2.962607227005197e-07,
          -1.658135850983536e-10,
          6.959752771671977e-10
         ]
        },
        {
         "line": {
          "color": "rgba(251, 128, 114, 0.39999999999999974)",
          "dash": "solid",
          "shape": "linear",
          "width": 1.3
         },
         "mode": "lines",
         "name": "WHITE SLICED MUSHROOMS, WHITE",
         "text": "",
         "type": "scatter",
         "x": [
          -0.6931471805599453,
          -0.5108256237659907,
          -0.35667494393873245,
          -0.22314355131420968,
          -0.10536051565782628,
          0,
          0.09531017980432495,
          0.1823215567939546,
          0.26236426446749106,
          0.33647223662121284,
          0.4054651081081644
         ],
         "y": [
          3.746980940718688e-09,
          3.6547715897943054e-09,
          6.121094740310751e-10,
          2.9006001013192806e-07,
          -2.60283461484557e-10,
          0,
          6.432678831976223e-10,
          1.0502947395165656e-09,
          1.201340581846768e-09,
          1.0802960742344459e-09,
          6.875773281701376e-10
         ]
        },
        {
         "line": {
          "color": "rgba(128, 177, 211, 0.39999999999999974)",
          "dash": "solid",
          "shape": "linear",
          "width": 1.3
         },
         "mode": "lines",
         "name": "Nutritional Yeast",
         "text": "",
         "type": "scatter",
         "x": [
          -0.6931471805599453,
          -0.5108256237659907,
          -0.35667494393873245,
          -0.22314355131420968,
          -0.10536051565782628,
          0,
          0.09531017980432495,
          0.1823215567939546,
          0.26236426446749106,
          0.33647223662121284,
          0.4054651081081644
         ],
         "y": [
          -0.009341528958399261,
          -0.007466093451918477,
          -0.005594446046158418,
          -0.003726152476888586,
          -0.0018613396774704468,
          0,
          0.0018579555354900183,
          0.0037124687531385567,
          0.005563469917427462,
          0.007411048225203214,
          0.009255219026541167
         ]
        }
       ],
       "layout": {
        "legend": {
         "bgcolor": "#F5F6F9",
         "font": {
          "color": "#4D5663"
         }
        },
        "paper_bgcolor": "#F5F6F9",
        "plot_bgcolor": "#F5F6F9",
        "template": {
         "data": {
          "bar": [
           {
            "error_x": {
             "color": "#2a3f5f"
            },
            "error_y": {
             "color": "#2a3f5f"
            },
            "marker": {
             "line": {
              "color": "#E5ECF6",
              "width": 0.5
             },
             "pattern": {
              "fillmode": "overlay",
              "size": 10,
              "solidity": 0.2
             }
            },
            "type": "bar"
           }
          ],
          "barpolar": [
           {
            "marker": {
             "line": {
              "color": "#E5ECF6",
              "width": 0.5
             },
             "pattern": {
              "fillmode": "overlay",
              "size": 10,
              "solidity": 0.2
             }
            },
            "type": "barpolar"
           }
          ],
          "carpet": [
           {
            "aaxis": {
             "endlinecolor": "#2a3f5f",
             "gridcolor": "white",
             "linecolor": "white",
             "minorgridcolor": "white",
             "startlinecolor": "#2a3f5f"
            },
            "baxis": {
             "endlinecolor": "#2a3f5f",
             "gridcolor": "white",
             "linecolor": "white",
             "minorgridcolor": "white",
             "startlinecolor": "#2a3f5f"
            },
            "type": "carpet"
           }
          ],
          "choropleth": [
           {
            "colorbar": {
             "outlinewidth": 0,
             "ticks": ""
            },
            "type": "choropleth"
           }
          ],
          "contour": [
           {
            "colorbar": {
             "outlinewidth": 0,
             "ticks": ""
            },
            "colorscale": [
             [
              0,
              "#0d0887"
             ],
             [
              0.1111111111111111,
              "#46039f"
             ],
             [
              0.2222222222222222,
              "#7201a8"
             ],
             [
              0.3333333333333333,
              "#9c179e"
             ],
             [
              0.4444444444444444,
              "#bd3786"
             ],
             [
              0.5555555555555556,
              "#d8576b"
             ],
             [
              0.6666666666666666,
              "#ed7953"
             ],
             [
              0.7777777777777778,
              "#fb9f3a"
             ],
             [
              0.8888888888888888,
              "#fdca26"
             ],
             [
              1,
              "#f0f921"
             ]
            ],
            "type": "contour"
           }
          ],
          "contourcarpet": [
           {
            "colorbar": {
             "outlinewidth": 0,
             "ticks": ""
            },
            "type": "contourcarpet"
           }
          ],
          "heatmap": [
           {
            "colorbar": {
             "outlinewidth": 0,
             "ticks": ""
            },
            "colorscale": [
             [
              0,
              "#0d0887"
             ],
             [
              0.1111111111111111,
              "#46039f"
             ],
             [
              0.2222222222222222,
              "#7201a8"
             ],
             [
              0.3333333333333333,
              "#9c179e"
             ],
             [
              0.4444444444444444,
              "#bd3786"
             ],
             [
              0.5555555555555556,
              "#d8576b"
             ],
             [
              0.6666666666666666,
              "#ed7953"
             ],
             [
              0.7777777777777778,
              "#fb9f3a"
             ],
             [
              0.8888888888888888,
              "#fdca26"
             ],
             [
              1,
              "#f0f921"
             ]
            ],
            "type": "heatmap"
           }
          ],
          "heatmapgl": [
           {
            "colorbar": {
             "outlinewidth": 0,
             "ticks": ""
            },
            "colorscale": [
             [
              0,
              "#0d0887"
             ],
             [
              0.1111111111111111,
              "#46039f"
             ],
             [
              0.2222222222222222,
              "#7201a8"
             ],
             [
              0.3333333333333333,
              "#9c179e"
             ],
             [
              0.4444444444444444,
              "#bd3786"
             ],
             [
              0.5555555555555556,
              "#d8576b"
             ],
             [
              0.6666666666666666,
              "#ed7953"
             ],
             [
              0.7777777777777778,
              "#fb9f3a"
             ],
             [
              0.8888888888888888,
              "#fdca26"
             ],
             [
              1,
              "#f0f921"
             ]
            ],
            "type": "heatmapgl"
           }
          ],
          "histogram": [
           {
            "marker": {
             "pattern": {
              "fillmode": "overlay",
              "size": 10,
              "solidity": 0.2
             }
            },
            "type": "histogram"
           }
          ],
          "histogram2d": [
           {
            "colorbar": {
             "outlinewidth": 0,
             "ticks": ""
            },
            "colorscale": [
             [
              0,
              "#0d0887"
             ],
             [
              0.1111111111111111,
              "#46039f"
             ],
             [
              0.2222222222222222,
              "#7201a8"
             ],
             [
              0.3333333333333333,
              "#9c179e"
             ],
             [
              0.4444444444444444,
              "#bd3786"
             ],
             [
              0.5555555555555556,
              "#d8576b"
             ],
             [
              0.6666666666666666,
              "#ed7953"
             ],
             [
              0.7777777777777778,
              "#fb9f3a"
             ],
             [
              0.8888888888888888,
              "#fdca26"
             ],
             [
              1,
              "#f0f921"
             ]
            ],
            "type": "histogram2d"
           }
          ],
          "histogram2dcontour": [
           {
            "colorbar": {
             "outlinewidth": 0,
             "ticks": ""
            },
            "colorscale": [
             [
              0,
              "#0d0887"
             ],
             [
              0.1111111111111111,
              "#46039f"
             ],
             [
              0.2222222222222222,
              "#7201a8"
             ],
             [
              0.3333333333333333,
              "#9c179e"
             ],
             [
              0.4444444444444444,
              "#bd3786"
             ],
             [
              0.5555555555555556,
              "#d8576b"
             ],
             [
              0.6666666666666666,
              "#ed7953"
             ],
             [
              0.7777777777777778,
              "#fb9f3a"
             ],
             [
              0.8888888888888888,
              "#fdca26"
             ],
             [
              1,
              "#f0f921"
             ]
            ],
            "type": "histogram2dcontour"
           }
          ],
          "mesh3d": [
           {
            "colorbar": {
             "outlinewidth": 0,
             "ticks": ""
            },
            "type": "mesh3d"
           }
          ],
          "parcoords": [
           {
            "line": {
             "colorbar": {
              "outlinewidth": 0,
              "ticks": ""
             }
            },
            "type": "parcoords"
           }
          ],
          "pie": [
           {
            "automargin": true,
            "type": "pie"
           }
          ],
          "scatter": [
           {
            "marker": {
             "colorbar": {
              "outlinewidth": 0,
              "ticks": ""
             }
            },
            "type": "scatter"
           }
          ],
          "scatter3d": [
           {
            "line": {
             "colorbar": {
              "outlinewidth": 0,
              "ticks": ""
             }
            },
            "marker": {
             "colorbar": {
              "outlinewidth": 0,
              "ticks": ""
             }
            },
            "type": "scatter3d"
           }
          ],
          "scattercarpet": [
           {
            "marker": {
             "colorbar": {
              "outlinewidth": 0,
              "ticks": ""
             }
            },
            "type": "scattercarpet"
           }
          ],
          "scattergeo": [
           {
            "marker": {
             "colorbar": {
              "outlinewidth": 0,
              "ticks": ""
             }
            },
            "type": "scattergeo"
           }
          ],
          "scattergl": [
           {
            "marker": {
             "colorbar": {
              "outlinewidth": 0,
              "ticks": ""
             }
            },
            "type": "scattergl"
           }
          ],
          "scattermapbox": [
           {
            "marker": {
             "colorbar": {
              "outlinewidth": 0,
              "ticks": ""
             }
            },
            "type": "scattermapbox"
           }
          ],
          "scatterpolar": [
           {
            "marker": {
             "colorbar": {
              "outlinewidth": 0,
              "ticks": ""
             }
            },
            "type": "scatterpolar"
           }
          ],
          "scatterpolargl": [
           {
            "marker": {
             "colorbar": {
              "outlinewidth": 0,
              "ticks": ""
             }
            },
            "type": "scatterpolargl"
           }
          ],
          "scatterternary": [
           {
            "marker": {
             "colorbar": {
              "outlinewidth": 0,
              "ticks": ""
             }
            },
            "type": "scatterternary"
           }
          ],
          "surface": [
           {
            "colorbar": {
             "outlinewidth": 0,
             "ticks": ""
            },
            "colorscale": [
             [
              0,
              "#0d0887"
             ],
             [
              0.1111111111111111,
              "#46039f"
             ],
             [
              0.2222222222222222,
              "#7201a8"
             ],
             [
              0.3333333333333333,
              "#9c179e"
             ],
             [
              0.4444444444444444,
              "#bd3786"
             ],
             [
              0.5555555555555556,
              "#d8576b"
             ],
             [
              0.6666666666666666,
              "#ed7953"
             ],
             [
              0.7777777777777778,
              "#fb9f3a"
             ],
             [
              0.8888888888888888,
              "#fdca26"
             ],
             [
              1,
              "#f0f921"
             ]
            ],
            "type": "surface"
           }
          ],
          "table": [
           {
            "cells": {
             "fill": {
              "color": "#EBF0F8"
             },
             "line": {
              "color": "white"
             }
            },
            "header": {
             "fill": {
              "color": "#C8D4E3"
             },
             "line": {
              "color": "white"
             }
            },
            "type": "table"
           }
          ]
         },
         "layout": {
          "annotationdefaults": {
           "arrowcolor": "#2a3f5f",
           "arrowhead": 0,
           "arrowwidth": 1
          },
          "autotypenumbers": "strict",
          "coloraxis": {
           "colorbar": {
            "outlinewidth": 0,
            "ticks": ""
           }
          },
          "colorscale": {
           "diverging": [
            [
             0,
             "#8e0152"
            ],
            [
             0.1,
             "#c51b7d"
            ],
            [
             0.2,
             "#de77ae"
            ],
            [
             0.3,
             "#f1b6da"
            ],
            [
             0.4,
             "#fde0ef"
            ],
            [
             0.5,
             "#f7f7f7"
            ],
            [
             0.6,
             "#e6f5d0"
            ],
            [
             0.7,
             "#b8e186"
            ],
            [
             0.8,
             "#7fbc41"
            ],
            [
             0.9,
             "#4d9221"
            ],
            [
             1,
             "#276419"
            ]
           ],
           "sequential": [
            [
             0,
             "#0d0887"
            ],
            [
             0.1111111111111111,
             "#46039f"
            ],
            [
             0.2222222222222222,
             "#7201a8"
            ],
            [
             0.3333333333333333,
             "#9c179e"
            ],
            [
             0.4444444444444444,
             "#bd3786"
            ],
            [
             0.5555555555555556,
             "#d8576b"
            ],
            [
             0.6666666666666666,
             "#ed7953"
            ],
            [
             0.7777777777777778,
             "#fb9f3a"
            ],
            [
             0.8888888888888888,
             "#fdca26"
            ],
            [
             1,
             "#f0f921"
            ]
           ],
           "sequentialminus": [
            [
             0,
             "#0d0887"
            ],
            [
             0.1111111111111111,
             "#46039f"
            ],
            [
             0.2222222222222222,
             "#7201a8"
            ],
            [
             0.3333333333333333,
             "#9c179e"
            ],
            [
             0.4444444444444444,
             "#bd3786"
            ],
            [
             0.5555555555555556,
             "#d8576b"
            ],
            [
             0.6666666666666666,
             "#ed7953"
            ],
            [
             0.7777777777777778,
             "#fb9f3a"
            ],
            [
             0.8888888888888888,
             "#fdca26"
            ],
            [
             1,
             "#f0f921"
            ]
           ]
          },
          "colorway": [
           "#636efa",
           "#EF553B",
           "#00cc96",
           "#ab63fa",
           "#FFA15A",
           "#19d3f3",
           "#FF6692",
           "#B6E880",
           "#FF97FF",
           "#FECB52"
          ],
          "font": {
           "color": "#2a3f5f"
          },
          "geo": {
           "bgcolor": "white",
           "lakecolor": "white",
           "landcolor": "#E5ECF6",
           "showlakes": true,
           "showland": true,
           "subunitcolor": "white"
          },
          "hoverlabel": {
           "align": "left"
          },
          "hovermode": "closest",
          "mapbox": {
           "style": "light"
          },
          "paper_bgcolor": "white",
          "plot_bgcolor": "#E5ECF6",
          "polar": {
           "angularaxis": {
            "gridcolor": "white",
            "linecolor": "white",
            "ticks": ""
           },
           "bgcolor": "#E5ECF6",
           "radialaxis": {
            "gridcolor": "white",
            "linecolor": "white",
            "ticks": ""
           }
          },
          "scene": {
           "xaxis": {
            "backgroundcolor": "#E5ECF6",
            "gridcolor": "white",
            "gridwidth": 2,
            "linecolor": "white",
            "showbackground": true,
            "ticks": "",
            "zerolinecolor": "white"
           },
           "yaxis": {
            "backgroundcolor": "#E5ECF6",
            "gridcolor": "white",
            "gridwidth": 2,
            "linecolor": "white",
            "showbackground": true,
            "ticks": "",
            "zerolinecolor": "white"
           },
           "zaxis": {
            "backgroundcolor": "#E5ECF6",
            "gridcolor": "white",
            "gridwidth": 2,
            "linecolor": "white",
            "showbackground": true,
            "ticks": "",
            "zerolinecolor": "white"
           }
          },
          "shapedefaults": {
           "line": {
            "color": "#2a3f5f"
           }
          },
          "ternary": {
           "aaxis": {
            "gridcolor": "white",
            "linecolor": "white",
            "ticks": ""
           },
           "baxis": {
            "gridcolor": "white",
            "linecolor": "white",
            "ticks": ""
           },
           "bgcolor": "#E5ECF6",
           "caxis": {
            "gridcolor": "white",
            "linecolor": "white",
            "ticks": ""
           }
          },
          "title": {
           "x": 0.05
          },
          "xaxis": {
           "automargin": true,
           "gridcolor": "white",
           "linecolor": "white",
           "ticks": "",
           "title": {
            "standoff": 15
           },
           "zerolinecolor": "white",
           "zerolinewidth": 2
          },
          "yaxis": {
           "automargin": true,
           "gridcolor": "white",
           "linecolor": "white",
           "ticks": "",
           "title": {
            "standoff": 15
           },
           "zerolinecolor": "white",
           "zerolinewidth": 2
          }
         }
        },
        "title": {
         "font": {
          "color": "#4D5663"
         },
         "text": "Effects of Price Changes on Subsistence Diet Composition for Raw Vegan Diet"
        },
        "xaxis": {
         "gridcolor": "#E1E5ED",
         "showgrid": true,
         "tickfont": {
          "color": "#4D5663"
         },
         "title": {
          "font": {
           "color": "#4D5663"
          },
          "text": "change in log price"
         },
         "zerolinecolor": "#E1E5ED"
        },
        "yaxis": {
         "gridcolor": "#E1E5ED",
         "showgrid": true,
         "tickfont": {
          "color": "#4D5663"
         },
         "title": {
          "font": {
           "color": "#4D5663"
          },
          "text": "change in log cost"
         },
         "zerolinecolor": "#E1E5ED"
        }
       }
      },
      "text/html": [
       "<div>                            <div id=\"fb33562b-fba3-42cf-9d44-f3a232876966\" class=\"plotly-graph-div\" style=\"height:525px; width:100%;\"></div>            <script type=\"text/javascript\">                require([\"plotly\"], function(Plotly) {                    window.PLOTLYENV=window.PLOTLYENV || {};\n",
       "                    window.PLOTLYENV.BASE_URL='https://plot.ly';                                    if (document.getElementById(\"fb33562b-fba3-42cf-9d44-f3a232876966\")) {                    Plotly.newPlot(                        \"fb33562b-fba3-42cf-9d44-f3a232876966\",                        [{\"line\":{\"color\":\"rgba(255, 153, 51, 1.0)\",\"dash\":\"solid\",\"shape\":\"linear\",\"width\":1.3},\"mode\":\"lines\",\"name\":\"Russet Potato\",\"text\":\"\",\"type\":\"scatter\",\"x\":[-0.6931471805599453,-0.5108256237659907,-0.35667494393873245,-0.22314355131420968,-0.10536051565782628,0.0,0.09531017980432495,0.1823215567939546,0.26236426446749106,0.33647223662121284,0.4054651081081644],\"y\":[-0.13223830172090417,-0.09920697488611419,-0.0676277722595018,-0.04115260527916072,-0.0161631061963016,0.0,0.0045442907681541985,0.00454388046349614,0.004543880458262845,0.004543880457247176,0.004543880461052123]},{\"line\":{\"color\":\"rgba(55, 128, 191, 1.0)\",\"dash\":\"solid\",\"shape\":\"linear\",\"width\":1.3},\"mode\":\"lines\",\"name\":\"Pasta\",\"text\":\"\",\"type\":\"scatter\",\"x\":[-0.6931471805599453,-0.5108256237659907,-0.35667494393873245,-0.22314355131420968,-0.10536051565782628,0.0,0.09531017980432495,0.1823215567939546,0.26236426446749106,0.33647223662121284,0.4054651081081644],\"y\":[-0.0024057384285383187,-3.899178758409404e-10,3.131679111402589e-08,3.6385785429499885e-09,-4.980690305874913e-10,0.0,1.1339970009778262e-08,5.6943178549868934e-08,-2.5157875785775564e-10,-3.524243120178028e-10,-8.527423215637242e-10]},{\"line\":{\"color\":\"rgba(50, 171, 96, 1.0)\",\"dash\":\"solid\",\"shape\":\"linear\",\"width\":1.3},\"mode\":\"lines\",\"name\":\"Lemon, raw\",\"text\":\"\",\"type\":\"scatter\",\"x\":[-0.6931471805599453,-0.5108256237659907,-0.35667494393873245,-0.22314355131420968,-0.10536051565782628,0.0,0.09531017980432495,0.1823215567939546,0.26236426446749106,0.33647223662121284,0.4054651081081644],\"y\":[4.91426677008675e-10,3.3859648412667125e-10,2.167555024122256e-10,1.2262102443786163e-10,5.2230664236731394e-11,0.0,-3.6841973916747245e-11,-6.080513870372906e-11,-7.412748193322236e-11,-7.868949936405817e-11,-7.60741469847463e-11]},{\"line\":{\"color\":\"rgba(128, 0, 128, 1.0)\",\"dash\":\"solid\",\"shape\":\"linear\",\"width\":1.3},\"mode\":\"lines\",\"name\":\"Lime, raw\",\"text\":\"\",\"type\":\"scatter\",\"x\":[-0.6931471805599453,-0.5108256237659907,-0.35667494393873245,-0.22314355131420968,-0.10536051565782628,0.0,0.09531017980432495,0.1823215567939546,0.26236426446749106,0.33647223662121284,0.4054651081081644],\"y\":[5.851283900135761e-10,9.343705804707603e-10,8.13242584054739e-10,5.559956937748241e-10,2.636875162317209e-10,0.0,-2.2989532502548912e-10,-2.942204258438005e-10,-2.320688086412998e-10,-2.574696012279161e-10,-2.992402992511327e-10]},{\"line\":{\"color\":\"rgba(219, 64, 82, 1.0)\",\"dash\":\"solid\",\"shape\":\"linear\",\"width\":1.3},\"mode\":\"lines\",\"name\":\"Nuts, pecans, halves, raw\",\"text\":\"\",\"type\":\"scatter\",\"x\":[-0.6931471805599453,-0.5108256237659907,-0.35667494393873245,-0.22314355131420968,-0.10536051565782628,0.0,0.09531017980432495,0.1823215567939546,0.26236426446749106,0.33647223662121284,0.4054651081081644],\"y\":[7.460905224180377e-10,2.0532331388546806e-10,3.412885720066773e-07,-8.144495081671547e-10,-9.264233828815428e-10,0.0,1.5030738762803782e-08,1.4872177600975958e-08,-8.364677842766034e-10,-3.9419434391117066e-10,-4.479372429537373e-10]},{\"line\":{\"color\":\"rgba(0, 128, 128, 1.0)\",\"dash\":\"solid\",\"shape\":\"linear\",\"width\":1.3},\"mode\":\"lines\",\"name\":\"Nuts, walnuts, English, halves, raw\",\"text\":\"\",\"type\":\"scatter\",\"x\":[-0.6931471805599453,-0.5108256237659907,-0.35667494393873245,-0.22314355131420968,-0.10536051565782628,0.0,0.09531017980432495,0.1823215567939546,0.26236426446749106,0.33647223662121284,0.4054651081081644],\"y\":[-3.142465177457792e-10,-1.4732814969084554e-10,-2.562743351192976e-10,8.819870156067645e-08,1.7455104027317248e-10,0.0,-2.9992219823306173e-10,3.3687113042293526e-09,1.8227779269338277e-09,8.850544737617743e-10,4.729259205352421e-10]},{\"line\":{\"color\":\"rgba(255, 255, 51, 1.0)\",\"dash\":\"solid\",\"shape\":\"linear\",\"width\":1.3},\"mode\":\"lines\",\"name\":\"Cashews, NFS\",\"text\":\"\",\"type\":\"scatter\",\"x\":[-0.6931471805599453,-0.5108256237659907,-0.35667494393873245,-0.22314355131420968,-0.10536051565782628,0.0,0.09531017980432495,0.1823215567939546,0.26236426446749106,0.33647223662121284,0.4054651081081644],\"y\":[-8.923928266997848e-10,-8.530997023556559e-10,1.3428962377524491e-09,1.8264520395842254e-08,1.4191105194329354e-07,0.0,6.068923141626797e-11,2.9019586691518324e-09,3.62379932823296e-08,5.596410652558348e-09,3.0953672652785165e-07]},{\"line\":{\"color\":\"rgba(128, 128, 0, 1.0)\",\"dash\":\"solid\",\"shape\":\"linear\",\"width\":1.3},\"mode\":\"lines\",\"name\":\"Pistachio nuts, NFS\",\"text\":\"\",\"type\":\"scatter\",\"x\":[-0.6931471805599453,-0.5108256237659907,-0.35667494393873245,-0.22314355131420968,-0.10536051565782628,0.0,0.09531017980432495,0.1823215567939546,0.26236426446749106,0.33647223662121284,0.4054651081081644],\"y\":[-0.20064270536846288,-0.09491571489733552,-0.012850558670490926,-3.009205107771046e-10,-2.2271040569769897e-10,0.0,2.4180146770821186e-10,4.921183459526763e-10,7.219420614271413e-10,9.157758991377248e-10,1.057050002525082e-09]},{\"line\":{\"color\":\"rgba(251, 128, 114, 1.0)\",\"dash\":\"solid\",\"shape\":\"linear\",\"width\":1.3},\"mode\":\"lines\",\"name\":\"Almond butter, creamy\",\"text\":\"\",\"type\":\"scatter\",\"x\":[-0.6931471805599453,-0.5108256237659907,-0.35667494393873245,-0.22314355131420968,-0.10536051565782628,0.0,0.09531017980432495,0.1823215567939546,0.26236426446749106,0.33647223662121284,0.4054651081081644],\"y\":[-0.057177874962456625,2.8858608863626152e-08,5.986062294585401e-09,2.7178974589516856e-09,2.8018135860954573e-07,0.0,7.670508669732879e-10,4.3918713101069e-10,3.286297899933313e-10,8.101350698113355e-10,3.822521181162097e-09]},{\"line\":{\"color\":\"rgba(128, 177, 211, 1.0)\",\"dash\":\"solid\",\"shape\":\"linear\",\"width\":1.3},\"mode\":\"lines\",\"name\":\"Peanut butter, creamy\",\"text\":\"\",\"type\":\"scatter\",\"x\":[-0.6931471805599453,-0.5108256237659907,-0.35667494393873245,-0.22314355131420968,-0.10536051565782628,0.0,0.09531017980432495,0.1823215567939546,0.26236426446749106,0.33647223662121284,0.4054651081081644],\"y\":[-0.23747741964880661,-0.1835993375588762,-0.13294112831424432,-0.08663551253279,-0.04237993174873066,0.0,0.040656682592833594,0.07414759022522063,0.08979695864974423,0.09356779326997511,0.09356785905959976]},{\"line\":{\"color\":\"rgba(128, 177, 211, 0.8999999999999999)\",\"dash\":\"solid\",\"shape\":\"linear\",\"width\":1.3},\"mode\":\"lines\",\"name\":\"Sweet Potato\",\"text\":\"\",\"type\":\"scatter\",\"x\":[-0.6931471805599453,-0.5108256237659907,-0.35667494393873245,-0.22314355131420968,-0.10536051565782628,0.0,0.09531017980432495,0.1823215567939546,0.26236426446749106,0.33647223662121284,0.4054651081081644],\"y\":[-0.039215870840017916,-0.016798247283133304,-0.005903903617831306,8.47773003757243e-09,-1.9086576765348807e-10,0.0,3.8765524116559806e-10,8.006435511368545e-10,1.1767071754502796e-09,1.4970209505257415e-09,1.721396801396813e-09]},{\"line\":{\"color\":\"rgba(255, 153, 51, 0.8999999999999999)\",\"dash\":\"solid\",\"shape\":\"linear\",\"width\":1.3},\"mode\":\"lines\",\"name\":\"Carrots\",\"text\":\"\",\"type\":\"scatter\",\"x\":[-0.6931471805599453,-0.5108256237659907,-0.35667494393873245,-0.22314355131420968,-0.10536051565782628,0.0,0.09531017980432495,0.1823215567939546,0.26236426446749106,0.33647223662121284,0.4054651081081644],\"y\":[-0.04825325745607394,-0.00853569886774598,4.668945663624612e-09,9.344643903867467e-09,1.6801069410474126e-09,0.0,-3.0769387043010137e-10,-6.547984379080516e-10,2.3013611766015007e-07,-8.006080246410681e-10,-1.0175804643870838e-10]},{\"line\":{\"color\":\"rgba(55, 128, 191, 0.8999999999999999)\",\"dash\":\"solid\",\"shape\":\"linear\",\"width\":1.3},\"mode\":\"lines\",\"name\":\"White rice (glutinous)\",\"text\":\"\",\"type\":\"scatter\",\"x\":[-0.6931471805599453,-0.5108256237659907,-0.35667494393873245,-0.22314355131420968,-0.10536051565782628,0.0,0.09531017980432495,0.1823215567939546,0.26236426446749106,0.33647223662121284,0.4054651081081644],\"y\":[-9.415128681125262e-10,4.43528879305945e-09,3.0471292109739526e-09,2.546072460730185e-09,3.206456827796097e-07,0.0,1.9994603730472484e-09,3.3876583703035987e-09,1.008572618964076e-07,-6.428600986942089e-10,1.6022353692529332e-07]},{\"line\":{\"color\":\"rgba(50, 171, 96, 0.8999999999999999)\",\"dash\":\"solid\",\"shape\":\"linear\",\"width\":1.3},\"mode\":\"lines\",\"name\":\"Wild rice\",\"text\":\"\",\"type\":\"scatter\",\"x\":[-0.6931471805599453,-0.5108256237659907,-0.35667494393873245,-0.22314355131420968,-0.10536051565782628,0.0,0.09531017980432495,0.1823215567939546,0.26236426446749106,0.33647223662121284,0.4054651081081644],\"y\":[-7.574164631689166e-10,4.8937317888520444e-08,2.808913751003022e-08,5.743310817425379e-08,3.740868766950655e-08,0.0,2.5323788501582397e-07,-7.974547692040083e-10,4.269897134648458e-07,1.795522714377148e-08,1.2038442614694652e-08]},{\"line\":{\"color\":\"rgba(128, 0, 128, 0.8999999999999999)\",\"dash\":\"solid\",\"shape\":\"linear\",\"width\":1.3},\"mode\":\"lines\",\"name\":\"Whole grain bread\",\"text\":\"\",\"type\":\"scatter\",\"x\":[-0.6931471805599453,-0.5108256237659907,-0.35667494393873245,-0.22314355131420968,-0.10536051565782628,0.0,0.09531017980432495,0.1823215567939546,0.26236426446749106,0.33647223662121284,0.4054651081081644],\"y\":[-0.004964703405025735,1.1718360435515976e-08,-4.5711479056865175e-10,1.2960401632383892e-09,4.361211879863727e-07,0.0,1.1401950044689266e-07,-5.350609956532956e-10,-1.1986622806156115e-10,-1.3817058608462916e-11,-4.057698621633578e-11]},{\"line\":{\"color\":\"rgba(219, 64, 82, 0.8999999999999999)\",\"dash\":\"solid\",\"shape\":\"linear\",\"width\":1.3},\"mode\":\"lines\",\"name\":\"White bread\",\"text\":\"\",\"type\":\"scatter\",\"x\":[-0.6931471805599453,-0.5108256237659907,-0.35667494393873245,-0.22314355131420968,-0.10536051565782628,0.0,0.09531017980432495,0.1823215567939546,0.26236426446749106,0.33647223662121284,0.4054651081081644],\"y\":[-0.059727343150289415,-0.04367099015120275,-0.03079615703128991,-0.019257079027977367,-0.009582149772386738,0.0,0.009491242584061525,0.018893253457550854,0.028207685018602158,0.03743615446718999,0.046580238459599375]},{\"line\":{\"color\":\"rgba(0, 128, 128, 0.8999999999999999)\",\"dash\":\"solid\",\"shape\":\"linear\",\"width\":1.3},\"mode\":\"lines\",\"name\":\"Whole wheat pasta\",\"text\":\"\",\"type\":\"scatter\",\"x\":[-0.6931471805599453,-0.5108256237659907,-0.35667494393873245,-0.22314355131420968,-0.10536051565782628,0.0,0.09531017980432495,0.1823215567939546,0.26236426446749106,0.33647223662121284,0.4054651081081644],\"y\":[-0.006156084760849902,-0.0022569554434262,8.864480257010494e-10,-9.245817449265901e-10,6.210392198572343e-10,0.0,-4.2630821104544285e-10,3.2528138710165747e-07,3.963856869834214e-07,4.169639012962008e-07,4.0147007430909917e-07]},{\"line\":{\"color\":\"rgba(255, 255, 51, 0.8999999999999999)\",\"dash\":\"solid\",\"shape\":\"linear\",\"width\":1.3},\"mode\":\"lines\",\"name\":\"Lettuce, iceberg, raw\",\"text\":\"\",\"type\":\"scatter\",\"x\":[-0.6931471805599453,-0.5108256237659907,-0.35667494393873245,-0.22314355131420968,-0.10536051565782628,0.0,0.09531017980432495,0.1823215567939546,0.26236426446749106,0.33647223662121284,0.4054651081081644],\"y\":[1.0098580394931525e-07,8.718986827819582e-09,6.215941093245972e-10,6.698954722027489e-10,5.370868193189528e-10,0.0,-2.3344171043387085e-10,-4.720243086401769e-10,3.495485338657422e-07,4.7546189206861706e-11,5.334019891021942e-10]},{\"line\":{\"color\":\"rgba(128, 128, 0, 0.8999999999999999)\",\"dash\":\"solid\",\"shape\":\"linear\",\"width\":1.3},\"mode\":\"lines\",\"name\":\"Lettuce, romaine, green, raw\",\"text\":\"\",\"type\":\"scatter\",\"x\":[-0.6931471805599453,-0.5108256237659907,-0.35667494393873245,-0.22314355131420968,-0.10536051565782628,0.0,0.09531017980432495,0.1823215567939546,0.26236426446749106,0.33647223662121284,0.4054651081081644],\"y\":[1.5832548592954293e-09,4.34479341299126e-10,7.222196171830971e-10,7.63402007983347e-10,4.5346948408230325e-10,0.0,-2.6166446790524866e-10,-3.430814521954257e-10,2.952445671749003e-07,-8.503064922456225e-10,3.2872349281657885e-10]},{\"line\":{\"color\":\"rgba(251, 128, 114, 0.8999999999999999)\",\"dash\":\"solid\",\"shape\":\"linear\",\"width\":1.3},\"mode\":\"lines\",\"name\":\"Cucumber, with peel, raw\",\"text\":\"\",\"type\":\"scatter\",\"x\":[-0.6931471805599453,-0.5108256237659907,-0.35667494393873245,-0.22314355131420968,-0.10536051565782628,0.0,0.09531017980432495,0.1823215567939546,0.26236426446749106,0.33647223662121284,0.4054651081081644],\"y\":[3.163606926973165e-09,6.750462408997311e-10,5.219897845934895e-10,7.283627032184975e-10,4.572588973082283e-10,0.0,-2.528784959530122e-10,-3.6411618171662163e-10,3.0879051411132434e-07,-6.288309874792176e-10,5.043911953499776e-10]},{\"line\":{\"color\":\"rgba(251, 128, 114, 0.7999999999999998)\",\"dash\":\"solid\",\"shape\":\"linear\",\"width\":1.3},\"mode\":\"lines\",\"name\":\"Broccoli, raw\",\"text\":\"\",\"type\":\"scatter\",\"x\":[-0.6931471805599453,-0.5108256237659907,-0.35667494393873245,-0.22314355131420968,-0.10536051565782628,0.0,0.09531017980432495,0.1823215567939546,0.26236426446749106,0.33647223662121284,0.4054651081081644],\"y\":[1.979445716488334e-09,1.2891525616471226e-09,9.139318186955095e-10,6.036608988634183e-10,2.967115441791527e-10,0.0,-2.8975466474824433e-10,-2.2556800874142216e-10,-2.9016233864300487e-10,-4.549104427522533e-10,2.695348141143904e-07]},{\"line\":{\"color\":\"rgba(128, 177, 211, 0.7999999999999998)\",\"dash\":\"solid\",\"shape\":\"linear\",\"width\":1.3},\"mode\":\"lines\",\"name\":\"Kale, raw\",\"text\":\"\",\"type\":\"scatter\",\"x\":[-0.6931471805599453,-0.5108256237659907,-0.35667494393873245,-0.22314355131420968,-0.10536051565782628,0.0,0.09531017980432495,0.1823215567939546,0.26236426446749106,0.33647223662121284,0.4054651081081644],\"y\":[-0.0023191075990668035,2.3222894691379237e-09,8.943379366408254e-10,5.340050622488487e-10,2.3667534596013893e-10,0.0,-2.0978518924221786e-10,-3.053695075050337e-10,-2.3390622774748253e-10,-2.762359230627679e-10,-3.6104264029413493e-10]},{\"line\":{\"color\":\"rgba(255, 153, 51, 0.7999999999999998)\",\"dash\":\"solid\",\"shape\":\"linear\",\"width\":1.3},\"mode\":\"lines\",\"name\":\"Spinach, mature\",\"text\":\"\",\"type\":\"scatter\",\"x\":[-0.6931471805599453,-0.5108256237659907,-0.35667494393873245,-0.22314355131420968,-0.10536051565782628,0.0,0.09531017980432495,0.1823215567939546,0.26236426446749106,0.33647223662121284,0.4054651081081644],\"y\":[1.5406655939143064e-09,1.0185405846882936e-09,6.981888398321524e-10,4.4660031218743387e-10,2.1609936060481412e-10,0.0,-2.1288837361900346e-10,-2.9149638262978246e-10,-2.3472335189379814e-10,-2.8165236813451753e-10,-4.1763259526045365e-10]},{\"line\":{\"color\":\"rgba(55, 128, 191, 0.7999999999999998)\",\"dash\":\"solid\",\"shape\":\"linear\",\"width\":1.3},\"mode\":\"lines\",\"name\":\"Lettuce, arugula, raw\",\"text\":\"\",\"type\":\"scatter\",\"x\":[-0.6931471805599453,-0.5108256237659907,-0.35667494393873245,-0.22314355131420968,-0.10536051565782628,0.0,0.09531017980432495,0.1823215567939546,0.26236426446749106,0.33647223662121284,0.4054651081081644],\"y\":[1.1253859832496231e-07,1.8226795240198416e-08,6.831482044387337e-10,1.0556220336723174e-09,6.67726318458687e-10,0.0,-2.25039875648489e-10,-4.2899772632374744e-10,2.6249781789100205e-07,3.3825221587264367e-07,-7.610236888009649e-10]},{\"line\":{\"color\":\"rgba(50, 171, 96, 0.7999999999999998)\",\"dash\":\"solid\",\"shape\":\"linear\",\"width\":1.3},\"mode\":\"lines\",\"name\":\"Collards, raw\",\"text\":\"\",\"type\":\"scatter\",\"x\":[-0.6931471805599453,-0.5108256237659907,-0.35667494393873245,-0.22314355131420968,-0.10536051565782628,0.0,0.09531017980432495,0.1823215567939546,0.26236426446749106,0.33647223662121284,0.4054651081081644],\"y\":[-0.007350644966369735,-0.005876588792943963,-0.004404200932088691,-0.002933977752153329,-0.0014659129242170351,0.0,0.0014637675207724273,0.0029253958876364465,0.004384891113414893,0.005842779283554734,0.007297507116675249]},{\"line\":{\"color\":\"rgba(128, 0, 128, 0.7999999999999998)\",\"dash\":\"solid\",\"shape\":\"linear\",\"width\":1.3},\"mode\":\"lines\",\"name\":\"Cabbage, green, raw\",\"text\":\"\",\"type\":\"scatter\",\"x\":[-0.6931471805599453,-0.5108256237659907,-0.35667494393873245,-0.22314355131420968,-0.10536051565782628,0.0,0.09531017980432495,0.1823215567939546,0.26236426446749106,0.33647223662121284,0.4054651081081644],\"y\":[-0.003369666899898334,2.4350306186189912e-09,1.3296885805799478e-09,7.156415457669222e-10,3.056670471822918e-10,0.0,-2.54530618836376e-10,-2.505252672294244e-10,-2.4164759085542956e-10,-3.121924941272768e-10,-4.3075376608255195e-10]},{\"line\":{\"color\":\"rgba(219, 64, 82, 0.7999999999999998)\",\"dash\":\"solid\",\"shape\":\"linear\",\"width\":1.3},\"mode\":\"lines\",\"name\":\"Carrots, raw\",\"text\":\"\",\"type\":\"scatter\",\"x\":[-0.6931471805599453,-0.5108256237659907,-0.35667494393873245,-0.22314355131420968,-0.10536051565782628,0.0,0.09531017980432495,0.1823215567939546,0.26236426446749106,0.33647223662121284,0.4054651081081644],\"y\":[-0.12518359865017717,-0.06319822866077782,-0.0227591305258067,-0.01343529983788226,-0.006695087198912358,0.0,0.006650561599766495,0.013257185421452449,0.019820447997866492,0.025594620193422776,0.02638760653048142]},{\"line\":{\"color\":\"rgba(0, 128, 128, 0.7999999999999998)\",\"dash\":\"solid\",\"shape\":\"linear\",\"width\":1.3},\"mode\":\"lines\",\"name\":\"Asparagus, raw\",\"text\":\"\",\"type\":\"scatter\",\"x\":[-0.6931471805599453,-0.5108256237659907,-0.35667494393873245,-0.22314355131420968,-0.10536051565782628,0.0,0.09531017980432495,0.1823215567939546,0.26236426446749106,0.33647223662121284,0.4054651081081644],\"y\":[-8.216448635956366e-10,-4.657886299971433e-10,2.347230574211765e-07,-8.575806731782281e-11,-4.756116612790454e-10,0.0,5.664622976851852e-09,1.4174985529257307e-08,8.48022692913364e-09,8.519325208970328e-09,9.130713698961035e-09]},{\"line\":{\"color\":\"rgba(255, 255, 51, 0.7999999999999998)\",\"dash\":\"solid\",\"shape\":\"linear\",\"width\":1.3},\"mode\":\"lines\",\"name\":\"Celery, raw\",\"text\":\"\",\"type\":\"scatter\",\"x\":[-0.6931471805599453,-0.5108256237659907,-0.35667494393873245,-0.22314355131420968,-0.10536051565782628,0.0,0.09531017980432495,0.1823215567939546,0.26236426446749106,0.33647223662121284,0.4054651081081644],\"y\":[4.0804225387611185e-08,3.6587679485791324e-09,2.004871600058437e-09,1.1179623887048986e-09,4.89782214665407e-10,0.0,-3.125132375591912e-10,-2.6256041788635597e-10,-4.336692117464777e-10,2.482170520818367e-07,3.141337360884315e-07]},{\"line\":{\"color\":\"rgba(128, 128, 0, 0.7999999999999998)\",\"dash\":\"solid\",\"shape\":\"linear\",\"width\":1.3},\"mode\":\"lines\",\"name\":\"Avocado, raw\",\"text\":\"\",\"type\":\"scatter\",\"x\":[-0.6931471805599453,-0.5108256237659907,-0.35667494393873245,-0.22314355131420968,-0.10536051565782628,0.0,0.09531017980432495,0.1823215567939546,0.26236426446749106,0.33647223662121284,0.4054651081081644],\"y\":[-0.2638835217021981,-0.19365789094371344,-0.13487806988308487,-0.07936233734343434,-0.029673887545486825,0.0,0.017688779257382218,0.03507009824214267,0.0425685754642995,0.04256838089222159,0.042568449948253685]},{\"line\":{\"color\":\"rgba(128, 128, 0, 0.7)\",\"dash\":\"solid\",\"shape\":\"linear\",\"width\":1.3},\"mode\":\"lines\",\"name\":\"Onions, red, raw\",\"text\":\"\",\"type\":\"scatter\",\"x\":[-0.6931471805599453,-0.5108256237659907,-0.35667494393873245,-0.22314355131420968,-0.10536051565782628,0.0,0.09531017980432495,0.1823215567939546,0.26236426446749106,0.33647223662121284,0.4054651081081644],\"y\":[-2.6240254417221287e-10,-3.204835286554978e-10,-2.840196966905953e-10,-1.9681545284360755e-10,-1.0074974188764173e-10,0.0,1.0276157702020974e-10,2.094826534240611e-10,3.175950613105424e-10,4.2439074467868963e-10,5.290954339919611e-10]},{\"line\":{\"color\":\"rgba(251, 128, 114, 0.7)\",\"dash\":\"solid\",\"shape\":\"linear\",\"width\":1.3},\"mode\":\"lines\",\"name\":\"Onions, yellow, raw\",\"text\":\"\",\"type\":\"scatter\",\"x\":[-0.6931471805599453,-0.5108256237659907,-0.35667494393873245,-0.22314355131420968,-0.10536051565782628,0.0,0.09531017980432495,0.1823215567939546,0.26236426446749106,0.33647223662121284,0.4054651081081644],\"y\":[2.561062473172516e-11,-9.495293440859917e-11,-1.1170031566989272e-10,-9.090306285899518e-11,-5.0918824713494696e-11,0.0,5.758304943815539e-11,1.1939338406106193e-10,1.875140043063491e-10,2.5810020783945e-10,3.3044322828115644e-10]},{\"line\":{\"color\":\"rgba(128, 177, 211, 0.7)\",\"dash\":\"solid\",\"shape\":\"linear\",\"width\":1.3},\"mode\":\"lines\",\"name\":\"Onions, white, raw\",\"text\":\"\",\"type\":\"scatter\",\"x\":[-0.6931471805599453,-0.5108256237659907,-0.35667494393873245,-0.22314355131420968,-0.10536051565782628,0.0,0.09531017980432495,0.1823215567939546,0.26236426446749106,0.33647223662121284,0.4054651081081644],\"y\":[-2.433000468056823e-10,-2.2016943826067672e-10,-2.625000217538005e-10,-3.126515713481028e-10,-1.5693191192222156e-10,0.0,1.5600187807001095e-10,3.1621705249281436e-10,4.724209911038812e-10,6.220564061917636e-10,7.563403234182823e-10]},{\"line\":{\"color\":\"rgba(255, 153, 51, 0.7)\",\"dash\":\"solid\",\"shape\":\"linear\",\"width\":1.3},\"mode\":\"lines\",\"name\":\"SLICED MUSHROOMS, BABY BELLA\",\"text\":\"\",\"type\":\"scatter\",\"x\":[-0.6931471805599453,-0.5108256237659907,-0.35667494393873245,-0.22314355131420968,-0.10536051565782628,0.0,0.09531017980432495,0.1823215567939546,0.26236426446749106,0.33647223662121284,0.4054651081081644],\"y\":[3.389567189786465e-07,-8.822804712933159e-10,-3.946858396443661e-10,-2.3125412698564114e-10,-3.1833058416545706e-10,0.0,2.8812752179986605e-10,5.452414074304117e-10,7.562543921562412e-10,9.25183484950529e-10,1.0562937186015065e-09]},{\"line\":{\"color\":\"rgba(55, 128, 191, 0.7)\",\"dash\":\"solid\",\"shape\":\"linear\",\"width\":1.3},\"mode\":\"lines\",\"name\":\"Garlic, raw\",\"text\":\"\",\"type\":\"scatter\",\"x\":[-0.6931471805599453,-0.5108256237659907,-0.35667494393873245,-0.22314355131420968,-0.10536051565782628,0.0,0.09531017980432495,0.1823215567939546,0.26236426446749106,0.33647223662121284,0.4054651081081644],\"y\":[3.123397441402739e-07,1.3644010356657236e-09,3.518282992082458e-09,5.988132210516097e-10,-6.490434858338528e-10,0.0,1.0613032669279159e-09,7.367444429590675e-10,2.184364908787295e-09,5.506240689464339e-08,1.0900216801286193e-07]},{\"line\":{\"color\":\"rgba(50, 171, 96, 0.7)\",\"dash\":\"solid\",\"shape\":\"linear\",\"width\":1.3},\"mode\":\"lines\",\"name\":\"Eggplant, raw\",\"text\":\"\",\"type\":\"scatter\",\"x\":[-0.6931471805599453,-0.5108256237659907,-0.35667494393873245,-0.22314355131420968,-0.10536051565782628,0.0,0.09531017980432495,0.1823215567939546,0.26236426446749106,0.33647223662121284,0.4054651081081644],\"y\":[2.5007707013173245e-10,-1.0655532012861335e-10,-1.989757248053507e-10,-1.7843537760058213e-10,-1.0325307276382187e-10,0.0,1.1746603689054094e-10,2.4673463269462623e-10,3.8007263995492386e-10,5.132683166057585e-10,6.440581399460419e-10]},{\"line\":{\"color\":\"rgba(128, 0, 128, 0.7)\",\"dash\":\"solid\",\"shape\":\"linear\",\"width\":1.3},\"mode\":\"lines\",\"name\":\"Green beans, raw\",\"text\":\"\",\"type\":\"scatter\",\"x\":[-0.6931471805599453,-0.5108256237659907,-0.35667494393873245,-0.22314355131420968,-0.10536051565782628,0.0,0.09531017980432495,0.1823215567939546,0.26236426446749106,0.33647223662121284,0.4054651081081644],\"y\":[1.1904601741738485e-09,1.5633361270971715e-10,9.37050436805093e-10,8.77814709424575e-10,4.993176981745918e-10,0.0,-2.407967159291516e-10,-3.701886575743409e-10,2.770512486444549e-07,-9.034113461398732e-10,4.0622127875443007e-10]},{\"line\":{\"color\":\"rgba(219, 64, 82, 0.7)\",\"dash\":\"solid\",\"shape\":\"linear\",\"width\":1.3},\"mode\":\"lines\",\"name\":\"Black beans, NFS\",\"text\":\"\",\"type\":\"scatter\",\"x\":[-0.6931471805599453,-0.5108256237659907,-0.35667494393873245,-0.22314355131420968,-0.10536051565782628,0.0,0.09531017980432495,0.1823215567939546,0.26236426446749106,0.33647223662121284,0.4054651081081644],\"y\":[-0.05213483577137361,-0.03280796840405591,-0.01384756526563229,-0.0011676427374148629,4.283524696783313e-07,0.0,8.673630698798737e-10,3.827618221641452e-10,5.16778060314034e-08,1.6763080717390737e-07,-9.25562071858241e-10]},{\"line\":{\"color\":\"rgba(0, 128, 128, 0.7)\",\"dash\":\"solid\",\"shape\":\"linear\",\"width\":1.3},\"mode\":\"lines\",\"name\":\"Pinto beans, NFS\",\"text\":\"\",\"type\":\"scatter\",\"x\":[-0.6931471805599453,-0.5108256237659907,-0.35667494393873245,-0.22314355131420968,-0.10536051565782628,0.0,0.09531017980432495,0.1823215567939546,0.26236426446749106,0.33647223662121284,0.4054651081081644],\"y\":[-0.0005952568321114401,7.559065567116129e-09,6.784115489296975e-10,2.9611769042479943e-08,5.301520726221118e-08,0.0,4.6849791170426406e-08,-9.404913519066074e-10,5.276461905346191e-07,3.2507454573604734e-07,2.2206896476214058e-07]},{\"line\":{\"color\":\"rgba(255, 255, 51, 0.7)\",\"dash\":\"solid\",\"shape\":\"linear\",\"width\":1.3},\"mode\":\"lines\",\"name\":\"Green peas, raw\",\"text\":\"\",\"type\":\"scatter\",\"x\":[-0.6931471805599453,-0.5108256237659907,-0.35667494393873245,-0.22314355131420968,-0.10536051565782628,0.0,0.09531017980432495,0.1823215567939546,0.26236426446749106,0.33647223662121284,0.4054651081081644],\"y\":[2.152471754072651e-09,1.6494701146892802e-09,2.3588988512446457e-09,2.636165726677444e-09,2.8466107793885243e-07,0.0,1.0589247251224806e-09,5.899154496483423e-10,5.191589145094465e-09,8.425216769042648e-08,1.1176453493179451e-07]},{\"line\":{\"color\":\"rgba(255, 255, 51, 0.5999999999999999)\",\"dash\":\"solid\",\"shape\":\"linear\",\"width\":1.3},\"mode\":\"lines\",\"name\":\"Corn, raw\",\"text\":\"\",\"type\":\"scatter\",\"x\":[-0.6931471805599453,-0.5108256237659907,-0.35667494393873245,-0.22314355131420968,-0.10536051565782628,0.0,0.09531017980432495,0.1823215567939546,0.26236426446749106,0.33647223662121284,0.4054651081081644],\"y\":[1.7041781304927885e-09,2.1267029910796698e-08,5.774219935353551e-08,1.98528849165674e-08,7.686624196468867e-09,0.0,3.7832693260342263e-07,-1.480682243493041e-11,3.9392804908205426e-08,1.5800484316100154e-07,1.326998524475152e-08]},{\"line\":{\"color\":\"rgba(128, 128, 0, 0.5999999999999999)\",\"dash\":\"solid\",\"shape\":\"linear\",\"width\":1.3},\"mode\":\"lines\",\"name\":\"Brussels sprouts, raw\",\"text\":\"\",\"type\":\"scatter\",\"x\":[-0.6931471805599453,-0.5108256237659907,-0.35667494393873245,-0.22314355131420968,-0.10536051565782628,0.0,0.09531017980432495,0.1823215567939546,0.26236426446749106,0.33647223662121284,0.4054651081081644],\"y\":[-0.009840968300872872,-0.0035365433702143722,9.074142729345403e-09,2.711948884001894e-09,1.2831875553880885e-09,0.0,-3.221775069470152e-10,3.018182195000367e-07,1.986311115389842e-10,1.6163730341116197e-09,2.9699342940809842e-09]},{\"line\":{\"color\":\"rgba(251, 128, 114, 0.5999999999999999)\",\"dash\":\"solid\",\"shape\":\"linear\",\"width\":1.3},\"mode\":\"lines\",\"name\":\"Lentils, NFS\",\"text\":\"\",\"type\":\"scatter\",\"x\":[-0.6931471805599453,-0.5108256237659907,-0.35667494393873245,-0.22314355131420968,-0.10536051565782628,0.0,0.09531017980432495,0.1823215567939546,0.26236426446749106,0.33647223662121284,0.4054651081081644],\"y\":[-0.07324218643828269,-0.05470016379305548,-0.03895015692159397,-0.023445103315590576,-0.008175873325940506,0.0,0.006908119195610422,0.008217079380424694,0.008217125477902489,0.008217190185190376,0.008217295972593727]},{\"line\":{\"color\":\"rgba(128, 177, 211, 0.5999999999999999)\",\"dash\":\"solid\",\"shape\":\"linear\",\"width\":1.3},\"mode\":\"lines\",\"name\":\"Tomato, roma\",\"text\":\"\",\"type\":\"scatter\",\"x\":[-0.6931471805599453,-0.5108256237659907,-0.35667494393873245,-0.22314355131420968,-0.10536051565782628,0.0,0.09531017980432495,0.1823215567939546,0.26236426446749106,0.33647223662121284,0.4054651081081644],\"y\":[3.476330334645866e-11,7.852829497747824e-12,-1.1992629112008132e-12,-3.557487637812717e-12,-2.8423929876493656e-12,0.0,4.866107516920221e-12,1.1904699448379767e-11,2.1286084006306654e-11,3.3062219628185684e-11,4.727107594137264e-11]},{\"line\":{\"color\":\"rgba(255, 153, 51, 0.5999999999999999)\",\"dash\":\"solid\",\"shape\":\"linear\",\"width\":1.3},\"mode\":\"lines\",\"name\":\"Tomato, grape,raw\",\"text\":\"\",\"type\":\"scatter\",\"x\":[-0.6931471805599453,-0.5108256237659907,-0.35667494393873245,-0.22314355131420968,-0.10536051565782628,0.0,0.09531017980432495,0.1823215567939546,0.26236426446749106,0.33647223662121284,0.4054651081081644],\"y\":[-2.8966939958216964e-11,2.905879641035129e-07,-4.4784242990739185e-10,-2.387684494849775e-10,-3.2410918398818473e-10,0.0,2.835076617511163e-10,5.274123358875185e-10,7.129368204362624e-10,8.492053723277138e-10,9.364553572644512e-10]},{\"line\":{\"color\":\"rgba(55, 128, 191, 0.5999999999999999)\",\"dash\":\"solid\",\"shape\":\"linear\",\"width\":1.3},\"mode\":\"lines\",\"name\":\"Peppers, bell, green, raw\",\"text\":\"\",\"type\":\"scatter\",\"x\":[-0.6931471805599453,-0.5108256237659907,-0.35667494393873245,-0.22314355131420968,-0.10536051565782628,0.0,0.09531017980432495,0.1823215567939546,0.26236426446749106,0.33647223662121284,0.4054651081081644],\"y\":[-0.009438665282640956,-0.006497919191683416,-0.0035657948274176406,-0.0006422419159089825,1.4072012434287354e-09,0.0,-8.372247343354263e-10,-7.90435051058335e-10,-4.1050562957322385e-10,-4.834500578812628e-10,-2.858688841609379e-10]},{\"line\":{\"color\":\"rgba(50, 171, 96, 0.5999999999999999)\",\"dash\":\"solid\",\"shape\":\"linear\",\"width\":1.3},\"mode\":\"lines\",\"name\":\"Peppers, bell, orange, raw\",\"text\":\"\",\"type\":\"scatter\",\"x\":[-0.6931471805599453,-0.5108256237659907,-0.35667494393873245,-0.22314355131420968,-0.10536051565782628,0.0,0.09531017980432495,0.1823215567939546,0.26236426446749106,0.33647223662121284,0.4054651081081644],\"y\":[-0.004764597384634649,-0.00117722247602618,4.415978906122208e-09,2.723942401259717e-09,1.2033909417261805e-09,0.0,-1.942144223410072e-10,-3.8581149393816663e-10,-6.613071203941996e-10,-8.956957402009976e-10,2.1992491540939997e-07]},{\"line\":{\"color\":\"rgba(128, 0, 128, 0.5999999999999999)\",\"dash\":\"solid\",\"shape\":\"linear\",\"width\":1.3},\"mode\":\"lines\",\"name\":\"Peppers, bell, red, raw\",\"text\":\"\",\"type\":\"scatter\",\"x\":[-0.6931471805599453,-0.5108256237659907,-0.35667494393873245,-0.22314355131420968,-0.10536051565782628,0.0,0.09531017980432495,0.1823215567939546,0.26236426446749106,0.33647223662121284,0.4054651081081644],\"y\":[-0.007820109165973785,-0.00464245022563608,-0.0014744249665746784,4.668579290028196e-09,1.5065995106786124e-09,0.0,-3.549200933780428e-10,-8.465914639574697e-10,1.5343779224641868e-07,1.4931181220275336e-07,1.471394968640595e-07]},{\"line\":{\"color\":\"rgba(219, 64, 82, 0.5999999999999999)\",\"dash\":\"solid\",\"shape\":\"linear\",\"width\":1.3},\"mode\":\"lines\",\"name\":\"Peppers, bell, yellow, raw\",\"text\":\"\",\"type\":\"scatter\",\"x\":[-0.6931471805599453,-0.5108256237659907,-0.35667494393873245,-0.22314355131420968,-0.10536051565782628,0.0,0.09531017980432495,0.1823215567939546,0.26236426446749106,0.33647223662121284,0.4054651081081644],\"y\":[-0.0028041347072373674,1.1838392418454147e-08,3.0548599159154363e-09,1.807651804384582e-09,6.674649719588647e-10,0.0,-2.803804966371495e-10,-2.084775685635409e-10,-2.9071212108495895e-10,-4.141684773775775e-10,-5.612359467631134e-10]},{\"line\":{\"color\":\"rgba(0, 128, 128, 0.5999999999999999)\",\"dash\":\"solid\",\"shape\":\"linear\",\"width\":1.3},\"mode\":\"lines\",\"name\":\"ZUCCHINI\",\"text\":\"\",\"type\":\"scatter\",\"x\":[-0.6931471805599453,-0.5108256237659907,-0.35667494393873245,-0.22314355131420968,-0.10536051565782628,0.0,0.09531017980432495,0.1823215567939546,0.26236426446749106,0.33647223662121284,0.4054651081081644],\"y\":[-2.542552835261989e-10,-2.198914384152494e-10,-2.640563323901298e-10,-2.992772696778638e-10,-1.4436385421466404e-10,0.0,1.3320478053025946e-10,2.6191204757120696e-10,3.814484283265155e-10,4.921616446506154e-10,5.94736482107619e-10]},{\"line\":{\"color\":\"rgba(0, 128, 128, 0.49999999999999983)\",\"dash\":\"solid\",\"shape\":\"linear\",\"width\":1.3},\"mode\":\"lines\",\"name\":\"Bananas, ripe and slightly ripe, raw\",\"text\":\"\",\"type\":\"scatter\",\"x\":[-0.6931471805599453,-0.5108256237659907,-0.35667494393873245,-0.22314355131420968,-0.10536051565782628,0.0,0.09531017980432495,0.1823215567939546,0.26236426446749106,0.33647223662121284,0.4054651081081644],\"y\":[-0.07287143587449535,-0.05038921273847756,-0.030003056624885387,-0.010242405863753822,-0.0015286159483892327,0.0,-9.186776898984946e-10,-9.138221294958476e-10,-6.461160497606254e-10,-1.48412393486943e-11,-8.42138914513451e-10]},{\"line\":{\"color\":\"rgba(255, 255, 51, 0.49999999999999983)\",\"dash\":\"solid\",\"shape\":\"linear\",\"width\":1.3},\"mode\":\"lines\",\"name\":\"Apples, fuji, with skin, raw\",\"text\":\"\",\"type\":\"scatter\",\"x\":[-0.6931471805599453,-0.5108256237659907,-0.35667494393873245,-0.22314355131420968,-0.10536051565782628,0.0,0.09531017980432495,0.1823215567939546,0.26236426446749106,0.33647223662121284,0.4054651081081644],\"y\":[-1.1734446748312846e-10,-1.0431933095678253e-10,-8.468348245219655e-11,-6.025657750722856e-11,-3.187972108571214e-11,0.0,3.4903191447556556e-11,7.237077603599177e-11,1.1187917258666288e-10,1.5370149596334383e-10,1.9805623805694735e-10]},{\"line\":{\"color\":\"rgba(128, 128, 0, 0.49999999999999983)\",\"dash\":\"solid\",\"shape\":\"linear\",\"width\":1.3},\"mode\":\"lines\",\"name\":\"Apples, gala, with skin, raw\",\"text\":\"\",\"type\":\"scatter\",\"x\":[-0.6931471805599453,-0.5108256237659907,-0.35667494393873245,-0.22314355131420968,-0.10536051565782628,0.0,0.09531017980432495,0.1823215567939546,0.26236426446749106,0.33647223662121284,0.4054651081081644],\"y\":[1.1057821325265948e-13,-1.4714784946187626e-11,-2.1385782034373217e-11,-2.0781376619754538e-11,-1.3427814416024034e-11,0.0,1.8693935288463654e-11,4.177880263879653e-11,6.842881816503519e-11,9.78293002115047e-11,1.2924084024365794e-10]},{\"line\":{\"color\":\"rgba(251, 128, 114, 0.49999999999999983)\",\"dash\":\"solid\",\"shape\":\"linear\",\"width\":1.3},\"mode\":\"lines\",\"name\":\"Apples, honeycrisp, with skin, raw\",\"text\":\"\",\"type\":\"scatter\",\"x\":[-0.6931471805599453,-0.5108256237659907,-0.35667494393873245,-0.22314355131420968,-0.10536051565782628,0.0,0.09531017980432495,0.1823215567939546,0.26236426446749106,0.33647223662121284,0.4054651081081644],\"y\":[-2.833377977086771e-10,-2.380624586634501e-10,-1.85355064647422e-10,-1.269283567220732e-10,-6.457456791717269e-11,0.0,6.529243812067883e-11,1.301054819351239e-10,1.9599988297114177e-10,2.606603821335716e-10,3.2286284751609696e-10]},{\"line\":{\"color\":\"rgba(128, 177, 211, 0.49999999999999983)\",\"dash\":\"solid\",\"shape\":\"linear\",\"width\":1.3},\"mode\":\"lines\",\"name\":\"Oranges, raw, navels\",\"text\":\"\",\"type\":\"scatter\",\"x\":[-0.6931471805599453,-0.5108256237659907,-0.35667494393873245,-0.22314355131420968,-0.10536051565782628,0.0,0.09531017980432495,0.1823215567939546,0.26236426446749106,0.33647223662121284,0.4054651081081644],\"y\":[-0.038922467638277995,-0.014342321483955802,-0.010737410347923682,-0.007145449375972607,-0.0035663419966740426,0.0,0.0035536726408551588,0.005179354710767044,0.005179355164446613,0.005179355296203816,0.005179355189148699]},{\"line\":{\"color\":\"rgba(255, 153, 51, 0.49999999999999983)\",\"dash\":\"solid\",\"shape\":\"linear\",\"width\":1.3},\"mode\":\"lines\",\"name\":\"Strawberries, raw\",\"text\":\"\",\"type\":\"scatter\",\"x\":[-0.6931471805599453,-0.5108256237659907,-0.35667494393873245,-0.22314355131420968,-0.10536051565782628,0.0,0.09531017980432495,0.1823215567939546,0.26236426446749106,0.33647223662121284,0.4054651081081644],\"y\":[7.57010454035439e-10,5.861049421854645e-10,4.065221491939812e-10,2.448243829589257e-10,1.0904810387418145e-10,0.0,-8.745171254203517e-11,-1.5509105112480338e-10,-2.05151340381076e-10,-2.3993240730427313e-10,-2.615607730747215e-10]},{\"line\":{\"color\":\"rgba(55, 128, 191, 0.49999999999999983)\",\"dash\":\"solid\",\"shape\":\"linear\",\"width\":1.3},\"mode\":\"lines\",\"name\":\"Blueberries, raw\",\"text\":\"\",\"type\":\"scatter\",\"x\":[-0.6931471805599453,-0.5108256237659907,-0.35667494393873245,-0.22314355131420968,-0.10536051565782628,0.0,0.09531017980432495,0.1823215567939546,0.26236426446749106,0.33647223662121284,0.4054651081081644],\"y\":[5.01082730738258e-10,3.595874708459313e-10,2.3224511200371342e-10,1.302771224147086e-10,5.479572351268809e-11,0.0,-3.696842831925672e-11,-5.89989168648582e-11,-6.866363033944202e-11,-6.816913700424014e-11,-5.933820102120372e-11]},{\"line\":{\"color\":\"rgba(50, 171, 96, 0.49999999999999983)\",\"dash\":\"solid\",\"shape\":\"linear\",\"width\":1.3},\"mode\":\"lines\",\"name\":\"Raspberries, raw\",\"text\":\"\",\"type\":\"scatter\",\"x\":[-0.6931471805599453,-0.5108256237659907,-0.35667494393873245,-0.22314355131420968,-0.10536051565782628,0.0,0.09531017980432495,0.1823215567939546,0.26236426446749106,0.33647223662121284,0.4054651081081644],\"y\":[7.96458898515779e-10,6.089693192301425e-10,3.9632630502912647e-10,2.1828472360601163e-10,8.824696528685651e-11,0.0,-5.532685421070058e-11,-8.354594794106993e-11,-8.978273680474472e-11,-7.82244269390062e-11,-5.24291721162728e-11]},{\"line\":{\"color\":\"rgba(128, 0, 128, 0.49999999999999983)\",\"dash\":\"solid\",\"shape\":\"linear\",\"width\":1.3},\"mode\":\"lines\",\"name\":\"Mangos, raw\",\"text\":\"\",\"type\":\"scatter\",\"x\":[-0.6931471805599453,-0.5108256237659907,-0.35667494393873245,-0.22314355131420968,-0.10536051565782628,0.0,0.09531017980432495,0.1823215567939546,0.26236426446749106,0.33647223662121284,0.4054651081081644],\"y\":[-0.028455071167694215,-0.013757578045927588,-0.004554905887743467,1.0126504074594295e-09,2.5714852466298654e-10,0.0,1.9308421526443843e-10,3.0721092331986243e-10,1.4029533089836085e-10,4.2473136110250003e-10,-7.405087654451755e-11]},{\"line\":{\"color\":\"rgba(219, 64, 82, 0.49999999999999983)\",\"dash\":\"solid\",\"shape\":\"linear\",\"width\":1.3},\"mode\":\"lines\",\"name\":\"Chia seeds\",\"text\":\"\",\"type\":\"scatter\",\"x\":[-0.6931471805599453,-0.5108256237659907,-0.35667494393873245,-0.22314355131420968,-0.10536051565782628,0.0,0.09531017980432495,0.1823215567939546,0.26236426446749106,0.33647223662121284,0.4054651081081644],\"y\":[1.0871547093357498e-07,1.6815322326400525e-08,3.990543450441505e-10,6.939027128262678e-10,6.40453467832004e-10,0.0,-2.5896118586188514e-10,3.18780306189945e-07,3.512428125512095e-10,1.8184671529816614e-09,3.499591055260853e-09]},{\"line\":{\"color\":\"rgba(219, 64, 82, 0.39999999999999974)\",\"dash\":\"solid\",\"shape\":\"linear\",\"width\":1.3},\"mode\":\"lines\",\"name\":\"Flax seeds\",\"text\":\"\",\"type\":\"scatter\",\"x\":[-0.6931471805599453,-0.5108256237659907,-0.35667494393873245,-0.22314355131420968,-0.10536051565782628,0.0,0.09531017980432495,0.1823215567939546,0.26236426446749106,0.33647223662121284,0.4054651081081644],\"y\":[-0.1607608139797766,-0.09671952991986069,-0.03917505074543157,-0.008073947162557982,8.996434704261451e-10,0.0,6.035236752976575e-10,4.418587486129344e-09,5.193105487693625e-09,6.5599270244962826e-09,6.940651806958096e-09]},{\"line\":{\"color\":\"rgba(0, 128, 128, 0.39999999999999974)\",\"dash\":\"solid\",\"shape\":\"linear\",\"width\":1.3},\"mode\":\"lines\",\"name\":\"Quinoa, fat added\",\"text\":\"\",\"type\":\"scatter\",\"x\":[-0.6931471805599453,-0.5108256237659907,-0.35667494393873245,-0.22314355131420968,-0.10536051565782628,0.0,0.09531017980432495,0.1823215567939546,0.26236426446749106,0.33647223662121284,0.4054651081081644],\"y\":[1.4683501070911214e-09,-8.64610161617948e-10,8.600000674587185e-09,3.0901148259094827e-09,4.66464377146887e-09,0.0,1.4713468360386674e-07,-9.343492650617159e-10,-9.405797256594507e-10,2.3761028386335852e-07,1.0135132952211564e-07]},{\"line\":{\"color\":\"rgba(255, 255, 51, 0.39999999999999974)\",\"dash\":\"solid\",\"shape\":\"linear\",\"width\":1.3},\"mode\":\"lines\",\"name\":\"Almond milk, unsweetened, plain, refrigerated\",\"text\":\"\",\"type\":\"scatter\",\"x\":[-0.6931471805599453,-0.5108256237659907,-0.35667494393873245,-0.22314355131420968,-0.10536051565782628,0.0,0.09531017980432495,0.1823215567939546,0.26236426446749106,0.33647223662121284,0.4054651081081644],\"y\":[-0.0013922583772708152,1.543049076598776e-08,1.5788699112265667e-08,5.405493084706635e-08,3.863004131331857e-09,0.0,-4.342215476166216e-11,4.730400504551685e-09,-8.85248763574577e-10,4.5405963330523955e-09,7.062062046009779e-11]},{\"line\":{\"color\":\"rgba(128, 128, 0, 0.39999999999999974)\",\"dash\":\"solid\",\"shape\":\"linear\",\"width\":1.3},\"mode\":\"lines\",\"name\":\"Oat milk, unsweetened, plain, refrigerated\",\"text\":\"\",\"type\":\"scatter\",\"x\":[-0.6931471805599453,-0.5108256237659907,-0.35667494393873245,-0.22314355131420968,-0.10536051565782628,0.0,0.09531017980432495,0.1823215567939546,0.26236426446749106,0.33647223662121284,0.4054651081081644],\"y\":[-0.022069255698352913,-0.005026877357629684,2.8662878696073203e-09,1.0253522470266177e-09,5.112077426731097e-10,0.0,-2.591140635724156e-10,-4.3240888656837746e-10,2.962607227005197e-07,-1.658135850983536e-10,6.959752771671977e-10]},{\"line\":{\"color\":\"rgba(251, 128, 114, 0.39999999999999974)\",\"dash\":\"solid\",\"shape\":\"linear\",\"width\":1.3},\"mode\":\"lines\",\"name\":\"WHITE SLICED MUSHROOMS, WHITE\",\"text\":\"\",\"type\":\"scatter\",\"x\":[-0.6931471805599453,-0.5108256237659907,-0.35667494393873245,-0.22314355131420968,-0.10536051565782628,0.0,0.09531017980432495,0.1823215567939546,0.26236426446749106,0.33647223662121284,0.4054651081081644],\"y\":[3.746980940718688e-09,3.6547715897943054e-09,6.121094740310751e-10,2.9006001013192806e-07,-2.60283461484557e-10,0.0,6.432678831976223e-10,1.0502947395165656e-09,1.201340581846768e-09,1.0802960742344459e-09,6.875773281701376e-10]},{\"line\":{\"color\":\"rgba(128, 177, 211, 0.39999999999999974)\",\"dash\":\"solid\",\"shape\":\"linear\",\"width\":1.3},\"mode\":\"lines\",\"name\":\"Nutritional Yeast\",\"text\":\"\",\"type\":\"scatter\",\"x\":[-0.6931471805599453,-0.5108256237659907,-0.35667494393873245,-0.22314355131420968,-0.10536051565782628,0.0,0.09531017980432495,0.1823215567939546,0.26236426446749106,0.33647223662121284,0.4054651081081644],\"y\":[-0.009341528958399261,-0.007466093451918477,-0.005594446046158418,-0.003726152476888586,-0.0018613396774704468,0.0,0.0018579555354900183,0.0037124687531385567,0.005563469917427462,0.007411048225203214,0.009255219026541167]}],                        {\"legend\":{\"bgcolor\":\"#F5F6F9\",\"font\":{\"color\":\"#4D5663\"}},\"paper_bgcolor\":\"#F5F6F9\",\"plot_bgcolor\":\"#F5F6F9\",\"template\":{\"data\":{\"bar\":[{\"error_x\":{\"color\":\"#2a3f5f\"},\"error_y\":{\"color\":\"#2a3f5f\"},\"marker\":{\"line\":{\"color\":\"#E5ECF6\",\"width\":0.5},\"pattern\":{\"fillmode\":\"overlay\",\"size\":10,\"solidity\":0.2}},\"type\":\"bar\"}],\"barpolar\":[{\"marker\":{\"line\":{\"color\":\"#E5ECF6\",\"width\":0.5},\"pattern\":{\"fillmode\":\"overlay\",\"size\":10,\"solidity\":0.2}},\"type\":\"barpolar\"}],\"carpet\":[{\"aaxis\":{\"endlinecolor\":\"#2a3f5f\",\"gridcolor\":\"white\",\"linecolor\":\"white\",\"minorgridcolor\":\"white\",\"startlinecolor\":\"#2a3f5f\"},\"baxis\":{\"endlinecolor\":\"#2a3f5f\",\"gridcolor\":\"white\",\"linecolor\":\"white\",\"minorgridcolor\":\"white\",\"startlinecolor\":\"#2a3f5f\"},\"type\":\"carpet\"}],\"choropleth\":[{\"colorbar\":{\"outlinewidth\":0,\"ticks\":\"\"},\"type\":\"choropleth\"}],\"contour\":[{\"colorbar\":{\"outlinewidth\":0,\"ticks\":\"\"},\"colorscale\":[[0.0,\"#0d0887\"],[0.1111111111111111,\"#46039f\"],[0.2222222222222222,\"#7201a8\"],[0.3333333333333333,\"#9c179e\"],[0.4444444444444444,\"#bd3786\"],[0.5555555555555556,\"#d8576b\"],[0.6666666666666666,\"#ed7953\"],[0.7777777777777778,\"#fb9f3a\"],[0.8888888888888888,\"#fdca26\"],[1.0,\"#f0f921\"]],\"type\":\"contour\"}],\"contourcarpet\":[{\"colorbar\":{\"outlinewidth\":0,\"ticks\":\"\"},\"type\":\"contourcarpet\"}],\"heatmap\":[{\"colorbar\":{\"outlinewidth\":0,\"ticks\":\"\"},\"colorscale\":[[0.0,\"#0d0887\"],[0.1111111111111111,\"#46039f\"],[0.2222222222222222,\"#7201a8\"],[0.3333333333333333,\"#9c179e\"],[0.4444444444444444,\"#bd3786\"],[0.5555555555555556,\"#d8576b\"],[0.6666666666666666,\"#ed7953\"],[0.7777777777777778,\"#fb9f3a\"],[0.8888888888888888,\"#fdca26\"],[1.0,\"#f0f921\"]],\"type\":\"heatmap\"}],\"heatmapgl\":[{\"colorbar\":{\"outlinewidth\":0,\"ticks\":\"\"},\"colorscale\":[[0.0,\"#0d0887\"],[0.1111111111111111,\"#46039f\"],[0.2222222222222222,\"#7201a8\"],[0.3333333333333333,\"#9c179e\"],[0.4444444444444444,\"#bd3786\"],[0.5555555555555556,\"#d8576b\"],[0.6666666666666666,\"#ed7953\"],[0.7777777777777778,\"#fb9f3a\"],[0.8888888888888888,\"#fdca26\"],[1.0,\"#f0f921\"]],\"type\":\"heatmapgl\"}],\"histogram\":[{\"marker\":{\"pattern\":{\"fillmode\":\"overlay\",\"size\":10,\"solidity\":0.2}},\"type\":\"histogram\"}],\"histogram2d\":[{\"colorbar\":{\"outlinewidth\":0,\"ticks\":\"\"},\"colorscale\":[[0.0,\"#0d0887\"],[0.1111111111111111,\"#46039f\"],[0.2222222222222222,\"#7201a8\"],[0.3333333333333333,\"#9c179e\"],[0.4444444444444444,\"#bd3786\"],[0.5555555555555556,\"#d8576b\"],[0.6666666666666666,\"#ed7953\"],[0.7777777777777778,\"#fb9f3a\"],[0.8888888888888888,\"#fdca26\"],[1.0,\"#f0f921\"]],\"type\":\"histogram2d\"}],\"histogram2dcontour\":[{\"colorbar\":{\"outlinewidth\":0,\"ticks\":\"\"},\"colorscale\":[[0.0,\"#0d0887\"],[0.1111111111111111,\"#46039f\"],[0.2222222222222222,\"#7201a8\"],[0.3333333333333333,\"#9c179e\"],[0.4444444444444444,\"#bd3786\"],[0.5555555555555556,\"#d8576b\"],[0.6666666666666666,\"#ed7953\"],[0.7777777777777778,\"#fb9f3a\"],[0.8888888888888888,\"#fdca26\"],[1.0,\"#f0f921\"]],\"type\":\"histogram2dcontour\"}],\"mesh3d\":[{\"colorbar\":{\"outlinewidth\":0,\"ticks\":\"\"},\"type\":\"mesh3d\"}],\"parcoords\":[{\"line\":{\"colorbar\":{\"outlinewidth\":0,\"ticks\":\"\"}},\"type\":\"parcoords\"}],\"pie\":[{\"automargin\":true,\"type\":\"pie\"}],\"scatter\":[{\"marker\":{\"colorbar\":{\"outlinewidth\":0,\"ticks\":\"\"}},\"type\":\"scatter\"}],\"scatter3d\":[{\"line\":{\"colorbar\":{\"outlinewidth\":0,\"ticks\":\"\"}},\"marker\":{\"colorbar\":{\"outlinewidth\":0,\"ticks\":\"\"}},\"type\":\"scatter3d\"}],\"scattercarpet\":[{\"marker\":{\"colorbar\":{\"outlinewidth\":0,\"ticks\":\"\"}},\"type\":\"scattercarpet\"}],\"scattergeo\":[{\"marker\":{\"colorbar\":{\"outlinewidth\":0,\"ticks\":\"\"}},\"type\":\"scattergeo\"}],\"scattergl\":[{\"marker\":{\"colorbar\":{\"outlinewidth\":0,\"ticks\":\"\"}},\"type\":\"scattergl\"}],\"scattermapbox\":[{\"marker\":{\"colorbar\":{\"outlinewidth\":0,\"ticks\":\"\"}},\"type\":\"scattermapbox\"}],\"scatterpolar\":[{\"marker\":{\"colorbar\":{\"outlinewidth\":0,\"ticks\":\"\"}},\"type\":\"scatterpolar\"}],\"scatterpolargl\":[{\"marker\":{\"colorbar\":{\"outlinewidth\":0,\"ticks\":\"\"}},\"type\":\"scatterpolargl\"}],\"scatterternary\":[{\"marker\":{\"colorbar\":{\"outlinewidth\":0,\"ticks\":\"\"}},\"type\":\"scatterternary\"}],\"surface\":[{\"colorbar\":{\"outlinewidth\":0,\"ticks\":\"\"},\"colorscale\":[[0.0,\"#0d0887\"],[0.1111111111111111,\"#46039f\"],[0.2222222222222222,\"#7201a8\"],[0.3333333333333333,\"#9c179e\"],[0.4444444444444444,\"#bd3786\"],[0.5555555555555556,\"#d8576b\"],[0.6666666666666666,\"#ed7953\"],[0.7777777777777778,\"#fb9f3a\"],[0.8888888888888888,\"#fdca26\"],[1.0,\"#f0f921\"]],\"type\":\"surface\"}],\"table\":[{\"cells\":{\"fill\":{\"color\":\"#EBF0F8\"},\"line\":{\"color\":\"white\"}},\"header\":{\"fill\":{\"color\":\"#C8D4E3\"},\"line\":{\"color\":\"white\"}},\"type\":\"table\"}]},\"layout\":{\"annotationdefaults\":{\"arrowcolor\":\"#2a3f5f\",\"arrowhead\":0,\"arrowwidth\":1},\"autotypenumbers\":\"strict\",\"coloraxis\":{\"colorbar\":{\"outlinewidth\":0,\"ticks\":\"\"}},\"colorscale\":{\"diverging\":[[0,\"#8e0152\"],[0.1,\"#c51b7d\"],[0.2,\"#de77ae\"],[0.3,\"#f1b6da\"],[0.4,\"#fde0ef\"],[0.5,\"#f7f7f7\"],[0.6,\"#e6f5d0\"],[0.7,\"#b8e186\"],[0.8,\"#7fbc41\"],[0.9,\"#4d9221\"],[1,\"#276419\"]],\"sequential\":[[0.0,\"#0d0887\"],[0.1111111111111111,\"#46039f\"],[0.2222222222222222,\"#7201a8\"],[0.3333333333333333,\"#9c179e\"],[0.4444444444444444,\"#bd3786\"],[0.5555555555555556,\"#d8576b\"],[0.6666666666666666,\"#ed7953\"],[0.7777777777777778,\"#fb9f3a\"],[0.8888888888888888,\"#fdca26\"],[1.0,\"#f0f921\"]],\"sequentialminus\":[[0.0,\"#0d0887\"],[0.1111111111111111,\"#46039f\"],[0.2222222222222222,\"#7201a8\"],[0.3333333333333333,\"#9c179e\"],[0.4444444444444444,\"#bd3786\"],[0.5555555555555556,\"#d8576b\"],[0.6666666666666666,\"#ed7953\"],[0.7777777777777778,\"#fb9f3a\"],[0.8888888888888888,\"#fdca26\"],[1.0,\"#f0f921\"]]},\"colorway\":[\"#636efa\",\"#EF553B\",\"#00cc96\",\"#ab63fa\",\"#FFA15A\",\"#19d3f3\",\"#FF6692\",\"#B6E880\",\"#FF97FF\",\"#FECB52\"],\"font\":{\"color\":\"#2a3f5f\"},\"geo\":{\"bgcolor\":\"white\",\"lakecolor\":\"white\",\"landcolor\":\"#E5ECF6\",\"showlakes\":true,\"showland\":true,\"subunitcolor\":\"white\"},\"hoverlabel\":{\"align\":\"left\"},\"hovermode\":\"closest\",\"mapbox\":{\"style\":\"light\"},\"paper_bgcolor\":\"white\",\"plot_bgcolor\":\"#E5ECF6\",\"polar\":{\"angularaxis\":{\"gridcolor\":\"white\",\"linecolor\":\"white\",\"ticks\":\"\"},\"bgcolor\":\"#E5ECF6\",\"radialaxis\":{\"gridcolor\":\"white\",\"linecolor\":\"white\",\"ticks\":\"\"}},\"scene\":{\"xaxis\":{\"backgroundcolor\":\"#E5ECF6\",\"gridcolor\":\"white\",\"gridwidth\":2,\"linecolor\":\"white\",\"showbackground\":true,\"ticks\":\"\",\"zerolinecolor\":\"white\"},\"yaxis\":{\"backgroundcolor\":\"#E5ECF6\",\"gridcolor\":\"white\",\"gridwidth\":2,\"linecolor\":\"white\",\"showbackground\":true,\"ticks\":\"\",\"zerolinecolor\":\"white\"},\"zaxis\":{\"backgroundcolor\":\"#E5ECF6\",\"gridcolor\":\"white\",\"gridwidth\":2,\"linecolor\":\"white\",\"showbackground\":true,\"ticks\":\"\",\"zerolinecolor\":\"white\"}},\"shapedefaults\":{\"line\":{\"color\":\"#2a3f5f\"}},\"ternary\":{\"aaxis\":{\"gridcolor\":\"white\",\"linecolor\":\"white\",\"ticks\":\"\"},\"baxis\":{\"gridcolor\":\"white\",\"linecolor\":\"white\",\"ticks\":\"\"},\"bgcolor\":\"#E5ECF6\",\"caxis\":{\"gridcolor\":\"white\",\"linecolor\":\"white\",\"ticks\":\"\"}},\"title\":{\"x\":0.05},\"xaxis\":{\"automargin\":true,\"gridcolor\":\"white\",\"linecolor\":\"white\",\"ticks\":\"\",\"title\":{\"standoff\":15},\"zerolinecolor\":\"white\",\"zerolinewidth\":2},\"yaxis\":{\"automargin\":true,\"gridcolor\":\"white\",\"linecolor\":\"white\",\"ticks\":\"\",\"title\":{\"standoff\":15},\"zerolinecolor\":\"white\",\"zerolinewidth\":2}}},\"title\":{\"font\":{\"color\":\"#4D5663\"},\"text\":\"Effects of Price Changes on Subsistence Diet Composition for Raw Vegan Diet\"},\"xaxis\":{\"gridcolor\":\"#E1E5ED\",\"showgrid\":true,\"tickfont\":{\"color\":\"#4D5663\"},\"title\":{\"font\":{\"color\":\"#4D5663\"},\"text\":\"change in log price\"},\"zerolinecolor\":\"#E1E5ED\"},\"yaxis\":{\"gridcolor\":\"#E1E5ED\",\"showgrid\":true,\"tickfont\":{\"color\":\"#4D5663\"},\"title\":{\"font\":{\"color\":\"#4D5663\"},\"text\":\"change in log cost\"},\"zerolinecolor\":\"#E1E5ED\"}},                        {\"showLink\": true, \"linkText\": \"Export to plot.ly\", \"plotlyServerURL\": \"https://plot.ly\", \"responsive\": true}                    ).then(function(){\n",
       "                            \n",
       "var gd = document.getElementById('fb33562b-fba3-42cf-9d44-f3a232876966');\n",
       "var x = new MutationObserver(function (mutations, observer) {{\n",
       "        var display = window.getComputedStyle(gd).display;\n",
       "        if (!display || display === 'none') {{\n",
       "            console.log([gd, 'removed!']);\n",
       "            Plotly.purge(gd);\n",
       "            observer.disconnect();\n",
       "        }}\n",
       "}});\n",
       "\n",
       "// Listen for the removal of the full notebook cells\n",
       "var notebookContainer = gd.closest('#notebook-container');\n",
       "if (notebookContainer) {{\n",
       "    x.observe(notebookContainer, {childList: true});\n",
       "}}\n",
       "\n",
       "// Listen for the clearing of the current output cell\n",
       "var outputEl = gd.closest('.output');\n",
       "if (outputEl) {{\n",
       "    x.observe(outputEl, {childList: true});\n",
       "}}\n",
       "\n",
       "                        })                };                });            </script>        </div>"
      ]
     },
     "metadata": {},
     "output_type": "display_data"
    }
   ],
   "source": [
    "getPriceChangesGraph(\"vegan\")"
   ]
  },
  {
   "cell_type": "code",
   "execution_count": 120,
   "id": "a79e245f",
   "metadata": {},
   "outputs": [
    {
     "data": {
      "text/html": [
       "        <script type=\"text/javascript\">\n",
       "        window.PlotlyConfig = {MathJaxConfig: 'local'};\n",
       "        if (window.MathJax) {MathJax.Hub.Config({SVG: {font: \"STIX-Web\"}});}\n",
       "        if (typeof require !== 'undefined') {\n",
       "        require.undef(\"plotly\");\n",
       "        requirejs.config({\n",
       "            paths: {\n",
       "                'plotly': ['https://cdn.plot.ly/plotly-2.3.1.min']\n",
       "            }\n",
       "        });\n",
       "        require(['plotly'], function(Plotly) {\n",
       "            window._Plotly = Plotly;\n",
       "        });\n",
       "        }\n",
       "        </script>\n",
       "        "
      ]
     },
     "metadata": {},
     "output_type": "display_data"
    },
    {
     "data": {
      "application/vnd.plotly.v1+json": {
       "config": {
        "linkText": "Export to plot.ly",
        "plotlyServerURL": "https://plot.ly",
        "showLink": true
       },
       "data": [
        {
         "line": {
          "color": "rgba(255, 153, 51, 1.0)",
          "dash": "solid",
          "shape": "linear",
          "width": 1.3
         },
         "mode": "lines",
         "name": "Beef",
         "text": "",
         "type": "scatter",
         "x": [
          -0.6931471805599453,
          -0.5108256237659907,
          -0.35667494393873245,
          -0.22314355131420968,
          -0.10536051565782628,
          0,
          0.09531017980432495,
          0.1823215567939546,
          0.26236426446749106,
          0.33647223662121284,
          0.4054651081081644
         ],
         "y": [
          8.254952277263816e-12,
          6.400475702944609e-10,
          3.575767111479677e-07,
          2.7743807247719295e-10,
          1.2177136690321444e-07,
          0,
          2.3565982470984417e-09,
          7.712578324004903e-09,
          1.581260376792037e-08,
          9.002880178574081e-09,
          2.1265489346815352e-09
         ]
        },
        {
         "line": {
          "color": "rgba(55, 128, 191, 1.0)",
          "dash": "solid",
          "shape": "linear",
          "width": 1.3
         },
         "mode": "lines",
         "name": "Pork",
         "text": "",
         "type": "scatter",
         "x": [
          -0.6931471805599453,
          -0.5108256237659907,
          -0.35667494393873245,
          -0.22314355131420968,
          -0.10536051565782628,
          0,
          0.09531017980432495,
          0.1823215567939546,
          0.26236426446749106,
          0.33647223662121284,
          0.4054651081081644
         ],
         "y": [
          4.1183510863965496e-08,
          1.3260960908037867e-08,
          2.389617392565082e-10,
          3.9032943448363564e-08,
          3.8775971681170387e-08,
          0,
          6.731393218339204e-10,
          5.5581539369474406e-11,
          1.262063341925429e-09,
          2.483739880123819e-10,
          4.330118816373737e-07
         ]
        },
        {
         "line": {
          "color": "rgba(50, 171, 96, 1.0)",
          "dash": "solid",
          "shape": "linear",
          "width": 1.3
         },
         "mode": "lines",
         "name": "Chicken, drumstick",
         "text": "",
         "type": "scatter",
         "x": [
          -0.6931471805599453,
          -0.5108256237659907,
          -0.35667494393873245,
          -0.22314355131420968,
          -0.10536051565782628,
          0,
          0.09531017980432495,
          0.1823215567939546,
          0.26236426446749106,
          0.33647223662121284,
          0.4054651081081644
         ],
         "y": [
          1.8180162321299363e-08,
          1.233928514844861e-10,
          4.286035969661355e-10,
          1.652987301225485e-09,
          2.0881740780746696e-11,
          0,
          2.709689136063698e-09,
          1.4583305663531463e-09,
          3.09938918493929e-09,
          2.1068824440649535e-09,
          1.3182603888687968e-09
         ]
        },
        {
         "line": {
          "color": "rgba(128, 0, 128, 1.0)",
          "dash": "solid",
          "shape": "linear",
          "width": 1.3
         },
         "mode": "lines",
         "name": "Canned Tuna",
         "text": "",
         "type": "scatter",
         "x": [
          -0.6931471805599453,
          -0.5108256237659907,
          -0.35667494393873245,
          -0.22314355131420968,
          -0.10536051565782628,
          0,
          0.09531017980432495,
          0.1823215567939546,
          0.26236426446749106,
          0.33647223662121284,
          0.4054651081081644
         ],
         "y": [
          1.1275250669512585e-08,
          5.19312814837907e-10,
          1.9126538112784455e-09,
          3.2807374540951487e-09,
          9.845080306062887e-11,
          0,
          1.3786462864669202e-07,
          4.020121513632834e-07,
          1.171939655743533e-09,
          4.941149710391777e-10,
          1.1047829317983906e-11
         ]
        },
        {
         "line": {
          "color": "rgba(219, 64, 82, 1.0)",
          "dash": "solid",
          "shape": "linear",
          "width": 1.3
         },
         "mode": "lines",
         "name": "Atlantic Salmon",
         "text": "",
         "type": "scatter",
         "x": [
          -0.6931471805599453,
          -0.5108256237659907,
          -0.35667494393873245,
          -0.22314355131420968,
          -0.10536051565782628,
          0,
          0.09531017980432495,
          0.1823215567939546,
          0.26236426446749106,
          0.33647223662121284,
          0.4054651081081644
         ],
         "y": [
          1.8187940041281217e-10,
          5.5153881460412473e-11,
          1.7007040219116234e-10,
          1.2857603869659812e-10,
          5.656599739609388e-08,
          0,
          6.922240558513893e-12,
          5.11543538878195e-08,
          1.0634673136452163e-09,
          7.41424699385588e-11,
          3.366396050751244e-11
         ]
        },
        {
         "line": {
          "color": "rgba(0, 128, 128, 1.0)",
          "dash": "solid",
          "shape": "linear",
          "width": 1.3
         },
         "mode": "lines",
         "name": "Bison",
         "text": "",
         "type": "scatter",
         "x": [
          -0.6931471805599453,
          -0.5108256237659907,
          -0.35667494393873245,
          -0.22314355131420968,
          -0.10536051565782628,
          0,
          0.09531017980432495,
          0.1823215567939546,
          0.26236426446749106,
          0.33647223662121284,
          0.4054651081081644
         ],
         "y": [
          6.2445604242871586e-12,
          1.9957369090462667e-11,
          2.4913335000244394e-07,
          9.081335683035025e-11,
          9.901421899699286e-10,
          0,
          2.4076617520722714e-08,
          2.6946045391362785e-10,
          3.2183901294175176e-07,
          -7.507994226358269e-12,
          1.7218558251184504e-07
         ]
        },
        {
         "line": {
          "color": "rgba(255, 255, 51, 1.0)",
          "dash": "solid",
          "shape": "linear",
          "width": 1.3
         },
         "mode": "lines",
         "name": "Bacon",
         "text": "",
         "type": "scatter",
         "x": [
          -0.6931471805599453,
          -0.5108256237659907,
          -0.35667494393873245,
          -0.22314355131420968,
          -0.10536051565782628,
          0,
          0.09531017980432495,
          0.1823215567939546,
          0.26236426446749106,
          0.33647223662121284,
          0.4054651081081644
         ],
         "y": [
          9.245435041442929e-09,
          3.0918156923098166e-11,
          2.5632837301719425e-08,
          1.0294344434973198e-08,
          2.712046197341172e-07,
          0,
          4.2950976108146116e-11,
          2.4088508965001894e-11,
          6.23596729790162e-11,
          1.8541942416623337e-07,
          1.2915624124919244e-10
         ]
        },
        {
         "line": {
          "color": "rgba(128, 128, 0, 1.0)",
          "dash": "solid",
          "shape": "linear",
          "width": 1.3
         },
         "mode": "lines",
         "name": "Eggs",
         "text": "",
         "type": "scatter",
         "x": [
          -0.6931471805599453,
          -0.5108256237659907,
          -0.35667494393873245,
          -0.22314355131420968,
          -0.10536051565782628,
          0,
          0.09531017980432495,
          0.1823215567939546,
          0.26236426446749106,
          0.33647223662121284,
          0.4054651081081644
         ],
         "y": [
          -0.010023936990499365,
          -0.008011095046216452,
          -0.006002296434604355,
          -0.003997525242116814,
          -0.0019967629037961755,
          0,
          0.001992786107921483,
          0.003981609026667184,
          0.00581490613451133,
          0.0075278828904374335,
          0.009237932018964019
         ]
        },
        {
         "line": {
          "color": "rgba(251, 128, 114, 1.0)",
          "dash": "solid",
          "shape": "linear",
          "width": 1.3
         },
         "mode": "lines",
         "name": "Turkey",
         "text": "",
         "type": "scatter",
         "x": [
          -0.6931471805599453,
          -0.5108256237659907,
          -0.35667494393873245,
          -0.22314355131420968,
          -0.10536051565782628,
          0,
          0.09531017980432495,
          0.1823215567939546,
          0.26236426446749106,
          0.33647223662121284,
          0.4054651081081644
         ],
         "y": [
          4.696463070276648e-07,
          8.592948574545578e-11,
          2.1134312055841886e-09,
          4.6956616824845374e-08,
          5.047617877954106e-10,
          0,
          4.045875404288256e-09,
          5.465039530533261e-10,
          3.212492493726264e-10,
          1.5988783284786442e-07,
          3.096214395501851e-10
         ]
        },
        {
         "line": {
          "color": "rgba(128, 177, 211, 1.0)",
          "dash": "solid",
          "shape": "linear",
          "width": 1.3
         },
         "mode": "lines",
         "name": "Sausage",
         "text": "",
         "type": "scatter",
         "x": [
          -0.6931471805599453,
          -0.5108256237659907,
          -0.35667494393873245,
          -0.22314355131420968,
          -0.10536051565782628,
          0,
          0.09531017980432495,
          0.1823215567939546,
          0.26236426446749106,
          0.33647223662121284,
          0.4054651081081644
         ],
         "y": [
          1.0129944525271843e-07,
          2.865010450692575e-10,
          6.426809286306664e-09,
          3.729377037884216e-07,
          3.263784348564598e-09,
          0,
          1.8478107932480536e-11,
          9.988350141994937e-10,
          3.2044804449283197e-07,
          4.179612013517255e-08,
          -1.4160006500774425e-11
         ]
        },
        {
         "line": {
          "color": "rgba(128, 177, 211, 0.9047619047619047)",
          "dash": "solid",
          "shape": "linear",
          "width": 1.3
         },
         "mode": "lines",
         "name": "Butter",
         "text": "",
         "type": "scatter",
         "x": [
          -0.6931471805599453,
          -0.5108256237659907,
          -0.35667494393873245,
          -0.22314355131420968,
          -0.10536051565782628,
          0,
          0.09531017980432495,
          0.1823215567939546,
          0.26236426446749106,
          0.33647223662121284,
          0.4054651081081644
         ],
         "y": [
          9.123835423297052e-09,
          2.4836799280805043e-10,
          4.437161779461352e-07,
          5.367239985643328e-11,
          -2.1547208461948254e-12,
          0,
          2.049383549649897e-09,
          1.7078429766908238e-09,
          2.6741275859973822e-11,
          2.437887669218084e-10,
          2.233333517870773e-10
         ]
        },
        {
         "line": {
          "color": "rgba(255, 153, 51, 0.9047619047619047)",
          "dash": "solid",
          "shape": "linear",
          "width": 1.3
         },
         "mode": "lines",
         "name": "Raw Liver",
         "text": "",
         "type": "scatter",
         "x": [
          -0.6931471805599453,
          -0.5108256237659907,
          -0.35667494393873245,
          -0.22314355131420968,
          -0.10536051565782628,
          0,
          0.09531017980432495,
          0.1823215567939546,
          0.26236426446749106,
          0.33647223662121284,
          0.4054651081081644
         ],
         "y": [
          -0.015479825815048047,
          -0.011106487907486551,
          -0.007920914990703272,
          -0.0052736318163563055,
          -0.0026333399525373994,
          0,
          0.002626425432783004,
          0.005245968245410847,
          0.00785900629465042,
          0.009584226449109534,
          0.011286641980995493
         ]
        },
        {
         "line": {
          "color": "rgba(55, 128, 191, 0.9047619047619047)",
          "dash": "solid",
          "shape": "linear",
          "width": 1.3
         },
         "mode": "lines",
         "name": "Whole milk",
         "text": "",
         "type": "scatter",
         "x": [
          -0.6931471805599453,
          -0.5108256237659907,
          -0.35667494393873245,
          -0.22314355131420968,
          -0.10536051565782628,
          0,
          0.09531017980432495,
          0.1823215567939546,
          0.26236426446749106,
          0.33647223662121284,
          0.4054651081081644
         ],
         "y": [
          -0.007812506879092103,
          -0.00044154068165256353,
          4.714304391205683e-08,
          1.9307619393426354e-07,
          8.81206218717217e-10,
          0,
          3.340422016492258e-08,
          4.926002704710208e-09,
          1.0852052589293698e-10,
          4.746492088146301e-11,
          1.4355585598834047e-09
         ]
        },
        {
         "line": {
          "color": "rgba(50, 171, 96, 0.9047619047619047)",
          "dash": "solid",
          "shape": "linear",
          "width": 1.3
         },
         "mode": "lines",
         "name": "Yogurt",
         "text": "",
         "type": "scatter",
         "x": [
          -0.6931471805599453,
          -0.5108256237659907,
          -0.35667494393873245,
          -0.22314355131420968,
          -0.10536051565782628,
          0,
          0.09531017980432495,
          0.1823215567939546,
          0.26236426446749106,
          0.33647223662121284,
          0.4054651081081644
         ],
         "y": [
          2.1738631818804274e-07,
          5.8016219921676695e-08,
          1.6326473493139522e-09,
          1.9252679432154254e-09,
          3.55209128146422e-09,
          0,
          1.1949363713591934e-09,
          4.0986503071976303e-10,
          1.0562033464473974e-09,
          3.978146344869666e-07,
          8.518519223307618e-12
         ]
        },
        {
         "line": {
          "color": "rgba(128, 0, 128, 0.9047619047619047)",
          "dash": "solid",
          "shape": "linear",
          "width": 1.3
         },
         "mode": "lines",
         "name": "2% milk",
         "text": "",
         "type": "scatter",
         "x": [
          -0.6931471805599453,
          -0.5108256237659907,
          -0.35667494393873245,
          -0.22314355131420968,
          -0.10536051565782628,
          0,
          0.09531017980432495,
          0.1823215567939546,
          0.26236426446749106,
          0.33647223662121284,
          0.4054651081081644
         ],
         "y": [
          -0.13050516195298598,
          -0.10031249366221645,
          -0.07118607875301182,
          -0.04288405675152892,
          -0.01692164554820546,
          0,
          0.015889304319416705,
          0.03123307698746083,
          0.045301281064882425,
          0.05182582223304507,
          0.05402621987289928
         ]
        },
        {
         "line": {
          "color": "rgba(219, 64, 82, 0.9047619047619047)",
          "dash": "solid",
          "shape": "linear",
          "width": 1.3
         },
         "mode": "lines",
         "name": "Cheddar Cheese",
         "text": "",
         "type": "scatter",
         "x": [
          -0.6931471805599453,
          -0.5108256237659907,
          -0.35667494393873245,
          -0.22314355131420968,
          -0.10536051565782628,
          0,
          0.09531017980432495,
          0.1823215567939546,
          0.26236426446749106,
          0.33647223662121284,
          0.4054651081081644
         ],
         "y": [
          2.2134671870725475e-10,
          4.4982106918042786e-10,
          9.990956945654152e-10,
          -1.2781886660288654e-11,
          8.306311194072074e-11,
          0,
          1.2254819380745514e-10,
          2.398750972752579e-09,
          2.063832436151863e-09,
          3.625268254604739e-07,
          4.906297590411456e-12
         ]
        },
        {
         "line": {
          "color": "rgba(0, 128, 128, 0.9047619047619047)",
          "dash": "solid",
          "shape": "linear",
          "width": 1.3
         },
         "mode": "lines",
         "name": "Swiss Cheese",
         "text": "",
         "type": "scatter",
         "x": [
          -0.6931471805599453,
          -0.5108256237659907,
          -0.35667494393873245,
          -0.22314355131420968,
          -0.10536051565782628,
          0,
          0.09531017980432495,
          0.1823215567939546,
          0.26236426446749106,
          0.33647223662121284,
          0.4054651081081644
         ],
         "y": [
          3.952249637891342e-10,
          2.886216377938713e-07,
          4.4884096438538536e-11,
          1.5859666343233547e-08,
          3.024746004642439e-09,
          0,
          8.027687400488882e-10,
          3.3664784577769515e-07,
          9.599923074087912e-10,
          6.101581460441865e-10,
          1.6716605875923265e-10
         ]
        },
        {
         "line": {
          "color": "rgba(255, 255, 51, 0.9047619047619047)",
          "dash": "solid",
          "shape": "linear",
          "width": 1.3
         },
         "mode": "lines",
         "name": "Ghee",
         "text": "",
         "type": "scatter",
         "x": [
          -0.6931471805599453,
          -0.5108256237659907,
          -0.35667494393873245,
          -0.22314355131420968,
          -0.10536051565782628,
          0,
          0.09531017980432495,
          0.1823215567939546,
          0.26236426446749106,
          0.33647223662121284,
          0.4054651081081644
         ],
         "y": [
          1.2481482513424952e-10,
          -3.598232822816606e-12,
          5.764657451767393e-08,
          3.945260618089091e-08,
          4.266123889488696e-09,
          0,
          1.856292578332705e-07,
          1.8189534267623857e-07,
          1.538318361464148e-10,
          2.4688374817281546e-08,
          4.940789543057635e-09
         ]
        },
        {
         "line": {
          "color": "rgba(128, 128, 0, 0.9047619047619047)",
          "dash": "solid",
          "shape": "linear",
          "width": 1.3
         },
         "mode": "lines",
         "name": "Russet Potato",
         "text": "",
         "type": "scatter",
         "x": [
          -0.6931471805599453,
          -0.5108256237659907,
          -0.35667494393873245,
          -0.22314355131420968,
          -0.10536051565782628,
          0,
          0.09531017980432495,
          0.1823215567939546,
          0.26236426446749106,
          0.33647223662121284,
          0.4054651081081644
         ],
         "y": [
          -0.11706826353607652,
          -0.06502534062628698,
          -0.016924788766440654,
          -0.00047622183971335395,
          1.837752172645135e-11,
          0,
          8.060636599387203e-10,
          7.462437331953216e-10,
          5.3059778792744715e-12,
          4.5259201583696945e-08,
          1.1984568892124012e-10
         ]
        },
        {
         "line": {
          "color": "rgba(251, 128, 114, 0.9047619047619047)",
          "dash": "solid",
          "shape": "linear",
          "width": 1.3
         },
         "mode": "lines",
         "name": "Pasta",
         "text": "",
         "type": "scatter",
         "x": [
          -0.6931471805599453,
          -0.5108256237659907,
          -0.35667494393873245,
          -0.22314355131420968,
          -0.10536051565782628,
          0,
          0.09531017980432495,
          0.1823215567939546,
          0.26236426446749106,
          0.33647223662121284,
          0.4054651081081644
         ],
         "y": [
          1.4597878460520842e-10,
          4.234097516145467e-10,
          1.775439601785297e-08,
          2.1976087613922994e-10,
          1.6782344926607072e-07,
          0,
          5.6605387042726294e-11,
          4.5279335835287275e-11,
          5.013724204595104e-07,
          4.868513346398406e-07,
          5.996410262380224e-07
         ]
        },
        {
         "line": {
          "color": "rgba(251, 128, 114, 0.8095238095238095)",
          "dash": "solid",
          "shape": "linear",
          "width": 1.3
         },
         "mode": "lines",
         "name": "Lemon, raw",
         "text": "",
         "type": "scatter",
         "x": [
          -0.6931471805599453,
          -0.5108256237659907,
          -0.35667494393873245,
          -0.22314355131420968,
          -0.10536051565782628,
          0,
          0.09531017980432495,
          0.1823215567939546,
          0.26236426446749106,
          0.33647223662121284,
          0.4054651081081644
         ],
         "y": [
          2.814859404632049e-07,
          -8.327227796235659e-12,
          1.1558998202374796e-10,
          3.2828784130185904e-10,
          1.7091830711147078e-07,
          0,
          -8.371858761825962e-12,
          -2.4606983117822246e-12,
          5.061891400043778e-08,
          3.447937490480113e-10,
          1.2012096134458701e-08
         ]
        },
        {
         "line": {
          "color": "rgba(128, 177, 211, 0.8095238095238095)",
          "dash": "solid",
          "shape": "linear",
          "width": 1.3
         },
         "mode": "lines",
         "name": "Lime, raw",
         "text": "",
         "type": "scatter",
         "x": [
          -0.6931471805599453,
          -0.5108256237659907,
          -0.35667494393873245,
          -0.22314355131420968,
          -0.10536051565782628,
          0,
          0.09531017980432495,
          0.1823215567939546,
          0.26236426446749106,
          0.33647223662121284,
          0.4054651081081644
         ],
         "y": [
          9.826750698173045e-09,
          9.046966024261049e-09,
          1.7025207321119344e-08,
          1.533180249306972e-10,
          3.4412916959899077e-11,
          0,
          1.3301360013340612e-11,
          3.4071190312931157e-11,
          6.184180037811955e-09,
          4.328583038184254e-09,
          3.247735413883231e-11
         ]
        },
        {
         "line": {
          "color": "rgba(255, 153, 51, 0.8095238095238095)",
          "dash": "solid",
          "shape": "linear",
          "width": 1.3
         },
         "mode": "lines",
         "name": "Nuts, pecans, halves, raw",
         "text": "",
         "type": "scatter",
         "x": [
          -0.6931471805599453,
          -0.5108256237659907,
          -0.35667494393873245,
          -0.22314355131420968,
          -0.10536051565782628,
          0,
          0.09531017980432495,
          0.1823215567939546,
          0.26236426446749106,
          0.33647223662121284,
          0.4054651081081644
         ],
         "y": [
          6.498537261754406e-10,
          7.282241476237649e-11,
          -4.514499885043464e-12,
          3.4759595196119505e-10,
          3.1727953592704407e-10,
          0,
          1.33018795889576e-09,
          3.1877802569007716e-09,
          -1.2306933250348053e-11,
          2.758845828699373e-07,
          2.3794299863738046e-12
         ]
        },
        {
         "line": {
          "color": "rgba(55, 128, 191, 0.8095238095238095)",
          "dash": "solid",
          "shape": "linear",
          "width": 1.3
         },
         "mode": "lines",
         "name": "Nuts, walnuts, English, halves, raw",
         "text": "",
         "type": "scatter",
         "x": [
          -0.6931471805599453,
          -0.5108256237659907,
          -0.35667494393873245,
          -0.22314355131420968,
          -0.10536051565782628,
          0,
          0.09531017980432495,
          0.1823215567939546,
          0.26236426446749106,
          0.33647223662121284,
          0.4054651081081644
         ],
         "y": [
          1.1039797015567815e-08,
          3.0726643447107663e-10,
          1.3958167954699903e-11,
          5.847752666536757e-08,
          2.2039972793851923e-07,
          0,
          6.212293327111866e-09,
          2.3023760673105044e-10,
          9.168092947280989e-10,
          2.6132696003738253e-10,
          1.3036135197392282e-08
         ]
        },
        {
         "line": {
          "color": "rgba(50, 171, 96, 0.8095238095238095)",
          "dash": "solid",
          "shape": "linear",
          "width": 1.3
         },
         "mode": "lines",
         "name": "Cashews, NFS",
         "text": "",
         "type": "scatter",
         "x": [
          -0.6931471805599453,
          -0.5108256237659907,
          -0.35667494393873245,
          -0.22314355131420968,
          -0.10536051565782628,
          0,
          0.09531017980432495,
          0.1823215567939546,
          0.26236426446749106,
          0.33647223662121284,
          0.4054651081081644
         ],
         "y": [
          8.483573839822249e-10,
          1.0484058066085321e-11,
          6.473801396349082e-08,
          2.4868174183473154e-10,
          3.0705342665736934e-09,
          0,
          1.1205574405537929e-08,
          5.225153643082186e-12,
          -1.2538192706380346e-11,
          -2.9367619447427765e-12,
          2.5226487565500988e-12
         ]
        },
        {
         "line": {
          "color": "rgba(128, 0, 128, 0.8095238095238095)",
          "dash": "solid",
          "shape": "linear",
          "width": 1.3
         },
         "mode": "lines",
         "name": "Pistachio nuts, NFS",
         "text": "",
         "type": "scatter",
         "x": [
          -0.6931471805599453,
          -0.5108256237659907,
          -0.35667494393873245,
          -0.22314355131420968,
          -0.10536051565782628,
          0,
          0.09531017980432495,
          0.1823215567939546,
          0.26236426446749106,
          0.33647223662121284,
          0.4054651081081644
         ],
         "y": [
          -0.05936756481569484,
          -0.00276697454125616,
          5.650502288130586e-11,
          8.361533684166142e-10,
          2.0315900052705372e-09,
          0,
          1.6459138483026607e-09,
          4.841668548780345e-08,
          7.818488217626364e-08,
          1.0348695209310991e-07,
          1.435316310146839e-10
         ]
        },
        {
         "line": {
          "color": "rgba(219, 64, 82, 0.8095238095238095)",
          "dash": "solid",
          "shape": "linear",
          "width": 1.3
         },
         "mode": "lines",
         "name": "Almond butter, creamy",
         "text": "",
         "type": "scatter",
         "x": [
          -0.6931471805599453,
          -0.5108256237659907,
          -0.35667494393873245,
          -0.22314355131420968,
          -0.10536051565782628,
          0,
          0.09531017980432495,
          0.1823215567939546,
          0.26236426446749106,
          0.33647223662121284,
          0.4054651081081644
         ],
         "y": [
          -0.050257096414712044,
          -0.02454805881055369,
          -0.005016918839912137,
          -3.0035888310007383e-05,
          3.2032376745959576e-10,
          0,
          1.4340138529287581e-08,
          1.0164633749664041e-08,
          1.278861461091845e-10,
          1.8232104713192764e-10,
          2.2368992852076004e-08
         ]
        },
        {
         "line": {
          "color": "rgba(0, 128, 128, 0.8095238095238095)",
          "dash": "solid",
          "shape": "linear",
          "width": 1.3
         },
         "mode": "lines",
         "name": "Peanut butter, creamy",
         "text": "",
         "type": "scatter",
         "x": [
          -0.6931471805599453,
          -0.5108256237659907,
          -0.35667494393873245,
          -0.22314355131420968,
          -0.10536051565782628,
          0,
          0.09531017980432495,
          0.1823215567939546,
          0.26236426446749106,
          0.33647223662121284,
          0.4054651081081644
         ],
         "y": [
          -0.10877402852492772,
          -0.08368497278306283,
          -0.061048798083593245,
          -0.03932871087106455,
          -0.018070374003543298,
          0,
          0.01640468928538284,
          0.0319064933976678,
          0.041194690450142825,
          0.04119469046492911,
          0.041195222516290285
         ]
        },
        {
         "line": {
          "color": "rgba(255, 255, 51, 0.8095238095238095)",
          "dash": "solid",
          "shape": "linear",
          "width": 1.3
         },
         "mode": "lines",
         "name": "Sweet Potato",
         "text": "",
         "type": "scatter",
         "x": [
          -0.6931471805599453,
          -0.5108256237659907,
          -0.35667494393873245,
          -0.22314355131420968,
          -0.10536051565782628,
          0,
          0.09531017980432495,
          0.1823215567939546,
          0.26236426446749106,
          0.33647223662121284,
          0.4054651081081644
         ],
         "y": [
          5.05938156755368e-09,
          9.424052644924328e-10,
          1.3573171466444405e-09,
          6.143552333337543e-11,
          9.167830934647419e-10,
          0,
          4.2852061710221776e-07,
          2.6002600623238067e-08,
          1.5642365311977497e-07,
          1.2075807020276732e-10,
          7.397595639994216e-08
         ]
        },
        {
         "line": {
          "color": "rgba(128, 128, 0, 0.8095238095238095)",
          "dash": "solid",
          "shape": "linear",
          "width": 1.3
         },
         "mode": "lines",
         "name": "Carrots",
         "text": "",
         "type": "scatter",
         "x": [
          -0.6931471805599453,
          -0.5108256237659907,
          -0.35667494393873245,
          -0.22314355131420968,
          -0.10536051565782628,
          0,
          0.09531017980432495,
          0.1823215567939546,
          0.26236426446749106,
          0.33647223662121284,
          0.4054651081081644
         ],
         "y": [
          -0.03951512846358595,
          -0.014365672126661825,
          -0.001028315685101258,
          3.5942653762379156e-08,
          2.83935775216227e-07,
          0,
          1.02547732154787e-07,
          2.733547606753354e-09,
          1.0068721407113001e-09,
          9.511307292793058e-10,
          1.17533938068555e-09
         ]
        },
        {
         "line": {
          "color": "rgba(128, 128, 0, 0.7142857142857142)",
          "dash": "solid",
          "shape": "linear",
          "width": 1.3
         },
         "mode": "lines",
         "name": "White rice (glutinous)",
         "text": "",
         "type": "scatter",
         "x": [
          -0.6931471805599453,
          -0.5108256237659907,
          -0.35667494393873245,
          -0.22314355131420968,
          -0.10536051565782628,
          0,
          0.09531017980432495,
          0.1823215567939546,
          0.26236426446749106,
          0.33647223662121284,
          0.4054651081081644
         ],
         "y": [
          1.784310476989477e-10,
          2.6162396659284065e-09,
          9.193241719211711e-10,
          1.1828922607915968e-07,
          4.410400931105283e-07,
          0,
          4.2080077805957836e-07,
          8.918477063988152e-10,
          2.5671686998077976e-11,
          2.2895687078646375e-07,
          -9.08861874653022e-12
         ]
        },
        {
         "line": {
          "color": "rgba(251, 128, 114, 0.7142857142857142)",
          "dash": "solid",
          "shape": "linear",
          "width": 1.3
         },
         "mode": "lines",
         "name": "Wild rice",
         "text": "",
         "type": "scatter",
         "x": [
          -0.6931471805599453,
          -0.5108256237659907,
          -0.35667494393873245,
          -0.22314355131420968,
          -0.10536051565782628,
          0,
          0.09531017980432495,
          0.1823215567939546,
          0.26236426446749106,
          0.33647223662121284,
          0.4054651081081644
         ],
         "y": [
          1.825970485757991e-10,
          1.0666156846070462e-10,
          1.8214451375905937e-07,
          1.0202265693717707e-09,
          5.0266907816229366e-08,
          0,
          2.694779491725284e-07,
          2.5232593788984825e-10,
          1.0146483652757997e-10,
          2.688253616095904e-09,
          2.653640637038825e-09
         ]
        },
        {
         "line": {
          "color": "rgba(128, 177, 211, 0.7142857142857142)",
          "dash": "solid",
          "shape": "linear",
          "width": 1.3
         },
         "mode": "lines",
         "name": "Whole grain bread",
         "text": "",
         "type": "scatter",
         "x": [
          -0.6931471805599453,
          -0.5108256237659907,
          -0.35667494393873245,
          -0.22314355131420968,
          -0.10536051565782628,
          0,
          0.09531017980432495,
          0.1823215567939546,
          0.26236426446749106,
          0.33647223662121284,
          0.4054651081081644
         ],
         "y": [
          1.498648727210782e-08,
          1.5308432287859276e-09,
          1.378758217755879e-09,
          9.513054783832158e-10,
          3.3403688648179826e-09,
          0,
          1.3912825683554453e-08,
          8.7365758690006e-09,
          1.3968604050253184e-10,
          3.374545087239278e-10,
          2.9141056192289327e-09
         ]
        },
        {
         "line": {
          "color": "rgba(255, 153, 51, 0.7142857142857142)",
          "dash": "solid",
          "shape": "linear",
          "width": 1.3
         },
         "mode": "lines",
         "name": "White bread",
         "text": "",
         "type": "scatter",
         "x": [
          -0.6931471805599453,
          -0.5108256237659907,
          -0.35667494393873245,
          -0.22314355131420968,
          -0.10536051565782628,
          0,
          0.09531017980432495,
          0.1823215567939546,
          0.26236426446749106,
          0.33647223662121284,
          0.4054651081081644
         ],
         "y": [
          2.6870765399677465e-07,
          7.665793528120697e-08,
          1.1785994395712223e-09,
          4.0361758371813345e-10,
          1.816864436511674e-10,
          0,
          1.729958202487971e-07,
          1.6322208016285875e-09,
          6.0095312989621895e-09,
          2.519751131531122e-08,
          2.8620685766816527e-07
         ]
        },
        {
         "line": {
          "color": "rgba(55, 128, 191, 0.7142857142857142)",
          "dash": "solid",
          "shape": "linear",
          "width": 1.3
         },
         "mode": "lines",
         "name": "Whole wheat pasta",
         "text": "",
         "type": "scatter",
         "x": [
          -0.6931471805599453,
          -0.5108256237659907,
          -0.35667494393873245,
          -0.22314355131420968,
          -0.10536051565782628,
          0,
          0.09531017980432495,
          0.1823215567939546,
          0.26236426446749106,
          0.33647223662121284,
          0.4054651081081644
         ],
         "y": [
          3.07409177828877e-08,
          2.0072536986489512e-08,
          1.3888429643150459e-08,
          1.1286482858781432e-10,
          1.2276155640048464e-09,
          0,
          9.415423995574329e-11,
          1.8351631324002045e-10,
          1.575806152107804e-10,
          5.4659388125271583e-11,
          1.0656586724110246e-11
         ]
        },
        {
         "line": {
          "color": "rgba(50, 171, 96, 0.7142857142857142)",
          "dash": "solid",
          "shape": "linear",
          "width": 1.3
         },
         "mode": "lines",
         "name": "Lettuce, iceberg, raw",
         "text": "",
         "type": "scatter",
         "x": [
          -0.6931471805599453,
          -0.5108256237659907,
          -0.35667494393873245,
          -0.22314355131420968,
          -0.10536051565782628,
          0,
          0.09531017980432495,
          0.1823215567939546,
          0.26236426446749106,
          0.33647223662121284,
          0.4054651081081644
         ],
         "y": [
          1.219567557309186e-09,
          3.7691798173547934e-07,
          2.2012377829177154e-07,
          -5.719313911372849e-12,
          2.065193416190146e-07,
          0,
          1.4163467631673835e-08,
          1.6914047938589402e-10,
          1.4562790962512336e-09,
          4.323170364235491e-07,
          1.8398829854610211e-07
         ]
        },
        {
         "line": {
          "color": "rgba(128, 0, 128, 0.7142857142857142)",
          "dash": "solid",
          "shape": "linear",
          "width": 1.3
         },
         "mode": "lines",
         "name": "Lettuce, romaine, green, raw",
         "text": "",
         "type": "scatter",
         "x": [
          -0.6931471805599453,
          -0.5108256237659907,
          -0.35667494393873245,
          -0.22314355131420968,
          -0.10536051565782628,
          0,
          0.09531017980432495,
          0.1823215567939546,
          0.26236426446749106,
          0.33647223662121284,
          0.4054651081081644
         ],
         "y": [
          1.0884453456819273e-07,
          5.541650678530512e-09,
          -1.9009460672417536e-11,
          1.6779375652609373e-09,
          1.3332490658151799e-09,
          0,
          3.742804152063684e-08,
          1.316449524891675e-07,
          1.295148432861e-10,
          3.933989224392382e-07,
          1.3307468451656128e-09
         ]
        },
        {
         "line": {
          "color": "rgba(219, 64, 82, 0.7142857142857142)",
          "dash": "solid",
          "shape": "linear",
          "width": 1.3
         },
         "mode": "lines",
         "name": "Cucumber, with peel, raw",
         "text": "",
         "type": "scatter",
         "x": [
          -0.6931471805599453,
          -0.5108256237659907,
          -0.35667494393873245,
          -0.22314355131420968,
          -0.10536051565782628,
          0,
          0.09531017980432495,
          0.1823215567939546,
          0.26236426446749106,
          0.33647223662121284,
          0.4054651081081644
         ],
         "y": [
          1.2477468479373885e-07,
          1.1112731494830991e-07,
          4.422300302752416e-10,
          9.482226110913644e-10,
          1.2235637761399947e-08,
          0,
          3.9723580968319056e-08,
          3.136416632740333e-08,
          4.141538214902677e-09,
          8.393663541642288e-11,
          1.3036929228889142e-08
         ]
        },
        {
         "line": {
          "color": "rgba(0, 128, 128, 0.7142857142857142)",
          "dash": "solid",
          "shape": "linear",
          "width": 1.3
         },
         "mode": "lines",
         "name": "Broccoli, raw",
         "text": "",
         "type": "scatter",
         "x": [
          -0.6931471805599453,
          -0.5108256237659907,
          -0.35667494393873245,
          -0.22314355131420968,
          -0.10536051565782628,
          0,
          0.09531017980432495,
          0.1823215567939546,
          0.26236426446749106,
          0.33647223662121284,
          0.4054651081081644
         ],
         "y": [
          1.8996033616934575e-09,
          2.9488836271041948e-08,
          -3.3822944445262594e-12,
          1.3613414830586314e-09,
          3.4034230931105363e-09,
          0,
          7.344598260206745e-10,
          1.6013526047910269e-09,
          1.1881398080551414e-09,
          2.85571566393675e-12,
          7.502787277530001e-10
         ]
        },
        {
         "line": {
          "color": "rgba(255, 255, 51, 0.7142857142857142)",
          "dash": "solid",
          "shape": "linear",
          "width": 1.3
         },
         "mode": "lines",
         "name": "Kale, raw",
         "text": "",
         "type": "scatter",
         "x": [
          -0.6931471805599453,
          -0.5108256237659907,
          -0.35667494393873245,
          -0.22314355131420968,
          -0.10536051565782628,
          0,
          0.09531017980432495,
          0.1823215567939546,
          0.26236426446749106,
          0.33647223662121284,
          0.4054651081081644
         ],
         "y": [
          -0.0008954445548504369,
          5.312320619960161e-08,
          2.241145047070288e-10,
          1.3098411244519018e-12,
          2.7973690027134135e-10,
          0,
          2.3146284886074392e-10,
          2.0702919357403853e-09,
          1.5785188699244703e-09,
          4.99402741370467e-11,
          3.532329984005996e-11
         ]
        },
        {
         "line": {
          "color": "rgba(255, 255, 51, 0.6190476190476191)",
          "dash": "solid",
          "shape": "linear",
          "width": 1.3
         },
         "mode": "lines",
         "name": "Spinach, mature",
         "text": "",
         "type": "scatter",
         "x": [
          -0.6931471805599453,
          -0.5108256237659907,
          -0.35667494393873245,
          -0.22314355131420968,
          -0.10536051565782628,
          0,
          0.09531017980432495,
          0.1823215567939546,
          0.26236426446749106,
          0.33647223662121284,
          0.4054651081081644
         ],
         "y": [
          1.4092568318505474e-07,
          7.756641992362908e-10,
          3.8233061154154577e-10,
          2.722730510092259e-07,
          9.375389353705648e-12,
          0,
          2.2915358497005542e-10,
          2.4857256222446962e-09,
          4.969002985619771e-10,
          1.6135748280048735e-09,
          9.451328608589293e-12
         ]
        },
        {
         "line": {
          "color": "rgba(128, 128, 0, 0.6190476190476191)",
          "dash": "solid",
          "shape": "linear",
          "width": 1.3
         },
         "mode": "lines",
         "name": "Lettuce, arugula, raw",
         "text": "",
         "type": "scatter",
         "x": [
          -0.6931471805599453,
          -0.5108256237659907,
          -0.35667494393873245,
          -0.22314355131420968,
          -0.10536051565782628,
          0,
          0.09531017980432495,
          0.1823215567939546,
          0.26236426446749106,
          0.33647223662121284,
          0.4054651081081644
         ],
         "y": [
          2.0805314882651085e-07,
          1.6584602566386155e-09,
          1.1021936178067059e-07,
          4.2721381987566896e-13,
          6.07786931709636e-10,
          0,
          3.7079296064797337e-07,
          7.024070214109783e-11,
          1.9053580933420265e-10,
          3.716660305940116e-09,
          2.359062584097098e-08
         ]
        },
        {
         "line": {
          "color": "rgba(251, 128, 114, 0.6190476190476191)",
          "dash": "solid",
          "shape": "linear",
          "width": 1.3
         },
         "mode": "lines",
         "name": "Collards, raw",
         "text": "",
         "type": "scatter",
         "x": [
          -0.6931471805599453,
          -0.5108256237659907,
          -0.35667494393873245,
          -0.22314355131420968,
          -0.10536051565782628,
          0,
          0.09531017980432495,
          0.1823215567939546,
          0.26236426446749106,
          0.33647223662121284,
          0.4054651081081644
         ],
         "y": [
          -0.0034409913867816514,
          -0.0022404800334824403,
          -0.0016798891300228466,
          -0.0011196130119520116,
          -0.0005595352838347427,
          0,
          0.0005593374142166019,
          0.0011187246397891786,
          0.0016770731179304487,
          0.002235473121614888,
          0.0027935621436318485
         ]
        },
        {
         "line": {
          "color": "rgba(128, 177, 211, 0.6190476190476191)",
          "dash": "solid",
          "shape": "linear",
          "width": 1.3
         },
         "mode": "lines",
         "name": "Cabbage, green, raw",
         "text": "",
         "type": "scatter",
         "x": [
          -0.6931471805599453,
          -0.5108256237659907,
          -0.35667494393873245,
          -0.22314355131420968,
          -0.10536051565782628,
          0,
          0.09531017980432495,
          0.1823215567939546,
          0.26236426446749106,
          0.33647223662121284,
          0.4054651081081644
         ],
         "y": [
          -0.008109329136434402,
          1.2126249042428324e-08,
          1.663304369281998e-08,
          1.4129131188377729e-09,
          1.5611529834451501e-09,
          0,
          2.627242867358096e-10,
          5.690333299465547e-09,
          6.686253660361935e-08,
          7.87351139931672e-08,
          1.5553800457707e-09
         ]
        },
        {
         "line": {
          "color": "rgba(255, 153, 51, 0.6190476190476191)",
          "dash": "solid",
          "shape": "linear",
          "width": 1.3
         },
         "mode": "lines",
         "name": "Carrots, raw",
         "text": "",
         "type": "scatter",
         "x": [
          -0.6931471805599453,
          -0.5108256237659907,
          -0.35667494393873245,
          -0.22314355131420968,
          -0.10536051565782628,
          0,
          0.09531017980432495,
          0.1823215567939546,
          0.26236426446749106,
          0.33647223662121284,
          0.4054651081081644
         ],
         "y": [
          -0.1419361421375112,
          -0.06038036885917845,
          -0.015676062547939438,
          1.8366130836700987e-10,
          9.273149316505427e-09,
          0,
          6.26544858475324e-09,
          2.36376858349737e-07,
          1.0798046895242776e-09,
          2.0513637467005995e-08,
          4.5181838168665925e-09
         ]
        },
        {
         "line": {
          "color": "rgba(55, 128, 191, 0.6190476190476191)",
          "dash": "solid",
          "shape": "linear",
          "width": 1.3
         },
         "mode": "lines",
         "name": "Asparagus, raw",
         "text": "",
         "type": "scatter",
         "x": [
          -0.6931471805599453,
          -0.5108256237659907,
          -0.35667494393873245,
          -0.22314355131420968,
          -0.10536051565782628,
          0,
          0.09531017980432495,
          0.1823215567939546,
          0.26236426446749106,
          0.33647223662121284,
          0.4054651081081644
         ],
         "y": [
          2.199840309889074e-11,
          1.6843018077165996e-09,
          4.305708030679886e-08,
          1.2061905479724664e-07,
          5.06328133693024e-09,
          0,
          1.975413164426265e-09,
          1.087232969729391e-09,
          3.369425703859119e-08,
          4.1422602267424625e-08,
          8.921046120064843e-10
         ]
        },
        {
         "line": {
          "color": "rgba(50, 171, 96, 0.6190476190476191)",
          "dash": "solid",
          "shape": "linear",
          "width": 1.3
         },
         "mode": "lines",
         "name": "Celery, raw",
         "text": "",
         "type": "scatter",
         "x": [
          -0.6931471805599453,
          -0.5108256237659907,
          -0.35667494393873245,
          -0.22314355131420968,
          -0.10536051565782628,
          0,
          0.09531017980432495,
          0.1823215567939546,
          0.26236426446749106,
          0.33647223662121284,
          0.4054651081081644
         ],
         "y": [
          1.7359092411177518e-07,
          1.6630645943040558e-07,
          1.9743853290519017e-07,
          7.103915231318182e-10,
          1.3451639801137603e-10,
          0,
          1.3014345156256115e-10,
          2.9544597664897062e-08,
          3.208817655515935e-10,
          2.022382261636735e-11,
          1.016369210963794e-10
         ]
        },
        {
         "line": {
          "color": "rgba(128, 0, 128, 0.6190476190476191)",
          "dash": "solid",
          "shape": "linear",
          "width": 1.3
         },
         "mode": "lines",
         "name": "Avocado, raw",
         "text": "",
         "type": "scatter",
         "x": [
          -0.6931471805599453,
          -0.5108256237659907,
          -0.35667494393873245,
          -0.22314355131420968,
          -0.10536051565782628,
          0,
          0.09531017980432495,
          0.1823215567939546,
          0.26236426446749106,
          0.33647223662121284,
          0.4054651081081644
         ],
         "y": [
          -0.31998201349816036,
          -0.24551831089862292,
          -0.17696234373802003,
          -0.1131746258795849,
          -0.05426166481198228,
          0,
          0.04529131230295309,
          0.08552265463842147,
          0.09318427145794256,
          0.09317282391570267,
          0.09317280481271084
         ]
        },
        {
         "line": {
          "color": "rgba(219, 64, 82, 0.6190476190476191)",
          "dash": "solid",
          "shape": "linear",
          "width": 1.3
         },
         "mode": "lines",
         "name": "Onions, red, raw",
         "text": "",
         "type": "scatter",
         "x": [
          -0.6931471805599453,
          -0.5108256237659907,
          -0.35667494393873245,
          -0.22314355131420968,
          -0.10536051565782628,
          0,
          0.09531017980432495,
          0.1823215567939546,
          0.26236426446749106,
          0.33647223662121284,
          0.4054651081081644
         ],
         "y": [
          9.184586420519686e-10,
          3.7405212253925666e-10,
          1.6044241478060314e-09,
          2.2699873066571354e-09,
          1.1405787424994116e-10,
          0,
          2.546363120326854e-11,
          1.517586955688148e-08,
          3.0069124963203533e-10,
          3.6269769344294066e-09,
          7.814952823703099e-08
         ]
        },
        {
         "line": {
          "color": "rgba(0, 128, 128, 0.6190476190476191)",
          "dash": "solid",
          "shape": "linear",
          "width": 1.3
         },
         "mode": "lines",
         "name": "Onions, yellow, raw",
         "text": "",
         "type": "scatter",
         "x": [
          -0.6931471805599453,
          -0.5108256237659907,
          -0.35667494393873245,
          -0.22314355131420968,
          -0.10536051565782628,
          0,
          0.09531017980432495,
          0.1823215567939546,
          0.26236426446749106,
          0.33647223662121284,
          0.4054651081081644
         ],
         "y": [
          1.1211941312468185e-08,
          6.497983562160303e-08,
          1.01826302893242e-09,
          1.507992618527812e-09,
          9.612866058254882e-11,
          0,
          1.6576242847829586e-07,
          5.262741352432724e-10,
          2.7863267245135745e-10,
          4.3221448596459284e-08,
          1.9587125235888896e-09
         ]
        },
        {
         "line": {
          "color": "rgba(0, 128, 128, 0.5238095238095237)",
          "dash": "solid",
          "shape": "linear",
          "width": 1.3
         },
         "mode": "lines",
         "name": "Onions, white, raw",
         "text": "",
         "type": "scatter",
         "x": [
          -0.6931471805599453,
          -0.5108256237659907,
          -0.35667494393873245,
          -0.22314355131420968,
          -0.10536051565782628,
          0,
          0.09531017980432495,
          0.1823215567939546,
          0.26236426446749106,
          0.33647223662121284,
          0.4054651081081644
         ],
         "y": [
          4.2022785242731316e-10,
          1.3896699337160009e-09,
          3.993300127034648e-09,
          6.764404791185009e-09,
          1.1766254636587648e-10,
          0,
          5.761635612889223e-11,
          1.85650383937561e-10,
          9.978969600813714e-09,
          8.049438889969853e-10,
          3.764071276182079e-10
         ]
        },
        {
         "line": {
          "color": "rgba(255, 255, 51, 0.5238095238095237)",
          "dash": "solid",
          "shape": "linear",
          "width": 1.3
         },
         "mode": "lines",
         "name": "SLICED MUSHROOMS, BABY BELLA",
         "text": "",
         "type": "scatter",
         "x": [
          -0.6931471805599453,
          -0.5108256237659907,
          -0.35667494393873245,
          -0.22314355131420968,
          -0.10536051565782628,
          0,
          0.09531017980432495,
          0.1823215567939546,
          0.26236426446749106,
          0.33647223662121284,
          0.4054651081081644
         ],
         "y": [
          1.2460508173059457e-09,
          -4.156230914995373e-12,
          5.049104677155877e-09,
          1.5864482934727182e-08,
          8.792106855744598e-08,
          0,
          7.127345799242832e-09,
          2.2301205324382247e-10,
          2.0849171505059547e-08,
          1.2690363790337088e-08,
          4.5310599706420574e-10
         ]
        },
        {
         "line": {
          "color": "rgba(128, 128, 0, 0.5238095238095237)",
          "dash": "solid",
          "shape": "linear",
          "width": 1.3
         },
         "mode": "lines",
         "name": "Garlic, raw",
         "text": "",
         "type": "scatter",
         "x": [
          -0.6931471805599453,
          -0.5108256237659907,
          -0.35667494393873245,
          -0.22314355131420968,
          -0.10536051565782628,
          0,
          0.09531017980432495,
          0.1823215567939546,
          0.26236426446749106,
          0.33647223662121284,
          0.4054651081081644
         ],
         "y": [
          5.50508459523803e-09,
          6.395299158668371e-09,
          1.4137535585656408e-10,
          1.216346829223956e-07,
          8.220690479063649e-08,
          0,
          9.691580871115878e-12,
          1.0249630463115737e-07,
          4.60865011869903e-07,
          5.319967299342768e-07,
          4.423860580772258e-07
         ]
        },
        {
         "line": {
          "color": "rgba(251, 128, 114, 0.5238095238095237)",
          "dash": "solid",
          "shape": "linear",
          "width": 1.3
         },
         "mode": "lines",
         "name": "Eggplant, raw",
         "text": "",
         "type": "scatter",
         "x": [
          -0.6931471805599453,
          -0.5108256237659907,
          -0.35667494393873245,
          -0.22314355131420968,
          -0.10536051565782628,
          0,
          0.09531017980432495,
          0.1823215567939546,
          0.26236426446749106,
          0.33647223662121284,
          0.4054651081081644
         ],
         "y": [
          2.358047090894553e-11,
          1.2452539334846224e-07,
          2.0941026690457775e-12,
          7.361482531952828e-10,
          1.7791474332058395e-07,
          0,
          2.4333512979405703e-10,
          4.460308289826255e-08,
          3.146787936381581e-09,
          1.1284040368127534e-10,
          2.2595612903035177e-08
         ]
        },
        {
         "line": {
          "color": "rgba(128, 177, 211, 0.5238095238095237)",
          "dash": "solid",
          "shape": "linear",
          "width": 1.3
         },
         "mode": "lines",
         "name": "Green beans, raw",
         "text": "",
         "type": "scatter",
         "x": [
          -0.6931471805599453,
          -0.5108256237659907,
          -0.35667494393873245,
          -0.22314355131420968,
          -0.10536051565782628,
          0,
          0.09531017980432495,
          0.1823215567939546,
          0.26236426446749106,
          0.33647223662121284,
          0.4054651081081644
         ],
         "y": [
          4.324895996794266e-11,
          8.005750696966084e-09,
          1.622895151466724e-10,
          9.417355784036085e-12,
          1.349507172585509e-10,
          0,
          4.9717093427498204e-08,
          4.5185188913615666e-10,
          5.276174282239406e-07,
          -4.1611158962959526e-13,
          2.079454621005023e-07
         ]
        },
        {
         "line": {
          "color": "rgba(255, 153, 51, 0.5238095238095237)",
          "dash": "solid",
          "shape": "linear",
          "width": 1.3
         },
         "mode": "lines",
         "name": "Black beans, NFS",
         "text": "",
         "type": "scatter",
         "x": [
          -0.6931471805599453,
          -0.5108256237659907,
          -0.35667494393873245,
          -0.22314355131420968,
          -0.10536051565782628,
          0,
          0.09531017980432495,
          0.1823215567939546,
          0.26236426446749106,
          0.33647223662121284,
          0.4054651081081644
         ],
         "y": [
          -0.0404954536930554,
          -0.02664610034937947,
          -0.012986360058840431,
          -0.0025286764778815573,
          -0.0007877457258412593,
          0,
          0.0007871274253911869,
          0.0015736357941214501,
          0.00235952608911873,
          0.003144859226644734,
          0.003594249801455692
         ]
        },
        {
         "line": {
          "color": "rgba(55, 128, 191, 0.5238095238095237)",
          "dash": "solid",
          "shape": "linear",
          "width": 1.3
         },
         "mode": "lines",
         "name": "Pinto beans, NFS",
         "text": "",
         "type": "scatter",
         "x": [
          -0.6931471805599453,
          -0.5108256237659907,
          -0.35667494393873245,
          -0.22314355131420968,
          -0.10536051565782628,
          0,
          0.09531017980432495,
          0.1823215567939546,
          0.26236426446749106,
          0.33647223662121284,
          0.4054651081081644
         ],
         "y": [
          -0.003489681290439886,
          1.5289711157958605e-08,
          2.7512974083331736e-09,
          2.181814971537399e-08,
          9.424838686822264e-11,
          0,
          6.091886831501333e-08,
          6.376432714968338e-11,
          1.3639454139699375e-08,
          2.774488444914628e-08,
          1.8552873448451768e-07
         ]
        },
        {
         "line": {
          "color": "rgba(50, 171, 96, 0.5238095238095237)",
          "dash": "solid",
          "shape": "linear",
          "width": 1.3
         },
         "mode": "lines",
         "name": "Green peas, raw",
         "text": "",
         "type": "scatter",
         "x": [
          -0.6931471805599453,
          -0.5108256237659907,
          -0.35667494393873245,
          -0.22314355131420968,
          -0.10536051565782628,
          0,
          0.09531017980432495,
          0.1823215567939546,
          0.26236426446749106,
          0.33647223662121284,
          0.4054651081081644
         ],
         "y": [
          8.144596105333426e-10,
          6.225613519648448e-08,
          4.4319194618745766e-07,
          -8.370859561103791e-12,
          1.6840277619947016e-07,
          0,
          1.6700196780877082e-11,
          8.159821703880724e-10,
          5.727462931955326e-09,
          1.4324341711753253e-10,
          1.0562963115024528e-08
         ]
        },
        {
         "line": {
          "color": "rgba(128, 0, 128, 0.5238095238095237)",
          "dash": "solid",
          "shape": "linear",
          "width": 1.3
         },
         "mode": "lines",
         "name": "Corn, raw",
         "text": "",
         "type": "scatter",
         "x": [
          -0.6931471805599453,
          -0.5108256237659907,
          -0.35667494393873245,
          -0.22314355131420968,
          -0.10536051565782628,
          0,
          0.09531017980432495,
          0.1823215567939546,
          0.26236426446749106,
          0.33647223662121284,
          0.4054651081081644
         ],
         "y": [
          6.56597463131633e-09,
          2.442514409965133e-09,
          3.396883213383916e-09,
          2.60492516412292e-10,
          9.24650907118702e-09,
          0,
          1.0105094538404163e-10,
          2.2055024473145374e-11,
          2.3415809081357002e-07,
          1.1395155923468287e-09,
          7.753864217062959e-11
         ]
        },
        {
         "line": {
          "color": "rgba(219, 64, 82, 0.5238095238095237)",
          "dash": "solid",
          "shape": "linear",
          "width": 1.3
         },
         "mode": "lines",
         "name": "Brussels sprouts, raw",
         "text": "",
         "type": "scatter",
         "x": [
          -0.6931471805599453,
          -0.5108256237659907,
          -0.35667494393873245,
          -0.22314355131420968,
          -0.10536051565782628,
          0,
          0.09531017980432495,
          0.1823215567939546,
          0.26236426446749106,
          0.33647223662121284,
          0.4054651081081644
         ],
         "y": [
          -0.01227463632724372,
          -0.002694319120603057,
          -0.0007107728041683215,
          1.0494121132114083e-07,
          6.266101395887629e-09,
          0,
          4.943621277890249e-09,
          6.248245037118091e-08,
          3.561009264606461e-10,
          1.6179062521061477e-09,
          2.0708552629019134e-09
         ]
        },
        {
         "line": {
          "color": "rgba(219, 64, 82, 0.42857142857142866)",
          "dash": "solid",
          "shape": "linear",
          "width": 1.3
         },
         "mode": "lines",
         "name": "Lentils, NFS",
         "text": "",
         "type": "scatter",
         "x": [
          -0.6931471805599453,
          -0.5108256237659907,
          -0.35667494393873245,
          -0.22314355131420968,
          -0.10536051565782628,
          0,
          0.09531017980432495,
          0.1823215567939546,
          0.26236426446749106,
          0.33647223662121284,
          0.4054651081081644
         ],
         "y": [
          -0.06519257113305175,
          -0.041880618748024914,
          -0.03021235550286888,
          -0.0188916981746727,
          -0.008144383766395317,
          0,
          0.004375376966457119,
          0.0076582768379757065,
          0.00765793766963337,
          0.007657947177697522,
          0.007657967135176038
         ]
        },
        {
         "line": {
          "color": "rgba(0, 128, 128, 0.42857142857142866)",
          "dash": "solid",
          "shape": "linear",
          "width": 1.3
         },
         "mode": "lines",
         "name": "Tomato, roma",
         "text": "",
         "type": "scatter",
         "x": [
          -0.6931471805599453,
          -0.5108256237659907,
          -0.35667494393873245,
          -0.22314355131420968,
          -0.10536051565782628,
          0,
          0.09531017980432495,
          0.1823215567939546,
          0.26236426446749106,
          0.33647223662121284,
          0.4054651081081644
         ],
         "y": [
          2.3999138203457812e-09,
          2.6547022322921536e-09,
          6.654802020617171e-09,
          4.1499778529603204e-08,
          -1.2583933894995478e-11,
          0,
          2.0267096834250925e-07,
          4.562350497384211e-12,
          5.772962313733489e-09,
          3.9769110668148824e-07,
          5.2929536907054134e-08
         ]
        },
        {
         "line": {
          "color": "rgba(255, 255, 51, 0.42857142857142866)",
          "dash": "solid",
          "shape": "linear",
          "width": 1.3
         },
         "mode": "lines",
         "name": "Tomato, grape,raw",
         "text": "",
         "type": "scatter",
         "x": [
          -0.6931471805599453,
          -0.5108256237659907,
          -0.35667494393873245,
          -0.22314355131420968,
          -0.10536051565782628,
          0,
          0.09531017980432495,
          0.1823215567939546,
          0.26236426446749106,
          0.33647223662121284,
          0.4054651081081644
         ],
         "y": [
          5.1050365297621256e-08,
          7.109015595889685e-10,
          1.994251206626109e-09,
          1.3803227440400225e-09,
          2.972049272911496e-10,
          0,
          1.2189864019071586e-07,
          2.0590359649590526e-08,
          2.755238259386635e-10,
          1.5019496756290057e-10,
          2.0843718977854675e-08
         ]
        },
        {
         "line": {
          "color": "rgba(128, 128, 0, 0.42857142857142866)",
          "dash": "solid",
          "shape": "linear",
          "width": 1.3
         },
         "mode": "lines",
         "name": "Peppers, bell, green, raw",
         "text": "",
         "type": "scatter",
         "x": [
          -0.6931471805599453,
          -0.5108256237659907,
          -0.35667494393873245,
          -0.22314355131420968,
          -0.10536051565782628,
          0,
          0.09531017980432495,
          0.1823215567939546,
          0.26236426446749106,
          0.33647223662121284,
          0.4054651081081644
         ],
         "y": [
          -0.01546589883240191,
          -0.01228323185997468,
          -0.009198250036152657,
          -0.006122756282798055,
          -0.003056556807759095,
          0,
          0.002261451991083488,
          0.0022614446132770026,
          0.0022614747642608277,
          0.002261451694665783,
          0.002261591835689476
         ]
        },
        {
         "line": {
          "color": "rgba(251, 128, 114, 0.42857142857142866)",
          "dash": "solid",
          "shape": "linear",
          "width": 1.3
         },
         "mode": "lines",
         "name": "Peppers, bell, orange, raw",
         "text": "",
         "type": "scatter",
         "x": [
          -0.6931471805599453,
          -0.5108256237659907,
          -0.35667494393873245,
          -0.22314355131420968,
          -0.10536051565782628,
          0,
          0.09531017980432495,
          0.1823215567939546,
          0.26236426446749106,
          0.33647223662121284,
          0.4054651081081644
         ],
         "y": [
          -0.009728008375678226,
          -0.0059589361461897606,
          -0.0022040118810485354,
          2.813943149981018e-08,
          1.3025054359915912e-09,
          0,
          1.7141745785894277e-09,
          1.113671377277629e-10,
          1.0137852774340513e-09,
          1.6971553037401632e-09,
          1.5137477926341686e-09
         ]
        },
        {
         "line": {
          "color": "rgba(128, 177, 211, 0.42857142857142866)",
          "dash": "solid",
          "shape": "linear",
          "width": 1.3
         },
         "mode": "lines",
         "name": "Peppers, bell, red, raw",
         "text": "",
         "type": "scatter",
         "x": [
          -0.6931471805599453,
          -0.5108256237659907,
          -0.35667494393873245,
          -0.22314355131420968,
          -0.10536051565782628,
          0,
          0.09531017980432495,
          0.1823215567939546,
          0.26236426446749106,
          0.33647223662121284,
          0.4054651081081644
         ],
         "y": [
          -0.013396672003595959,
          -0.010055665191256747,
          -0.006725781530740358,
          -0.0034069466585373636,
          -9.909908559825302e-05,
          0,
          1.0093148538660402e-10,
          4.5037951136156295e-10,
          1.6809555955260098e-09,
          1.1158054474150659e-09,
          -1.675959371297442e-11
         ]
        },
        {
         "line": {
          "color": "rgba(255, 153, 51, 0.42857142857142866)",
          "dash": "solid",
          "shape": "linear",
          "width": 1.3
         },
         "mode": "lines",
         "name": "Peppers, bell, yellow, raw",
         "text": "",
         "type": "scatter",
         "x": [
          -0.6931471805599453,
          -0.5108256237659907,
          -0.35667494393873245,
          -0.22314355131420968,
          -0.10536051565782628,
          0,
          0.09531017980432495,
          0.1823215567939546,
          0.26236426446749106,
          0.33647223662121284,
          0.4054651081081644
         ],
         "y": [
          -0.008049639314504987,
          -0.003766699751739238,
          2.786208930668855e-07,
          1.687257874726207e-08,
          1.8037904501760552e-10,
          0,
          5.489560790859246e-09,
          5.572478033012995e-10,
          -3.2208680167452285e-12,
          1.0998590920854357e-09,
          1.968304628458212e-09
         ]
        },
        {
         "line": {
          "color": "rgba(55, 128, 191, 0.42857142857142866)",
          "dash": "solid",
          "shape": "linear",
          "width": 1.3
         },
         "mode": "lines",
         "name": "ZUCCHINI",
         "text": "",
         "type": "scatter",
         "x": [
          -0.6931471805599453,
          -0.5108256237659907,
          -0.35667494393873245,
          -0.22314355131420968,
          -0.10536051565782628,
          0,
          0.09531017980432495,
          0.1823215567939546,
          0.26236426446749106,
          0.33647223662121284,
          0.4054651081081644
         ],
         "y": [
          9.937362043860603e-11,
          8.358412234970872e-08,
          1.8278711877411872e-12,
          1.4565235673609e-09,
          9.872147543400581e-11,
          0,
          4.932818454167786e-08,
          1.3927459184966314e-10,
          4.010536398116688e-07,
          2.2106392694079455e-08,
          1.1114052949479712e-08
         ]
        },
        {
         "line": {
          "color": "rgba(50, 171, 96, 0.42857142857142866)",
          "dash": "solid",
          "shape": "linear",
          "width": 1.3
         },
         "mode": "lines",
         "name": "Bananas, ripe and slightly ripe, raw",
         "text": "",
         "type": "scatter",
         "x": [
          -0.6931471805599453,
          -0.5108256237659907,
          -0.35667494393873245,
          -0.22314355131420968,
          -0.10536051565782628,
          0,
          0.09531017980432495,
          0.1823215567939546,
          0.26236426446749106,
          0.33647223662121284,
          0.4054651081081644
         ],
         "y": [
          -0.019579724737191675,
          -0.004345892568870265,
          1.2503242884704888e-10,
          3.667307566850621e-07,
          3.4913183454777834e-11,
          0,
          4.4539261158178527e-10,
          2.3076278867514348e-07,
          1.5359706614934773e-07,
          1.4164633900208967e-09,
          1.491539557416753e-09
         ]
        },
        {
         "line": {
          "color": "rgba(128, 0, 128, 0.42857142857142866)",
          "dash": "solid",
          "shape": "linear",
          "width": 1.3
         },
         "mode": "lines",
         "name": "Apples, fuji, with skin, raw",
         "text": "",
         "type": "scatter",
         "x": [
          -0.6931471805599453,
          -0.5108256237659907,
          -0.35667494393873245,
          -0.22314355131420968,
          -0.10536051565782628,
          0,
          0.09531017980432495,
          0.1823215567939546,
          0.26236426446749106,
          0.33647223662121284,
          0.4054651081081644
         ],
         "y": [
          6.233515923714848e-10,
          5.290545779106309e-11,
          -1.5893619753752657e-11,
          1.7106740293275626e-07,
          5.3192055788635444e-08,
          0,
          4.419797861022981e-12,
          1.7180321595041704e-09,
          3.1536082584449728e-09,
          5.193316874156416e-09,
          4.852675836132633e-07
         ]
        },
        {
         "line": {
          "color": "rgba(128, 0, 128, 0.3333333333333333)",
          "dash": "solid",
          "shape": "linear",
          "width": 1.3
         },
         "mode": "lines",
         "name": "Apples, gala, with skin, raw",
         "text": "",
         "type": "scatter",
         "x": [
          -0.6931471805599453,
          -0.5108256237659907,
          -0.35667494393873245,
          -0.22314355131420968,
          -0.10536051565782628,
          0,
          0.09531017980432495,
          0.1823215567939546,
          0.26236426446749106,
          0.33647223662121284,
          0.4054651081081644
         ],
         "y": [
          1.7164525341874462e-09,
          2.484834560303676e-11,
          1.1441736447116481e-11,
          1.3730807592603629e-09,
          2.253430775058029e-10,
          0,
          -1.3435363932591587e-11,
          5.296698621221223e-09,
          6.558101373766563e-09,
          1.652862291342498e-10,
          2.2081569881527584e-09
         ]
        },
        {
         "line": {
          "color": "rgba(219, 64, 82, 0.3333333333333333)",
          "dash": "solid",
          "shape": "linear",
          "width": 1.3
         },
         "mode": "lines",
         "name": "Apples, honeycrisp, with skin, raw",
         "text": "",
         "type": "scatter",
         "x": [
          -0.6931471805599453,
          -0.5108256237659907,
          -0.35667494393873245,
          -0.22314355131420968,
          -0.10536051565782628,
          0,
          0.09531017980432495,
          0.1823215567939546,
          0.26236426446749106,
          0.33647223662121284,
          0.4054651081081644
         ],
         "y": [
          1.191695630993242e-10,
          2.329936243911703e-11,
          2.9965077041407178e-09,
          9.8266992599897e-08,
          3.853522604693536e-09,
          0,
          5.303608661947585e-10,
          5.528013600901436e-10,
          1.2317324937024233e-10,
          6.348277457252106e-10,
          1.0912520605332583e-08
         ]
        },
        {
         "line": {
          "color": "rgba(0, 128, 128, 0.3333333333333333)",
          "dash": "solid",
          "shape": "linear",
          "width": 1.3
         },
         "mode": "lines",
         "name": "Oranges, raw, navels",
         "text": "",
         "type": "scatter",
         "x": [
          -0.6931471805599453,
          -0.5108256237659907,
          -0.35667494393873245,
          -0.22314355131420968,
          -0.10536051565782628,
          0,
          0.09531017980432495,
          0.1823215567939546,
          0.26236426446749106,
          0.33647223662121284,
          0.4054651081081644
         ],
         "y": [
          -0.016052642678490964,
          -0.012246268525360074,
          -0.008599560018783309,
          -0.0049659484160152695,
          -0.0013458009646425235,
          0,
          2.1031808503536866e-07,
          2.1066881570332143e-10,
          1.4305485705303942e-07,
          8.114178629390731e-09,
          4.07923671786429e-09
         ]
        },
        {
         "line": {
          "color": "rgba(255, 255, 51, 0.3333333333333333)",
          "dash": "solid",
          "shape": "linear",
          "width": 1.3
         },
         "mode": "lines",
         "name": "Strawberries, raw",
         "text": "",
         "type": "scatter",
         "x": [
          -0.6931471805599453,
          -0.5108256237659907,
          -0.35667494393873245,
          -0.22314355131420968,
          -0.10536051565782628,
          0,
          0.09531017980432495,
          0.1823215567939546,
          0.26236426446749106,
          0.33647223662121284,
          0.4054651081081644
         ],
         "y": [
          2.265603260297269e-10,
          2.349163086003376e-10,
          7.102147506583757e-08,
          5.780576017688235e-11,
          5.359468424471369e-11,
          0,
          -2.2447599334921235e-12,
          2.205169380407157e-11,
          -1.4473644505235522e-11,
          1.0889679187209412e-07,
          4.747613942974485e-07
         ]
        },
        {
         "line": {
          "color": "rgba(128, 128, 0, 0.3333333333333333)",
          "dash": "solid",
          "shape": "linear",
          "width": 1.3
         },
         "mode": "lines",
         "name": "Blueberries, raw",
         "text": "",
         "type": "scatter",
         "x": [
          -0.6931471805599453,
          -0.5108256237659907,
          -0.35667494393873245,
          -0.22314355131420968,
          -0.10536051565782628,
          0,
          0.09531017980432495,
          0.1823215567939546,
          0.26236426446749106,
          0.33647223662121284,
          0.4054651081081644
         ],
         "y": [
          1.8854096060393427e-10,
          1.6063594898567444e-11,
          5.7935878315360884e-11,
          2.5636892605529493e-10,
          6.896829180847594e-08,
          0,
          1.093614309623373e-09,
          3.2793834309382176e-10,
          8.147482688480983e-12,
          4.777757196499952e-07,
          2.318494445222301e-07
         ]
        },
        {
         "line": {
          "color": "rgba(251, 128, 114, 0.3333333333333333)",
          "dash": "solid",
          "shape": "linear",
          "width": 1.3
         },
         "mode": "lines",
         "name": "Raspberries, raw",
         "text": "",
         "type": "scatter",
         "x": [
          -0.6931471805599453,
          -0.5108256237659907,
          -0.35667494393873245,
          -0.22314355131420968,
          -0.10536051565782628,
          0,
          0.09531017980432495,
          0.1823215567939546,
          0.26236426446749106,
          0.33647223662121284,
          0.4054651081081644
         ],
         "y": [
          7.678693873464895e-09,
          2.563756629198293e-07,
          1.123326113428919e-07,
          1.2692167309086401e-09,
          4.2407308598964193e-07,
          0,
          1.025304000208376e-07,
          8.505729450482848e-10,
          3.0536944351367596e-07,
          1.0888407947119036e-09,
          7.869040971288143e-10
         ]
        },
        {
         "line": {
          "color": "rgba(128, 177, 211, 0.3333333333333333)",
          "dash": "solid",
          "shape": "linear",
          "width": 1.3
         },
         "mode": "lines",
         "name": "Mangos, raw",
         "text": "",
         "type": "scatter",
         "x": [
          -0.6931471805599453,
          -0.5108256237659907,
          -0.35667494393873245,
          -0.22314355131420968,
          -0.10536051565782628,
          0,
          0.09531017980432495,
          0.1823215567939546,
          0.26236426446749106,
          0.33647223662121284,
          0.4054651081081644
         ],
         "y": [
          -0.01143919498753284,
          -0.002755242872133823,
          1.4342860231801346e-10,
          6.552145490686475e-10,
          3.52875483765843e-09,
          0,
          -7.047584738042865e-12,
          3.64151153609304e-10,
          8.034571420320391e-09,
          2.085649409188807e-08,
          -1.728384102521134e-11
         ]
        },
        {
         "line": {
          "color": "rgba(255, 153, 51, 0.3333333333333333)",
          "dash": "solid",
          "shape": "linear",
          "width": 1.3
         },
         "mode": "lines",
         "name": "Chia seeds",
         "text": "",
         "type": "scatter",
         "x": [
          -0.6931471805599453,
          -0.5108256237659907,
          -0.35667494393873245,
          -0.22314355131420968,
          -0.10536051565782628,
          0,
          0.09531017980432495,
          0.1823215567939546,
          0.26236426446749106,
          0.33647223662121284,
          0.4054651081081644
         ],
         "y": [
          2.407425369875799e-10,
          -1.5311085732617255e-12,
          3.612266041776152e-11,
          2.73230549259627e-10,
          -2.1901369606804446e-12,
          0,
          3.4509062268469364e-10,
          1.292659090043572e-09,
          1.4929901758216223e-10,
          2.2954840224486595e-09,
          6.404945080137759e-08
         ]
        },
        {
         "line": {
          "color": "rgba(55, 128, 191, 0.3333333333333333)",
          "dash": "solid",
          "shape": "linear",
          "width": 1.3
         },
         "mode": "lines",
         "name": "Flax seeds",
         "text": "",
         "type": "scatter",
         "x": [
          -0.6931471805599453,
          -0.5108256237659907,
          -0.35667494393873245,
          -0.22314355131420968,
          -0.10536051565782628,
          0,
          0.09531017980432495,
          0.1823215567939546,
          0.26236426446749106,
          0.33647223662121284,
          0.4054651081081644
         ],
         "y": [
          -0.01049542902113363,
          -0.002140255822402782,
          -0.0001456366167532462,
          6.401391174410115e-09,
          2.267218476126585e-08,
          0,
          3.5996183804970017e-10,
          1.6232659659568887e-10,
          6.423757079756071e-10,
          7.324807427240106e-12,
          5.6952844500379796e-09
         ]
        },
        {
         "line": {
          "color": "rgba(50, 171, 96, 0.3333333333333333)",
          "dash": "solid",
          "shape": "linear",
          "width": 1.3
         },
         "mode": "lines",
         "name": "Quinoa, fat added",
         "text": "",
         "type": "scatter",
         "x": [
          -0.6931471805599453,
          -0.5108256237659907,
          -0.35667494393873245,
          -0.22314355131420968,
          -0.10536051565782628,
          0,
          0.09531017980432495,
          0.1823215567939546,
          0.26236426446749106,
          0.33647223662121284,
          0.4054651081081644
         ],
         "y": [
          3.1094748993038596e-10,
          2.8483593257740037e-10,
          2.28709451116e-09,
          2.767430728639702e-10,
          2.8091173827567037e-10,
          0,
          1.2706619637433645e-07,
          6.672187224888535e-09,
          1.5024137488532293e-10,
          5.8185464752207937e-08,
          1.4287682148403995e-11
         ]
        },
        {
         "line": {
          "color": "rgba(50, 171, 96, 0.2380952380952382)",
          "dash": "solid",
          "shape": "linear",
          "width": 1.3
         },
         "mode": "lines",
         "name": "Almond milk, unsweetened, plain, refrigerated",
         "text": "",
         "type": "scatter",
         "x": [
          -0.6931471805599453,
          -0.5108256237659907,
          -0.35667494393873245,
          -0.22314355131420968,
          -0.10536051565782628,
          0,
          0.09531017980432495,
          0.1823215567939546,
          0.26236426446749106,
          0.33647223662121284,
          0.4054651081081644
         ],
         "y": [
          -0.0029354823465945396,
          -0.0018482958702422025,
          -0.0007618054446638374,
          2.7726287928395564e-10,
          2.6881664088661706e-08,
          0,
          1.547021357924357e-07,
          7.879323149939349e-08,
          6.535026750483433e-08,
          3.060443385180936e-08,
          1.413367200953126e-10
         ]
        },
        {
         "line": {
          "color": "rgba(128, 0, 128, 0.2380952380952382)",
          "dash": "solid",
          "shape": "linear",
          "width": 1.3
         },
         "mode": "lines",
         "name": "Oat milk, unsweetened, plain, refrigerated",
         "text": "",
         "type": "scatter",
         "x": [
          -0.6931471805599453,
          -0.5108256237659907,
          -0.35667494393873245,
          -0.22314355131420968,
          -0.10536051565782628,
          0,
          0.09531017980432495,
          0.1823215567939546,
          0.26236426446749106,
          0.33647223662121284,
          0.4054651081081644
         ],
         "y": [
          -2.2968293933471617e-12,
          2.758157359607703e-07,
          -5.627054378025975e-12,
          4.090235697324324e-09,
          3.581132273194182e-09,
          0,
          1.8601697958022412e-10,
          1.8376191700757964e-07,
          2.5724111726321645e-10,
          1.7118157987553497e-09,
          2.997475374526081e-09
         ]
        },
        {
         "line": {
          "color": "rgba(219, 64, 82, 0.2380952380952382)",
          "dash": "solid",
          "shape": "linear",
          "width": 1.3
         },
         "mode": "lines",
         "name": "WHITE SLICED MUSHROOMS, WHITE",
         "text": "",
         "type": "scatter",
         "x": [
          -0.6931471805599453,
          -0.5108256237659907,
          -0.35667494393873245,
          -0.22314355131420968,
          -0.10536051565782628,
          0,
          0.09531017980432495,
          0.1823215567939546,
          0.26236426446749106,
          0.33647223662121284,
          0.4054651081081644
         ],
         "y": [
          4.155922272122306e-10,
          8.209877222464406e-12,
          3.646546248451171e-07,
          4.0898995293211176e-10,
          1.4990428341741565e-08,
          0,
          1.1243079794173318e-09,
          3.32212114517291e-08,
          5.069851204234002e-10,
          2.3267272526016396e-09,
          3.545919113826927e-11
         ]
        },
        {
         "line": {
          "color": "rgba(0, 128, 128, 0.2380952380952382)",
          "dash": "solid",
          "shape": "linear",
          "width": 1.3
         },
         "mode": "lines",
         "name": "Nutritional Yeast",
         "text": "",
         "type": "scatter",
         "x": [
          -0.6931471805599453,
          -0.5108256237659907,
          -0.35667494393873245,
          -0.22314355131420968,
          -0.10536051565782628,
          0,
          0.09531017980432495,
          0.1823215567939546,
          0.26236426446749106,
          0.33647223662121284,
          0.4054651081081644
         ],
         "y": [
          -0.0028895332068486993,
          -0.00231094852723615,
          -0.0017324410408631882,
          -0.0011548116057787034,
          -0.0005770882825204524,
          0,
          0.0005769062700985666,
          0.0011535712423410868,
          0.0017297927225893002,
          0.0023056307380741126,
          0.0028812085046046577
         ]
        }
       ],
       "layout": {
        "legend": {
         "bgcolor": "#F5F6F9",
         "font": {
          "color": "#4D5663"
         }
        },
        "paper_bgcolor": "#F5F6F9",
        "plot_bgcolor": "#F5F6F9",
        "template": {
         "data": {
          "bar": [
           {
            "error_x": {
             "color": "#2a3f5f"
            },
            "error_y": {
             "color": "#2a3f5f"
            },
            "marker": {
             "line": {
              "color": "#E5ECF6",
              "width": 0.5
             },
             "pattern": {
              "fillmode": "overlay",
              "size": 10,
              "solidity": 0.2
             }
            },
            "type": "bar"
           }
          ],
          "barpolar": [
           {
            "marker": {
             "line": {
              "color": "#E5ECF6",
              "width": 0.5
             },
             "pattern": {
              "fillmode": "overlay",
              "size": 10,
              "solidity": 0.2
             }
            },
            "type": "barpolar"
           }
          ],
          "carpet": [
           {
            "aaxis": {
             "endlinecolor": "#2a3f5f",
             "gridcolor": "white",
             "linecolor": "white",
             "minorgridcolor": "white",
             "startlinecolor": "#2a3f5f"
            },
            "baxis": {
             "endlinecolor": "#2a3f5f",
             "gridcolor": "white",
             "linecolor": "white",
             "minorgridcolor": "white",
             "startlinecolor": "#2a3f5f"
            },
            "type": "carpet"
           }
          ],
          "choropleth": [
           {
            "colorbar": {
             "outlinewidth": 0,
             "ticks": ""
            },
            "type": "choropleth"
           }
          ],
          "contour": [
           {
            "colorbar": {
             "outlinewidth": 0,
             "ticks": ""
            },
            "colorscale": [
             [
              0,
              "#0d0887"
             ],
             [
              0.1111111111111111,
              "#46039f"
             ],
             [
              0.2222222222222222,
              "#7201a8"
             ],
             [
              0.3333333333333333,
              "#9c179e"
             ],
             [
              0.4444444444444444,
              "#bd3786"
             ],
             [
              0.5555555555555556,
              "#d8576b"
             ],
             [
              0.6666666666666666,
              "#ed7953"
             ],
             [
              0.7777777777777778,
              "#fb9f3a"
             ],
             [
              0.8888888888888888,
              "#fdca26"
             ],
             [
              1,
              "#f0f921"
             ]
            ],
            "type": "contour"
           }
          ],
          "contourcarpet": [
           {
            "colorbar": {
             "outlinewidth": 0,
             "ticks": ""
            },
            "type": "contourcarpet"
           }
          ],
          "heatmap": [
           {
            "colorbar": {
             "outlinewidth": 0,
             "ticks": ""
            },
            "colorscale": [
             [
              0,
              "#0d0887"
             ],
             [
              0.1111111111111111,
              "#46039f"
             ],
             [
              0.2222222222222222,
              "#7201a8"
             ],
             [
              0.3333333333333333,
              "#9c179e"
             ],
             [
              0.4444444444444444,
              "#bd3786"
             ],
             [
              0.5555555555555556,
              "#d8576b"
             ],
             [
              0.6666666666666666,
              "#ed7953"
             ],
             [
              0.7777777777777778,
              "#fb9f3a"
             ],
             [
              0.8888888888888888,
              "#fdca26"
             ],
             [
              1,
              "#f0f921"
             ]
            ],
            "type": "heatmap"
           }
          ],
          "heatmapgl": [
           {
            "colorbar": {
             "outlinewidth": 0,
             "ticks": ""
            },
            "colorscale": [
             [
              0,
              "#0d0887"
             ],
             [
              0.1111111111111111,
              "#46039f"
             ],
             [
              0.2222222222222222,
              "#7201a8"
             ],
             [
              0.3333333333333333,
              "#9c179e"
             ],
             [
              0.4444444444444444,
              "#bd3786"
             ],
             [
              0.5555555555555556,
              "#d8576b"
             ],
             [
              0.6666666666666666,
              "#ed7953"
             ],
             [
              0.7777777777777778,
              "#fb9f3a"
             ],
             [
              0.8888888888888888,
              "#fdca26"
             ],
             [
              1,
              "#f0f921"
             ]
            ],
            "type": "heatmapgl"
           }
          ],
          "histogram": [
           {
            "marker": {
             "pattern": {
              "fillmode": "overlay",
              "size": 10,
              "solidity": 0.2
             }
            },
            "type": "histogram"
           }
          ],
          "histogram2d": [
           {
            "colorbar": {
             "outlinewidth": 0,
             "ticks": ""
            },
            "colorscale": [
             [
              0,
              "#0d0887"
             ],
             [
              0.1111111111111111,
              "#46039f"
             ],
             [
              0.2222222222222222,
              "#7201a8"
             ],
             [
              0.3333333333333333,
              "#9c179e"
             ],
             [
              0.4444444444444444,
              "#bd3786"
             ],
             [
              0.5555555555555556,
              "#d8576b"
             ],
             [
              0.6666666666666666,
              "#ed7953"
             ],
             [
              0.7777777777777778,
              "#fb9f3a"
             ],
             [
              0.8888888888888888,
              "#fdca26"
             ],
             [
              1,
              "#f0f921"
             ]
            ],
            "type": "histogram2d"
           }
          ],
          "histogram2dcontour": [
           {
            "colorbar": {
             "outlinewidth": 0,
             "ticks": ""
            },
            "colorscale": [
             [
              0,
              "#0d0887"
             ],
             [
              0.1111111111111111,
              "#46039f"
             ],
             [
              0.2222222222222222,
              "#7201a8"
             ],
             [
              0.3333333333333333,
              "#9c179e"
             ],
             [
              0.4444444444444444,
              "#bd3786"
             ],
             [
              0.5555555555555556,
              "#d8576b"
             ],
             [
              0.6666666666666666,
              "#ed7953"
             ],
             [
              0.7777777777777778,
              "#fb9f3a"
             ],
             [
              0.8888888888888888,
              "#fdca26"
             ],
             [
              1,
              "#f0f921"
             ]
            ],
            "type": "histogram2dcontour"
           }
          ],
          "mesh3d": [
           {
            "colorbar": {
             "outlinewidth": 0,
             "ticks": ""
            },
            "type": "mesh3d"
           }
          ],
          "parcoords": [
           {
            "line": {
             "colorbar": {
              "outlinewidth": 0,
              "ticks": ""
             }
            },
            "type": "parcoords"
           }
          ],
          "pie": [
           {
            "automargin": true,
            "type": "pie"
           }
          ],
          "scatter": [
           {
            "marker": {
             "colorbar": {
              "outlinewidth": 0,
              "ticks": ""
             }
            },
            "type": "scatter"
           }
          ],
          "scatter3d": [
           {
            "line": {
             "colorbar": {
              "outlinewidth": 0,
              "ticks": ""
             }
            },
            "marker": {
             "colorbar": {
              "outlinewidth": 0,
              "ticks": ""
             }
            },
            "type": "scatter3d"
           }
          ],
          "scattercarpet": [
           {
            "marker": {
             "colorbar": {
              "outlinewidth": 0,
              "ticks": ""
             }
            },
            "type": "scattercarpet"
           }
          ],
          "scattergeo": [
           {
            "marker": {
             "colorbar": {
              "outlinewidth": 0,
              "ticks": ""
             }
            },
            "type": "scattergeo"
           }
          ],
          "scattergl": [
           {
            "marker": {
             "colorbar": {
              "outlinewidth": 0,
              "ticks": ""
             }
            },
            "type": "scattergl"
           }
          ],
          "scattermapbox": [
           {
            "marker": {
             "colorbar": {
              "outlinewidth": 0,
              "ticks": ""
             }
            },
            "type": "scattermapbox"
           }
          ],
          "scatterpolar": [
           {
            "marker": {
             "colorbar": {
              "outlinewidth": 0,
              "ticks": ""
             }
            },
            "type": "scatterpolar"
           }
          ],
          "scatterpolargl": [
           {
            "marker": {
             "colorbar": {
              "outlinewidth": 0,
              "ticks": ""
             }
            },
            "type": "scatterpolargl"
           }
          ],
          "scatterternary": [
           {
            "marker": {
             "colorbar": {
              "outlinewidth": 0,
              "ticks": ""
             }
            },
            "type": "scatterternary"
           }
          ],
          "surface": [
           {
            "colorbar": {
             "outlinewidth": 0,
             "ticks": ""
            },
            "colorscale": [
             [
              0,
              "#0d0887"
             ],
             [
              0.1111111111111111,
              "#46039f"
             ],
             [
              0.2222222222222222,
              "#7201a8"
             ],
             [
              0.3333333333333333,
              "#9c179e"
             ],
             [
              0.4444444444444444,
              "#bd3786"
             ],
             [
              0.5555555555555556,
              "#d8576b"
             ],
             [
              0.6666666666666666,
              "#ed7953"
             ],
             [
              0.7777777777777778,
              "#fb9f3a"
             ],
             [
              0.8888888888888888,
              "#fdca26"
             ],
             [
              1,
              "#f0f921"
             ]
            ],
            "type": "surface"
           }
          ],
          "table": [
           {
            "cells": {
             "fill": {
              "color": "#EBF0F8"
             },
             "line": {
              "color": "white"
             }
            },
            "header": {
             "fill": {
              "color": "#C8D4E3"
             },
             "line": {
              "color": "white"
             }
            },
            "type": "table"
           }
          ]
         },
         "layout": {
          "annotationdefaults": {
           "arrowcolor": "#2a3f5f",
           "arrowhead": 0,
           "arrowwidth": 1
          },
          "autotypenumbers": "strict",
          "coloraxis": {
           "colorbar": {
            "outlinewidth": 0,
            "ticks": ""
           }
          },
          "colorscale": {
           "diverging": [
            [
             0,
             "#8e0152"
            ],
            [
             0.1,
             "#c51b7d"
            ],
            [
             0.2,
             "#de77ae"
            ],
            [
             0.3,
             "#f1b6da"
            ],
            [
             0.4,
             "#fde0ef"
            ],
            [
             0.5,
             "#f7f7f7"
            ],
            [
             0.6,
             "#e6f5d0"
            ],
            [
             0.7,
             "#b8e186"
            ],
            [
             0.8,
             "#7fbc41"
            ],
            [
             0.9,
             "#4d9221"
            ],
            [
             1,
             "#276419"
            ]
           ],
           "sequential": [
            [
             0,
             "#0d0887"
            ],
            [
             0.1111111111111111,
             "#46039f"
            ],
            [
             0.2222222222222222,
             "#7201a8"
            ],
            [
             0.3333333333333333,
             "#9c179e"
            ],
            [
             0.4444444444444444,
             "#bd3786"
            ],
            [
             0.5555555555555556,
             "#d8576b"
            ],
            [
             0.6666666666666666,
             "#ed7953"
            ],
            [
             0.7777777777777778,
             "#fb9f3a"
            ],
            [
             0.8888888888888888,
             "#fdca26"
            ],
            [
             1,
             "#f0f921"
            ]
           ],
           "sequentialminus": [
            [
             0,
             "#0d0887"
            ],
            [
             0.1111111111111111,
             "#46039f"
            ],
            [
             0.2222222222222222,
             "#7201a8"
            ],
            [
             0.3333333333333333,
             "#9c179e"
            ],
            [
             0.4444444444444444,
             "#bd3786"
            ],
            [
             0.5555555555555556,
             "#d8576b"
            ],
            [
             0.6666666666666666,
             "#ed7953"
            ],
            [
             0.7777777777777778,
             "#fb9f3a"
            ],
            [
             0.8888888888888888,
             "#fdca26"
            ],
            [
             1,
             "#f0f921"
            ]
           ]
          },
          "colorway": [
           "#636efa",
           "#EF553B",
           "#00cc96",
           "#ab63fa",
           "#FFA15A",
           "#19d3f3",
           "#FF6692",
           "#B6E880",
           "#FF97FF",
           "#FECB52"
          ],
          "font": {
           "color": "#2a3f5f"
          },
          "geo": {
           "bgcolor": "white",
           "lakecolor": "white",
           "landcolor": "#E5ECF6",
           "showlakes": true,
           "showland": true,
           "subunitcolor": "white"
          },
          "hoverlabel": {
           "align": "left"
          },
          "hovermode": "closest",
          "mapbox": {
           "style": "light"
          },
          "paper_bgcolor": "white",
          "plot_bgcolor": "#E5ECF6",
          "polar": {
           "angularaxis": {
            "gridcolor": "white",
            "linecolor": "white",
            "ticks": ""
           },
           "bgcolor": "#E5ECF6",
           "radialaxis": {
            "gridcolor": "white",
            "linecolor": "white",
            "ticks": ""
           }
          },
          "scene": {
           "xaxis": {
            "backgroundcolor": "#E5ECF6",
            "gridcolor": "white",
            "gridwidth": 2,
            "linecolor": "white",
            "showbackground": true,
            "ticks": "",
            "zerolinecolor": "white"
           },
           "yaxis": {
            "backgroundcolor": "#E5ECF6",
            "gridcolor": "white",
            "gridwidth": 2,
            "linecolor": "white",
            "showbackground": true,
            "ticks": "",
            "zerolinecolor": "white"
           },
           "zaxis": {
            "backgroundcolor": "#E5ECF6",
            "gridcolor": "white",
            "gridwidth": 2,
            "linecolor": "white",
            "showbackground": true,
            "ticks": "",
            "zerolinecolor": "white"
           }
          },
          "shapedefaults": {
           "line": {
            "color": "#2a3f5f"
           }
          },
          "ternary": {
           "aaxis": {
            "gridcolor": "white",
            "linecolor": "white",
            "ticks": ""
           },
           "baxis": {
            "gridcolor": "white",
            "linecolor": "white",
            "ticks": ""
           },
           "bgcolor": "#E5ECF6",
           "caxis": {
            "gridcolor": "white",
            "linecolor": "white",
            "ticks": ""
           }
          },
          "title": {
           "x": 0.05
          },
          "xaxis": {
           "automargin": true,
           "gridcolor": "white",
           "linecolor": "white",
           "ticks": "",
           "title": {
            "standoff": 15
           },
           "zerolinecolor": "white",
           "zerolinewidth": 2
          },
          "yaxis": {
           "automargin": true,
           "gridcolor": "white",
           "linecolor": "white",
           "ticks": "",
           "title": {
            "standoff": 15
           },
           "zerolinecolor": "white",
           "zerolinewidth": 2
          }
         }
        },
        "title": {
         "font": {
          "color": "#4D5663"
         },
         "text": "Effects of Price Changes on Subsistence Diet Composition for USDA Diet"
        },
        "xaxis": {
         "gridcolor": "#E1E5ED",
         "showgrid": true,
         "tickfont": {
          "color": "#4D5663"
         },
         "title": {
          "font": {
           "color": "#4D5663"
          },
          "text": "change in log price"
         },
         "zerolinecolor": "#E1E5ED"
        },
        "yaxis": {
         "gridcolor": "#E1E5ED",
         "showgrid": true,
         "tickfont": {
          "color": "#4D5663"
         },
         "title": {
          "font": {
           "color": "#4D5663"
          },
          "text": "change in log cost"
         },
         "zerolinecolor": "#E1E5ED"
        }
       }
      },
      "text/html": [
       "<div>                            <div id=\"d6d41f0e-f856-46e0-b599-aec9fc7a7835\" class=\"plotly-graph-div\" style=\"height:525px; width:100%;\"></div>            <script type=\"text/javascript\">                require([\"plotly\"], function(Plotly) {                    window.PLOTLYENV=window.PLOTLYENV || {};\n",
       "                    window.PLOTLYENV.BASE_URL='https://plot.ly';                                    if (document.getElementById(\"d6d41f0e-f856-46e0-b599-aec9fc7a7835\")) {                    Plotly.newPlot(                        \"d6d41f0e-f856-46e0-b599-aec9fc7a7835\",                        [{\"line\":{\"color\":\"rgba(255, 153, 51, 1.0)\",\"dash\":\"solid\",\"shape\":\"linear\",\"width\":1.3},\"mode\":\"lines\",\"name\":\"Beef\",\"text\":\"\",\"type\":\"scatter\",\"x\":[-0.6931471805599453,-0.5108256237659907,-0.35667494393873245,-0.22314355131420968,-0.10536051565782628,0.0,0.09531017980432495,0.1823215567939546,0.26236426446749106,0.33647223662121284,0.4054651081081644],\"y\":[8.254952277263816e-12,6.400475702944609e-10,3.575767111479677e-07,2.7743807247719295e-10,1.2177136690321444e-07,0.0,2.3565982470984417e-09,7.712578324004903e-09,1.581260376792037e-08,9.002880178574081e-09,2.1265489346815352e-09]},{\"line\":{\"color\":\"rgba(55, 128, 191, 1.0)\",\"dash\":\"solid\",\"shape\":\"linear\",\"width\":1.3},\"mode\":\"lines\",\"name\":\"Pork\",\"text\":\"\",\"type\":\"scatter\",\"x\":[-0.6931471805599453,-0.5108256237659907,-0.35667494393873245,-0.22314355131420968,-0.10536051565782628,0.0,0.09531017980432495,0.1823215567939546,0.26236426446749106,0.33647223662121284,0.4054651081081644],\"y\":[4.1183510863965496e-08,1.3260960908037867e-08,2.389617392565082e-10,3.9032943448363564e-08,3.8775971681170387e-08,0.0,6.731393218339204e-10,5.5581539369474406e-11,1.262063341925429e-09,2.483739880123819e-10,4.330118816373737e-07]},{\"line\":{\"color\":\"rgba(50, 171, 96, 1.0)\",\"dash\":\"solid\",\"shape\":\"linear\",\"width\":1.3},\"mode\":\"lines\",\"name\":\"Chicken, drumstick\",\"text\":\"\",\"type\":\"scatter\",\"x\":[-0.6931471805599453,-0.5108256237659907,-0.35667494393873245,-0.22314355131420968,-0.10536051565782628,0.0,0.09531017980432495,0.1823215567939546,0.26236426446749106,0.33647223662121284,0.4054651081081644],\"y\":[1.8180162321299363e-08,1.233928514844861e-10,4.286035969661355e-10,1.652987301225485e-09,2.0881740780746696e-11,0.0,2.709689136063698e-09,1.4583305663531463e-09,3.09938918493929e-09,2.1068824440649535e-09,1.3182603888687968e-09]},{\"line\":{\"color\":\"rgba(128, 0, 128, 1.0)\",\"dash\":\"solid\",\"shape\":\"linear\",\"width\":1.3},\"mode\":\"lines\",\"name\":\"Canned Tuna\",\"text\":\"\",\"type\":\"scatter\",\"x\":[-0.6931471805599453,-0.5108256237659907,-0.35667494393873245,-0.22314355131420968,-0.10536051565782628,0.0,0.09531017980432495,0.1823215567939546,0.26236426446749106,0.33647223662121284,0.4054651081081644],\"y\":[1.1275250669512585e-08,5.19312814837907e-10,1.9126538112784455e-09,3.2807374540951487e-09,9.845080306062887e-11,0.0,1.3786462864669202e-07,4.020121513632834e-07,1.171939655743533e-09,4.941149710391777e-10,1.1047829317983906e-11]},{\"line\":{\"color\":\"rgba(219, 64, 82, 1.0)\",\"dash\":\"solid\",\"shape\":\"linear\",\"width\":1.3},\"mode\":\"lines\",\"name\":\"Atlantic Salmon\",\"text\":\"\",\"type\":\"scatter\",\"x\":[-0.6931471805599453,-0.5108256237659907,-0.35667494393873245,-0.22314355131420968,-0.10536051565782628,0.0,0.09531017980432495,0.1823215567939546,0.26236426446749106,0.33647223662121284,0.4054651081081644],\"y\":[1.8187940041281217e-10,5.5153881460412473e-11,1.7007040219116234e-10,1.2857603869659812e-10,5.656599739609388e-08,0.0,6.922240558513893e-12,5.11543538878195e-08,1.0634673136452163e-09,7.41424699385588e-11,3.366396050751244e-11]},{\"line\":{\"color\":\"rgba(0, 128, 128, 1.0)\",\"dash\":\"solid\",\"shape\":\"linear\",\"width\":1.3},\"mode\":\"lines\",\"name\":\"Bison\",\"text\":\"\",\"type\":\"scatter\",\"x\":[-0.6931471805599453,-0.5108256237659907,-0.35667494393873245,-0.22314355131420968,-0.10536051565782628,0.0,0.09531017980432495,0.1823215567939546,0.26236426446749106,0.33647223662121284,0.4054651081081644],\"y\":[6.2445604242871586e-12,1.9957369090462667e-11,2.4913335000244394e-07,9.081335683035025e-11,9.901421899699286e-10,0.0,2.4076617520722714e-08,2.6946045391362785e-10,3.2183901294175176e-07,-7.507994226358269e-12,1.7218558251184504e-07]},{\"line\":{\"color\":\"rgba(255, 255, 51, 1.0)\",\"dash\":\"solid\",\"shape\":\"linear\",\"width\":1.3},\"mode\":\"lines\",\"name\":\"Bacon\",\"text\":\"\",\"type\":\"scatter\",\"x\":[-0.6931471805599453,-0.5108256237659907,-0.35667494393873245,-0.22314355131420968,-0.10536051565782628,0.0,0.09531017980432495,0.1823215567939546,0.26236426446749106,0.33647223662121284,0.4054651081081644],\"y\":[9.245435041442929e-09,3.0918156923098166e-11,2.5632837301719425e-08,1.0294344434973198e-08,2.712046197341172e-07,0.0,4.2950976108146116e-11,2.4088508965001894e-11,6.23596729790162e-11,1.8541942416623337e-07,1.2915624124919244e-10]},{\"line\":{\"color\":\"rgba(128, 128, 0, 1.0)\",\"dash\":\"solid\",\"shape\":\"linear\",\"width\":1.3},\"mode\":\"lines\",\"name\":\"Eggs\",\"text\":\"\",\"type\":\"scatter\",\"x\":[-0.6931471805599453,-0.5108256237659907,-0.35667494393873245,-0.22314355131420968,-0.10536051565782628,0.0,0.09531017980432495,0.1823215567939546,0.26236426446749106,0.33647223662121284,0.4054651081081644],\"y\":[-0.010023936990499365,-0.008011095046216452,-0.006002296434604355,-0.003997525242116814,-0.0019967629037961755,0.0,0.001992786107921483,0.003981609026667184,0.00581490613451133,0.0075278828904374335,0.009237932018964019]},{\"line\":{\"color\":\"rgba(251, 128, 114, 1.0)\",\"dash\":\"solid\",\"shape\":\"linear\",\"width\":1.3},\"mode\":\"lines\",\"name\":\"Turkey\",\"text\":\"\",\"type\":\"scatter\",\"x\":[-0.6931471805599453,-0.5108256237659907,-0.35667494393873245,-0.22314355131420968,-0.10536051565782628,0.0,0.09531017980432495,0.1823215567939546,0.26236426446749106,0.33647223662121284,0.4054651081081644],\"y\":[4.696463070276648e-07,8.592948574545578e-11,2.1134312055841886e-09,4.6956616824845374e-08,5.047617877954106e-10,0.0,4.045875404288256e-09,5.465039530533261e-10,3.212492493726264e-10,1.5988783284786442e-07,3.096214395501851e-10]},{\"line\":{\"color\":\"rgba(128, 177, 211, 1.0)\",\"dash\":\"solid\",\"shape\":\"linear\",\"width\":1.3},\"mode\":\"lines\",\"name\":\"Sausage\",\"text\":\"\",\"type\":\"scatter\",\"x\":[-0.6931471805599453,-0.5108256237659907,-0.35667494393873245,-0.22314355131420968,-0.10536051565782628,0.0,0.09531017980432495,0.1823215567939546,0.26236426446749106,0.33647223662121284,0.4054651081081644],\"y\":[1.0129944525271843e-07,2.865010450692575e-10,6.426809286306664e-09,3.729377037884216e-07,3.263784348564598e-09,0.0,1.8478107932480536e-11,9.988350141994937e-10,3.2044804449283197e-07,4.179612013517255e-08,-1.4160006500774425e-11]},{\"line\":{\"color\":\"rgba(128, 177, 211, 0.9047619047619047)\",\"dash\":\"solid\",\"shape\":\"linear\",\"width\":1.3},\"mode\":\"lines\",\"name\":\"Butter\",\"text\":\"\",\"type\":\"scatter\",\"x\":[-0.6931471805599453,-0.5108256237659907,-0.35667494393873245,-0.22314355131420968,-0.10536051565782628,0.0,0.09531017980432495,0.1823215567939546,0.26236426446749106,0.33647223662121284,0.4054651081081644],\"y\":[9.123835423297052e-09,2.4836799280805043e-10,4.437161779461352e-07,5.367239985643328e-11,-2.1547208461948254e-12,0.0,2.049383549649897e-09,1.7078429766908238e-09,2.6741275859973822e-11,2.437887669218084e-10,2.233333517870773e-10]},{\"line\":{\"color\":\"rgba(255, 153, 51, 0.9047619047619047)\",\"dash\":\"solid\",\"shape\":\"linear\",\"width\":1.3},\"mode\":\"lines\",\"name\":\"Raw Liver\",\"text\":\"\",\"type\":\"scatter\",\"x\":[-0.6931471805599453,-0.5108256237659907,-0.35667494393873245,-0.22314355131420968,-0.10536051565782628,0.0,0.09531017980432495,0.1823215567939546,0.26236426446749106,0.33647223662121284,0.4054651081081644],\"y\":[-0.015479825815048047,-0.011106487907486551,-0.007920914990703272,-0.0052736318163563055,-0.0026333399525373994,0.0,0.002626425432783004,0.005245968245410847,0.00785900629465042,0.009584226449109534,0.011286641980995493]},{\"line\":{\"color\":\"rgba(55, 128, 191, 0.9047619047619047)\",\"dash\":\"solid\",\"shape\":\"linear\",\"width\":1.3},\"mode\":\"lines\",\"name\":\"Whole milk\",\"text\":\"\",\"type\":\"scatter\",\"x\":[-0.6931471805599453,-0.5108256237659907,-0.35667494393873245,-0.22314355131420968,-0.10536051565782628,0.0,0.09531017980432495,0.1823215567939546,0.26236426446749106,0.33647223662121284,0.4054651081081644],\"y\":[-0.007812506879092103,-0.00044154068165256353,4.714304391205683e-08,1.9307619393426354e-07,8.81206218717217e-10,0.0,3.340422016492258e-08,4.926002704710208e-09,1.0852052589293698e-10,4.746492088146301e-11,1.4355585598834047e-09]},{\"line\":{\"color\":\"rgba(50, 171, 96, 0.9047619047619047)\",\"dash\":\"solid\",\"shape\":\"linear\",\"width\":1.3},\"mode\":\"lines\",\"name\":\"Yogurt\",\"text\":\"\",\"type\":\"scatter\",\"x\":[-0.6931471805599453,-0.5108256237659907,-0.35667494393873245,-0.22314355131420968,-0.10536051565782628,0.0,0.09531017980432495,0.1823215567939546,0.26236426446749106,0.33647223662121284,0.4054651081081644],\"y\":[2.1738631818804274e-07,5.8016219921676695e-08,1.6326473493139522e-09,1.9252679432154254e-09,3.55209128146422e-09,0.0,1.1949363713591934e-09,4.0986503071976303e-10,1.0562033464473974e-09,3.978146344869666e-07,8.518519223307618e-12]},{\"line\":{\"color\":\"rgba(128, 0, 128, 0.9047619047619047)\",\"dash\":\"solid\",\"shape\":\"linear\",\"width\":1.3},\"mode\":\"lines\",\"name\":\"2% milk\",\"text\":\"\",\"type\":\"scatter\",\"x\":[-0.6931471805599453,-0.5108256237659907,-0.35667494393873245,-0.22314355131420968,-0.10536051565782628,0.0,0.09531017980432495,0.1823215567939546,0.26236426446749106,0.33647223662121284,0.4054651081081644],\"y\":[-0.13050516195298598,-0.10031249366221645,-0.07118607875301182,-0.04288405675152892,-0.01692164554820546,0.0,0.015889304319416705,0.03123307698746083,0.045301281064882425,0.05182582223304507,0.05402621987289928]},{\"line\":{\"color\":\"rgba(219, 64, 82, 0.9047619047619047)\",\"dash\":\"solid\",\"shape\":\"linear\",\"width\":1.3},\"mode\":\"lines\",\"name\":\"Cheddar Cheese\",\"text\":\"\",\"type\":\"scatter\",\"x\":[-0.6931471805599453,-0.5108256237659907,-0.35667494393873245,-0.22314355131420968,-0.10536051565782628,0.0,0.09531017980432495,0.1823215567939546,0.26236426446749106,0.33647223662121284,0.4054651081081644],\"y\":[2.2134671870725475e-10,4.4982106918042786e-10,9.990956945654152e-10,-1.2781886660288654e-11,8.306311194072074e-11,0.0,1.2254819380745514e-10,2.398750972752579e-09,2.063832436151863e-09,3.625268254604739e-07,4.906297590411456e-12]},{\"line\":{\"color\":\"rgba(0, 128, 128, 0.9047619047619047)\",\"dash\":\"solid\",\"shape\":\"linear\",\"width\":1.3},\"mode\":\"lines\",\"name\":\"Swiss Cheese\",\"text\":\"\",\"type\":\"scatter\",\"x\":[-0.6931471805599453,-0.5108256237659907,-0.35667494393873245,-0.22314355131420968,-0.10536051565782628,0.0,0.09531017980432495,0.1823215567939546,0.26236426446749106,0.33647223662121284,0.4054651081081644],\"y\":[3.952249637891342e-10,2.886216377938713e-07,4.4884096438538536e-11,1.5859666343233547e-08,3.024746004642439e-09,0.0,8.027687400488882e-10,3.3664784577769515e-07,9.599923074087912e-10,6.101581460441865e-10,1.6716605875923265e-10]},{\"line\":{\"color\":\"rgba(255, 255, 51, 0.9047619047619047)\",\"dash\":\"solid\",\"shape\":\"linear\",\"width\":1.3},\"mode\":\"lines\",\"name\":\"Ghee\",\"text\":\"\",\"type\":\"scatter\",\"x\":[-0.6931471805599453,-0.5108256237659907,-0.35667494393873245,-0.22314355131420968,-0.10536051565782628,0.0,0.09531017980432495,0.1823215567939546,0.26236426446749106,0.33647223662121284,0.4054651081081644],\"y\":[1.2481482513424952e-10,-3.598232822816606e-12,5.764657451767393e-08,3.945260618089091e-08,4.266123889488696e-09,0.0,1.856292578332705e-07,1.8189534267623857e-07,1.538318361464148e-10,2.4688374817281546e-08,4.940789543057635e-09]},{\"line\":{\"color\":\"rgba(128, 128, 0, 0.9047619047619047)\",\"dash\":\"solid\",\"shape\":\"linear\",\"width\":1.3},\"mode\":\"lines\",\"name\":\"Russet Potato\",\"text\":\"\",\"type\":\"scatter\",\"x\":[-0.6931471805599453,-0.5108256237659907,-0.35667494393873245,-0.22314355131420968,-0.10536051565782628,0.0,0.09531017980432495,0.1823215567939546,0.26236426446749106,0.33647223662121284,0.4054651081081644],\"y\":[-0.11706826353607652,-0.06502534062628698,-0.016924788766440654,-0.00047622183971335395,1.837752172645135e-11,0.0,8.060636599387203e-10,7.462437331953216e-10,5.3059778792744715e-12,4.5259201583696945e-08,1.1984568892124012e-10]},{\"line\":{\"color\":\"rgba(251, 128, 114, 0.9047619047619047)\",\"dash\":\"solid\",\"shape\":\"linear\",\"width\":1.3},\"mode\":\"lines\",\"name\":\"Pasta\",\"text\":\"\",\"type\":\"scatter\",\"x\":[-0.6931471805599453,-0.5108256237659907,-0.35667494393873245,-0.22314355131420968,-0.10536051565782628,0.0,0.09531017980432495,0.1823215567939546,0.26236426446749106,0.33647223662121284,0.4054651081081644],\"y\":[1.4597878460520842e-10,4.234097516145467e-10,1.775439601785297e-08,2.1976087613922994e-10,1.6782344926607072e-07,0.0,5.6605387042726294e-11,4.5279335835287275e-11,5.013724204595104e-07,4.868513346398406e-07,5.996410262380224e-07]},{\"line\":{\"color\":\"rgba(251, 128, 114, 0.8095238095238095)\",\"dash\":\"solid\",\"shape\":\"linear\",\"width\":1.3},\"mode\":\"lines\",\"name\":\"Lemon, raw\",\"text\":\"\",\"type\":\"scatter\",\"x\":[-0.6931471805599453,-0.5108256237659907,-0.35667494393873245,-0.22314355131420968,-0.10536051565782628,0.0,0.09531017980432495,0.1823215567939546,0.26236426446749106,0.33647223662121284,0.4054651081081644],\"y\":[2.814859404632049e-07,-8.327227796235659e-12,1.1558998202374796e-10,3.2828784130185904e-10,1.7091830711147078e-07,0.0,-8.371858761825962e-12,-2.4606983117822246e-12,5.061891400043778e-08,3.447937490480113e-10,1.2012096134458701e-08]},{\"line\":{\"color\":\"rgba(128, 177, 211, 0.8095238095238095)\",\"dash\":\"solid\",\"shape\":\"linear\",\"width\":1.3},\"mode\":\"lines\",\"name\":\"Lime, raw\",\"text\":\"\",\"type\":\"scatter\",\"x\":[-0.6931471805599453,-0.5108256237659907,-0.35667494393873245,-0.22314355131420968,-0.10536051565782628,0.0,0.09531017980432495,0.1823215567939546,0.26236426446749106,0.33647223662121284,0.4054651081081644],\"y\":[9.826750698173045e-09,9.046966024261049e-09,1.7025207321119344e-08,1.533180249306972e-10,3.4412916959899077e-11,0.0,1.3301360013340612e-11,3.4071190312931157e-11,6.184180037811955e-09,4.328583038184254e-09,3.247735413883231e-11]},{\"line\":{\"color\":\"rgba(255, 153, 51, 0.8095238095238095)\",\"dash\":\"solid\",\"shape\":\"linear\",\"width\":1.3},\"mode\":\"lines\",\"name\":\"Nuts, pecans, halves, raw\",\"text\":\"\",\"type\":\"scatter\",\"x\":[-0.6931471805599453,-0.5108256237659907,-0.35667494393873245,-0.22314355131420968,-0.10536051565782628,0.0,0.09531017980432495,0.1823215567939546,0.26236426446749106,0.33647223662121284,0.4054651081081644],\"y\":[6.498537261754406e-10,7.282241476237649e-11,-4.514499885043464e-12,3.4759595196119505e-10,3.1727953592704407e-10,0.0,1.33018795889576e-09,3.1877802569007716e-09,-1.2306933250348053e-11,2.758845828699373e-07,2.3794299863738046e-12]},{\"line\":{\"color\":\"rgba(55, 128, 191, 0.8095238095238095)\",\"dash\":\"solid\",\"shape\":\"linear\",\"width\":1.3},\"mode\":\"lines\",\"name\":\"Nuts, walnuts, English, halves, raw\",\"text\":\"\",\"type\":\"scatter\",\"x\":[-0.6931471805599453,-0.5108256237659907,-0.35667494393873245,-0.22314355131420968,-0.10536051565782628,0.0,0.09531017980432495,0.1823215567939546,0.26236426446749106,0.33647223662121284,0.4054651081081644],\"y\":[1.1039797015567815e-08,3.0726643447107663e-10,1.3958167954699903e-11,5.847752666536757e-08,2.2039972793851923e-07,0.0,6.212293327111866e-09,2.3023760673105044e-10,9.168092947280989e-10,2.6132696003738253e-10,1.3036135197392282e-08]},{\"line\":{\"color\":\"rgba(50, 171, 96, 0.8095238095238095)\",\"dash\":\"solid\",\"shape\":\"linear\",\"width\":1.3},\"mode\":\"lines\",\"name\":\"Cashews, NFS\",\"text\":\"\",\"type\":\"scatter\",\"x\":[-0.6931471805599453,-0.5108256237659907,-0.35667494393873245,-0.22314355131420968,-0.10536051565782628,0.0,0.09531017980432495,0.1823215567939546,0.26236426446749106,0.33647223662121284,0.4054651081081644],\"y\":[8.483573839822249e-10,1.0484058066085321e-11,6.473801396349082e-08,2.4868174183473154e-10,3.0705342665736934e-09,0.0,1.1205574405537929e-08,5.225153643082186e-12,-1.2538192706380346e-11,-2.9367619447427765e-12,2.5226487565500988e-12]},{\"line\":{\"color\":\"rgba(128, 0, 128, 0.8095238095238095)\",\"dash\":\"solid\",\"shape\":\"linear\",\"width\":1.3},\"mode\":\"lines\",\"name\":\"Pistachio nuts, NFS\",\"text\":\"\",\"type\":\"scatter\",\"x\":[-0.6931471805599453,-0.5108256237659907,-0.35667494393873245,-0.22314355131420968,-0.10536051565782628,0.0,0.09531017980432495,0.1823215567939546,0.26236426446749106,0.33647223662121284,0.4054651081081644],\"y\":[-0.05936756481569484,-0.00276697454125616,5.650502288130586e-11,8.361533684166142e-10,2.0315900052705372e-09,0.0,1.6459138483026607e-09,4.841668548780345e-08,7.818488217626364e-08,1.0348695209310991e-07,1.435316310146839e-10]},{\"line\":{\"color\":\"rgba(219, 64, 82, 0.8095238095238095)\",\"dash\":\"solid\",\"shape\":\"linear\",\"width\":1.3},\"mode\":\"lines\",\"name\":\"Almond butter, creamy\",\"text\":\"\",\"type\":\"scatter\",\"x\":[-0.6931471805599453,-0.5108256237659907,-0.35667494393873245,-0.22314355131420968,-0.10536051565782628,0.0,0.09531017980432495,0.1823215567939546,0.26236426446749106,0.33647223662121284,0.4054651081081644],\"y\":[-0.050257096414712044,-0.02454805881055369,-0.005016918839912137,-3.0035888310007383e-05,3.2032376745959576e-10,0.0,1.4340138529287581e-08,1.0164633749664041e-08,1.278861461091845e-10,1.8232104713192764e-10,2.2368992852076004e-08]},{\"line\":{\"color\":\"rgba(0, 128, 128, 0.8095238095238095)\",\"dash\":\"solid\",\"shape\":\"linear\",\"width\":1.3},\"mode\":\"lines\",\"name\":\"Peanut butter, creamy\",\"text\":\"\",\"type\":\"scatter\",\"x\":[-0.6931471805599453,-0.5108256237659907,-0.35667494393873245,-0.22314355131420968,-0.10536051565782628,0.0,0.09531017980432495,0.1823215567939546,0.26236426446749106,0.33647223662121284,0.4054651081081644],\"y\":[-0.10877402852492772,-0.08368497278306283,-0.061048798083593245,-0.03932871087106455,-0.018070374003543298,0.0,0.01640468928538284,0.0319064933976678,0.041194690450142825,0.04119469046492911,0.041195222516290285]},{\"line\":{\"color\":\"rgba(255, 255, 51, 0.8095238095238095)\",\"dash\":\"solid\",\"shape\":\"linear\",\"width\":1.3},\"mode\":\"lines\",\"name\":\"Sweet Potato\",\"text\":\"\",\"type\":\"scatter\",\"x\":[-0.6931471805599453,-0.5108256237659907,-0.35667494393873245,-0.22314355131420968,-0.10536051565782628,0.0,0.09531017980432495,0.1823215567939546,0.26236426446749106,0.33647223662121284,0.4054651081081644],\"y\":[5.05938156755368e-09,9.424052644924328e-10,1.3573171466444405e-09,6.143552333337543e-11,9.167830934647419e-10,0.0,4.2852061710221776e-07,2.6002600623238067e-08,1.5642365311977497e-07,1.2075807020276732e-10,7.397595639994216e-08]},{\"line\":{\"color\":\"rgba(128, 128, 0, 0.8095238095238095)\",\"dash\":\"solid\",\"shape\":\"linear\",\"width\":1.3},\"mode\":\"lines\",\"name\":\"Carrots\",\"text\":\"\",\"type\":\"scatter\",\"x\":[-0.6931471805599453,-0.5108256237659907,-0.35667494393873245,-0.22314355131420968,-0.10536051565782628,0.0,0.09531017980432495,0.1823215567939546,0.26236426446749106,0.33647223662121284,0.4054651081081644],\"y\":[-0.03951512846358595,-0.014365672126661825,-0.001028315685101258,3.5942653762379156e-08,2.83935775216227e-07,0.0,1.02547732154787e-07,2.733547606753354e-09,1.0068721407113001e-09,9.511307292793058e-10,1.17533938068555e-09]},{\"line\":{\"color\":\"rgba(128, 128, 0, 0.7142857142857142)\",\"dash\":\"solid\",\"shape\":\"linear\",\"width\":1.3},\"mode\":\"lines\",\"name\":\"White rice (glutinous)\",\"text\":\"\",\"type\":\"scatter\",\"x\":[-0.6931471805599453,-0.5108256237659907,-0.35667494393873245,-0.22314355131420968,-0.10536051565782628,0.0,0.09531017980432495,0.1823215567939546,0.26236426446749106,0.33647223662121284,0.4054651081081644],\"y\":[1.784310476989477e-10,2.6162396659284065e-09,9.193241719211711e-10,1.1828922607915968e-07,4.410400931105283e-07,0.0,4.2080077805957836e-07,8.918477063988152e-10,2.5671686998077976e-11,2.2895687078646375e-07,-9.08861874653022e-12]},{\"line\":{\"color\":\"rgba(251, 128, 114, 0.7142857142857142)\",\"dash\":\"solid\",\"shape\":\"linear\",\"width\":1.3},\"mode\":\"lines\",\"name\":\"Wild rice\",\"text\":\"\",\"type\":\"scatter\",\"x\":[-0.6931471805599453,-0.5108256237659907,-0.35667494393873245,-0.22314355131420968,-0.10536051565782628,0.0,0.09531017980432495,0.1823215567939546,0.26236426446749106,0.33647223662121284,0.4054651081081644],\"y\":[1.825970485757991e-10,1.0666156846070462e-10,1.8214451375905937e-07,1.0202265693717707e-09,5.0266907816229366e-08,0.0,2.694779491725284e-07,2.5232593788984825e-10,1.0146483652757997e-10,2.688253616095904e-09,2.653640637038825e-09]},{\"line\":{\"color\":\"rgba(128, 177, 211, 0.7142857142857142)\",\"dash\":\"solid\",\"shape\":\"linear\",\"width\":1.3},\"mode\":\"lines\",\"name\":\"Whole grain bread\",\"text\":\"\",\"type\":\"scatter\",\"x\":[-0.6931471805599453,-0.5108256237659907,-0.35667494393873245,-0.22314355131420968,-0.10536051565782628,0.0,0.09531017980432495,0.1823215567939546,0.26236426446749106,0.33647223662121284,0.4054651081081644],\"y\":[1.498648727210782e-08,1.5308432287859276e-09,1.378758217755879e-09,9.513054783832158e-10,3.3403688648179826e-09,0.0,1.3912825683554453e-08,8.7365758690006e-09,1.3968604050253184e-10,3.374545087239278e-10,2.9141056192289327e-09]},{\"line\":{\"color\":\"rgba(255, 153, 51, 0.7142857142857142)\",\"dash\":\"solid\",\"shape\":\"linear\",\"width\":1.3},\"mode\":\"lines\",\"name\":\"White bread\",\"text\":\"\",\"type\":\"scatter\",\"x\":[-0.6931471805599453,-0.5108256237659907,-0.35667494393873245,-0.22314355131420968,-0.10536051565782628,0.0,0.09531017980432495,0.1823215567939546,0.26236426446749106,0.33647223662121284,0.4054651081081644],\"y\":[2.6870765399677465e-07,7.665793528120697e-08,1.1785994395712223e-09,4.0361758371813345e-10,1.816864436511674e-10,0.0,1.729958202487971e-07,1.6322208016285875e-09,6.0095312989621895e-09,2.519751131531122e-08,2.8620685766816527e-07]},{\"line\":{\"color\":\"rgba(55, 128, 191, 0.7142857142857142)\",\"dash\":\"solid\",\"shape\":\"linear\",\"width\":1.3},\"mode\":\"lines\",\"name\":\"Whole wheat pasta\",\"text\":\"\",\"type\":\"scatter\",\"x\":[-0.6931471805599453,-0.5108256237659907,-0.35667494393873245,-0.22314355131420968,-0.10536051565782628,0.0,0.09531017980432495,0.1823215567939546,0.26236426446749106,0.33647223662121284,0.4054651081081644],\"y\":[3.07409177828877e-08,2.0072536986489512e-08,1.3888429643150459e-08,1.1286482858781432e-10,1.2276155640048464e-09,0.0,9.415423995574329e-11,1.8351631324002045e-10,1.575806152107804e-10,5.4659388125271583e-11,1.0656586724110246e-11]},{\"line\":{\"color\":\"rgba(50, 171, 96, 0.7142857142857142)\",\"dash\":\"solid\",\"shape\":\"linear\",\"width\":1.3},\"mode\":\"lines\",\"name\":\"Lettuce, iceberg, raw\",\"text\":\"\",\"type\":\"scatter\",\"x\":[-0.6931471805599453,-0.5108256237659907,-0.35667494393873245,-0.22314355131420968,-0.10536051565782628,0.0,0.09531017980432495,0.1823215567939546,0.26236426446749106,0.33647223662121284,0.4054651081081644],\"y\":[1.219567557309186e-09,3.7691798173547934e-07,2.2012377829177154e-07,-5.719313911372849e-12,2.065193416190146e-07,0.0,1.4163467631673835e-08,1.6914047938589402e-10,1.4562790962512336e-09,4.323170364235491e-07,1.8398829854610211e-07]},{\"line\":{\"color\":\"rgba(128, 0, 128, 0.7142857142857142)\",\"dash\":\"solid\",\"shape\":\"linear\",\"width\":1.3},\"mode\":\"lines\",\"name\":\"Lettuce, romaine, green, raw\",\"text\":\"\",\"type\":\"scatter\",\"x\":[-0.6931471805599453,-0.5108256237659907,-0.35667494393873245,-0.22314355131420968,-0.10536051565782628,0.0,0.09531017980432495,0.1823215567939546,0.26236426446749106,0.33647223662121284,0.4054651081081644],\"y\":[1.0884453456819273e-07,5.541650678530512e-09,-1.9009460672417536e-11,1.6779375652609373e-09,1.3332490658151799e-09,0.0,3.742804152063684e-08,1.316449524891675e-07,1.295148432861e-10,3.933989224392382e-07,1.3307468451656128e-09]},{\"line\":{\"color\":\"rgba(219, 64, 82, 0.7142857142857142)\",\"dash\":\"solid\",\"shape\":\"linear\",\"width\":1.3},\"mode\":\"lines\",\"name\":\"Cucumber, with peel, raw\",\"text\":\"\",\"type\":\"scatter\",\"x\":[-0.6931471805599453,-0.5108256237659907,-0.35667494393873245,-0.22314355131420968,-0.10536051565782628,0.0,0.09531017980432495,0.1823215567939546,0.26236426446749106,0.33647223662121284,0.4054651081081644],\"y\":[1.2477468479373885e-07,1.1112731494830991e-07,4.422300302752416e-10,9.482226110913644e-10,1.2235637761399947e-08,0.0,3.9723580968319056e-08,3.136416632740333e-08,4.141538214902677e-09,8.393663541642288e-11,1.3036929228889142e-08]},{\"line\":{\"color\":\"rgba(0, 128, 128, 0.7142857142857142)\",\"dash\":\"solid\",\"shape\":\"linear\",\"width\":1.3},\"mode\":\"lines\",\"name\":\"Broccoli, raw\",\"text\":\"\",\"type\":\"scatter\",\"x\":[-0.6931471805599453,-0.5108256237659907,-0.35667494393873245,-0.22314355131420968,-0.10536051565782628,0.0,0.09531017980432495,0.1823215567939546,0.26236426446749106,0.33647223662121284,0.4054651081081644],\"y\":[1.8996033616934575e-09,2.9488836271041948e-08,-3.3822944445262594e-12,1.3613414830586314e-09,3.4034230931105363e-09,0.0,7.344598260206745e-10,1.6013526047910269e-09,1.1881398080551414e-09,2.85571566393675e-12,7.502787277530001e-10]},{\"line\":{\"color\":\"rgba(255, 255, 51, 0.7142857142857142)\",\"dash\":\"solid\",\"shape\":\"linear\",\"width\":1.3},\"mode\":\"lines\",\"name\":\"Kale, raw\",\"text\":\"\",\"type\":\"scatter\",\"x\":[-0.6931471805599453,-0.5108256237659907,-0.35667494393873245,-0.22314355131420968,-0.10536051565782628,0.0,0.09531017980432495,0.1823215567939546,0.26236426446749106,0.33647223662121284,0.4054651081081644],\"y\":[-0.0008954445548504369,5.312320619960161e-08,2.241145047070288e-10,1.3098411244519018e-12,2.7973690027134135e-10,0.0,2.3146284886074392e-10,2.0702919357403853e-09,1.5785188699244703e-09,4.99402741370467e-11,3.532329984005996e-11]},{\"line\":{\"color\":\"rgba(255, 255, 51, 0.6190476190476191)\",\"dash\":\"solid\",\"shape\":\"linear\",\"width\":1.3},\"mode\":\"lines\",\"name\":\"Spinach, mature\",\"text\":\"\",\"type\":\"scatter\",\"x\":[-0.6931471805599453,-0.5108256237659907,-0.35667494393873245,-0.22314355131420968,-0.10536051565782628,0.0,0.09531017980432495,0.1823215567939546,0.26236426446749106,0.33647223662121284,0.4054651081081644],\"y\":[1.4092568318505474e-07,7.756641992362908e-10,3.8233061154154577e-10,2.722730510092259e-07,9.375389353705648e-12,0.0,2.2915358497005542e-10,2.4857256222446962e-09,4.969002985619771e-10,1.6135748280048735e-09,9.451328608589293e-12]},{\"line\":{\"color\":\"rgba(128, 128, 0, 0.6190476190476191)\",\"dash\":\"solid\",\"shape\":\"linear\",\"width\":1.3},\"mode\":\"lines\",\"name\":\"Lettuce, arugula, raw\",\"text\":\"\",\"type\":\"scatter\",\"x\":[-0.6931471805599453,-0.5108256237659907,-0.35667494393873245,-0.22314355131420968,-0.10536051565782628,0.0,0.09531017980432495,0.1823215567939546,0.26236426446749106,0.33647223662121284,0.4054651081081644],\"y\":[2.0805314882651085e-07,1.6584602566386155e-09,1.1021936178067059e-07,4.2721381987566896e-13,6.07786931709636e-10,0.0,3.7079296064797337e-07,7.024070214109783e-11,1.9053580933420265e-10,3.716660305940116e-09,2.359062584097098e-08]},{\"line\":{\"color\":\"rgba(251, 128, 114, 0.6190476190476191)\",\"dash\":\"solid\",\"shape\":\"linear\",\"width\":1.3},\"mode\":\"lines\",\"name\":\"Collards, raw\",\"text\":\"\",\"type\":\"scatter\",\"x\":[-0.6931471805599453,-0.5108256237659907,-0.35667494393873245,-0.22314355131420968,-0.10536051565782628,0.0,0.09531017980432495,0.1823215567939546,0.26236426446749106,0.33647223662121284,0.4054651081081644],\"y\":[-0.0034409913867816514,-0.0022404800334824403,-0.0016798891300228466,-0.0011196130119520116,-0.0005595352838347427,0.0,0.0005593374142166019,0.0011187246397891786,0.0016770731179304487,0.002235473121614888,0.0027935621436318485]},{\"line\":{\"color\":\"rgba(128, 177, 211, 0.6190476190476191)\",\"dash\":\"solid\",\"shape\":\"linear\",\"width\":1.3},\"mode\":\"lines\",\"name\":\"Cabbage, green, raw\",\"text\":\"\",\"type\":\"scatter\",\"x\":[-0.6931471805599453,-0.5108256237659907,-0.35667494393873245,-0.22314355131420968,-0.10536051565782628,0.0,0.09531017980432495,0.1823215567939546,0.26236426446749106,0.33647223662121284,0.4054651081081644],\"y\":[-0.008109329136434402,1.2126249042428324e-08,1.663304369281998e-08,1.4129131188377729e-09,1.5611529834451501e-09,0.0,2.627242867358096e-10,5.690333299465547e-09,6.686253660361935e-08,7.87351139931672e-08,1.5553800457707e-09]},{\"line\":{\"color\":\"rgba(255, 153, 51, 0.6190476190476191)\",\"dash\":\"solid\",\"shape\":\"linear\",\"width\":1.3},\"mode\":\"lines\",\"name\":\"Carrots, raw\",\"text\":\"\",\"type\":\"scatter\",\"x\":[-0.6931471805599453,-0.5108256237659907,-0.35667494393873245,-0.22314355131420968,-0.10536051565782628,0.0,0.09531017980432495,0.1823215567939546,0.26236426446749106,0.33647223662121284,0.4054651081081644],\"y\":[-0.1419361421375112,-0.06038036885917845,-0.015676062547939438,1.8366130836700987e-10,9.273149316505427e-09,0.0,6.26544858475324e-09,2.36376858349737e-07,1.0798046895242776e-09,2.0513637467005995e-08,4.5181838168665925e-09]},{\"line\":{\"color\":\"rgba(55, 128, 191, 0.6190476190476191)\",\"dash\":\"solid\",\"shape\":\"linear\",\"width\":1.3},\"mode\":\"lines\",\"name\":\"Asparagus, raw\",\"text\":\"\",\"type\":\"scatter\",\"x\":[-0.6931471805599453,-0.5108256237659907,-0.35667494393873245,-0.22314355131420968,-0.10536051565782628,0.0,0.09531017980432495,0.1823215567939546,0.26236426446749106,0.33647223662121284,0.4054651081081644],\"y\":[2.199840309889074e-11,1.6843018077165996e-09,4.305708030679886e-08,1.2061905479724664e-07,5.06328133693024e-09,0.0,1.975413164426265e-09,1.087232969729391e-09,3.369425703859119e-08,4.1422602267424625e-08,8.921046120064843e-10]},{\"line\":{\"color\":\"rgba(50, 171, 96, 0.6190476190476191)\",\"dash\":\"solid\",\"shape\":\"linear\",\"width\":1.3},\"mode\":\"lines\",\"name\":\"Celery, raw\",\"text\":\"\",\"type\":\"scatter\",\"x\":[-0.6931471805599453,-0.5108256237659907,-0.35667494393873245,-0.22314355131420968,-0.10536051565782628,0.0,0.09531017980432495,0.1823215567939546,0.26236426446749106,0.33647223662121284,0.4054651081081644],\"y\":[1.7359092411177518e-07,1.6630645943040558e-07,1.9743853290519017e-07,7.103915231318182e-10,1.3451639801137603e-10,0.0,1.3014345156256115e-10,2.9544597664897062e-08,3.208817655515935e-10,2.022382261636735e-11,1.016369210963794e-10]},{\"line\":{\"color\":\"rgba(128, 0, 128, 0.6190476190476191)\",\"dash\":\"solid\",\"shape\":\"linear\",\"width\":1.3},\"mode\":\"lines\",\"name\":\"Avocado, raw\",\"text\":\"\",\"type\":\"scatter\",\"x\":[-0.6931471805599453,-0.5108256237659907,-0.35667494393873245,-0.22314355131420968,-0.10536051565782628,0.0,0.09531017980432495,0.1823215567939546,0.26236426446749106,0.33647223662121284,0.4054651081081644],\"y\":[-0.31998201349816036,-0.24551831089862292,-0.17696234373802003,-0.1131746258795849,-0.05426166481198228,0.0,0.04529131230295309,0.08552265463842147,0.09318427145794256,0.09317282391570267,0.09317280481271084]},{\"line\":{\"color\":\"rgba(219, 64, 82, 0.6190476190476191)\",\"dash\":\"solid\",\"shape\":\"linear\",\"width\":1.3},\"mode\":\"lines\",\"name\":\"Onions, red, raw\",\"text\":\"\",\"type\":\"scatter\",\"x\":[-0.6931471805599453,-0.5108256237659907,-0.35667494393873245,-0.22314355131420968,-0.10536051565782628,0.0,0.09531017980432495,0.1823215567939546,0.26236426446749106,0.33647223662121284,0.4054651081081644],\"y\":[9.184586420519686e-10,3.7405212253925666e-10,1.6044241478060314e-09,2.2699873066571354e-09,1.1405787424994116e-10,0.0,2.546363120326854e-11,1.517586955688148e-08,3.0069124963203533e-10,3.6269769344294066e-09,7.814952823703099e-08]},{\"line\":{\"color\":\"rgba(0, 128, 128, 0.6190476190476191)\",\"dash\":\"solid\",\"shape\":\"linear\",\"width\":1.3},\"mode\":\"lines\",\"name\":\"Onions, yellow, raw\",\"text\":\"\",\"type\":\"scatter\",\"x\":[-0.6931471805599453,-0.5108256237659907,-0.35667494393873245,-0.22314355131420968,-0.10536051565782628,0.0,0.09531017980432495,0.1823215567939546,0.26236426446749106,0.33647223662121284,0.4054651081081644],\"y\":[1.1211941312468185e-08,6.497983562160303e-08,1.01826302893242e-09,1.507992618527812e-09,9.612866058254882e-11,0.0,1.6576242847829586e-07,5.262741352432724e-10,2.7863267245135745e-10,4.3221448596459284e-08,1.9587125235888896e-09]},{\"line\":{\"color\":\"rgba(0, 128, 128, 0.5238095238095237)\",\"dash\":\"solid\",\"shape\":\"linear\",\"width\":1.3},\"mode\":\"lines\",\"name\":\"Onions, white, raw\",\"text\":\"\",\"type\":\"scatter\",\"x\":[-0.6931471805599453,-0.5108256237659907,-0.35667494393873245,-0.22314355131420968,-0.10536051565782628,0.0,0.09531017980432495,0.1823215567939546,0.26236426446749106,0.33647223662121284,0.4054651081081644],\"y\":[4.2022785242731316e-10,1.3896699337160009e-09,3.993300127034648e-09,6.764404791185009e-09,1.1766254636587648e-10,0.0,5.761635612889223e-11,1.85650383937561e-10,9.978969600813714e-09,8.049438889969853e-10,3.764071276182079e-10]},{\"line\":{\"color\":\"rgba(255, 255, 51, 0.5238095238095237)\",\"dash\":\"solid\",\"shape\":\"linear\",\"width\":1.3},\"mode\":\"lines\",\"name\":\"SLICED MUSHROOMS, BABY BELLA\",\"text\":\"\",\"type\":\"scatter\",\"x\":[-0.6931471805599453,-0.5108256237659907,-0.35667494393873245,-0.22314355131420968,-0.10536051565782628,0.0,0.09531017980432495,0.1823215567939546,0.26236426446749106,0.33647223662121284,0.4054651081081644],\"y\":[1.2460508173059457e-09,-4.156230914995373e-12,5.049104677155877e-09,1.5864482934727182e-08,8.792106855744598e-08,0.0,7.127345799242832e-09,2.2301205324382247e-10,2.0849171505059547e-08,1.2690363790337088e-08,4.5310599706420574e-10]},{\"line\":{\"color\":\"rgba(128, 128, 0, 0.5238095238095237)\",\"dash\":\"solid\",\"shape\":\"linear\",\"width\":1.3},\"mode\":\"lines\",\"name\":\"Garlic, raw\",\"text\":\"\",\"type\":\"scatter\",\"x\":[-0.6931471805599453,-0.5108256237659907,-0.35667494393873245,-0.22314355131420968,-0.10536051565782628,0.0,0.09531017980432495,0.1823215567939546,0.26236426446749106,0.33647223662121284,0.4054651081081644],\"y\":[5.50508459523803e-09,6.395299158668371e-09,1.4137535585656408e-10,1.216346829223956e-07,8.220690479063649e-08,0.0,9.691580871115878e-12,1.0249630463115737e-07,4.60865011869903e-07,5.319967299342768e-07,4.423860580772258e-07]},{\"line\":{\"color\":\"rgba(251, 128, 114, 0.5238095238095237)\",\"dash\":\"solid\",\"shape\":\"linear\",\"width\":1.3},\"mode\":\"lines\",\"name\":\"Eggplant, raw\",\"text\":\"\",\"type\":\"scatter\",\"x\":[-0.6931471805599453,-0.5108256237659907,-0.35667494393873245,-0.22314355131420968,-0.10536051565782628,0.0,0.09531017980432495,0.1823215567939546,0.26236426446749106,0.33647223662121284,0.4054651081081644],\"y\":[2.358047090894553e-11,1.2452539334846224e-07,2.0941026690457775e-12,7.361482531952828e-10,1.7791474332058395e-07,0.0,2.4333512979405703e-10,4.460308289826255e-08,3.146787936381581e-09,1.1284040368127534e-10,2.2595612903035177e-08]},{\"line\":{\"color\":\"rgba(128, 177, 211, 0.5238095238095237)\",\"dash\":\"solid\",\"shape\":\"linear\",\"width\":1.3},\"mode\":\"lines\",\"name\":\"Green beans, raw\",\"text\":\"\",\"type\":\"scatter\",\"x\":[-0.6931471805599453,-0.5108256237659907,-0.35667494393873245,-0.22314355131420968,-0.10536051565782628,0.0,0.09531017980432495,0.1823215567939546,0.26236426446749106,0.33647223662121284,0.4054651081081644],\"y\":[4.324895996794266e-11,8.005750696966084e-09,1.622895151466724e-10,9.417355784036085e-12,1.349507172585509e-10,0.0,4.9717093427498204e-08,4.5185188913615666e-10,5.276174282239406e-07,-4.1611158962959526e-13,2.079454621005023e-07]},{\"line\":{\"color\":\"rgba(255, 153, 51, 0.5238095238095237)\",\"dash\":\"solid\",\"shape\":\"linear\",\"width\":1.3},\"mode\":\"lines\",\"name\":\"Black beans, NFS\",\"text\":\"\",\"type\":\"scatter\",\"x\":[-0.6931471805599453,-0.5108256237659907,-0.35667494393873245,-0.22314355131420968,-0.10536051565782628,0.0,0.09531017980432495,0.1823215567939546,0.26236426446749106,0.33647223662121284,0.4054651081081644],\"y\":[-0.0404954536930554,-0.02664610034937947,-0.012986360058840431,-0.0025286764778815573,-0.0007877457258412593,0.0,0.0007871274253911869,0.0015736357941214501,0.00235952608911873,0.003144859226644734,0.003594249801455692]},{\"line\":{\"color\":\"rgba(55, 128, 191, 0.5238095238095237)\",\"dash\":\"solid\",\"shape\":\"linear\",\"width\":1.3},\"mode\":\"lines\",\"name\":\"Pinto beans, NFS\",\"text\":\"\",\"type\":\"scatter\",\"x\":[-0.6931471805599453,-0.5108256237659907,-0.35667494393873245,-0.22314355131420968,-0.10536051565782628,0.0,0.09531017980432495,0.1823215567939546,0.26236426446749106,0.33647223662121284,0.4054651081081644],\"y\":[-0.003489681290439886,1.5289711157958605e-08,2.7512974083331736e-09,2.181814971537399e-08,9.424838686822264e-11,0.0,6.091886831501333e-08,6.376432714968338e-11,1.3639454139699375e-08,2.774488444914628e-08,1.8552873448451768e-07]},{\"line\":{\"color\":\"rgba(50, 171, 96, 0.5238095238095237)\",\"dash\":\"solid\",\"shape\":\"linear\",\"width\":1.3},\"mode\":\"lines\",\"name\":\"Green peas, raw\",\"text\":\"\",\"type\":\"scatter\",\"x\":[-0.6931471805599453,-0.5108256237659907,-0.35667494393873245,-0.22314355131420968,-0.10536051565782628,0.0,0.09531017980432495,0.1823215567939546,0.26236426446749106,0.33647223662121284,0.4054651081081644],\"y\":[8.144596105333426e-10,6.225613519648448e-08,4.4319194618745766e-07,-8.370859561103791e-12,1.6840277619947016e-07,0.0,1.6700196780877082e-11,8.159821703880724e-10,5.727462931955326e-09,1.4324341711753253e-10,1.0562963115024528e-08]},{\"line\":{\"color\":\"rgba(128, 0, 128, 0.5238095238095237)\",\"dash\":\"solid\",\"shape\":\"linear\",\"width\":1.3},\"mode\":\"lines\",\"name\":\"Corn, raw\",\"text\":\"\",\"type\":\"scatter\",\"x\":[-0.6931471805599453,-0.5108256237659907,-0.35667494393873245,-0.22314355131420968,-0.10536051565782628,0.0,0.09531017980432495,0.1823215567939546,0.26236426446749106,0.33647223662121284,0.4054651081081644],\"y\":[6.56597463131633e-09,2.442514409965133e-09,3.396883213383916e-09,2.60492516412292e-10,9.24650907118702e-09,0.0,1.0105094538404163e-10,2.2055024473145374e-11,2.3415809081357002e-07,1.1395155923468287e-09,7.753864217062959e-11]},{\"line\":{\"color\":\"rgba(219, 64, 82, 0.5238095238095237)\",\"dash\":\"solid\",\"shape\":\"linear\",\"width\":1.3},\"mode\":\"lines\",\"name\":\"Brussels sprouts, raw\",\"text\":\"\",\"type\":\"scatter\",\"x\":[-0.6931471805599453,-0.5108256237659907,-0.35667494393873245,-0.22314355131420968,-0.10536051565782628,0.0,0.09531017980432495,0.1823215567939546,0.26236426446749106,0.33647223662121284,0.4054651081081644],\"y\":[-0.01227463632724372,-0.002694319120603057,-0.0007107728041683215,1.0494121132114083e-07,6.266101395887629e-09,0.0,4.943621277890249e-09,6.248245037118091e-08,3.561009264606461e-10,1.6179062521061477e-09,2.0708552629019134e-09]},{\"line\":{\"color\":\"rgba(219, 64, 82, 0.42857142857142866)\",\"dash\":\"solid\",\"shape\":\"linear\",\"width\":1.3},\"mode\":\"lines\",\"name\":\"Lentils, NFS\",\"text\":\"\",\"type\":\"scatter\",\"x\":[-0.6931471805599453,-0.5108256237659907,-0.35667494393873245,-0.22314355131420968,-0.10536051565782628,0.0,0.09531017980432495,0.1823215567939546,0.26236426446749106,0.33647223662121284,0.4054651081081644],\"y\":[-0.06519257113305175,-0.041880618748024914,-0.03021235550286888,-0.0188916981746727,-0.008144383766395317,0.0,0.004375376966457119,0.0076582768379757065,0.00765793766963337,0.007657947177697522,0.007657967135176038]},{\"line\":{\"color\":\"rgba(0, 128, 128, 0.42857142857142866)\",\"dash\":\"solid\",\"shape\":\"linear\",\"width\":1.3},\"mode\":\"lines\",\"name\":\"Tomato, roma\",\"text\":\"\",\"type\":\"scatter\",\"x\":[-0.6931471805599453,-0.5108256237659907,-0.35667494393873245,-0.22314355131420968,-0.10536051565782628,0.0,0.09531017980432495,0.1823215567939546,0.26236426446749106,0.33647223662121284,0.4054651081081644],\"y\":[2.3999138203457812e-09,2.6547022322921536e-09,6.654802020617171e-09,4.1499778529603204e-08,-1.2583933894995478e-11,0.0,2.0267096834250925e-07,4.562350497384211e-12,5.772962313733489e-09,3.9769110668148824e-07,5.2929536907054134e-08]},{\"line\":{\"color\":\"rgba(255, 255, 51, 0.42857142857142866)\",\"dash\":\"solid\",\"shape\":\"linear\",\"width\":1.3},\"mode\":\"lines\",\"name\":\"Tomato, grape,raw\",\"text\":\"\",\"type\":\"scatter\",\"x\":[-0.6931471805599453,-0.5108256237659907,-0.35667494393873245,-0.22314355131420968,-0.10536051565782628,0.0,0.09531017980432495,0.1823215567939546,0.26236426446749106,0.33647223662121284,0.4054651081081644],\"y\":[5.1050365297621256e-08,7.109015595889685e-10,1.994251206626109e-09,1.3803227440400225e-09,2.972049272911496e-10,0.0,1.2189864019071586e-07,2.0590359649590526e-08,2.755238259386635e-10,1.5019496756290057e-10,2.0843718977854675e-08]},{\"line\":{\"color\":\"rgba(128, 128, 0, 0.42857142857142866)\",\"dash\":\"solid\",\"shape\":\"linear\",\"width\":1.3},\"mode\":\"lines\",\"name\":\"Peppers, bell, green, raw\",\"text\":\"\",\"type\":\"scatter\",\"x\":[-0.6931471805599453,-0.5108256237659907,-0.35667494393873245,-0.22314355131420968,-0.10536051565782628,0.0,0.09531017980432495,0.1823215567939546,0.26236426446749106,0.33647223662121284,0.4054651081081644],\"y\":[-0.01546589883240191,-0.01228323185997468,-0.009198250036152657,-0.006122756282798055,-0.003056556807759095,0.0,0.002261451991083488,0.0022614446132770026,0.0022614747642608277,0.002261451694665783,0.002261591835689476]},{\"line\":{\"color\":\"rgba(251, 128, 114, 0.42857142857142866)\",\"dash\":\"solid\",\"shape\":\"linear\",\"width\":1.3},\"mode\":\"lines\",\"name\":\"Peppers, bell, orange, raw\",\"text\":\"\",\"type\":\"scatter\",\"x\":[-0.6931471805599453,-0.5108256237659907,-0.35667494393873245,-0.22314355131420968,-0.10536051565782628,0.0,0.09531017980432495,0.1823215567939546,0.26236426446749106,0.33647223662121284,0.4054651081081644],\"y\":[-0.009728008375678226,-0.0059589361461897606,-0.0022040118810485354,2.813943149981018e-08,1.3025054359915912e-09,0.0,1.7141745785894277e-09,1.113671377277629e-10,1.0137852774340513e-09,1.6971553037401632e-09,1.5137477926341686e-09]},{\"line\":{\"color\":\"rgba(128, 177, 211, 0.42857142857142866)\",\"dash\":\"solid\",\"shape\":\"linear\",\"width\":1.3},\"mode\":\"lines\",\"name\":\"Peppers, bell, red, raw\",\"text\":\"\",\"type\":\"scatter\",\"x\":[-0.6931471805599453,-0.5108256237659907,-0.35667494393873245,-0.22314355131420968,-0.10536051565782628,0.0,0.09531017980432495,0.1823215567939546,0.26236426446749106,0.33647223662121284,0.4054651081081644],\"y\":[-0.013396672003595959,-0.010055665191256747,-0.006725781530740358,-0.0034069466585373636,-9.909908559825302e-05,0.0,1.0093148538660402e-10,4.5037951136156295e-10,1.6809555955260098e-09,1.1158054474150659e-09,-1.675959371297442e-11]},{\"line\":{\"color\":\"rgba(255, 153, 51, 0.42857142857142866)\",\"dash\":\"solid\",\"shape\":\"linear\",\"width\":1.3},\"mode\":\"lines\",\"name\":\"Peppers, bell, yellow, raw\",\"text\":\"\",\"type\":\"scatter\",\"x\":[-0.6931471805599453,-0.5108256237659907,-0.35667494393873245,-0.22314355131420968,-0.10536051565782628,0.0,0.09531017980432495,0.1823215567939546,0.26236426446749106,0.33647223662121284,0.4054651081081644],\"y\":[-0.008049639314504987,-0.003766699751739238,2.786208930668855e-07,1.687257874726207e-08,1.8037904501760552e-10,0.0,5.489560790859246e-09,5.572478033012995e-10,-3.2208680167452285e-12,1.0998590920854357e-09,1.968304628458212e-09]},{\"line\":{\"color\":\"rgba(55, 128, 191, 0.42857142857142866)\",\"dash\":\"solid\",\"shape\":\"linear\",\"width\":1.3},\"mode\":\"lines\",\"name\":\"ZUCCHINI\",\"text\":\"\",\"type\":\"scatter\",\"x\":[-0.6931471805599453,-0.5108256237659907,-0.35667494393873245,-0.22314355131420968,-0.10536051565782628,0.0,0.09531017980432495,0.1823215567939546,0.26236426446749106,0.33647223662121284,0.4054651081081644],\"y\":[9.937362043860603e-11,8.358412234970872e-08,1.8278711877411872e-12,1.4565235673609e-09,9.872147543400581e-11,0.0,4.932818454167786e-08,1.3927459184966314e-10,4.010536398116688e-07,2.2106392694079455e-08,1.1114052949479712e-08]},{\"line\":{\"color\":\"rgba(50, 171, 96, 0.42857142857142866)\",\"dash\":\"solid\",\"shape\":\"linear\",\"width\":1.3},\"mode\":\"lines\",\"name\":\"Bananas, ripe and slightly ripe, raw\",\"text\":\"\",\"type\":\"scatter\",\"x\":[-0.6931471805599453,-0.5108256237659907,-0.35667494393873245,-0.22314355131420968,-0.10536051565782628,0.0,0.09531017980432495,0.1823215567939546,0.26236426446749106,0.33647223662121284,0.4054651081081644],\"y\":[-0.019579724737191675,-0.004345892568870265,1.2503242884704888e-10,3.667307566850621e-07,3.4913183454777834e-11,0.0,4.4539261158178527e-10,2.3076278867514348e-07,1.5359706614934773e-07,1.4164633900208967e-09,1.491539557416753e-09]},{\"line\":{\"color\":\"rgba(128, 0, 128, 0.42857142857142866)\",\"dash\":\"solid\",\"shape\":\"linear\",\"width\":1.3},\"mode\":\"lines\",\"name\":\"Apples, fuji, with skin, raw\",\"text\":\"\",\"type\":\"scatter\",\"x\":[-0.6931471805599453,-0.5108256237659907,-0.35667494393873245,-0.22314355131420968,-0.10536051565782628,0.0,0.09531017980432495,0.1823215567939546,0.26236426446749106,0.33647223662121284,0.4054651081081644],\"y\":[6.233515923714848e-10,5.290545779106309e-11,-1.5893619753752657e-11,1.7106740293275626e-07,5.3192055788635444e-08,0.0,4.419797861022981e-12,1.7180321595041704e-09,3.1536082584449728e-09,5.193316874156416e-09,4.852675836132633e-07]},{\"line\":{\"color\":\"rgba(128, 0, 128, 0.3333333333333333)\",\"dash\":\"solid\",\"shape\":\"linear\",\"width\":1.3},\"mode\":\"lines\",\"name\":\"Apples, gala, with skin, raw\",\"text\":\"\",\"type\":\"scatter\",\"x\":[-0.6931471805599453,-0.5108256237659907,-0.35667494393873245,-0.22314355131420968,-0.10536051565782628,0.0,0.09531017980432495,0.1823215567939546,0.26236426446749106,0.33647223662121284,0.4054651081081644],\"y\":[1.7164525341874462e-09,2.484834560303676e-11,1.1441736447116481e-11,1.3730807592603629e-09,2.253430775058029e-10,0.0,-1.3435363932591587e-11,5.296698621221223e-09,6.558101373766563e-09,1.652862291342498e-10,2.2081569881527584e-09]},{\"line\":{\"color\":\"rgba(219, 64, 82, 0.3333333333333333)\",\"dash\":\"solid\",\"shape\":\"linear\",\"width\":1.3},\"mode\":\"lines\",\"name\":\"Apples, honeycrisp, with skin, raw\",\"text\":\"\",\"type\":\"scatter\",\"x\":[-0.6931471805599453,-0.5108256237659907,-0.35667494393873245,-0.22314355131420968,-0.10536051565782628,0.0,0.09531017980432495,0.1823215567939546,0.26236426446749106,0.33647223662121284,0.4054651081081644],\"y\":[1.191695630993242e-10,2.329936243911703e-11,2.9965077041407178e-09,9.8266992599897e-08,3.853522604693536e-09,0.0,5.303608661947585e-10,5.528013600901436e-10,1.2317324937024233e-10,6.348277457252106e-10,1.0912520605332583e-08]},{\"line\":{\"color\":\"rgba(0, 128, 128, 0.3333333333333333)\",\"dash\":\"solid\",\"shape\":\"linear\",\"width\":1.3},\"mode\":\"lines\",\"name\":\"Oranges, raw, navels\",\"text\":\"\",\"type\":\"scatter\",\"x\":[-0.6931471805599453,-0.5108256237659907,-0.35667494393873245,-0.22314355131420968,-0.10536051565782628,0.0,0.09531017980432495,0.1823215567939546,0.26236426446749106,0.33647223662121284,0.4054651081081644],\"y\":[-0.016052642678490964,-0.012246268525360074,-0.008599560018783309,-0.0049659484160152695,-0.0013458009646425235,0.0,2.1031808503536866e-07,2.1066881570332143e-10,1.4305485705303942e-07,8.114178629390731e-09,4.07923671786429e-09]},{\"line\":{\"color\":\"rgba(255, 255, 51, 0.3333333333333333)\",\"dash\":\"solid\",\"shape\":\"linear\",\"width\":1.3},\"mode\":\"lines\",\"name\":\"Strawberries, raw\",\"text\":\"\",\"type\":\"scatter\",\"x\":[-0.6931471805599453,-0.5108256237659907,-0.35667494393873245,-0.22314355131420968,-0.10536051565782628,0.0,0.09531017980432495,0.1823215567939546,0.26236426446749106,0.33647223662121284,0.4054651081081644],\"y\":[2.265603260297269e-10,2.349163086003376e-10,7.102147506583757e-08,5.780576017688235e-11,5.359468424471369e-11,0.0,-2.2447599334921235e-12,2.205169380407157e-11,-1.4473644505235522e-11,1.0889679187209412e-07,4.747613942974485e-07]},{\"line\":{\"color\":\"rgba(128, 128, 0, 0.3333333333333333)\",\"dash\":\"solid\",\"shape\":\"linear\",\"width\":1.3},\"mode\":\"lines\",\"name\":\"Blueberries, raw\",\"text\":\"\",\"type\":\"scatter\",\"x\":[-0.6931471805599453,-0.5108256237659907,-0.35667494393873245,-0.22314355131420968,-0.10536051565782628,0.0,0.09531017980432495,0.1823215567939546,0.26236426446749106,0.33647223662121284,0.4054651081081644],\"y\":[1.8854096060393427e-10,1.6063594898567444e-11,5.7935878315360884e-11,2.5636892605529493e-10,6.896829180847594e-08,0.0,1.093614309623373e-09,3.2793834309382176e-10,8.147482688480983e-12,4.777757196499952e-07,2.318494445222301e-07]},{\"line\":{\"color\":\"rgba(251, 128, 114, 0.3333333333333333)\",\"dash\":\"solid\",\"shape\":\"linear\",\"width\":1.3},\"mode\":\"lines\",\"name\":\"Raspberries, raw\",\"text\":\"\",\"type\":\"scatter\",\"x\":[-0.6931471805599453,-0.5108256237659907,-0.35667494393873245,-0.22314355131420968,-0.10536051565782628,0.0,0.09531017980432495,0.1823215567939546,0.26236426446749106,0.33647223662121284,0.4054651081081644],\"y\":[7.678693873464895e-09,2.563756629198293e-07,1.123326113428919e-07,1.2692167309086401e-09,4.2407308598964193e-07,0.0,1.025304000208376e-07,8.505729450482848e-10,3.0536944351367596e-07,1.0888407947119036e-09,7.869040971288143e-10]},{\"line\":{\"color\":\"rgba(128, 177, 211, 0.3333333333333333)\",\"dash\":\"solid\",\"shape\":\"linear\",\"width\":1.3},\"mode\":\"lines\",\"name\":\"Mangos, raw\",\"text\":\"\",\"type\":\"scatter\",\"x\":[-0.6931471805599453,-0.5108256237659907,-0.35667494393873245,-0.22314355131420968,-0.10536051565782628,0.0,0.09531017980432495,0.1823215567939546,0.26236426446749106,0.33647223662121284,0.4054651081081644],\"y\":[-0.01143919498753284,-0.002755242872133823,1.4342860231801346e-10,6.552145490686475e-10,3.52875483765843e-09,0.0,-7.047584738042865e-12,3.64151153609304e-10,8.034571420320391e-09,2.085649409188807e-08,-1.728384102521134e-11]},{\"line\":{\"color\":\"rgba(255, 153, 51, 0.3333333333333333)\",\"dash\":\"solid\",\"shape\":\"linear\",\"width\":1.3},\"mode\":\"lines\",\"name\":\"Chia seeds\",\"text\":\"\",\"type\":\"scatter\",\"x\":[-0.6931471805599453,-0.5108256237659907,-0.35667494393873245,-0.22314355131420968,-0.10536051565782628,0.0,0.09531017980432495,0.1823215567939546,0.26236426446749106,0.33647223662121284,0.4054651081081644],\"y\":[2.407425369875799e-10,-1.5311085732617255e-12,3.612266041776152e-11,2.73230549259627e-10,-2.1901369606804446e-12,0.0,3.4509062268469364e-10,1.292659090043572e-09,1.4929901758216223e-10,2.2954840224486595e-09,6.404945080137759e-08]},{\"line\":{\"color\":\"rgba(55, 128, 191, 0.3333333333333333)\",\"dash\":\"solid\",\"shape\":\"linear\",\"width\":1.3},\"mode\":\"lines\",\"name\":\"Flax seeds\",\"text\":\"\",\"type\":\"scatter\",\"x\":[-0.6931471805599453,-0.5108256237659907,-0.35667494393873245,-0.22314355131420968,-0.10536051565782628,0.0,0.09531017980432495,0.1823215567939546,0.26236426446749106,0.33647223662121284,0.4054651081081644],\"y\":[-0.01049542902113363,-0.002140255822402782,-0.0001456366167532462,6.401391174410115e-09,2.267218476126585e-08,0.0,3.5996183804970017e-10,1.6232659659568887e-10,6.423757079756071e-10,7.324807427240106e-12,5.6952844500379796e-09]},{\"line\":{\"color\":\"rgba(50, 171, 96, 0.3333333333333333)\",\"dash\":\"solid\",\"shape\":\"linear\",\"width\":1.3},\"mode\":\"lines\",\"name\":\"Quinoa, fat added\",\"text\":\"\",\"type\":\"scatter\",\"x\":[-0.6931471805599453,-0.5108256237659907,-0.35667494393873245,-0.22314355131420968,-0.10536051565782628,0.0,0.09531017980432495,0.1823215567939546,0.26236426446749106,0.33647223662121284,0.4054651081081644],\"y\":[3.1094748993038596e-10,2.8483593257740037e-10,2.28709451116e-09,2.767430728639702e-10,2.8091173827567037e-10,0.0,1.2706619637433645e-07,6.672187224888535e-09,1.5024137488532293e-10,5.8185464752207937e-08,1.4287682148403995e-11]},{\"line\":{\"color\":\"rgba(50, 171, 96, 0.2380952380952382)\",\"dash\":\"solid\",\"shape\":\"linear\",\"width\":1.3},\"mode\":\"lines\",\"name\":\"Almond milk, unsweetened, plain, refrigerated\",\"text\":\"\",\"type\":\"scatter\",\"x\":[-0.6931471805599453,-0.5108256237659907,-0.35667494393873245,-0.22314355131420968,-0.10536051565782628,0.0,0.09531017980432495,0.1823215567939546,0.26236426446749106,0.33647223662121284,0.4054651081081644],\"y\":[-0.0029354823465945396,-0.0018482958702422025,-0.0007618054446638374,2.7726287928395564e-10,2.6881664088661706e-08,0.0,1.547021357924357e-07,7.879323149939349e-08,6.535026750483433e-08,3.060443385180936e-08,1.413367200953126e-10]},{\"line\":{\"color\":\"rgba(128, 0, 128, 0.2380952380952382)\",\"dash\":\"solid\",\"shape\":\"linear\",\"width\":1.3},\"mode\":\"lines\",\"name\":\"Oat milk, unsweetened, plain, refrigerated\",\"text\":\"\",\"type\":\"scatter\",\"x\":[-0.6931471805599453,-0.5108256237659907,-0.35667494393873245,-0.22314355131420968,-0.10536051565782628,0.0,0.09531017980432495,0.1823215567939546,0.26236426446749106,0.33647223662121284,0.4054651081081644],\"y\":[-2.2968293933471617e-12,2.758157359607703e-07,-5.627054378025975e-12,4.090235697324324e-09,3.581132273194182e-09,0.0,1.8601697958022412e-10,1.8376191700757964e-07,2.5724111726321645e-10,1.7118157987553497e-09,2.997475374526081e-09]},{\"line\":{\"color\":\"rgba(219, 64, 82, 0.2380952380952382)\",\"dash\":\"solid\",\"shape\":\"linear\",\"width\":1.3},\"mode\":\"lines\",\"name\":\"WHITE SLICED MUSHROOMS, WHITE\",\"text\":\"\",\"type\":\"scatter\",\"x\":[-0.6931471805599453,-0.5108256237659907,-0.35667494393873245,-0.22314355131420968,-0.10536051565782628,0.0,0.09531017980432495,0.1823215567939546,0.26236426446749106,0.33647223662121284,0.4054651081081644],\"y\":[4.155922272122306e-10,8.209877222464406e-12,3.646546248451171e-07,4.0898995293211176e-10,1.4990428341741565e-08,0.0,1.1243079794173318e-09,3.32212114517291e-08,5.069851204234002e-10,2.3267272526016396e-09,3.545919113826927e-11]},{\"line\":{\"color\":\"rgba(0, 128, 128, 0.2380952380952382)\",\"dash\":\"solid\",\"shape\":\"linear\",\"width\":1.3},\"mode\":\"lines\",\"name\":\"Nutritional Yeast\",\"text\":\"\",\"type\":\"scatter\",\"x\":[-0.6931471805599453,-0.5108256237659907,-0.35667494393873245,-0.22314355131420968,-0.10536051565782628,0.0,0.09531017980432495,0.1823215567939546,0.26236426446749106,0.33647223662121284,0.4054651081081644],\"y\":[-0.0028895332068486993,-0.00231094852723615,-0.0017324410408631882,-0.0011548116057787034,-0.0005770882825204524,0.0,0.0005769062700985666,0.0011535712423410868,0.0017297927225893002,0.0023056307380741126,0.0028812085046046577]}],                        {\"legend\":{\"bgcolor\":\"#F5F6F9\",\"font\":{\"color\":\"#4D5663\"}},\"paper_bgcolor\":\"#F5F6F9\",\"plot_bgcolor\":\"#F5F6F9\",\"template\":{\"data\":{\"bar\":[{\"error_x\":{\"color\":\"#2a3f5f\"},\"error_y\":{\"color\":\"#2a3f5f\"},\"marker\":{\"line\":{\"color\":\"#E5ECF6\",\"width\":0.5},\"pattern\":{\"fillmode\":\"overlay\",\"size\":10,\"solidity\":0.2}},\"type\":\"bar\"}],\"barpolar\":[{\"marker\":{\"line\":{\"color\":\"#E5ECF6\",\"width\":0.5},\"pattern\":{\"fillmode\":\"overlay\",\"size\":10,\"solidity\":0.2}},\"type\":\"barpolar\"}],\"carpet\":[{\"aaxis\":{\"endlinecolor\":\"#2a3f5f\",\"gridcolor\":\"white\",\"linecolor\":\"white\",\"minorgridcolor\":\"white\",\"startlinecolor\":\"#2a3f5f\"},\"baxis\":{\"endlinecolor\":\"#2a3f5f\",\"gridcolor\":\"white\",\"linecolor\":\"white\",\"minorgridcolor\":\"white\",\"startlinecolor\":\"#2a3f5f\"},\"type\":\"carpet\"}],\"choropleth\":[{\"colorbar\":{\"outlinewidth\":0,\"ticks\":\"\"},\"type\":\"choropleth\"}],\"contour\":[{\"colorbar\":{\"outlinewidth\":0,\"ticks\":\"\"},\"colorscale\":[[0.0,\"#0d0887\"],[0.1111111111111111,\"#46039f\"],[0.2222222222222222,\"#7201a8\"],[0.3333333333333333,\"#9c179e\"],[0.4444444444444444,\"#bd3786\"],[0.5555555555555556,\"#d8576b\"],[0.6666666666666666,\"#ed7953\"],[0.7777777777777778,\"#fb9f3a\"],[0.8888888888888888,\"#fdca26\"],[1.0,\"#f0f921\"]],\"type\":\"contour\"}],\"contourcarpet\":[{\"colorbar\":{\"outlinewidth\":0,\"ticks\":\"\"},\"type\":\"contourcarpet\"}],\"heatmap\":[{\"colorbar\":{\"outlinewidth\":0,\"ticks\":\"\"},\"colorscale\":[[0.0,\"#0d0887\"],[0.1111111111111111,\"#46039f\"],[0.2222222222222222,\"#7201a8\"],[0.3333333333333333,\"#9c179e\"],[0.4444444444444444,\"#bd3786\"],[0.5555555555555556,\"#d8576b\"],[0.6666666666666666,\"#ed7953\"],[0.7777777777777778,\"#fb9f3a\"],[0.8888888888888888,\"#fdca26\"],[1.0,\"#f0f921\"]],\"type\":\"heatmap\"}],\"heatmapgl\":[{\"colorbar\":{\"outlinewidth\":0,\"ticks\":\"\"},\"colorscale\":[[0.0,\"#0d0887\"],[0.1111111111111111,\"#46039f\"],[0.2222222222222222,\"#7201a8\"],[0.3333333333333333,\"#9c179e\"],[0.4444444444444444,\"#bd3786\"],[0.5555555555555556,\"#d8576b\"],[0.6666666666666666,\"#ed7953\"],[0.7777777777777778,\"#fb9f3a\"],[0.8888888888888888,\"#fdca26\"],[1.0,\"#f0f921\"]],\"type\":\"heatmapgl\"}],\"histogram\":[{\"marker\":{\"pattern\":{\"fillmode\":\"overlay\",\"size\":10,\"solidity\":0.2}},\"type\":\"histogram\"}],\"histogram2d\":[{\"colorbar\":{\"outlinewidth\":0,\"ticks\":\"\"},\"colorscale\":[[0.0,\"#0d0887\"],[0.1111111111111111,\"#46039f\"],[0.2222222222222222,\"#7201a8\"],[0.3333333333333333,\"#9c179e\"],[0.4444444444444444,\"#bd3786\"],[0.5555555555555556,\"#d8576b\"],[0.6666666666666666,\"#ed7953\"],[0.7777777777777778,\"#fb9f3a\"],[0.8888888888888888,\"#fdca26\"],[1.0,\"#f0f921\"]],\"type\":\"histogram2d\"}],\"histogram2dcontour\":[{\"colorbar\":{\"outlinewidth\":0,\"ticks\":\"\"},\"colorscale\":[[0.0,\"#0d0887\"],[0.1111111111111111,\"#46039f\"],[0.2222222222222222,\"#7201a8\"],[0.3333333333333333,\"#9c179e\"],[0.4444444444444444,\"#bd3786\"],[0.5555555555555556,\"#d8576b\"],[0.6666666666666666,\"#ed7953\"],[0.7777777777777778,\"#fb9f3a\"],[0.8888888888888888,\"#fdca26\"],[1.0,\"#f0f921\"]],\"type\":\"histogram2dcontour\"}],\"mesh3d\":[{\"colorbar\":{\"outlinewidth\":0,\"ticks\":\"\"},\"type\":\"mesh3d\"}],\"parcoords\":[{\"line\":{\"colorbar\":{\"outlinewidth\":0,\"ticks\":\"\"}},\"type\":\"parcoords\"}],\"pie\":[{\"automargin\":true,\"type\":\"pie\"}],\"scatter\":[{\"marker\":{\"colorbar\":{\"outlinewidth\":0,\"ticks\":\"\"}},\"type\":\"scatter\"}],\"scatter3d\":[{\"line\":{\"colorbar\":{\"outlinewidth\":0,\"ticks\":\"\"}},\"marker\":{\"colorbar\":{\"outlinewidth\":0,\"ticks\":\"\"}},\"type\":\"scatter3d\"}],\"scattercarpet\":[{\"marker\":{\"colorbar\":{\"outlinewidth\":0,\"ticks\":\"\"}},\"type\":\"scattercarpet\"}],\"scattergeo\":[{\"marker\":{\"colorbar\":{\"outlinewidth\":0,\"ticks\":\"\"}},\"type\":\"scattergeo\"}],\"scattergl\":[{\"marker\":{\"colorbar\":{\"outlinewidth\":0,\"ticks\":\"\"}},\"type\":\"scattergl\"}],\"scattermapbox\":[{\"marker\":{\"colorbar\":{\"outlinewidth\":0,\"ticks\":\"\"}},\"type\":\"scattermapbox\"}],\"scatterpolar\":[{\"marker\":{\"colorbar\":{\"outlinewidth\":0,\"ticks\":\"\"}},\"type\":\"scatterpolar\"}],\"scatterpolargl\":[{\"marker\":{\"colorbar\":{\"outlinewidth\":0,\"ticks\":\"\"}},\"type\":\"scatterpolargl\"}],\"scatterternary\":[{\"marker\":{\"colorbar\":{\"outlinewidth\":0,\"ticks\":\"\"}},\"type\":\"scatterternary\"}],\"surface\":[{\"colorbar\":{\"outlinewidth\":0,\"ticks\":\"\"},\"colorscale\":[[0.0,\"#0d0887\"],[0.1111111111111111,\"#46039f\"],[0.2222222222222222,\"#7201a8\"],[0.3333333333333333,\"#9c179e\"],[0.4444444444444444,\"#bd3786\"],[0.5555555555555556,\"#d8576b\"],[0.6666666666666666,\"#ed7953\"],[0.7777777777777778,\"#fb9f3a\"],[0.8888888888888888,\"#fdca26\"],[1.0,\"#f0f921\"]],\"type\":\"surface\"}],\"table\":[{\"cells\":{\"fill\":{\"color\":\"#EBF0F8\"},\"line\":{\"color\":\"white\"}},\"header\":{\"fill\":{\"color\":\"#C8D4E3\"},\"line\":{\"color\":\"white\"}},\"type\":\"table\"}]},\"layout\":{\"annotationdefaults\":{\"arrowcolor\":\"#2a3f5f\",\"arrowhead\":0,\"arrowwidth\":1},\"autotypenumbers\":\"strict\",\"coloraxis\":{\"colorbar\":{\"outlinewidth\":0,\"ticks\":\"\"}},\"colorscale\":{\"diverging\":[[0,\"#8e0152\"],[0.1,\"#c51b7d\"],[0.2,\"#de77ae\"],[0.3,\"#f1b6da\"],[0.4,\"#fde0ef\"],[0.5,\"#f7f7f7\"],[0.6,\"#e6f5d0\"],[0.7,\"#b8e186\"],[0.8,\"#7fbc41\"],[0.9,\"#4d9221\"],[1,\"#276419\"]],\"sequential\":[[0.0,\"#0d0887\"],[0.1111111111111111,\"#46039f\"],[0.2222222222222222,\"#7201a8\"],[0.3333333333333333,\"#9c179e\"],[0.4444444444444444,\"#bd3786\"],[0.5555555555555556,\"#d8576b\"],[0.6666666666666666,\"#ed7953\"],[0.7777777777777778,\"#fb9f3a\"],[0.8888888888888888,\"#fdca26\"],[1.0,\"#f0f921\"]],\"sequentialminus\":[[0.0,\"#0d0887\"],[0.1111111111111111,\"#46039f\"],[0.2222222222222222,\"#7201a8\"],[0.3333333333333333,\"#9c179e\"],[0.4444444444444444,\"#bd3786\"],[0.5555555555555556,\"#d8576b\"],[0.6666666666666666,\"#ed7953\"],[0.7777777777777778,\"#fb9f3a\"],[0.8888888888888888,\"#fdca26\"],[1.0,\"#f0f921\"]]},\"colorway\":[\"#636efa\",\"#EF553B\",\"#00cc96\",\"#ab63fa\",\"#FFA15A\",\"#19d3f3\",\"#FF6692\",\"#B6E880\",\"#FF97FF\",\"#FECB52\"],\"font\":{\"color\":\"#2a3f5f\"},\"geo\":{\"bgcolor\":\"white\",\"lakecolor\":\"white\",\"landcolor\":\"#E5ECF6\",\"showlakes\":true,\"showland\":true,\"subunitcolor\":\"white\"},\"hoverlabel\":{\"align\":\"left\"},\"hovermode\":\"closest\",\"mapbox\":{\"style\":\"light\"},\"paper_bgcolor\":\"white\",\"plot_bgcolor\":\"#E5ECF6\",\"polar\":{\"angularaxis\":{\"gridcolor\":\"white\",\"linecolor\":\"white\",\"ticks\":\"\"},\"bgcolor\":\"#E5ECF6\",\"radialaxis\":{\"gridcolor\":\"white\",\"linecolor\":\"white\",\"ticks\":\"\"}},\"scene\":{\"xaxis\":{\"backgroundcolor\":\"#E5ECF6\",\"gridcolor\":\"white\",\"gridwidth\":2,\"linecolor\":\"white\",\"showbackground\":true,\"ticks\":\"\",\"zerolinecolor\":\"white\"},\"yaxis\":{\"backgroundcolor\":\"#E5ECF6\",\"gridcolor\":\"white\",\"gridwidth\":2,\"linecolor\":\"white\",\"showbackground\":true,\"ticks\":\"\",\"zerolinecolor\":\"white\"},\"zaxis\":{\"backgroundcolor\":\"#E5ECF6\",\"gridcolor\":\"white\",\"gridwidth\":2,\"linecolor\":\"white\",\"showbackground\":true,\"ticks\":\"\",\"zerolinecolor\":\"white\"}},\"shapedefaults\":{\"line\":{\"color\":\"#2a3f5f\"}},\"ternary\":{\"aaxis\":{\"gridcolor\":\"white\",\"linecolor\":\"white\",\"ticks\":\"\"},\"baxis\":{\"gridcolor\":\"white\",\"linecolor\":\"white\",\"ticks\":\"\"},\"bgcolor\":\"#E5ECF6\",\"caxis\":{\"gridcolor\":\"white\",\"linecolor\":\"white\",\"ticks\":\"\"}},\"title\":{\"x\":0.05},\"xaxis\":{\"automargin\":true,\"gridcolor\":\"white\",\"linecolor\":\"white\",\"ticks\":\"\",\"title\":{\"standoff\":15},\"zerolinecolor\":\"white\",\"zerolinewidth\":2},\"yaxis\":{\"automargin\":true,\"gridcolor\":\"white\",\"linecolor\":\"white\",\"ticks\":\"\",\"title\":{\"standoff\":15},\"zerolinecolor\":\"white\",\"zerolinewidth\":2}}},\"title\":{\"font\":{\"color\":\"#4D5663\"},\"text\":\"Effects of Price Changes on Subsistence Diet Composition for USDA Diet\"},\"xaxis\":{\"gridcolor\":\"#E1E5ED\",\"showgrid\":true,\"tickfont\":{\"color\":\"#4D5663\"},\"title\":{\"font\":{\"color\":\"#4D5663\"},\"text\":\"change in log price\"},\"zerolinecolor\":\"#E1E5ED\"},\"yaxis\":{\"gridcolor\":\"#E1E5ED\",\"showgrid\":true,\"tickfont\":{\"color\":\"#4D5663\"},\"title\":{\"font\":{\"color\":\"#4D5663\"},\"text\":\"change in log cost\"},\"zerolinecolor\":\"#E1E5ED\"}},                        {\"showLink\": true, \"linkText\": \"Export to plot.ly\", \"plotlyServerURL\": \"https://plot.ly\", \"responsive\": true}                    ).then(function(){\n",
       "                            \n",
       "var gd = document.getElementById('d6d41f0e-f856-46e0-b599-aec9fc7a7835');\n",
       "var x = new MutationObserver(function (mutations, observer) {{\n",
       "        var display = window.getComputedStyle(gd).display;\n",
       "        if (!display || display === 'none') {{\n",
       "            console.log([gd, 'removed!']);\n",
       "            Plotly.purge(gd);\n",
       "            observer.disconnect();\n",
       "        }}\n",
       "}});\n",
       "\n",
       "// Listen for the removal of the full notebook cells\n",
       "var notebookContainer = gd.closest('#notebook-container');\n",
       "if (notebookContainer) {{\n",
       "    x.observe(notebookContainer, {childList: true});\n",
       "}}\n",
       "\n",
       "// Listen for the clearing of the current output cell\n",
       "var outputEl = gd.closest('.output');\n",
       "if (outputEl) {{\n",
       "    x.observe(outputEl, {childList: true});\n",
       "}}\n",
       "\n",
       "                        })                };                });            </script>        </div>"
      ]
     },
     "metadata": {},
     "output_type": "display_data"
    }
   ],
   "source": [
    "getPriceChangesGraph(\"usda\")"
   ]
  },
  {
   "cell_type": "markdown",
   "id": "b233cda8",
   "metadata": {},
   "source": [
    "## Effects of Price Changes on Subsistence Diet Composition"
   ]
  },
  {
   "cell_type": "markdown",
   "id": "09075689",
   "metadata": {},
   "source": [
    "The code below creates a graph which changes prices just for *one* food,\n",
    "  and traces out the effects of this change on all the foods consumed.\n",
    "\n"
   ]
  },
  {
   "cell_type": "code",
   "execution_count": 121,
   "id": "481aca95",
   "metadata": {},
   "outputs": [],
   "source": [
    "def getEffectsofPriceChangeGraph(dietType, ReferenceGood) :\n",
    "    \n",
    "    dietType = dietType.lower()\n",
    "    if dietType == \"meat\":\n",
    "        diet_FoodNutrients = Raw_Meat_FoodNutrients\n",
    "        diet_prices = meat_prices\n",
    "        graphType = \"Raw Meat\"\n",
    "    elif dietType == \"vegan\":\n",
    "        diet_FoodNutrients = Raw_Vegan_FoodNutrients\n",
    "        diet_prices = vegan_prices\n",
    "        graphType = \"Raw Vegan\"\n",
    "    elif dietType == \"usda\":\n",
    "        diet_FoodNutrients = USDA_FoodNutrients\n",
    "        diet_prices = usda_prices\n",
    "        graphType = \"USDA\"\n",
    "    else:\n",
    "        print(\"Please choose correct diet.\")\n",
    "        \n",
    "    group = 'M 19-30'\n",
    "    tol = 1e-6\n",
    "    \n",
    "    cf.go_offline()\n",
    "\n",
    "    scale = [0.5,0.75,0.9,1.,1.1,1.2,1.3,1.4,1.5,2,4]\n",
    "\n",
    "    cost0 = solve_subsistence_problem(diet_FoodNutrients,diet_prices,diet_min[group],diet_max[group],tol=tol).fun\n",
    "\n",
    "    my_p = diet_prices.copy()\n",
    "\n",
    "    diet = {}\n",
    "    for s in scale:\n",
    "\n",
    "        my_p[ReferenceGood] = diet_prices[ReferenceGood]*s\n",
    "        result = solve_subsistence_problem(diet_FoodNutrients,my_p,diet_min[group],diet_max[group],tol=tol)\n",
    "        diet[my_p[ReferenceGood]] = result.diet\n",
    "\n",
    "    Diet_response = pd.DataFrame(diet).T\n",
    "    Diet_response.index.name = '%s Price' % ReferenceGood\n",
    "\n",
    "    Diet_response.reset_index(inplace=True)\n",
    "\n",
    "    # Get rid of units for index (cufflinks chokes)\n",
    "    Diet_response['%s Price' % ReferenceGood] = Diet_response['%s Price' % ReferenceGood].apply(lambda x: x.magnitude)\n",
    "\n",
    "    Diet_response = Diet_response.set_index('%s Price' % ReferenceGood)\n",
    "\n",
    "    # Just look at goods consumed in quantities greater than error tolerance\n",
    "    Diet_response.loc[:,(Diet_response>tol).sum()>0].iplot(title=ReferenceGood + \" Pricing Change Effect on Hectograms Other Nutrients (\" +graphType + \")\",xTitle='%s Price' % ReferenceGood,yTitle='Hectograms')\n",
    "    \n",
    "    return Diet_response"
   ]
  },
  {
   "cell_type": "code",
   "execution_count": 122,
   "id": "72d42e1b",
   "metadata": {},
   "outputs": [
    {
     "data": {
      "text/html": [
       "        <script type=\"text/javascript\">\n",
       "        window.PlotlyConfig = {MathJaxConfig: 'local'};\n",
       "        if (window.MathJax) {MathJax.Hub.Config({SVG: {font: \"STIX-Web\"}});}\n",
       "        if (typeof require !== 'undefined') {\n",
       "        require.undef(\"plotly\");\n",
       "        requirejs.config({\n",
       "            paths: {\n",
       "                'plotly': ['https://cdn.plot.ly/plotly-2.3.1.min']\n",
       "            }\n",
       "        });\n",
       "        require(['plotly'], function(Plotly) {\n",
       "            window._Plotly = Plotly;\n",
       "        });\n",
       "        }\n",
       "        </script>\n",
       "        "
      ]
     },
     "metadata": {},
     "output_type": "display_data"
    },
    {
     "name": "stderr",
     "output_type": "stream",
     "text": [
      "/opt/conda/lib/python3.9/site-packages/pandas/core/dtypes/cast.py:1990: UnitStrippedWarning:\n",
      "\n",
      "The unit of the quantity is stripped when downcasting to ndarray.\n",
      "\n"
     ]
    },
    {
     "data": {
      "application/vnd.plotly.v1+json": {
       "config": {
        "linkText": "Export to plot.ly",
        "plotlyServerURL": "https://plot.ly",
        "showLink": true
       },
       "data": [
        {
         "line": {
          "color": "rgba(255, 153, 51, 1.0)",
          "dash": "solid",
          "shape": "linear",
          "width": 1.3
         },
         "mode": "lines",
         "name": "Raw Liver",
         "text": "",
         "type": "scatter",
         "x": [
          1.4319023928907797,
          2.1478535893361697,
          2.5774243072034033,
          2.8638047857815594,
          3.1501852643597155,
          3.436565742937871,
          3.722946221516027,
          4.009326700094183,
          4.295707178672339,
          5.727609571563119,
          11.455219143126238
         ],
         "y": [
          0.4306780654808008,
          0.430678065470672,
          0.4306780654656778,
          0.43067806546272763,
          0.4306780654599643,
          0.4306780654574044,
          0.43067806545500975,
          0.4306780654527722,
          0.43067806545068216,
          0.4306780654414696,
          0.43067806541256876
         ]
        },
        {
         "line": {
          "color": "rgba(55, 128, 191, 1.0)",
          "dash": "solid",
          "shape": "linear",
          "width": 1.3
         },
         "mode": "lines",
         "name": "2% milk",
         "text": "",
         "type": "scatter",
         "x": [
          1.4319023928907797,
          2.1478535893361697,
          2.5774243072034033,
          2.8638047857815594,
          3.1501852643597155,
          3.436565742937871,
          3.722946221516027,
          4.009326700094183,
          4.295707178672339,
          5.727609571563119,
          11.455219143126238
         ],
         "y": [
          2.5311262721362344,
          2.5311262721036187,
          2.531126272087127,
          2.531126272077463,
          2.531126272068167,
          2.53112627205968,
          2.531126272051679,
          2.5311262720439576,
          2.5311262720371595,
          2.5311262720060403,
          2.531126271908743
         ]
        },
        {
         "line": {
          "color": "rgba(50, 171, 96, 1.0)",
          "dash": "solid",
          "shape": "linear",
          "width": 1.3
         },
         "mode": "lines",
         "name": "Lime, raw",
         "text": "",
         "type": "scatter",
         "x": [
          1.4319023928907797,
          2.1478535893361697,
          2.5774243072034033,
          2.8638047857815594,
          3.1501852643597155,
          3.436565742937871,
          3.722946221516027,
          4.009326700094183,
          4.295707178672339,
          5.727609571563119,
          11.455219143126238
         ],
         "y": [
          2.942569270922395,
          2.9425692709743982,
          2.9425692710001465,
          2.942569271015561,
          2.942569271029841,
          2.9425692710430944,
          2.9425692710555,
          2.942569271067147,
          2.942569271078152,
          2.9425692711261444,
          2.942569271280181
         ]
        },
        {
         "line": {
          "color": "rgba(128, 0, 128, 1.0)",
          "dash": "solid",
          "shape": "linear",
          "width": 1.3
         },
         "mode": "lines",
         "name": "Cashews, NFS",
         "text": "",
         "type": "scatter",
         "x": [
          1.4319023928907797,
          2.1478535893361697,
          2.5774243072034033,
          2.8638047857815594,
          3.1501852643597155,
          3.436565742937871,
          3.722946221516027,
          4.009326700094183,
          4.295707178672339,
          5.727609571563119,
          11.455219143126238
         ],
         "y": [
          2.842878155514209,
          2.842878155485557,
          2.842878155471728,
          2.8428781554633056,
          2.8428781554557516,
          2.8428781554486906,
          2.8428781554420475,
          2.8428781554360136,
          2.8428781554300424,
          2.8428781554051477,
          2.8428781553266984
         ]
        },
        {
         "line": {
          "color": "rgba(219, 64, 82, 1.0)",
          "dash": "solid",
          "shape": "linear",
          "width": 1.3
         },
         "mode": "lines",
         "name": "Pistachio nuts, NFS",
         "text": "",
         "type": "scatter",
         "x": [
          1.4319023928907797,
          2.1478535893361697,
          2.5774243072034033,
          2.8638047857815594,
          3.1501852643597155,
          3.436565742937871,
          3.722946221516027,
          4.009326700094183,
          4.295707178672339,
          5.727609571563119,
          11.455219143126238
         ],
         "y": [
          1.356586514073951,
          1.3565865141495992,
          1.3565865141863465,
          1.3565865142083362,
          1.3565865142284026,
          1.3565865142471585,
          1.3565865142645204,
          1.3565865142807918,
          1.3565865142961873,
          1.3565865143623999,
          1.3565865145692162
         ]
        },
        {
         "line": {
          "color": "rgba(0, 128, 128, 1.0)",
          "dash": "solid",
          "shape": "linear",
          "width": 1.3
         },
         "mode": "lines",
         "name": "Almond butter, creamy",
         "text": "",
         "type": "scatter",
         "x": [
          1.4319023928907797,
          2.1478535893361697,
          2.5774243072034033,
          2.8638047857815594,
          3.1501852643597155,
          3.436565742937871,
          3.722946221516027,
          4.009326700094183,
          4.295707178672339,
          5.727609571563119,
          11.455219143126238
         ],
         "y": [
          1.1687072072017723,
          1.1687072072131848,
          1.1687072072191573,
          1.1687072072226563,
          1.1687072072260989,
          1.1687072072291973,
          1.1687072072321898,
          1.1687072072350855,
          1.1687072072375966,
          1.168707207249385,
          1.168707207286552
         ]
        }
       ],
       "layout": {
        "legend": {
         "bgcolor": "#F5F6F9",
         "font": {
          "color": "#4D5663"
         }
        },
        "paper_bgcolor": "#F5F6F9",
        "plot_bgcolor": "#F5F6F9",
        "template": {
         "data": {
          "bar": [
           {
            "error_x": {
             "color": "#2a3f5f"
            },
            "error_y": {
             "color": "#2a3f5f"
            },
            "marker": {
             "line": {
              "color": "#E5ECF6",
              "width": 0.5
             },
             "pattern": {
              "fillmode": "overlay",
              "size": 10,
              "solidity": 0.2
             }
            },
            "type": "bar"
           }
          ],
          "barpolar": [
           {
            "marker": {
             "line": {
              "color": "#E5ECF6",
              "width": 0.5
             },
             "pattern": {
              "fillmode": "overlay",
              "size": 10,
              "solidity": 0.2
             }
            },
            "type": "barpolar"
           }
          ],
          "carpet": [
           {
            "aaxis": {
             "endlinecolor": "#2a3f5f",
             "gridcolor": "white",
             "linecolor": "white",
             "minorgridcolor": "white",
             "startlinecolor": "#2a3f5f"
            },
            "baxis": {
             "endlinecolor": "#2a3f5f",
             "gridcolor": "white",
             "linecolor": "white",
             "minorgridcolor": "white",
             "startlinecolor": "#2a3f5f"
            },
            "type": "carpet"
           }
          ],
          "choropleth": [
           {
            "colorbar": {
             "outlinewidth": 0,
             "ticks": ""
            },
            "type": "choropleth"
           }
          ],
          "contour": [
           {
            "colorbar": {
             "outlinewidth": 0,
             "ticks": ""
            },
            "colorscale": [
             [
              0,
              "#0d0887"
             ],
             [
              0.1111111111111111,
              "#46039f"
             ],
             [
              0.2222222222222222,
              "#7201a8"
             ],
             [
              0.3333333333333333,
              "#9c179e"
             ],
             [
              0.4444444444444444,
              "#bd3786"
             ],
             [
              0.5555555555555556,
              "#d8576b"
             ],
             [
              0.6666666666666666,
              "#ed7953"
             ],
             [
              0.7777777777777778,
              "#fb9f3a"
             ],
             [
              0.8888888888888888,
              "#fdca26"
             ],
             [
              1,
              "#f0f921"
             ]
            ],
            "type": "contour"
           }
          ],
          "contourcarpet": [
           {
            "colorbar": {
             "outlinewidth": 0,
             "ticks": ""
            },
            "type": "contourcarpet"
           }
          ],
          "heatmap": [
           {
            "colorbar": {
             "outlinewidth": 0,
             "ticks": ""
            },
            "colorscale": [
             [
              0,
              "#0d0887"
             ],
             [
              0.1111111111111111,
              "#46039f"
             ],
             [
              0.2222222222222222,
              "#7201a8"
             ],
             [
              0.3333333333333333,
              "#9c179e"
             ],
             [
              0.4444444444444444,
              "#bd3786"
             ],
             [
              0.5555555555555556,
              "#d8576b"
             ],
             [
              0.6666666666666666,
              "#ed7953"
             ],
             [
              0.7777777777777778,
              "#fb9f3a"
             ],
             [
              0.8888888888888888,
              "#fdca26"
             ],
             [
              1,
              "#f0f921"
             ]
            ],
            "type": "heatmap"
           }
          ],
          "heatmapgl": [
           {
            "colorbar": {
             "outlinewidth": 0,
             "ticks": ""
            },
            "colorscale": [
             [
              0,
              "#0d0887"
             ],
             [
              0.1111111111111111,
              "#46039f"
             ],
             [
              0.2222222222222222,
              "#7201a8"
             ],
             [
              0.3333333333333333,
              "#9c179e"
             ],
             [
              0.4444444444444444,
              "#bd3786"
             ],
             [
              0.5555555555555556,
              "#d8576b"
             ],
             [
              0.6666666666666666,
              "#ed7953"
             ],
             [
              0.7777777777777778,
              "#fb9f3a"
             ],
             [
              0.8888888888888888,
              "#fdca26"
             ],
             [
              1,
              "#f0f921"
             ]
            ],
            "type": "heatmapgl"
           }
          ],
          "histogram": [
           {
            "marker": {
             "pattern": {
              "fillmode": "overlay",
              "size": 10,
              "solidity": 0.2
             }
            },
            "type": "histogram"
           }
          ],
          "histogram2d": [
           {
            "colorbar": {
             "outlinewidth": 0,
             "ticks": ""
            },
            "colorscale": [
             [
              0,
              "#0d0887"
             ],
             [
              0.1111111111111111,
              "#46039f"
             ],
             [
              0.2222222222222222,
              "#7201a8"
             ],
             [
              0.3333333333333333,
              "#9c179e"
             ],
             [
              0.4444444444444444,
              "#bd3786"
             ],
             [
              0.5555555555555556,
              "#d8576b"
             ],
             [
              0.6666666666666666,
              "#ed7953"
             ],
             [
              0.7777777777777778,
              "#fb9f3a"
             ],
             [
              0.8888888888888888,
              "#fdca26"
             ],
             [
              1,
              "#f0f921"
             ]
            ],
            "type": "histogram2d"
           }
          ],
          "histogram2dcontour": [
           {
            "colorbar": {
             "outlinewidth": 0,
             "ticks": ""
            },
            "colorscale": [
             [
              0,
              "#0d0887"
             ],
             [
              0.1111111111111111,
              "#46039f"
             ],
             [
              0.2222222222222222,
              "#7201a8"
             ],
             [
              0.3333333333333333,
              "#9c179e"
             ],
             [
              0.4444444444444444,
              "#bd3786"
             ],
             [
              0.5555555555555556,
              "#d8576b"
             ],
             [
              0.6666666666666666,
              "#ed7953"
             ],
             [
              0.7777777777777778,
              "#fb9f3a"
             ],
             [
              0.8888888888888888,
              "#fdca26"
             ],
             [
              1,
              "#f0f921"
             ]
            ],
            "type": "histogram2dcontour"
           }
          ],
          "mesh3d": [
           {
            "colorbar": {
             "outlinewidth": 0,
             "ticks": ""
            },
            "type": "mesh3d"
           }
          ],
          "parcoords": [
           {
            "line": {
             "colorbar": {
              "outlinewidth": 0,
              "ticks": ""
             }
            },
            "type": "parcoords"
           }
          ],
          "pie": [
           {
            "automargin": true,
            "type": "pie"
           }
          ],
          "scatter": [
           {
            "marker": {
             "colorbar": {
              "outlinewidth": 0,
              "ticks": ""
             }
            },
            "type": "scatter"
           }
          ],
          "scatter3d": [
           {
            "line": {
             "colorbar": {
              "outlinewidth": 0,
              "ticks": ""
             }
            },
            "marker": {
             "colorbar": {
              "outlinewidth": 0,
              "ticks": ""
             }
            },
            "type": "scatter3d"
           }
          ],
          "scattercarpet": [
           {
            "marker": {
             "colorbar": {
              "outlinewidth": 0,
              "ticks": ""
             }
            },
            "type": "scattercarpet"
           }
          ],
          "scattergeo": [
           {
            "marker": {
             "colorbar": {
              "outlinewidth": 0,
              "ticks": ""
             }
            },
            "type": "scattergeo"
           }
          ],
          "scattergl": [
           {
            "marker": {
             "colorbar": {
              "outlinewidth": 0,
              "ticks": ""
             }
            },
            "type": "scattergl"
           }
          ],
          "scattermapbox": [
           {
            "marker": {
             "colorbar": {
              "outlinewidth": 0,
              "ticks": ""
             }
            },
            "type": "scattermapbox"
           }
          ],
          "scatterpolar": [
           {
            "marker": {
             "colorbar": {
              "outlinewidth": 0,
              "ticks": ""
             }
            },
            "type": "scatterpolar"
           }
          ],
          "scatterpolargl": [
           {
            "marker": {
             "colorbar": {
              "outlinewidth": 0,
              "ticks": ""
             }
            },
            "type": "scatterpolargl"
           }
          ],
          "scatterternary": [
           {
            "marker": {
             "colorbar": {
              "outlinewidth": 0,
              "ticks": ""
             }
            },
            "type": "scatterternary"
           }
          ],
          "surface": [
           {
            "colorbar": {
             "outlinewidth": 0,
             "ticks": ""
            },
            "colorscale": [
             [
              0,
              "#0d0887"
             ],
             [
              0.1111111111111111,
              "#46039f"
             ],
             [
              0.2222222222222222,
              "#7201a8"
             ],
             [
              0.3333333333333333,
              "#9c179e"
             ],
             [
              0.4444444444444444,
              "#bd3786"
             ],
             [
              0.5555555555555556,
              "#d8576b"
             ],
             [
              0.6666666666666666,
              "#ed7953"
             ],
             [
              0.7777777777777778,
              "#fb9f3a"
             ],
             [
              0.8888888888888888,
              "#fdca26"
             ],
             [
              1,
              "#f0f921"
             ]
            ],
            "type": "surface"
           }
          ],
          "table": [
           {
            "cells": {
             "fill": {
              "color": "#EBF0F8"
             },
             "line": {
              "color": "white"
             }
            },
            "header": {
             "fill": {
              "color": "#C8D4E3"
             },
             "line": {
              "color": "white"
             }
            },
            "type": "table"
           }
          ]
         },
         "layout": {
          "annotationdefaults": {
           "arrowcolor": "#2a3f5f",
           "arrowhead": 0,
           "arrowwidth": 1
          },
          "autotypenumbers": "strict",
          "coloraxis": {
           "colorbar": {
            "outlinewidth": 0,
            "ticks": ""
           }
          },
          "colorscale": {
           "diverging": [
            [
             0,
             "#8e0152"
            ],
            [
             0.1,
             "#c51b7d"
            ],
            [
             0.2,
             "#de77ae"
            ],
            [
             0.3,
             "#f1b6da"
            ],
            [
             0.4,
             "#fde0ef"
            ],
            [
             0.5,
             "#f7f7f7"
            ],
            [
             0.6,
             "#e6f5d0"
            ],
            [
             0.7,
             "#b8e186"
            ],
            [
             0.8,
             "#7fbc41"
            ],
            [
             0.9,
             "#4d9221"
            ],
            [
             1,
             "#276419"
            ]
           ],
           "sequential": [
            [
             0,
             "#0d0887"
            ],
            [
             0.1111111111111111,
             "#46039f"
            ],
            [
             0.2222222222222222,
             "#7201a8"
            ],
            [
             0.3333333333333333,
             "#9c179e"
            ],
            [
             0.4444444444444444,
             "#bd3786"
            ],
            [
             0.5555555555555556,
             "#d8576b"
            ],
            [
             0.6666666666666666,
             "#ed7953"
            ],
            [
             0.7777777777777778,
             "#fb9f3a"
            ],
            [
             0.8888888888888888,
             "#fdca26"
            ],
            [
             1,
             "#f0f921"
            ]
           ],
           "sequentialminus": [
            [
             0,
             "#0d0887"
            ],
            [
             0.1111111111111111,
             "#46039f"
            ],
            [
             0.2222222222222222,
             "#7201a8"
            ],
            [
             0.3333333333333333,
             "#9c179e"
            ],
            [
             0.4444444444444444,
             "#bd3786"
            ],
            [
             0.5555555555555556,
             "#d8576b"
            ],
            [
             0.6666666666666666,
             "#ed7953"
            ],
            [
             0.7777777777777778,
             "#fb9f3a"
            ],
            [
             0.8888888888888888,
             "#fdca26"
            ],
            [
             1,
             "#f0f921"
            ]
           ]
          },
          "colorway": [
           "#636efa",
           "#EF553B",
           "#00cc96",
           "#ab63fa",
           "#FFA15A",
           "#19d3f3",
           "#FF6692",
           "#B6E880",
           "#FF97FF",
           "#FECB52"
          ],
          "font": {
           "color": "#2a3f5f"
          },
          "geo": {
           "bgcolor": "white",
           "lakecolor": "white",
           "landcolor": "#E5ECF6",
           "showlakes": true,
           "showland": true,
           "subunitcolor": "white"
          },
          "hoverlabel": {
           "align": "left"
          },
          "hovermode": "closest",
          "mapbox": {
           "style": "light"
          },
          "paper_bgcolor": "white",
          "plot_bgcolor": "#E5ECF6",
          "polar": {
           "angularaxis": {
            "gridcolor": "white",
            "linecolor": "white",
            "ticks": ""
           },
           "bgcolor": "#E5ECF6",
           "radialaxis": {
            "gridcolor": "white",
            "linecolor": "white",
            "ticks": ""
           }
          },
          "scene": {
           "xaxis": {
            "backgroundcolor": "#E5ECF6",
            "gridcolor": "white",
            "gridwidth": 2,
            "linecolor": "white",
            "showbackground": true,
            "ticks": "",
            "zerolinecolor": "white"
           },
           "yaxis": {
            "backgroundcolor": "#E5ECF6",
            "gridcolor": "white",
            "gridwidth": 2,
            "linecolor": "white",
            "showbackground": true,
            "ticks": "",
            "zerolinecolor": "white"
           },
           "zaxis": {
            "backgroundcolor": "#E5ECF6",
            "gridcolor": "white",
            "gridwidth": 2,
            "linecolor": "white",
            "showbackground": true,
            "ticks": "",
            "zerolinecolor": "white"
           }
          },
          "shapedefaults": {
           "line": {
            "color": "#2a3f5f"
           }
          },
          "ternary": {
           "aaxis": {
            "gridcolor": "white",
            "linecolor": "white",
            "ticks": ""
           },
           "baxis": {
            "gridcolor": "white",
            "linecolor": "white",
            "ticks": ""
           },
           "bgcolor": "#E5ECF6",
           "caxis": {
            "gridcolor": "white",
            "linecolor": "white",
            "ticks": ""
           }
          },
          "title": {
           "x": 0.05
          },
          "xaxis": {
           "automargin": true,
           "gridcolor": "white",
           "linecolor": "white",
           "ticks": "",
           "title": {
            "standoff": 15
           },
           "zerolinecolor": "white",
           "zerolinewidth": 2
          },
          "yaxis": {
           "automargin": true,
           "gridcolor": "white",
           "linecolor": "white",
           "ticks": "",
           "title": {
            "standoff": 15
           },
           "zerolinecolor": "white",
           "zerolinewidth": 2
          }
         }
        },
        "title": {
         "font": {
          "color": "#4D5663"
         },
         "text": "Beef Pricing Change Effect on Hectograms Other Nutrients (Raw Meat)"
        },
        "xaxis": {
         "gridcolor": "#E1E5ED",
         "showgrid": true,
         "tickfont": {
          "color": "#4D5663"
         },
         "title": {
          "font": {
           "color": "#4D5663"
          },
          "text": "Beef Price"
         },
         "zerolinecolor": "#E1E5ED"
        },
        "yaxis": {
         "gridcolor": "#E1E5ED",
         "showgrid": true,
         "tickfont": {
          "color": "#4D5663"
         },
         "title": {
          "font": {
           "color": "#4D5663"
          },
          "text": "Hectograms"
         },
         "zerolinecolor": "#E1E5ED"
        }
       }
      },
      "text/html": [
       "<div>                            <div id=\"af84f23c-4807-42bd-ae4b-584f4dba12f4\" class=\"plotly-graph-div\" style=\"height:525px; width:100%;\"></div>            <script type=\"text/javascript\">                require([\"plotly\"], function(Plotly) {                    window.PLOTLYENV=window.PLOTLYENV || {};\n",
       "                    window.PLOTLYENV.BASE_URL='https://plot.ly';                                    if (document.getElementById(\"af84f23c-4807-42bd-ae4b-584f4dba12f4\")) {                    Plotly.newPlot(                        \"af84f23c-4807-42bd-ae4b-584f4dba12f4\",                        [{\"line\":{\"color\":\"rgba(255, 153, 51, 1.0)\",\"dash\":\"solid\",\"shape\":\"linear\",\"width\":1.3},\"mode\":\"lines\",\"name\":\"Raw Liver\",\"text\":\"\",\"type\":\"scatter\",\"x\":[1.4319023928907797,2.1478535893361697,2.5774243072034033,2.8638047857815594,3.1501852643597155,3.436565742937871,3.722946221516027,4.009326700094183,4.295707178672339,5.727609571563119,11.455219143126238],\"y\":[0.4306780654808008,0.430678065470672,0.4306780654656778,0.43067806546272763,0.4306780654599643,0.4306780654574044,0.43067806545500975,0.4306780654527722,0.43067806545068216,0.4306780654414696,0.43067806541256876]},{\"line\":{\"color\":\"rgba(55, 128, 191, 1.0)\",\"dash\":\"solid\",\"shape\":\"linear\",\"width\":1.3},\"mode\":\"lines\",\"name\":\"2% milk\",\"text\":\"\",\"type\":\"scatter\",\"x\":[1.4319023928907797,2.1478535893361697,2.5774243072034033,2.8638047857815594,3.1501852643597155,3.436565742937871,3.722946221516027,4.009326700094183,4.295707178672339,5.727609571563119,11.455219143126238],\"y\":[2.5311262721362344,2.5311262721036187,2.531126272087127,2.531126272077463,2.531126272068167,2.53112627205968,2.531126272051679,2.5311262720439576,2.5311262720371595,2.5311262720060403,2.531126271908743]},{\"line\":{\"color\":\"rgba(50, 171, 96, 1.0)\",\"dash\":\"solid\",\"shape\":\"linear\",\"width\":1.3},\"mode\":\"lines\",\"name\":\"Lime, raw\",\"text\":\"\",\"type\":\"scatter\",\"x\":[1.4319023928907797,2.1478535893361697,2.5774243072034033,2.8638047857815594,3.1501852643597155,3.436565742937871,3.722946221516027,4.009326700094183,4.295707178672339,5.727609571563119,11.455219143126238],\"y\":[2.942569270922395,2.9425692709743982,2.9425692710001465,2.942569271015561,2.942569271029841,2.9425692710430944,2.9425692710555,2.942569271067147,2.942569271078152,2.9425692711261444,2.942569271280181]},{\"line\":{\"color\":\"rgba(128, 0, 128, 1.0)\",\"dash\":\"solid\",\"shape\":\"linear\",\"width\":1.3},\"mode\":\"lines\",\"name\":\"Cashews, NFS\",\"text\":\"\",\"type\":\"scatter\",\"x\":[1.4319023928907797,2.1478535893361697,2.5774243072034033,2.8638047857815594,3.1501852643597155,3.436565742937871,3.722946221516027,4.009326700094183,4.295707178672339,5.727609571563119,11.455219143126238],\"y\":[2.842878155514209,2.842878155485557,2.842878155471728,2.8428781554633056,2.8428781554557516,2.8428781554486906,2.8428781554420475,2.8428781554360136,2.8428781554300424,2.8428781554051477,2.8428781553266984]},{\"line\":{\"color\":\"rgba(219, 64, 82, 1.0)\",\"dash\":\"solid\",\"shape\":\"linear\",\"width\":1.3},\"mode\":\"lines\",\"name\":\"Pistachio nuts, NFS\",\"text\":\"\",\"type\":\"scatter\",\"x\":[1.4319023928907797,2.1478535893361697,2.5774243072034033,2.8638047857815594,3.1501852643597155,3.436565742937871,3.722946221516027,4.009326700094183,4.295707178672339,5.727609571563119,11.455219143126238],\"y\":[1.356586514073951,1.3565865141495992,1.3565865141863465,1.3565865142083362,1.3565865142284026,1.3565865142471585,1.3565865142645204,1.3565865142807918,1.3565865142961873,1.3565865143623999,1.3565865145692162]},{\"line\":{\"color\":\"rgba(0, 128, 128, 1.0)\",\"dash\":\"solid\",\"shape\":\"linear\",\"width\":1.3},\"mode\":\"lines\",\"name\":\"Almond butter, creamy\",\"text\":\"\",\"type\":\"scatter\",\"x\":[1.4319023928907797,2.1478535893361697,2.5774243072034033,2.8638047857815594,3.1501852643597155,3.436565742937871,3.722946221516027,4.009326700094183,4.295707178672339,5.727609571563119,11.455219143126238],\"y\":[1.1687072072017723,1.1687072072131848,1.1687072072191573,1.1687072072226563,1.1687072072260989,1.1687072072291973,1.1687072072321898,1.1687072072350855,1.1687072072375966,1.168707207249385,1.168707207286552]}],                        {\"legend\":{\"bgcolor\":\"#F5F6F9\",\"font\":{\"color\":\"#4D5663\"}},\"paper_bgcolor\":\"#F5F6F9\",\"plot_bgcolor\":\"#F5F6F9\",\"template\":{\"data\":{\"bar\":[{\"error_x\":{\"color\":\"#2a3f5f\"},\"error_y\":{\"color\":\"#2a3f5f\"},\"marker\":{\"line\":{\"color\":\"#E5ECF6\",\"width\":0.5},\"pattern\":{\"fillmode\":\"overlay\",\"size\":10,\"solidity\":0.2}},\"type\":\"bar\"}],\"barpolar\":[{\"marker\":{\"line\":{\"color\":\"#E5ECF6\",\"width\":0.5},\"pattern\":{\"fillmode\":\"overlay\",\"size\":10,\"solidity\":0.2}},\"type\":\"barpolar\"}],\"carpet\":[{\"aaxis\":{\"endlinecolor\":\"#2a3f5f\",\"gridcolor\":\"white\",\"linecolor\":\"white\",\"minorgridcolor\":\"white\",\"startlinecolor\":\"#2a3f5f\"},\"baxis\":{\"endlinecolor\":\"#2a3f5f\",\"gridcolor\":\"white\",\"linecolor\":\"white\",\"minorgridcolor\":\"white\",\"startlinecolor\":\"#2a3f5f\"},\"type\":\"carpet\"}],\"choropleth\":[{\"colorbar\":{\"outlinewidth\":0,\"ticks\":\"\"},\"type\":\"choropleth\"}],\"contour\":[{\"colorbar\":{\"outlinewidth\":0,\"ticks\":\"\"},\"colorscale\":[[0.0,\"#0d0887\"],[0.1111111111111111,\"#46039f\"],[0.2222222222222222,\"#7201a8\"],[0.3333333333333333,\"#9c179e\"],[0.4444444444444444,\"#bd3786\"],[0.5555555555555556,\"#d8576b\"],[0.6666666666666666,\"#ed7953\"],[0.7777777777777778,\"#fb9f3a\"],[0.8888888888888888,\"#fdca26\"],[1.0,\"#f0f921\"]],\"type\":\"contour\"}],\"contourcarpet\":[{\"colorbar\":{\"outlinewidth\":0,\"ticks\":\"\"},\"type\":\"contourcarpet\"}],\"heatmap\":[{\"colorbar\":{\"outlinewidth\":0,\"ticks\":\"\"},\"colorscale\":[[0.0,\"#0d0887\"],[0.1111111111111111,\"#46039f\"],[0.2222222222222222,\"#7201a8\"],[0.3333333333333333,\"#9c179e\"],[0.4444444444444444,\"#bd3786\"],[0.5555555555555556,\"#d8576b\"],[0.6666666666666666,\"#ed7953\"],[0.7777777777777778,\"#fb9f3a\"],[0.8888888888888888,\"#fdca26\"],[1.0,\"#f0f921\"]],\"type\":\"heatmap\"}],\"heatmapgl\":[{\"colorbar\":{\"outlinewidth\":0,\"ticks\":\"\"},\"colorscale\":[[0.0,\"#0d0887\"],[0.1111111111111111,\"#46039f\"],[0.2222222222222222,\"#7201a8\"],[0.3333333333333333,\"#9c179e\"],[0.4444444444444444,\"#bd3786\"],[0.5555555555555556,\"#d8576b\"],[0.6666666666666666,\"#ed7953\"],[0.7777777777777778,\"#fb9f3a\"],[0.8888888888888888,\"#fdca26\"],[1.0,\"#f0f921\"]],\"type\":\"heatmapgl\"}],\"histogram\":[{\"marker\":{\"pattern\":{\"fillmode\":\"overlay\",\"size\":10,\"solidity\":0.2}},\"type\":\"histogram\"}],\"histogram2d\":[{\"colorbar\":{\"outlinewidth\":0,\"ticks\":\"\"},\"colorscale\":[[0.0,\"#0d0887\"],[0.1111111111111111,\"#46039f\"],[0.2222222222222222,\"#7201a8\"],[0.3333333333333333,\"#9c179e\"],[0.4444444444444444,\"#bd3786\"],[0.5555555555555556,\"#d8576b\"],[0.6666666666666666,\"#ed7953\"],[0.7777777777777778,\"#fb9f3a\"],[0.8888888888888888,\"#fdca26\"],[1.0,\"#f0f921\"]],\"type\":\"histogram2d\"}],\"histogram2dcontour\":[{\"colorbar\":{\"outlinewidth\":0,\"ticks\":\"\"},\"colorscale\":[[0.0,\"#0d0887\"],[0.1111111111111111,\"#46039f\"],[0.2222222222222222,\"#7201a8\"],[0.3333333333333333,\"#9c179e\"],[0.4444444444444444,\"#bd3786\"],[0.5555555555555556,\"#d8576b\"],[0.6666666666666666,\"#ed7953\"],[0.7777777777777778,\"#fb9f3a\"],[0.8888888888888888,\"#fdca26\"],[1.0,\"#f0f921\"]],\"type\":\"histogram2dcontour\"}],\"mesh3d\":[{\"colorbar\":{\"outlinewidth\":0,\"ticks\":\"\"},\"type\":\"mesh3d\"}],\"parcoords\":[{\"line\":{\"colorbar\":{\"outlinewidth\":0,\"ticks\":\"\"}},\"type\":\"parcoords\"}],\"pie\":[{\"automargin\":true,\"type\":\"pie\"}],\"scatter\":[{\"marker\":{\"colorbar\":{\"outlinewidth\":0,\"ticks\":\"\"}},\"type\":\"scatter\"}],\"scatter3d\":[{\"line\":{\"colorbar\":{\"outlinewidth\":0,\"ticks\":\"\"}},\"marker\":{\"colorbar\":{\"outlinewidth\":0,\"ticks\":\"\"}},\"type\":\"scatter3d\"}],\"scattercarpet\":[{\"marker\":{\"colorbar\":{\"outlinewidth\":0,\"ticks\":\"\"}},\"type\":\"scattercarpet\"}],\"scattergeo\":[{\"marker\":{\"colorbar\":{\"outlinewidth\":0,\"ticks\":\"\"}},\"type\":\"scattergeo\"}],\"scattergl\":[{\"marker\":{\"colorbar\":{\"outlinewidth\":0,\"ticks\":\"\"}},\"type\":\"scattergl\"}],\"scattermapbox\":[{\"marker\":{\"colorbar\":{\"outlinewidth\":0,\"ticks\":\"\"}},\"type\":\"scattermapbox\"}],\"scatterpolar\":[{\"marker\":{\"colorbar\":{\"outlinewidth\":0,\"ticks\":\"\"}},\"type\":\"scatterpolar\"}],\"scatterpolargl\":[{\"marker\":{\"colorbar\":{\"outlinewidth\":0,\"ticks\":\"\"}},\"type\":\"scatterpolargl\"}],\"scatterternary\":[{\"marker\":{\"colorbar\":{\"outlinewidth\":0,\"ticks\":\"\"}},\"type\":\"scatterternary\"}],\"surface\":[{\"colorbar\":{\"outlinewidth\":0,\"ticks\":\"\"},\"colorscale\":[[0.0,\"#0d0887\"],[0.1111111111111111,\"#46039f\"],[0.2222222222222222,\"#7201a8\"],[0.3333333333333333,\"#9c179e\"],[0.4444444444444444,\"#bd3786\"],[0.5555555555555556,\"#d8576b\"],[0.6666666666666666,\"#ed7953\"],[0.7777777777777778,\"#fb9f3a\"],[0.8888888888888888,\"#fdca26\"],[1.0,\"#f0f921\"]],\"type\":\"surface\"}],\"table\":[{\"cells\":{\"fill\":{\"color\":\"#EBF0F8\"},\"line\":{\"color\":\"white\"}},\"header\":{\"fill\":{\"color\":\"#C8D4E3\"},\"line\":{\"color\":\"white\"}},\"type\":\"table\"}]},\"layout\":{\"annotationdefaults\":{\"arrowcolor\":\"#2a3f5f\",\"arrowhead\":0,\"arrowwidth\":1},\"autotypenumbers\":\"strict\",\"coloraxis\":{\"colorbar\":{\"outlinewidth\":0,\"ticks\":\"\"}},\"colorscale\":{\"diverging\":[[0,\"#8e0152\"],[0.1,\"#c51b7d\"],[0.2,\"#de77ae\"],[0.3,\"#f1b6da\"],[0.4,\"#fde0ef\"],[0.5,\"#f7f7f7\"],[0.6,\"#e6f5d0\"],[0.7,\"#b8e186\"],[0.8,\"#7fbc41\"],[0.9,\"#4d9221\"],[1,\"#276419\"]],\"sequential\":[[0.0,\"#0d0887\"],[0.1111111111111111,\"#46039f\"],[0.2222222222222222,\"#7201a8\"],[0.3333333333333333,\"#9c179e\"],[0.4444444444444444,\"#bd3786\"],[0.5555555555555556,\"#d8576b\"],[0.6666666666666666,\"#ed7953\"],[0.7777777777777778,\"#fb9f3a\"],[0.8888888888888888,\"#fdca26\"],[1.0,\"#f0f921\"]],\"sequentialminus\":[[0.0,\"#0d0887\"],[0.1111111111111111,\"#46039f\"],[0.2222222222222222,\"#7201a8\"],[0.3333333333333333,\"#9c179e\"],[0.4444444444444444,\"#bd3786\"],[0.5555555555555556,\"#d8576b\"],[0.6666666666666666,\"#ed7953\"],[0.7777777777777778,\"#fb9f3a\"],[0.8888888888888888,\"#fdca26\"],[1.0,\"#f0f921\"]]},\"colorway\":[\"#636efa\",\"#EF553B\",\"#00cc96\",\"#ab63fa\",\"#FFA15A\",\"#19d3f3\",\"#FF6692\",\"#B6E880\",\"#FF97FF\",\"#FECB52\"],\"font\":{\"color\":\"#2a3f5f\"},\"geo\":{\"bgcolor\":\"white\",\"lakecolor\":\"white\",\"landcolor\":\"#E5ECF6\",\"showlakes\":true,\"showland\":true,\"subunitcolor\":\"white\"},\"hoverlabel\":{\"align\":\"left\"},\"hovermode\":\"closest\",\"mapbox\":{\"style\":\"light\"},\"paper_bgcolor\":\"white\",\"plot_bgcolor\":\"#E5ECF6\",\"polar\":{\"angularaxis\":{\"gridcolor\":\"white\",\"linecolor\":\"white\",\"ticks\":\"\"},\"bgcolor\":\"#E5ECF6\",\"radialaxis\":{\"gridcolor\":\"white\",\"linecolor\":\"white\",\"ticks\":\"\"}},\"scene\":{\"xaxis\":{\"backgroundcolor\":\"#E5ECF6\",\"gridcolor\":\"white\",\"gridwidth\":2,\"linecolor\":\"white\",\"showbackground\":true,\"ticks\":\"\",\"zerolinecolor\":\"white\"},\"yaxis\":{\"backgroundcolor\":\"#E5ECF6\",\"gridcolor\":\"white\",\"gridwidth\":2,\"linecolor\":\"white\",\"showbackground\":true,\"ticks\":\"\",\"zerolinecolor\":\"white\"},\"zaxis\":{\"backgroundcolor\":\"#E5ECF6\",\"gridcolor\":\"white\",\"gridwidth\":2,\"linecolor\":\"white\",\"showbackground\":true,\"ticks\":\"\",\"zerolinecolor\":\"white\"}},\"shapedefaults\":{\"line\":{\"color\":\"#2a3f5f\"}},\"ternary\":{\"aaxis\":{\"gridcolor\":\"white\",\"linecolor\":\"white\",\"ticks\":\"\"},\"baxis\":{\"gridcolor\":\"white\",\"linecolor\":\"white\",\"ticks\":\"\"},\"bgcolor\":\"#E5ECF6\",\"caxis\":{\"gridcolor\":\"white\",\"linecolor\":\"white\",\"ticks\":\"\"}},\"title\":{\"x\":0.05},\"xaxis\":{\"automargin\":true,\"gridcolor\":\"white\",\"linecolor\":\"white\",\"ticks\":\"\",\"title\":{\"standoff\":15},\"zerolinecolor\":\"white\",\"zerolinewidth\":2},\"yaxis\":{\"automargin\":true,\"gridcolor\":\"white\",\"linecolor\":\"white\",\"ticks\":\"\",\"title\":{\"standoff\":15},\"zerolinecolor\":\"white\",\"zerolinewidth\":2}}},\"title\":{\"font\":{\"color\":\"#4D5663\"},\"text\":\"Beef Pricing Change Effect on Hectograms Other Nutrients (Raw Meat)\"},\"xaxis\":{\"gridcolor\":\"#E1E5ED\",\"showgrid\":true,\"tickfont\":{\"color\":\"#4D5663\"},\"title\":{\"font\":{\"color\":\"#4D5663\"},\"text\":\"Beef Price\"},\"zerolinecolor\":\"#E1E5ED\"},\"yaxis\":{\"gridcolor\":\"#E1E5ED\",\"showgrid\":true,\"tickfont\":{\"color\":\"#4D5663\"},\"title\":{\"font\":{\"color\":\"#4D5663\"},\"text\":\"Hectograms\"},\"zerolinecolor\":\"#E1E5ED\"}},                        {\"showLink\": true, \"linkText\": \"Export to plot.ly\", \"plotlyServerURL\": \"https://plot.ly\", \"responsive\": true}                    ).then(function(){\n",
       "                            \n",
       "var gd = document.getElementById('af84f23c-4807-42bd-ae4b-584f4dba12f4');\n",
       "var x = new MutationObserver(function (mutations, observer) {{\n",
       "        var display = window.getComputedStyle(gd).display;\n",
       "        if (!display || display === 'none') {{\n",
       "            console.log([gd, 'removed!']);\n",
       "            Plotly.purge(gd);\n",
       "            observer.disconnect();\n",
       "        }}\n",
       "}});\n",
       "\n",
       "// Listen for the removal of the full notebook cells\n",
       "var notebookContainer = gd.closest('#notebook-container');\n",
       "if (notebookContainer) {{\n",
       "    x.observe(notebookContainer, {childList: true});\n",
       "}}\n",
       "\n",
       "// Listen for the clearing of the current output cell\n",
       "var outputEl = gd.closest('.output');\n",
       "if (outputEl) {{\n",
       "    x.observe(outputEl, {childList: true});\n",
       "}}\n",
       "\n",
       "                        })                };                });            </script>        </div>"
      ]
     },
     "metadata": {},
     "output_type": "display_data"
    }
   ],
   "source": [
    "Beef_Meat_response = getEffectsofPriceChangeGraph(\"meat\", \"Beef\")"
   ]
  },
  {
   "cell_type": "code",
   "execution_count": 123,
   "id": "5f41d501",
   "metadata": {},
   "outputs": [
    {
     "data": {
      "text/html": [
       "        <script type=\"text/javascript\">\n",
       "        window.PlotlyConfig = {MathJaxConfig: 'local'};\n",
       "        if (window.MathJax) {MathJax.Hub.Config({SVG: {font: \"STIX-Web\"}});}\n",
       "        if (typeof require !== 'undefined') {\n",
       "        require.undef(\"plotly\");\n",
       "        requirejs.config({\n",
       "            paths: {\n",
       "                'plotly': ['https://cdn.plot.ly/plotly-2.3.1.min']\n",
       "            }\n",
       "        });\n",
       "        require(['plotly'], function(Plotly) {\n",
       "            window._Plotly = Plotly;\n",
       "        });\n",
       "        }\n",
       "        </script>\n",
       "        "
      ]
     },
     "metadata": {},
     "output_type": "display_data"
    },
    {
     "data": {
      "application/vnd.plotly.v1+json": {
       "config": {
        "linkText": "Export to plot.ly",
        "plotlyServerURL": "https://plot.ly",
        "showLink": true
       },
       "data": [
        {
         "line": {
          "color": "rgba(255, 153, 51, 1.0)",
          "dash": "solid",
          "shape": "linear",
          "width": 1.3
         },
         "mode": "lines",
         "name": "Eggs",
         "text": "",
         "type": "scatter",
         "x": [
          1.4319023928907797,
          2.1478535893361697,
          2.5774243072034033,
          2.8638047857815594,
          3.1501852643597155,
          3.436565742937871,
          3.722946221516027,
          4.009326700094183,
          4.295707178672339,
          5.727609571563119,
          11.455219143126238
         ],
         "y": [
          1.2225925995554439,
          1.2225925775997086,
          1.2225910962730602,
          1.2225925996664027,
          1.2225925766784416,
          1.2225925121144634,
          1.2225922833009955,
          1.2225925744175645,
          1.2225925659461503,
          1.222592598737455,
          1.222592597437652
         ]
        },
        {
         "line": {
          "color": "rgba(55, 128, 191, 1.0)",
          "dash": "solid",
          "shape": "linear",
          "width": 1.3
         },
         "mode": "lines",
         "name": "Raw Liver",
         "text": "",
         "type": "scatter",
         "x": [
          1.4319023928907797,
          2.1478535893361697,
          2.5774243072034033,
          2.8638047857815594,
          3.1501852643597155,
          3.436565742937871,
          3.722946221516027,
          4.009326700094183,
          4.295707178672339,
          5.727609571563119,
          11.455219143126238
         ],
         "y": [
          0.19135306835807614,
          0.1913530676912759,
          0.19135311684781456,
          0.1913530684286181,
          0.1913530685300965,
          0.1913530742836999,
          0.19135309083456795,
          0.19135303599497935,
          0.19135307095481682,
          0.19135306845925903,
          0.19135306827740836
         ]
        },
        {
         "line": {
          "color": "rgba(50, 171, 96, 1.0)",
          "dash": "solid",
          "shape": "linear",
          "width": 1.3
         },
         "mode": "lines",
         "name": "2% milk",
         "text": "",
         "type": "scatter",
         "x": [
          1.4319023928907797,
          2.1478535893361697,
          2.5774243072034033,
          2.8638047857815594,
          3.1501852643597155,
          3.436565742937871,
          3.722946221516027,
          4.009326700094183,
          4.295707178672339,
          5.727609571563119,
          11.455219143126238
         ],
         "y": [
          6.472176555480061,
          6.472176609145796,
          6.472179989721732,
          6.472176554780933,
          6.472176589778635,
          6.472176724129012,
          6.47217737698417,
          6.47217663699525,
          6.472176638261215,
          6.472176557753805,
          6.472176561348514
         ]
        },
        {
         "line": {
          "color": "rgba(128, 0, 128, 1.0)",
          "dash": "solid",
          "shape": "linear",
          "width": 1.3
         },
         "mode": "lines",
         "name": "Peanut butter, creamy",
         "text": "",
         "type": "scatter",
         "x": [
          1.4319023928907797,
          2.1478535893361697,
          2.5774243072034033,
          2.8638047857815594,
          3.1501852643597155,
          3.436565742937871,
          3.722946221516027,
          4.009326700094183,
          4.295707178672339,
          5.727609571563119,
          11.455219143126238
         ],
         "y": [
          0.8103339317230676,
          0.8103339381095415,
          0.810333914429799,
          0.8103339315104232,
          0.810333925655682,
          0.8103339201433033,
          0.8103338736582381,
          0.8103340038570437,
          0.8103339243273088,
          0.8103339313812502,
          0.8103339319943215
         ]
        },
        {
         "line": {
          "color": "rgba(219, 64, 82, 1.0)",
          "dash": "solid",
          "shape": "linear",
          "width": 1.3
         },
         "mode": "lines",
         "name": "Collards, raw",
         "text": "",
         "type": "scatter",
         "x": [
          1.4319023928907797,
          2.1478535893361697,
          2.5774243072034033,
          2.8638047857815594,
          3.1501852643597155,
          3.436565742937871,
          3.722946221516027,
          4.009326700094183,
          4.295707178672339,
          5.727609571563119,
          11.455219143126238
         ],
         "y": [
          0.0348771336583811,
          0.03487713481360237,
          0.03487715608256876,
          0.03487713362258626,
          0.03487713177378689,
          0.03487713284029611,
          0.034877130867621474,
          0.03487714012704013,
          0.034877133250881646,
          0.03487713362306227,
          0.034877133706643595
         ]
        },
        {
         "line": {
          "color": "rgba(0, 128, 128, 1.0)",
          "dash": "solid",
          "shape": "linear",
          "width": 1.3
         },
         "mode": "lines",
         "name": "Avocado, raw",
         "text": "",
         "type": "scatter",
         "x": [
          1.4319023928907797,
          2.1478535893361697,
          2.5774243072034033,
          2.8638047857815594,
          3.1501852643597155,
          3.436565742937871,
          3.722946221516027,
          4.009326700094183,
          4.295707178672339,
          5.727609571563119,
          11.455219143126238
         ],
         "y": [
          4.952972172525007,
          4.952972146461557,
          4.952971601907248,
          4.952972173251529,
          4.95297220837962,
          4.952972178325644,
          4.952972211462864,
          4.952972041693632,
          4.952972182547796,
          4.952972173247925,
          4.952972171295373
         ]
        },
        {
         "line": {
          "color": "rgba(255, 255, 51, 1.0)",
          "dash": "solid",
          "shape": "linear",
          "width": 1.3
         },
         "mode": "lines",
         "name": "Black beans, NFS",
         "text": "",
         "type": "scatter",
         "x": [
          1.4319023928907797,
          2.1478535893361697,
          2.5774243072034033,
          2.8638047857815594,
          3.1501852643597155,
          3.436565742937871,
          3.722946221516027,
          4.009326700094183,
          4.295707178672339,
          5.727609571563119,
          11.455219143126238
         ],
         "y": [
          0.07578005567151833,
          0.07578006175661921,
          0.07578036040804088,
          0.07578005559507568,
          0.07578006161937442,
          0.07578007087028396,
          0.07578012227470031,
          0.07578007597966745,
          0.07578006217586693,
          0.07578005578072305,
          0.07578005633834589
         ]
        },
        {
         "line": {
          "color": "rgba(128, 128, 0, 1.0)",
          "dash": "solid",
          "shape": "linear",
          "width": 1.3
         },
         "mode": "lines",
         "name": "Lentils, NFS",
         "text": "",
         "type": "scatter",
         "x": [
          1.4319023928907797,
          2.1478535893361697,
          2.5774243072034033,
          2.8638047857815594,
          3.1501852643597155,
          3.436565742937871,
          3.722946221516027,
          4.009326700094183,
          4.295707178672339,
          5.727609571563119,
          11.455219143126238
         ],
         "y": [
          0.5145584493186273,
          0.5145584420865766,
          0.5145576465420155,
          0.5145584492424982,
          0.514558417451308,
          0.5145583936745712,
          0.5145582354426074,
          0.5145584255163471,
          0.5145584238118912,
          0.5145584486653365,
          0.5145584479794162
         ]
        },
        {
         "line": {
          "color": "rgba(251, 128, 114, 1.0)",
          "dash": "solid",
          "shape": "linear",
          "width": 1.3
         },
         "mode": "lines",
         "name": "Peppers, bell, green, raw",
         "text": "",
         "type": "scatter",
         "x": [
          1.4319023928907797,
          2.1478535893361697,
          2.5774243072034033,
          2.8638047857815594,
          3.1501852643597155,
          3.436565742937871,
          3.722946221516027,
          4.009326700094183,
          4.295707178672339,
          5.727609571563119,
          11.455219143126238
         ],
         "y": [
          0.3929772714276799,
          0.3929772617158451,
          0.3929767550673014,
          0.3929772714410466,
          0.3929772594149251,
          0.3929772354883425,
          0.3929772106206829,
          0.3929772472702918,
          0.3929772622049155,
          0.3929772713791537,
          0.39297727074173433
         ]
        },
        {
         "line": {
          "color": "rgba(128, 177, 211, 1.0)",
          "dash": "solid",
          "shape": "linear",
          "width": 1.3
         },
         "mode": "lines",
         "name": "Nutritional Yeast",
         "text": "",
         "type": "scatter",
         "x": [
          1.4319023928907797,
          2.1478535893361697,
          2.5774243072034033,
          2.8638047857815594,
          3.1501852643597155,
          3.436565742937871,
          3.722946221516027,
          4.009326700094183,
          4.295707178672339,
          5.727609571563119,
          11.455219143126238
         ],
         "y": [
          0.003927666900619481,
          0.003927666881461602,
          0.00392766532441412,
          0.00392766690063473,
          0.003927666861181078,
          0.003927666798908176,
          0.003927666429226374,
          0.0039276669091130485,
          0.003927666853865912,
          0.003927666899050158,
          0.003927666898052987
         ]
        }
       ],
       "layout": {
        "legend": {
         "bgcolor": "#F5F6F9",
         "font": {
          "color": "#4D5663"
         }
        },
        "paper_bgcolor": "#F5F6F9",
        "plot_bgcolor": "#F5F6F9",
        "template": {
         "data": {
          "bar": [
           {
            "error_x": {
             "color": "#2a3f5f"
            },
            "error_y": {
             "color": "#2a3f5f"
            },
            "marker": {
             "line": {
              "color": "#E5ECF6",
              "width": 0.5
             },
             "pattern": {
              "fillmode": "overlay",
              "size": 10,
              "solidity": 0.2
             }
            },
            "type": "bar"
           }
          ],
          "barpolar": [
           {
            "marker": {
             "line": {
              "color": "#E5ECF6",
              "width": 0.5
             },
             "pattern": {
              "fillmode": "overlay",
              "size": 10,
              "solidity": 0.2
             }
            },
            "type": "barpolar"
           }
          ],
          "carpet": [
           {
            "aaxis": {
             "endlinecolor": "#2a3f5f",
             "gridcolor": "white",
             "linecolor": "white",
             "minorgridcolor": "white",
             "startlinecolor": "#2a3f5f"
            },
            "baxis": {
             "endlinecolor": "#2a3f5f",
             "gridcolor": "white",
             "linecolor": "white",
             "minorgridcolor": "white",
             "startlinecolor": "#2a3f5f"
            },
            "type": "carpet"
           }
          ],
          "choropleth": [
           {
            "colorbar": {
             "outlinewidth": 0,
             "ticks": ""
            },
            "type": "choropleth"
           }
          ],
          "contour": [
           {
            "colorbar": {
             "outlinewidth": 0,
             "ticks": ""
            },
            "colorscale": [
             [
              0,
              "#0d0887"
             ],
             [
              0.1111111111111111,
              "#46039f"
             ],
             [
              0.2222222222222222,
              "#7201a8"
             ],
             [
              0.3333333333333333,
              "#9c179e"
             ],
             [
              0.4444444444444444,
              "#bd3786"
             ],
             [
              0.5555555555555556,
              "#d8576b"
             ],
             [
              0.6666666666666666,
              "#ed7953"
             ],
             [
              0.7777777777777778,
              "#fb9f3a"
             ],
             [
              0.8888888888888888,
              "#fdca26"
             ],
             [
              1,
              "#f0f921"
             ]
            ],
            "type": "contour"
           }
          ],
          "contourcarpet": [
           {
            "colorbar": {
             "outlinewidth": 0,
             "ticks": ""
            },
            "type": "contourcarpet"
           }
          ],
          "heatmap": [
           {
            "colorbar": {
             "outlinewidth": 0,
             "ticks": ""
            },
            "colorscale": [
             [
              0,
              "#0d0887"
             ],
             [
              0.1111111111111111,
              "#46039f"
             ],
             [
              0.2222222222222222,
              "#7201a8"
             ],
             [
              0.3333333333333333,
              "#9c179e"
             ],
             [
              0.4444444444444444,
              "#bd3786"
             ],
             [
              0.5555555555555556,
              "#d8576b"
             ],
             [
              0.6666666666666666,
              "#ed7953"
             ],
             [
              0.7777777777777778,
              "#fb9f3a"
             ],
             [
              0.8888888888888888,
              "#fdca26"
             ],
             [
              1,
              "#f0f921"
             ]
            ],
            "type": "heatmap"
           }
          ],
          "heatmapgl": [
           {
            "colorbar": {
             "outlinewidth": 0,
             "ticks": ""
            },
            "colorscale": [
             [
              0,
              "#0d0887"
             ],
             [
              0.1111111111111111,
              "#46039f"
             ],
             [
              0.2222222222222222,
              "#7201a8"
             ],
             [
              0.3333333333333333,
              "#9c179e"
             ],
             [
              0.4444444444444444,
              "#bd3786"
             ],
             [
              0.5555555555555556,
              "#d8576b"
             ],
             [
              0.6666666666666666,
              "#ed7953"
             ],
             [
              0.7777777777777778,
              "#fb9f3a"
             ],
             [
              0.8888888888888888,
              "#fdca26"
             ],
             [
              1,
              "#f0f921"
             ]
            ],
            "type": "heatmapgl"
           }
          ],
          "histogram": [
           {
            "marker": {
             "pattern": {
              "fillmode": "overlay",
              "size": 10,
              "solidity": 0.2
             }
            },
            "type": "histogram"
           }
          ],
          "histogram2d": [
           {
            "colorbar": {
             "outlinewidth": 0,
             "ticks": ""
            },
            "colorscale": [
             [
              0,
              "#0d0887"
             ],
             [
              0.1111111111111111,
              "#46039f"
             ],
             [
              0.2222222222222222,
              "#7201a8"
             ],
             [
              0.3333333333333333,
              "#9c179e"
             ],
             [
              0.4444444444444444,
              "#bd3786"
             ],
             [
              0.5555555555555556,
              "#d8576b"
             ],
             [
              0.6666666666666666,
              "#ed7953"
             ],
             [
              0.7777777777777778,
              "#fb9f3a"
             ],
             [
              0.8888888888888888,
              "#fdca26"
             ],
             [
              1,
              "#f0f921"
             ]
            ],
            "type": "histogram2d"
           }
          ],
          "histogram2dcontour": [
           {
            "colorbar": {
             "outlinewidth": 0,
             "ticks": ""
            },
            "colorscale": [
             [
              0,
              "#0d0887"
             ],
             [
              0.1111111111111111,
              "#46039f"
             ],
             [
              0.2222222222222222,
              "#7201a8"
             ],
             [
              0.3333333333333333,
              "#9c179e"
             ],
             [
              0.4444444444444444,
              "#bd3786"
             ],
             [
              0.5555555555555556,
              "#d8576b"
             ],
             [
              0.6666666666666666,
              "#ed7953"
             ],
             [
              0.7777777777777778,
              "#fb9f3a"
             ],
             [
              0.8888888888888888,
              "#fdca26"
             ],
             [
              1,
              "#f0f921"
             ]
            ],
            "type": "histogram2dcontour"
           }
          ],
          "mesh3d": [
           {
            "colorbar": {
             "outlinewidth": 0,
             "ticks": ""
            },
            "type": "mesh3d"
           }
          ],
          "parcoords": [
           {
            "line": {
             "colorbar": {
              "outlinewidth": 0,
              "ticks": ""
             }
            },
            "type": "parcoords"
           }
          ],
          "pie": [
           {
            "automargin": true,
            "type": "pie"
           }
          ],
          "scatter": [
           {
            "marker": {
             "colorbar": {
              "outlinewidth": 0,
              "ticks": ""
             }
            },
            "type": "scatter"
           }
          ],
          "scatter3d": [
           {
            "line": {
             "colorbar": {
              "outlinewidth": 0,
              "ticks": ""
             }
            },
            "marker": {
             "colorbar": {
              "outlinewidth": 0,
              "ticks": ""
             }
            },
            "type": "scatter3d"
           }
          ],
          "scattercarpet": [
           {
            "marker": {
             "colorbar": {
              "outlinewidth": 0,
              "ticks": ""
             }
            },
            "type": "scattercarpet"
           }
          ],
          "scattergeo": [
           {
            "marker": {
             "colorbar": {
              "outlinewidth": 0,
              "ticks": ""
             }
            },
            "type": "scattergeo"
           }
          ],
          "scattergl": [
           {
            "marker": {
             "colorbar": {
              "outlinewidth": 0,
              "ticks": ""
             }
            },
            "type": "scattergl"
           }
          ],
          "scattermapbox": [
           {
            "marker": {
             "colorbar": {
              "outlinewidth": 0,
              "ticks": ""
             }
            },
            "type": "scattermapbox"
           }
          ],
          "scatterpolar": [
           {
            "marker": {
             "colorbar": {
              "outlinewidth": 0,
              "ticks": ""
             }
            },
            "type": "scatterpolar"
           }
          ],
          "scatterpolargl": [
           {
            "marker": {
             "colorbar": {
              "outlinewidth": 0,
              "ticks": ""
             }
            },
            "type": "scatterpolargl"
           }
          ],
          "scatterternary": [
           {
            "marker": {
             "colorbar": {
              "outlinewidth": 0,
              "ticks": ""
             }
            },
            "type": "scatterternary"
           }
          ],
          "surface": [
           {
            "colorbar": {
             "outlinewidth": 0,
             "ticks": ""
            },
            "colorscale": [
             [
              0,
              "#0d0887"
             ],
             [
              0.1111111111111111,
              "#46039f"
             ],
             [
              0.2222222222222222,
              "#7201a8"
             ],
             [
              0.3333333333333333,
              "#9c179e"
             ],
             [
              0.4444444444444444,
              "#bd3786"
             ],
             [
              0.5555555555555556,
              "#d8576b"
             ],
             [
              0.6666666666666666,
              "#ed7953"
             ],
             [
              0.7777777777777778,
              "#fb9f3a"
             ],
             [
              0.8888888888888888,
              "#fdca26"
             ],
             [
              1,
              "#f0f921"
             ]
            ],
            "type": "surface"
           }
          ],
          "table": [
           {
            "cells": {
             "fill": {
              "color": "#EBF0F8"
             },
             "line": {
              "color": "white"
             }
            },
            "header": {
             "fill": {
              "color": "#C8D4E3"
             },
             "line": {
              "color": "white"
             }
            },
            "type": "table"
           }
          ]
         },
         "layout": {
          "annotationdefaults": {
           "arrowcolor": "#2a3f5f",
           "arrowhead": 0,
           "arrowwidth": 1
          },
          "autotypenumbers": "strict",
          "coloraxis": {
           "colorbar": {
            "outlinewidth": 0,
            "ticks": ""
           }
          },
          "colorscale": {
           "diverging": [
            [
             0,
             "#8e0152"
            ],
            [
             0.1,
             "#c51b7d"
            ],
            [
             0.2,
             "#de77ae"
            ],
            [
             0.3,
             "#f1b6da"
            ],
            [
             0.4,
             "#fde0ef"
            ],
            [
             0.5,
             "#f7f7f7"
            ],
            [
             0.6,
             "#e6f5d0"
            ],
            [
             0.7,
             "#b8e186"
            ],
            [
             0.8,
             "#7fbc41"
            ],
            [
             0.9,
             "#4d9221"
            ],
            [
             1,
             "#276419"
            ]
           ],
           "sequential": [
            [
             0,
             "#0d0887"
            ],
            [
             0.1111111111111111,
             "#46039f"
            ],
            [
             0.2222222222222222,
             "#7201a8"
            ],
            [
             0.3333333333333333,
             "#9c179e"
            ],
            [
             0.4444444444444444,
             "#bd3786"
            ],
            [
             0.5555555555555556,
             "#d8576b"
            ],
            [
             0.6666666666666666,
             "#ed7953"
            ],
            [
             0.7777777777777778,
             "#fb9f3a"
            ],
            [
             0.8888888888888888,
             "#fdca26"
            ],
            [
             1,
             "#f0f921"
            ]
           ],
           "sequentialminus": [
            [
             0,
             "#0d0887"
            ],
            [
             0.1111111111111111,
             "#46039f"
            ],
            [
             0.2222222222222222,
             "#7201a8"
            ],
            [
             0.3333333333333333,
             "#9c179e"
            ],
            [
             0.4444444444444444,
             "#bd3786"
            ],
            [
             0.5555555555555556,
             "#d8576b"
            ],
            [
             0.6666666666666666,
             "#ed7953"
            ],
            [
             0.7777777777777778,
             "#fb9f3a"
            ],
            [
             0.8888888888888888,
             "#fdca26"
            ],
            [
             1,
             "#f0f921"
            ]
           ]
          },
          "colorway": [
           "#636efa",
           "#EF553B",
           "#00cc96",
           "#ab63fa",
           "#FFA15A",
           "#19d3f3",
           "#FF6692",
           "#B6E880",
           "#FF97FF",
           "#FECB52"
          ],
          "font": {
           "color": "#2a3f5f"
          },
          "geo": {
           "bgcolor": "white",
           "lakecolor": "white",
           "landcolor": "#E5ECF6",
           "showlakes": true,
           "showland": true,
           "subunitcolor": "white"
          },
          "hoverlabel": {
           "align": "left"
          },
          "hovermode": "closest",
          "mapbox": {
           "style": "light"
          },
          "paper_bgcolor": "white",
          "plot_bgcolor": "#E5ECF6",
          "polar": {
           "angularaxis": {
            "gridcolor": "white",
            "linecolor": "white",
            "ticks": ""
           },
           "bgcolor": "#E5ECF6",
           "radialaxis": {
            "gridcolor": "white",
            "linecolor": "white",
            "ticks": ""
           }
          },
          "scene": {
           "xaxis": {
            "backgroundcolor": "#E5ECF6",
            "gridcolor": "white",
            "gridwidth": 2,
            "linecolor": "white",
            "showbackground": true,
            "ticks": "",
            "zerolinecolor": "white"
           },
           "yaxis": {
            "backgroundcolor": "#E5ECF6",
            "gridcolor": "white",
            "gridwidth": 2,
            "linecolor": "white",
            "showbackground": true,
            "ticks": "",
            "zerolinecolor": "white"
           },
           "zaxis": {
            "backgroundcolor": "#E5ECF6",
            "gridcolor": "white",
            "gridwidth": 2,
            "linecolor": "white",
            "showbackground": true,
            "ticks": "",
            "zerolinecolor": "white"
           }
          },
          "shapedefaults": {
           "line": {
            "color": "#2a3f5f"
           }
          },
          "ternary": {
           "aaxis": {
            "gridcolor": "white",
            "linecolor": "white",
            "ticks": ""
           },
           "baxis": {
            "gridcolor": "white",
            "linecolor": "white",
            "ticks": ""
           },
           "bgcolor": "#E5ECF6",
           "caxis": {
            "gridcolor": "white",
            "linecolor": "white",
            "ticks": ""
           }
          },
          "title": {
           "x": 0.05
          },
          "xaxis": {
           "automargin": true,
           "gridcolor": "white",
           "linecolor": "white",
           "ticks": "",
           "title": {
            "standoff": 15
           },
           "zerolinecolor": "white",
           "zerolinewidth": 2
          },
          "yaxis": {
           "automargin": true,
           "gridcolor": "white",
           "linecolor": "white",
           "ticks": "",
           "title": {
            "standoff": 15
           },
           "zerolinecolor": "white",
           "zerolinewidth": 2
          }
         }
        },
        "title": {
         "font": {
          "color": "#4D5663"
         },
         "text": "Beef Pricing Change Effect on Hectograms Other Nutrients (USDA)"
        },
        "xaxis": {
         "gridcolor": "#E1E5ED",
         "showgrid": true,
         "tickfont": {
          "color": "#4D5663"
         },
         "title": {
          "font": {
           "color": "#4D5663"
          },
          "text": "Beef Price"
         },
         "zerolinecolor": "#E1E5ED"
        },
        "yaxis": {
         "gridcolor": "#E1E5ED",
         "showgrid": true,
         "tickfont": {
          "color": "#4D5663"
         },
         "title": {
          "font": {
           "color": "#4D5663"
          },
          "text": "Hectograms"
         },
         "zerolinecolor": "#E1E5ED"
        }
       }
      },
      "text/html": [
       "<div>                            <div id=\"8d27454b-33d0-4973-9c21-34fa9351705a\" class=\"plotly-graph-div\" style=\"height:525px; width:100%;\"></div>            <script type=\"text/javascript\">                require([\"plotly\"], function(Plotly) {                    window.PLOTLYENV=window.PLOTLYENV || {};\n",
       "                    window.PLOTLYENV.BASE_URL='https://plot.ly';                                    if (document.getElementById(\"8d27454b-33d0-4973-9c21-34fa9351705a\")) {                    Plotly.newPlot(                        \"8d27454b-33d0-4973-9c21-34fa9351705a\",                        [{\"line\":{\"color\":\"rgba(255, 153, 51, 1.0)\",\"dash\":\"solid\",\"shape\":\"linear\",\"width\":1.3},\"mode\":\"lines\",\"name\":\"Eggs\",\"text\":\"\",\"type\":\"scatter\",\"x\":[1.4319023928907797,2.1478535893361697,2.5774243072034033,2.8638047857815594,3.1501852643597155,3.436565742937871,3.722946221516027,4.009326700094183,4.295707178672339,5.727609571563119,11.455219143126238],\"y\":[1.2225925995554439,1.2225925775997086,1.2225910962730602,1.2225925996664027,1.2225925766784416,1.2225925121144634,1.2225922833009955,1.2225925744175645,1.2225925659461503,1.222592598737455,1.222592597437652]},{\"line\":{\"color\":\"rgba(55, 128, 191, 1.0)\",\"dash\":\"solid\",\"shape\":\"linear\",\"width\":1.3},\"mode\":\"lines\",\"name\":\"Raw Liver\",\"text\":\"\",\"type\":\"scatter\",\"x\":[1.4319023928907797,2.1478535893361697,2.5774243072034033,2.8638047857815594,3.1501852643597155,3.436565742937871,3.722946221516027,4.009326700094183,4.295707178672339,5.727609571563119,11.455219143126238],\"y\":[0.19135306835807614,0.1913530676912759,0.19135311684781456,0.1913530684286181,0.1913530685300965,0.1913530742836999,0.19135309083456795,0.19135303599497935,0.19135307095481682,0.19135306845925903,0.19135306827740836]},{\"line\":{\"color\":\"rgba(50, 171, 96, 1.0)\",\"dash\":\"solid\",\"shape\":\"linear\",\"width\":1.3},\"mode\":\"lines\",\"name\":\"2% milk\",\"text\":\"\",\"type\":\"scatter\",\"x\":[1.4319023928907797,2.1478535893361697,2.5774243072034033,2.8638047857815594,3.1501852643597155,3.436565742937871,3.722946221516027,4.009326700094183,4.295707178672339,5.727609571563119,11.455219143126238],\"y\":[6.472176555480061,6.472176609145796,6.472179989721732,6.472176554780933,6.472176589778635,6.472176724129012,6.47217737698417,6.47217663699525,6.472176638261215,6.472176557753805,6.472176561348514]},{\"line\":{\"color\":\"rgba(128, 0, 128, 1.0)\",\"dash\":\"solid\",\"shape\":\"linear\",\"width\":1.3},\"mode\":\"lines\",\"name\":\"Peanut butter, creamy\",\"text\":\"\",\"type\":\"scatter\",\"x\":[1.4319023928907797,2.1478535893361697,2.5774243072034033,2.8638047857815594,3.1501852643597155,3.436565742937871,3.722946221516027,4.009326700094183,4.295707178672339,5.727609571563119,11.455219143126238],\"y\":[0.8103339317230676,0.8103339381095415,0.810333914429799,0.8103339315104232,0.810333925655682,0.8103339201433033,0.8103338736582381,0.8103340038570437,0.8103339243273088,0.8103339313812502,0.8103339319943215]},{\"line\":{\"color\":\"rgba(219, 64, 82, 1.0)\",\"dash\":\"solid\",\"shape\":\"linear\",\"width\":1.3},\"mode\":\"lines\",\"name\":\"Collards, raw\",\"text\":\"\",\"type\":\"scatter\",\"x\":[1.4319023928907797,2.1478535893361697,2.5774243072034033,2.8638047857815594,3.1501852643597155,3.436565742937871,3.722946221516027,4.009326700094183,4.295707178672339,5.727609571563119,11.455219143126238],\"y\":[0.0348771336583811,0.03487713481360237,0.03487715608256876,0.03487713362258626,0.03487713177378689,0.03487713284029611,0.034877130867621474,0.03487714012704013,0.034877133250881646,0.03487713362306227,0.034877133706643595]},{\"line\":{\"color\":\"rgba(0, 128, 128, 1.0)\",\"dash\":\"solid\",\"shape\":\"linear\",\"width\":1.3},\"mode\":\"lines\",\"name\":\"Avocado, raw\",\"text\":\"\",\"type\":\"scatter\",\"x\":[1.4319023928907797,2.1478535893361697,2.5774243072034033,2.8638047857815594,3.1501852643597155,3.436565742937871,3.722946221516027,4.009326700094183,4.295707178672339,5.727609571563119,11.455219143126238],\"y\":[4.952972172525007,4.952972146461557,4.952971601907248,4.952972173251529,4.95297220837962,4.952972178325644,4.952972211462864,4.952972041693632,4.952972182547796,4.952972173247925,4.952972171295373]},{\"line\":{\"color\":\"rgba(255, 255, 51, 1.0)\",\"dash\":\"solid\",\"shape\":\"linear\",\"width\":1.3},\"mode\":\"lines\",\"name\":\"Black beans, NFS\",\"text\":\"\",\"type\":\"scatter\",\"x\":[1.4319023928907797,2.1478535893361697,2.5774243072034033,2.8638047857815594,3.1501852643597155,3.436565742937871,3.722946221516027,4.009326700094183,4.295707178672339,5.727609571563119,11.455219143126238],\"y\":[0.07578005567151833,0.07578006175661921,0.07578036040804088,0.07578005559507568,0.07578006161937442,0.07578007087028396,0.07578012227470031,0.07578007597966745,0.07578006217586693,0.07578005578072305,0.07578005633834589]},{\"line\":{\"color\":\"rgba(128, 128, 0, 1.0)\",\"dash\":\"solid\",\"shape\":\"linear\",\"width\":1.3},\"mode\":\"lines\",\"name\":\"Lentils, NFS\",\"text\":\"\",\"type\":\"scatter\",\"x\":[1.4319023928907797,2.1478535893361697,2.5774243072034033,2.8638047857815594,3.1501852643597155,3.436565742937871,3.722946221516027,4.009326700094183,4.295707178672339,5.727609571563119,11.455219143126238],\"y\":[0.5145584493186273,0.5145584420865766,0.5145576465420155,0.5145584492424982,0.514558417451308,0.5145583936745712,0.5145582354426074,0.5145584255163471,0.5145584238118912,0.5145584486653365,0.5145584479794162]},{\"line\":{\"color\":\"rgba(251, 128, 114, 1.0)\",\"dash\":\"solid\",\"shape\":\"linear\",\"width\":1.3},\"mode\":\"lines\",\"name\":\"Peppers, bell, green, raw\",\"text\":\"\",\"type\":\"scatter\",\"x\":[1.4319023928907797,2.1478535893361697,2.5774243072034033,2.8638047857815594,3.1501852643597155,3.436565742937871,3.722946221516027,4.009326700094183,4.295707178672339,5.727609571563119,11.455219143126238],\"y\":[0.3929772714276799,0.3929772617158451,0.3929767550673014,0.3929772714410466,0.3929772594149251,0.3929772354883425,0.3929772106206829,0.3929772472702918,0.3929772622049155,0.3929772713791537,0.39297727074173433]},{\"line\":{\"color\":\"rgba(128, 177, 211, 1.0)\",\"dash\":\"solid\",\"shape\":\"linear\",\"width\":1.3},\"mode\":\"lines\",\"name\":\"Nutritional Yeast\",\"text\":\"\",\"type\":\"scatter\",\"x\":[1.4319023928907797,2.1478535893361697,2.5774243072034033,2.8638047857815594,3.1501852643597155,3.436565742937871,3.722946221516027,4.009326700094183,4.295707178672339,5.727609571563119,11.455219143126238],\"y\":[0.003927666900619481,0.003927666881461602,0.00392766532441412,0.00392766690063473,0.003927666861181078,0.003927666798908176,0.003927666429226374,0.0039276669091130485,0.003927666853865912,0.003927666899050158,0.003927666898052987]}],                        {\"legend\":{\"bgcolor\":\"#F5F6F9\",\"font\":{\"color\":\"#4D5663\"}},\"paper_bgcolor\":\"#F5F6F9\",\"plot_bgcolor\":\"#F5F6F9\",\"template\":{\"data\":{\"bar\":[{\"error_x\":{\"color\":\"#2a3f5f\"},\"error_y\":{\"color\":\"#2a3f5f\"},\"marker\":{\"line\":{\"color\":\"#E5ECF6\",\"width\":0.5},\"pattern\":{\"fillmode\":\"overlay\",\"size\":10,\"solidity\":0.2}},\"type\":\"bar\"}],\"barpolar\":[{\"marker\":{\"line\":{\"color\":\"#E5ECF6\",\"width\":0.5},\"pattern\":{\"fillmode\":\"overlay\",\"size\":10,\"solidity\":0.2}},\"type\":\"barpolar\"}],\"carpet\":[{\"aaxis\":{\"endlinecolor\":\"#2a3f5f\",\"gridcolor\":\"white\",\"linecolor\":\"white\",\"minorgridcolor\":\"white\",\"startlinecolor\":\"#2a3f5f\"},\"baxis\":{\"endlinecolor\":\"#2a3f5f\",\"gridcolor\":\"white\",\"linecolor\":\"white\",\"minorgridcolor\":\"white\",\"startlinecolor\":\"#2a3f5f\"},\"type\":\"carpet\"}],\"choropleth\":[{\"colorbar\":{\"outlinewidth\":0,\"ticks\":\"\"},\"type\":\"choropleth\"}],\"contour\":[{\"colorbar\":{\"outlinewidth\":0,\"ticks\":\"\"},\"colorscale\":[[0.0,\"#0d0887\"],[0.1111111111111111,\"#46039f\"],[0.2222222222222222,\"#7201a8\"],[0.3333333333333333,\"#9c179e\"],[0.4444444444444444,\"#bd3786\"],[0.5555555555555556,\"#d8576b\"],[0.6666666666666666,\"#ed7953\"],[0.7777777777777778,\"#fb9f3a\"],[0.8888888888888888,\"#fdca26\"],[1.0,\"#f0f921\"]],\"type\":\"contour\"}],\"contourcarpet\":[{\"colorbar\":{\"outlinewidth\":0,\"ticks\":\"\"},\"type\":\"contourcarpet\"}],\"heatmap\":[{\"colorbar\":{\"outlinewidth\":0,\"ticks\":\"\"},\"colorscale\":[[0.0,\"#0d0887\"],[0.1111111111111111,\"#46039f\"],[0.2222222222222222,\"#7201a8\"],[0.3333333333333333,\"#9c179e\"],[0.4444444444444444,\"#bd3786\"],[0.5555555555555556,\"#d8576b\"],[0.6666666666666666,\"#ed7953\"],[0.7777777777777778,\"#fb9f3a\"],[0.8888888888888888,\"#fdca26\"],[1.0,\"#f0f921\"]],\"type\":\"heatmap\"}],\"heatmapgl\":[{\"colorbar\":{\"outlinewidth\":0,\"ticks\":\"\"},\"colorscale\":[[0.0,\"#0d0887\"],[0.1111111111111111,\"#46039f\"],[0.2222222222222222,\"#7201a8\"],[0.3333333333333333,\"#9c179e\"],[0.4444444444444444,\"#bd3786\"],[0.5555555555555556,\"#d8576b\"],[0.6666666666666666,\"#ed7953\"],[0.7777777777777778,\"#fb9f3a\"],[0.8888888888888888,\"#fdca26\"],[1.0,\"#f0f921\"]],\"type\":\"heatmapgl\"}],\"histogram\":[{\"marker\":{\"pattern\":{\"fillmode\":\"overlay\",\"size\":10,\"solidity\":0.2}},\"type\":\"histogram\"}],\"histogram2d\":[{\"colorbar\":{\"outlinewidth\":0,\"ticks\":\"\"},\"colorscale\":[[0.0,\"#0d0887\"],[0.1111111111111111,\"#46039f\"],[0.2222222222222222,\"#7201a8\"],[0.3333333333333333,\"#9c179e\"],[0.4444444444444444,\"#bd3786\"],[0.5555555555555556,\"#d8576b\"],[0.6666666666666666,\"#ed7953\"],[0.7777777777777778,\"#fb9f3a\"],[0.8888888888888888,\"#fdca26\"],[1.0,\"#f0f921\"]],\"type\":\"histogram2d\"}],\"histogram2dcontour\":[{\"colorbar\":{\"outlinewidth\":0,\"ticks\":\"\"},\"colorscale\":[[0.0,\"#0d0887\"],[0.1111111111111111,\"#46039f\"],[0.2222222222222222,\"#7201a8\"],[0.3333333333333333,\"#9c179e\"],[0.4444444444444444,\"#bd3786\"],[0.5555555555555556,\"#d8576b\"],[0.6666666666666666,\"#ed7953\"],[0.7777777777777778,\"#fb9f3a\"],[0.8888888888888888,\"#fdca26\"],[1.0,\"#f0f921\"]],\"type\":\"histogram2dcontour\"}],\"mesh3d\":[{\"colorbar\":{\"outlinewidth\":0,\"ticks\":\"\"},\"type\":\"mesh3d\"}],\"parcoords\":[{\"line\":{\"colorbar\":{\"outlinewidth\":0,\"ticks\":\"\"}},\"type\":\"parcoords\"}],\"pie\":[{\"automargin\":true,\"type\":\"pie\"}],\"scatter\":[{\"marker\":{\"colorbar\":{\"outlinewidth\":0,\"ticks\":\"\"}},\"type\":\"scatter\"}],\"scatter3d\":[{\"line\":{\"colorbar\":{\"outlinewidth\":0,\"ticks\":\"\"}},\"marker\":{\"colorbar\":{\"outlinewidth\":0,\"ticks\":\"\"}},\"type\":\"scatter3d\"}],\"scattercarpet\":[{\"marker\":{\"colorbar\":{\"outlinewidth\":0,\"ticks\":\"\"}},\"type\":\"scattercarpet\"}],\"scattergeo\":[{\"marker\":{\"colorbar\":{\"outlinewidth\":0,\"ticks\":\"\"}},\"type\":\"scattergeo\"}],\"scattergl\":[{\"marker\":{\"colorbar\":{\"outlinewidth\":0,\"ticks\":\"\"}},\"type\":\"scattergl\"}],\"scattermapbox\":[{\"marker\":{\"colorbar\":{\"outlinewidth\":0,\"ticks\":\"\"}},\"type\":\"scattermapbox\"}],\"scatterpolar\":[{\"marker\":{\"colorbar\":{\"outlinewidth\":0,\"ticks\":\"\"}},\"type\":\"scatterpolar\"}],\"scatterpolargl\":[{\"marker\":{\"colorbar\":{\"outlinewidth\":0,\"ticks\":\"\"}},\"type\":\"scatterpolargl\"}],\"scatterternary\":[{\"marker\":{\"colorbar\":{\"outlinewidth\":0,\"ticks\":\"\"}},\"type\":\"scatterternary\"}],\"surface\":[{\"colorbar\":{\"outlinewidth\":0,\"ticks\":\"\"},\"colorscale\":[[0.0,\"#0d0887\"],[0.1111111111111111,\"#46039f\"],[0.2222222222222222,\"#7201a8\"],[0.3333333333333333,\"#9c179e\"],[0.4444444444444444,\"#bd3786\"],[0.5555555555555556,\"#d8576b\"],[0.6666666666666666,\"#ed7953\"],[0.7777777777777778,\"#fb9f3a\"],[0.8888888888888888,\"#fdca26\"],[1.0,\"#f0f921\"]],\"type\":\"surface\"}],\"table\":[{\"cells\":{\"fill\":{\"color\":\"#EBF0F8\"},\"line\":{\"color\":\"white\"}},\"header\":{\"fill\":{\"color\":\"#C8D4E3\"},\"line\":{\"color\":\"white\"}},\"type\":\"table\"}]},\"layout\":{\"annotationdefaults\":{\"arrowcolor\":\"#2a3f5f\",\"arrowhead\":0,\"arrowwidth\":1},\"autotypenumbers\":\"strict\",\"coloraxis\":{\"colorbar\":{\"outlinewidth\":0,\"ticks\":\"\"}},\"colorscale\":{\"diverging\":[[0,\"#8e0152\"],[0.1,\"#c51b7d\"],[0.2,\"#de77ae\"],[0.3,\"#f1b6da\"],[0.4,\"#fde0ef\"],[0.5,\"#f7f7f7\"],[0.6,\"#e6f5d0\"],[0.7,\"#b8e186\"],[0.8,\"#7fbc41\"],[0.9,\"#4d9221\"],[1,\"#276419\"]],\"sequential\":[[0.0,\"#0d0887\"],[0.1111111111111111,\"#46039f\"],[0.2222222222222222,\"#7201a8\"],[0.3333333333333333,\"#9c179e\"],[0.4444444444444444,\"#bd3786\"],[0.5555555555555556,\"#d8576b\"],[0.6666666666666666,\"#ed7953\"],[0.7777777777777778,\"#fb9f3a\"],[0.8888888888888888,\"#fdca26\"],[1.0,\"#f0f921\"]],\"sequentialminus\":[[0.0,\"#0d0887\"],[0.1111111111111111,\"#46039f\"],[0.2222222222222222,\"#7201a8\"],[0.3333333333333333,\"#9c179e\"],[0.4444444444444444,\"#bd3786\"],[0.5555555555555556,\"#d8576b\"],[0.6666666666666666,\"#ed7953\"],[0.7777777777777778,\"#fb9f3a\"],[0.8888888888888888,\"#fdca26\"],[1.0,\"#f0f921\"]]},\"colorway\":[\"#636efa\",\"#EF553B\",\"#00cc96\",\"#ab63fa\",\"#FFA15A\",\"#19d3f3\",\"#FF6692\",\"#B6E880\",\"#FF97FF\",\"#FECB52\"],\"font\":{\"color\":\"#2a3f5f\"},\"geo\":{\"bgcolor\":\"white\",\"lakecolor\":\"white\",\"landcolor\":\"#E5ECF6\",\"showlakes\":true,\"showland\":true,\"subunitcolor\":\"white\"},\"hoverlabel\":{\"align\":\"left\"},\"hovermode\":\"closest\",\"mapbox\":{\"style\":\"light\"},\"paper_bgcolor\":\"white\",\"plot_bgcolor\":\"#E5ECF6\",\"polar\":{\"angularaxis\":{\"gridcolor\":\"white\",\"linecolor\":\"white\",\"ticks\":\"\"},\"bgcolor\":\"#E5ECF6\",\"radialaxis\":{\"gridcolor\":\"white\",\"linecolor\":\"white\",\"ticks\":\"\"}},\"scene\":{\"xaxis\":{\"backgroundcolor\":\"#E5ECF6\",\"gridcolor\":\"white\",\"gridwidth\":2,\"linecolor\":\"white\",\"showbackground\":true,\"ticks\":\"\",\"zerolinecolor\":\"white\"},\"yaxis\":{\"backgroundcolor\":\"#E5ECF6\",\"gridcolor\":\"white\",\"gridwidth\":2,\"linecolor\":\"white\",\"showbackground\":true,\"ticks\":\"\",\"zerolinecolor\":\"white\"},\"zaxis\":{\"backgroundcolor\":\"#E5ECF6\",\"gridcolor\":\"white\",\"gridwidth\":2,\"linecolor\":\"white\",\"showbackground\":true,\"ticks\":\"\",\"zerolinecolor\":\"white\"}},\"shapedefaults\":{\"line\":{\"color\":\"#2a3f5f\"}},\"ternary\":{\"aaxis\":{\"gridcolor\":\"white\",\"linecolor\":\"white\",\"ticks\":\"\"},\"baxis\":{\"gridcolor\":\"white\",\"linecolor\":\"white\",\"ticks\":\"\"},\"bgcolor\":\"#E5ECF6\",\"caxis\":{\"gridcolor\":\"white\",\"linecolor\":\"white\",\"ticks\":\"\"}},\"title\":{\"x\":0.05},\"xaxis\":{\"automargin\":true,\"gridcolor\":\"white\",\"linecolor\":\"white\",\"ticks\":\"\",\"title\":{\"standoff\":15},\"zerolinecolor\":\"white\",\"zerolinewidth\":2},\"yaxis\":{\"automargin\":true,\"gridcolor\":\"white\",\"linecolor\":\"white\",\"ticks\":\"\",\"title\":{\"standoff\":15},\"zerolinecolor\":\"white\",\"zerolinewidth\":2}}},\"title\":{\"font\":{\"color\":\"#4D5663\"},\"text\":\"Beef Pricing Change Effect on Hectograms Other Nutrients (USDA)\"},\"xaxis\":{\"gridcolor\":\"#E1E5ED\",\"showgrid\":true,\"tickfont\":{\"color\":\"#4D5663\"},\"title\":{\"font\":{\"color\":\"#4D5663\"},\"text\":\"Beef Price\"},\"zerolinecolor\":\"#E1E5ED\"},\"yaxis\":{\"gridcolor\":\"#E1E5ED\",\"showgrid\":true,\"tickfont\":{\"color\":\"#4D5663\"},\"title\":{\"font\":{\"color\":\"#4D5663\"},\"text\":\"Hectograms\"},\"zerolinecolor\":\"#E1E5ED\"}},                        {\"showLink\": true, \"linkText\": \"Export to plot.ly\", \"plotlyServerURL\": \"https://plot.ly\", \"responsive\": true}                    ).then(function(){\n",
       "                            \n",
       "var gd = document.getElementById('8d27454b-33d0-4973-9c21-34fa9351705a');\n",
       "var x = new MutationObserver(function (mutations, observer) {{\n",
       "        var display = window.getComputedStyle(gd).display;\n",
       "        if (!display || display === 'none') {{\n",
       "            console.log([gd, 'removed!']);\n",
       "            Plotly.purge(gd);\n",
       "            observer.disconnect();\n",
       "        }}\n",
       "}});\n",
       "\n",
       "// Listen for the removal of the full notebook cells\n",
       "var notebookContainer = gd.closest('#notebook-container');\n",
       "if (notebookContainer) {{\n",
       "    x.observe(notebookContainer, {childList: true});\n",
       "}}\n",
       "\n",
       "// Listen for the clearing of the current output cell\n",
       "var outputEl = gd.closest('.output');\n",
       "if (outputEl) {{\n",
       "    x.observe(outputEl, {childList: true});\n",
       "}}\n",
       "\n",
       "                        })                };                });            </script>        </div>"
      ]
     },
     "metadata": {},
     "output_type": "display_data"
    }
   ],
   "source": [
    "Beef_USDA_response = getEffectsofPriceChangeGraph(\"usda\", \"Beef\")"
   ]
  },
  {
   "cell_type": "code",
   "execution_count": 124,
   "id": "2b228bbb",
   "metadata": {},
   "outputs": [
    {
     "data": {
      "text/html": [
       "        <script type=\"text/javascript\">\n",
       "        window.PlotlyConfig = {MathJaxConfig: 'local'};\n",
       "        if (window.MathJax) {MathJax.Hub.Config({SVG: {font: \"STIX-Web\"}});}\n",
       "        if (typeof require !== 'undefined') {\n",
       "        require.undef(\"plotly\");\n",
       "        requirejs.config({\n",
       "            paths: {\n",
       "                'plotly': ['https://cdn.plot.ly/plotly-2.3.1.min']\n",
       "            }\n",
       "        });\n",
       "        require(['plotly'], function(Plotly) {\n",
       "            window._Plotly = Plotly;\n",
       "        });\n",
       "        }\n",
       "        </script>\n",
       "        "
      ]
     },
     "metadata": {},
     "output_type": "display_data"
    },
    {
     "data": {
      "application/vnd.plotly.v1+json": {
       "config": {
        "linkText": "Export to plot.ly",
        "plotlyServerURL": "https://plot.ly",
        "showLink": true
       },
       "data": [
        {
         "line": {
          "color": "rgba(255, 153, 51, 1.0)",
          "dash": "solid",
          "shape": "linear",
          "width": 1.3
         },
         "mode": "lines",
         "name": "Russet Potato",
         "text": "",
         "type": "scatter",
         "x": [
          0.16424438532773378,
          0.24636657799160067,
          0.2956398935899208,
          0.32848877065546755,
          0.36133764772101434,
          0.3941865247865611,
          0.4270354018521078,
          0.45988427891765454,
          0.49273315598320133,
          0.6569775413109351,
          1.3139550826218702
         ],
         "y": [
          5.8020842052017045e-11,
          1.730484675872085,
          1.7304853242220941,
          1.73048531755655,
          1.7304853191445768,
          1.7304853209926458,
          1.7304856157052968,
          1.7304853228407524,
          1.7304853197876362,
          1.7304853215050773,
          1.7304853234450932
         ]
        },
        {
         "line": {
          "color": "rgba(55, 128, 191, 1.0)",
          "dash": "solid",
          "shape": "linear",
          "width": 1.3
         },
         "mode": "lines",
         "name": "Peanut butter, creamy",
         "text": "",
         "type": "scatter",
         "x": [
          0.16424438532773378,
          0.24636657799160067,
          0.2956398935899208,
          0.32848877065546755,
          0.36133764772101434,
          0.3941865247865611,
          0.4270354018521078,
          0.45988427891765454,
          0.49273315598320133,
          0.6569775413109351,
          1.3139550826218702
         ],
         "y": [
          2.0980706855138407,
          2.5416070273995417,
          2.5416071538042857,
          2.5416071611649165,
          2.541607163593311,
          2.541607165801657,
          2.541606449315807,
          2.541607166976109,
          2.5416071630517414,
          2.5416071611288973,
          2.5416071676571343
         ]
        },
        {
         "line": {
          "color": "rgba(50, 171, 96, 1.0)",
          "dash": "solid",
          "shape": "linear",
          "width": 1.3
         },
         "mode": "lines",
         "name": "Carrots",
         "text": "",
         "type": "scatter",
         "x": [
          0.16424438532773378,
          0.24636657799160067,
          0.2956398935899208,
          0.32848877065546755,
          0.36133764772101434,
          0.3941865247865611,
          0.4270354018521078,
          0.45988427891765454,
          0.49273315598320133,
          0.6569775413109351,
          1.3139550826218702
         ],
         "y": [
          8.307473163134606,
          2.2892893435886448e-07,
          1.9791278501472246e-09,
          3.095533934735731e-10,
          2.072677559212604e-10,
          8.857499805833855e-11,
          5.9465725231555706e-08,
          2.691317513056004e-11,
          1.0674874289468224e-10,
          8.25411748152407e-11,
          7.898915140979647e-13
         ]
        },
        {
         "line": {
          "color": "rgba(128, 0, 128, 1.0)",
          "dash": "solid",
          "shape": "linear",
          "width": 1.3
         },
         "mode": "lines",
         "name": "White bread",
         "text": "",
         "type": "scatter",
         "x": [
          0.16424438532773378,
          0.24636657799160067,
          0.2956398935899208,
          0.32848877065546755,
          0.36133764772101434,
          0.3941865247865611,
          0.4270354018521078,
          0.45988427891765454,
          0.49273315598320133,
          0.6569775413109351,
          1.3139550826218702
         ],
         "y": [
          2.0639758394448986,
          1.038012337448002,
          1.0380122865144883,
          1.0380122865554644,
          1.0380122865919883,
          1.0380122866447343,
          1.038012294419152,
          1.0380122864966022,
          1.0380122864541477,
          1.038012286211326,
          1.038012286475282
         ]
        },
        {
         "line": {
          "color": "rgba(219, 64, 82, 1.0)",
          "dash": "solid",
          "shape": "linear",
          "width": 1.3
         },
         "mode": "lines",
         "name": "Collards, raw",
         "text": "",
         "type": "scatter",
         "x": [
          0.16424438532773378,
          0.24636657799160067,
          0.2956398935899208,
          0.32848877065546755,
          0.36133764772101434,
          0.3941865247865611,
          0.4270354018521078,
          0.45988427891765454,
          0.49273315598320133,
          0.6569775413109351,
          1.3139550826218702
         ],
         "y": [
          0.19532556895685768,
          0.11543280816810143,
          0.11543282782689071,
          0.11543282886512651,
          0.11543282933805958,
          0.11543282977432827,
          0.11543272448594438,
          0.11543283000853659,
          0.11543282923538767,
          0.11543282891785712,
          0.11543283014277823
         ]
        },
        {
         "line": {
          "color": "rgba(0, 128, 128, 1.0)",
          "dash": "solid",
          "shape": "linear",
          "width": 1.3
         },
         "mode": "lines",
         "name": "Carrots, raw",
         "text": "",
         "type": "scatter",
         "x": [
          0.16424438532773378,
          0.24636657799160067,
          0.2956398935899208,
          0.32848877065546755,
          0.36133764772101434,
          0.3941865247865611,
          0.4270354018521078,
          0.45988427891765454,
          0.49273315598320133,
          0.6569775413109351,
          1.3139550826218702
         ],
         "y": [
          0.9990180203195163,
          1.025215273687755,
          1.0252150344109396,
          1.0252150299447036,
          1.0252150271779346,
          1.0252150250401446,
          1.0252176479086959,
          1.025215024321687,
          1.0252150306843535,
          1.0252150364271237,
          1.0252150232178923
         ]
        },
        {
         "line": {
          "color": "rgba(255, 255, 51, 1.0)",
          "dash": "solid",
          "shape": "linear",
          "width": 1.3
         },
         "mode": "lines",
         "name": "Avocado, raw",
         "text": "",
         "type": "scatter",
         "x": [
          0.16424438532773378,
          0.24636657799160067,
          0.2956398935899208,
          0.32848877065546755,
          0.36133764772101434,
          0.3941865247865611,
          0.4270354018521078,
          0.45988427891765454,
          0.49273315598320133,
          0.6569775413109351,
          1.3139550826218702
         ],
         "y": [
          0.2649083090386703,
          2.1388309866169535,
          2.138830829693813,
          2.138830817090555,
          2.1388308093676556,
          2.1388308026242147,
          2.1388310289983377,
          2.138830798552472,
          2.1388308092989554,
          2.138830812567484,
          2.1388307967885094
         ]
        },
        {
         "line": {
          "color": "rgba(128, 128, 0, 1.0)",
          "dash": "solid",
          "shape": "linear",
          "width": 1.3
         },
         "mode": "lines",
         "name": "Lentils, NFS",
         "text": "",
         "type": "scatter",
         "x": [
          0.16424438532773378,
          0.24636657799160067,
          0.2956398935899208,
          0.32848877065546755,
          0.36133764772101434,
          0.3941865247865611,
          0.4270354018521078,
          0.45988427891765454,
          0.49273315598320133,
          0.6569775413109351,
          1.3139550826218702
         ],
         "y": [
          6.589977803330449e-10,
          0.8325017565371097,
          0.8325019069954989,
          0.8325019227843508,
          0.8325019277262582,
          0.8325019307866323,
          0.8325002251189194,
          0.8325019320140445,
          0.8325019260072413,
          0.8325019216966658,
          0.8325019329583432
         ]
        },
        {
         "line": {
          "color": "rgba(251, 128, 114, 1.0)",
          "dash": "solid",
          "shape": "linear",
          "width": 1.3
         },
         "mode": "lines",
         "name": "Oranges, raw, navels",
         "text": "",
         "type": "scatter",
         "x": [
          0.16424438532773378,
          0.24636657799160067,
          0.2956398935899208,
          0.32848877065546755,
          0.36133764772101434,
          0.3941865247865611,
          0.4270354018521078,
          0.45988427891765454,
          0.49273315598320133,
          0.6569775413109351,
          1.3139550826218702
         ],
         "y": [
          1.2616195795801555,
          0.8227471478227174,
          0.8227474922598113,
          0.8227475077310337,
          0.8227475109890234,
          0.822747513396607,
          0.8227464873074054,
          0.8227475144063592,
          0.8227475106174515,
          0.822747509211282,
          0.8227475151206951
         ]
        },
        {
         "line": {
          "color": "rgba(128, 177, 211, 1.0)",
          "dash": "solid",
          "shape": "linear",
          "width": 1.3
         },
         "mode": "lines",
         "name": "Almond milk, unsweetened, plain, refrigerated",
         "text": "",
         "type": "scatter",
         "x": [
          0.16424438532773378,
          0.24636657799160067,
          0.2956398935899208,
          0.32848877065546755,
          0.36133764772101434,
          0.3941865247865611,
          0.4270354018521078,
          0.45988427891765454,
          0.49273315598320133,
          0.6569775413109351,
          1.3139550826218702
         ],
         "y": [
          0.3643628540964666,
          5.374055076399431e-08,
          3.5933287108284833e-09,
          1.0983588510599852e-09,
          6.106826434182577e-10,
          2.870544573812951e-10,
          2.738722868551908e-07,
          1.3726949368549566e-10,
          7.71753949044664e-10,
          1.0985064123850646e-09,
          2.5521444651283505e-11
         ]
        },
        {
         "line": {
          "color": "rgba(128, 177, 211, 0.8999999999999999)",
          "dash": "solid",
          "shape": "linear",
          "width": 1.3
         },
         "mode": "lines",
         "name": "Nutritional Yeast",
         "text": "",
         "type": "scatter",
         "x": [
          0.16424438532773378,
          0.24636657799160067,
          0.2956398935899208,
          0.32848877065546755,
          0.36133764772101434,
          0.3941865247865611,
          0.4270354018521078,
          0.45988427891765454,
          0.49273315598320133,
          0.6569775413109351,
          1.3139550826218702
         ],
         "y": [
          0.015174110880639727,
          0.016000000787555518,
          0.01600000004757052,
          0.016000000017036706,
          0.016000000014581923,
          0.016000000007313147,
          0.01600000281605122,
          0.016000000001657896,
          0.01600000000709979,
          0.01600000000688234,
          0.016000000000086775
         ]
        }
       ],
       "layout": {
        "legend": {
         "bgcolor": "#F5F6F9",
         "font": {
          "color": "#4D5663"
         }
        },
        "paper_bgcolor": "#F5F6F9",
        "plot_bgcolor": "#F5F6F9",
        "template": {
         "data": {
          "bar": [
           {
            "error_x": {
             "color": "#2a3f5f"
            },
            "error_y": {
             "color": "#2a3f5f"
            },
            "marker": {
             "line": {
              "color": "#E5ECF6",
              "width": 0.5
             },
             "pattern": {
              "fillmode": "overlay",
              "size": 10,
              "solidity": 0.2
             }
            },
            "type": "bar"
           }
          ],
          "barpolar": [
           {
            "marker": {
             "line": {
              "color": "#E5ECF6",
              "width": 0.5
             },
             "pattern": {
              "fillmode": "overlay",
              "size": 10,
              "solidity": 0.2
             }
            },
            "type": "barpolar"
           }
          ],
          "carpet": [
           {
            "aaxis": {
             "endlinecolor": "#2a3f5f",
             "gridcolor": "white",
             "linecolor": "white",
             "minorgridcolor": "white",
             "startlinecolor": "#2a3f5f"
            },
            "baxis": {
             "endlinecolor": "#2a3f5f",
             "gridcolor": "white",
             "linecolor": "white",
             "minorgridcolor": "white",
             "startlinecolor": "#2a3f5f"
            },
            "type": "carpet"
           }
          ],
          "choropleth": [
           {
            "colorbar": {
             "outlinewidth": 0,
             "ticks": ""
            },
            "type": "choropleth"
           }
          ],
          "contour": [
           {
            "colorbar": {
             "outlinewidth": 0,
             "ticks": ""
            },
            "colorscale": [
             [
              0,
              "#0d0887"
             ],
             [
              0.1111111111111111,
              "#46039f"
             ],
             [
              0.2222222222222222,
              "#7201a8"
             ],
             [
              0.3333333333333333,
              "#9c179e"
             ],
             [
              0.4444444444444444,
              "#bd3786"
             ],
             [
              0.5555555555555556,
              "#d8576b"
             ],
             [
              0.6666666666666666,
              "#ed7953"
             ],
             [
              0.7777777777777778,
              "#fb9f3a"
             ],
             [
              0.8888888888888888,
              "#fdca26"
             ],
             [
              1,
              "#f0f921"
             ]
            ],
            "type": "contour"
           }
          ],
          "contourcarpet": [
           {
            "colorbar": {
             "outlinewidth": 0,
             "ticks": ""
            },
            "type": "contourcarpet"
           }
          ],
          "heatmap": [
           {
            "colorbar": {
             "outlinewidth": 0,
             "ticks": ""
            },
            "colorscale": [
             [
              0,
              "#0d0887"
             ],
             [
              0.1111111111111111,
              "#46039f"
             ],
             [
              0.2222222222222222,
              "#7201a8"
             ],
             [
              0.3333333333333333,
              "#9c179e"
             ],
             [
              0.4444444444444444,
              "#bd3786"
             ],
             [
              0.5555555555555556,
              "#d8576b"
             ],
             [
              0.6666666666666666,
              "#ed7953"
             ],
             [
              0.7777777777777778,
              "#fb9f3a"
             ],
             [
              0.8888888888888888,
              "#fdca26"
             ],
             [
              1,
              "#f0f921"
             ]
            ],
            "type": "heatmap"
           }
          ],
          "heatmapgl": [
           {
            "colorbar": {
             "outlinewidth": 0,
             "ticks": ""
            },
            "colorscale": [
             [
              0,
              "#0d0887"
             ],
             [
              0.1111111111111111,
              "#46039f"
             ],
             [
              0.2222222222222222,
              "#7201a8"
             ],
             [
              0.3333333333333333,
              "#9c179e"
             ],
             [
              0.4444444444444444,
              "#bd3786"
             ],
             [
              0.5555555555555556,
              "#d8576b"
             ],
             [
              0.6666666666666666,
              "#ed7953"
             ],
             [
              0.7777777777777778,
              "#fb9f3a"
             ],
             [
              0.8888888888888888,
              "#fdca26"
             ],
             [
              1,
              "#f0f921"
             ]
            ],
            "type": "heatmapgl"
           }
          ],
          "histogram": [
           {
            "marker": {
             "pattern": {
              "fillmode": "overlay",
              "size": 10,
              "solidity": 0.2
             }
            },
            "type": "histogram"
           }
          ],
          "histogram2d": [
           {
            "colorbar": {
             "outlinewidth": 0,
             "ticks": ""
            },
            "colorscale": [
             [
              0,
              "#0d0887"
             ],
             [
              0.1111111111111111,
              "#46039f"
             ],
             [
              0.2222222222222222,
              "#7201a8"
             ],
             [
              0.3333333333333333,
              "#9c179e"
             ],
             [
              0.4444444444444444,
              "#bd3786"
             ],
             [
              0.5555555555555556,
              "#d8576b"
             ],
             [
              0.6666666666666666,
              "#ed7953"
             ],
             [
              0.7777777777777778,
              "#fb9f3a"
             ],
             [
              0.8888888888888888,
              "#fdca26"
             ],
             [
              1,
              "#f0f921"
             ]
            ],
            "type": "histogram2d"
           }
          ],
          "histogram2dcontour": [
           {
            "colorbar": {
             "outlinewidth": 0,
             "ticks": ""
            },
            "colorscale": [
             [
              0,
              "#0d0887"
             ],
             [
              0.1111111111111111,
              "#46039f"
             ],
             [
              0.2222222222222222,
              "#7201a8"
             ],
             [
              0.3333333333333333,
              "#9c179e"
             ],
             [
              0.4444444444444444,
              "#bd3786"
             ],
             [
              0.5555555555555556,
              "#d8576b"
             ],
             [
              0.6666666666666666,
              "#ed7953"
             ],
             [
              0.7777777777777778,
              "#fb9f3a"
             ],
             [
              0.8888888888888888,
              "#fdca26"
             ],
             [
              1,
              "#f0f921"
             ]
            ],
            "type": "histogram2dcontour"
           }
          ],
          "mesh3d": [
           {
            "colorbar": {
             "outlinewidth": 0,
             "ticks": ""
            },
            "type": "mesh3d"
           }
          ],
          "parcoords": [
           {
            "line": {
             "colorbar": {
              "outlinewidth": 0,
              "ticks": ""
             }
            },
            "type": "parcoords"
           }
          ],
          "pie": [
           {
            "automargin": true,
            "type": "pie"
           }
          ],
          "scatter": [
           {
            "marker": {
             "colorbar": {
              "outlinewidth": 0,
              "ticks": ""
             }
            },
            "type": "scatter"
           }
          ],
          "scatter3d": [
           {
            "line": {
             "colorbar": {
              "outlinewidth": 0,
              "ticks": ""
             }
            },
            "marker": {
             "colorbar": {
              "outlinewidth": 0,
              "ticks": ""
             }
            },
            "type": "scatter3d"
           }
          ],
          "scattercarpet": [
           {
            "marker": {
             "colorbar": {
              "outlinewidth": 0,
              "ticks": ""
             }
            },
            "type": "scattercarpet"
           }
          ],
          "scattergeo": [
           {
            "marker": {
             "colorbar": {
              "outlinewidth": 0,
              "ticks": ""
             }
            },
            "type": "scattergeo"
           }
          ],
          "scattergl": [
           {
            "marker": {
             "colorbar": {
              "outlinewidth": 0,
              "ticks": ""
             }
            },
            "type": "scattergl"
           }
          ],
          "scattermapbox": [
           {
            "marker": {
             "colorbar": {
              "outlinewidth": 0,
              "ticks": ""
             }
            },
            "type": "scattermapbox"
           }
          ],
          "scatterpolar": [
           {
            "marker": {
             "colorbar": {
              "outlinewidth": 0,
              "ticks": ""
             }
            },
            "type": "scatterpolar"
           }
          ],
          "scatterpolargl": [
           {
            "marker": {
             "colorbar": {
              "outlinewidth": 0,
              "ticks": ""
             }
            },
            "type": "scatterpolargl"
           }
          ],
          "scatterternary": [
           {
            "marker": {
             "colorbar": {
              "outlinewidth": 0,
              "ticks": ""
             }
            },
            "type": "scatterternary"
           }
          ],
          "surface": [
           {
            "colorbar": {
             "outlinewidth": 0,
             "ticks": ""
            },
            "colorscale": [
             [
              0,
              "#0d0887"
             ],
             [
              0.1111111111111111,
              "#46039f"
             ],
             [
              0.2222222222222222,
              "#7201a8"
             ],
             [
              0.3333333333333333,
              "#9c179e"
             ],
             [
              0.4444444444444444,
              "#bd3786"
             ],
             [
              0.5555555555555556,
              "#d8576b"
             ],
             [
              0.6666666666666666,
              "#ed7953"
             ],
             [
              0.7777777777777778,
              "#fb9f3a"
             ],
             [
              0.8888888888888888,
              "#fdca26"
             ],
             [
              1,
              "#f0f921"
             ]
            ],
            "type": "surface"
           }
          ],
          "table": [
           {
            "cells": {
             "fill": {
              "color": "#EBF0F8"
             },
             "line": {
              "color": "white"
             }
            },
            "header": {
             "fill": {
              "color": "#C8D4E3"
             },
             "line": {
              "color": "white"
             }
            },
            "type": "table"
           }
          ]
         },
         "layout": {
          "annotationdefaults": {
           "arrowcolor": "#2a3f5f",
           "arrowhead": 0,
           "arrowwidth": 1
          },
          "autotypenumbers": "strict",
          "coloraxis": {
           "colorbar": {
            "outlinewidth": 0,
            "ticks": ""
           }
          },
          "colorscale": {
           "diverging": [
            [
             0,
             "#8e0152"
            ],
            [
             0.1,
             "#c51b7d"
            ],
            [
             0.2,
             "#de77ae"
            ],
            [
             0.3,
             "#f1b6da"
            ],
            [
             0.4,
             "#fde0ef"
            ],
            [
             0.5,
             "#f7f7f7"
            ],
            [
             0.6,
             "#e6f5d0"
            ],
            [
             0.7,
             "#b8e186"
            ],
            [
             0.8,
             "#7fbc41"
            ],
            [
             0.9,
             "#4d9221"
            ],
            [
             1,
             "#276419"
            ]
           ],
           "sequential": [
            [
             0,
             "#0d0887"
            ],
            [
             0.1111111111111111,
             "#46039f"
            ],
            [
             0.2222222222222222,
             "#7201a8"
            ],
            [
             0.3333333333333333,
             "#9c179e"
            ],
            [
             0.4444444444444444,
             "#bd3786"
            ],
            [
             0.5555555555555556,
             "#d8576b"
            ],
            [
             0.6666666666666666,
             "#ed7953"
            ],
            [
             0.7777777777777778,
             "#fb9f3a"
            ],
            [
             0.8888888888888888,
             "#fdca26"
            ],
            [
             1,
             "#f0f921"
            ]
           ],
           "sequentialminus": [
            [
             0,
             "#0d0887"
            ],
            [
             0.1111111111111111,
             "#46039f"
            ],
            [
             0.2222222222222222,
             "#7201a8"
            ],
            [
             0.3333333333333333,
             "#9c179e"
            ],
            [
             0.4444444444444444,
             "#bd3786"
            ],
            [
             0.5555555555555556,
             "#d8576b"
            ],
            [
             0.6666666666666666,
             "#ed7953"
            ],
            [
             0.7777777777777778,
             "#fb9f3a"
            ],
            [
             0.8888888888888888,
             "#fdca26"
            ],
            [
             1,
             "#f0f921"
            ]
           ]
          },
          "colorway": [
           "#636efa",
           "#EF553B",
           "#00cc96",
           "#ab63fa",
           "#FFA15A",
           "#19d3f3",
           "#FF6692",
           "#B6E880",
           "#FF97FF",
           "#FECB52"
          ],
          "font": {
           "color": "#2a3f5f"
          },
          "geo": {
           "bgcolor": "white",
           "lakecolor": "white",
           "landcolor": "#E5ECF6",
           "showlakes": true,
           "showland": true,
           "subunitcolor": "white"
          },
          "hoverlabel": {
           "align": "left"
          },
          "hovermode": "closest",
          "mapbox": {
           "style": "light"
          },
          "paper_bgcolor": "white",
          "plot_bgcolor": "#E5ECF6",
          "polar": {
           "angularaxis": {
            "gridcolor": "white",
            "linecolor": "white",
            "ticks": ""
           },
           "bgcolor": "#E5ECF6",
           "radialaxis": {
            "gridcolor": "white",
            "linecolor": "white",
            "ticks": ""
           }
          },
          "scene": {
           "xaxis": {
            "backgroundcolor": "#E5ECF6",
            "gridcolor": "white",
            "gridwidth": 2,
            "linecolor": "white",
            "showbackground": true,
            "ticks": "",
            "zerolinecolor": "white"
           },
           "yaxis": {
            "backgroundcolor": "#E5ECF6",
            "gridcolor": "white",
            "gridwidth": 2,
            "linecolor": "white",
            "showbackground": true,
            "ticks": "",
            "zerolinecolor": "white"
           },
           "zaxis": {
            "backgroundcolor": "#E5ECF6",
            "gridcolor": "white",
            "gridwidth": 2,
            "linecolor": "white",
            "showbackground": true,
            "ticks": "",
            "zerolinecolor": "white"
           }
          },
          "shapedefaults": {
           "line": {
            "color": "#2a3f5f"
           }
          },
          "ternary": {
           "aaxis": {
            "gridcolor": "white",
            "linecolor": "white",
            "ticks": ""
           },
           "baxis": {
            "gridcolor": "white",
            "linecolor": "white",
            "ticks": ""
           },
           "bgcolor": "#E5ECF6",
           "caxis": {
            "gridcolor": "white",
            "linecolor": "white",
            "ticks": ""
           }
          },
          "title": {
           "x": 0.05
          },
          "xaxis": {
           "automargin": true,
           "gridcolor": "white",
           "linecolor": "white",
           "ticks": "",
           "title": {
            "standoff": 15
           },
           "zerolinecolor": "white",
           "zerolinewidth": 2
          },
          "yaxis": {
           "automargin": true,
           "gridcolor": "white",
           "linecolor": "white",
           "ticks": "",
           "title": {
            "standoff": 15
           },
           "zerolinecolor": "white",
           "zerolinewidth": 2
          }
         }
        },
        "title": {
         "font": {
          "color": "#4D5663"
         },
         "text": "Carrots Pricing Change Effect on Hectograms Other Nutrients (Raw Vegan)"
        },
        "xaxis": {
         "gridcolor": "#E1E5ED",
         "showgrid": true,
         "tickfont": {
          "color": "#4D5663"
         },
         "title": {
          "font": {
           "color": "#4D5663"
          },
          "text": "Carrots Price"
         },
         "zerolinecolor": "#E1E5ED"
        },
        "yaxis": {
         "gridcolor": "#E1E5ED",
         "showgrid": true,
         "tickfont": {
          "color": "#4D5663"
         },
         "title": {
          "font": {
           "color": "#4D5663"
          },
          "text": "Hectograms"
         },
         "zerolinecolor": "#E1E5ED"
        }
       }
      },
      "text/html": [
       "<div>                            <div id=\"fd8dbf34-c67b-4d36-8fd3-9f3a8e829e20\" class=\"plotly-graph-div\" style=\"height:525px; width:100%;\"></div>            <script type=\"text/javascript\">                require([\"plotly\"], function(Plotly) {                    window.PLOTLYENV=window.PLOTLYENV || {};\n",
       "                    window.PLOTLYENV.BASE_URL='https://plot.ly';                                    if (document.getElementById(\"fd8dbf34-c67b-4d36-8fd3-9f3a8e829e20\")) {                    Plotly.newPlot(                        \"fd8dbf34-c67b-4d36-8fd3-9f3a8e829e20\",                        [{\"line\":{\"color\":\"rgba(255, 153, 51, 1.0)\",\"dash\":\"solid\",\"shape\":\"linear\",\"width\":1.3},\"mode\":\"lines\",\"name\":\"Russet Potato\",\"text\":\"\",\"type\":\"scatter\",\"x\":[0.16424438532773378,0.24636657799160067,0.2956398935899208,0.32848877065546755,0.36133764772101434,0.3941865247865611,0.4270354018521078,0.45988427891765454,0.49273315598320133,0.6569775413109351,1.3139550826218702],\"y\":[5.8020842052017045e-11,1.730484675872085,1.7304853242220941,1.73048531755655,1.7304853191445768,1.7304853209926458,1.7304856157052968,1.7304853228407524,1.7304853197876362,1.7304853215050773,1.7304853234450932]},{\"line\":{\"color\":\"rgba(55, 128, 191, 1.0)\",\"dash\":\"solid\",\"shape\":\"linear\",\"width\":1.3},\"mode\":\"lines\",\"name\":\"Peanut butter, creamy\",\"text\":\"\",\"type\":\"scatter\",\"x\":[0.16424438532773378,0.24636657799160067,0.2956398935899208,0.32848877065546755,0.36133764772101434,0.3941865247865611,0.4270354018521078,0.45988427891765454,0.49273315598320133,0.6569775413109351,1.3139550826218702],\"y\":[2.0980706855138407,2.5416070273995417,2.5416071538042857,2.5416071611649165,2.541607163593311,2.541607165801657,2.541606449315807,2.541607166976109,2.5416071630517414,2.5416071611288973,2.5416071676571343]},{\"line\":{\"color\":\"rgba(50, 171, 96, 1.0)\",\"dash\":\"solid\",\"shape\":\"linear\",\"width\":1.3},\"mode\":\"lines\",\"name\":\"Carrots\",\"text\":\"\",\"type\":\"scatter\",\"x\":[0.16424438532773378,0.24636657799160067,0.2956398935899208,0.32848877065546755,0.36133764772101434,0.3941865247865611,0.4270354018521078,0.45988427891765454,0.49273315598320133,0.6569775413109351,1.3139550826218702],\"y\":[8.307473163134606,2.2892893435886448e-07,1.9791278501472246e-09,3.095533934735731e-10,2.072677559212604e-10,8.857499805833855e-11,5.9465725231555706e-08,2.691317513056004e-11,1.0674874289468224e-10,8.25411748152407e-11,7.898915140979647e-13]},{\"line\":{\"color\":\"rgba(128, 0, 128, 1.0)\",\"dash\":\"solid\",\"shape\":\"linear\",\"width\":1.3},\"mode\":\"lines\",\"name\":\"White bread\",\"text\":\"\",\"type\":\"scatter\",\"x\":[0.16424438532773378,0.24636657799160067,0.2956398935899208,0.32848877065546755,0.36133764772101434,0.3941865247865611,0.4270354018521078,0.45988427891765454,0.49273315598320133,0.6569775413109351,1.3139550826218702],\"y\":[2.0639758394448986,1.038012337448002,1.0380122865144883,1.0380122865554644,1.0380122865919883,1.0380122866447343,1.038012294419152,1.0380122864966022,1.0380122864541477,1.038012286211326,1.038012286475282]},{\"line\":{\"color\":\"rgba(219, 64, 82, 1.0)\",\"dash\":\"solid\",\"shape\":\"linear\",\"width\":1.3},\"mode\":\"lines\",\"name\":\"Collards, raw\",\"text\":\"\",\"type\":\"scatter\",\"x\":[0.16424438532773378,0.24636657799160067,0.2956398935899208,0.32848877065546755,0.36133764772101434,0.3941865247865611,0.4270354018521078,0.45988427891765454,0.49273315598320133,0.6569775413109351,1.3139550826218702],\"y\":[0.19532556895685768,0.11543280816810143,0.11543282782689071,0.11543282886512651,0.11543282933805958,0.11543282977432827,0.11543272448594438,0.11543283000853659,0.11543282923538767,0.11543282891785712,0.11543283014277823]},{\"line\":{\"color\":\"rgba(0, 128, 128, 1.0)\",\"dash\":\"solid\",\"shape\":\"linear\",\"width\":1.3},\"mode\":\"lines\",\"name\":\"Carrots, raw\",\"text\":\"\",\"type\":\"scatter\",\"x\":[0.16424438532773378,0.24636657799160067,0.2956398935899208,0.32848877065546755,0.36133764772101434,0.3941865247865611,0.4270354018521078,0.45988427891765454,0.49273315598320133,0.6569775413109351,1.3139550826218702],\"y\":[0.9990180203195163,1.025215273687755,1.0252150344109396,1.0252150299447036,1.0252150271779346,1.0252150250401446,1.0252176479086959,1.025215024321687,1.0252150306843535,1.0252150364271237,1.0252150232178923]},{\"line\":{\"color\":\"rgba(255, 255, 51, 1.0)\",\"dash\":\"solid\",\"shape\":\"linear\",\"width\":1.3},\"mode\":\"lines\",\"name\":\"Avocado, raw\",\"text\":\"\",\"type\":\"scatter\",\"x\":[0.16424438532773378,0.24636657799160067,0.2956398935899208,0.32848877065546755,0.36133764772101434,0.3941865247865611,0.4270354018521078,0.45988427891765454,0.49273315598320133,0.6569775413109351,1.3139550826218702],\"y\":[0.2649083090386703,2.1388309866169535,2.138830829693813,2.138830817090555,2.1388308093676556,2.1388308026242147,2.1388310289983377,2.138830798552472,2.1388308092989554,2.138830812567484,2.1388307967885094]},{\"line\":{\"color\":\"rgba(128, 128, 0, 1.0)\",\"dash\":\"solid\",\"shape\":\"linear\",\"width\":1.3},\"mode\":\"lines\",\"name\":\"Lentils, NFS\",\"text\":\"\",\"type\":\"scatter\",\"x\":[0.16424438532773378,0.24636657799160067,0.2956398935899208,0.32848877065546755,0.36133764772101434,0.3941865247865611,0.4270354018521078,0.45988427891765454,0.49273315598320133,0.6569775413109351,1.3139550826218702],\"y\":[6.589977803330449e-10,0.8325017565371097,0.8325019069954989,0.8325019227843508,0.8325019277262582,0.8325019307866323,0.8325002251189194,0.8325019320140445,0.8325019260072413,0.8325019216966658,0.8325019329583432]},{\"line\":{\"color\":\"rgba(251, 128, 114, 1.0)\",\"dash\":\"solid\",\"shape\":\"linear\",\"width\":1.3},\"mode\":\"lines\",\"name\":\"Oranges, raw, navels\",\"text\":\"\",\"type\":\"scatter\",\"x\":[0.16424438532773378,0.24636657799160067,0.2956398935899208,0.32848877065546755,0.36133764772101434,0.3941865247865611,0.4270354018521078,0.45988427891765454,0.49273315598320133,0.6569775413109351,1.3139550826218702],\"y\":[1.2616195795801555,0.8227471478227174,0.8227474922598113,0.8227475077310337,0.8227475109890234,0.822747513396607,0.8227464873074054,0.8227475144063592,0.8227475106174515,0.822747509211282,0.8227475151206951]},{\"line\":{\"color\":\"rgba(128, 177, 211, 1.0)\",\"dash\":\"solid\",\"shape\":\"linear\",\"width\":1.3},\"mode\":\"lines\",\"name\":\"Almond milk, unsweetened, plain, refrigerated\",\"text\":\"\",\"type\":\"scatter\",\"x\":[0.16424438532773378,0.24636657799160067,0.2956398935899208,0.32848877065546755,0.36133764772101434,0.3941865247865611,0.4270354018521078,0.45988427891765454,0.49273315598320133,0.6569775413109351,1.3139550826218702],\"y\":[0.3643628540964666,5.374055076399431e-08,3.5933287108284833e-09,1.0983588510599852e-09,6.106826434182577e-10,2.870544573812951e-10,2.738722868551908e-07,1.3726949368549566e-10,7.71753949044664e-10,1.0985064123850646e-09,2.5521444651283505e-11]},{\"line\":{\"color\":\"rgba(128, 177, 211, 0.8999999999999999)\",\"dash\":\"solid\",\"shape\":\"linear\",\"width\":1.3},\"mode\":\"lines\",\"name\":\"Nutritional Yeast\",\"text\":\"\",\"type\":\"scatter\",\"x\":[0.16424438532773378,0.24636657799160067,0.2956398935899208,0.32848877065546755,0.36133764772101434,0.3941865247865611,0.4270354018521078,0.45988427891765454,0.49273315598320133,0.6569775413109351,1.3139550826218702],\"y\":[0.015174110880639727,0.016000000787555518,0.01600000004757052,0.016000000017036706,0.016000000014581923,0.016000000007313147,0.01600000281605122,0.016000000001657896,0.01600000000709979,0.01600000000688234,0.016000000000086775]}],                        {\"legend\":{\"bgcolor\":\"#F5F6F9\",\"font\":{\"color\":\"#4D5663\"}},\"paper_bgcolor\":\"#F5F6F9\",\"plot_bgcolor\":\"#F5F6F9\",\"template\":{\"data\":{\"bar\":[{\"error_x\":{\"color\":\"#2a3f5f\"},\"error_y\":{\"color\":\"#2a3f5f\"},\"marker\":{\"line\":{\"color\":\"#E5ECF6\",\"width\":0.5},\"pattern\":{\"fillmode\":\"overlay\",\"size\":10,\"solidity\":0.2}},\"type\":\"bar\"}],\"barpolar\":[{\"marker\":{\"line\":{\"color\":\"#E5ECF6\",\"width\":0.5},\"pattern\":{\"fillmode\":\"overlay\",\"size\":10,\"solidity\":0.2}},\"type\":\"barpolar\"}],\"carpet\":[{\"aaxis\":{\"endlinecolor\":\"#2a3f5f\",\"gridcolor\":\"white\",\"linecolor\":\"white\",\"minorgridcolor\":\"white\",\"startlinecolor\":\"#2a3f5f\"},\"baxis\":{\"endlinecolor\":\"#2a3f5f\",\"gridcolor\":\"white\",\"linecolor\":\"white\",\"minorgridcolor\":\"white\",\"startlinecolor\":\"#2a3f5f\"},\"type\":\"carpet\"}],\"choropleth\":[{\"colorbar\":{\"outlinewidth\":0,\"ticks\":\"\"},\"type\":\"choropleth\"}],\"contour\":[{\"colorbar\":{\"outlinewidth\":0,\"ticks\":\"\"},\"colorscale\":[[0.0,\"#0d0887\"],[0.1111111111111111,\"#46039f\"],[0.2222222222222222,\"#7201a8\"],[0.3333333333333333,\"#9c179e\"],[0.4444444444444444,\"#bd3786\"],[0.5555555555555556,\"#d8576b\"],[0.6666666666666666,\"#ed7953\"],[0.7777777777777778,\"#fb9f3a\"],[0.8888888888888888,\"#fdca26\"],[1.0,\"#f0f921\"]],\"type\":\"contour\"}],\"contourcarpet\":[{\"colorbar\":{\"outlinewidth\":0,\"ticks\":\"\"},\"type\":\"contourcarpet\"}],\"heatmap\":[{\"colorbar\":{\"outlinewidth\":0,\"ticks\":\"\"},\"colorscale\":[[0.0,\"#0d0887\"],[0.1111111111111111,\"#46039f\"],[0.2222222222222222,\"#7201a8\"],[0.3333333333333333,\"#9c179e\"],[0.4444444444444444,\"#bd3786\"],[0.5555555555555556,\"#d8576b\"],[0.6666666666666666,\"#ed7953\"],[0.7777777777777778,\"#fb9f3a\"],[0.8888888888888888,\"#fdca26\"],[1.0,\"#f0f921\"]],\"type\":\"heatmap\"}],\"heatmapgl\":[{\"colorbar\":{\"outlinewidth\":0,\"ticks\":\"\"},\"colorscale\":[[0.0,\"#0d0887\"],[0.1111111111111111,\"#46039f\"],[0.2222222222222222,\"#7201a8\"],[0.3333333333333333,\"#9c179e\"],[0.4444444444444444,\"#bd3786\"],[0.5555555555555556,\"#d8576b\"],[0.6666666666666666,\"#ed7953\"],[0.7777777777777778,\"#fb9f3a\"],[0.8888888888888888,\"#fdca26\"],[1.0,\"#f0f921\"]],\"type\":\"heatmapgl\"}],\"histogram\":[{\"marker\":{\"pattern\":{\"fillmode\":\"overlay\",\"size\":10,\"solidity\":0.2}},\"type\":\"histogram\"}],\"histogram2d\":[{\"colorbar\":{\"outlinewidth\":0,\"ticks\":\"\"},\"colorscale\":[[0.0,\"#0d0887\"],[0.1111111111111111,\"#46039f\"],[0.2222222222222222,\"#7201a8\"],[0.3333333333333333,\"#9c179e\"],[0.4444444444444444,\"#bd3786\"],[0.5555555555555556,\"#d8576b\"],[0.6666666666666666,\"#ed7953\"],[0.7777777777777778,\"#fb9f3a\"],[0.8888888888888888,\"#fdca26\"],[1.0,\"#f0f921\"]],\"type\":\"histogram2d\"}],\"histogram2dcontour\":[{\"colorbar\":{\"outlinewidth\":0,\"ticks\":\"\"},\"colorscale\":[[0.0,\"#0d0887\"],[0.1111111111111111,\"#46039f\"],[0.2222222222222222,\"#7201a8\"],[0.3333333333333333,\"#9c179e\"],[0.4444444444444444,\"#bd3786\"],[0.5555555555555556,\"#d8576b\"],[0.6666666666666666,\"#ed7953\"],[0.7777777777777778,\"#fb9f3a\"],[0.8888888888888888,\"#fdca26\"],[1.0,\"#f0f921\"]],\"type\":\"histogram2dcontour\"}],\"mesh3d\":[{\"colorbar\":{\"outlinewidth\":0,\"ticks\":\"\"},\"type\":\"mesh3d\"}],\"parcoords\":[{\"line\":{\"colorbar\":{\"outlinewidth\":0,\"ticks\":\"\"}},\"type\":\"parcoords\"}],\"pie\":[{\"automargin\":true,\"type\":\"pie\"}],\"scatter\":[{\"marker\":{\"colorbar\":{\"outlinewidth\":0,\"ticks\":\"\"}},\"type\":\"scatter\"}],\"scatter3d\":[{\"line\":{\"colorbar\":{\"outlinewidth\":0,\"ticks\":\"\"}},\"marker\":{\"colorbar\":{\"outlinewidth\":0,\"ticks\":\"\"}},\"type\":\"scatter3d\"}],\"scattercarpet\":[{\"marker\":{\"colorbar\":{\"outlinewidth\":0,\"ticks\":\"\"}},\"type\":\"scattercarpet\"}],\"scattergeo\":[{\"marker\":{\"colorbar\":{\"outlinewidth\":0,\"ticks\":\"\"}},\"type\":\"scattergeo\"}],\"scattergl\":[{\"marker\":{\"colorbar\":{\"outlinewidth\":0,\"ticks\":\"\"}},\"type\":\"scattergl\"}],\"scattermapbox\":[{\"marker\":{\"colorbar\":{\"outlinewidth\":0,\"ticks\":\"\"}},\"type\":\"scattermapbox\"}],\"scatterpolar\":[{\"marker\":{\"colorbar\":{\"outlinewidth\":0,\"ticks\":\"\"}},\"type\":\"scatterpolar\"}],\"scatterpolargl\":[{\"marker\":{\"colorbar\":{\"outlinewidth\":0,\"ticks\":\"\"}},\"type\":\"scatterpolargl\"}],\"scatterternary\":[{\"marker\":{\"colorbar\":{\"outlinewidth\":0,\"ticks\":\"\"}},\"type\":\"scatterternary\"}],\"surface\":[{\"colorbar\":{\"outlinewidth\":0,\"ticks\":\"\"},\"colorscale\":[[0.0,\"#0d0887\"],[0.1111111111111111,\"#46039f\"],[0.2222222222222222,\"#7201a8\"],[0.3333333333333333,\"#9c179e\"],[0.4444444444444444,\"#bd3786\"],[0.5555555555555556,\"#d8576b\"],[0.6666666666666666,\"#ed7953\"],[0.7777777777777778,\"#fb9f3a\"],[0.8888888888888888,\"#fdca26\"],[1.0,\"#f0f921\"]],\"type\":\"surface\"}],\"table\":[{\"cells\":{\"fill\":{\"color\":\"#EBF0F8\"},\"line\":{\"color\":\"white\"}},\"header\":{\"fill\":{\"color\":\"#C8D4E3\"},\"line\":{\"color\":\"white\"}},\"type\":\"table\"}]},\"layout\":{\"annotationdefaults\":{\"arrowcolor\":\"#2a3f5f\",\"arrowhead\":0,\"arrowwidth\":1},\"autotypenumbers\":\"strict\",\"coloraxis\":{\"colorbar\":{\"outlinewidth\":0,\"ticks\":\"\"}},\"colorscale\":{\"diverging\":[[0,\"#8e0152\"],[0.1,\"#c51b7d\"],[0.2,\"#de77ae\"],[0.3,\"#f1b6da\"],[0.4,\"#fde0ef\"],[0.5,\"#f7f7f7\"],[0.6,\"#e6f5d0\"],[0.7,\"#b8e186\"],[0.8,\"#7fbc41\"],[0.9,\"#4d9221\"],[1,\"#276419\"]],\"sequential\":[[0.0,\"#0d0887\"],[0.1111111111111111,\"#46039f\"],[0.2222222222222222,\"#7201a8\"],[0.3333333333333333,\"#9c179e\"],[0.4444444444444444,\"#bd3786\"],[0.5555555555555556,\"#d8576b\"],[0.6666666666666666,\"#ed7953\"],[0.7777777777777778,\"#fb9f3a\"],[0.8888888888888888,\"#fdca26\"],[1.0,\"#f0f921\"]],\"sequentialminus\":[[0.0,\"#0d0887\"],[0.1111111111111111,\"#46039f\"],[0.2222222222222222,\"#7201a8\"],[0.3333333333333333,\"#9c179e\"],[0.4444444444444444,\"#bd3786\"],[0.5555555555555556,\"#d8576b\"],[0.6666666666666666,\"#ed7953\"],[0.7777777777777778,\"#fb9f3a\"],[0.8888888888888888,\"#fdca26\"],[1.0,\"#f0f921\"]]},\"colorway\":[\"#636efa\",\"#EF553B\",\"#00cc96\",\"#ab63fa\",\"#FFA15A\",\"#19d3f3\",\"#FF6692\",\"#B6E880\",\"#FF97FF\",\"#FECB52\"],\"font\":{\"color\":\"#2a3f5f\"},\"geo\":{\"bgcolor\":\"white\",\"lakecolor\":\"white\",\"landcolor\":\"#E5ECF6\",\"showlakes\":true,\"showland\":true,\"subunitcolor\":\"white\"},\"hoverlabel\":{\"align\":\"left\"},\"hovermode\":\"closest\",\"mapbox\":{\"style\":\"light\"},\"paper_bgcolor\":\"white\",\"plot_bgcolor\":\"#E5ECF6\",\"polar\":{\"angularaxis\":{\"gridcolor\":\"white\",\"linecolor\":\"white\",\"ticks\":\"\"},\"bgcolor\":\"#E5ECF6\",\"radialaxis\":{\"gridcolor\":\"white\",\"linecolor\":\"white\",\"ticks\":\"\"}},\"scene\":{\"xaxis\":{\"backgroundcolor\":\"#E5ECF6\",\"gridcolor\":\"white\",\"gridwidth\":2,\"linecolor\":\"white\",\"showbackground\":true,\"ticks\":\"\",\"zerolinecolor\":\"white\"},\"yaxis\":{\"backgroundcolor\":\"#E5ECF6\",\"gridcolor\":\"white\",\"gridwidth\":2,\"linecolor\":\"white\",\"showbackground\":true,\"ticks\":\"\",\"zerolinecolor\":\"white\"},\"zaxis\":{\"backgroundcolor\":\"#E5ECF6\",\"gridcolor\":\"white\",\"gridwidth\":2,\"linecolor\":\"white\",\"showbackground\":true,\"ticks\":\"\",\"zerolinecolor\":\"white\"}},\"shapedefaults\":{\"line\":{\"color\":\"#2a3f5f\"}},\"ternary\":{\"aaxis\":{\"gridcolor\":\"white\",\"linecolor\":\"white\",\"ticks\":\"\"},\"baxis\":{\"gridcolor\":\"white\",\"linecolor\":\"white\",\"ticks\":\"\"},\"bgcolor\":\"#E5ECF6\",\"caxis\":{\"gridcolor\":\"white\",\"linecolor\":\"white\",\"ticks\":\"\"}},\"title\":{\"x\":0.05},\"xaxis\":{\"automargin\":true,\"gridcolor\":\"white\",\"linecolor\":\"white\",\"ticks\":\"\",\"title\":{\"standoff\":15},\"zerolinecolor\":\"white\",\"zerolinewidth\":2},\"yaxis\":{\"automargin\":true,\"gridcolor\":\"white\",\"linecolor\":\"white\",\"ticks\":\"\",\"title\":{\"standoff\":15},\"zerolinecolor\":\"white\",\"zerolinewidth\":2}}},\"title\":{\"font\":{\"color\":\"#4D5663\"},\"text\":\"Carrots Pricing Change Effect on Hectograms Other Nutrients (Raw Vegan)\"},\"xaxis\":{\"gridcolor\":\"#E1E5ED\",\"showgrid\":true,\"tickfont\":{\"color\":\"#4D5663\"},\"title\":{\"font\":{\"color\":\"#4D5663\"},\"text\":\"Carrots Price\"},\"zerolinecolor\":\"#E1E5ED\"},\"yaxis\":{\"gridcolor\":\"#E1E5ED\",\"showgrid\":true,\"tickfont\":{\"color\":\"#4D5663\"},\"title\":{\"font\":{\"color\":\"#4D5663\"},\"text\":\"Hectograms\"},\"zerolinecolor\":\"#E1E5ED\"}},                        {\"showLink\": true, \"linkText\": \"Export to plot.ly\", \"plotlyServerURL\": \"https://plot.ly\", \"responsive\": true}                    ).then(function(){\n",
       "                            \n",
       "var gd = document.getElementById('fd8dbf34-c67b-4d36-8fd3-9f3a8e829e20');\n",
       "var x = new MutationObserver(function (mutations, observer) {{\n",
       "        var display = window.getComputedStyle(gd).display;\n",
       "        if (!display || display === 'none') {{\n",
       "            console.log([gd, 'removed!']);\n",
       "            Plotly.purge(gd);\n",
       "            observer.disconnect();\n",
       "        }}\n",
       "}});\n",
       "\n",
       "// Listen for the removal of the full notebook cells\n",
       "var notebookContainer = gd.closest('#notebook-container');\n",
       "if (notebookContainer) {{\n",
       "    x.observe(notebookContainer, {childList: true});\n",
       "}}\n",
       "\n",
       "// Listen for the clearing of the current output cell\n",
       "var outputEl = gd.closest('.output');\n",
       "if (outputEl) {{\n",
       "    x.observe(outputEl, {childList: true});\n",
       "}}\n",
       "\n",
       "                        })                };                });            </script>        </div>"
      ]
     },
     "metadata": {},
     "output_type": "display_data"
    }
   ],
   "source": [
    "Carrots_Vegan_response = getEffectsofPriceChangeGraph(\"vegan\", \"Carrots\")"
   ]
  },
  {
   "cell_type": "markdown",
   "id": "2b1e4cac",
   "metadata": {},
   "source": [
    "## Effects of Price Changes on Subsistence Diet Nutrition"
   ]
  },
  {
   "cell_type": "markdown",
   "id": "39c98fb7",
   "metadata": {},
   "source": [
    "The code below creates a graph which uses the food price changes\n",
    "  described above, but maps into nutrients."
   ]
  },
  {
   "cell_type": "code",
   "execution_count": 125,
   "id": "a7276b1e",
   "metadata": {},
   "outputs": [],
   "source": [
    "def getPriceChangeNutrientMapGraph(dietType, Diet_response, ReferenceGood):\n",
    "    \n",
    "    dietType = dietType.lower()\n",
    "    if dietType == \"meat\":\n",
    "        diet_FoodNutrients = Raw_Meat_FoodNutrients\n",
    "        diet_prices = meat_prices\n",
    "        graphType = \"Raw Meat\"\n",
    "    elif dietType == \"vegan\":\n",
    "        diet_FoodNutrients = Raw_Vegan_FoodNutrients\n",
    "        diet_prices = vegan_prices\n",
    "        graphType = \"Raw Vegan\"\n",
    "    elif dietType == \"usda\":\n",
    "        diet_FoodNutrients = USDA_FoodNutrients\n",
    "        diet_prices = usda_prices\n",
    "        graphType = \"USDA\"\n",
    "    else:\n",
    "        print(\"Please choose correct diet.\")\n",
    "    \n",
    "    \n",
    "    # Matrix product maps quantities of food into quantities of nutrients\n",
    "    NutrientResponse = Diet_response@diet_FoodNutrients.T\n",
    "\n",
    "    # Drop columns of missing nutrients\n",
    "    NutrientResponse = NutrientResponse.loc[:,NutrientResponse.count()>0]\n",
    "    NutrientResponse.iplot(title=\"Effects of Price Changes on Subsistence Diet Nutrition for \" + ReferenceGood + \" (\" + graphType + \")\", xTitle='%s Price' % ReferenceGood,yTitle='Nutrients')"
   ]
  },
  {
   "cell_type": "code",
   "execution_count": 126,
   "id": "a63b5394",
   "metadata": {},
   "outputs": [
    {
     "data": {
      "application/vnd.plotly.v1+json": {
       "config": {
        "linkText": "Export to plot.ly",
        "plotlyServerURL": "https://plot.ly",
        "showLink": true
       },
       "data": [
        {
         "line": {
          "color": "rgba(255, 153, 51, 1.0)",
          "dash": "solid",
          "shape": "linear",
          "width": 1.3
         },
         "mode": "lines",
         "name": "Calcium, Ca",
         "text": "",
         "type": "scatter",
         "x": [
          1.4319023928907797,
          2.1478535893361697,
          2.5774243072034033,
          2.8638047857815594,
          3.1501852643597155,
          3.436565742937871,
          3.722946221516027,
          4.009326700094183,
          4.295707178672339,
          5.727609571563119,
          11.455219143126238
         ],
         "y": [
          1000.000000010677,
          1000.0000000100082,
          1000.0000000096774,
          1000.0000000094808,
          1000.0000000092942,
          1000.0000000091239,
          1000.0000000089641,
          1000.0000000088171,
          1000.0000000086745,
          1000.000000008069,
          1000.0000000060935
         ]
        },
        {
         "line": {
          "color": "rgba(55, 128, 191, 1.0)",
          "dash": "solid",
          "shape": "linear",
          "width": 1.3
         },
         "mode": "lines",
         "name": "Iron, Fe",
         "text": "",
         "type": "scatter",
         "x": [
          1.4319023928907797,
          2.1478535893361697,
          2.5774243072034033,
          2.8638047857815594,
          3.1501852643597155,
          3.436565742937871,
          3.722946221516027,
          4.009326700094183,
          4.295707178672339,
          5.727609571563119,
          11.455219143126238
         ],
         "y": [
          31.726653118329864,
          31.726653118275483,
          31.726653118250425,
          31.726653118234704,
          31.726653118221336,
          31.726653118208855,
          31.72665311819677,
          31.726653118187023,
          31.72665311817562,
          31.7266531181332,
          31.726653117998243
         ]
        },
        {
         "line": {
          "color": "rgba(50, 171, 96, 1.0)",
          "dash": "solid",
          "shape": "linear",
          "width": 1.3
         },
         "mode": "lines",
         "name": "Sodium, Na",
         "text": "",
         "type": "scatter",
         "x": [
          1.4319023928907797,
          2.1478535893361697,
          2.5774243072034033,
          2.8638047857815594,
          3.1501852643597155,
          3.436565742937871,
          3.722946221516027,
          4.009326700094183,
          4.295707178672339,
          5.727609571563119,
          11.455219143126238
         ],
         "y": [
          324.7693932143065,
          324.76939318612483,
          324.76939317224094,
          324.7693931639646,
          324.76939315629954,
          324.76939314919315,
          324.76939314255463,
          324.76939313632533,
          324.7693931304741,
          324.7693931049904,
          324.76939302492065
         ]
        },
        {
         "line": {
          "color": "rgba(128, 0, 128, 1.0)",
          "dash": "solid",
          "shape": "linear",
          "width": 1.3
         },
         "mode": "lines",
         "name": "Total lipid (fat)",
         "text": "",
         "type": "scatter",
         "x": [
          1.4319023928907797,
          2.1478535893361697,
          2.5774243072034033,
          2.8638047857815594,
          3.1501852643597155,
          3.436565742937871,
          3.722946221516027,
          4.009326700094183,
          4.295707178672339,
          5.727609571563119,
          11.455219143126238
         ],
         "y": [
          263.4254390939391,
          263.42543909207336,
          263.42543909116245,
          263.4254390906089,
          263.42543909010817,
          263.42543908964217,
          263.4254390892035,
          263.4254390888047,
          263.4254390884075,
          263.425439086749,
          263.4254390814789
         ]
        },
        {
         "line": {
          "color": "rgba(219, 64, 82, 1.0)",
          "dash": "solid",
          "shape": "linear",
          "width": 1.3
         },
         "mode": "lines",
         "name": "Water",
         "text": "",
         "type": "scatter",
         "x": [
          1.4319023928907797,
          2.1478535893361697,
          2.5774243072034033,
          2.8638047857815594,
          3.1501852643597155,
          3.436565742937871,
          3.722946221516027,
          4.009326700094183,
          4.295707178672339,
          5.727609571563119,
          11.455219143126238
         ],
         "y": [
          521.2279028125081,
          521.2279028084173,
          521.2279028064039,
          521.227902805228,
          521.2279028041155,
          521.2279028030979,
          521.2279028021459,
          521.2279028012366,
          521.227902800426,
          521.2279027967883,
          521.2279027856434
         ]
        }
       ],
       "layout": {
        "legend": {
         "bgcolor": "#F5F6F9",
         "font": {
          "color": "#4D5663"
         }
        },
        "paper_bgcolor": "#F5F6F9",
        "plot_bgcolor": "#F5F6F9",
        "template": {
         "data": {
          "bar": [
           {
            "error_x": {
             "color": "#2a3f5f"
            },
            "error_y": {
             "color": "#2a3f5f"
            },
            "marker": {
             "line": {
              "color": "#E5ECF6",
              "width": 0.5
             },
             "pattern": {
              "fillmode": "overlay",
              "size": 10,
              "solidity": 0.2
             }
            },
            "type": "bar"
           }
          ],
          "barpolar": [
           {
            "marker": {
             "line": {
              "color": "#E5ECF6",
              "width": 0.5
             },
             "pattern": {
              "fillmode": "overlay",
              "size": 10,
              "solidity": 0.2
             }
            },
            "type": "barpolar"
           }
          ],
          "carpet": [
           {
            "aaxis": {
             "endlinecolor": "#2a3f5f",
             "gridcolor": "white",
             "linecolor": "white",
             "minorgridcolor": "white",
             "startlinecolor": "#2a3f5f"
            },
            "baxis": {
             "endlinecolor": "#2a3f5f",
             "gridcolor": "white",
             "linecolor": "white",
             "minorgridcolor": "white",
             "startlinecolor": "#2a3f5f"
            },
            "type": "carpet"
           }
          ],
          "choropleth": [
           {
            "colorbar": {
             "outlinewidth": 0,
             "ticks": ""
            },
            "type": "choropleth"
           }
          ],
          "contour": [
           {
            "colorbar": {
             "outlinewidth": 0,
             "ticks": ""
            },
            "colorscale": [
             [
              0,
              "#0d0887"
             ],
             [
              0.1111111111111111,
              "#46039f"
             ],
             [
              0.2222222222222222,
              "#7201a8"
             ],
             [
              0.3333333333333333,
              "#9c179e"
             ],
             [
              0.4444444444444444,
              "#bd3786"
             ],
             [
              0.5555555555555556,
              "#d8576b"
             ],
             [
              0.6666666666666666,
              "#ed7953"
             ],
             [
              0.7777777777777778,
              "#fb9f3a"
             ],
             [
              0.8888888888888888,
              "#fdca26"
             ],
             [
              1,
              "#f0f921"
             ]
            ],
            "type": "contour"
           }
          ],
          "contourcarpet": [
           {
            "colorbar": {
             "outlinewidth": 0,
             "ticks": ""
            },
            "type": "contourcarpet"
           }
          ],
          "heatmap": [
           {
            "colorbar": {
             "outlinewidth": 0,
             "ticks": ""
            },
            "colorscale": [
             [
              0,
              "#0d0887"
             ],
             [
              0.1111111111111111,
              "#46039f"
             ],
             [
              0.2222222222222222,
              "#7201a8"
             ],
             [
              0.3333333333333333,
              "#9c179e"
             ],
             [
              0.4444444444444444,
              "#bd3786"
             ],
             [
              0.5555555555555556,
              "#d8576b"
             ],
             [
              0.6666666666666666,
              "#ed7953"
             ],
             [
              0.7777777777777778,
              "#fb9f3a"
             ],
             [
              0.8888888888888888,
              "#fdca26"
             ],
             [
              1,
              "#f0f921"
             ]
            ],
            "type": "heatmap"
           }
          ],
          "heatmapgl": [
           {
            "colorbar": {
             "outlinewidth": 0,
             "ticks": ""
            },
            "colorscale": [
             [
              0,
              "#0d0887"
             ],
             [
              0.1111111111111111,
              "#46039f"
             ],
             [
              0.2222222222222222,
              "#7201a8"
             ],
             [
              0.3333333333333333,
              "#9c179e"
             ],
             [
              0.4444444444444444,
              "#bd3786"
             ],
             [
              0.5555555555555556,
              "#d8576b"
             ],
             [
              0.6666666666666666,
              "#ed7953"
             ],
             [
              0.7777777777777778,
              "#fb9f3a"
             ],
             [
              0.8888888888888888,
              "#fdca26"
             ],
             [
              1,
              "#f0f921"
             ]
            ],
            "type": "heatmapgl"
           }
          ],
          "histogram": [
           {
            "marker": {
             "pattern": {
              "fillmode": "overlay",
              "size": 10,
              "solidity": 0.2
             }
            },
            "type": "histogram"
           }
          ],
          "histogram2d": [
           {
            "colorbar": {
             "outlinewidth": 0,
             "ticks": ""
            },
            "colorscale": [
             [
              0,
              "#0d0887"
             ],
             [
              0.1111111111111111,
              "#46039f"
             ],
             [
              0.2222222222222222,
              "#7201a8"
             ],
             [
              0.3333333333333333,
              "#9c179e"
             ],
             [
              0.4444444444444444,
              "#bd3786"
             ],
             [
              0.5555555555555556,
              "#d8576b"
             ],
             [
              0.6666666666666666,
              "#ed7953"
             ],
             [
              0.7777777777777778,
              "#fb9f3a"
             ],
             [
              0.8888888888888888,
              "#fdca26"
             ],
             [
              1,
              "#f0f921"
             ]
            ],
            "type": "histogram2d"
           }
          ],
          "histogram2dcontour": [
           {
            "colorbar": {
             "outlinewidth": 0,
             "ticks": ""
            },
            "colorscale": [
             [
              0,
              "#0d0887"
             ],
             [
              0.1111111111111111,
              "#46039f"
             ],
             [
              0.2222222222222222,
              "#7201a8"
             ],
             [
              0.3333333333333333,
              "#9c179e"
             ],
             [
              0.4444444444444444,
              "#bd3786"
             ],
             [
              0.5555555555555556,
              "#d8576b"
             ],
             [
              0.6666666666666666,
              "#ed7953"
             ],
             [
              0.7777777777777778,
              "#fb9f3a"
             ],
             [
              0.8888888888888888,
              "#fdca26"
             ],
             [
              1,
              "#f0f921"
             ]
            ],
            "type": "histogram2dcontour"
           }
          ],
          "mesh3d": [
           {
            "colorbar": {
             "outlinewidth": 0,
             "ticks": ""
            },
            "type": "mesh3d"
           }
          ],
          "parcoords": [
           {
            "line": {
             "colorbar": {
              "outlinewidth": 0,
              "ticks": ""
             }
            },
            "type": "parcoords"
           }
          ],
          "pie": [
           {
            "automargin": true,
            "type": "pie"
           }
          ],
          "scatter": [
           {
            "marker": {
             "colorbar": {
              "outlinewidth": 0,
              "ticks": ""
             }
            },
            "type": "scatter"
           }
          ],
          "scatter3d": [
           {
            "line": {
             "colorbar": {
              "outlinewidth": 0,
              "ticks": ""
             }
            },
            "marker": {
             "colorbar": {
              "outlinewidth": 0,
              "ticks": ""
             }
            },
            "type": "scatter3d"
           }
          ],
          "scattercarpet": [
           {
            "marker": {
             "colorbar": {
              "outlinewidth": 0,
              "ticks": ""
             }
            },
            "type": "scattercarpet"
           }
          ],
          "scattergeo": [
           {
            "marker": {
             "colorbar": {
              "outlinewidth": 0,
              "ticks": ""
             }
            },
            "type": "scattergeo"
           }
          ],
          "scattergl": [
           {
            "marker": {
             "colorbar": {
              "outlinewidth": 0,
              "ticks": ""
             }
            },
            "type": "scattergl"
           }
          ],
          "scattermapbox": [
           {
            "marker": {
             "colorbar": {
              "outlinewidth": 0,
              "ticks": ""
             }
            },
            "type": "scattermapbox"
           }
          ],
          "scatterpolar": [
           {
            "marker": {
             "colorbar": {
              "outlinewidth": 0,
              "ticks": ""
             }
            },
            "type": "scatterpolar"
           }
          ],
          "scatterpolargl": [
           {
            "marker": {
             "colorbar": {
              "outlinewidth": 0,
              "ticks": ""
             }
            },
            "type": "scatterpolargl"
           }
          ],
          "scatterternary": [
           {
            "marker": {
             "colorbar": {
              "outlinewidth": 0,
              "ticks": ""
             }
            },
            "type": "scatterternary"
           }
          ],
          "surface": [
           {
            "colorbar": {
             "outlinewidth": 0,
             "ticks": ""
            },
            "colorscale": [
             [
              0,
              "#0d0887"
             ],
             [
              0.1111111111111111,
              "#46039f"
             ],
             [
              0.2222222222222222,
              "#7201a8"
             ],
             [
              0.3333333333333333,
              "#9c179e"
             ],
             [
              0.4444444444444444,
              "#bd3786"
             ],
             [
              0.5555555555555556,
              "#d8576b"
             ],
             [
              0.6666666666666666,
              "#ed7953"
             ],
             [
              0.7777777777777778,
              "#fb9f3a"
             ],
             [
              0.8888888888888888,
              "#fdca26"
             ],
             [
              1,
              "#f0f921"
             ]
            ],
            "type": "surface"
           }
          ],
          "table": [
           {
            "cells": {
             "fill": {
              "color": "#EBF0F8"
             },
             "line": {
              "color": "white"
             }
            },
            "header": {
             "fill": {
              "color": "#C8D4E3"
             },
             "line": {
              "color": "white"
             }
            },
            "type": "table"
           }
          ]
         },
         "layout": {
          "annotationdefaults": {
           "arrowcolor": "#2a3f5f",
           "arrowhead": 0,
           "arrowwidth": 1
          },
          "autotypenumbers": "strict",
          "coloraxis": {
           "colorbar": {
            "outlinewidth": 0,
            "ticks": ""
           }
          },
          "colorscale": {
           "diverging": [
            [
             0,
             "#8e0152"
            ],
            [
             0.1,
             "#c51b7d"
            ],
            [
             0.2,
             "#de77ae"
            ],
            [
             0.3,
             "#f1b6da"
            ],
            [
             0.4,
             "#fde0ef"
            ],
            [
             0.5,
             "#f7f7f7"
            ],
            [
             0.6,
             "#e6f5d0"
            ],
            [
             0.7,
             "#b8e186"
            ],
            [
             0.8,
             "#7fbc41"
            ],
            [
             0.9,
             "#4d9221"
            ],
            [
             1,
             "#276419"
            ]
           ],
           "sequential": [
            [
             0,
             "#0d0887"
            ],
            [
             0.1111111111111111,
             "#46039f"
            ],
            [
             0.2222222222222222,
             "#7201a8"
            ],
            [
             0.3333333333333333,
             "#9c179e"
            ],
            [
             0.4444444444444444,
             "#bd3786"
            ],
            [
             0.5555555555555556,
             "#d8576b"
            ],
            [
             0.6666666666666666,
             "#ed7953"
            ],
            [
             0.7777777777777778,
             "#fb9f3a"
            ],
            [
             0.8888888888888888,
             "#fdca26"
            ],
            [
             1,
             "#f0f921"
            ]
           ],
           "sequentialminus": [
            [
             0,
             "#0d0887"
            ],
            [
             0.1111111111111111,
             "#46039f"
            ],
            [
             0.2222222222222222,
             "#7201a8"
            ],
            [
             0.3333333333333333,
             "#9c179e"
            ],
            [
             0.4444444444444444,
             "#bd3786"
            ],
            [
             0.5555555555555556,
             "#d8576b"
            ],
            [
             0.6666666666666666,
             "#ed7953"
            ],
            [
             0.7777777777777778,
             "#fb9f3a"
            ],
            [
             0.8888888888888888,
             "#fdca26"
            ],
            [
             1,
             "#f0f921"
            ]
           ]
          },
          "colorway": [
           "#636efa",
           "#EF553B",
           "#00cc96",
           "#ab63fa",
           "#FFA15A",
           "#19d3f3",
           "#FF6692",
           "#B6E880",
           "#FF97FF",
           "#FECB52"
          ],
          "font": {
           "color": "#2a3f5f"
          },
          "geo": {
           "bgcolor": "white",
           "lakecolor": "white",
           "landcolor": "#E5ECF6",
           "showlakes": true,
           "showland": true,
           "subunitcolor": "white"
          },
          "hoverlabel": {
           "align": "left"
          },
          "hovermode": "closest",
          "mapbox": {
           "style": "light"
          },
          "paper_bgcolor": "white",
          "plot_bgcolor": "#E5ECF6",
          "polar": {
           "angularaxis": {
            "gridcolor": "white",
            "linecolor": "white",
            "ticks": ""
           },
           "bgcolor": "#E5ECF6",
           "radialaxis": {
            "gridcolor": "white",
            "linecolor": "white",
            "ticks": ""
           }
          },
          "scene": {
           "xaxis": {
            "backgroundcolor": "#E5ECF6",
            "gridcolor": "white",
            "gridwidth": 2,
            "linecolor": "white",
            "showbackground": true,
            "ticks": "",
            "zerolinecolor": "white"
           },
           "yaxis": {
            "backgroundcolor": "#E5ECF6",
            "gridcolor": "white",
            "gridwidth": 2,
            "linecolor": "white",
            "showbackground": true,
            "ticks": "",
            "zerolinecolor": "white"
           },
           "zaxis": {
            "backgroundcolor": "#E5ECF6",
            "gridcolor": "white",
            "gridwidth": 2,
            "linecolor": "white",
            "showbackground": true,
            "ticks": "",
            "zerolinecolor": "white"
           }
          },
          "shapedefaults": {
           "line": {
            "color": "#2a3f5f"
           }
          },
          "ternary": {
           "aaxis": {
            "gridcolor": "white",
            "linecolor": "white",
            "ticks": ""
           },
           "baxis": {
            "gridcolor": "white",
            "linecolor": "white",
            "ticks": ""
           },
           "bgcolor": "#E5ECF6",
           "caxis": {
            "gridcolor": "white",
            "linecolor": "white",
            "ticks": ""
           }
          },
          "title": {
           "x": 0.05
          },
          "xaxis": {
           "automargin": true,
           "gridcolor": "white",
           "linecolor": "white",
           "ticks": "",
           "title": {
            "standoff": 15
           },
           "zerolinecolor": "white",
           "zerolinewidth": 2
          },
          "yaxis": {
           "automargin": true,
           "gridcolor": "white",
           "linecolor": "white",
           "ticks": "",
           "title": {
            "standoff": 15
           },
           "zerolinecolor": "white",
           "zerolinewidth": 2
          }
         }
        },
        "title": {
         "font": {
          "color": "#4D5663"
         },
         "text": "Effects of Price Changes on Subsistence Diet Nutrition for Beef (Raw Meat)"
        },
        "xaxis": {
         "gridcolor": "#E1E5ED",
         "showgrid": true,
         "tickfont": {
          "color": "#4D5663"
         },
         "title": {
          "font": {
           "color": "#4D5663"
          },
          "text": "Beef Price"
         },
         "zerolinecolor": "#E1E5ED"
        },
        "yaxis": {
         "gridcolor": "#E1E5ED",
         "showgrid": true,
         "tickfont": {
          "color": "#4D5663"
         },
         "title": {
          "font": {
           "color": "#4D5663"
          },
          "text": "Nutrients"
         },
         "zerolinecolor": "#E1E5ED"
        }
       }
      },
      "text/html": [
       "<div>                            <div id=\"bf8f3c1d-bb0b-4004-b470-24e7311adc9b\" class=\"plotly-graph-div\" style=\"height:525px; width:100%;\"></div>            <script type=\"text/javascript\">                require([\"plotly\"], function(Plotly) {                    window.PLOTLYENV=window.PLOTLYENV || {};\n",
       "                    window.PLOTLYENV.BASE_URL='https://plot.ly';                                    if (document.getElementById(\"bf8f3c1d-bb0b-4004-b470-24e7311adc9b\")) {                    Plotly.newPlot(                        \"bf8f3c1d-bb0b-4004-b470-24e7311adc9b\",                        [{\"line\":{\"color\":\"rgba(255, 153, 51, 1.0)\",\"dash\":\"solid\",\"shape\":\"linear\",\"width\":1.3},\"mode\":\"lines\",\"name\":\"Calcium, Ca\",\"text\":\"\",\"type\":\"scatter\",\"x\":[1.4319023928907797,2.1478535893361697,2.5774243072034033,2.8638047857815594,3.1501852643597155,3.436565742937871,3.722946221516027,4.009326700094183,4.295707178672339,5.727609571563119,11.455219143126238],\"y\":[1000.000000010677,1000.0000000100082,1000.0000000096774,1000.0000000094808,1000.0000000092942,1000.0000000091239,1000.0000000089641,1000.0000000088171,1000.0000000086745,1000.000000008069,1000.0000000060935]},{\"line\":{\"color\":\"rgba(55, 128, 191, 1.0)\",\"dash\":\"solid\",\"shape\":\"linear\",\"width\":1.3},\"mode\":\"lines\",\"name\":\"Iron, Fe\",\"text\":\"\",\"type\":\"scatter\",\"x\":[1.4319023928907797,2.1478535893361697,2.5774243072034033,2.8638047857815594,3.1501852643597155,3.436565742937871,3.722946221516027,4.009326700094183,4.295707178672339,5.727609571563119,11.455219143126238],\"y\":[31.726653118329864,31.726653118275483,31.726653118250425,31.726653118234704,31.726653118221336,31.726653118208855,31.72665311819677,31.726653118187023,31.72665311817562,31.7266531181332,31.726653117998243]},{\"line\":{\"color\":\"rgba(50, 171, 96, 1.0)\",\"dash\":\"solid\",\"shape\":\"linear\",\"width\":1.3},\"mode\":\"lines\",\"name\":\"Sodium, Na\",\"text\":\"\",\"type\":\"scatter\",\"x\":[1.4319023928907797,2.1478535893361697,2.5774243072034033,2.8638047857815594,3.1501852643597155,3.436565742937871,3.722946221516027,4.009326700094183,4.295707178672339,5.727609571563119,11.455219143126238],\"y\":[324.7693932143065,324.76939318612483,324.76939317224094,324.7693931639646,324.76939315629954,324.76939314919315,324.76939314255463,324.76939313632533,324.7693931304741,324.7693931049904,324.76939302492065]},{\"line\":{\"color\":\"rgba(128, 0, 128, 1.0)\",\"dash\":\"solid\",\"shape\":\"linear\",\"width\":1.3},\"mode\":\"lines\",\"name\":\"Total lipid (fat)\",\"text\":\"\",\"type\":\"scatter\",\"x\":[1.4319023928907797,2.1478535893361697,2.5774243072034033,2.8638047857815594,3.1501852643597155,3.436565742937871,3.722946221516027,4.009326700094183,4.295707178672339,5.727609571563119,11.455219143126238],\"y\":[263.4254390939391,263.42543909207336,263.42543909116245,263.4254390906089,263.42543909010817,263.42543908964217,263.4254390892035,263.4254390888047,263.4254390884075,263.425439086749,263.4254390814789]},{\"line\":{\"color\":\"rgba(219, 64, 82, 1.0)\",\"dash\":\"solid\",\"shape\":\"linear\",\"width\":1.3},\"mode\":\"lines\",\"name\":\"Water\",\"text\":\"\",\"type\":\"scatter\",\"x\":[1.4319023928907797,2.1478535893361697,2.5774243072034033,2.8638047857815594,3.1501852643597155,3.436565742937871,3.722946221516027,4.009326700094183,4.295707178672339,5.727609571563119,11.455219143126238],\"y\":[521.2279028125081,521.2279028084173,521.2279028064039,521.227902805228,521.2279028041155,521.2279028030979,521.2279028021459,521.2279028012366,521.227902800426,521.2279027967883,521.2279027856434]}],                        {\"legend\":{\"bgcolor\":\"#F5F6F9\",\"font\":{\"color\":\"#4D5663\"}},\"paper_bgcolor\":\"#F5F6F9\",\"plot_bgcolor\":\"#F5F6F9\",\"template\":{\"data\":{\"bar\":[{\"error_x\":{\"color\":\"#2a3f5f\"},\"error_y\":{\"color\":\"#2a3f5f\"},\"marker\":{\"line\":{\"color\":\"#E5ECF6\",\"width\":0.5},\"pattern\":{\"fillmode\":\"overlay\",\"size\":10,\"solidity\":0.2}},\"type\":\"bar\"}],\"barpolar\":[{\"marker\":{\"line\":{\"color\":\"#E5ECF6\",\"width\":0.5},\"pattern\":{\"fillmode\":\"overlay\",\"size\":10,\"solidity\":0.2}},\"type\":\"barpolar\"}],\"carpet\":[{\"aaxis\":{\"endlinecolor\":\"#2a3f5f\",\"gridcolor\":\"white\",\"linecolor\":\"white\",\"minorgridcolor\":\"white\",\"startlinecolor\":\"#2a3f5f\"},\"baxis\":{\"endlinecolor\":\"#2a3f5f\",\"gridcolor\":\"white\",\"linecolor\":\"white\",\"minorgridcolor\":\"white\",\"startlinecolor\":\"#2a3f5f\"},\"type\":\"carpet\"}],\"choropleth\":[{\"colorbar\":{\"outlinewidth\":0,\"ticks\":\"\"},\"type\":\"choropleth\"}],\"contour\":[{\"colorbar\":{\"outlinewidth\":0,\"ticks\":\"\"},\"colorscale\":[[0.0,\"#0d0887\"],[0.1111111111111111,\"#46039f\"],[0.2222222222222222,\"#7201a8\"],[0.3333333333333333,\"#9c179e\"],[0.4444444444444444,\"#bd3786\"],[0.5555555555555556,\"#d8576b\"],[0.6666666666666666,\"#ed7953\"],[0.7777777777777778,\"#fb9f3a\"],[0.8888888888888888,\"#fdca26\"],[1.0,\"#f0f921\"]],\"type\":\"contour\"}],\"contourcarpet\":[{\"colorbar\":{\"outlinewidth\":0,\"ticks\":\"\"},\"type\":\"contourcarpet\"}],\"heatmap\":[{\"colorbar\":{\"outlinewidth\":0,\"ticks\":\"\"},\"colorscale\":[[0.0,\"#0d0887\"],[0.1111111111111111,\"#46039f\"],[0.2222222222222222,\"#7201a8\"],[0.3333333333333333,\"#9c179e\"],[0.4444444444444444,\"#bd3786\"],[0.5555555555555556,\"#d8576b\"],[0.6666666666666666,\"#ed7953\"],[0.7777777777777778,\"#fb9f3a\"],[0.8888888888888888,\"#fdca26\"],[1.0,\"#f0f921\"]],\"type\":\"heatmap\"}],\"heatmapgl\":[{\"colorbar\":{\"outlinewidth\":0,\"ticks\":\"\"},\"colorscale\":[[0.0,\"#0d0887\"],[0.1111111111111111,\"#46039f\"],[0.2222222222222222,\"#7201a8\"],[0.3333333333333333,\"#9c179e\"],[0.4444444444444444,\"#bd3786\"],[0.5555555555555556,\"#d8576b\"],[0.6666666666666666,\"#ed7953\"],[0.7777777777777778,\"#fb9f3a\"],[0.8888888888888888,\"#fdca26\"],[1.0,\"#f0f921\"]],\"type\":\"heatmapgl\"}],\"histogram\":[{\"marker\":{\"pattern\":{\"fillmode\":\"overlay\",\"size\":10,\"solidity\":0.2}},\"type\":\"histogram\"}],\"histogram2d\":[{\"colorbar\":{\"outlinewidth\":0,\"ticks\":\"\"},\"colorscale\":[[0.0,\"#0d0887\"],[0.1111111111111111,\"#46039f\"],[0.2222222222222222,\"#7201a8\"],[0.3333333333333333,\"#9c179e\"],[0.4444444444444444,\"#bd3786\"],[0.5555555555555556,\"#d8576b\"],[0.6666666666666666,\"#ed7953\"],[0.7777777777777778,\"#fb9f3a\"],[0.8888888888888888,\"#fdca26\"],[1.0,\"#f0f921\"]],\"type\":\"histogram2d\"}],\"histogram2dcontour\":[{\"colorbar\":{\"outlinewidth\":0,\"ticks\":\"\"},\"colorscale\":[[0.0,\"#0d0887\"],[0.1111111111111111,\"#46039f\"],[0.2222222222222222,\"#7201a8\"],[0.3333333333333333,\"#9c179e\"],[0.4444444444444444,\"#bd3786\"],[0.5555555555555556,\"#d8576b\"],[0.6666666666666666,\"#ed7953\"],[0.7777777777777778,\"#fb9f3a\"],[0.8888888888888888,\"#fdca26\"],[1.0,\"#f0f921\"]],\"type\":\"histogram2dcontour\"}],\"mesh3d\":[{\"colorbar\":{\"outlinewidth\":0,\"ticks\":\"\"},\"type\":\"mesh3d\"}],\"parcoords\":[{\"line\":{\"colorbar\":{\"outlinewidth\":0,\"ticks\":\"\"}},\"type\":\"parcoords\"}],\"pie\":[{\"automargin\":true,\"type\":\"pie\"}],\"scatter\":[{\"marker\":{\"colorbar\":{\"outlinewidth\":0,\"ticks\":\"\"}},\"type\":\"scatter\"}],\"scatter3d\":[{\"line\":{\"colorbar\":{\"outlinewidth\":0,\"ticks\":\"\"}},\"marker\":{\"colorbar\":{\"outlinewidth\":0,\"ticks\":\"\"}},\"type\":\"scatter3d\"}],\"scattercarpet\":[{\"marker\":{\"colorbar\":{\"outlinewidth\":0,\"ticks\":\"\"}},\"type\":\"scattercarpet\"}],\"scattergeo\":[{\"marker\":{\"colorbar\":{\"outlinewidth\":0,\"ticks\":\"\"}},\"type\":\"scattergeo\"}],\"scattergl\":[{\"marker\":{\"colorbar\":{\"outlinewidth\":0,\"ticks\":\"\"}},\"type\":\"scattergl\"}],\"scattermapbox\":[{\"marker\":{\"colorbar\":{\"outlinewidth\":0,\"ticks\":\"\"}},\"type\":\"scattermapbox\"}],\"scatterpolar\":[{\"marker\":{\"colorbar\":{\"outlinewidth\":0,\"ticks\":\"\"}},\"type\":\"scatterpolar\"}],\"scatterpolargl\":[{\"marker\":{\"colorbar\":{\"outlinewidth\":0,\"ticks\":\"\"}},\"type\":\"scatterpolargl\"}],\"scatterternary\":[{\"marker\":{\"colorbar\":{\"outlinewidth\":0,\"ticks\":\"\"}},\"type\":\"scatterternary\"}],\"surface\":[{\"colorbar\":{\"outlinewidth\":0,\"ticks\":\"\"},\"colorscale\":[[0.0,\"#0d0887\"],[0.1111111111111111,\"#46039f\"],[0.2222222222222222,\"#7201a8\"],[0.3333333333333333,\"#9c179e\"],[0.4444444444444444,\"#bd3786\"],[0.5555555555555556,\"#d8576b\"],[0.6666666666666666,\"#ed7953\"],[0.7777777777777778,\"#fb9f3a\"],[0.8888888888888888,\"#fdca26\"],[1.0,\"#f0f921\"]],\"type\":\"surface\"}],\"table\":[{\"cells\":{\"fill\":{\"color\":\"#EBF0F8\"},\"line\":{\"color\":\"white\"}},\"header\":{\"fill\":{\"color\":\"#C8D4E3\"},\"line\":{\"color\":\"white\"}},\"type\":\"table\"}]},\"layout\":{\"annotationdefaults\":{\"arrowcolor\":\"#2a3f5f\",\"arrowhead\":0,\"arrowwidth\":1},\"autotypenumbers\":\"strict\",\"coloraxis\":{\"colorbar\":{\"outlinewidth\":0,\"ticks\":\"\"}},\"colorscale\":{\"diverging\":[[0,\"#8e0152\"],[0.1,\"#c51b7d\"],[0.2,\"#de77ae\"],[0.3,\"#f1b6da\"],[0.4,\"#fde0ef\"],[0.5,\"#f7f7f7\"],[0.6,\"#e6f5d0\"],[0.7,\"#b8e186\"],[0.8,\"#7fbc41\"],[0.9,\"#4d9221\"],[1,\"#276419\"]],\"sequential\":[[0.0,\"#0d0887\"],[0.1111111111111111,\"#46039f\"],[0.2222222222222222,\"#7201a8\"],[0.3333333333333333,\"#9c179e\"],[0.4444444444444444,\"#bd3786\"],[0.5555555555555556,\"#d8576b\"],[0.6666666666666666,\"#ed7953\"],[0.7777777777777778,\"#fb9f3a\"],[0.8888888888888888,\"#fdca26\"],[1.0,\"#f0f921\"]],\"sequentialminus\":[[0.0,\"#0d0887\"],[0.1111111111111111,\"#46039f\"],[0.2222222222222222,\"#7201a8\"],[0.3333333333333333,\"#9c179e\"],[0.4444444444444444,\"#bd3786\"],[0.5555555555555556,\"#d8576b\"],[0.6666666666666666,\"#ed7953\"],[0.7777777777777778,\"#fb9f3a\"],[0.8888888888888888,\"#fdca26\"],[1.0,\"#f0f921\"]]},\"colorway\":[\"#636efa\",\"#EF553B\",\"#00cc96\",\"#ab63fa\",\"#FFA15A\",\"#19d3f3\",\"#FF6692\",\"#B6E880\",\"#FF97FF\",\"#FECB52\"],\"font\":{\"color\":\"#2a3f5f\"},\"geo\":{\"bgcolor\":\"white\",\"lakecolor\":\"white\",\"landcolor\":\"#E5ECF6\",\"showlakes\":true,\"showland\":true,\"subunitcolor\":\"white\"},\"hoverlabel\":{\"align\":\"left\"},\"hovermode\":\"closest\",\"mapbox\":{\"style\":\"light\"},\"paper_bgcolor\":\"white\",\"plot_bgcolor\":\"#E5ECF6\",\"polar\":{\"angularaxis\":{\"gridcolor\":\"white\",\"linecolor\":\"white\",\"ticks\":\"\"},\"bgcolor\":\"#E5ECF6\",\"radialaxis\":{\"gridcolor\":\"white\",\"linecolor\":\"white\",\"ticks\":\"\"}},\"scene\":{\"xaxis\":{\"backgroundcolor\":\"#E5ECF6\",\"gridcolor\":\"white\",\"gridwidth\":2,\"linecolor\":\"white\",\"showbackground\":true,\"ticks\":\"\",\"zerolinecolor\":\"white\"},\"yaxis\":{\"backgroundcolor\":\"#E5ECF6\",\"gridcolor\":\"white\",\"gridwidth\":2,\"linecolor\":\"white\",\"showbackground\":true,\"ticks\":\"\",\"zerolinecolor\":\"white\"},\"zaxis\":{\"backgroundcolor\":\"#E5ECF6\",\"gridcolor\":\"white\",\"gridwidth\":2,\"linecolor\":\"white\",\"showbackground\":true,\"ticks\":\"\",\"zerolinecolor\":\"white\"}},\"shapedefaults\":{\"line\":{\"color\":\"#2a3f5f\"}},\"ternary\":{\"aaxis\":{\"gridcolor\":\"white\",\"linecolor\":\"white\",\"ticks\":\"\"},\"baxis\":{\"gridcolor\":\"white\",\"linecolor\":\"white\",\"ticks\":\"\"},\"bgcolor\":\"#E5ECF6\",\"caxis\":{\"gridcolor\":\"white\",\"linecolor\":\"white\",\"ticks\":\"\"}},\"title\":{\"x\":0.05},\"xaxis\":{\"automargin\":true,\"gridcolor\":\"white\",\"linecolor\":\"white\",\"ticks\":\"\",\"title\":{\"standoff\":15},\"zerolinecolor\":\"white\",\"zerolinewidth\":2},\"yaxis\":{\"automargin\":true,\"gridcolor\":\"white\",\"linecolor\":\"white\",\"ticks\":\"\",\"title\":{\"standoff\":15},\"zerolinecolor\":\"white\",\"zerolinewidth\":2}}},\"title\":{\"font\":{\"color\":\"#4D5663\"},\"text\":\"Effects of Price Changes on Subsistence Diet Nutrition for Beef (Raw Meat)\"},\"xaxis\":{\"gridcolor\":\"#E1E5ED\",\"showgrid\":true,\"tickfont\":{\"color\":\"#4D5663\"},\"title\":{\"font\":{\"color\":\"#4D5663\"},\"text\":\"Beef Price\"},\"zerolinecolor\":\"#E1E5ED\"},\"yaxis\":{\"gridcolor\":\"#E1E5ED\",\"showgrid\":true,\"tickfont\":{\"color\":\"#4D5663\"},\"title\":{\"font\":{\"color\":\"#4D5663\"},\"text\":\"Nutrients\"},\"zerolinecolor\":\"#E1E5ED\"}},                        {\"showLink\": true, \"linkText\": \"Export to plot.ly\", \"plotlyServerURL\": \"https://plot.ly\", \"responsive\": true}                    ).then(function(){\n",
       "                            \n",
       "var gd = document.getElementById('bf8f3c1d-bb0b-4004-b470-24e7311adc9b');\n",
       "var x = new MutationObserver(function (mutations, observer) {{\n",
       "        var display = window.getComputedStyle(gd).display;\n",
       "        if (!display || display === 'none') {{\n",
       "            console.log([gd, 'removed!']);\n",
       "            Plotly.purge(gd);\n",
       "            observer.disconnect();\n",
       "        }}\n",
       "}});\n",
       "\n",
       "// Listen for the removal of the full notebook cells\n",
       "var notebookContainer = gd.closest('#notebook-container');\n",
       "if (notebookContainer) {{\n",
       "    x.observe(notebookContainer, {childList: true});\n",
       "}}\n",
       "\n",
       "// Listen for the clearing of the current output cell\n",
       "var outputEl = gd.closest('.output');\n",
       "if (outputEl) {{\n",
       "    x.observe(outputEl, {childList: true});\n",
       "}}\n",
       "\n",
       "                        })                };                });            </script>        </div>"
      ]
     },
     "metadata": {},
     "output_type": "display_data"
    }
   ],
   "source": [
    "getPriceChangeNutrientMapGraph(\"meat\", Beef_Meat_response, \"Beef\")"
   ]
  },
  {
   "cell_type": "code",
   "execution_count": 127,
   "id": "47c9bc59",
   "metadata": {},
   "outputs": [
    {
     "data": {
      "application/vnd.plotly.v1+json": {
       "config": {
        "linkText": "Export to plot.ly",
        "plotlyServerURL": "https://plot.ly",
        "showLink": true
       },
       "data": [
        {
         "line": {
          "color": "rgba(255, 153, 51, 1.0)",
          "dash": "solid",
          "shape": "linear",
          "width": 1.3
         },
         "mode": "lines",
         "name": "Total lipid (fat)",
         "text": "",
         "type": "scatter",
         "x": [
          1.4319023928907797,
          2.1478535893361697,
          2.5774243072034033,
          2.8638047857815594,
          3.1501852643597155,
          3.436565742937871,
          3.722946221516027,
          4.009326700094183,
          4.295707178672339,
          5.727609571563119,
          11.455219143126238
         ],
         "y": [
          139.24113124452336,
          139.24113113186183,
          139.24111913244593,
          139.2411312443467,
          139.24113137363625,
          139.241130586415,
          139.24112807949862,
          139.2411329669923,
          139.24113093601096,
          139.2411312354134,
          139.2411312351082
         ]
        }
       ],
       "layout": {
        "legend": {
         "bgcolor": "#F5F6F9",
         "font": {
          "color": "#4D5663"
         }
        },
        "paper_bgcolor": "#F5F6F9",
        "plot_bgcolor": "#F5F6F9",
        "template": {
         "data": {
          "bar": [
           {
            "error_x": {
             "color": "#2a3f5f"
            },
            "error_y": {
             "color": "#2a3f5f"
            },
            "marker": {
             "line": {
              "color": "#E5ECF6",
              "width": 0.5
             },
             "pattern": {
              "fillmode": "overlay",
              "size": 10,
              "solidity": 0.2
             }
            },
            "type": "bar"
           }
          ],
          "barpolar": [
           {
            "marker": {
             "line": {
              "color": "#E5ECF6",
              "width": 0.5
             },
             "pattern": {
              "fillmode": "overlay",
              "size": 10,
              "solidity": 0.2
             }
            },
            "type": "barpolar"
           }
          ],
          "carpet": [
           {
            "aaxis": {
             "endlinecolor": "#2a3f5f",
             "gridcolor": "white",
             "linecolor": "white",
             "minorgridcolor": "white",
             "startlinecolor": "#2a3f5f"
            },
            "baxis": {
             "endlinecolor": "#2a3f5f",
             "gridcolor": "white",
             "linecolor": "white",
             "minorgridcolor": "white",
             "startlinecolor": "#2a3f5f"
            },
            "type": "carpet"
           }
          ],
          "choropleth": [
           {
            "colorbar": {
             "outlinewidth": 0,
             "ticks": ""
            },
            "type": "choropleth"
           }
          ],
          "contour": [
           {
            "colorbar": {
             "outlinewidth": 0,
             "ticks": ""
            },
            "colorscale": [
             [
              0,
              "#0d0887"
             ],
             [
              0.1111111111111111,
              "#46039f"
             ],
             [
              0.2222222222222222,
              "#7201a8"
             ],
             [
              0.3333333333333333,
              "#9c179e"
             ],
             [
              0.4444444444444444,
              "#bd3786"
             ],
             [
              0.5555555555555556,
              "#d8576b"
             ],
             [
              0.6666666666666666,
              "#ed7953"
             ],
             [
              0.7777777777777778,
              "#fb9f3a"
             ],
             [
              0.8888888888888888,
              "#fdca26"
             ],
             [
              1,
              "#f0f921"
             ]
            ],
            "type": "contour"
           }
          ],
          "contourcarpet": [
           {
            "colorbar": {
             "outlinewidth": 0,
             "ticks": ""
            },
            "type": "contourcarpet"
           }
          ],
          "heatmap": [
           {
            "colorbar": {
             "outlinewidth": 0,
             "ticks": ""
            },
            "colorscale": [
             [
              0,
              "#0d0887"
             ],
             [
              0.1111111111111111,
              "#46039f"
             ],
             [
              0.2222222222222222,
              "#7201a8"
             ],
             [
              0.3333333333333333,
              "#9c179e"
             ],
             [
              0.4444444444444444,
              "#bd3786"
             ],
             [
              0.5555555555555556,
              "#d8576b"
             ],
             [
              0.6666666666666666,
              "#ed7953"
             ],
             [
              0.7777777777777778,
              "#fb9f3a"
             ],
             [
              0.8888888888888888,
              "#fdca26"
             ],
             [
              1,
              "#f0f921"
             ]
            ],
            "type": "heatmap"
           }
          ],
          "heatmapgl": [
           {
            "colorbar": {
             "outlinewidth": 0,
             "ticks": ""
            },
            "colorscale": [
             [
              0,
              "#0d0887"
             ],
             [
              0.1111111111111111,
              "#46039f"
             ],
             [
              0.2222222222222222,
              "#7201a8"
             ],
             [
              0.3333333333333333,
              "#9c179e"
             ],
             [
              0.4444444444444444,
              "#bd3786"
             ],
             [
              0.5555555555555556,
              "#d8576b"
             ],
             [
              0.6666666666666666,
              "#ed7953"
             ],
             [
              0.7777777777777778,
              "#fb9f3a"
             ],
             [
              0.8888888888888888,
              "#fdca26"
             ],
             [
              1,
              "#f0f921"
             ]
            ],
            "type": "heatmapgl"
           }
          ],
          "histogram": [
           {
            "marker": {
             "pattern": {
              "fillmode": "overlay",
              "size": 10,
              "solidity": 0.2
             }
            },
            "type": "histogram"
           }
          ],
          "histogram2d": [
           {
            "colorbar": {
             "outlinewidth": 0,
             "ticks": ""
            },
            "colorscale": [
             [
              0,
              "#0d0887"
             ],
             [
              0.1111111111111111,
              "#46039f"
             ],
             [
              0.2222222222222222,
              "#7201a8"
             ],
             [
              0.3333333333333333,
              "#9c179e"
             ],
             [
              0.4444444444444444,
              "#bd3786"
             ],
             [
              0.5555555555555556,
              "#d8576b"
             ],
             [
              0.6666666666666666,
              "#ed7953"
             ],
             [
              0.7777777777777778,
              "#fb9f3a"
             ],
             [
              0.8888888888888888,
              "#fdca26"
             ],
             [
              1,
              "#f0f921"
             ]
            ],
            "type": "histogram2d"
           }
          ],
          "histogram2dcontour": [
           {
            "colorbar": {
             "outlinewidth": 0,
             "ticks": ""
            },
            "colorscale": [
             [
              0,
              "#0d0887"
             ],
             [
              0.1111111111111111,
              "#46039f"
             ],
             [
              0.2222222222222222,
              "#7201a8"
             ],
             [
              0.3333333333333333,
              "#9c179e"
             ],
             [
              0.4444444444444444,
              "#bd3786"
             ],
             [
              0.5555555555555556,
              "#d8576b"
             ],
             [
              0.6666666666666666,
              "#ed7953"
             ],
             [
              0.7777777777777778,
              "#fb9f3a"
             ],
             [
              0.8888888888888888,
              "#fdca26"
             ],
             [
              1,
              "#f0f921"
             ]
            ],
            "type": "histogram2dcontour"
           }
          ],
          "mesh3d": [
           {
            "colorbar": {
             "outlinewidth": 0,
             "ticks": ""
            },
            "type": "mesh3d"
           }
          ],
          "parcoords": [
           {
            "line": {
             "colorbar": {
              "outlinewidth": 0,
              "ticks": ""
             }
            },
            "type": "parcoords"
           }
          ],
          "pie": [
           {
            "automargin": true,
            "type": "pie"
           }
          ],
          "scatter": [
           {
            "marker": {
             "colorbar": {
              "outlinewidth": 0,
              "ticks": ""
             }
            },
            "type": "scatter"
           }
          ],
          "scatter3d": [
           {
            "line": {
             "colorbar": {
              "outlinewidth": 0,
              "ticks": ""
             }
            },
            "marker": {
             "colorbar": {
              "outlinewidth": 0,
              "ticks": ""
             }
            },
            "type": "scatter3d"
           }
          ],
          "scattercarpet": [
           {
            "marker": {
             "colorbar": {
              "outlinewidth": 0,
              "ticks": ""
             }
            },
            "type": "scattercarpet"
           }
          ],
          "scattergeo": [
           {
            "marker": {
             "colorbar": {
              "outlinewidth": 0,
              "ticks": ""
             }
            },
            "type": "scattergeo"
           }
          ],
          "scattergl": [
           {
            "marker": {
             "colorbar": {
              "outlinewidth": 0,
              "ticks": ""
             }
            },
            "type": "scattergl"
           }
          ],
          "scattermapbox": [
           {
            "marker": {
             "colorbar": {
              "outlinewidth": 0,
              "ticks": ""
             }
            },
            "type": "scattermapbox"
           }
          ],
          "scatterpolar": [
           {
            "marker": {
             "colorbar": {
              "outlinewidth": 0,
              "ticks": ""
             }
            },
            "type": "scatterpolar"
           }
          ],
          "scatterpolargl": [
           {
            "marker": {
             "colorbar": {
              "outlinewidth": 0,
              "ticks": ""
             }
            },
            "type": "scatterpolargl"
           }
          ],
          "scatterternary": [
           {
            "marker": {
             "colorbar": {
              "outlinewidth": 0,
              "ticks": ""
             }
            },
            "type": "scatterternary"
           }
          ],
          "surface": [
           {
            "colorbar": {
             "outlinewidth": 0,
             "ticks": ""
            },
            "colorscale": [
             [
              0,
              "#0d0887"
             ],
             [
              0.1111111111111111,
              "#46039f"
             ],
             [
              0.2222222222222222,
              "#7201a8"
             ],
             [
              0.3333333333333333,
              "#9c179e"
             ],
             [
              0.4444444444444444,
              "#bd3786"
             ],
             [
              0.5555555555555556,
              "#d8576b"
             ],
             [
              0.6666666666666666,
              "#ed7953"
             ],
             [
              0.7777777777777778,
              "#fb9f3a"
             ],
             [
              0.8888888888888888,
              "#fdca26"
             ],
             [
              1,
              "#f0f921"
             ]
            ],
            "type": "surface"
           }
          ],
          "table": [
           {
            "cells": {
             "fill": {
              "color": "#EBF0F8"
             },
             "line": {
              "color": "white"
             }
            },
            "header": {
             "fill": {
              "color": "#C8D4E3"
             },
             "line": {
              "color": "white"
             }
            },
            "type": "table"
           }
          ]
         },
         "layout": {
          "annotationdefaults": {
           "arrowcolor": "#2a3f5f",
           "arrowhead": 0,
           "arrowwidth": 1
          },
          "autotypenumbers": "strict",
          "coloraxis": {
           "colorbar": {
            "outlinewidth": 0,
            "ticks": ""
           }
          },
          "colorscale": {
           "diverging": [
            [
             0,
             "#8e0152"
            ],
            [
             0.1,
             "#c51b7d"
            ],
            [
             0.2,
             "#de77ae"
            ],
            [
             0.3,
             "#f1b6da"
            ],
            [
             0.4,
             "#fde0ef"
            ],
            [
             0.5,
             "#f7f7f7"
            ],
            [
             0.6,
             "#e6f5d0"
            ],
            [
             0.7,
             "#b8e186"
            ],
            [
             0.8,
             "#7fbc41"
            ],
            [
             0.9,
             "#4d9221"
            ],
            [
             1,
             "#276419"
            ]
           ],
           "sequential": [
            [
             0,
             "#0d0887"
            ],
            [
             0.1111111111111111,
             "#46039f"
            ],
            [
             0.2222222222222222,
             "#7201a8"
            ],
            [
             0.3333333333333333,
             "#9c179e"
            ],
            [
             0.4444444444444444,
             "#bd3786"
            ],
            [
             0.5555555555555556,
             "#d8576b"
            ],
            [
             0.6666666666666666,
             "#ed7953"
            ],
            [
             0.7777777777777778,
             "#fb9f3a"
            ],
            [
             0.8888888888888888,
             "#fdca26"
            ],
            [
             1,
             "#f0f921"
            ]
           ],
           "sequentialminus": [
            [
             0,
             "#0d0887"
            ],
            [
             0.1111111111111111,
             "#46039f"
            ],
            [
             0.2222222222222222,
             "#7201a8"
            ],
            [
             0.3333333333333333,
             "#9c179e"
            ],
            [
             0.4444444444444444,
             "#bd3786"
            ],
            [
             0.5555555555555556,
             "#d8576b"
            ],
            [
             0.6666666666666666,
             "#ed7953"
            ],
            [
             0.7777777777777778,
             "#fb9f3a"
            ],
            [
             0.8888888888888888,
             "#fdca26"
            ],
            [
             1,
             "#f0f921"
            ]
           ]
          },
          "colorway": [
           "#636efa",
           "#EF553B",
           "#00cc96",
           "#ab63fa",
           "#FFA15A",
           "#19d3f3",
           "#FF6692",
           "#B6E880",
           "#FF97FF",
           "#FECB52"
          ],
          "font": {
           "color": "#2a3f5f"
          },
          "geo": {
           "bgcolor": "white",
           "lakecolor": "white",
           "landcolor": "#E5ECF6",
           "showlakes": true,
           "showland": true,
           "subunitcolor": "white"
          },
          "hoverlabel": {
           "align": "left"
          },
          "hovermode": "closest",
          "mapbox": {
           "style": "light"
          },
          "paper_bgcolor": "white",
          "plot_bgcolor": "#E5ECF6",
          "polar": {
           "angularaxis": {
            "gridcolor": "white",
            "linecolor": "white",
            "ticks": ""
           },
           "bgcolor": "#E5ECF6",
           "radialaxis": {
            "gridcolor": "white",
            "linecolor": "white",
            "ticks": ""
           }
          },
          "scene": {
           "xaxis": {
            "backgroundcolor": "#E5ECF6",
            "gridcolor": "white",
            "gridwidth": 2,
            "linecolor": "white",
            "showbackground": true,
            "ticks": "",
            "zerolinecolor": "white"
           },
           "yaxis": {
            "backgroundcolor": "#E5ECF6",
            "gridcolor": "white",
            "gridwidth": 2,
            "linecolor": "white",
            "showbackground": true,
            "ticks": "",
            "zerolinecolor": "white"
           },
           "zaxis": {
            "backgroundcolor": "#E5ECF6",
            "gridcolor": "white",
            "gridwidth": 2,
            "linecolor": "white",
            "showbackground": true,
            "ticks": "",
            "zerolinecolor": "white"
           }
          },
          "shapedefaults": {
           "line": {
            "color": "#2a3f5f"
           }
          },
          "ternary": {
           "aaxis": {
            "gridcolor": "white",
            "linecolor": "white",
            "ticks": ""
           },
           "baxis": {
            "gridcolor": "white",
            "linecolor": "white",
            "ticks": ""
           },
           "bgcolor": "#E5ECF6",
           "caxis": {
            "gridcolor": "white",
            "linecolor": "white",
            "ticks": ""
           }
          },
          "title": {
           "x": 0.05
          },
          "xaxis": {
           "automargin": true,
           "gridcolor": "white",
           "linecolor": "white",
           "ticks": "",
           "title": {
            "standoff": 15
           },
           "zerolinecolor": "white",
           "zerolinewidth": 2
          },
          "yaxis": {
           "automargin": true,
           "gridcolor": "white",
           "linecolor": "white",
           "ticks": "",
           "title": {
            "standoff": 15
           },
           "zerolinecolor": "white",
           "zerolinewidth": 2
          }
         }
        },
        "title": {
         "font": {
          "color": "#4D5663"
         },
         "text": "Effects of Price Changes on Subsistence Diet Nutrition for Beef (USDA)"
        },
        "xaxis": {
         "gridcolor": "#E1E5ED",
         "showgrid": true,
         "tickfont": {
          "color": "#4D5663"
         },
         "title": {
          "font": {
           "color": "#4D5663"
          },
          "text": "Beef Price"
         },
         "zerolinecolor": "#E1E5ED"
        },
        "yaxis": {
         "gridcolor": "#E1E5ED",
         "showgrid": true,
         "tickfont": {
          "color": "#4D5663"
         },
         "title": {
          "font": {
           "color": "#4D5663"
          },
          "text": "Nutrients"
         },
         "zerolinecolor": "#E1E5ED"
        }
       }
      },
      "text/html": [
       "<div>                            <div id=\"adbac471-c10b-4fbb-afac-88a7f77fc28b\" class=\"plotly-graph-div\" style=\"height:525px; width:100%;\"></div>            <script type=\"text/javascript\">                require([\"plotly\"], function(Plotly) {                    window.PLOTLYENV=window.PLOTLYENV || {};\n",
       "                    window.PLOTLYENV.BASE_URL='https://plot.ly';                                    if (document.getElementById(\"adbac471-c10b-4fbb-afac-88a7f77fc28b\")) {                    Plotly.newPlot(                        \"adbac471-c10b-4fbb-afac-88a7f77fc28b\",                        [{\"line\":{\"color\":\"rgba(255, 153, 51, 1.0)\",\"dash\":\"solid\",\"shape\":\"linear\",\"width\":1.3},\"mode\":\"lines\",\"name\":\"Total lipid (fat)\",\"text\":\"\",\"type\":\"scatter\",\"x\":[1.4319023928907797,2.1478535893361697,2.5774243072034033,2.8638047857815594,3.1501852643597155,3.436565742937871,3.722946221516027,4.009326700094183,4.295707178672339,5.727609571563119,11.455219143126238],\"y\":[139.24113124452336,139.24113113186183,139.24111913244593,139.2411312443467,139.24113137363625,139.241130586415,139.24112807949862,139.2411329669923,139.24113093601096,139.2411312354134,139.2411312351082]}],                        {\"legend\":{\"bgcolor\":\"#F5F6F9\",\"font\":{\"color\":\"#4D5663\"}},\"paper_bgcolor\":\"#F5F6F9\",\"plot_bgcolor\":\"#F5F6F9\",\"template\":{\"data\":{\"bar\":[{\"error_x\":{\"color\":\"#2a3f5f\"},\"error_y\":{\"color\":\"#2a3f5f\"},\"marker\":{\"line\":{\"color\":\"#E5ECF6\",\"width\":0.5},\"pattern\":{\"fillmode\":\"overlay\",\"size\":10,\"solidity\":0.2}},\"type\":\"bar\"}],\"barpolar\":[{\"marker\":{\"line\":{\"color\":\"#E5ECF6\",\"width\":0.5},\"pattern\":{\"fillmode\":\"overlay\",\"size\":10,\"solidity\":0.2}},\"type\":\"barpolar\"}],\"carpet\":[{\"aaxis\":{\"endlinecolor\":\"#2a3f5f\",\"gridcolor\":\"white\",\"linecolor\":\"white\",\"minorgridcolor\":\"white\",\"startlinecolor\":\"#2a3f5f\"},\"baxis\":{\"endlinecolor\":\"#2a3f5f\",\"gridcolor\":\"white\",\"linecolor\":\"white\",\"minorgridcolor\":\"white\",\"startlinecolor\":\"#2a3f5f\"},\"type\":\"carpet\"}],\"choropleth\":[{\"colorbar\":{\"outlinewidth\":0,\"ticks\":\"\"},\"type\":\"choropleth\"}],\"contour\":[{\"colorbar\":{\"outlinewidth\":0,\"ticks\":\"\"},\"colorscale\":[[0.0,\"#0d0887\"],[0.1111111111111111,\"#46039f\"],[0.2222222222222222,\"#7201a8\"],[0.3333333333333333,\"#9c179e\"],[0.4444444444444444,\"#bd3786\"],[0.5555555555555556,\"#d8576b\"],[0.6666666666666666,\"#ed7953\"],[0.7777777777777778,\"#fb9f3a\"],[0.8888888888888888,\"#fdca26\"],[1.0,\"#f0f921\"]],\"type\":\"contour\"}],\"contourcarpet\":[{\"colorbar\":{\"outlinewidth\":0,\"ticks\":\"\"},\"type\":\"contourcarpet\"}],\"heatmap\":[{\"colorbar\":{\"outlinewidth\":0,\"ticks\":\"\"},\"colorscale\":[[0.0,\"#0d0887\"],[0.1111111111111111,\"#46039f\"],[0.2222222222222222,\"#7201a8\"],[0.3333333333333333,\"#9c179e\"],[0.4444444444444444,\"#bd3786\"],[0.5555555555555556,\"#d8576b\"],[0.6666666666666666,\"#ed7953\"],[0.7777777777777778,\"#fb9f3a\"],[0.8888888888888888,\"#fdca26\"],[1.0,\"#f0f921\"]],\"type\":\"heatmap\"}],\"heatmapgl\":[{\"colorbar\":{\"outlinewidth\":0,\"ticks\":\"\"},\"colorscale\":[[0.0,\"#0d0887\"],[0.1111111111111111,\"#46039f\"],[0.2222222222222222,\"#7201a8\"],[0.3333333333333333,\"#9c179e\"],[0.4444444444444444,\"#bd3786\"],[0.5555555555555556,\"#d8576b\"],[0.6666666666666666,\"#ed7953\"],[0.7777777777777778,\"#fb9f3a\"],[0.8888888888888888,\"#fdca26\"],[1.0,\"#f0f921\"]],\"type\":\"heatmapgl\"}],\"histogram\":[{\"marker\":{\"pattern\":{\"fillmode\":\"overlay\",\"size\":10,\"solidity\":0.2}},\"type\":\"histogram\"}],\"histogram2d\":[{\"colorbar\":{\"outlinewidth\":0,\"ticks\":\"\"},\"colorscale\":[[0.0,\"#0d0887\"],[0.1111111111111111,\"#46039f\"],[0.2222222222222222,\"#7201a8\"],[0.3333333333333333,\"#9c179e\"],[0.4444444444444444,\"#bd3786\"],[0.5555555555555556,\"#d8576b\"],[0.6666666666666666,\"#ed7953\"],[0.7777777777777778,\"#fb9f3a\"],[0.8888888888888888,\"#fdca26\"],[1.0,\"#f0f921\"]],\"type\":\"histogram2d\"}],\"histogram2dcontour\":[{\"colorbar\":{\"outlinewidth\":0,\"ticks\":\"\"},\"colorscale\":[[0.0,\"#0d0887\"],[0.1111111111111111,\"#46039f\"],[0.2222222222222222,\"#7201a8\"],[0.3333333333333333,\"#9c179e\"],[0.4444444444444444,\"#bd3786\"],[0.5555555555555556,\"#d8576b\"],[0.6666666666666666,\"#ed7953\"],[0.7777777777777778,\"#fb9f3a\"],[0.8888888888888888,\"#fdca26\"],[1.0,\"#f0f921\"]],\"type\":\"histogram2dcontour\"}],\"mesh3d\":[{\"colorbar\":{\"outlinewidth\":0,\"ticks\":\"\"},\"type\":\"mesh3d\"}],\"parcoords\":[{\"line\":{\"colorbar\":{\"outlinewidth\":0,\"ticks\":\"\"}},\"type\":\"parcoords\"}],\"pie\":[{\"automargin\":true,\"type\":\"pie\"}],\"scatter\":[{\"marker\":{\"colorbar\":{\"outlinewidth\":0,\"ticks\":\"\"}},\"type\":\"scatter\"}],\"scatter3d\":[{\"line\":{\"colorbar\":{\"outlinewidth\":0,\"ticks\":\"\"}},\"marker\":{\"colorbar\":{\"outlinewidth\":0,\"ticks\":\"\"}},\"type\":\"scatter3d\"}],\"scattercarpet\":[{\"marker\":{\"colorbar\":{\"outlinewidth\":0,\"ticks\":\"\"}},\"type\":\"scattercarpet\"}],\"scattergeo\":[{\"marker\":{\"colorbar\":{\"outlinewidth\":0,\"ticks\":\"\"}},\"type\":\"scattergeo\"}],\"scattergl\":[{\"marker\":{\"colorbar\":{\"outlinewidth\":0,\"ticks\":\"\"}},\"type\":\"scattergl\"}],\"scattermapbox\":[{\"marker\":{\"colorbar\":{\"outlinewidth\":0,\"ticks\":\"\"}},\"type\":\"scattermapbox\"}],\"scatterpolar\":[{\"marker\":{\"colorbar\":{\"outlinewidth\":0,\"ticks\":\"\"}},\"type\":\"scatterpolar\"}],\"scatterpolargl\":[{\"marker\":{\"colorbar\":{\"outlinewidth\":0,\"ticks\":\"\"}},\"type\":\"scatterpolargl\"}],\"scatterternary\":[{\"marker\":{\"colorbar\":{\"outlinewidth\":0,\"ticks\":\"\"}},\"type\":\"scatterternary\"}],\"surface\":[{\"colorbar\":{\"outlinewidth\":0,\"ticks\":\"\"},\"colorscale\":[[0.0,\"#0d0887\"],[0.1111111111111111,\"#46039f\"],[0.2222222222222222,\"#7201a8\"],[0.3333333333333333,\"#9c179e\"],[0.4444444444444444,\"#bd3786\"],[0.5555555555555556,\"#d8576b\"],[0.6666666666666666,\"#ed7953\"],[0.7777777777777778,\"#fb9f3a\"],[0.8888888888888888,\"#fdca26\"],[1.0,\"#f0f921\"]],\"type\":\"surface\"}],\"table\":[{\"cells\":{\"fill\":{\"color\":\"#EBF0F8\"},\"line\":{\"color\":\"white\"}},\"header\":{\"fill\":{\"color\":\"#C8D4E3\"},\"line\":{\"color\":\"white\"}},\"type\":\"table\"}]},\"layout\":{\"annotationdefaults\":{\"arrowcolor\":\"#2a3f5f\",\"arrowhead\":0,\"arrowwidth\":1},\"autotypenumbers\":\"strict\",\"coloraxis\":{\"colorbar\":{\"outlinewidth\":0,\"ticks\":\"\"}},\"colorscale\":{\"diverging\":[[0,\"#8e0152\"],[0.1,\"#c51b7d\"],[0.2,\"#de77ae\"],[0.3,\"#f1b6da\"],[0.4,\"#fde0ef\"],[0.5,\"#f7f7f7\"],[0.6,\"#e6f5d0\"],[0.7,\"#b8e186\"],[0.8,\"#7fbc41\"],[0.9,\"#4d9221\"],[1,\"#276419\"]],\"sequential\":[[0.0,\"#0d0887\"],[0.1111111111111111,\"#46039f\"],[0.2222222222222222,\"#7201a8\"],[0.3333333333333333,\"#9c179e\"],[0.4444444444444444,\"#bd3786\"],[0.5555555555555556,\"#d8576b\"],[0.6666666666666666,\"#ed7953\"],[0.7777777777777778,\"#fb9f3a\"],[0.8888888888888888,\"#fdca26\"],[1.0,\"#f0f921\"]],\"sequentialminus\":[[0.0,\"#0d0887\"],[0.1111111111111111,\"#46039f\"],[0.2222222222222222,\"#7201a8\"],[0.3333333333333333,\"#9c179e\"],[0.4444444444444444,\"#bd3786\"],[0.5555555555555556,\"#d8576b\"],[0.6666666666666666,\"#ed7953\"],[0.7777777777777778,\"#fb9f3a\"],[0.8888888888888888,\"#fdca26\"],[1.0,\"#f0f921\"]]},\"colorway\":[\"#636efa\",\"#EF553B\",\"#00cc96\",\"#ab63fa\",\"#FFA15A\",\"#19d3f3\",\"#FF6692\",\"#B6E880\",\"#FF97FF\",\"#FECB52\"],\"font\":{\"color\":\"#2a3f5f\"},\"geo\":{\"bgcolor\":\"white\",\"lakecolor\":\"white\",\"landcolor\":\"#E5ECF6\",\"showlakes\":true,\"showland\":true,\"subunitcolor\":\"white\"},\"hoverlabel\":{\"align\":\"left\"},\"hovermode\":\"closest\",\"mapbox\":{\"style\":\"light\"},\"paper_bgcolor\":\"white\",\"plot_bgcolor\":\"#E5ECF6\",\"polar\":{\"angularaxis\":{\"gridcolor\":\"white\",\"linecolor\":\"white\",\"ticks\":\"\"},\"bgcolor\":\"#E5ECF6\",\"radialaxis\":{\"gridcolor\":\"white\",\"linecolor\":\"white\",\"ticks\":\"\"}},\"scene\":{\"xaxis\":{\"backgroundcolor\":\"#E5ECF6\",\"gridcolor\":\"white\",\"gridwidth\":2,\"linecolor\":\"white\",\"showbackground\":true,\"ticks\":\"\",\"zerolinecolor\":\"white\"},\"yaxis\":{\"backgroundcolor\":\"#E5ECF6\",\"gridcolor\":\"white\",\"gridwidth\":2,\"linecolor\":\"white\",\"showbackground\":true,\"ticks\":\"\",\"zerolinecolor\":\"white\"},\"zaxis\":{\"backgroundcolor\":\"#E5ECF6\",\"gridcolor\":\"white\",\"gridwidth\":2,\"linecolor\":\"white\",\"showbackground\":true,\"ticks\":\"\",\"zerolinecolor\":\"white\"}},\"shapedefaults\":{\"line\":{\"color\":\"#2a3f5f\"}},\"ternary\":{\"aaxis\":{\"gridcolor\":\"white\",\"linecolor\":\"white\",\"ticks\":\"\"},\"baxis\":{\"gridcolor\":\"white\",\"linecolor\":\"white\",\"ticks\":\"\"},\"bgcolor\":\"#E5ECF6\",\"caxis\":{\"gridcolor\":\"white\",\"linecolor\":\"white\",\"ticks\":\"\"}},\"title\":{\"x\":0.05},\"xaxis\":{\"automargin\":true,\"gridcolor\":\"white\",\"linecolor\":\"white\",\"ticks\":\"\",\"title\":{\"standoff\":15},\"zerolinecolor\":\"white\",\"zerolinewidth\":2},\"yaxis\":{\"automargin\":true,\"gridcolor\":\"white\",\"linecolor\":\"white\",\"ticks\":\"\",\"title\":{\"standoff\":15},\"zerolinecolor\":\"white\",\"zerolinewidth\":2}}},\"title\":{\"font\":{\"color\":\"#4D5663\"},\"text\":\"Effects of Price Changes on Subsistence Diet Nutrition for Beef (USDA)\"},\"xaxis\":{\"gridcolor\":\"#E1E5ED\",\"showgrid\":true,\"tickfont\":{\"color\":\"#4D5663\"},\"title\":{\"font\":{\"color\":\"#4D5663\"},\"text\":\"Beef Price\"},\"zerolinecolor\":\"#E1E5ED\"},\"yaxis\":{\"gridcolor\":\"#E1E5ED\",\"showgrid\":true,\"tickfont\":{\"color\":\"#4D5663\"},\"title\":{\"font\":{\"color\":\"#4D5663\"},\"text\":\"Nutrients\"},\"zerolinecolor\":\"#E1E5ED\"}},                        {\"showLink\": true, \"linkText\": \"Export to plot.ly\", \"plotlyServerURL\": \"https://plot.ly\", \"responsive\": true}                    ).then(function(){\n",
       "                            \n",
       "var gd = document.getElementById('adbac471-c10b-4fbb-afac-88a7f77fc28b');\n",
       "var x = new MutationObserver(function (mutations, observer) {{\n",
       "        var display = window.getComputedStyle(gd).display;\n",
       "        if (!display || display === 'none') {{\n",
       "            console.log([gd, 'removed!']);\n",
       "            Plotly.purge(gd);\n",
       "            observer.disconnect();\n",
       "        }}\n",
       "}});\n",
       "\n",
       "// Listen for the removal of the full notebook cells\n",
       "var notebookContainer = gd.closest('#notebook-container');\n",
       "if (notebookContainer) {{\n",
       "    x.observe(notebookContainer, {childList: true});\n",
       "}}\n",
       "\n",
       "// Listen for the clearing of the current output cell\n",
       "var outputEl = gd.closest('.output');\n",
       "if (outputEl) {{\n",
       "    x.observe(outputEl, {childList: true});\n",
       "}}\n",
       "\n",
       "                        })                };                });            </script>        </div>"
      ]
     },
     "metadata": {},
     "output_type": "display_data"
    }
   ],
   "source": [
    "getPriceChangeNutrientMapGraph(\"usda\", Beef_USDA_response, \"Beef\")"
   ]
  },
  {
   "cell_type": "code",
   "execution_count": 128,
   "id": "2f80c38f",
   "metadata": {},
   "outputs": [
    {
     "data": {
      "application/vnd.plotly.v1+json": {
       "config": {
        "linkText": "Export to plot.ly",
        "plotlyServerURL": "https://plot.ly",
        "showLink": true
       },
       "data": [
        {
         "line": {
          "color": "rgba(255, 153, 51, 1.0)",
          "dash": "solid",
          "shape": "linear",
          "width": 1.3
         },
         "mode": "lines",
         "name": "Carbohydrate, by difference",
         "text": "",
         "type": "scatter",
         "x": [
          0.16424438532773378,
          0.24636657799160067,
          0.2956398935899208,
          0.32848877065546755,
          0.36133764772101434,
          0.3941865247865611,
          0.4270354018521078,
          0.45988427891765454,
          0.49273315598320133,
          0.6569775413109351,
          1.3139550826218702
         ],
         "y": [
          251.91581169151544,
          228.13658304292096,
          228.13658265938045,
          228.136583183573,
          228.13658340321734,
          228.13658357437322,
          228.1365347486847,
          228.13658365271132,
          228.13658334239844,
          228.13658314485366,
          228.13658370150762
         ]
        },
        {
         "line": {
          "color": "rgba(55, 128, 191, 1.0)",
          "dash": "solid",
          "shape": "linear",
          "width": 1.3
         },
         "mode": "lines",
         "name": "Protein",
         "text": "",
         "type": "scatter",
         "x": [
          0.16424438532773378,
          0.24636657799160067,
          0.2956398935899208,
          0.32848877065546755,
          0.36133764772101434,
          0.3941865247865611,
          0.4270354018521078,
          0.45988427891765454,
          0.49273315598320133,
          0.6569775413109351,
          1.3139550826218702
         ],
         "y": [
          84.31267451928736,
          101.90416522833888,
          101.90416953135204,
          101.90416993896008,
          101.90417008371594,
          101.90417017974262,
          101.9041284284923,
          101.90417022192922,
          101.90417003869842,
          101.90416991738711,
          101.9041702508081
         ]
        },
        {
         "line": {
          "color": "rgba(50, 171, 96, 1.0)",
          "dash": "solid",
          "shape": "linear",
          "width": 1.3
         },
         "mode": "lines",
         "name": "Total lipid (fat)",
         "text": "",
         "type": "scatter",
         "x": [
          0.16424438532773378,
          0.24636657799160067,
          0.2956398935899208,
          0.32848877065546755,
          0.36133764772101434,
          0.3941865247865611,
          0.4270354018521078,
          0.45988427891765454,
          0.49273315598320133,
          0.6569775413109351,
          1.3139550826218702
         ],
         "y": [
          115.94461285644527,
          161.07297392583817,
          161.0729756874761,
          161.07297579784682,
          161.07297579498663,
          161.07297578692484,
          161.0729531882553,
          161.07297577580877,
          161.072975774313,
          161.07297574270933,
          161.07297577659057
         ]
        }
       ],
       "layout": {
        "legend": {
         "bgcolor": "#F5F6F9",
         "font": {
          "color": "#4D5663"
         }
        },
        "paper_bgcolor": "#F5F6F9",
        "plot_bgcolor": "#F5F6F9",
        "template": {
         "data": {
          "bar": [
           {
            "error_x": {
             "color": "#2a3f5f"
            },
            "error_y": {
             "color": "#2a3f5f"
            },
            "marker": {
             "line": {
              "color": "#E5ECF6",
              "width": 0.5
             },
             "pattern": {
              "fillmode": "overlay",
              "size": 10,
              "solidity": 0.2
             }
            },
            "type": "bar"
           }
          ],
          "barpolar": [
           {
            "marker": {
             "line": {
              "color": "#E5ECF6",
              "width": 0.5
             },
             "pattern": {
              "fillmode": "overlay",
              "size": 10,
              "solidity": 0.2
             }
            },
            "type": "barpolar"
           }
          ],
          "carpet": [
           {
            "aaxis": {
             "endlinecolor": "#2a3f5f",
             "gridcolor": "white",
             "linecolor": "white",
             "minorgridcolor": "white",
             "startlinecolor": "#2a3f5f"
            },
            "baxis": {
             "endlinecolor": "#2a3f5f",
             "gridcolor": "white",
             "linecolor": "white",
             "minorgridcolor": "white",
             "startlinecolor": "#2a3f5f"
            },
            "type": "carpet"
           }
          ],
          "choropleth": [
           {
            "colorbar": {
             "outlinewidth": 0,
             "ticks": ""
            },
            "type": "choropleth"
           }
          ],
          "contour": [
           {
            "colorbar": {
             "outlinewidth": 0,
             "ticks": ""
            },
            "colorscale": [
             [
              0,
              "#0d0887"
             ],
             [
              0.1111111111111111,
              "#46039f"
             ],
             [
              0.2222222222222222,
              "#7201a8"
             ],
             [
              0.3333333333333333,
              "#9c179e"
             ],
             [
              0.4444444444444444,
              "#bd3786"
             ],
             [
              0.5555555555555556,
              "#d8576b"
             ],
             [
              0.6666666666666666,
              "#ed7953"
             ],
             [
              0.7777777777777778,
              "#fb9f3a"
             ],
             [
              0.8888888888888888,
              "#fdca26"
             ],
             [
              1,
              "#f0f921"
             ]
            ],
            "type": "contour"
           }
          ],
          "contourcarpet": [
           {
            "colorbar": {
             "outlinewidth": 0,
             "ticks": ""
            },
            "type": "contourcarpet"
           }
          ],
          "heatmap": [
           {
            "colorbar": {
             "outlinewidth": 0,
             "ticks": ""
            },
            "colorscale": [
             [
              0,
              "#0d0887"
             ],
             [
              0.1111111111111111,
              "#46039f"
             ],
             [
              0.2222222222222222,
              "#7201a8"
             ],
             [
              0.3333333333333333,
              "#9c179e"
             ],
             [
              0.4444444444444444,
              "#bd3786"
             ],
             [
              0.5555555555555556,
              "#d8576b"
             ],
             [
              0.6666666666666666,
              "#ed7953"
             ],
             [
              0.7777777777777778,
              "#fb9f3a"
             ],
             [
              0.8888888888888888,
              "#fdca26"
             ],
             [
              1,
              "#f0f921"
             ]
            ],
            "type": "heatmap"
           }
          ],
          "heatmapgl": [
           {
            "colorbar": {
             "outlinewidth": 0,
             "ticks": ""
            },
            "colorscale": [
             [
              0,
              "#0d0887"
             ],
             [
              0.1111111111111111,
              "#46039f"
             ],
             [
              0.2222222222222222,
              "#7201a8"
             ],
             [
              0.3333333333333333,
              "#9c179e"
             ],
             [
              0.4444444444444444,
              "#bd3786"
             ],
             [
              0.5555555555555556,
              "#d8576b"
             ],
             [
              0.6666666666666666,
              "#ed7953"
             ],
             [
              0.7777777777777778,
              "#fb9f3a"
             ],
             [
              0.8888888888888888,
              "#fdca26"
             ],
             [
              1,
              "#f0f921"
             ]
            ],
            "type": "heatmapgl"
           }
          ],
          "histogram": [
           {
            "marker": {
             "pattern": {
              "fillmode": "overlay",
              "size": 10,
              "solidity": 0.2
             }
            },
            "type": "histogram"
           }
          ],
          "histogram2d": [
           {
            "colorbar": {
             "outlinewidth": 0,
             "ticks": ""
            },
            "colorscale": [
             [
              0,
              "#0d0887"
             ],
             [
              0.1111111111111111,
              "#46039f"
             ],
             [
              0.2222222222222222,
              "#7201a8"
             ],
             [
              0.3333333333333333,
              "#9c179e"
             ],
             [
              0.4444444444444444,
              "#bd3786"
             ],
             [
              0.5555555555555556,
              "#d8576b"
             ],
             [
              0.6666666666666666,
              "#ed7953"
             ],
             [
              0.7777777777777778,
              "#fb9f3a"
             ],
             [
              0.8888888888888888,
              "#fdca26"
             ],
             [
              1,
              "#f0f921"
             ]
            ],
            "type": "histogram2d"
           }
          ],
          "histogram2dcontour": [
           {
            "colorbar": {
             "outlinewidth": 0,
             "ticks": ""
            },
            "colorscale": [
             [
              0,
              "#0d0887"
             ],
             [
              0.1111111111111111,
              "#46039f"
             ],
             [
              0.2222222222222222,
              "#7201a8"
             ],
             [
              0.3333333333333333,
              "#9c179e"
             ],
             [
              0.4444444444444444,
              "#bd3786"
             ],
             [
              0.5555555555555556,
              "#d8576b"
             ],
             [
              0.6666666666666666,
              "#ed7953"
             ],
             [
              0.7777777777777778,
              "#fb9f3a"
             ],
             [
              0.8888888888888888,
              "#fdca26"
             ],
             [
              1,
              "#f0f921"
             ]
            ],
            "type": "histogram2dcontour"
           }
          ],
          "mesh3d": [
           {
            "colorbar": {
             "outlinewidth": 0,
             "ticks": ""
            },
            "type": "mesh3d"
           }
          ],
          "parcoords": [
           {
            "line": {
             "colorbar": {
              "outlinewidth": 0,
              "ticks": ""
             }
            },
            "type": "parcoords"
           }
          ],
          "pie": [
           {
            "automargin": true,
            "type": "pie"
           }
          ],
          "scatter": [
           {
            "marker": {
             "colorbar": {
              "outlinewidth": 0,
              "ticks": ""
             }
            },
            "type": "scatter"
           }
          ],
          "scatter3d": [
           {
            "line": {
             "colorbar": {
              "outlinewidth": 0,
              "ticks": ""
             }
            },
            "marker": {
             "colorbar": {
              "outlinewidth": 0,
              "ticks": ""
             }
            },
            "type": "scatter3d"
           }
          ],
          "scattercarpet": [
           {
            "marker": {
             "colorbar": {
              "outlinewidth": 0,
              "ticks": ""
             }
            },
            "type": "scattercarpet"
           }
          ],
          "scattergeo": [
           {
            "marker": {
             "colorbar": {
              "outlinewidth": 0,
              "ticks": ""
             }
            },
            "type": "scattergeo"
           }
          ],
          "scattergl": [
           {
            "marker": {
             "colorbar": {
              "outlinewidth": 0,
              "ticks": ""
             }
            },
            "type": "scattergl"
           }
          ],
          "scattermapbox": [
           {
            "marker": {
             "colorbar": {
              "outlinewidth": 0,
              "ticks": ""
             }
            },
            "type": "scattermapbox"
           }
          ],
          "scatterpolar": [
           {
            "marker": {
             "colorbar": {
              "outlinewidth": 0,
              "ticks": ""
             }
            },
            "type": "scatterpolar"
           }
          ],
          "scatterpolargl": [
           {
            "marker": {
             "colorbar": {
              "outlinewidth": 0,
              "ticks": ""
             }
            },
            "type": "scatterpolargl"
           }
          ],
          "scatterternary": [
           {
            "marker": {
             "colorbar": {
              "outlinewidth": 0,
              "ticks": ""
             }
            },
            "type": "scatterternary"
           }
          ],
          "surface": [
           {
            "colorbar": {
             "outlinewidth": 0,
             "ticks": ""
            },
            "colorscale": [
             [
              0,
              "#0d0887"
             ],
             [
              0.1111111111111111,
              "#46039f"
             ],
             [
              0.2222222222222222,
              "#7201a8"
             ],
             [
              0.3333333333333333,
              "#9c179e"
             ],
             [
              0.4444444444444444,
              "#bd3786"
             ],
             [
              0.5555555555555556,
              "#d8576b"
             ],
             [
              0.6666666666666666,
              "#ed7953"
             ],
             [
              0.7777777777777778,
              "#fb9f3a"
             ],
             [
              0.8888888888888888,
              "#fdca26"
             ],
             [
              1,
              "#f0f921"
             ]
            ],
            "type": "surface"
           }
          ],
          "table": [
           {
            "cells": {
             "fill": {
              "color": "#EBF0F8"
             },
             "line": {
              "color": "white"
             }
            },
            "header": {
             "fill": {
              "color": "#C8D4E3"
             },
             "line": {
              "color": "white"
             }
            },
            "type": "table"
           }
          ]
         },
         "layout": {
          "annotationdefaults": {
           "arrowcolor": "#2a3f5f",
           "arrowhead": 0,
           "arrowwidth": 1
          },
          "autotypenumbers": "strict",
          "coloraxis": {
           "colorbar": {
            "outlinewidth": 0,
            "ticks": ""
           }
          },
          "colorscale": {
           "diverging": [
            [
             0,
             "#8e0152"
            ],
            [
             0.1,
             "#c51b7d"
            ],
            [
             0.2,
             "#de77ae"
            ],
            [
             0.3,
             "#f1b6da"
            ],
            [
             0.4,
             "#fde0ef"
            ],
            [
             0.5,
             "#f7f7f7"
            ],
            [
             0.6,
             "#e6f5d0"
            ],
            [
             0.7,
             "#b8e186"
            ],
            [
             0.8,
             "#7fbc41"
            ],
            [
             0.9,
             "#4d9221"
            ],
            [
             1,
             "#276419"
            ]
           ],
           "sequential": [
            [
             0,
             "#0d0887"
            ],
            [
             0.1111111111111111,
             "#46039f"
            ],
            [
             0.2222222222222222,
             "#7201a8"
            ],
            [
             0.3333333333333333,
             "#9c179e"
            ],
            [
             0.4444444444444444,
             "#bd3786"
            ],
            [
             0.5555555555555556,
             "#d8576b"
            ],
            [
             0.6666666666666666,
             "#ed7953"
            ],
            [
             0.7777777777777778,
             "#fb9f3a"
            ],
            [
             0.8888888888888888,
             "#fdca26"
            ],
            [
             1,
             "#f0f921"
            ]
           ],
           "sequentialminus": [
            [
             0,
             "#0d0887"
            ],
            [
             0.1111111111111111,
             "#46039f"
            ],
            [
             0.2222222222222222,
             "#7201a8"
            ],
            [
             0.3333333333333333,
             "#9c179e"
            ],
            [
             0.4444444444444444,
             "#bd3786"
            ],
            [
             0.5555555555555556,
             "#d8576b"
            ],
            [
             0.6666666666666666,
             "#ed7953"
            ],
            [
             0.7777777777777778,
             "#fb9f3a"
            ],
            [
             0.8888888888888888,
             "#fdca26"
            ],
            [
             1,
             "#f0f921"
            ]
           ]
          },
          "colorway": [
           "#636efa",
           "#EF553B",
           "#00cc96",
           "#ab63fa",
           "#FFA15A",
           "#19d3f3",
           "#FF6692",
           "#B6E880",
           "#FF97FF",
           "#FECB52"
          ],
          "font": {
           "color": "#2a3f5f"
          },
          "geo": {
           "bgcolor": "white",
           "lakecolor": "white",
           "landcolor": "#E5ECF6",
           "showlakes": true,
           "showland": true,
           "subunitcolor": "white"
          },
          "hoverlabel": {
           "align": "left"
          },
          "hovermode": "closest",
          "mapbox": {
           "style": "light"
          },
          "paper_bgcolor": "white",
          "plot_bgcolor": "#E5ECF6",
          "polar": {
           "angularaxis": {
            "gridcolor": "white",
            "linecolor": "white",
            "ticks": ""
           },
           "bgcolor": "#E5ECF6",
           "radialaxis": {
            "gridcolor": "white",
            "linecolor": "white",
            "ticks": ""
           }
          },
          "scene": {
           "xaxis": {
            "backgroundcolor": "#E5ECF6",
            "gridcolor": "white",
            "gridwidth": 2,
            "linecolor": "white",
            "showbackground": true,
            "ticks": "",
            "zerolinecolor": "white"
           },
           "yaxis": {
            "backgroundcolor": "#E5ECF6",
            "gridcolor": "white",
            "gridwidth": 2,
            "linecolor": "white",
            "showbackground": true,
            "ticks": "",
            "zerolinecolor": "white"
           },
           "zaxis": {
            "backgroundcolor": "#E5ECF6",
            "gridcolor": "white",
            "gridwidth": 2,
            "linecolor": "white",
            "showbackground": true,
            "ticks": "",
            "zerolinecolor": "white"
           }
          },
          "shapedefaults": {
           "line": {
            "color": "#2a3f5f"
           }
          },
          "ternary": {
           "aaxis": {
            "gridcolor": "white",
            "linecolor": "white",
            "ticks": ""
           },
           "baxis": {
            "gridcolor": "white",
            "linecolor": "white",
            "ticks": ""
           },
           "bgcolor": "#E5ECF6",
           "caxis": {
            "gridcolor": "white",
            "linecolor": "white",
            "ticks": ""
           }
          },
          "title": {
           "x": 0.05
          },
          "xaxis": {
           "automargin": true,
           "gridcolor": "white",
           "linecolor": "white",
           "ticks": "",
           "title": {
            "standoff": 15
           },
           "zerolinecolor": "white",
           "zerolinewidth": 2
          },
          "yaxis": {
           "automargin": true,
           "gridcolor": "white",
           "linecolor": "white",
           "ticks": "",
           "title": {
            "standoff": 15
           },
           "zerolinecolor": "white",
           "zerolinewidth": 2
          }
         }
        },
        "title": {
         "font": {
          "color": "#4D5663"
         },
         "text": "Effects of Price Changes on Subsistence Diet Nutrition for Carrot (Raw Vegan)"
        },
        "xaxis": {
         "gridcolor": "#E1E5ED",
         "showgrid": true,
         "tickfont": {
          "color": "#4D5663"
         },
         "title": {
          "font": {
           "color": "#4D5663"
          },
          "text": "Carrot Price"
         },
         "zerolinecolor": "#E1E5ED"
        },
        "yaxis": {
         "gridcolor": "#E1E5ED",
         "showgrid": true,
         "tickfont": {
          "color": "#4D5663"
         },
         "title": {
          "font": {
           "color": "#4D5663"
          },
          "text": "Nutrients"
         },
         "zerolinecolor": "#E1E5ED"
        }
       }
      },
      "text/html": [
       "<div>                            <div id=\"e76c5954-ea84-492a-b12b-896a14b0a163\" class=\"plotly-graph-div\" style=\"height:525px; width:100%;\"></div>            <script type=\"text/javascript\">                require([\"plotly\"], function(Plotly) {                    window.PLOTLYENV=window.PLOTLYENV || {};\n",
       "                    window.PLOTLYENV.BASE_URL='https://plot.ly';                                    if (document.getElementById(\"e76c5954-ea84-492a-b12b-896a14b0a163\")) {                    Plotly.newPlot(                        \"e76c5954-ea84-492a-b12b-896a14b0a163\",                        [{\"line\":{\"color\":\"rgba(255, 153, 51, 1.0)\",\"dash\":\"solid\",\"shape\":\"linear\",\"width\":1.3},\"mode\":\"lines\",\"name\":\"Carbohydrate, by difference\",\"text\":\"\",\"type\":\"scatter\",\"x\":[0.16424438532773378,0.24636657799160067,0.2956398935899208,0.32848877065546755,0.36133764772101434,0.3941865247865611,0.4270354018521078,0.45988427891765454,0.49273315598320133,0.6569775413109351,1.3139550826218702],\"y\":[251.91581169151544,228.13658304292096,228.13658265938045,228.136583183573,228.13658340321734,228.13658357437322,228.1365347486847,228.13658365271132,228.13658334239844,228.13658314485366,228.13658370150762]},{\"line\":{\"color\":\"rgba(55, 128, 191, 1.0)\",\"dash\":\"solid\",\"shape\":\"linear\",\"width\":1.3},\"mode\":\"lines\",\"name\":\"Protein\",\"text\":\"\",\"type\":\"scatter\",\"x\":[0.16424438532773378,0.24636657799160067,0.2956398935899208,0.32848877065546755,0.36133764772101434,0.3941865247865611,0.4270354018521078,0.45988427891765454,0.49273315598320133,0.6569775413109351,1.3139550826218702],\"y\":[84.31267451928736,101.90416522833888,101.90416953135204,101.90416993896008,101.90417008371594,101.90417017974262,101.9041284284923,101.90417022192922,101.90417003869842,101.90416991738711,101.9041702508081]},{\"line\":{\"color\":\"rgba(50, 171, 96, 1.0)\",\"dash\":\"solid\",\"shape\":\"linear\",\"width\":1.3},\"mode\":\"lines\",\"name\":\"Total lipid (fat)\",\"text\":\"\",\"type\":\"scatter\",\"x\":[0.16424438532773378,0.24636657799160067,0.2956398935899208,0.32848877065546755,0.36133764772101434,0.3941865247865611,0.4270354018521078,0.45988427891765454,0.49273315598320133,0.6569775413109351,1.3139550826218702],\"y\":[115.94461285644527,161.07297392583817,161.0729756874761,161.07297579784682,161.07297579498663,161.07297578692484,161.0729531882553,161.07297577580877,161.072975774313,161.07297574270933,161.07297577659057]}],                        {\"legend\":{\"bgcolor\":\"#F5F6F9\",\"font\":{\"color\":\"#4D5663\"}},\"paper_bgcolor\":\"#F5F6F9\",\"plot_bgcolor\":\"#F5F6F9\",\"template\":{\"data\":{\"bar\":[{\"error_x\":{\"color\":\"#2a3f5f\"},\"error_y\":{\"color\":\"#2a3f5f\"},\"marker\":{\"line\":{\"color\":\"#E5ECF6\",\"width\":0.5},\"pattern\":{\"fillmode\":\"overlay\",\"size\":10,\"solidity\":0.2}},\"type\":\"bar\"}],\"barpolar\":[{\"marker\":{\"line\":{\"color\":\"#E5ECF6\",\"width\":0.5},\"pattern\":{\"fillmode\":\"overlay\",\"size\":10,\"solidity\":0.2}},\"type\":\"barpolar\"}],\"carpet\":[{\"aaxis\":{\"endlinecolor\":\"#2a3f5f\",\"gridcolor\":\"white\",\"linecolor\":\"white\",\"minorgridcolor\":\"white\",\"startlinecolor\":\"#2a3f5f\"},\"baxis\":{\"endlinecolor\":\"#2a3f5f\",\"gridcolor\":\"white\",\"linecolor\":\"white\",\"minorgridcolor\":\"white\",\"startlinecolor\":\"#2a3f5f\"},\"type\":\"carpet\"}],\"choropleth\":[{\"colorbar\":{\"outlinewidth\":0,\"ticks\":\"\"},\"type\":\"choropleth\"}],\"contour\":[{\"colorbar\":{\"outlinewidth\":0,\"ticks\":\"\"},\"colorscale\":[[0.0,\"#0d0887\"],[0.1111111111111111,\"#46039f\"],[0.2222222222222222,\"#7201a8\"],[0.3333333333333333,\"#9c179e\"],[0.4444444444444444,\"#bd3786\"],[0.5555555555555556,\"#d8576b\"],[0.6666666666666666,\"#ed7953\"],[0.7777777777777778,\"#fb9f3a\"],[0.8888888888888888,\"#fdca26\"],[1.0,\"#f0f921\"]],\"type\":\"contour\"}],\"contourcarpet\":[{\"colorbar\":{\"outlinewidth\":0,\"ticks\":\"\"},\"type\":\"contourcarpet\"}],\"heatmap\":[{\"colorbar\":{\"outlinewidth\":0,\"ticks\":\"\"},\"colorscale\":[[0.0,\"#0d0887\"],[0.1111111111111111,\"#46039f\"],[0.2222222222222222,\"#7201a8\"],[0.3333333333333333,\"#9c179e\"],[0.4444444444444444,\"#bd3786\"],[0.5555555555555556,\"#d8576b\"],[0.6666666666666666,\"#ed7953\"],[0.7777777777777778,\"#fb9f3a\"],[0.8888888888888888,\"#fdca26\"],[1.0,\"#f0f921\"]],\"type\":\"heatmap\"}],\"heatmapgl\":[{\"colorbar\":{\"outlinewidth\":0,\"ticks\":\"\"},\"colorscale\":[[0.0,\"#0d0887\"],[0.1111111111111111,\"#46039f\"],[0.2222222222222222,\"#7201a8\"],[0.3333333333333333,\"#9c179e\"],[0.4444444444444444,\"#bd3786\"],[0.5555555555555556,\"#d8576b\"],[0.6666666666666666,\"#ed7953\"],[0.7777777777777778,\"#fb9f3a\"],[0.8888888888888888,\"#fdca26\"],[1.0,\"#f0f921\"]],\"type\":\"heatmapgl\"}],\"histogram\":[{\"marker\":{\"pattern\":{\"fillmode\":\"overlay\",\"size\":10,\"solidity\":0.2}},\"type\":\"histogram\"}],\"histogram2d\":[{\"colorbar\":{\"outlinewidth\":0,\"ticks\":\"\"},\"colorscale\":[[0.0,\"#0d0887\"],[0.1111111111111111,\"#46039f\"],[0.2222222222222222,\"#7201a8\"],[0.3333333333333333,\"#9c179e\"],[0.4444444444444444,\"#bd3786\"],[0.5555555555555556,\"#d8576b\"],[0.6666666666666666,\"#ed7953\"],[0.7777777777777778,\"#fb9f3a\"],[0.8888888888888888,\"#fdca26\"],[1.0,\"#f0f921\"]],\"type\":\"histogram2d\"}],\"histogram2dcontour\":[{\"colorbar\":{\"outlinewidth\":0,\"ticks\":\"\"},\"colorscale\":[[0.0,\"#0d0887\"],[0.1111111111111111,\"#46039f\"],[0.2222222222222222,\"#7201a8\"],[0.3333333333333333,\"#9c179e\"],[0.4444444444444444,\"#bd3786\"],[0.5555555555555556,\"#d8576b\"],[0.6666666666666666,\"#ed7953\"],[0.7777777777777778,\"#fb9f3a\"],[0.8888888888888888,\"#fdca26\"],[1.0,\"#f0f921\"]],\"type\":\"histogram2dcontour\"}],\"mesh3d\":[{\"colorbar\":{\"outlinewidth\":0,\"ticks\":\"\"},\"type\":\"mesh3d\"}],\"parcoords\":[{\"line\":{\"colorbar\":{\"outlinewidth\":0,\"ticks\":\"\"}},\"type\":\"parcoords\"}],\"pie\":[{\"automargin\":true,\"type\":\"pie\"}],\"scatter\":[{\"marker\":{\"colorbar\":{\"outlinewidth\":0,\"ticks\":\"\"}},\"type\":\"scatter\"}],\"scatter3d\":[{\"line\":{\"colorbar\":{\"outlinewidth\":0,\"ticks\":\"\"}},\"marker\":{\"colorbar\":{\"outlinewidth\":0,\"ticks\":\"\"}},\"type\":\"scatter3d\"}],\"scattercarpet\":[{\"marker\":{\"colorbar\":{\"outlinewidth\":0,\"ticks\":\"\"}},\"type\":\"scattercarpet\"}],\"scattergeo\":[{\"marker\":{\"colorbar\":{\"outlinewidth\":0,\"ticks\":\"\"}},\"type\":\"scattergeo\"}],\"scattergl\":[{\"marker\":{\"colorbar\":{\"outlinewidth\":0,\"ticks\":\"\"}},\"type\":\"scattergl\"}],\"scattermapbox\":[{\"marker\":{\"colorbar\":{\"outlinewidth\":0,\"ticks\":\"\"}},\"type\":\"scattermapbox\"}],\"scatterpolar\":[{\"marker\":{\"colorbar\":{\"outlinewidth\":0,\"ticks\":\"\"}},\"type\":\"scatterpolar\"}],\"scatterpolargl\":[{\"marker\":{\"colorbar\":{\"outlinewidth\":0,\"ticks\":\"\"}},\"type\":\"scatterpolargl\"}],\"scatterternary\":[{\"marker\":{\"colorbar\":{\"outlinewidth\":0,\"ticks\":\"\"}},\"type\":\"scatterternary\"}],\"surface\":[{\"colorbar\":{\"outlinewidth\":0,\"ticks\":\"\"},\"colorscale\":[[0.0,\"#0d0887\"],[0.1111111111111111,\"#46039f\"],[0.2222222222222222,\"#7201a8\"],[0.3333333333333333,\"#9c179e\"],[0.4444444444444444,\"#bd3786\"],[0.5555555555555556,\"#d8576b\"],[0.6666666666666666,\"#ed7953\"],[0.7777777777777778,\"#fb9f3a\"],[0.8888888888888888,\"#fdca26\"],[1.0,\"#f0f921\"]],\"type\":\"surface\"}],\"table\":[{\"cells\":{\"fill\":{\"color\":\"#EBF0F8\"},\"line\":{\"color\":\"white\"}},\"header\":{\"fill\":{\"color\":\"#C8D4E3\"},\"line\":{\"color\":\"white\"}},\"type\":\"table\"}]},\"layout\":{\"annotationdefaults\":{\"arrowcolor\":\"#2a3f5f\",\"arrowhead\":0,\"arrowwidth\":1},\"autotypenumbers\":\"strict\",\"coloraxis\":{\"colorbar\":{\"outlinewidth\":0,\"ticks\":\"\"}},\"colorscale\":{\"diverging\":[[0,\"#8e0152\"],[0.1,\"#c51b7d\"],[0.2,\"#de77ae\"],[0.3,\"#f1b6da\"],[0.4,\"#fde0ef\"],[0.5,\"#f7f7f7\"],[0.6,\"#e6f5d0\"],[0.7,\"#b8e186\"],[0.8,\"#7fbc41\"],[0.9,\"#4d9221\"],[1,\"#276419\"]],\"sequential\":[[0.0,\"#0d0887\"],[0.1111111111111111,\"#46039f\"],[0.2222222222222222,\"#7201a8\"],[0.3333333333333333,\"#9c179e\"],[0.4444444444444444,\"#bd3786\"],[0.5555555555555556,\"#d8576b\"],[0.6666666666666666,\"#ed7953\"],[0.7777777777777778,\"#fb9f3a\"],[0.8888888888888888,\"#fdca26\"],[1.0,\"#f0f921\"]],\"sequentialminus\":[[0.0,\"#0d0887\"],[0.1111111111111111,\"#46039f\"],[0.2222222222222222,\"#7201a8\"],[0.3333333333333333,\"#9c179e\"],[0.4444444444444444,\"#bd3786\"],[0.5555555555555556,\"#d8576b\"],[0.6666666666666666,\"#ed7953\"],[0.7777777777777778,\"#fb9f3a\"],[0.8888888888888888,\"#fdca26\"],[1.0,\"#f0f921\"]]},\"colorway\":[\"#636efa\",\"#EF553B\",\"#00cc96\",\"#ab63fa\",\"#FFA15A\",\"#19d3f3\",\"#FF6692\",\"#B6E880\",\"#FF97FF\",\"#FECB52\"],\"font\":{\"color\":\"#2a3f5f\"},\"geo\":{\"bgcolor\":\"white\",\"lakecolor\":\"white\",\"landcolor\":\"#E5ECF6\",\"showlakes\":true,\"showland\":true,\"subunitcolor\":\"white\"},\"hoverlabel\":{\"align\":\"left\"},\"hovermode\":\"closest\",\"mapbox\":{\"style\":\"light\"},\"paper_bgcolor\":\"white\",\"plot_bgcolor\":\"#E5ECF6\",\"polar\":{\"angularaxis\":{\"gridcolor\":\"white\",\"linecolor\":\"white\",\"ticks\":\"\"},\"bgcolor\":\"#E5ECF6\",\"radialaxis\":{\"gridcolor\":\"white\",\"linecolor\":\"white\",\"ticks\":\"\"}},\"scene\":{\"xaxis\":{\"backgroundcolor\":\"#E5ECF6\",\"gridcolor\":\"white\",\"gridwidth\":2,\"linecolor\":\"white\",\"showbackground\":true,\"ticks\":\"\",\"zerolinecolor\":\"white\"},\"yaxis\":{\"backgroundcolor\":\"#E5ECF6\",\"gridcolor\":\"white\",\"gridwidth\":2,\"linecolor\":\"white\",\"showbackground\":true,\"ticks\":\"\",\"zerolinecolor\":\"white\"},\"zaxis\":{\"backgroundcolor\":\"#E5ECF6\",\"gridcolor\":\"white\",\"gridwidth\":2,\"linecolor\":\"white\",\"showbackground\":true,\"ticks\":\"\",\"zerolinecolor\":\"white\"}},\"shapedefaults\":{\"line\":{\"color\":\"#2a3f5f\"}},\"ternary\":{\"aaxis\":{\"gridcolor\":\"white\",\"linecolor\":\"white\",\"ticks\":\"\"},\"baxis\":{\"gridcolor\":\"white\",\"linecolor\":\"white\",\"ticks\":\"\"},\"bgcolor\":\"#E5ECF6\",\"caxis\":{\"gridcolor\":\"white\",\"linecolor\":\"white\",\"ticks\":\"\"}},\"title\":{\"x\":0.05},\"xaxis\":{\"automargin\":true,\"gridcolor\":\"white\",\"linecolor\":\"white\",\"ticks\":\"\",\"title\":{\"standoff\":15},\"zerolinecolor\":\"white\",\"zerolinewidth\":2},\"yaxis\":{\"automargin\":true,\"gridcolor\":\"white\",\"linecolor\":\"white\",\"ticks\":\"\",\"title\":{\"standoff\":15},\"zerolinecolor\":\"white\",\"zerolinewidth\":2}}},\"title\":{\"font\":{\"color\":\"#4D5663\"},\"text\":\"Effects of Price Changes on Subsistence Diet Nutrition for Carrot (Raw Vegan)\"},\"xaxis\":{\"gridcolor\":\"#E1E5ED\",\"showgrid\":true,\"tickfont\":{\"color\":\"#4D5663\"},\"title\":{\"font\":{\"color\":\"#4D5663\"},\"text\":\"Carrot Price\"},\"zerolinecolor\":\"#E1E5ED\"},\"yaxis\":{\"gridcolor\":\"#E1E5ED\",\"showgrid\":true,\"tickfont\":{\"color\":\"#4D5663\"},\"title\":{\"font\":{\"color\":\"#4D5663\"},\"text\":\"Nutrients\"},\"zerolinecolor\":\"#E1E5ED\"}},                        {\"showLink\": true, \"linkText\": \"Export to plot.ly\", \"plotlyServerURL\": \"https://plot.ly\", \"responsive\": true}                    ).then(function(){\n",
       "                            \n",
       "var gd = document.getElementById('e76c5954-ea84-492a-b12b-896a14b0a163');\n",
       "var x = new MutationObserver(function (mutations, observer) {{\n",
       "        var display = window.getComputedStyle(gd).display;\n",
       "        if (!display || display === 'none') {{\n",
       "            console.log([gd, 'removed!']);\n",
       "            Plotly.purge(gd);\n",
       "            observer.disconnect();\n",
       "        }}\n",
       "}});\n",
       "\n",
       "// Listen for the removal of the full notebook cells\n",
       "var notebookContainer = gd.closest('#notebook-container');\n",
       "if (notebookContainer) {{\n",
       "    x.observe(notebookContainer, {childList: true});\n",
       "}}\n",
       "\n",
       "// Listen for the clearing of the current output cell\n",
       "var outputEl = gd.closest('.output');\n",
       "if (outputEl) {{\n",
       "    x.observe(outputEl, {childList: true});\n",
       "}}\n",
       "\n",
       "                        })                };                });            </script>        </div>"
      ]
     },
     "metadata": {},
     "output_type": "display_data"
    }
   ],
   "source": [
    "getPriceChangeNutrientMapGraph(\"vegan\", Carrots_Vegan_response, \"Carrot\")"
   ]
  },
  {
   "cell_type": "markdown",
   "id": "337d28a5",
   "metadata": {},
   "source": [
    "## Adding Constraint on Total Weight\n",
    "\n"
   ]
  },
  {
   "cell_type": "markdown",
   "id": "24a3fda6",
   "metadata": {},
   "source": [
    "At least at some prices the minimum cost subistence diet involves\n",
    "eating unreasonable amounts of food (e.g., 10 kilograms of cabbage per\n",
    "day).  We can easily add an additional constraint of the form\n",
    "$$\n",
    "     \\sum x_i \\leq \\text{max weight}\n",
    "$$\n",
    "to our linear programming problem since it&rsquo;s just another linear\n",
    "inequality, and this may give us more realistic results.\n",
    "\n"
   ]
  },
  {
   "cell_type": "markdown",
   "id": "76b987f7",
   "metadata": {},
   "source": [
    "### Price Changes and Subsistence Diet Composition with Weight Constraint\n",
    "\n"
   ]
  },
  {
   "cell_type": "markdown",
   "id": "e7c2ac85",
   "metadata": {},
   "source": [
    "Re-do our analysis of changing prices, but with a constraint that\n",
    "  total weight of diet must be less that 12 hectograms (1.2 kg).\n",
    "\n"
   ]
  },
  {
   "cell_type": "code",
   "execution_count": 129,
   "id": "88452d27",
   "metadata": {},
   "outputs": [],
   "source": [
    "def getEffectsofPriceChangeGraphConstraint(dietType, ReferenceGood) :\n",
    "    \n",
    "    dietType = dietType.lower()\n",
    "    if dietType == \"meat\":\n",
    "        diet_FoodNutrients = Raw_Meat_FoodNutrients\n",
    "        diet_prices = meat_prices\n",
    "        graphType = \"Raw Meat\"\n",
    "    elif dietType == \"vegan\":\n",
    "        diet_FoodNutrients = Raw_Vegan_FoodNutrients\n",
    "        diet_prices = vegan_prices\n",
    "        graphType = \"Raw Vegan\"\n",
    "    elif dietType == \"usda\":\n",
    "        diet_FoodNutrients = USDA_FoodNutrients\n",
    "        diet_prices = usda_prices\n",
    "        graphType = \"USDA\"\n",
    "    else:\n",
    "        print(\"Please choose correct diet.\")\n",
    "        \n",
    "    group = 'M 19-30'\n",
    "    tol = 1e-6\n",
    "    \n",
    "    cf.go_offline()\n",
    "\n",
    "    scale = [0.5,0.75,0.9,1.,1.1,1.2,1.3,1.4,1.5,2,4]\n",
    "\n",
    "    cost0 = solve_subsistence_problem(diet_FoodNutrients,diet_prices,diet_min[group],diet_max[group],max_weight=12,tol=tol).fun\n",
    "\n",
    "    my_p = diet_prices.copy()\n",
    "\n",
    "    diet = {}\n",
    "    for s in scale:\n",
    "\n",
    "        my_p[ReferenceGood] = diet_prices[ReferenceGood]*s\n",
    "        result = solve_subsistence_problem(diet_FoodNutrients,my_p,diet_min[group],diet_max[group],max_weight=12,tol=tol)\n",
    "        diet[my_p[ReferenceGood]] = result.diet\n",
    "\n",
    "    Diet_response = pd.DataFrame(diet).T\n",
    "    Diet_response.index.name = '%s Price' % ReferenceGood\n",
    "\n",
    "    Diet_response.reset_index(inplace=True)\n",
    "\n",
    "    # Get rid of units for index (cufflinks chokes)\n",
    "    Diet_response['%s Price' % ReferenceGood] = Diet_response['%s Price' % ReferenceGood].apply(lambda x: x.magnitude)\n",
    "\n",
    "    Diet_response = Diet_response.set_index('%s Price' % ReferenceGood)\n",
    "\n",
    "    # Just look at goods consumed in quantities greater than error tolerance\n",
    "    Diet_response.loc[:,(Diet_response>tol).sum()>0].iplot(title=ReferenceGood + \" Price Changes and Subsistence Diet Composition with Weight Constraint (\" +graphType + \")\",xTitle='%s Price' % ReferenceGood,yTitle='Hectograms')\n",
    "    \n",
    "    return Diet_response"
   ]
  },
  {
   "cell_type": "code",
   "execution_count": 130,
   "id": "08b95599",
   "metadata": {},
   "outputs": [
    {
     "data": {
      "text/html": [
       "        <script type=\"text/javascript\">\n",
       "        window.PlotlyConfig = {MathJaxConfig: 'local'};\n",
       "        if (window.MathJax) {MathJax.Hub.Config({SVG: {font: \"STIX-Web\"}});}\n",
       "        if (typeof require !== 'undefined') {\n",
       "        require.undef(\"plotly\");\n",
       "        requirejs.config({\n",
       "            paths: {\n",
       "                'plotly': ['https://cdn.plot.ly/plotly-2.3.1.min']\n",
       "            }\n",
       "        });\n",
       "        require(['plotly'], function(Plotly) {\n",
       "            window._Plotly = Plotly;\n",
       "        });\n",
       "        }\n",
       "        </script>\n",
       "        "
      ]
     },
     "metadata": {},
     "output_type": "display_data"
    },
    {
     "data": {
      "application/vnd.plotly.v1+json": {
       "config": {
        "linkText": "Export to plot.ly",
        "plotlyServerURL": "https://plot.ly",
        "showLink": true
       },
       "data": [
        {
         "line": {
          "color": "rgba(255, 153, 51, 1.0)",
          "dash": "solid",
          "shape": "linear",
          "width": 1.3
         },
         "mode": "lines",
         "name": "Raw Liver",
         "text": "",
         "type": "scatter",
         "x": [
          1.4319023928907797,
          2.1478535893361697,
          2.5774243072034033,
          2.8638047857815594,
          3.1501852643597155,
          3.436565742937871,
          3.722946221516027,
          4.009326700094183,
          4.295707178672339,
          5.727609571563119,
          11.455219143126238
         ],
         "y": [
          0.43067806612123827,
          0.4306780662447361,
          0.430678066322285,
          0.43067806637576794,
          0.43067806643089757,
          0.43067806648768936,
          0.43067806654626317,
          0.4306780666068026,
          0.43067806666924413,
          0.4306780670130139,
          0.43067806621749993
         ]
        },
        {
         "line": {
          "color": "rgba(55, 128, 191, 1.0)",
          "dash": "solid",
          "shape": "linear",
          "width": 1.3
         },
         "mode": "lines",
         "name": "2% milk",
         "text": "",
         "type": "scatter",
         "x": [
          1.4319023928907797,
          2.1478535893361697,
          2.5774243072034033,
          2.8638047857815594,
          3.1501852643597155,
          3.436565742937871,
          3.722946221516027,
          4.009326700094183,
          4.295707178672339,
          5.727609571563119,
          11.455219143126238
         ],
         "y": [
          2.531126279832484,
          2.5311262811260296,
          2.531126281938441,
          2.5311262824998,
          2.531126283078786,
          2.5311262836759374,
          2.531126284293339,
          2.5311262849315415,
          2.5311262855913617,
          2.5311262892409774,
          2.531126280032652
         ]
        },
        {
         "line": {
          "color": "rgba(50, 171, 96, 1.0)",
          "dash": "solid",
          "shape": "linear",
          "width": 1.3
         },
         "mode": "lines",
         "name": "Lime, raw",
         "text": "",
         "type": "scatter",
         "x": [
          1.4319023928907797,
          2.1478535893361697,
          2.5774243072034033,
          2.8638047857815594,
          3.1501852643597155,
          3.436565742937871,
          3.722946221516027,
          4.009326700094183,
          4.295707178672339,
          5.727609571563119,
          11.455219143126238
         ],
         "y": [
          2.942569268137875,
          2.9425692674709794,
          2.942569267049764,
          2.942569266757717,
          2.942569266455373,
          2.942569266142142,
          2.942569265817264,
          2.9425692654799915,
          2.9425692651298543,
          2.942569263167046,
          2.9425692689223912
         ]
        },
        {
         "line": {
          "color": "rgba(128, 0, 128, 1.0)",
          "dash": "solid",
          "shape": "linear",
          "width": 1.3
         },
         "mode": "lines",
         "name": "Cashews, NFS",
         "text": "",
         "type": "scatter",
         "x": [
          1.4319023928907797,
          2.1478535893361697,
          2.5774243072034033,
          2.8638047857815594,
          3.1501852643597155,
          3.436565742937871,
          3.722946221516027,
          4.009326700094183,
          4.295707178672339,
          5.727609571563119,
          11.455219143126238
         ],
         "y": [
          2.84287815739977,
          2.8428781577615077,
          2.842878157989358,
          2.8428781581469234,
          2.842878158309273,
          2.842878158477145,
          2.842878158650725,
          2.8428781588299756,
          2.842878159015683,
          2.842878160043098,
          2.8428781577735207
         ]
        },
        {
         "line": {
          "color": "rgba(219, 64, 82, 1.0)",
          "dash": "solid",
          "shape": "linear",
          "width": 1.3
         },
         "mode": "lines",
         "name": "Pistachio nuts, NFS",
         "text": "",
         "type": "scatter",
         "x": [
          1.4319023928907797,
          2.1478535893361697,
          2.5774243072034033,
          2.8638047857815594,
          3.1501852643597155,
          3.436565742937871,
          3.722946221516027,
          4.009326700094183,
          4.295707178672339,
          5.727609571563119,
          11.455219143126238
         ],
         "y": [
          1.3565865090610187,
          1.3565865081063733,
          1.356586507505128,
          1.3565865070898613,
          1.356586506661462,
          1.3565865062189637,
          1.3565865057617694,
          1.356586505289202,
          1.3565865048003551,
          1.3565865020966217,
          1.3565865080494262
         ]
        },
        {
         "line": {
          "color": "rgba(0, 128, 128, 1.0)",
          "dash": "solid",
          "shape": "linear",
          "width": 1.3
         },
         "mode": "lines",
         "name": "Almond butter, creamy",
         "text": "",
         "type": "scatter",
         "x": [
          1.4319023928907797,
          2.1478535893361697,
          2.5774243072034033,
          2.8638047857815594,
          3.1501852643597155,
          3.436565742937871,
          3.722946221516027,
          4.009326700094183,
          4.295707178672339,
          5.727609571563119,
          11.455219143126238
         ],
         "y": [
          1.1687072039356634,
          1.1687072033963208,
          1.1687072030580439,
          1.1687072028243515,
          1.1687072025835408,
          1.168707202335325,
          1.1687072020788567,
          1.1687072018138596,
          1.1687072015400726,
          1.1687072000287568,
          1.1687072036699753
         ]
        }
       ],
       "layout": {
        "legend": {
         "bgcolor": "#F5F6F9",
         "font": {
          "color": "#4D5663"
         }
        },
        "paper_bgcolor": "#F5F6F9",
        "plot_bgcolor": "#F5F6F9",
        "template": {
         "data": {
          "bar": [
           {
            "error_x": {
             "color": "#2a3f5f"
            },
            "error_y": {
             "color": "#2a3f5f"
            },
            "marker": {
             "line": {
              "color": "#E5ECF6",
              "width": 0.5
             },
             "pattern": {
              "fillmode": "overlay",
              "size": 10,
              "solidity": 0.2
             }
            },
            "type": "bar"
           }
          ],
          "barpolar": [
           {
            "marker": {
             "line": {
              "color": "#E5ECF6",
              "width": 0.5
             },
             "pattern": {
              "fillmode": "overlay",
              "size": 10,
              "solidity": 0.2
             }
            },
            "type": "barpolar"
           }
          ],
          "carpet": [
           {
            "aaxis": {
             "endlinecolor": "#2a3f5f",
             "gridcolor": "white",
             "linecolor": "white",
             "minorgridcolor": "white",
             "startlinecolor": "#2a3f5f"
            },
            "baxis": {
             "endlinecolor": "#2a3f5f",
             "gridcolor": "white",
             "linecolor": "white",
             "minorgridcolor": "white",
             "startlinecolor": "#2a3f5f"
            },
            "type": "carpet"
           }
          ],
          "choropleth": [
           {
            "colorbar": {
             "outlinewidth": 0,
             "ticks": ""
            },
            "type": "choropleth"
           }
          ],
          "contour": [
           {
            "colorbar": {
             "outlinewidth": 0,
             "ticks": ""
            },
            "colorscale": [
             [
              0,
              "#0d0887"
             ],
             [
              0.1111111111111111,
              "#46039f"
             ],
             [
              0.2222222222222222,
              "#7201a8"
             ],
             [
              0.3333333333333333,
              "#9c179e"
             ],
             [
              0.4444444444444444,
              "#bd3786"
             ],
             [
              0.5555555555555556,
              "#d8576b"
             ],
             [
              0.6666666666666666,
              "#ed7953"
             ],
             [
              0.7777777777777778,
              "#fb9f3a"
             ],
             [
              0.8888888888888888,
              "#fdca26"
             ],
             [
              1,
              "#f0f921"
             ]
            ],
            "type": "contour"
           }
          ],
          "contourcarpet": [
           {
            "colorbar": {
             "outlinewidth": 0,
             "ticks": ""
            },
            "type": "contourcarpet"
           }
          ],
          "heatmap": [
           {
            "colorbar": {
             "outlinewidth": 0,
             "ticks": ""
            },
            "colorscale": [
             [
              0,
              "#0d0887"
             ],
             [
              0.1111111111111111,
              "#46039f"
             ],
             [
              0.2222222222222222,
              "#7201a8"
             ],
             [
              0.3333333333333333,
              "#9c179e"
             ],
             [
              0.4444444444444444,
              "#bd3786"
             ],
             [
              0.5555555555555556,
              "#d8576b"
             ],
             [
              0.6666666666666666,
              "#ed7953"
             ],
             [
              0.7777777777777778,
              "#fb9f3a"
             ],
             [
              0.8888888888888888,
              "#fdca26"
             ],
             [
              1,
              "#f0f921"
             ]
            ],
            "type": "heatmap"
           }
          ],
          "heatmapgl": [
           {
            "colorbar": {
             "outlinewidth": 0,
             "ticks": ""
            },
            "colorscale": [
             [
              0,
              "#0d0887"
             ],
             [
              0.1111111111111111,
              "#46039f"
             ],
             [
              0.2222222222222222,
              "#7201a8"
             ],
             [
              0.3333333333333333,
              "#9c179e"
             ],
             [
              0.4444444444444444,
              "#bd3786"
             ],
             [
              0.5555555555555556,
              "#d8576b"
             ],
             [
              0.6666666666666666,
              "#ed7953"
             ],
             [
              0.7777777777777778,
              "#fb9f3a"
             ],
             [
              0.8888888888888888,
              "#fdca26"
             ],
             [
              1,
              "#f0f921"
             ]
            ],
            "type": "heatmapgl"
           }
          ],
          "histogram": [
           {
            "marker": {
             "pattern": {
              "fillmode": "overlay",
              "size": 10,
              "solidity": 0.2
             }
            },
            "type": "histogram"
           }
          ],
          "histogram2d": [
           {
            "colorbar": {
             "outlinewidth": 0,
             "ticks": ""
            },
            "colorscale": [
             [
              0,
              "#0d0887"
             ],
             [
              0.1111111111111111,
              "#46039f"
             ],
             [
              0.2222222222222222,
              "#7201a8"
             ],
             [
              0.3333333333333333,
              "#9c179e"
             ],
             [
              0.4444444444444444,
              "#bd3786"
             ],
             [
              0.5555555555555556,
              "#d8576b"
             ],
             [
              0.6666666666666666,
              "#ed7953"
             ],
             [
              0.7777777777777778,
              "#fb9f3a"
             ],
             [
              0.8888888888888888,
              "#fdca26"
             ],
             [
              1,
              "#f0f921"
             ]
            ],
            "type": "histogram2d"
           }
          ],
          "histogram2dcontour": [
           {
            "colorbar": {
             "outlinewidth": 0,
             "ticks": ""
            },
            "colorscale": [
             [
              0,
              "#0d0887"
             ],
             [
              0.1111111111111111,
              "#46039f"
             ],
             [
              0.2222222222222222,
              "#7201a8"
             ],
             [
              0.3333333333333333,
              "#9c179e"
             ],
             [
              0.4444444444444444,
              "#bd3786"
             ],
             [
              0.5555555555555556,
              "#d8576b"
             ],
             [
              0.6666666666666666,
              "#ed7953"
             ],
             [
              0.7777777777777778,
              "#fb9f3a"
             ],
             [
              0.8888888888888888,
              "#fdca26"
             ],
             [
              1,
              "#f0f921"
             ]
            ],
            "type": "histogram2dcontour"
           }
          ],
          "mesh3d": [
           {
            "colorbar": {
             "outlinewidth": 0,
             "ticks": ""
            },
            "type": "mesh3d"
           }
          ],
          "parcoords": [
           {
            "line": {
             "colorbar": {
              "outlinewidth": 0,
              "ticks": ""
             }
            },
            "type": "parcoords"
           }
          ],
          "pie": [
           {
            "automargin": true,
            "type": "pie"
           }
          ],
          "scatter": [
           {
            "marker": {
             "colorbar": {
              "outlinewidth": 0,
              "ticks": ""
             }
            },
            "type": "scatter"
           }
          ],
          "scatter3d": [
           {
            "line": {
             "colorbar": {
              "outlinewidth": 0,
              "ticks": ""
             }
            },
            "marker": {
             "colorbar": {
              "outlinewidth": 0,
              "ticks": ""
             }
            },
            "type": "scatter3d"
           }
          ],
          "scattercarpet": [
           {
            "marker": {
             "colorbar": {
              "outlinewidth": 0,
              "ticks": ""
             }
            },
            "type": "scattercarpet"
           }
          ],
          "scattergeo": [
           {
            "marker": {
             "colorbar": {
              "outlinewidth": 0,
              "ticks": ""
             }
            },
            "type": "scattergeo"
           }
          ],
          "scattergl": [
           {
            "marker": {
             "colorbar": {
              "outlinewidth": 0,
              "ticks": ""
             }
            },
            "type": "scattergl"
           }
          ],
          "scattermapbox": [
           {
            "marker": {
             "colorbar": {
              "outlinewidth": 0,
              "ticks": ""
             }
            },
            "type": "scattermapbox"
           }
          ],
          "scatterpolar": [
           {
            "marker": {
             "colorbar": {
              "outlinewidth": 0,
              "ticks": ""
             }
            },
            "type": "scatterpolar"
           }
          ],
          "scatterpolargl": [
           {
            "marker": {
             "colorbar": {
              "outlinewidth": 0,
              "ticks": ""
             }
            },
            "type": "scatterpolargl"
           }
          ],
          "scatterternary": [
           {
            "marker": {
             "colorbar": {
              "outlinewidth": 0,
              "ticks": ""
             }
            },
            "type": "scatterternary"
           }
          ],
          "surface": [
           {
            "colorbar": {
             "outlinewidth": 0,
             "ticks": ""
            },
            "colorscale": [
             [
              0,
              "#0d0887"
             ],
             [
              0.1111111111111111,
              "#46039f"
             ],
             [
              0.2222222222222222,
              "#7201a8"
             ],
             [
              0.3333333333333333,
              "#9c179e"
             ],
             [
              0.4444444444444444,
              "#bd3786"
             ],
             [
              0.5555555555555556,
              "#d8576b"
             ],
             [
              0.6666666666666666,
              "#ed7953"
             ],
             [
              0.7777777777777778,
              "#fb9f3a"
             ],
             [
              0.8888888888888888,
              "#fdca26"
             ],
             [
              1,
              "#f0f921"
             ]
            ],
            "type": "surface"
           }
          ],
          "table": [
           {
            "cells": {
             "fill": {
              "color": "#EBF0F8"
             },
             "line": {
              "color": "white"
             }
            },
            "header": {
             "fill": {
              "color": "#C8D4E3"
             },
             "line": {
              "color": "white"
             }
            },
            "type": "table"
           }
          ]
         },
         "layout": {
          "annotationdefaults": {
           "arrowcolor": "#2a3f5f",
           "arrowhead": 0,
           "arrowwidth": 1
          },
          "autotypenumbers": "strict",
          "coloraxis": {
           "colorbar": {
            "outlinewidth": 0,
            "ticks": ""
           }
          },
          "colorscale": {
           "diverging": [
            [
             0,
             "#8e0152"
            ],
            [
             0.1,
             "#c51b7d"
            ],
            [
             0.2,
             "#de77ae"
            ],
            [
             0.3,
             "#f1b6da"
            ],
            [
             0.4,
             "#fde0ef"
            ],
            [
             0.5,
             "#f7f7f7"
            ],
            [
             0.6,
             "#e6f5d0"
            ],
            [
             0.7,
             "#b8e186"
            ],
            [
             0.8,
             "#7fbc41"
            ],
            [
             0.9,
             "#4d9221"
            ],
            [
             1,
             "#276419"
            ]
           ],
           "sequential": [
            [
             0,
             "#0d0887"
            ],
            [
             0.1111111111111111,
             "#46039f"
            ],
            [
             0.2222222222222222,
             "#7201a8"
            ],
            [
             0.3333333333333333,
             "#9c179e"
            ],
            [
             0.4444444444444444,
             "#bd3786"
            ],
            [
             0.5555555555555556,
             "#d8576b"
            ],
            [
             0.6666666666666666,
             "#ed7953"
            ],
            [
             0.7777777777777778,
             "#fb9f3a"
            ],
            [
             0.8888888888888888,
             "#fdca26"
            ],
            [
             1,
             "#f0f921"
            ]
           ],
           "sequentialminus": [
            [
             0,
             "#0d0887"
            ],
            [
             0.1111111111111111,
             "#46039f"
            ],
            [
             0.2222222222222222,
             "#7201a8"
            ],
            [
             0.3333333333333333,
             "#9c179e"
            ],
            [
             0.4444444444444444,
             "#bd3786"
            ],
            [
             0.5555555555555556,
             "#d8576b"
            ],
            [
             0.6666666666666666,
             "#ed7953"
            ],
            [
             0.7777777777777778,
             "#fb9f3a"
            ],
            [
             0.8888888888888888,
             "#fdca26"
            ],
            [
             1,
             "#f0f921"
            ]
           ]
          },
          "colorway": [
           "#636efa",
           "#EF553B",
           "#00cc96",
           "#ab63fa",
           "#FFA15A",
           "#19d3f3",
           "#FF6692",
           "#B6E880",
           "#FF97FF",
           "#FECB52"
          ],
          "font": {
           "color": "#2a3f5f"
          },
          "geo": {
           "bgcolor": "white",
           "lakecolor": "white",
           "landcolor": "#E5ECF6",
           "showlakes": true,
           "showland": true,
           "subunitcolor": "white"
          },
          "hoverlabel": {
           "align": "left"
          },
          "hovermode": "closest",
          "mapbox": {
           "style": "light"
          },
          "paper_bgcolor": "white",
          "plot_bgcolor": "#E5ECF6",
          "polar": {
           "angularaxis": {
            "gridcolor": "white",
            "linecolor": "white",
            "ticks": ""
           },
           "bgcolor": "#E5ECF6",
           "radialaxis": {
            "gridcolor": "white",
            "linecolor": "white",
            "ticks": ""
           }
          },
          "scene": {
           "xaxis": {
            "backgroundcolor": "#E5ECF6",
            "gridcolor": "white",
            "gridwidth": 2,
            "linecolor": "white",
            "showbackground": true,
            "ticks": "",
            "zerolinecolor": "white"
           },
           "yaxis": {
            "backgroundcolor": "#E5ECF6",
            "gridcolor": "white",
            "gridwidth": 2,
            "linecolor": "white",
            "showbackground": true,
            "ticks": "",
            "zerolinecolor": "white"
           },
           "zaxis": {
            "backgroundcolor": "#E5ECF6",
            "gridcolor": "white",
            "gridwidth": 2,
            "linecolor": "white",
            "showbackground": true,
            "ticks": "",
            "zerolinecolor": "white"
           }
          },
          "shapedefaults": {
           "line": {
            "color": "#2a3f5f"
           }
          },
          "ternary": {
           "aaxis": {
            "gridcolor": "white",
            "linecolor": "white",
            "ticks": ""
           },
           "baxis": {
            "gridcolor": "white",
            "linecolor": "white",
            "ticks": ""
           },
           "bgcolor": "#E5ECF6",
           "caxis": {
            "gridcolor": "white",
            "linecolor": "white",
            "ticks": ""
           }
          },
          "title": {
           "x": 0.05
          },
          "xaxis": {
           "automargin": true,
           "gridcolor": "white",
           "linecolor": "white",
           "ticks": "",
           "title": {
            "standoff": 15
           },
           "zerolinecolor": "white",
           "zerolinewidth": 2
          },
          "yaxis": {
           "automargin": true,
           "gridcolor": "white",
           "linecolor": "white",
           "ticks": "",
           "title": {
            "standoff": 15
           },
           "zerolinecolor": "white",
           "zerolinewidth": 2
          }
         }
        },
        "title": {
         "font": {
          "color": "#4D5663"
         },
         "text": "Beef Price Changes and Subsistence Diet Composition with Weight Constraint (Raw Meat)"
        },
        "xaxis": {
         "gridcolor": "#E1E5ED",
         "showgrid": true,
         "tickfont": {
          "color": "#4D5663"
         },
         "title": {
          "font": {
           "color": "#4D5663"
          },
          "text": "Beef Price"
         },
         "zerolinecolor": "#E1E5ED"
        },
        "yaxis": {
         "gridcolor": "#E1E5ED",
         "showgrid": true,
         "tickfont": {
          "color": "#4D5663"
         },
         "title": {
          "font": {
           "color": "#4D5663"
          },
          "text": "Hectograms"
         },
         "zerolinecolor": "#E1E5ED"
        }
       }
      },
      "text/html": [
       "<div>                            <div id=\"4bb3ee2c-09ab-4711-888a-dad8a64080ec\" class=\"plotly-graph-div\" style=\"height:525px; width:100%;\"></div>            <script type=\"text/javascript\">                require([\"plotly\"], function(Plotly) {                    window.PLOTLYENV=window.PLOTLYENV || {};\n",
       "                    window.PLOTLYENV.BASE_URL='https://plot.ly';                                    if (document.getElementById(\"4bb3ee2c-09ab-4711-888a-dad8a64080ec\")) {                    Plotly.newPlot(                        \"4bb3ee2c-09ab-4711-888a-dad8a64080ec\",                        [{\"line\":{\"color\":\"rgba(255, 153, 51, 1.0)\",\"dash\":\"solid\",\"shape\":\"linear\",\"width\":1.3},\"mode\":\"lines\",\"name\":\"Raw Liver\",\"text\":\"\",\"type\":\"scatter\",\"x\":[1.4319023928907797,2.1478535893361697,2.5774243072034033,2.8638047857815594,3.1501852643597155,3.436565742937871,3.722946221516027,4.009326700094183,4.295707178672339,5.727609571563119,11.455219143126238],\"y\":[0.43067806612123827,0.4306780662447361,0.430678066322285,0.43067806637576794,0.43067806643089757,0.43067806648768936,0.43067806654626317,0.4306780666068026,0.43067806666924413,0.4306780670130139,0.43067806621749993]},{\"line\":{\"color\":\"rgba(55, 128, 191, 1.0)\",\"dash\":\"solid\",\"shape\":\"linear\",\"width\":1.3},\"mode\":\"lines\",\"name\":\"2% milk\",\"text\":\"\",\"type\":\"scatter\",\"x\":[1.4319023928907797,2.1478535893361697,2.5774243072034033,2.8638047857815594,3.1501852643597155,3.436565742937871,3.722946221516027,4.009326700094183,4.295707178672339,5.727609571563119,11.455219143126238],\"y\":[2.531126279832484,2.5311262811260296,2.531126281938441,2.5311262824998,2.531126283078786,2.5311262836759374,2.531126284293339,2.5311262849315415,2.5311262855913617,2.5311262892409774,2.531126280032652]},{\"line\":{\"color\":\"rgba(50, 171, 96, 1.0)\",\"dash\":\"solid\",\"shape\":\"linear\",\"width\":1.3},\"mode\":\"lines\",\"name\":\"Lime, raw\",\"text\":\"\",\"type\":\"scatter\",\"x\":[1.4319023928907797,2.1478535893361697,2.5774243072034033,2.8638047857815594,3.1501852643597155,3.436565742937871,3.722946221516027,4.009326700094183,4.295707178672339,5.727609571563119,11.455219143126238],\"y\":[2.942569268137875,2.9425692674709794,2.942569267049764,2.942569266757717,2.942569266455373,2.942569266142142,2.942569265817264,2.9425692654799915,2.9425692651298543,2.942569263167046,2.9425692689223912]},{\"line\":{\"color\":\"rgba(128, 0, 128, 1.0)\",\"dash\":\"solid\",\"shape\":\"linear\",\"width\":1.3},\"mode\":\"lines\",\"name\":\"Cashews, NFS\",\"text\":\"\",\"type\":\"scatter\",\"x\":[1.4319023928907797,2.1478535893361697,2.5774243072034033,2.8638047857815594,3.1501852643597155,3.436565742937871,3.722946221516027,4.009326700094183,4.295707178672339,5.727609571563119,11.455219143126238],\"y\":[2.84287815739977,2.8428781577615077,2.842878157989358,2.8428781581469234,2.842878158309273,2.842878158477145,2.842878158650725,2.8428781588299756,2.842878159015683,2.842878160043098,2.8428781577735207]},{\"line\":{\"color\":\"rgba(219, 64, 82, 1.0)\",\"dash\":\"solid\",\"shape\":\"linear\",\"width\":1.3},\"mode\":\"lines\",\"name\":\"Pistachio nuts, NFS\",\"text\":\"\",\"type\":\"scatter\",\"x\":[1.4319023928907797,2.1478535893361697,2.5774243072034033,2.8638047857815594,3.1501852643597155,3.436565742937871,3.722946221516027,4.009326700094183,4.295707178672339,5.727609571563119,11.455219143126238],\"y\":[1.3565865090610187,1.3565865081063733,1.356586507505128,1.3565865070898613,1.356586506661462,1.3565865062189637,1.3565865057617694,1.356586505289202,1.3565865048003551,1.3565865020966217,1.3565865080494262]},{\"line\":{\"color\":\"rgba(0, 128, 128, 1.0)\",\"dash\":\"solid\",\"shape\":\"linear\",\"width\":1.3},\"mode\":\"lines\",\"name\":\"Almond butter, creamy\",\"text\":\"\",\"type\":\"scatter\",\"x\":[1.4319023928907797,2.1478535893361697,2.5774243072034033,2.8638047857815594,3.1501852643597155,3.436565742937871,3.722946221516027,4.009326700094183,4.295707178672339,5.727609571563119,11.455219143126238],\"y\":[1.1687072039356634,1.1687072033963208,1.1687072030580439,1.1687072028243515,1.1687072025835408,1.168707202335325,1.1687072020788567,1.1687072018138596,1.1687072015400726,1.1687072000287568,1.1687072036699753]}],                        {\"legend\":{\"bgcolor\":\"#F5F6F9\",\"font\":{\"color\":\"#4D5663\"}},\"paper_bgcolor\":\"#F5F6F9\",\"plot_bgcolor\":\"#F5F6F9\",\"template\":{\"data\":{\"bar\":[{\"error_x\":{\"color\":\"#2a3f5f\"},\"error_y\":{\"color\":\"#2a3f5f\"},\"marker\":{\"line\":{\"color\":\"#E5ECF6\",\"width\":0.5},\"pattern\":{\"fillmode\":\"overlay\",\"size\":10,\"solidity\":0.2}},\"type\":\"bar\"}],\"barpolar\":[{\"marker\":{\"line\":{\"color\":\"#E5ECF6\",\"width\":0.5},\"pattern\":{\"fillmode\":\"overlay\",\"size\":10,\"solidity\":0.2}},\"type\":\"barpolar\"}],\"carpet\":[{\"aaxis\":{\"endlinecolor\":\"#2a3f5f\",\"gridcolor\":\"white\",\"linecolor\":\"white\",\"minorgridcolor\":\"white\",\"startlinecolor\":\"#2a3f5f\"},\"baxis\":{\"endlinecolor\":\"#2a3f5f\",\"gridcolor\":\"white\",\"linecolor\":\"white\",\"minorgridcolor\":\"white\",\"startlinecolor\":\"#2a3f5f\"},\"type\":\"carpet\"}],\"choropleth\":[{\"colorbar\":{\"outlinewidth\":0,\"ticks\":\"\"},\"type\":\"choropleth\"}],\"contour\":[{\"colorbar\":{\"outlinewidth\":0,\"ticks\":\"\"},\"colorscale\":[[0.0,\"#0d0887\"],[0.1111111111111111,\"#46039f\"],[0.2222222222222222,\"#7201a8\"],[0.3333333333333333,\"#9c179e\"],[0.4444444444444444,\"#bd3786\"],[0.5555555555555556,\"#d8576b\"],[0.6666666666666666,\"#ed7953\"],[0.7777777777777778,\"#fb9f3a\"],[0.8888888888888888,\"#fdca26\"],[1.0,\"#f0f921\"]],\"type\":\"contour\"}],\"contourcarpet\":[{\"colorbar\":{\"outlinewidth\":0,\"ticks\":\"\"},\"type\":\"contourcarpet\"}],\"heatmap\":[{\"colorbar\":{\"outlinewidth\":0,\"ticks\":\"\"},\"colorscale\":[[0.0,\"#0d0887\"],[0.1111111111111111,\"#46039f\"],[0.2222222222222222,\"#7201a8\"],[0.3333333333333333,\"#9c179e\"],[0.4444444444444444,\"#bd3786\"],[0.5555555555555556,\"#d8576b\"],[0.6666666666666666,\"#ed7953\"],[0.7777777777777778,\"#fb9f3a\"],[0.8888888888888888,\"#fdca26\"],[1.0,\"#f0f921\"]],\"type\":\"heatmap\"}],\"heatmapgl\":[{\"colorbar\":{\"outlinewidth\":0,\"ticks\":\"\"},\"colorscale\":[[0.0,\"#0d0887\"],[0.1111111111111111,\"#46039f\"],[0.2222222222222222,\"#7201a8\"],[0.3333333333333333,\"#9c179e\"],[0.4444444444444444,\"#bd3786\"],[0.5555555555555556,\"#d8576b\"],[0.6666666666666666,\"#ed7953\"],[0.7777777777777778,\"#fb9f3a\"],[0.8888888888888888,\"#fdca26\"],[1.0,\"#f0f921\"]],\"type\":\"heatmapgl\"}],\"histogram\":[{\"marker\":{\"pattern\":{\"fillmode\":\"overlay\",\"size\":10,\"solidity\":0.2}},\"type\":\"histogram\"}],\"histogram2d\":[{\"colorbar\":{\"outlinewidth\":0,\"ticks\":\"\"},\"colorscale\":[[0.0,\"#0d0887\"],[0.1111111111111111,\"#46039f\"],[0.2222222222222222,\"#7201a8\"],[0.3333333333333333,\"#9c179e\"],[0.4444444444444444,\"#bd3786\"],[0.5555555555555556,\"#d8576b\"],[0.6666666666666666,\"#ed7953\"],[0.7777777777777778,\"#fb9f3a\"],[0.8888888888888888,\"#fdca26\"],[1.0,\"#f0f921\"]],\"type\":\"histogram2d\"}],\"histogram2dcontour\":[{\"colorbar\":{\"outlinewidth\":0,\"ticks\":\"\"},\"colorscale\":[[0.0,\"#0d0887\"],[0.1111111111111111,\"#46039f\"],[0.2222222222222222,\"#7201a8\"],[0.3333333333333333,\"#9c179e\"],[0.4444444444444444,\"#bd3786\"],[0.5555555555555556,\"#d8576b\"],[0.6666666666666666,\"#ed7953\"],[0.7777777777777778,\"#fb9f3a\"],[0.8888888888888888,\"#fdca26\"],[1.0,\"#f0f921\"]],\"type\":\"histogram2dcontour\"}],\"mesh3d\":[{\"colorbar\":{\"outlinewidth\":0,\"ticks\":\"\"},\"type\":\"mesh3d\"}],\"parcoords\":[{\"line\":{\"colorbar\":{\"outlinewidth\":0,\"ticks\":\"\"}},\"type\":\"parcoords\"}],\"pie\":[{\"automargin\":true,\"type\":\"pie\"}],\"scatter\":[{\"marker\":{\"colorbar\":{\"outlinewidth\":0,\"ticks\":\"\"}},\"type\":\"scatter\"}],\"scatter3d\":[{\"line\":{\"colorbar\":{\"outlinewidth\":0,\"ticks\":\"\"}},\"marker\":{\"colorbar\":{\"outlinewidth\":0,\"ticks\":\"\"}},\"type\":\"scatter3d\"}],\"scattercarpet\":[{\"marker\":{\"colorbar\":{\"outlinewidth\":0,\"ticks\":\"\"}},\"type\":\"scattercarpet\"}],\"scattergeo\":[{\"marker\":{\"colorbar\":{\"outlinewidth\":0,\"ticks\":\"\"}},\"type\":\"scattergeo\"}],\"scattergl\":[{\"marker\":{\"colorbar\":{\"outlinewidth\":0,\"ticks\":\"\"}},\"type\":\"scattergl\"}],\"scattermapbox\":[{\"marker\":{\"colorbar\":{\"outlinewidth\":0,\"ticks\":\"\"}},\"type\":\"scattermapbox\"}],\"scatterpolar\":[{\"marker\":{\"colorbar\":{\"outlinewidth\":0,\"ticks\":\"\"}},\"type\":\"scatterpolar\"}],\"scatterpolargl\":[{\"marker\":{\"colorbar\":{\"outlinewidth\":0,\"ticks\":\"\"}},\"type\":\"scatterpolargl\"}],\"scatterternary\":[{\"marker\":{\"colorbar\":{\"outlinewidth\":0,\"ticks\":\"\"}},\"type\":\"scatterternary\"}],\"surface\":[{\"colorbar\":{\"outlinewidth\":0,\"ticks\":\"\"},\"colorscale\":[[0.0,\"#0d0887\"],[0.1111111111111111,\"#46039f\"],[0.2222222222222222,\"#7201a8\"],[0.3333333333333333,\"#9c179e\"],[0.4444444444444444,\"#bd3786\"],[0.5555555555555556,\"#d8576b\"],[0.6666666666666666,\"#ed7953\"],[0.7777777777777778,\"#fb9f3a\"],[0.8888888888888888,\"#fdca26\"],[1.0,\"#f0f921\"]],\"type\":\"surface\"}],\"table\":[{\"cells\":{\"fill\":{\"color\":\"#EBF0F8\"},\"line\":{\"color\":\"white\"}},\"header\":{\"fill\":{\"color\":\"#C8D4E3\"},\"line\":{\"color\":\"white\"}},\"type\":\"table\"}]},\"layout\":{\"annotationdefaults\":{\"arrowcolor\":\"#2a3f5f\",\"arrowhead\":0,\"arrowwidth\":1},\"autotypenumbers\":\"strict\",\"coloraxis\":{\"colorbar\":{\"outlinewidth\":0,\"ticks\":\"\"}},\"colorscale\":{\"diverging\":[[0,\"#8e0152\"],[0.1,\"#c51b7d\"],[0.2,\"#de77ae\"],[0.3,\"#f1b6da\"],[0.4,\"#fde0ef\"],[0.5,\"#f7f7f7\"],[0.6,\"#e6f5d0\"],[0.7,\"#b8e186\"],[0.8,\"#7fbc41\"],[0.9,\"#4d9221\"],[1,\"#276419\"]],\"sequential\":[[0.0,\"#0d0887\"],[0.1111111111111111,\"#46039f\"],[0.2222222222222222,\"#7201a8\"],[0.3333333333333333,\"#9c179e\"],[0.4444444444444444,\"#bd3786\"],[0.5555555555555556,\"#d8576b\"],[0.6666666666666666,\"#ed7953\"],[0.7777777777777778,\"#fb9f3a\"],[0.8888888888888888,\"#fdca26\"],[1.0,\"#f0f921\"]],\"sequentialminus\":[[0.0,\"#0d0887\"],[0.1111111111111111,\"#46039f\"],[0.2222222222222222,\"#7201a8\"],[0.3333333333333333,\"#9c179e\"],[0.4444444444444444,\"#bd3786\"],[0.5555555555555556,\"#d8576b\"],[0.6666666666666666,\"#ed7953\"],[0.7777777777777778,\"#fb9f3a\"],[0.8888888888888888,\"#fdca26\"],[1.0,\"#f0f921\"]]},\"colorway\":[\"#636efa\",\"#EF553B\",\"#00cc96\",\"#ab63fa\",\"#FFA15A\",\"#19d3f3\",\"#FF6692\",\"#B6E880\",\"#FF97FF\",\"#FECB52\"],\"font\":{\"color\":\"#2a3f5f\"},\"geo\":{\"bgcolor\":\"white\",\"lakecolor\":\"white\",\"landcolor\":\"#E5ECF6\",\"showlakes\":true,\"showland\":true,\"subunitcolor\":\"white\"},\"hoverlabel\":{\"align\":\"left\"},\"hovermode\":\"closest\",\"mapbox\":{\"style\":\"light\"},\"paper_bgcolor\":\"white\",\"plot_bgcolor\":\"#E5ECF6\",\"polar\":{\"angularaxis\":{\"gridcolor\":\"white\",\"linecolor\":\"white\",\"ticks\":\"\"},\"bgcolor\":\"#E5ECF6\",\"radialaxis\":{\"gridcolor\":\"white\",\"linecolor\":\"white\",\"ticks\":\"\"}},\"scene\":{\"xaxis\":{\"backgroundcolor\":\"#E5ECF6\",\"gridcolor\":\"white\",\"gridwidth\":2,\"linecolor\":\"white\",\"showbackground\":true,\"ticks\":\"\",\"zerolinecolor\":\"white\"},\"yaxis\":{\"backgroundcolor\":\"#E5ECF6\",\"gridcolor\":\"white\",\"gridwidth\":2,\"linecolor\":\"white\",\"showbackground\":true,\"ticks\":\"\",\"zerolinecolor\":\"white\"},\"zaxis\":{\"backgroundcolor\":\"#E5ECF6\",\"gridcolor\":\"white\",\"gridwidth\":2,\"linecolor\":\"white\",\"showbackground\":true,\"ticks\":\"\",\"zerolinecolor\":\"white\"}},\"shapedefaults\":{\"line\":{\"color\":\"#2a3f5f\"}},\"ternary\":{\"aaxis\":{\"gridcolor\":\"white\",\"linecolor\":\"white\",\"ticks\":\"\"},\"baxis\":{\"gridcolor\":\"white\",\"linecolor\":\"white\",\"ticks\":\"\"},\"bgcolor\":\"#E5ECF6\",\"caxis\":{\"gridcolor\":\"white\",\"linecolor\":\"white\",\"ticks\":\"\"}},\"title\":{\"x\":0.05},\"xaxis\":{\"automargin\":true,\"gridcolor\":\"white\",\"linecolor\":\"white\",\"ticks\":\"\",\"title\":{\"standoff\":15},\"zerolinecolor\":\"white\",\"zerolinewidth\":2},\"yaxis\":{\"automargin\":true,\"gridcolor\":\"white\",\"linecolor\":\"white\",\"ticks\":\"\",\"title\":{\"standoff\":15},\"zerolinecolor\":\"white\",\"zerolinewidth\":2}}},\"title\":{\"font\":{\"color\":\"#4D5663\"},\"text\":\"Beef Price Changes and Subsistence Diet Composition with Weight Constraint (Raw Meat)\"},\"xaxis\":{\"gridcolor\":\"#E1E5ED\",\"showgrid\":true,\"tickfont\":{\"color\":\"#4D5663\"},\"title\":{\"font\":{\"color\":\"#4D5663\"},\"text\":\"Beef Price\"},\"zerolinecolor\":\"#E1E5ED\"},\"yaxis\":{\"gridcolor\":\"#E1E5ED\",\"showgrid\":true,\"tickfont\":{\"color\":\"#4D5663\"},\"title\":{\"font\":{\"color\":\"#4D5663\"},\"text\":\"Hectograms\"},\"zerolinecolor\":\"#E1E5ED\"}},                        {\"showLink\": true, \"linkText\": \"Export to plot.ly\", \"plotlyServerURL\": \"https://plot.ly\", \"responsive\": true}                    ).then(function(){\n",
       "                            \n",
       "var gd = document.getElementById('4bb3ee2c-09ab-4711-888a-dad8a64080ec');\n",
       "var x = new MutationObserver(function (mutations, observer) {{\n",
       "        var display = window.getComputedStyle(gd).display;\n",
       "        if (!display || display === 'none') {{\n",
       "            console.log([gd, 'removed!']);\n",
       "            Plotly.purge(gd);\n",
       "            observer.disconnect();\n",
       "        }}\n",
       "}});\n",
       "\n",
       "// Listen for the removal of the full notebook cells\n",
       "var notebookContainer = gd.closest('#notebook-container');\n",
       "if (notebookContainer) {{\n",
       "    x.observe(notebookContainer, {childList: true});\n",
       "}}\n",
       "\n",
       "// Listen for the clearing of the current output cell\n",
       "var outputEl = gd.closest('.output');\n",
       "if (outputEl) {{\n",
       "    x.observe(outputEl, {childList: true});\n",
       "}}\n",
       "\n",
       "                        })                };                });            </script>        </div>"
      ]
     },
     "metadata": {},
     "output_type": "display_data"
    }
   ],
   "source": [
    "Beef_Meat_response_Constraint = getEffectsofPriceChangeGraphConstraint(\"meat\", \"Beef\")"
   ]
  },
  {
   "cell_type": "code",
   "execution_count": 131,
   "id": "37f10b4a",
   "metadata": {},
   "outputs": [
    {
     "data": {
      "text/html": [
       "        <script type=\"text/javascript\">\n",
       "        window.PlotlyConfig = {MathJaxConfig: 'local'};\n",
       "        if (window.MathJax) {MathJax.Hub.Config({SVG: {font: \"STIX-Web\"}});}\n",
       "        if (typeof require !== 'undefined') {\n",
       "        require.undef(\"plotly\");\n",
       "        requirejs.config({\n",
       "            paths: {\n",
       "                'plotly': ['https://cdn.plot.ly/plotly-2.3.1.min']\n",
       "            }\n",
       "        });\n",
       "        require(['plotly'], function(Plotly) {\n",
       "            window._Plotly = Plotly;\n",
       "        });\n",
       "        }\n",
       "        </script>\n",
       "        "
      ]
     },
     "metadata": {},
     "output_type": "display_data"
    },
    {
     "data": {
      "application/vnd.plotly.v1+json": {
       "config": {
        "linkText": "Export to plot.ly",
        "plotlyServerURL": "https://plot.ly",
        "showLink": true
       },
       "data": [
        {
         "line": {
          "color": "rgba(255, 153, 51, 1.0)",
          "dash": "solid",
          "shape": "linear",
          "width": 1.3
         },
         "mode": "lines",
         "name": "Russet Potato",
         "text": "",
         "type": "scatter",
         "x": [
          0.16424438532773378,
          0.24636657799160067,
          0.2956398935899208,
          0.32848877065546755,
          0.36133764772101434,
          0.3941865247865611,
          0.4270354018521078,
          0.45988427891765454,
          0.49273315598320133,
          0.6569775413109351,
          1.3139550826218702
         ],
         "y": [
          2.2569619899245708,
          1.7304853155541047,
          1.7304861117086647,
          1.7304859802561963,
          1.730484136178282,
          1.730485322489194,
          1.7304853201591088,
          1.730485319802962,
          1.730485319783761,
          1.730485318335992,
          1.7304853228717312
         ]
        },
        {
         "line": {
          "color": "rgba(55, 128, 191, 1.0)",
          "dash": "solid",
          "shape": "linear",
          "width": 1.3
         },
         "mode": "lines",
         "name": "Pasta",
         "text": "",
         "type": "scatter",
         "x": [
          0.16424438532773378,
          0.24636657799160067,
          0.2956398935899208,
          0.32848877065546755,
          0.36133764772101434,
          0.3941865247865611,
          0.4270354018521078,
          0.45988427891765454,
          0.49273315598320133,
          0.6569775413109351,
          1.3139550826218702
         ],
         "y": [
          2.9380634298859173e-08,
          7.913881533728773e-11,
          1.6604331604257086e-06,
          1.001868762293979e-06,
          1.3301183042663329e-06,
          4.840692733356178e-10,
          1.6791486267436352e-09,
          3.125836078920664e-09,
          4.462685887904713e-09,
          9.325694949812347e-09,
          3.656330431925098e-11
         ]
        },
        {
         "line": {
          "color": "rgba(50, 171, 96, 1.0)",
          "dash": "solid",
          "shape": "linear",
          "width": 1.3
         },
         "mode": "lines",
         "name": "Peanut butter, creamy",
         "text": "",
         "type": "scatter",
         "x": [
          0.16424438532773378,
          0.24636657799160067,
          0.2956398935899208,
          0.32848877065546755,
          0.36133764772101434,
          0.3941865247865611,
          0.4270354018521078,
          0.45988427891765454,
          0.49273315598320133,
          0.6569775413109351,
          1.3139550826218702
         ],
         "y": [
          2.336406325818332,
          2.541607167462704,
          2.5416060391795705,
          2.541606427810305,
          2.541606362050904,
          2.541607167431466,
          2.5416071666562265,
          2.541607165532678,
          2.54160716443821,
          2.5416071599377563,
          2.541607167658235
         ]
        },
        {
         "line": {
          "color": "rgba(128, 0, 128, 1.0)",
          "dash": "solid",
          "shape": "linear",
          "width": 1.3
         },
         "mode": "lines",
         "name": "Carrots",
         "text": "",
         "type": "scatter",
         "x": [
          0.16424438532773378,
          0.24636657799160067,
          0.2956398935899208,
          0.32848877065546755,
          0.36133764772101434,
          0.3941865247865611,
          0.4270354018521078,
          0.45988427891765454,
          0.49273315598320133,
          0.6569775413109351,
          1.3139550826218702
         ],
         "y": [
          2.467910060055224,
          8.270637729897662e-12,
          6.809637169395929e-07,
          2.459778381161632e-07,
          2.1164771548455003e-07,
          6.597101511351521e-11,
          1.4206206657405382e-10,
          2.5648600464293405e-10,
          3.39376194275435e-10,
          5.090408435099549e-10,
          2.9830436082767008e-12
         ]
        },
        {
         "line": {
          "color": "rgba(219, 64, 82, 1.0)",
          "dash": "solid",
          "shape": "linear",
          "width": 1.3
         },
         "mode": "lines",
         "name": "White bread",
         "text": "",
         "type": "scatter",
         "x": [
          0.16424438532773378,
          0.24636657799160067,
          0.2956398935899208,
          0.32848877065546755,
          0.36133764772101434,
          0.3941865247865611,
          0.4270354018521078,
          0.45988427891765454,
          0.49273315598320133,
          0.6569775413109351,
          1.3139550826218702
         ],
         "y": [
          1.1574124439181903,
          1.0380122878643372,
          1.038011965893087,
          1.0380120873450938,
          1.0380120951672138,
          1.0380122863943726,
          1.038012286199962,
          1.0380122859521153,
          1.0380122857237066,
          1.0380122849139488,
          1.0380122866126227
         ]
        },
        {
         "line": {
          "color": "rgba(0, 128, 128, 1.0)",
          "dash": "solid",
          "shape": "linear",
          "width": 1.3
         },
         "mode": "lines",
         "name": "Collards, raw",
         "text": "",
         "type": "scatter",
         "x": [
          0.16424438532773378,
          0.24636657799160067,
          0.2956398935899208,
          0.32848877065546755,
          0.36133764772101434,
          0.3941865247865611,
          0.4270354018521078,
          0.45988427891765454,
          0.49273315598320133,
          0.6569775413109351,
          1.3139550826218702
         ],
         "y": [
          0.12798538810709756,
          0.11543283018582048,
          0.1154327313610723,
          0.11543275667216703,
          0.1154327415293499,
          0.11543283012287595,
          0.11543283001816092,
          0.11543282993987741,
          0.11543282987027659,
          0.11543282954022678,
          0.11543283014807326
         ]
        },
        {
         "line": {
          "color": "rgba(255, 255, 51, 1.0)",
          "dash": "solid",
          "shape": "linear",
          "width": 1.3
         },
         "mode": "lines",
         "name": "Carrots, raw",
         "text": "",
         "type": "scatter",
         "x": [
          0.16424438532773378,
          0.24636657799160067,
          0.2956398935899208,
          0.32848877065546755,
          0.36133764772101434,
          0.3941865247865611,
          0.4270354018521078,
          0.45988427891765454,
          0.49273315598320133,
          0.6569775413109351,
          1.3139550826218702
         ],
         "y": [
          1.0243725040554372,
          1.0252150251971155,
          1.0252203267984172,
          1.0252189347775353,
          1.025218689831995,
          1.0252150239250442,
          1.0252150269828662,
          1.0252150294158224,
          1.0252150315285127,
          1.0252150399252504,
          1.0252150236648971
         ]
        },
        {
         "line": {
          "color": "rgba(128, 128, 0, 1.0)",
          "dash": "solid",
          "shape": "linear",
          "width": 1.3
         },
         "mode": "lines",
         "name": "Avocado, raw",
         "text": "",
         "type": "scatter",
         "x": [
          0.16424438532773378,
          0.24636657799160067,
          0.2956398935899208,
          0.32848877065546755,
          0.36133764772101434,
          0.3941865247865611,
          0.4270354018521078,
          0.45988427891765454,
          0.49273315598320133,
          0.6569775413109351,
          1.3139550826218702
         ],
         "y": [
          1.7892409809029706,
          2.1388307956548633,
          2.138830639954806,
          2.1388305910504797,
          2.1388312407847776,
          2.1388307971599794,
          2.1388307981270662,
          2.138830799118394,
          2.1388308000458927,
          2.1388308043400674,
          2.1388307965627105
         ]
        },
        {
         "line": {
          "color": "rgba(251, 128, 114, 1.0)",
          "dash": "solid",
          "shape": "linear",
          "width": 1.3
         },
         "mode": "lines",
         "name": "Lentils, NFS",
         "text": "",
         "type": "scatter",
         "x": [
          0.16424438532773378,
          0.24636657799160067,
          0.2956398935899208,
          0.32848877065546755,
          0.36133764772101434,
          0.3941865247865611,
          0.4270354018521078,
          0.45988427891765454,
          0.49273315598320133,
          0.6569775413109351,
          1.3139550826218702
         ],
         "y": [
          1.7081392470436568e-07,
          0.8325019360517865,
          0.8324992225165194,
          0.8325000402311349,
          0.8325007153495905,
          0.8325019328949416,
          0.8325019321742106,
          0.8325019305571368,
          0.8325019289221527,
          0.8325019224199294,
          0.8325019331400108
         ]
        },
        {
         "line": {
          "color": "rgba(128, 177, 211, 1.0)",
          "dash": "solid",
          "shape": "linear",
          "width": 1.3
         },
         "mode": "lines",
         "name": "Oranges, raw, navels",
         "text": "",
         "type": "scatter",
         "x": [
          0.16424438532773378,
          0.24636657799160067,
          0.2956398935899208,
          0.32848877065546755,
          0.36133764772101434,
          0.3941865247865611,
          0.4270354018521078,
          0.45988427891765454,
          0.49273315598320133,
          0.6569775413109351,
          1.3139550826218702
         ],
         "y": [
          0.8237088648059814,
          0.8227475149764107,
          0.8227455952256926,
          0.8227460724451198,
          0.822745735957752,
          0.8227475144625112,
          0.8227475131934224,
          0.822747510695799,
          0.8227475082010558,
          0.8227474982144224,
          0.8227475151427086
         ]
        },
        {
         "line": {
          "color": "rgba(128, 177, 211, 0.8999999999999999)",
          "dash": "solid",
          "shape": "linear",
          "width": 1.3
         },
         "mode": "lines",
         "name": "Nutritional Yeast",
         "text": "",
         "type": "scatter",
         "x": [
          0.16424438532773378,
          0.24636657799160067,
          0.2956398935899208,
          0.32848877065546755,
          0.36133764772101434,
          0.3941865247865611,
          0.4270354018521078,
          0.45988427891765454,
          0.49273315598320133,
          0.6569775413109351,
          1.3139550826218702
         ],
         "y": [
          0.01600000156876903,
          0.01600000001369911,
          0.016000008585573846,
          0.01600000591197063,
          0.016000007292110662,
          0.016000000003054866,
          0.01600000000943392,
          0.01600000001808458,
          0.01600000002638537,
          0.01600000005979806,
          0.016000000000471602
         ]
        }
       ],
       "layout": {
        "legend": {
         "bgcolor": "#F5F6F9",
         "font": {
          "color": "#4D5663"
         }
        },
        "paper_bgcolor": "#F5F6F9",
        "plot_bgcolor": "#F5F6F9",
        "template": {
         "data": {
          "bar": [
           {
            "error_x": {
             "color": "#2a3f5f"
            },
            "error_y": {
             "color": "#2a3f5f"
            },
            "marker": {
             "line": {
              "color": "#E5ECF6",
              "width": 0.5
             },
             "pattern": {
              "fillmode": "overlay",
              "size": 10,
              "solidity": 0.2
             }
            },
            "type": "bar"
           }
          ],
          "barpolar": [
           {
            "marker": {
             "line": {
              "color": "#E5ECF6",
              "width": 0.5
             },
             "pattern": {
              "fillmode": "overlay",
              "size": 10,
              "solidity": 0.2
             }
            },
            "type": "barpolar"
           }
          ],
          "carpet": [
           {
            "aaxis": {
             "endlinecolor": "#2a3f5f",
             "gridcolor": "white",
             "linecolor": "white",
             "minorgridcolor": "white",
             "startlinecolor": "#2a3f5f"
            },
            "baxis": {
             "endlinecolor": "#2a3f5f",
             "gridcolor": "white",
             "linecolor": "white",
             "minorgridcolor": "white",
             "startlinecolor": "#2a3f5f"
            },
            "type": "carpet"
           }
          ],
          "choropleth": [
           {
            "colorbar": {
             "outlinewidth": 0,
             "ticks": ""
            },
            "type": "choropleth"
           }
          ],
          "contour": [
           {
            "colorbar": {
             "outlinewidth": 0,
             "ticks": ""
            },
            "colorscale": [
             [
              0,
              "#0d0887"
             ],
             [
              0.1111111111111111,
              "#46039f"
             ],
             [
              0.2222222222222222,
              "#7201a8"
             ],
             [
              0.3333333333333333,
              "#9c179e"
             ],
             [
              0.4444444444444444,
              "#bd3786"
             ],
             [
              0.5555555555555556,
              "#d8576b"
             ],
             [
              0.6666666666666666,
              "#ed7953"
             ],
             [
              0.7777777777777778,
              "#fb9f3a"
             ],
             [
              0.8888888888888888,
              "#fdca26"
             ],
             [
              1,
              "#f0f921"
             ]
            ],
            "type": "contour"
           }
          ],
          "contourcarpet": [
           {
            "colorbar": {
             "outlinewidth": 0,
             "ticks": ""
            },
            "type": "contourcarpet"
           }
          ],
          "heatmap": [
           {
            "colorbar": {
             "outlinewidth": 0,
             "ticks": ""
            },
            "colorscale": [
             [
              0,
              "#0d0887"
             ],
             [
              0.1111111111111111,
              "#46039f"
             ],
             [
              0.2222222222222222,
              "#7201a8"
             ],
             [
              0.3333333333333333,
              "#9c179e"
             ],
             [
              0.4444444444444444,
              "#bd3786"
             ],
             [
              0.5555555555555556,
              "#d8576b"
             ],
             [
              0.6666666666666666,
              "#ed7953"
             ],
             [
              0.7777777777777778,
              "#fb9f3a"
             ],
             [
              0.8888888888888888,
              "#fdca26"
             ],
             [
              1,
              "#f0f921"
             ]
            ],
            "type": "heatmap"
           }
          ],
          "heatmapgl": [
           {
            "colorbar": {
             "outlinewidth": 0,
             "ticks": ""
            },
            "colorscale": [
             [
              0,
              "#0d0887"
             ],
             [
              0.1111111111111111,
              "#46039f"
             ],
             [
              0.2222222222222222,
              "#7201a8"
             ],
             [
              0.3333333333333333,
              "#9c179e"
             ],
             [
              0.4444444444444444,
              "#bd3786"
             ],
             [
              0.5555555555555556,
              "#d8576b"
             ],
             [
              0.6666666666666666,
              "#ed7953"
             ],
             [
              0.7777777777777778,
              "#fb9f3a"
             ],
             [
              0.8888888888888888,
              "#fdca26"
             ],
             [
              1,
              "#f0f921"
             ]
            ],
            "type": "heatmapgl"
           }
          ],
          "histogram": [
           {
            "marker": {
             "pattern": {
              "fillmode": "overlay",
              "size": 10,
              "solidity": 0.2
             }
            },
            "type": "histogram"
           }
          ],
          "histogram2d": [
           {
            "colorbar": {
             "outlinewidth": 0,
             "ticks": ""
            },
            "colorscale": [
             [
              0,
              "#0d0887"
             ],
             [
              0.1111111111111111,
              "#46039f"
             ],
             [
              0.2222222222222222,
              "#7201a8"
             ],
             [
              0.3333333333333333,
              "#9c179e"
             ],
             [
              0.4444444444444444,
              "#bd3786"
             ],
             [
              0.5555555555555556,
              "#d8576b"
             ],
             [
              0.6666666666666666,
              "#ed7953"
             ],
             [
              0.7777777777777778,
              "#fb9f3a"
             ],
             [
              0.8888888888888888,
              "#fdca26"
             ],
             [
              1,
              "#f0f921"
             ]
            ],
            "type": "histogram2d"
           }
          ],
          "histogram2dcontour": [
           {
            "colorbar": {
             "outlinewidth": 0,
             "ticks": ""
            },
            "colorscale": [
             [
              0,
              "#0d0887"
             ],
             [
              0.1111111111111111,
              "#46039f"
             ],
             [
              0.2222222222222222,
              "#7201a8"
             ],
             [
              0.3333333333333333,
              "#9c179e"
             ],
             [
              0.4444444444444444,
              "#bd3786"
             ],
             [
              0.5555555555555556,
              "#d8576b"
             ],
             [
              0.6666666666666666,
              "#ed7953"
             ],
             [
              0.7777777777777778,
              "#fb9f3a"
             ],
             [
              0.8888888888888888,
              "#fdca26"
             ],
             [
              1,
              "#f0f921"
             ]
            ],
            "type": "histogram2dcontour"
           }
          ],
          "mesh3d": [
           {
            "colorbar": {
             "outlinewidth": 0,
             "ticks": ""
            },
            "type": "mesh3d"
           }
          ],
          "parcoords": [
           {
            "line": {
             "colorbar": {
              "outlinewidth": 0,
              "ticks": ""
             }
            },
            "type": "parcoords"
           }
          ],
          "pie": [
           {
            "automargin": true,
            "type": "pie"
           }
          ],
          "scatter": [
           {
            "marker": {
             "colorbar": {
              "outlinewidth": 0,
              "ticks": ""
             }
            },
            "type": "scatter"
           }
          ],
          "scatter3d": [
           {
            "line": {
             "colorbar": {
              "outlinewidth": 0,
              "ticks": ""
             }
            },
            "marker": {
             "colorbar": {
              "outlinewidth": 0,
              "ticks": ""
             }
            },
            "type": "scatter3d"
           }
          ],
          "scattercarpet": [
           {
            "marker": {
             "colorbar": {
              "outlinewidth": 0,
              "ticks": ""
             }
            },
            "type": "scattercarpet"
           }
          ],
          "scattergeo": [
           {
            "marker": {
             "colorbar": {
              "outlinewidth": 0,
              "ticks": ""
             }
            },
            "type": "scattergeo"
           }
          ],
          "scattergl": [
           {
            "marker": {
             "colorbar": {
              "outlinewidth": 0,
              "ticks": ""
             }
            },
            "type": "scattergl"
           }
          ],
          "scattermapbox": [
           {
            "marker": {
             "colorbar": {
              "outlinewidth": 0,
              "ticks": ""
             }
            },
            "type": "scattermapbox"
           }
          ],
          "scatterpolar": [
           {
            "marker": {
             "colorbar": {
              "outlinewidth": 0,
              "ticks": ""
             }
            },
            "type": "scatterpolar"
           }
          ],
          "scatterpolargl": [
           {
            "marker": {
             "colorbar": {
              "outlinewidth": 0,
              "ticks": ""
             }
            },
            "type": "scatterpolargl"
           }
          ],
          "scatterternary": [
           {
            "marker": {
             "colorbar": {
              "outlinewidth": 0,
              "ticks": ""
             }
            },
            "type": "scatterternary"
           }
          ],
          "surface": [
           {
            "colorbar": {
             "outlinewidth": 0,
             "ticks": ""
            },
            "colorscale": [
             [
              0,
              "#0d0887"
             ],
             [
              0.1111111111111111,
              "#46039f"
             ],
             [
              0.2222222222222222,
              "#7201a8"
             ],
             [
              0.3333333333333333,
              "#9c179e"
             ],
             [
              0.4444444444444444,
              "#bd3786"
             ],
             [
              0.5555555555555556,
              "#d8576b"
             ],
             [
              0.6666666666666666,
              "#ed7953"
             ],
             [
              0.7777777777777778,
              "#fb9f3a"
             ],
             [
              0.8888888888888888,
              "#fdca26"
             ],
             [
              1,
              "#f0f921"
             ]
            ],
            "type": "surface"
           }
          ],
          "table": [
           {
            "cells": {
             "fill": {
              "color": "#EBF0F8"
             },
             "line": {
              "color": "white"
             }
            },
            "header": {
             "fill": {
              "color": "#C8D4E3"
             },
             "line": {
              "color": "white"
             }
            },
            "type": "table"
           }
          ]
         },
         "layout": {
          "annotationdefaults": {
           "arrowcolor": "#2a3f5f",
           "arrowhead": 0,
           "arrowwidth": 1
          },
          "autotypenumbers": "strict",
          "coloraxis": {
           "colorbar": {
            "outlinewidth": 0,
            "ticks": ""
           }
          },
          "colorscale": {
           "diverging": [
            [
             0,
             "#8e0152"
            ],
            [
             0.1,
             "#c51b7d"
            ],
            [
             0.2,
             "#de77ae"
            ],
            [
             0.3,
             "#f1b6da"
            ],
            [
             0.4,
             "#fde0ef"
            ],
            [
             0.5,
             "#f7f7f7"
            ],
            [
             0.6,
             "#e6f5d0"
            ],
            [
             0.7,
             "#b8e186"
            ],
            [
             0.8,
             "#7fbc41"
            ],
            [
             0.9,
             "#4d9221"
            ],
            [
             1,
             "#276419"
            ]
           ],
           "sequential": [
            [
             0,
             "#0d0887"
            ],
            [
             0.1111111111111111,
             "#46039f"
            ],
            [
             0.2222222222222222,
             "#7201a8"
            ],
            [
             0.3333333333333333,
             "#9c179e"
            ],
            [
             0.4444444444444444,
             "#bd3786"
            ],
            [
             0.5555555555555556,
             "#d8576b"
            ],
            [
             0.6666666666666666,
             "#ed7953"
            ],
            [
             0.7777777777777778,
             "#fb9f3a"
            ],
            [
             0.8888888888888888,
             "#fdca26"
            ],
            [
             1,
             "#f0f921"
            ]
           ],
           "sequentialminus": [
            [
             0,
             "#0d0887"
            ],
            [
             0.1111111111111111,
             "#46039f"
            ],
            [
             0.2222222222222222,
             "#7201a8"
            ],
            [
             0.3333333333333333,
             "#9c179e"
            ],
            [
             0.4444444444444444,
             "#bd3786"
            ],
            [
             0.5555555555555556,
             "#d8576b"
            ],
            [
             0.6666666666666666,
             "#ed7953"
            ],
            [
             0.7777777777777778,
             "#fb9f3a"
            ],
            [
             0.8888888888888888,
             "#fdca26"
            ],
            [
             1,
             "#f0f921"
            ]
           ]
          },
          "colorway": [
           "#636efa",
           "#EF553B",
           "#00cc96",
           "#ab63fa",
           "#FFA15A",
           "#19d3f3",
           "#FF6692",
           "#B6E880",
           "#FF97FF",
           "#FECB52"
          ],
          "font": {
           "color": "#2a3f5f"
          },
          "geo": {
           "bgcolor": "white",
           "lakecolor": "white",
           "landcolor": "#E5ECF6",
           "showlakes": true,
           "showland": true,
           "subunitcolor": "white"
          },
          "hoverlabel": {
           "align": "left"
          },
          "hovermode": "closest",
          "mapbox": {
           "style": "light"
          },
          "paper_bgcolor": "white",
          "plot_bgcolor": "#E5ECF6",
          "polar": {
           "angularaxis": {
            "gridcolor": "white",
            "linecolor": "white",
            "ticks": ""
           },
           "bgcolor": "#E5ECF6",
           "radialaxis": {
            "gridcolor": "white",
            "linecolor": "white",
            "ticks": ""
           }
          },
          "scene": {
           "xaxis": {
            "backgroundcolor": "#E5ECF6",
            "gridcolor": "white",
            "gridwidth": 2,
            "linecolor": "white",
            "showbackground": true,
            "ticks": "",
            "zerolinecolor": "white"
           },
           "yaxis": {
            "backgroundcolor": "#E5ECF6",
            "gridcolor": "white",
            "gridwidth": 2,
            "linecolor": "white",
            "showbackground": true,
            "ticks": "",
            "zerolinecolor": "white"
           },
           "zaxis": {
            "backgroundcolor": "#E5ECF6",
            "gridcolor": "white",
            "gridwidth": 2,
            "linecolor": "white",
            "showbackground": true,
            "ticks": "",
            "zerolinecolor": "white"
           }
          },
          "shapedefaults": {
           "line": {
            "color": "#2a3f5f"
           }
          },
          "ternary": {
           "aaxis": {
            "gridcolor": "white",
            "linecolor": "white",
            "ticks": ""
           },
           "baxis": {
            "gridcolor": "white",
            "linecolor": "white",
            "ticks": ""
           },
           "bgcolor": "#E5ECF6",
           "caxis": {
            "gridcolor": "white",
            "linecolor": "white",
            "ticks": ""
           }
          },
          "title": {
           "x": 0.05
          },
          "xaxis": {
           "automargin": true,
           "gridcolor": "white",
           "linecolor": "white",
           "ticks": "",
           "title": {
            "standoff": 15
           },
           "zerolinecolor": "white",
           "zerolinewidth": 2
          },
          "yaxis": {
           "automargin": true,
           "gridcolor": "white",
           "linecolor": "white",
           "ticks": "",
           "title": {
            "standoff": 15
           },
           "zerolinecolor": "white",
           "zerolinewidth": 2
          }
         }
        },
        "title": {
         "font": {
          "color": "#4D5663"
         },
         "text": "Carrots Price Changes and Subsistence Diet Composition with Weight Constraint (Raw Vegan)"
        },
        "xaxis": {
         "gridcolor": "#E1E5ED",
         "showgrid": true,
         "tickfont": {
          "color": "#4D5663"
         },
         "title": {
          "font": {
           "color": "#4D5663"
          },
          "text": "Carrots Price"
         },
         "zerolinecolor": "#E1E5ED"
        },
        "yaxis": {
         "gridcolor": "#E1E5ED",
         "showgrid": true,
         "tickfont": {
          "color": "#4D5663"
         },
         "title": {
          "font": {
           "color": "#4D5663"
          },
          "text": "Hectograms"
         },
         "zerolinecolor": "#E1E5ED"
        }
       }
      },
      "text/html": [
       "<div>                            <div id=\"8c03bd26-61fa-4890-9eba-0f0b641c427d\" class=\"plotly-graph-div\" style=\"height:525px; width:100%;\"></div>            <script type=\"text/javascript\">                require([\"plotly\"], function(Plotly) {                    window.PLOTLYENV=window.PLOTLYENV || {};\n",
       "                    window.PLOTLYENV.BASE_URL='https://plot.ly';                                    if (document.getElementById(\"8c03bd26-61fa-4890-9eba-0f0b641c427d\")) {                    Plotly.newPlot(                        \"8c03bd26-61fa-4890-9eba-0f0b641c427d\",                        [{\"line\":{\"color\":\"rgba(255, 153, 51, 1.0)\",\"dash\":\"solid\",\"shape\":\"linear\",\"width\":1.3},\"mode\":\"lines\",\"name\":\"Russet Potato\",\"text\":\"\",\"type\":\"scatter\",\"x\":[0.16424438532773378,0.24636657799160067,0.2956398935899208,0.32848877065546755,0.36133764772101434,0.3941865247865611,0.4270354018521078,0.45988427891765454,0.49273315598320133,0.6569775413109351,1.3139550826218702],\"y\":[2.2569619899245708,1.7304853155541047,1.7304861117086647,1.7304859802561963,1.730484136178282,1.730485322489194,1.7304853201591088,1.730485319802962,1.730485319783761,1.730485318335992,1.7304853228717312]},{\"line\":{\"color\":\"rgba(55, 128, 191, 1.0)\",\"dash\":\"solid\",\"shape\":\"linear\",\"width\":1.3},\"mode\":\"lines\",\"name\":\"Pasta\",\"text\":\"\",\"type\":\"scatter\",\"x\":[0.16424438532773378,0.24636657799160067,0.2956398935899208,0.32848877065546755,0.36133764772101434,0.3941865247865611,0.4270354018521078,0.45988427891765454,0.49273315598320133,0.6569775413109351,1.3139550826218702],\"y\":[2.9380634298859173e-08,7.913881533728773e-11,1.6604331604257086e-06,1.001868762293979e-06,1.3301183042663329e-06,4.840692733356178e-10,1.6791486267436352e-09,3.125836078920664e-09,4.462685887904713e-09,9.325694949812347e-09,3.656330431925098e-11]},{\"line\":{\"color\":\"rgba(50, 171, 96, 1.0)\",\"dash\":\"solid\",\"shape\":\"linear\",\"width\":1.3},\"mode\":\"lines\",\"name\":\"Peanut butter, creamy\",\"text\":\"\",\"type\":\"scatter\",\"x\":[0.16424438532773378,0.24636657799160067,0.2956398935899208,0.32848877065546755,0.36133764772101434,0.3941865247865611,0.4270354018521078,0.45988427891765454,0.49273315598320133,0.6569775413109351,1.3139550826218702],\"y\":[2.336406325818332,2.541607167462704,2.5416060391795705,2.541606427810305,2.541606362050904,2.541607167431466,2.5416071666562265,2.541607165532678,2.54160716443821,2.5416071599377563,2.541607167658235]},{\"line\":{\"color\":\"rgba(128, 0, 128, 1.0)\",\"dash\":\"solid\",\"shape\":\"linear\",\"width\":1.3},\"mode\":\"lines\",\"name\":\"Carrots\",\"text\":\"\",\"type\":\"scatter\",\"x\":[0.16424438532773378,0.24636657799160067,0.2956398935899208,0.32848877065546755,0.36133764772101434,0.3941865247865611,0.4270354018521078,0.45988427891765454,0.49273315598320133,0.6569775413109351,1.3139550826218702],\"y\":[2.467910060055224,8.270637729897662e-12,6.809637169395929e-07,2.459778381161632e-07,2.1164771548455003e-07,6.597101511351521e-11,1.4206206657405382e-10,2.5648600464293405e-10,3.39376194275435e-10,5.090408435099549e-10,2.9830436082767008e-12]},{\"line\":{\"color\":\"rgba(219, 64, 82, 1.0)\",\"dash\":\"solid\",\"shape\":\"linear\",\"width\":1.3},\"mode\":\"lines\",\"name\":\"White bread\",\"text\":\"\",\"type\":\"scatter\",\"x\":[0.16424438532773378,0.24636657799160067,0.2956398935899208,0.32848877065546755,0.36133764772101434,0.3941865247865611,0.4270354018521078,0.45988427891765454,0.49273315598320133,0.6569775413109351,1.3139550826218702],\"y\":[1.1574124439181903,1.0380122878643372,1.038011965893087,1.0380120873450938,1.0380120951672138,1.0380122863943726,1.038012286199962,1.0380122859521153,1.0380122857237066,1.0380122849139488,1.0380122866126227]},{\"line\":{\"color\":\"rgba(0, 128, 128, 1.0)\",\"dash\":\"solid\",\"shape\":\"linear\",\"width\":1.3},\"mode\":\"lines\",\"name\":\"Collards, raw\",\"text\":\"\",\"type\":\"scatter\",\"x\":[0.16424438532773378,0.24636657799160067,0.2956398935899208,0.32848877065546755,0.36133764772101434,0.3941865247865611,0.4270354018521078,0.45988427891765454,0.49273315598320133,0.6569775413109351,1.3139550826218702],\"y\":[0.12798538810709756,0.11543283018582048,0.1154327313610723,0.11543275667216703,0.1154327415293499,0.11543283012287595,0.11543283001816092,0.11543282993987741,0.11543282987027659,0.11543282954022678,0.11543283014807326]},{\"line\":{\"color\":\"rgba(255, 255, 51, 1.0)\",\"dash\":\"solid\",\"shape\":\"linear\",\"width\":1.3},\"mode\":\"lines\",\"name\":\"Carrots, raw\",\"text\":\"\",\"type\":\"scatter\",\"x\":[0.16424438532773378,0.24636657799160067,0.2956398935899208,0.32848877065546755,0.36133764772101434,0.3941865247865611,0.4270354018521078,0.45988427891765454,0.49273315598320133,0.6569775413109351,1.3139550826218702],\"y\":[1.0243725040554372,1.0252150251971155,1.0252203267984172,1.0252189347775353,1.025218689831995,1.0252150239250442,1.0252150269828662,1.0252150294158224,1.0252150315285127,1.0252150399252504,1.0252150236648971]},{\"line\":{\"color\":\"rgba(128, 128, 0, 1.0)\",\"dash\":\"solid\",\"shape\":\"linear\",\"width\":1.3},\"mode\":\"lines\",\"name\":\"Avocado, raw\",\"text\":\"\",\"type\":\"scatter\",\"x\":[0.16424438532773378,0.24636657799160067,0.2956398935899208,0.32848877065546755,0.36133764772101434,0.3941865247865611,0.4270354018521078,0.45988427891765454,0.49273315598320133,0.6569775413109351,1.3139550826218702],\"y\":[1.7892409809029706,2.1388307956548633,2.138830639954806,2.1388305910504797,2.1388312407847776,2.1388307971599794,2.1388307981270662,2.138830799118394,2.1388308000458927,2.1388308043400674,2.1388307965627105]},{\"line\":{\"color\":\"rgba(251, 128, 114, 1.0)\",\"dash\":\"solid\",\"shape\":\"linear\",\"width\":1.3},\"mode\":\"lines\",\"name\":\"Lentils, NFS\",\"text\":\"\",\"type\":\"scatter\",\"x\":[0.16424438532773378,0.24636657799160067,0.2956398935899208,0.32848877065546755,0.36133764772101434,0.3941865247865611,0.4270354018521078,0.45988427891765454,0.49273315598320133,0.6569775413109351,1.3139550826218702],\"y\":[1.7081392470436568e-07,0.8325019360517865,0.8324992225165194,0.8325000402311349,0.8325007153495905,0.8325019328949416,0.8325019321742106,0.8325019305571368,0.8325019289221527,0.8325019224199294,0.8325019331400108]},{\"line\":{\"color\":\"rgba(128, 177, 211, 1.0)\",\"dash\":\"solid\",\"shape\":\"linear\",\"width\":1.3},\"mode\":\"lines\",\"name\":\"Oranges, raw, navels\",\"text\":\"\",\"type\":\"scatter\",\"x\":[0.16424438532773378,0.24636657799160067,0.2956398935899208,0.32848877065546755,0.36133764772101434,0.3941865247865611,0.4270354018521078,0.45988427891765454,0.49273315598320133,0.6569775413109351,1.3139550826218702],\"y\":[0.8237088648059814,0.8227475149764107,0.8227455952256926,0.8227460724451198,0.822745735957752,0.8227475144625112,0.8227475131934224,0.822747510695799,0.8227475082010558,0.8227474982144224,0.8227475151427086]},{\"line\":{\"color\":\"rgba(128, 177, 211, 0.8999999999999999)\",\"dash\":\"solid\",\"shape\":\"linear\",\"width\":1.3},\"mode\":\"lines\",\"name\":\"Nutritional Yeast\",\"text\":\"\",\"type\":\"scatter\",\"x\":[0.16424438532773378,0.24636657799160067,0.2956398935899208,0.32848877065546755,0.36133764772101434,0.3941865247865611,0.4270354018521078,0.45988427891765454,0.49273315598320133,0.6569775413109351,1.3139550826218702],\"y\":[0.01600000156876903,0.01600000001369911,0.016000008585573846,0.01600000591197063,0.016000007292110662,0.016000000003054866,0.01600000000943392,0.01600000001808458,0.01600000002638537,0.01600000005979806,0.016000000000471602]}],                        {\"legend\":{\"bgcolor\":\"#F5F6F9\",\"font\":{\"color\":\"#4D5663\"}},\"paper_bgcolor\":\"#F5F6F9\",\"plot_bgcolor\":\"#F5F6F9\",\"template\":{\"data\":{\"bar\":[{\"error_x\":{\"color\":\"#2a3f5f\"},\"error_y\":{\"color\":\"#2a3f5f\"},\"marker\":{\"line\":{\"color\":\"#E5ECF6\",\"width\":0.5},\"pattern\":{\"fillmode\":\"overlay\",\"size\":10,\"solidity\":0.2}},\"type\":\"bar\"}],\"barpolar\":[{\"marker\":{\"line\":{\"color\":\"#E5ECF6\",\"width\":0.5},\"pattern\":{\"fillmode\":\"overlay\",\"size\":10,\"solidity\":0.2}},\"type\":\"barpolar\"}],\"carpet\":[{\"aaxis\":{\"endlinecolor\":\"#2a3f5f\",\"gridcolor\":\"white\",\"linecolor\":\"white\",\"minorgridcolor\":\"white\",\"startlinecolor\":\"#2a3f5f\"},\"baxis\":{\"endlinecolor\":\"#2a3f5f\",\"gridcolor\":\"white\",\"linecolor\":\"white\",\"minorgridcolor\":\"white\",\"startlinecolor\":\"#2a3f5f\"},\"type\":\"carpet\"}],\"choropleth\":[{\"colorbar\":{\"outlinewidth\":0,\"ticks\":\"\"},\"type\":\"choropleth\"}],\"contour\":[{\"colorbar\":{\"outlinewidth\":0,\"ticks\":\"\"},\"colorscale\":[[0.0,\"#0d0887\"],[0.1111111111111111,\"#46039f\"],[0.2222222222222222,\"#7201a8\"],[0.3333333333333333,\"#9c179e\"],[0.4444444444444444,\"#bd3786\"],[0.5555555555555556,\"#d8576b\"],[0.6666666666666666,\"#ed7953\"],[0.7777777777777778,\"#fb9f3a\"],[0.8888888888888888,\"#fdca26\"],[1.0,\"#f0f921\"]],\"type\":\"contour\"}],\"contourcarpet\":[{\"colorbar\":{\"outlinewidth\":0,\"ticks\":\"\"},\"type\":\"contourcarpet\"}],\"heatmap\":[{\"colorbar\":{\"outlinewidth\":0,\"ticks\":\"\"},\"colorscale\":[[0.0,\"#0d0887\"],[0.1111111111111111,\"#46039f\"],[0.2222222222222222,\"#7201a8\"],[0.3333333333333333,\"#9c179e\"],[0.4444444444444444,\"#bd3786\"],[0.5555555555555556,\"#d8576b\"],[0.6666666666666666,\"#ed7953\"],[0.7777777777777778,\"#fb9f3a\"],[0.8888888888888888,\"#fdca26\"],[1.0,\"#f0f921\"]],\"type\":\"heatmap\"}],\"heatmapgl\":[{\"colorbar\":{\"outlinewidth\":0,\"ticks\":\"\"},\"colorscale\":[[0.0,\"#0d0887\"],[0.1111111111111111,\"#46039f\"],[0.2222222222222222,\"#7201a8\"],[0.3333333333333333,\"#9c179e\"],[0.4444444444444444,\"#bd3786\"],[0.5555555555555556,\"#d8576b\"],[0.6666666666666666,\"#ed7953\"],[0.7777777777777778,\"#fb9f3a\"],[0.8888888888888888,\"#fdca26\"],[1.0,\"#f0f921\"]],\"type\":\"heatmapgl\"}],\"histogram\":[{\"marker\":{\"pattern\":{\"fillmode\":\"overlay\",\"size\":10,\"solidity\":0.2}},\"type\":\"histogram\"}],\"histogram2d\":[{\"colorbar\":{\"outlinewidth\":0,\"ticks\":\"\"},\"colorscale\":[[0.0,\"#0d0887\"],[0.1111111111111111,\"#46039f\"],[0.2222222222222222,\"#7201a8\"],[0.3333333333333333,\"#9c179e\"],[0.4444444444444444,\"#bd3786\"],[0.5555555555555556,\"#d8576b\"],[0.6666666666666666,\"#ed7953\"],[0.7777777777777778,\"#fb9f3a\"],[0.8888888888888888,\"#fdca26\"],[1.0,\"#f0f921\"]],\"type\":\"histogram2d\"}],\"histogram2dcontour\":[{\"colorbar\":{\"outlinewidth\":0,\"ticks\":\"\"},\"colorscale\":[[0.0,\"#0d0887\"],[0.1111111111111111,\"#46039f\"],[0.2222222222222222,\"#7201a8\"],[0.3333333333333333,\"#9c179e\"],[0.4444444444444444,\"#bd3786\"],[0.5555555555555556,\"#d8576b\"],[0.6666666666666666,\"#ed7953\"],[0.7777777777777778,\"#fb9f3a\"],[0.8888888888888888,\"#fdca26\"],[1.0,\"#f0f921\"]],\"type\":\"histogram2dcontour\"}],\"mesh3d\":[{\"colorbar\":{\"outlinewidth\":0,\"ticks\":\"\"},\"type\":\"mesh3d\"}],\"parcoords\":[{\"line\":{\"colorbar\":{\"outlinewidth\":0,\"ticks\":\"\"}},\"type\":\"parcoords\"}],\"pie\":[{\"automargin\":true,\"type\":\"pie\"}],\"scatter\":[{\"marker\":{\"colorbar\":{\"outlinewidth\":0,\"ticks\":\"\"}},\"type\":\"scatter\"}],\"scatter3d\":[{\"line\":{\"colorbar\":{\"outlinewidth\":0,\"ticks\":\"\"}},\"marker\":{\"colorbar\":{\"outlinewidth\":0,\"ticks\":\"\"}},\"type\":\"scatter3d\"}],\"scattercarpet\":[{\"marker\":{\"colorbar\":{\"outlinewidth\":0,\"ticks\":\"\"}},\"type\":\"scattercarpet\"}],\"scattergeo\":[{\"marker\":{\"colorbar\":{\"outlinewidth\":0,\"ticks\":\"\"}},\"type\":\"scattergeo\"}],\"scattergl\":[{\"marker\":{\"colorbar\":{\"outlinewidth\":0,\"ticks\":\"\"}},\"type\":\"scattergl\"}],\"scattermapbox\":[{\"marker\":{\"colorbar\":{\"outlinewidth\":0,\"ticks\":\"\"}},\"type\":\"scattermapbox\"}],\"scatterpolar\":[{\"marker\":{\"colorbar\":{\"outlinewidth\":0,\"ticks\":\"\"}},\"type\":\"scatterpolar\"}],\"scatterpolargl\":[{\"marker\":{\"colorbar\":{\"outlinewidth\":0,\"ticks\":\"\"}},\"type\":\"scatterpolargl\"}],\"scatterternary\":[{\"marker\":{\"colorbar\":{\"outlinewidth\":0,\"ticks\":\"\"}},\"type\":\"scatterternary\"}],\"surface\":[{\"colorbar\":{\"outlinewidth\":0,\"ticks\":\"\"},\"colorscale\":[[0.0,\"#0d0887\"],[0.1111111111111111,\"#46039f\"],[0.2222222222222222,\"#7201a8\"],[0.3333333333333333,\"#9c179e\"],[0.4444444444444444,\"#bd3786\"],[0.5555555555555556,\"#d8576b\"],[0.6666666666666666,\"#ed7953\"],[0.7777777777777778,\"#fb9f3a\"],[0.8888888888888888,\"#fdca26\"],[1.0,\"#f0f921\"]],\"type\":\"surface\"}],\"table\":[{\"cells\":{\"fill\":{\"color\":\"#EBF0F8\"},\"line\":{\"color\":\"white\"}},\"header\":{\"fill\":{\"color\":\"#C8D4E3\"},\"line\":{\"color\":\"white\"}},\"type\":\"table\"}]},\"layout\":{\"annotationdefaults\":{\"arrowcolor\":\"#2a3f5f\",\"arrowhead\":0,\"arrowwidth\":1},\"autotypenumbers\":\"strict\",\"coloraxis\":{\"colorbar\":{\"outlinewidth\":0,\"ticks\":\"\"}},\"colorscale\":{\"diverging\":[[0,\"#8e0152\"],[0.1,\"#c51b7d\"],[0.2,\"#de77ae\"],[0.3,\"#f1b6da\"],[0.4,\"#fde0ef\"],[0.5,\"#f7f7f7\"],[0.6,\"#e6f5d0\"],[0.7,\"#b8e186\"],[0.8,\"#7fbc41\"],[0.9,\"#4d9221\"],[1,\"#276419\"]],\"sequential\":[[0.0,\"#0d0887\"],[0.1111111111111111,\"#46039f\"],[0.2222222222222222,\"#7201a8\"],[0.3333333333333333,\"#9c179e\"],[0.4444444444444444,\"#bd3786\"],[0.5555555555555556,\"#d8576b\"],[0.6666666666666666,\"#ed7953\"],[0.7777777777777778,\"#fb9f3a\"],[0.8888888888888888,\"#fdca26\"],[1.0,\"#f0f921\"]],\"sequentialminus\":[[0.0,\"#0d0887\"],[0.1111111111111111,\"#46039f\"],[0.2222222222222222,\"#7201a8\"],[0.3333333333333333,\"#9c179e\"],[0.4444444444444444,\"#bd3786\"],[0.5555555555555556,\"#d8576b\"],[0.6666666666666666,\"#ed7953\"],[0.7777777777777778,\"#fb9f3a\"],[0.8888888888888888,\"#fdca26\"],[1.0,\"#f0f921\"]]},\"colorway\":[\"#636efa\",\"#EF553B\",\"#00cc96\",\"#ab63fa\",\"#FFA15A\",\"#19d3f3\",\"#FF6692\",\"#B6E880\",\"#FF97FF\",\"#FECB52\"],\"font\":{\"color\":\"#2a3f5f\"},\"geo\":{\"bgcolor\":\"white\",\"lakecolor\":\"white\",\"landcolor\":\"#E5ECF6\",\"showlakes\":true,\"showland\":true,\"subunitcolor\":\"white\"},\"hoverlabel\":{\"align\":\"left\"},\"hovermode\":\"closest\",\"mapbox\":{\"style\":\"light\"},\"paper_bgcolor\":\"white\",\"plot_bgcolor\":\"#E5ECF6\",\"polar\":{\"angularaxis\":{\"gridcolor\":\"white\",\"linecolor\":\"white\",\"ticks\":\"\"},\"bgcolor\":\"#E5ECF6\",\"radialaxis\":{\"gridcolor\":\"white\",\"linecolor\":\"white\",\"ticks\":\"\"}},\"scene\":{\"xaxis\":{\"backgroundcolor\":\"#E5ECF6\",\"gridcolor\":\"white\",\"gridwidth\":2,\"linecolor\":\"white\",\"showbackground\":true,\"ticks\":\"\",\"zerolinecolor\":\"white\"},\"yaxis\":{\"backgroundcolor\":\"#E5ECF6\",\"gridcolor\":\"white\",\"gridwidth\":2,\"linecolor\":\"white\",\"showbackground\":true,\"ticks\":\"\",\"zerolinecolor\":\"white\"},\"zaxis\":{\"backgroundcolor\":\"#E5ECF6\",\"gridcolor\":\"white\",\"gridwidth\":2,\"linecolor\":\"white\",\"showbackground\":true,\"ticks\":\"\",\"zerolinecolor\":\"white\"}},\"shapedefaults\":{\"line\":{\"color\":\"#2a3f5f\"}},\"ternary\":{\"aaxis\":{\"gridcolor\":\"white\",\"linecolor\":\"white\",\"ticks\":\"\"},\"baxis\":{\"gridcolor\":\"white\",\"linecolor\":\"white\",\"ticks\":\"\"},\"bgcolor\":\"#E5ECF6\",\"caxis\":{\"gridcolor\":\"white\",\"linecolor\":\"white\",\"ticks\":\"\"}},\"title\":{\"x\":0.05},\"xaxis\":{\"automargin\":true,\"gridcolor\":\"white\",\"linecolor\":\"white\",\"ticks\":\"\",\"title\":{\"standoff\":15},\"zerolinecolor\":\"white\",\"zerolinewidth\":2},\"yaxis\":{\"automargin\":true,\"gridcolor\":\"white\",\"linecolor\":\"white\",\"ticks\":\"\",\"title\":{\"standoff\":15},\"zerolinecolor\":\"white\",\"zerolinewidth\":2}}},\"title\":{\"font\":{\"color\":\"#4D5663\"},\"text\":\"Carrots Price Changes and Subsistence Diet Composition with Weight Constraint (Raw Vegan)\"},\"xaxis\":{\"gridcolor\":\"#E1E5ED\",\"showgrid\":true,\"tickfont\":{\"color\":\"#4D5663\"},\"title\":{\"font\":{\"color\":\"#4D5663\"},\"text\":\"Carrots Price\"},\"zerolinecolor\":\"#E1E5ED\"},\"yaxis\":{\"gridcolor\":\"#E1E5ED\",\"showgrid\":true,\"tickfont\":{\"color\":\"#4D5663\"},\"title\":{\"font\":{\"color\":\"#4D5663\"},\"text\":\"Hectograms\"},\"zerolinecolor\":\"#E1E5ED\"}},                        {\"showLink\": true, \"linkText\": \"Export to plot.ly\", \"plotlyServerURL\": \"https://plot.ly\", \"responsive\": true}                    ).then(function(){\n",
       "                            \n",
       "var gd = document.getElementById('8c03bd26-61fa-4890-9eba-0f0b641c427d');\n",
       "var x = new MutationObserver(function (mutations, observer) {{\n",
       "        var display = window.getComputedStyle(gd).display;\n",
       "        if (!display || display === 'none') {{\n",
       "            console.log([gd, 'removed!']);\n",
       "            Plotly.purge(gd);\n",
       "            observer.disconnect();\n",
       "        }}\n",
       "}});\n",
       "\n",
       "// Listen for the removal of the full notebook cells\n",
       "var notebookContainer = gd.closest('#notebook-container');\n",
       "if (notebookContainer) {{\n",
       "    x.observe(notebookContainer, {childList: true});\n",
       "}}\n",
       "\n",
       "// Listen for the clearing of the current output cell\n",
       "var outputEl = gd.closest('.output');\n",
       "if (outputEl) {{\n",
       "    x.observe(outputEl, {childList: true});\n",
       "}}\n",
       "\n",
       "                        })                };                });            </script>        </div>"
      ]
     },
     "metadata": {},
     "output_type": "display_data"
    }
   ],
   "source": [
    "Beef_Meat_response_Constraint = getEffectsofPriceChangeGraphConstraint(\"vegan\", \"Carrots\")"
   ]
  },
  {
   "cell_type": "code",
   "execution_count": 132,
   "id": "11adcf9d",
   "metadata": {},
   "outputs": [
    {
     "data": {
      "text/html": [
       "        <script type=\"text/javascript\">\n",
       "        window.PlotlyConfig = {MathJaxConfig: 'local'};\n",
       "        if (window.MathJax) {MathJax.Hub.Config({SVG: {font: \"STIX-Web\"}});}\n",
       "        if (typeof require !== 'undefined') {\n",
       "        require.undef(\"plotly\");\n",
       "        requirejs.config({\n",
       "            paths: {\n",
       "                'plotly': ['https://cdn.plot.ly/plotly-2.3.1.min']\n",
       "            }\n",
       "        });\n",
       "        require(['plotly'], function(Plotly) {\n",
       "            window._Plotly = Plotly;\n",
       "        });\n",
       "        }\n",
       "        </script>\n",
       "        "
      ]
     },
     "metadata": {},
     "output_type": "display_data"
    },
    {
     "data": {
      "application/vnd.plotly.v1+json": {
       "config": {
        "linkText": "Export to plot.ly",
        "plotlyServerURL": "https://plot.ly",
        "showLink": true
       },
       "data": [
        {
         "line": {
          "color": "rgba(255, 153, 51, 1.0)",
          "dash": "solid",
          "shape": "linear",
          "width": 1.3
         },
         "mode": "lines",
         "name": "Raw Liver",
         "text": "",
         "type": "scatter",
         "x": [
          1.4319023928907797,
          2.1478535893361697,
          2.5774243072034033,
          2.8638047857815594,
          3.1501852643597155,
          3.436565742937871,
          3.722946221516027,
          4.009326700094183,
          4.295707178672339,
          5.727609571563119,
          11.455219143126238
         ],
         "y": [
          0.5762801521907609,
          0.5762800739844244,
          0.576280132539487,
          0.5762801573207395,
          0.5762801387188188,
          0.576280137848629,
          0.5762801378455075,
          0.5762801379647075,
          0.5762801380901904,
          0.5762801387748276,
          0.5762801762733187
         ]
        },
        {
         "line": {
          "color": "rgba(55, 128, 191, 1.0)",
          "dash": "solid",
          "shape": "linear",
          "width": 1.3
         },
         "mode": "lines",
         "name": "Whole milk",
         "text": "",
         "type": "scatter",
         "x": [
          1.4319023928907797,
          2.1478535893361697,
          2.5774243072034033,
          2.8638047857815594,
          3.1501852643597155,
          3.436565742937871,
          3.722946221516027,
          4.009326700094183,
          4.295707178672339,
          5.727609571563119,
          11.455219143126238
         ],
         "y": [
          2.369088374585716,
          2.3690882003481546,
          2.369088380169417,
          2.369088382374871,
          2.369088381048865,
          2.369088380999276,
          2.3690883810011205,
          2.3690883810106564,
          2.369088381019376,
          2.3690883810761725,
          2.369088376395733
         ]
        },
        {
         "line": {
          "color": "rgba(50, 171, 96, 1.0)",
          "dash": "solid",
          "shape": "linear",
          "width": 1.3
         },
         "mode": "lines",
         "name": "2% milk",
         "text": "",
         "type": "scatter",
         "x": [
          1.4319023928907797,
          2.1478535893361697,
          2.5774243072034033,
          2.8638047857815594,
          3.1501852643597155,
          3.436565742937871,
          3.722946221516027,
          4.009326700094183,
          4.295707178672339,
          5.727609571563119,
          11.455219143126238
         ],
         "y": [
          2.244439256389041,
          2.244439292198991,
          2.2444393363484108,
          2.244439251882071,
          2.2444393156298577,
          2.244439318652712,
          2.244439318679718,
          2.244439318276404,
          2.244439317851845,
          2.244439315543406,
          2.244439173755284
         ]
        },
        {
         "line": {
          "color": "rgba(128, 0, 128, 1.0)",
          "dash": "solid",
          "shape": "linear",
          "width": 1.3
         },
         "mode": "lines",
         "name": "Peanut butter, creamy",
         "text": "",
         "type": "scatter",
         "x": [
          1.4319023928907797,
          2.1478535893361697,
          2.5774243072034033,
          2.8638047857815594,
          3.1501852643597155,
          3.436565742937871,
          3.722946221516027,
          4.009326700094183,
          4.295707178672339,
          5.727609571563119,
          11.455219143126238
         ],
         "y": [
          1.083893057713858,
          1.0838932281707498,
          1.0838930784653098,
          1.083893047394636,
          1.0838930706282417,
          1.0838930717012152,
          1.0838930717002524,
          1.0838930715525168,
          1.0838930713948802,
          1.0838930705320762,
          1.08389302609808
         ]
        },
        {
         "line": {
          "color": "rgba(219, 64, 82, 1.0)",
          "dash": "solid",
          "shape": "linear",
          "width": 1.3
         },
         "mode": "lines",
         "name": "Collards, raw",
         "text": "",
         "type": "scatter",
         "x": [
          1.4319023928907797,
          2.1478535893361697,
          2.5774243072034033,
          2.8638047857815594,
          3.1501852643597155,
          3.436565742937871,
          3.722946221516027,
          4.009326700094183,
          4.295707178672339,
          5.727609571563119,
          11.455219143126238
         ],
         "y": [
          0.09451631652269422,
          0.09451634291288846,
          0.09451631457097408,
          0.09451631528716505,
          0.09451631470101379,
          0.09451631467030178,
          0.09451631466930203,
          0.09451631467312874,
          0.09451631467705895,
          0.09451631469699548,
          0.09451631688465817
         ]
        },
        {
         "line": {
          "color": "rgba(0, 128, 128, 1.0)",
          "dash": "solid",
          "shape": "linear",
          "width": 1.3
         },
         "mode": "lines",
         "name": "Avocado, raw",
         "text": "",
         "type": "scatter",
         "x": [
          1.4319023928907797,
          2.1478535893361697,
          2.5774243072034033,
          2.8638047857815594,
          3.1501852643597155,
          3.436565742937871,
          3.722946221516027,
          4.009326700094183,
          4.295707178672339,
          5.727609571563119,
          11.455219143126238
         ],
         "y": [
          3.572734476702066,
          3.5727339461897687,
          3.572734523107992,
          3.5727345025296144,
          3.5727345188503343,
          3.572734519701596,
          3.5727345197318763,
          3.572734519631376,
          3.572734519525775,
          3.5727345189773203,
          3.5727344657240407
         ]
        },
        {
         "line": {
          "color": "rgba(255, 255, 51, 1.0)",
          "dash": "solid",
          "shape": "linear",
          "width": 1.3
         },
         "mode": "lines",
         "name": "Lentils, NFS",
         "text": "",
         "type": "scatter",
         "x": [
          1.4319023928907797,
          2.1478535893361697,
          2.5774243072034033,
          2.8638047857815594,
          3.1501852643597155,
          3.436565742937871,
          3.722946221516027,
          4.009326700094183,
          4.295707178672339,
          5.727609571563119,
          11.455219143126238
         ],
         "y": [
          1.3775053748773687,
          1.377505593384108,
          1.377505332948205,
          1.3775053719788823,
          1.3775053419370735,
          1.3775053405065805,
          1.3775053404929134,
          1.3775053406862834,
          1.3775053408900524,
          1.3775053419806356,
          1.3775054107843845
         ]
        },
        {
         "line": {
          "color": "rgba(128, 128, 0, 1.0)",
          "dash": "solid",
          "shape": "linear",
          "width": 1.3
         },
         "mode": "lines",
         "name": "Peppers, bell, green, raw",
         "text": "",
         "type": "scatter",
         "x": [
          1.4319023928907797,
          2.1478535893361697,
          2.5774243072034033,
          2.8638047857815594,
          3.1501852643597155,
          3.436565742937871,
          3.722946221516027,
          4.009326700094183,
          4.295707178672339,
          5.727609571563119,
          11.455219143126238
         ],
         "y": [
          0.5078166186878847,
          0.5078166622155431,
          0.5078166287257124,
          0.5078166230336189,
          0.5078166266615872,
          0.5078166268706372,
          0.5078166268797497,
          0.5078166268587649,
          0.5078166268352814,
          0.5078166267191279,
          0.5078166092735678
         ]
        },
        {
         "line": {
          "color": "rgba(251, 128, 114, 1.0)",
          "dash": "solid",
          "shape": "linear",
          "width": 1.3
         },
         "mode": "lines",
         "name": "Almond milk, unsweetened, plain, refrigerated",
         "text": "",
         "type": "scatter",
         "x": [
          1.4319023928907797,
          2.1478535893361697,
          2.5774243072034033,
          2.8638047857815594,
          3.1501852643597155,
          3.436565742937871,
          3.722946221516027,
          4.009326700094183,
          4.295707178672339,
          5.727609571563119,
          11.455219143126238
         ],
         "y": [
          0.16615774516657097,
          0.16615780480412645,
          0.16615768926257998,
          0.1661577475058501,
          0.1661577032118994,
          0.16615770112176892,
          0.16615770110796194,
          0.16615770138855762,
          0.1661577016851305,
          0.16615770329917853,
          0.1661578005995405
         ]
        },
        {
         "line": {
          "color": "rgba(128, 177, 211, 1.0)",
          "dash": "solid",
          "shape": "linear",
          "width": 1.3
         },
         "mode": "lines",
         "name": "Nutritional Yeast",
         "text": "",
         "type": "scatter",
         "x": [
          1.4319023928907797,
          2.1478535893361697,
          2.5774243072034033,
          2.8638047857815594,
          3.1501852643597155,
          3.436565742937871,
          3.722946221516027,
          4.009326700094183,
          4.295707178672339,
          5.727609571563119,
          11.455219143126238
         ],
         "y": [
          0.0075685816885327035,
          0.0075685819004858235,
          0.007568581589552968,
          0.007568581677321064,
          0.007568581611135803,
          0.007568581607921321,
          0.007568581607869949,
          0.007568581608277026,
          0.007568581608715473,
          0.007568581611077969,
          0.007568581761489183
         ]
        }
       ],
       "layout": {
        "legend": {
         "bgcolor": "#F5F6F9",
         "font": {
          "color": "#4D5663"
         }
        },
        "paper_bgcolor": "#F5F6F9",
        "plot_bgcolor": "#F5F6F9",
        "template": {
         "data": {
          "bar": [
           {
            "error_x": {
             "color": "#2a3f5f"
            },
            "error_y": {
             "color": "#2a3f5f"
            },
            "marker": {
             "line": {
              "color": "#E5ECF6",
              "width": 0.5
             },
             "pattern": {
              "fillmode": "overlay",
              "size": 10,
              "solidity": 0.2
             }
            },
            "type": "bar"
           }
          ],
          "barpolar": [
           {
            "marker": {
             "line": {
              "color": "#E5ECF6",
              "width": 0.5
             },
             "pattern": {
              "fillmode": "overlay",
              "size": 10,
              "solidity": 0.2
             }
            },
            "type": "barpolar"
           }
          ],
          "carpet": [
           {
            "aaxis": {
             "endlinecolor": "#2a3f5f",
             "gridcolor": "white",
             "linecolor": "white",
             "minorgridcolor": "white",
             "startlinecolor": "#2a3f5f"
            },
            "baxis": {
             "endlinecolor": "#2a3f5f",
             "gridcolor": "white",
             "linecolor": "white",
             "minorgridcolor": "white",
             "startlinecolor": "#2a3f5f"
            },
            "type": "carpet"
           }
          ],
          "choropleth": [
           {
            "colorbar": {
             "outlinewidth": 0,
             "ticks": ""
            },
            "type": "choropleth"
           }
          ],
          "contour": [
           {
            "colorbar": {
             "outlinewidth": 0,
             "ticks": ""
            },
            "colorscale": [
             [
              0,
              "#0d0887"
             ],
             [
              0.1111111111111111,
              "#46039f"
             ],
             [
              0.2222222222222222,
              "#7201a8"
             ],
             [
              0.3333333333333333,
              "#9c179e"
             ],
             [
              0.4444444444444444,
              "#bd3786"
             ],
             [
              0.5555555555555556,
              "#d8576b"
             ],
             [
              0.6666666666666666,
              "#ed7953"
             ],
             [
              0.7777777777777778,
              "#fb9f3a"
             ],
             [
              0.8888888888888888,
              "#fdca26"
             ],
             [
              1,
              "#f0f921"
             ]
            ],
            "type": "contour"
           }
          ],
          "contourcarpet": [
           {
            "colorbar": {
             "outlinewidth": 0,
             "ticks": ""
            },
            "type": "contourcarpet"
           }
          ],
          "heatmap": [
           {
            "colorbar": {
             "outlinewidth": 0,
             "ticks": ""
            },
            "colorscale": [
             [
              0,
              "#0d0887"
             ],
             [
              0.1111111111111111,
              "#46039f"
             ],
             [
              0.2222222222222222,
              "#7201a8"
             ],
             [
              0.3333333333333333,
              "#9c179e"
             ],
             [
              0.4444444444444444,
              "#bd3786"
             ],
             [
              0.5555555555555556,
              "#d8576b"
             ],
             [
              0.6666666666666666,
              "#ed7953"
             ],
             [
              0.7777777777777778,
              "#fb9f3a"
             ],
             [
              0.8888888888888888,
              "#fdca26"
             ],
             [
              1,
              "#f0f921"
             ]
            ],
            "type": "heatmap"
           }
          ],
          "heatmapgl": [
           {
            "colorbar": {
             "outlinewidth": 0,
             "ticks": ""
            },
            "colorscale": [
             [
              0,
              "#0d0887"
             ],
             [
              0.1111111111111111,
              "#46039f"
             ],
             [
              0.2222222222222222,
              "#7201a8"
             ],
             [
              0.3333333333333333,
              "#9c179e"
             ],
             [
              0.4444444444444444,
              "#bd3786"
             ],
             [
              0.5555555555555556,
              "#d8576b"
             ],
             [
              0.6666666666666666,
              "#ed7953"
             ],
             [
              0.7777777777777778,
              "#fb9f3a"
             ],
             [
              0.8888888888888888,
              "#fdca26"
             ],
             [
              1,
              "#f0f921"
             ]
            ],
            "type": "heatmapgl"
           }
          ],
          "histogram": [
           {
            "marker": {
             "pattern": {
              "fillmode": "overlay",
              "size": 10,
              "solidity": 0.2
             }
            },
            "type": "histogram"
           }
          ],
          "histogram2d": [
           {
            "colorbar": {
             "outlinewidth": 0,
             "ticks": ""
            },
            "colorscale": [
             [
              0,
              "#0d0887"
             ],
             [
              0.1111111111111111,
              "#46039f"
             ],
             [
              0.2222222222222222,
              "#7201a8"
             ],
             [
              0.3333333333333333,
              "#9c179e"
             ],
             [
              0.4444444444444444,
              "#bd3786"
             ],
             [
              0.5555555555555556,
              "#d8576b"
             ],
             [
              0.6666666666666666,
              "#ed7953"
             ],
             [
              0.7777777777777778,
              "#fb9f3a"
             ],
             [
              0.8888888888888888,
              "#fdca26"
             ],
             [
              1,
              "#f0f921"
             ]
            ],
            "type": "histogram2d"
           }
          ],
          "histogram2dcontour": [
           {
            "colorbar": {
             "outlinewidth": 0,
             "ticks": ""
            },
            "colorscale": [
             [
              0,
              "#0d0887"
             ],
             [
              0.1111111111111111,
              "#46039f"
             ],
             [
              0.2222222222222222,
              "#7201a8"
             ],
             [
              0.3333333333333333,
              "#9c179e"
             ],
             [
              0.4444444444444444,
              "#bd3786"
             ],
             [
              0.5555555555555556,
              "#d8576b"
             ],
             [
              0.6666666666666666,
              "#ed7953"
             ],
             [
              0.7777777777777778,
              "#fb9f3a"
             ],
             [
              0.8888888888888888,
              "#fdca26"
             ],
             [
              1,
              "#f0f921"
             ]
            ],
            "type": "histogram2dcontour"
           }
          ],
          "mesh3d": [
           {
            "colorbar": {
             "outlinewidth": 0,
             "ticks": ""
            },
            "type": "mesh3d"
           }
          ],
          "parcoords": [
           {
            "line": {
             "colorbar": {
              "outlinewidth": 0,
              "ticks": ""
             }
            },
            "type": "parcoords"
           }
          ],
          "pie": [
           {
            "automargin": true,
            "type": "pie"
           }
          ],
          "scatter": [
           {
            "marker": {
             "colorbar": {
              "outlinewidth": 0,
              "ticks": ""
             }
            },
            "type": "scatter"
           }
          ],
          "scatter3d": [
           {
            "line": {
             "colorbar": {
              "outlinewidth": 0,
              "ticks": ""
             }
            },
            "marker": {
             "colorbar": {
              "outlinewidth": 0,
              "ticks": ""
             }
            },
            "type": "scatter3d"
           }
          ],
          "scattercarpet": [
           {
            "marker": {
             "colorbar": {
              "outlinewidth": 0,
              "ticks": ""
             }
            },
            "type": "scattercarpet"
           }
          ],
          "scattergeo": [
           {
            "marker": {
             "colorbar": {
              "outlinewidth": 0,
              "ticks": ""
             }
            },
            "type": "scattergeo"
           }
          ],
          "scattergl": [
           {
            "marker": {
             "colorbar": {
              "outlinewidth": 0,
              "ticks": ""
             }
            },
            "type": "scattergl"
           }
          ],
          "scattermapbox": [
           {
            "marker": {
             "colorbar": {
              "outlinewidth": 0,
              "ticks": ""
             }
            },
            "type": "scattermapbox"
           }
          ],
          "scatterpolar": [
           {
            "marker": {
             "colorbar": {
              "outlinewidth": 0,
              "ticks": ""
             }
            },
            "type": "scatterpolar"
           }
          ],
          "scatterpolargl": [
           {
            "marker": {
             "colorbar": {
              "outlinewidth": 0,
              "ticks": ""
             }
            },
            "type": "scatterpolargl"
           }
          ],
          "scatterternary": [
           {
            "marker": {
             "colorbar": {
              "outlinewidth": 0,
              "ticks": ""
             }
            },
            "type": "scatterternary"
           }
          ],
          "surface": [
           {
            "colorbar": {
             "outlinewidth": 0,
             "ticks": ""
            },
            "colorscale": [
             [
              0,
              "#0d0887"
             ],
             [
              0.1111111111111111,
              "#46039f"
             ],
             [
              0.2222222222222222,
              "#7201a8"
             ],
             [
              0.3333333333333333,
              "#9c179e"
             ],
             [
              0.4444444444444444,
              "#bd3786"
             ],
             [
              0.5555555555555556,
              "#d8576b"
             ],
             [
              0.6666666666666666,
              "#ed7953"
             ],
             [
              0.7777777777777778,
              "#fb9f3a"
             ],
             [
              0.8888888888888888,
              "#fdca26"
             ],
             [
              1,
              "#f0f921"
             ]
            ],
            "type": "surface"
           }
          ],
          "table": [
           {
            "cells": {
             "fill": {
              "color": "#EBF0F8"
             },
             "line": {
              "color": "white"
             }
            },
            "header": {
             "fill": {
              "color": "#C8D4E3"
             },
             "line": {
              "color": "white"
             }
            },
            "type": "table"
           }
          ]
         },
         "layout": {
          "annotationdefaults": {
           "arrowcolor": "#2a3f5f",
           "arrowhead": 0,
           "arrowwidth": 1
          },
          "autotypenumbers": "strict",
          "coloraxis": {
           "colorbar": {
            "outlinewidth": 0,
            "ticks": ""
           }
          },
          "colorscale": {
           "diverging": [
            [
             0,
             "#8e0152"
            ],
            [
             0.1,
             "#c51b7d"
            ],
            [
             0.2,
             "#de77ae"
            ],
            [
             0.3,
             "#f1b6da"
            ],
            [
             0.4,
             "#fde0ef"
            ],
            [
             0.5,
             "#f7f7f7"
            ],
            [
             0.6,
             "#e6f5d0"
            ],
            [
             0.7,
             "#b8e186"
            ],
            [
             0.8,
             "#7fbc41"
            ],
            [
             0.9,
             "#4d9221"
            ],
            [
             1,
             "#276419"
            ]
           ],
           "sequential": [
            [
             0,
             "#0d0887"
            ],
            [
             0.1111111111111111,
             "#46039f"
            ],
            [
             0.2222222222222222,
             "#7201a8"
            ],
            [
             0.3333333333333333,
             "#9c179e"
            ],
            [
             0.4444444444444444,
             "#bd3786"
            ],
            [
             0.5555555555555556,
             "#d8576b"
            ],
            [
             0.6666666666666666,
             "#ed7953"
            ],
            [
             0.7777777777777778,
             "#fb9f3a"
            ],
            [
             0.8888888888888888,
             "#fdca26"
            ],
            [
             1,
             "#f0f921"
            ]
           ],
           "sequentialminus": [
            [
             0,
             "#0d0887"
            ],
            [
             0.1111111111111111,
             "#46039f"
            ],
            [
             0.2222222222222222,
             "#7201a8"
            ],
            [
             0.3333333333333333,
             "#9c179e"
            ],
            [
             0.4444444444444444,
             "#bd3786"
            ],
            [
             0.5555555555555556,
             "#d8576b"
            ],
            [
             0.6666666666666666,
             "#ed7953"
            ],
            [
             0.7777777777777778,
             "#fb9f3a"
            ],
            [
             0.8888888888888888,
             "#fdca26"
            ],
            [
             1,
             "#f0f921"
            ]
           ]
          },
          "colorway": [
           "#636efa",
           "#EF553B",
           "#00cc96",
           "#ab63fa",
           "#FFA15A",
           "#19d3f3",
           "#FF6692",
           "#B6E880",
           "#FF97FF",
           "#FECB52"
          ],
          "font": {
           "color": "#2a3f5f"
          },
          "geo": {
           "bgcolor": "white",
           "lakecolor": "white",
           "landcolor": "#E5ECF6",
           "showlakes": true,
           "showland": true,
           "subunitcolor": "white"
          },
          "hoverlabel": {
           "align": "left"
          },
          "hovermode": "closest",
          "mapbox": {
           "style": "light"
          },
          "paper_bgcolor": "white",
          "plot_bgcolor": "#E5ECF6",
          "polar": {
           "angularaxis": {
            "gridcolor": "white",
            "linecolor": "white",
            "ticks": ""
           },
           "bgcolor": "#E5ECF6",
           "radialaxis": {
            "gridcolor": "white",
            "linecolor": "white",
            "ticks": ""
           }
          },
          "scene": {
           "xaxis": {
            "backgroundcolor": "#E5ECF6",
            "gridcolor": "white",
            "gridwidth": 2,
            "linecolor": "white",
            "showbackground": true,
            "ticks": "",
            "zerolinecolor": "white"
           },
           "yaxis": {
            "backgroundcolor": "#E5ECF6",
            "gridcolor": "white",
            "gridwidth": 2,
            "linecolor": "white",
            "showbackground": true,
            "ticks": "",
            "zerolinecolor": "white"
           },
           "zaxis": {
            "backgroundcolor": "#E5ECF6",
            "gridcolor": "white",
            "gridwidth": 2,
            "linecolor": "white",
            "showbackground": true,
            "ticks": "",
            "zerolinecolor": "white"
           }
          },
          "shapedefaults": {
           "line": {
            "color": "#2a3f5f"
           }
          },
          "ternary": {
           "aaxis": {
            "gridcolor": "white",
            "linecolor": "white",
            "ticks": ""
           },
           "baxis": {
            "gridcolor": "white",
            "linecolor": "white",
            "ticks": ""
           },
           "bgcolor": "#E5ECF6",
           "caxis": {
            "gridcolor": "white",
            "linecolor": "white",
            "ticks": ""
           }
          },
          "title": {
           "x": 0.05
          },
          "xaxis": {
           "automargin": true,
           "gridcolor": "white",
           "linecolor": "white",
           "ticks": "",
           "title": {
            "standoff": 15
           },
           "zerolinecolor": "white",
           "zerolinewidth": 2
          },
          "yaxis": {
           "automargin": true,
           "gridcolor": "white",
           "linecolor": "white",
           "ticks": "",
           "title": {
            "standoff": 15
           },
           "zerolinecolor": "white",
           "zerolinewidth": 2
          }
         }
        },
        "title": {
         "font": {
          "color": "#4D5663"
         },
         "text": "Beef Price Changes and Subsistence Diet Composition with Weight Constraint (USDA)"
        },
        "xaxis": {
         "gridcolor": "#E1E5ED",
         "showgrid": true,
         "tickfont": {
          "color": "#4D5663"
         },
         "title": {
          "font": {
           "color": "#4D5663"
          },
          "text": "Beef Price"
         },
         "zerolinecolor": "#E1E5ED"
        },
        "yaxis": {
         "gridcolor": "#E1E5ED",
         "showgrid": true,
         "tickfont": {
          "color": "#4D5663"
         },
         "title": {
          "font": {
           "color": "#4D5663"
          },
          "text": "Hectograms"
         },
         "zerolinecolor": "#E1E5ED"
        }
       }
      },
      "text/html": [
       "<div>                            <div id=\"f2d86fed-6a2b-4dd2-9be0-f1c31a7f71a8\" class=\"plotly-graph-div\" style=\"height:525px; width:100%;\"></div>            <script type=\"text/javascript\">                require([\"plotly\"], function(Plotly) {                    window.PLOTLYENV=window.PLOTLYENV || {};\n",
       "                    window.PLOTLYENV.BASE_URL='https://plot.ly';                                    if (document.getElementById(\"f2d86fed-6a2b-4dd2-9be0-f1c31a7f71a8\")) {                    Plotly.newPlot(                        \"f2d86fed-6a2b-4dd2-9be0-f1c31a7f71a8\",                        [{\"line\":{\"color\":\"rgba(255, 153, 51, 1.0)\",\"dash\":\"solid\",\"shape\":\"linear\",\"width\":1.3},\"mode\":\"lines\",\"name\":\"Raw Liver\",\"text\":\"\",\"type\":\"scatter\",\"x\":[1.4319023928907797,2.1478535893361697,2.5774243072034033,2.8638047857815594,3.1501852643597155,3.436565742937871,3.722946221516027,4.009326700094183,4.295707178672339,5.727609571563119,11.455219143126238],\"y\":[0.5762801521907609,0.5762800739844244,0.576280132539487,0.5762801573207395,0.5762801387188188,0.576280137848629,0.5762801378455075,0.5762801379647075,0.5762801380901904,0.5762801387748276,0.5762801762733187]},{\"line\":{\"color\":\"rgba(55, 128, 191, 1.0)\",\"dash\":\"solid\",\"shape\":\"linear\",\"width\":1.3},\"mode\":\"lines\",\"name\":\"Whole milk\",\"text\":\"\",\"type\":\"scatter\",\"x\":[1.4319023928907797,2.1478535893361697,2.5774243072034033,2.8638047857815594,3.1501852643597155,3.436565742937871,3.722946221516027,4.009326700094183,4.295707178672339,5.727609571563119,11.455219143126238],\"y\":[2.369088374585716,2.3690882003481546,2.369088380169417,2.369088382374871,2.369088381048865,2.369088380999276,2.3690883810011205,2.3690883810106564,2.369088381019376,2.3690883810761725,2.369088376395733]},{\"line\":{\"color\":\"rgba(50, 171, 96, 1.0)\",\"dash\":\"solid\",\"shape\":\"linear\",\"width\":1.3},\"mode\":\"lines\",\"name\":\"2% milk\",\"text\":\"\",\"type\":\"scatter\",\"x\":[1.4319023928907797,2.1478535893361697,2.5774243072034033,2.8638047857815594,3.1501852643597155,3.436565742937871,3.722946221516027,4.009326700094183,4.295707178672339,5.727609571563119,11.455219143126238],\"y\":[2.244439256389041,2.244439292198991,2.2444393363484108,2.244439251882071,2.2444393156298577,2.244439318652712,2.244439318679718,2.244439318276404,2.244439317851845,2.244439315543406,2.244439173755284]},{\"line\":{\"color\":\"rgba(128, 0, 128, 1.0)\",\"dash\":\"solid\",\"shape\":\"linear\",\"width\":1.3},\"mode\":\"lines\",\"name\":\"Peanut butter, creamy\",\"text\":\"\",\"type\":\"scatter\",\"x\":[1.4319023928907797,2.1478535893361697,2.5774243072034033,2.8638047857815594,3.1501852643597155,3.436565742937871,3.722946221516027,4.009326700094183,4.295707178672339,5.727609571563119,11.455219143126238],\"y\":[1.083893057713858,1.0838932281707498,1.0838930784653098,1.083893047394636,1.0838930706282417,1.0838930717012152,1.0838930717002524,1.0838930715525168,1.0838930713948802,1.0838930705320762,1.08389302609808]},{\"line\":{\"color\":\"rgba(219, 64, 82, 1.0)\",\"dash\":\"solid\",\"shape\":\"linear\",\"width\":1.3},\"mode\":\"lines\",\"name\":\"Collards, raw\",\"text\":\"\",\"type\":\"scatter\",\"x\":[1.4319023928907797,2.1478535893361697,2.5774243072034033,2.8638047857815594,3.1501852643597155,3.436565742937871,3.722946221516027,4.009326700094183,4.295707178672339,5.727609571563119,11.455219143126238],\"y\":[0.09451631652269422,0.09451634291288846,0.09451631457097408,0.09451631528716505,0.09451631470101379,0.09451631467030178,0.09451631466930203,0.09451631467312874,0.09451631467705895,0.09451631469699548,0.09451631688465817]},{\"line\":{\"color\":\"rgba(0, 128, 128, 1.0)\",\"dash\":\"solid\",\"shape\":\"linear\",\"width\":1.3},\"mode\":\"lines\",\"name\":\"Avocado, raw\",\"text\":\"\",\"type\":\"scatter\",\"x\":[1.4319023928907797,2.1478535893361697,2.5774243072034033,2.8638047857815594,3.1501852643597155,3.436565742937871,3.722946221516027,4.009326700094183,4.295707178672339,5.727609571563119,11.455219143126238],\"y\":[3.572734476702066,3.5727339461897687,3.572734523107992,3.5727345025296144,3.5727345188503343,3.572734519701596,3.5727345197318763,3.572734519631376,3.572734519525775,3.5727345189773203,3.5727344657240407]},{\"line\":{\"color\":\"rgba(255, 255, 51, 1.0)\",\"dash\":\"solid\",\"shape\":\"linear\",\"width\":1.3},\"mode\":\"lines\",\"name\":\"Lentils, NFS\",\"text\":\"\",\"type\":\"scatter\",\"x\":[1.4319023928907797,2.1478535893361697,2.5774243072034033,2.8638047857815594,3.1501852643597155,3.436565742937871,3.722946221516027,4.009326700094183,4.295707178672339,5.727609571563119,11.455219143126238],\"y\":[1.3775053748773687,1.377505593384108,1.377505332948205,1.3775053719788823,1.3775053419370735,1.3775053405065805,1.3775053404929134,1.3775053406862834,1.3775053408900524,1.3775053419806356,1.3775054107843845]},{\"line\":{\"color\":\"rgba(128, 128, 0, 1.0)\",\"dash\":\"solid\",\"shape\":\"linear\",\"width\":1.3},\"mode\":\"lines\",\"name\":\"Peppers, bell, green, raw\",\"text\":\"\",\"type\":\"scatter\",\"x\":[1.4319023928907797,2.1478535893361697,2.5774243072034033,2.8638047857815594,3.1501852643597155,3.436565742937871,3.722946221516027,4.009326700094183,4.295707178672339,5.727609571563119,11.455219143126238],\"y\":[0.5078166186878847,0.5078166622155431,0.5078166287257124,0.5078166230336189,0.5078166266615872,0.5078166268706372,0.5078166268797497,0.5078166268587649,0.5078166268352814,0.5078166267191279,0.5078166092735678]},{\"line\":{\"color\":\"rgba(251, 128, 114, 1.0)\",\"dash\":\"solid\",\"shape\":\"linear\",\"width\":1.3},\"mode\":\"lines\",\"name\":\"Almond milk, unsweetened, plain, refrigerated\",\"text\":\"\",\"type\":\"scatter\",\"x\":[1.4319023928907797,2.1478535893361697,2.5774243072034033,2.8638047857815594,3.1501852643597155,3.436565742937871,3.722946221516027,4.009326700094183,4.295707178672339,5.727609571563119,11.455219143126238],\"y\":[0.16615774516657097,0.16615780480412645,0.16615768926257998,0.1661577475058501,0.1661577032118994,0.16615770112176892,0.16615770110796194,0.16615770138855762,0.1661577016851305,0.16615770329917853,0.1661578005995405]},{\"line\":{\"color\":\"rgba(128, 177, 211, 1.0)\",\"dash\":\"solid\",\"shape\":\"linear\",\"width\":1.3},\"mode\":\"lines\",\"name\":\"Nutritional Yeast\",\"text\":\"\",\"type\":\"scatter\",\"x\":[1.4319023928907797,2.1478535893361697,2.5774243072034033,2.8638047857815594,3.1501852643597155,3.436565742937871,3.722946221516027,4.009326700094183,4.295707178672339,5.727609571563119,11.455219143126238],\"y\":[0.0075685816885327035,0.0075685819004858235,0.007568581589552968,0.007568581677321064,0.007568581611135803,0.007568581607921321,0.007568581607869949,0.007568581608277026,0.007568581608715473,0.007568581611077969,0.007568581761489183]}],                        {\"legend\":{\"bgcolor\":\"#F5F6F9\",\"font\":{\"color\":\"#4D5663\"}},\"paper_bgcolor\":\"#F5F6F9\",\"plot_bgcolor\":\"#F5F6F9\",\"template\":{\"data\":{\"bar\":[{\"error_x\":{\"color\":\"#2a3f5f\"},\"error_y\":{\"color\":\"#2a3f5f\"},\"marker\":{\"line\":{\"color\":\"#E5ECF6\",\"width\":0.5},\"pattern\":{\"fillmode\":\"overlay\",\"size\":10,\"solidity\":0.2}},\"type\":\"bar\"}],\"barpolar\":[{\"marker\":{\"line\":{\"color\":\"#E5ECF6\",\"width\":0.5},\"pattern\":{\"fillmode\":\"overlay\",\"size\":10,\"solidity\":0.2}},\"type\":\"barpolar\"}],\"carpet\":[{\"aaxis\":{\"endlinecolor\":\"#2a3f5f\",\"gridcolor\":\"white\",\"linecolor\":\"white\",\"minorgridcolor\":\"white\",\"startlinecolor\":\"#2a3f5f\"},\"baxis\":{\"endlinecolor\":\"#2a3f5f\",\"gridcolor\":\"white\",\"linecolor\":\"white\",\"minorgridcolor\":\"white\",\"startlinecolor\":\"#2a3f5f\"},\"type\":\"carpet\"}],\"choropleth\":[{\"colorbar\":{\"outlinewidth\":0,\"ticks\":\"\"},\"type\":\"choropleth\"}],\"contour\":[{\"colorbar\":{\"outlinewidth\":0,\"ticks\":\"\"},\"colorscale\":[[0.0,\"#0d0887\"],[0.1111111111111111,\"#46039f\"],[0.2222222222222222,\"#7201a8\"],[0.3333333333333333,\"#9c179e\"],[0.4444444444444444,\"#bd3786\"],[0.5555555555555556,\"#d8576b\"],[0.6666666666666666,\"#ed7953\"],[0.7777777777777778,\"#fb9f3a\"],[0.8888888888888888,\"#fdca26\"],[1.0,\"#f0f921\"]],\"type\":\"contour\"}],\"contourcarpet\":[{\"colorbar\":{\"outlinewidth\":0,\"ticks\":\"\"},\"type\":\"contourcarpet\"}],\"heatmap\":[{\"colorbar\":{\"outlinewidth\":0,\"ticks\":\"\"},\"colorscale\":[[0.0,\"#0d0887\"],[0.1111111111111111,\"#46039f\"],[0.2222222222222222,\"#7201a8\"],[0.3333333333333333,\"#9c179e\"],[0.4444444444444444,\"#bd3786\"],[0.5555555555555556,\"#d8576b\"],[0.6666666666666666,\"#ed7953\"],[0.7777777777777778,\"#fb9f3a\"],[0.8888888888888888,\"#fdca26\"],[1.0,\"#f0f921\"]],\"type\":\"heatmap\"}],\"heatmapgl\":[{\"colorbar\":{\"outlinewidth\":0,\"ticks\":\"\"},\"colorscale\":[[0.0,\"#0d0887\"],[0.1111111111111111,\"#46039f\"],[0.2222222222222222,\"#7201a8\"],[0.3333333333333333,\"#9c179e\"],[0.4444444444444444,\"#bd3786\"],[0.5555555555555556,\"#d8576b\"],[0.6666666666666666,\"#ed7953\"],[0.7777777777777778,\"#fb9f3a\"],[0.8888888888888888,\"#fdca26\"],[1.0,\"#f0f921\"]],\"type\":\"heatmapgl\"}],\"histogram\":[{\"marker\":{\"pattern\":{\"fillmode\":\"overlay\",\"size\":10,\"solidity\":0.2}},\"type\":\"histogram\"}],\"histogram2d\":[{\"colorbar\":{\"outlinewidth\":0,\"ticks\":\"\"},\"colorscale\":[[0.0,\"#0d0887\"],[0.1111111111111111,\"#46039f\"],[0.2222222222222222,\"#7201a8\"],[0.3333333333333333,\"#9c179e\"],[0.4444444444444444,\"#bd3786\"],[0.5555555555555556,\"#d8576b\"],[0.6666666666666666,\"#ed7953\"],[0.7777777777777778,\"#fb9f3a\"],[0.8888888888888888,\"#fdca26\"],[1.0,\"#f0f921\"]],\"type\":\"histogram2d\"}],\"histogram2dcontour\":[{\"colorbar\":{\"outlinewidth\":0,\"ticks\":\"\"},\"colorscale\":[[0.0,\"#0d0887\"],[0.1111111111111111,\"#46039f\"],[0.2222222222222222,\"#7201a8\"],[0.3333333333333333,\"#9c179e\"],[0.4444444444444444,\"#bd3786\"],[0.5555555555555556,\"#d8576b\"],[0.6666666666666666,\"#ed7953\"],[0.7777777777777778,\"#fb9f3a\"],[0.8888888888888888,\"#fdca26\"],[1.0,\"#f0f921\"]],\"type\":\"histogram2dcontour\"}],\"mesh3d\":[{\"colorbar\":{\"outlinewidth\":0,\"ticks\":\"\"},\"type\":\"mesh3d\"}],\"parcoords\":[{\"line\":{\"colorbar\":{\"outlinewidth\":0,\"ticks\":\"\"}},\"type\":\"parcoords\"}],\"pie\":[{\"automargin\":true,\"type\":\"pie\"}],\"scatter\":[{\"marker\":{\"colorbar\":{\"outlinewidth\":0,\"ticks\":\"\"}},\"type\":\"scatter\"}],\"scatter3d\":[{\"line\":{\"colorbar\":{\"outlinewidth\":0,\"ticks\":\"\"}},\"marker\":{\"colorbar\":{\"outlinewidth\":0,\"ticks\":\"\"}},\"type\":\"scatter3d\"}],\"scattercarpet\":[{\"marker\":{\"colorbar\":{\"outlinewidth\":0,\"ticks\":\"\"}},\"type\":\"scattercarpet\"}],\"scattergeo\":[{\"marker\":{\"colorbar\":{\"outlinewidth\":0,\"ticks\":\"\"}},\"type\":\"scattergeo\"}],\"scattergl\":[{\"marker\":{\"colorbar\":{\"outlinewidth\":0,\"ticks\":\"\"}},\"type\":\"scattergl\"}],\"scattermapbox\":[{\"marker\":{\"colorbar\":{\"outlinewidth\":0,\"ticks\":\"\"}},\"type\":\"scattermapbox\"}],\"scatterpolar\":[{\"marker\":{\"colorbar\":{\"outlinewidth\":0,\"ticks\":\"\"}},\"type\":\"scatterpolar\"}],\"scatterpolargl\":[{\"marker\":{\"colorbar\":{\"outlinewidth\":0,\"ticks\":\"\"}},\"type\":\"scatterpolargl\"}],\"scatterternary\":[{\"marker\":{\"colorbar\":{\"outlinewidth\":0,\"ticks\":\"\"}},\"type\":\"scatterternary\"}],\"surface\":[{\"colorbar\":{\"outlinewidth\":0,\"ticks\":\"\"},\"colorscale\":[[0.0,\"#0d0887\"],[0.1111111111111111,\"#46039f\"],[0.2222222222222222,\"#7201a8\"],[0.3333333333333333,\"#9c179e\"],[0.4444444444444444,\"#bd3786\"],[0.5555555555555556,\"#d8576b\"],[0.6666666666666666,\"#ed7953\"],[0.7777777777777778,\"#fb9f3a\"],[0.8888888888888888,\"#fdca26\"],[1.0,\"#f0f921\"]],\"type\":\"surface\"}],\"table\":[{\"cells\":{\"fill\":{\"color\":\"#EBF0F8\"},\"line\":{\"color\":\"white\"}},\"header\":{\"fill\":{\"color\":\"#C8D4E3\"},\"line\":{\"color\":\"white\"}},\"type\":\"table\"}]},\"layout\":{\"annotationdefaults\":{\"arrowcolor\":\"#2a3f5f\",\"arrowhead\":0,\"arrowwidth\":1},\"autotypenumbers\":\"strict\",\"coloraxis\":{\"colorbar\":{\"outlinewidth\":0,\"ticks\":\"\"}},\"colorscale\":{\"diverging\":[[0,\"#8e0152\"],[0.1,\"#c51b7d\"],[0.2,\"#de77ae\"],[0.3,\"#f1b6da\"],[0.4,\"#fde0ef\"],[0.5,\"#f7f7f7\"],[0.6,\"#e6f5d0\"],[0.7,\"#b8e186\"],[0.8,\"#7fbc41\"],[0.9,\"#4d9221\"],[1,\"#276419\"]],\"sequential\":[[0.0,\"#0d0887\"],[0.1111111111111111,\"#46039f\"],[0.2222222222222222,\"#7201a8\"],[0.3333333333333333,\"#9c179e\"],[0.4444444444444444,\"#bd3786\"],[0.5555555555555556,\"#d8576b\"],[0.6666666666666666,\"#ed7953\"],[0.7777777777777778,\"#fb9f3a\"],[0.8888888888888888,\"#fdca26\"],[1.0,\"#f0f921\"]],\"sequentialminus\":[[0.0,\"#0d0887\"],[0.1111111111111111,\"#46039f\"],[0.2222222222222222,\"#7201a8\"],[0.3333333333333333,\"#9c179e\"],[0.4444444444444444,\"#bd3786\"],[0.5555555555555556,\"#d8576b\"],[0.6666666666666666,\"#ed7953\"],[0.7777777777777778,\"#fb9f3a\"],[0.8888888888888888,\"#fdca26\"],[1.0,\"#f0f921\"]]},\"colorway\":[\"#636efa\",\"#EF553B\",\"#00cc96\",\"#ab63fa\",\"#FFA15A\",\"#19d3f3\",\"#FF6692\",\"#B6E880\",\"#FF97FF\",\"#FECB52\"],\"font\":{\"color\":\"#2a3f5f\"},\"geo\":{\"bgcolor\":\"white\",\"lakecolor\":\"white\",\"landcolor\":\"#E5ECF6\",\"showlakes\":true,\"showland\":true,\"subunitcolor\":\"white\"},\"hoverlabel\":{\"align\":\"left\"},\"hovermode\":\"closest\",\"mapbox\":{\"style\":\"light\"},\"paper_bgcolor\":\"white\",\"plot_bgcolor\":\"#E5ECF6\",\"polar\":{\"angularaxis\":{\"gridcolor\":\"white\",\"linecolor\":\"white\",\"ticks\":\"\"},\"bgcolor\":\"#E5ECF6\",\"radialaxis\":{\"gridcolor\":\"white\",\"linecolor\":\"white\",\"ticks\":\"\"}},\"scene\":{\"xaxis\":{\"backgroundcolor\":\"#E5ECF6\",\"gridcolor\":\"white\",\"gridwidth\":2,\"linecolor\":\"white\",\"showbackground\":true,\"ticks\":\"\",\"zerolinecolor\":\"white\"},\"yaxis\":{\"backgroundcolor\":\"#E5ECF6\",\"gridcolor\":\"white\",\"gridwidth\":2,\"linecolor\":\"white\",\"showbackground\":true,\"ticks\":\"\",\"zerolinecolor\":\"white\"},\"zaxis\":{\"backgroundcolor\":\"#E5ECF6\",\"gridcolor\":\"white\",\"gridwidth\":2,\"linecolor\":\"white\",\"showbackground\":true,\"ticks\":\"\",\"zerolinecolor\":\"white\"}},\"shapedefaults\":{\"line\":{\"color\":\"#2a3f5f\"}},\"ternary\":{\"aaxis\":{\"gridcolor\":\"white\",\"linecolor\":\"white\",\"ticks\":\"\"},\"baxis\":{\"gridcolor\":\"white\",\"linecolor\":\"white\",\"ticks\":\"\"},\"bgcolor\":\"#E5ECF6\",\"caxis\":{\"gridcolor\":\"white\",\"linecolor\":\"white\",\"ticks\":\"\"}},\"title\":{\"x\":0.05},\"xaxis\":{\"automargin\":true,\"gridcolor\":\"white\",\"linecolor\":\"white\",\"ticks\":\"\",\"title\":{\"standoff\":15},\"zerolinecolor\":\"white\",\"zerolinewidth\":2},\"yaxis\":{\"automargin\":true,\"gridcolor\":\"white\",\"linecolor\":\"white\",\"ticks\":\"\",\"title\":{\"standoff\":15},\"zerolinecolor\":\"white\",\"zerolinewidth\":2}}},\"title\":{\"font\":{\"color\":\"#4D5663\"},\"text\":\"Beef Price Changes and Subsistence Diet Composition with Weight Constraint (USDA)\"},\"xaxis\":{\"gridcolor\":\"#E1E5ED\",\"showgrid\":true,\"tickfont\":{\"color\":\"#4D5663\"},\"title\":{\"font\":{\"color\":\"#4D5663\"},\"text\":\"Beef Price\"},\"zerolinecolor\":\"#E1E5ED\"},\"yaxis\":{\"gridcolor\":\"#E1E5ED\",\"showgrid\":true,\"tickfont\":{\"color\":\"#4D5663\"},\"title\":{\"font\":{\"color\":\"#4D5663\"},\"text\":\"Hectograms\"},\"zerolinecolor\":\"#E1E5ED\"}},                        {\"showLink\": true, \"linkText\": \"Export to plot.ly\", \"plotlyServerURL\": \"https://plot.ly\", \"responsive\": true}                    ).then(function(){\n",
       "                            \n",
       "var gd = document.getElementById('f2d86fed-6a2b-4dd2-9be0-f1c31a7f71a8');\n",
       "var x = new MutationObserver(function (mutations, observer) {{\n",
       "        var display = window.getComputedStyle(gd).display;\n",
       "        if (!display || display === 'none') {{\n",
       "            console.log([gd, 'removed!']);\n",
       "            Plotly.purge(gd);\n",
       "            observer.disconnect();\n",
       "        }}\n",
       "}});\n",
       "\n",
       "// Listen for the removal of the full notebook cells\n",
       "var notebookContainer = gd.closest('#notebook-container');\n",
       "if (notebookContainer) {{\n",
       "    x.observe(notebookContainer, {childList: true});\n",
       "}}\n",
       "\n",
       "// Listen for the clearing of the current output cell\n",
       "var outputEl = gd.closest('.output');\n",
       "if (outputEl) {{\n",
       "    x.observe(outputEl, {childList: true});\n",
       "}}\n",
       "\n",
       "                        })                };                });            </script>        </div>"
      ]
     },
     "metadata": {},
     "output_type": "display_data"
    }
   ],
   "source": [
    "Beef_Meat_response_Constraint = getEffectsofPriceChangeGraphConstraint(\"usda\", \"Beef\")"
   ]
  }
 ],
 "metadata": {
  "kernelspec": {
   "display_name": "Python 3 (ipykernel)",
   "language": "python",
   "name": "python3"
  },
  "language_info": {
   "codemirror_mode": {
    "name": "ipython",
    "version": 3
   },
   "file_extension": ".py",
   "mimetype": "text/x-python",
   "name": "python",
   "nbconvert_exporter": "python",
   "pygments_lexer": "ipython3",
   "version": "3.9.15"
  }
 },
 "nbformat": 4,
 "nbformat_minor": 5
}
